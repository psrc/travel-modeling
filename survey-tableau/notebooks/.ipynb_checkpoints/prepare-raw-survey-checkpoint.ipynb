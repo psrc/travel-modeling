{
 "cells": [
  {
   "cell_type": "code",
   "execution_count": 55,
   "metadata": {
    "collapsed": true
   },
   "outputs": [],
   "source": [
    "import pandas as pd\n",
    "import numpy as np\n",
    "import os"
   ]
  },
  {
   "cell_type": "code",
   "execution_count": null,
   "metadata": {
    "collapsed": true
   },
   "outputs": [],
   "source": [
    "# starting from 2014 survey, results should be mostly consistent across years\n",
    "# some changes may be required to align surveys in the future"
   ]
  },
  {
   "cell_type": "code",
   "execution_count": 8,
   "metadata": {},
   "outputs": [],
   "source": [
    "# Stack survey files\n",
    "dir14 = r'J:\\Projects\\Surveys\\HHTravel\\Survey2014\\Data\\Final database\\Release 4'\n",
    "fname14 = '2014-pr3-M-hhsurvey-trips-LINKED.xlsx'\n",
    "sheetname14 = 'Linked trips'\n",
    "\n",
    "dir15 = r'J:\\Projects\\Surveys\\HHTravel\\Survey2015\\Data\\Final database\\Release 2'\n",
    "fname15 = '2015-pr2-M-hhsurvey-trips-LINKED.xlsx'\n",
    "sheetname15 = 'TripData'\n",
    "\n",
    "# Trip files\n",
    "trip_dict = {'2014': pd.read_excel(os.path.join(dir14, fname14),\n",
    "                  sheetname=sheetname14),\n",
    "            '2015': pd.read_excel(os.path.join(dir15, fname15),\n",
    "                  sheetname=sheetname15)\n",
    "            }"
   ]
  },
  {
   "cell_type": "code",
   "execution_count": 51,
   "metadata": {},
   "outputs": [],
   "source": [
    "df14 = pd.read_excel(os.path.join(dir14, fname14),\n",
    "                  sheetname=sheetname14)\n",
    "df15 = pd.read_excel(os.path.join(dir15, fname15),\n",
    "                  sheetname=sheetname15)"
   ]
  },
  {
   "cell_type": "code",
   "execution_count": 61,
   "metadata": {},
   "outputs": [
    {
     "data": {
      "text/plain": [
       "Index([u'time_start_past', u'time_end_past', u'triptype', u'mode2', u'mode3',\n",
       "       u'mmode', u'time_cat', u'time_day', u'mtime', u'mtime_cat',\n",
       "       u'mtime_day', u'distcat', u'dataset', u'o_tract', u'o_bg', u'o_block',\n",
       "       u'o_pumace10', u'o_taz10', u'o_rgc_name', u'd_tract', u'd_bg',\n",
       "       u'd_block', u'd_pumace10', u'd_taz10', u'd_rgc_name', u'o_parcelID_0',\n",
       "       u'd_parcelID_0', u'o_PIN10', u'o_PSRCPIN10', u'd_PIN10',\n",
       "       u'd_PSRCPIN10'],\n",
       "      dtype='object')"
      ]
     },
     "execution_count": 61,
     "metadata": {},
     "output_type": "execute_result"
    }
   ],
   "source": [
    "# List of unshared column names\n",
    "df14.columns[-df14.columns.isin(df15.columns)]"
   ]
  },
  {
   "cell_type": "code",
   "execution_count": 62,
   "metadata": {},
   "outputs": [
    {
     "data": {
      "text/plain": [
       "Index([u'bikeshare', u'transitsystem5', u'transitline5'], dtype='object')"
      ]
     },
     "execution_count": 62,
     "metadata": {},
     "output_type": "execute_result"
    }
   ],
   "source": [
    "df15.columns[-df15.columns.isin(df14.columns)]"
   ]
  },
  {
   "cell_type": "code",
   "execution_count": 54,
   "metadata": {},
   "outputs": [],
   "source": [
    "# Some columns should be renamed to match\n",
    "df15.rename(columns={'tottrip':'total_trip',\n",
    "                    'loc_type':'location_type',\n",
    "                    'cnty_start':'ocnty',\n",
    "                    'city_start':'ocity',\n",
    "                    'zip_start':'ozip',\n",
    "                    'state_start':'ostate',\n",
    "                    'cnty_end':'dcnty',\n",
    "                    'city_end':'dcity',\n",
    "                    'zip_end':'dzip',\n",
    "                    'state_end':'dstate',\n",
    "                    'expwt_h1415':'expwt_final'}, inplace=True)"
   ]
  },
  {
   "cell_type": "code",
   "execution_count": 63,
   "metadata": {},
   "outputs": [],
   "source": [
    "# we may want to keep some columns that didn't exist in older surveys\n",
    "# create an empty column as a placeholder\n",
    "for col in ['park_loc_cnty','park_loc_address','park_loc_city','park_loc_zip','park_loc_st','park_lat','park_lng',\n",
    "            'park_loc_dur','park_loc_dis','bikeshare']:\n",
    "    df14[col] = np.NaN"
   ]
  },
  {
   "cell_type": "code",
   "execution_count": 64,
   "metadata": {
    "collapsed": true
   },
   "outputs": [],
   "source": [
    "# Make sure data dictionaries match\n",
    "# May need crosswalk in future if changes are made\n",
    "# assuming consistency for now"
   ]
  },
  {
   "cell_type": "code",
   "execution_count": 65,
   "metadata": {},
   "outputs": [],
   "source": [
    "# Select shared columns only\n",
    "# df14 = df14.loc[:,df14.columns[df14.columns.isin(df15.columns)]]\n",
    "# df15 = df15.loc[:,df15.columns[df15.columns.isin(df14.columns)]]"
   ]
  },
  {
   "cell_type": "code",
   "execution_count": 68,
   "metadata": {},
   "outputs": [],
   "source": [
    "df = df14.append(df15)"
   ]
  },
  {
   "cell_type": "code",
   "execution_count": 72,
   "metadata": {},
   "outputs": [],
   "source": [
    "df.to_excel(r'J:\\Projects\\Surveys\\HHTravel\\tableau\\raw-survey-format\\trip.xlsx',\n",
    "            sheetname='data', index=False)"
   ]
  },
  {
   "cell_type": "code",
   "execution_count": null,
   "metadata": {
    "collapsed": true
   },
   "outputs": [],
   "source": []
  }
 ],
 "metadata": {
  "kernelspec": {
   "display_name": "Python 2",
   "language": "python",
   "name": "python2"
  },
  "language_info": {
   "codemirror_mode": {
    "name": "ipython",
    "version": 2
   },
   "file_extension": ".py",
   "mimetype": "text/x-python",
   "name": "python",
   "nbconvert_exporter": "python",
   "pygments_lexer": "ipython2",
   "version": "2.7.13"
  }
 },
 "nbformat": 4,
 "nbformat_minor": 2
}
