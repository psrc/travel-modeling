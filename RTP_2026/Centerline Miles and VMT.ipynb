{
 "cells": [
  {
   "cell_type": "code",
   "execution_count": 3,
   "id": "88c18eae",
   "metadata": {},
   "outputs": [
    {
     "name": "stderr",
     "output_type": "stream",
     "text": [
      "c:\\Users\\Modeller\\AppData\\Local\\anaconda3\\envs\\summary\\lib\\site-packages\\geopandas\\_compat.py:115: UserWarning: The Shapely GEOS version (3.11.4-CAPI-1.17.4) is incompatible with the GEOS version PyGEOS was compiled with (3.10.4-CAPI-1.16.2). Conversions between both will be slow.\n",
      "  shapely_geos_version, geos_capi_version_string\n"
     ]
    }
   ],
   "source": [
    "import geopandas as gpd\n",
    "import pandas as pd"
   ]
  },
  {
   "cell_type": "code",
   "execution_count": 4,
   "id": "915826b9",
   "metadata": {},
   "outputs": [],
   "source": [
    "gdf = gpd.read_file(r\"C:\\Users\\Modeller\\OneDrive - Puget Sound Regional Council\\GIS - RTP_2026\\centerlines\\TransRefEdges_032825.gdb\", layer='TransRefEdges')"
   ]
  },
  {
   "cell_type": "code",
   "execution_count": 18,
   "id": "3e5af9f3",
   "metadata": {},
   "outputs": [],
   "source": [
    "gdf[gdf['FacilityType'].isin([1,2,3,4,5,6,7,8,9])].groupby('FacilityType').sum()['Shape_Length'].to_clipboard()\n",
    "# gdf.columns"
   ]
  },
  {
   "cell_type": "code",
   "execution_count": 19,
   "id": "17b4bb59",
   "metadata": {},
   "outputs": [],
   "source": [
    "\n",
    "import pandas as pd"
   ]
  },
  {
   "cell_type": "code",
   "execution_count": 46,
   "id": "fbbf66d0",
   "metadata": {},
   "outputs": [],
   "source": [
    "df = pd.read_excel(r\"C:\\Users\\Modeller\\OneDrive - Puget Sound Regional Council\\2026-2050 RTP Trends - General\\Streets and Highways\\data\\HPMS\\DVMTCOrpt_OwnerCity.xlsx\",\n",
    "                   sheet_name=\"DVMT&LengthbyCounty-Owner_City\", skiprows=6, \n",
    "                   usecols=\"A:J\",\n",
    "                   skipfooter=5,\n",
    "                   names=[\"County Name\", \"Federal County Number\", \"Owner Code\", \"Owner Name\",\n",
    "                          \"City Number\", \"City Name\", \"Centerline Miles\", \"Lane Miles\",\n",
    "                          \"Daily VMT\", \"Annual VMT\"]\n",
    ")\n",
    "df = df[df['County Name'].isin(['King', 'Pierce', 'Snohomish', 'Kitsap'])].copy()"
   ]
  },
  {
   "cell_type": "code",
   "execution_count": 47,
   "id": "ccab1524",
   "metadata": {},
   "outputs": [
    {
     "data": {
      "text/html": [
       "<div>\n",
       "<style scoped>\n",
       "    .dataframe tbody tr th:only-of-type {\n",
       "        vertical-align: middle;\n",
       "    }\n",
       "\n",
       "    .dataframe tbody tr th {\n",
       "        vertical-align: top;\n",
       "    }\n",
       "\n",
       "    .dataframe thead th {\n",
       "        text-align: right;\n",
       "    }\n",
       "</style>\n",
       "<table border=\"1\" class=\"dataframe\">\n",
       "  <thead>\n",
       "    <tr style=\"text-align: right;\">\n",
       "      <th></th>\n",
       "      <th></th>\n",
       "      <th>Centerline Miles</th>\n",
       "      <th>Daily VMT</th>\n",
       "    </tr>\n",
       "    <tr>\n",
       "      <th>County Name</th>\n",
       "      <th>Owner Name</th>\n",
       "      <th></th>\n",
       "      <th></th>\n",
       "    </tr>\n",
       "  </thead>\n",
       "  <tbody>\n",
       "    <tr>\n",
       "      <th rowspan=\"4\" valign=\"top\">King</th>\n",
       "      <th>1State</th>\n",
       "      <td>435.290</td>\n",
       "      <td>24104.720</td>\n",
       "    </tr>\n",
       "    <tr>\n",
       "      <th>2County</th>\n",
       "      <td>1464.135</td>\n",
       "      <td>3371.385</td>\n",
       "    </tr>\n",
       "    <tr>\n",
       "      <th>3City</th>\n",
       "      <td>5187.090</td>\n",
       "      <td>16227.298</td>\n",
       "    </tr>\n",
       "    <tr>\n",
       "      <th>4Other</th>\n",
       "      <td>312.305</td>\n",
       "      <td>116.709</td>\n",
       "    </tr>\n",
       "    <tr>\n",
       "      <th rowspan=\"4\" valign=\"top\">Kitsap</th>\n",
       "      <th>1State</th>\n",
       "      <td>102.740</td>\n",
       "      <td>2912.210</td>\n",
       "    </tr>\n",
       "    <tr>\n",
       "      <th>2County</th>\n",
       "      <td>912.483</td>\n",
       "      <td>1287.203</td>\n",
       "    </tr>\n",
       "    <tr>\n",
       "      <th>3City</th>\n",
       "      <td>406.824</td>\n",
       "      <td>558.081</td>\n",
       "    </tr>\n",
       "    <tr>\n",
       "      <th>4Other</th>\n",
       "      <td>256.525</td>\n",
       "      <td>82.536</td>\n",
       "    </tr>\n",
       "    <tr>\n",
       "      <th rowspan=\"4\" valign=\"top\">Pierce</th>\n",
       "      <th>1State</th>\n",
       "      <td>291.980</td>\n",
       "      <td>9306.177</td>\n",
       "    </tr>\n",
       "    <tr>\n",
       "      <th>2County</th>\n",
       "      <td>1591.543</td>\n",
       "      <td>3439.026</td>\n",
       "    </tr>\n",
       "    <tr>\n",
       "      <th>3City</th>\n",
       "      <td>1687.962</td>\n",
       "      <td>4897.156</td>\n",
       "    </tr>\n",
       "    <tr>\n",
       "      <th>4Other</th>\n",
       "      <td>808.051</td>\n",
       "      <td>352.445</td>\n",
       "    </tr>\n",
       "    <tr>\n",
       "      <th rowspan=\"4\" valign=\"top\">Snohomish</th>\n",
       "      <th>1State</th>\n",
       "      <td>278.130</td>\n",
       "      <td>10270.392</td>\n",
       "    </tr>\n",
       "    <tr>\n",
       "      <th>2County</th>\n",
       "      <td>1610.303</td>\n",
       "      <td>2351.111</td>\n",
       "    </tr>\n",
       "    <tr>\n",
       "      <th>3City</th>\n",
       "      <td>1388.682</td>\n",
       "      <td>3057.975</td>\n",
       "    </tr>\n",
       "    <tr>\n",
       "      <th>4Other</th>\n",
       "      <td>447.280</td>\n",
       "      <td>146.317</td>\n",
       "    </tr>\n",
       "  </tbody>\n",
       "</table>\n",
       "</div>"
      ],
      "text/plain": [
       "                        Centerline Miles  Daily VMT\n",
       "County Name Owner Name                             \n",
       "King        1State               435.290  24104.720\n",
       "            2County             1464.135   3371.385\n",
       "            3City               5187.090  16227.298\n",
       "            4Other               312.305    116.709\n",
       "Kitsap      1State               102.740   2912.210\n",
       "            2County              912.483   1287.203\n",
       "            3City                406.824    558.081\n",
       "            4Other               256.525     82.536\n",
       "Pierce      1State               291.980   9306.177\n",
       "            2County             1591.543   3439.026\n",
       "            3City               1687.962   4897.156\n",
       "            4Other               808.051    352.445\n",
       "Snohomish   1State               278.130  10270.392\n",
       "            2County             1610.303   2351.111\n",
       "            3City               1388.682   3057.975\n",
       "            4Other               447.280    146.317"
      ]
     },
     "execution_count": 47,
     "metadata": {},
     "output_type": "execute_result"
    }
   ],
   "source": [
    "df.groupby(['County Name', 'Owner Name']).sum()[['Centerline Miles','Daily VMT']]"
   ]
  },
  {
   "cell_type": "code",
   "execution_count": 57,
   "id": "01139f9c",
   "metadata": {},
   "outputs": [
    {
     "data": {
      "text/html": [
       "<div>\n",
       "<style scoped>\n",
       "    .dataframe tbody tr th:only-of-type {\n",
       "        vertical-align: middle;\n",
       "    }\n",
       "\n",
       "    .dataframe tbody tr th {\n",
       "        vertical-align: top;\n",
       "    }\n",
       "\n",
       "    .dataframe thead th {\n",
       "        text-align: right;\n",
       "    }\n",
       "</style>\n",
       "<table border=\"1\" class=\"dataframe\">\n",
       "  <thead>\n",
       "    <tr style=\"text-align: right;\">\n",
       "      <th></th>\n",
       "      <th>Centerline Miles</th>\n",
       "      <th>Daily VMT</th>\n",
       "    </tr>\n",
       "    <tr>\n",
       "      <th>Owner Name</th>\n",
       "      <th></th>\n",
       "      <th></th>\n",
       "    </tr>\n",
       "  </thead>\n",
       "  <tbody>\n",
       "    <tr>\n",
       "      <th>1State</th>\n",
       "      <td>1,108</td>\n",
       "      <td>46,593,498</td>\n",
       "    </tr>\n",
       "    <tr>\n",
       "      <th>2County</th>\n",
       "      <td>5,578</td>\n",
       "      <td>10,448,725</td>\n",
       "    </tr>\n",
       "    <tr>\n",
       "      <th>3City</th>\n",
       "      <td>8,671</td>\n",
       "      <td>24,740,510</td>\n",
       "    </tr>\n",
       "    <tr>\n",
       "      <th>4Other</th>\n",
       "      <td>1,824</td>\n",
       "      <td>698,007</td>\n",
       "    </tr>\n",
       "    <tr>\n",
       "      <th>Total</th>\n",
       "      <td>17,181</td>\n",
       "      <td>82,480,740</td>\n",
       "    </tr>\n",
       "  </tbody>\n",
       "</table>\n",
       "</div>"
      ],
      "text/plain": [
       "           Centerline Miles   Daily VMT\n",
       "Owner Name                             \n",
       "1State                1,108  46,593,498\n",
       "2County               5,578  10,448,725\n",
       "3City                 8,671  24,740,510\n",
       "4Other                1,824     698,007\n",
       "Total                17,181  82,480,740"
      ]
     },
     "execution_count": 57,
     "metadata": {},
     "output_type": "execute_result"
    }
   ],
   "source": [
    "\n",
    "_df = df.groupby(['Owner Name']).sum()[['Centerline Miles','Daily VMT']]\n",
    "_df['Daily VMT'] = (_df['Daily VMT']*1000).astype('int') # convert to millions\n",
    "# Sum across columns\n",
    "_df.loc['Total'] = _df.sum(numeric_only=True, axis=0)\n",
    "# Format with commas and no significant digits\n",
    "_df = _df.applymap(lambda x: '{:,.0f}'.format(x) if isinstance(x, (int, float)) else x)\n",
    "_df"
   ]
  },
  {
   "cell_type": "code",
   "execution_count": 58,
   "id": "1f5322a0",
   "metadata": {},
   "outputs": [],
   "source": [
    "_df.to_csv(r\"C:\\Users\\Modeller\\OneDrive - Puget Sound Regional Council\\2026-2050 RTP Trends - General\\Streets and Highways\\hpms_vmt_miles_by_owner.csv\")   "
   ]
  },
  {
   "cell_type": "code",
   "execution_count": 66,
   "id": "842149c4",
   "metadata": {},
   "outputs": [
    {
     "data": {
      "text/plain": [
       "21    7.822208e+07\n",
       "22    7.992492e+07\n",
       "23    7.990388e+07\n",
       "24    8.010212e+07\n",
       "25    8.063421e+07\n",
       "26    8.153416e+07\n",
       "27    8.201901e+07\n",
       "28    8.003383e+07\n",
       "29    8.087503e+07\n",
       "30    8.305964e+07\n",
       "31    8.288480e+07\n",
       "32    8.085499e+07\n",
       "33    8.113503e+07\n",
       "34    8.224718e+07\n",
       "35    8.398775e+07\n",
       "36    8.688467e+07\n",
       "37    8.734600e+07\n",
       "38    8.839559e+07\n",
       "39    8.842785e+07\n",
       "40    7.419597e+07\n",
       "41    7.948000e+07\n",
       "42    8.071269e+07\n",
       "43    8.248074e+07\n",
       "Name: Region, dtype: float64"
      ]
     },
     "execution_count": 66,
     "metadata": {},
     "output_type": "execute_result"
    }
   ],
   "source": [
    "# VMT over Time\n",
    "df = pd.read_excel(r\"C:\\Users\\Modeller\\OneDrive - Puget Sound Regional Council\\2026-2050 RTP Trends - General\\Streets and Highways\\data\\HPMS\\CountyHPMS.xlsx\",\n",
    "                   sheet_name=\"Summary\",\n",
    "                   skiprows=2,\n",
    "                   skipfooter=20)\n",
    "df.loc[df[\"Year\"] > 2000]['Region']"
   ]
  }
 ],
 "metadata": {
  "kernelspec": {
   "display_name": "summary",
   "language": "python",
   "name": "python3"
  },
  "language_info": {
   "codemirror_mode": {
    "name": "ipython",
    "version": 3
   },
   "file_extension": ".py",
   "mimetype": "text/x-python",
   "name": "python",
   "nbconvert_exporter": "python",
   "pygments_lexer": "ipython3",
   "version": "3.7.10"
  }
 },
 "nbformat": 4,
 "nbformat_minor": 5
}
