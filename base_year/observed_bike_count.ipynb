{
 "cells": [
  {
   "cell_type": "markdown",
   "id": "f1b39684",
   "metadata": {},
   "source": [
    "# script to pull bike counts\n",
    "\n",
    "- concat SDOT, Bellevue and WSDOT bike counts into `observed_bike_counts_2023.csv`\n",
    "\n",
    "## SDOT API\n",
    "\n",
    "April 2023 weekday bike counts from 10 [SDOT bike trails](https://www.seattle.gov/transportation/projects-and-programs/programs/bike-program/bike-counters)\n",
    "\n",
    "- find API endpoints on [Open Data Portal](https://data.seattle.gov/)\n",
    "- 2023 data is missing in Elliott Bay Trail in Myrtle Edwards Park. Used 2022 data instead.\n"
   ]
  },
  {
   "cell_type": "code",
   "execution_count": 88,
   "id": "c975fe8c",
   "metadata": {},
   "outputs": [
    {
     "name": "stderr",
     "output_type": "stream",
     "text": [
      "WARNING:root:Requests made without an app_token will be subject to strict throttling limits.\n"
     ]
    }
   ],
   "source": [
    "# make sure to install these packages before running:\n",
    "# pip install pandas\n",
    "# pip install sodapy\n",
    "\n",
    "import pandas as pd\n",
    "from sodapy import Socrata\n",
    "\n",
    "# this csv file contains bike counter locations and their corresponding API keys, column names and last updated date\n",
    "bike_api_source = pd.read_csv(\"sdot_bike_counter_api_source.csv\", dtype=str)\n",
    "# connect to the SDOT Socrata API\n",
    "client = Socrata(\"data.seattle.gov\", None)"
   ]
  },
  {
   "cell_type": "code",
   "execution_count": null,
   "id": "1c65567b",
   "metadata": {},
   "outputs": [
    {
     "data": {
      "application/vnd.microsoft.datawrangler.viewer.v0+json": {
       "columns": [
        {
         "name": "index",
         "rawType": "int64",
         "type": "integer"
        },
        {
         "name": "day",
         "rawType": "object",
         "type": "string"
        },
        {
         "name": "dow",
         "rawType": "object",
         "type": "string"
        },
        {
         "name": "direct_1_count",
         "rawType": "object",
         "type": "string"
        },
        {
         "name": "direct_2_count",
         "rawType": "object",
         "type": "string"
        }
       ],
       "conversionMethod": "pd.DataFrame",
       "ref": "3022a017-0a93-4e4a-9155-38cacde34dbf",
       "rows": [
        [
         "0",
         "2023-04-03T00:00:00.000",
         "1",
         "671",
         "1046"
        ],
        [
         "1",
         "2023-04-04T00:00:00.000",
         "2",
         "1178",
         "1909"
        ],
        [
         "2",
         "2023-04-05T00:00:00.000",
         "3",
         "1004",
         "1806"
        ],
        [
         "3",
         "2023-04-06T00:00:00.000",
         "4",
         "461",
         "862"
        ],
        [
         "4",
         "2023-04-07T00:00:00.000",
         "5",
         "769",
         "1208"
        ],
        [
         "5",
         "2023-04-10T00:00:00.000",
         "1",
         "409",
         "643"
        ],
        [
         "6",
         "2023-04-11T00:00:00.000",
         "2",
         "759",
         "1256"
        ],
        [
         "7",
         "2023-04-12T00:00:00.000",
         "3",
         "1118",
         "1776"
        ],
        [
         "8",
         "2023-04-13T00:00:00.000",
         "4",
         "772",
         "1267"
        ],
        [
         "9",
         "2023-04-14T00:00:00.000",
         "5",
         "1101",
         "1483"
        ],
        [
         "10",
         "2023-04-17T00:00:00.000",
         "1",
         "638",
         "1118"
        ],
        [
         "11",
         "2023-04-18T00:00:00.000",
         "2",
         "401",
         "814"
        ],
        [
         "12",
         "2023-04-19T00:00:00.000",
         "3",
         "899",
         "1612"
        ],
        [
         "13",
         "2023-04-20T00:00:00.000",
         "4",
         "631",
         "1115"
        ],
        [
         "14",
         "2023-04-21T00:00:00.000",
         "5",
         "738",
         "1207"
        ],
        [
         "15",
         "2023-04-24T00:00:00.000",
         "1",
         "905",
         "1481"
        ],
        [
         "16",
         "2023-04-25T00:00:00.000",
         "2",
         "1280",
         "2115"
        ],
        [
         "17",
         "2023-04-26T00:00:00.000",
         "3",
         "1306",
         "2149"
        ],
        [
         "18",
         "2023-04-27T00:00:00.000",
         "4",
         "1358",
         "2276"
        ],
        [
         "19",
         "2023-04-28T00:00:00.000",
         "5",
         "1407",
         "2054"
        ]
       ],
       "shape": {
        "columns": 4,
        "rows": 20
       }
      },
      "text/html": [
       "<div>\n",
       "<style scoped>\n",
       "    .dataframe tbody tr th:only-of-type {\n",
       "        vertical-align: middle;\n",
       "    }\n",
       "\n",
       "    .dataframe tbody tr th {\n",
       "        vertical-align: top;\n",
       "    }\n",
       "\n",
       "    .dataframe thead th {\n",
       "        text-align: right;\n",
       "    }\n",
       "</style>\n",
       "<table border=\"1\" class=\"dataframe\">\n",
       "  <thead>\n",
       "    <tr style=\"text-align: right;\">\n",
       "      <th></th>\n",
       "      <th>day</th>\n",
       "      <th>dow</th>\n",
       "      <th>direct_1_count</th>\n",
       "      <th>direct_2_count</th>\n",
       "    </tr>\n",
       "  </thead>\n",
       "  <tbody>\n",
       "    <tr>\n",
       "      <th>0</th>\n",
       "      <td>2023-04-03T00:00:00.000</td>\n",
       "      <td>1</td>\n",
       "      <td>671</td>\n",
       "      <td>1046</td>\n",
       "    </tr>\n",
       "    <tr>\n",
       "      <th>1</th>\n",
       "      <td>2023-04-04T00:00:00.000</td>\n",
       "      <td>2</td>\n",
       "      <td>1178</td>\n",
       "      <td>1909</td>\n",
       "    </tr>\n",
       "    <tr>\n",
       "      <th>2</th>\n",
       "      <td>2023-04-05T00:00:00.000</td>\n",
       "      <td>3</td>\n",
       "      <td>1004</td>\n",
       "      <td>1806</td>\n",
       "    </tr>\n",
       "    <tr>\n",
       "      <th>3</th>\n",
       "      <td>2023-04-06T00:00:00.000</td>\n",
       "      <td>4</td>\n",
       "      <td>461</td>\n",
       "      <td>862</td>\n",
       "    </tr>\n",
       "    <tr>\n",
       "      <th>4</th>\n",
       "      <td>2023-04-07T00:00:00.000</td>\n",
       "      <td>5</td>\n",
       "      <td>769</td>\n",
       "      <td>1208</td>\n",
       "    </tr>\n",
       "    <tr>\n",
       "      <th>5</th>\n",
       "      <td>2023-04-10T00:00:00.000</td>\n",
       "      <td>1</td>\n",
       "      <td>409</td>\n",
       "      <td>643</td>\n",
       "    </tr>\n",
       "    <tr>\n",
       "      <th>6</th>\n",
       "      <td>2023-04-11T00:00:00.000</td>\n",
       "      <td>2</td>\n",
       "      <td>759</td>\n",
       "      <td>1256</td>\n",
       "    </tr>\n",
       "    <tr>\n",
       "      <th>7</th>\n",
       "      <td>2023-04-12T00:00:00.000</td>\n",
       "      <td>3</td>\n",
       "      <td>1118</td>\n",
       "      <td>1776</td>\n",
       "    </tr>\n",
       "    <tr>\n",
       "      <th>8</th>\n",
       "      <td>2023-04-13T00:00:00.000</td>\n",
       "      <td>4</td>\n",
       "      <td>772</td>\n",
       "      <td>1267</td>\n",
       "    </tr>\n",
       "    <tr>\n",
       "      <th>9</th>\n",
       "      <td>2023-04-14T00:00:00.000</td>\n",
       "      <td>5</td>\n",
       "      <td>1101</td>\n",
       "      <td>1483</td>\n",
       "    </tr>\n",
       "    <tr>\n",
       "      <th>10</th>\n",
       "      <td>2023-04-17T00:00:00.000</td>\n",
       "      <td>1</td>\n",
       "      <td>638</td>\n",
       "      <td>1118</td>\n",
       "    </tr>\n",
       "    <tr>\n",
       "      <th>11</th>\n",
       "      <td>2023-04-18T00:00:00.000</td>\n",
       "      <td>2</td>\n",
       "      <td>401</td>\n",
       "      <td>814</td>\n",
       "    </tr>\n",
       "    <tr>\n",
       "      <th>12</th>\n",
       "      <td>2023-04-19T00:00:00.000</td>\n",
       "      <td>3</td>\n",
       "      <td>899</td>\n",
       "      <td>1612</td>\n",
       "    </tr>\n",
       "    <tr>\n",
       "      <th>13</th>\n",
       "      <td>2023-04-20T00:00:00.000</td>\n",
       "      <td>4</td>\n",
       "      <td>631</td>\n",
       "      <td>1115</td>\n",
       "    </tr>\n",
       "    <tr>\n",
       "      <th>14</th>\n",
       "      <td>2023-04-21T00:00:00.000</td>\n",
       "      <td>5</td>\n",
       "      <td>738</td>\n",
       "      <td>1207</td>\n",
       "    </tr>\n",
       "    <tr>\n",
       "      <th>15</th>\n",
       "      <td>2023-04-24T00:00:00.000</td>\n",
       "      <td>1</td>\n",
       "      <td>905</td>\n",
       "      <td>1481</td>\n",
       "    </tr>\n",
       "    <tr>\n",
       "      <th>16</th>\n",
       "      <td>2023-04-25T00:00:00.000</td>\n",
       "      <td>2</td>\n",
       "      <td>1280</td>\n",
       "      <td>2115</td>\n",
       "    </tr>\n",
       "    <tr>\n",
       "      <th>17</th>\n",
       "      <td>2023-04-26T00:00:00.000</td>\n",
       "      <td>3</td>\n",
       "      <td>1306</td>\n",
       "      <td>2149</td>\n",
       "    </tr>\n",
       "    <tr>\n",
       "      <th>18</th>\n",
       "      <td>2023-04-27T00:00:00.000</td>\n",
       "      <td>4</td>\n",
       "      <td>1358</td>\n",
       "      <td>2276</td>\n",
       "    </tr>\n",
       "    <tr>\n",
       "      <th>19</th>\n",
       "      <td>2023-04-28T00:00:00.000</td>\n",
       "      <td>5</td>\n",
       "      <td>1407</td>\n",
       "      <td>2054</td>\n",
       "    </tr>\n",
       "  </tbody>\n",
       "</table>\n",
       "</div>"
      ],
      "text/plain": [
       "                        day dow direct_1_count direct_2_count\n",
       "0   2023-04-03T00:00:00.000   1            671           1046\n",
       "1   2023-04-04T00:00:00.000   2           1178           1909\n",
       "2   2023-04-05T00:00:00.000   3           1004           1806\n",
       "3   2023-04-06T00:00:00.000   4            461            862\n",
       "4   2023-04-07T00:00:00.000   5            769           1208\n",
       "5   2023-04-10T00:00:00.000   1            409            643\n",
       "6   2023-04-11T00:00:00.000   2            759           1256\n",
       "7   2023-04-12T00:00:00.000   3           1118           1776\n",
       "8   2023-04-13T00:00:00.000   4            772           1267\n",
       "9   2023-04-14T00:00:00.000   5           1101           1483\n",
       "10  2023-04-17T00:00:00.000   1            638           1118\n",
       "11  2023-04-18T00:00:00.000   2            401            814\n",
       "12  2023-04-19T00:00:00.000   3            899           1612\n",
       "13  2023-04-20T00:00:00.000   4            631           1115\n",
       "14  2023-04-21T00:00:00.000   5            738           1207\n",
       "15  2023-04-24T00:00:00.000   1            905           1481\n",
       "16  2023-04-25T00:00:00.000   2           1280           2115\n",
       "17  2023-04-26T00:00:00.000   3           1306           2149\n",
       "18  2023-04-27T00:00:00.000   4           1358           2276\n",
       "19  2023-04-28T00:00:00.000   5           1407           2054"
      ]
     },
     "execution_count": 89,
     "metadata": {},
     "output_type": "execute_result"
    }
   ],
   "source": [
    "# get the API key from SDOT Socrata\n",
    "def get_count(api_key, d_1, d_2, year):\n",
    "    results = client.get(api_key,\n",
    "        select=\"date_trunc_ymd(date) as day, date_extract_dow(date) as dow, sum(\" + d_1 + \") as direct_1_count, sum(\" + d_2 + \") as direct_2_count\",\n",
    "        where=\"date >= '\" + year + \"-04-01' and date <= '\" + year + \"-04-30' and dow in (1, 2, 3, 4, 5)\",\n",
    "        group=\"day, dow\", \n",
    "        order=\"day\",\n",
    "        limit=2000)\n",
    "    results_df = pd.DataFrame.from_records(results)\n",
    "    return results_df\n",
    "\n",
    "# test the function with a sample API key and counter names\n",
    "# get_count(\"65db-xm6k\", \"fremont_bridge_nb\", \"fremont_bridge_sb\", \"2023\")\n",
    "# get_count(\"4qej-qvrz\", \"bike_north\", \"bike_south\", \"2023\")"
   ]
  },
  {
   "cell_type": "code",
   "execution_count": 90,
   "id": "b22e72a9",
   "metadata": {},
   "outputs": [],
   "source": [
    "daily_bike_count = pd.DataFrame()\n",
    "\n",
    "for _, row in bike_api_source.iterrows():\n",
    "    # read information from the bike_api_source.csv\n",
    "    bridge = row['Location']\n",
    "    # print(bridge)\n",
    "    api_key = row['api_key']\n",
    "    data_year = row['last_year']\n",
    "    direct_1 = None\n",
    "    direct_2 = None\n",
    "    bound = None\n",
    "    if not pd.isna(row['NB']):\n",
    "        direct_1, direct_2 = row['NB'], row['SB']\n",
    "        bound = \"NB/SB\"\n",
    "    else:\n",
    "        direct_1, direct_2 = row['EB'], row['WB']\n",
    "        bound = \"EB/WB\"\n",
    "    # print(f\"Bridge: {bridge}, API key: {api_key}, Direct 1: {direct_1}, Direct 2: {direct_2}, Direct 2: {bound}, Year: {data_year}\")\n",
    "\n",
    "    # get the bike count data from API\n",
    "    df_count = get_count(api_key, direct_1, direct_2, data_year)\n",
    "    # add location info\n",
    "    df_count['Location'] = bridge\n",
    "    df_count['data_year'] = data_year\n",
    "    df_count['bound'] = bound\n",
    "    df_count[['direct_1_count', 'direct_2_count']] = df_count[['direct_1_count', 'direct_2_count']].apply(pd.to_numeric)\n",
    "    df_count['total_count'] = df_count['direct_1_count'] + df_count['direct_2_count']\n",
    "\n",
    "    daily_bike_count = pd.concat([daily_bike_count, df_count], ignore_index=True)\n",
    "    "
   ]
  },
  {
   "cell_type": "code",
   "execution_count": 95,
   "id": "c5574eb8",
   "metadata": {},
   "outputs": [
    {
     "data": {
      "application/vnd.microsoft.datawrangler.viewer.v0+json": {
       "columns": [
        {
         "name": "index",
         "rawType": "int64",
         "type": "integer"
        },
        {
         "name": "Location",
         "rawType": "object",
         "type": "string"
        },
        {
         "name": "data_year",
         "rawType": "object",
         "type": "string"
        },
        {
         "name": "month",
         "rawType": "object",
         "type": "string"
        },
        {
         "name": "measure",
         "rawType": "object",
         "type": "string"
        },
        {
         "name": "bound",
         "rawType": "object",
         "type": "string"
        },
        {
         "name": "direct_1_count",
         "rawType": "float64",
         "type": "float"
        },
        {
         "name": "direct_2_count",
         "rawType": "float64",
         "type": "float"
        },
        {
         "name": "total_count",
         "rawType": "float64",
         "type": "float"
        }
       ],
       "conversionMethod": "pd.DataFrame",
       "ref": "69f63c04-6c0c-4c42-b3f9-5e8f23514ad3",
       "rows": [
        [
         "0",
         "2nd Ave Cycle Track North of Marion St",
         "2023",
         "April",
         "weekday",
         "NB/SB",
         "292.0",
         "351.0",
         "643.0"
        ],
        [
         "1",
         "39th Ave NE Greenway at NE 62nd St",
         "2018",
         "April",
         "weekday",
         "NB/SB",
         "101.0",
         "28.0",
         "129.0"
        ],
        [
         "2",
         "Broadway Cycle Track North Of E Union St",
         "2021",
         "April",
         "weekday",
         "NB/SB",
         "109.0",
         "125.0",
         "234.0"
        ],
        [
         "3",
         "Burke Gilman Trail north of NE 70th St",
         "2023",
         "April",
         "weekday",
         "NB/SB",
         "335.0",
         "345.0",
         "679.0"
        ],
        [
         "4",
         "Chief Sealth Trail North of Thistle",
         "2021",
         "April",
         "weekday",
         "NB/SB",
         "32.0",
         "25.0",
         "57.0"
        ],
        [
         "5",
         "Elliott Bay Trail in Myrtle Edwards Park",
         "2022",
         "April",
         "weekday",
         "NB/SB",
         "357.0",
         "366.0",
         "723.0"
        ],
        [
         "6",
         "Fremont Bridge",
         "2023",
         "April",
         "weekday",
         "NB/SB",
         "890.0",
         "1460.0",
         "2350.0"
        ],
        [
         "7",
         "MTS Trail west of I-90 Bridge",
         "2021",
         "April",
         "weekday",
         "EB/WB",
         "254.0",
         "110.0",
         "364.0"
        ],
        [
         "8",
         "NW 58th St Greenway at 22nd Ave NW",
         "2022",
         "April",
         "weekday",
         "EB/WB",
         "44.0",
         "34.0",
         "78.0"
        ],
        [
         "9",
         "Spokane St",
         "2023",
         "April",
         "weekday",
         "EB/WB",
         "277.0",
         "303.0",
         "580.0"
        ]
       ],
       "shape": {
        "columns": 8,
        "rows": 10
       }
      },
      "text/html": [
       "<div>\n",
       "<style scoped>\n",
       "    .dataframe tbody tr th:only-of-type {\n",
       "        vertical-align: middle;\n",
       "    }\n",
       "\n",
       "    .dataframe tbody tr th {\n",
       "        vertical-align: top;\n",
       "    }\n",
       "\n",
       "    .dataframe thead th {\n",
       "        text-align: right;\n",
       "    }\n",
       "</style>\n",
       "<table border=\"1\" class=\"dataframe\">\n",
       "  <thead>\n",
       "    <tr style=\"text-align: right;\">\n",
       "      <th></th>\n",
       "      <th>Location</th>\n",
       "      <th>data_year</th>\n",
       "      <th>month</th>\n",
       "      <th>measure</th>\n",
       "      <th>bound</th>\n",
       "      <th>direct_1_count</th>\n",
       "      <th>direct_2_count</th>\n",
       "      <th>total_count</th>\n",
       "    </tr>\n",
       "  </thead>\n",
       "  <tbody>\n",
       "    <tr>\n",
       "      <th>0</th>\n",
       "      <td>2nd Ave Cycle Track North of Marion St</td>\n",
       "      <td>2023</td>\n",
       "      <td>April</td>\n",
       "      <td>weekday</td>\n",
       "      <td>NB/SB</td>\n",
       "      <td>292.0</td>\n",
       "      <td>351.0</td>\n",
       "      <td>643.0</td>\n",
       "    </tr>\n",
       "    <tr>\n",
       "      <th>1</th>\n",
       "      <td>39th Ave NE Greenway at NE 62nd St</td>\n",
       "      <td>2018</td>\n",
       "      <td>April</td>\n",
       "      <td>weekday</td>\n",
       "      <td>NB/SB</td>\n",
       "      <td>101.0</td>\n",
       "      <td>28.0</td>\n",
       "      <td>129.0</td>\n",
       "    </tr>\n",
       "    <tr>\n",
       "      <th>2</th>\n",
       "      <td>Broadway Cycle Track North Of E Union St</td>\n",
       "      <td>2021</td>\n",
       "      <td>April</td>\n",
       "      <td>weekday</td>\n",
       "      <td>NB/SB</td>\n",
       "      <td>109.0</td>\n",
       "      <td>125.0</td>\n",
       "      <td>234.0</td>\n",
       "    </tr>\n",
       "    <tr>\n",
       "      <th>3</th>\n",
       "      <td>Burke Gilman Trail north of NE 70th St</td>\n",
       "      <td>2023</td>\n",
       "      <td>April</td>\n",
       "      <td>weekday</td>\n",
       "      <td>NB/SB</td>\n",
       "      <td>335.0</td>\n",
       "      <td>345.0</td>\n",
       "      <td>679.0</td>\n",
       "    </tr>\n",
       "    <tr>\n",
       "      <th>4</th>\n",
       "      <td>Chief Sealth Trail North of Thistle</td>\n",
       "      <td>2021</td>\n",
       "      <td>April</td>\n",
       "      <td>weekday</td>\n",
       "      <td>NB/SB</td>\n",
       "      <td>32.0</td>\n",
       "      <td>25.0</td>\n",
       "      <td>57.0</td>\n",
       "    </tr>\n",
       "    <tr>\n",
       "      <th>5</th>\n",
       "      <td>Elliott Bay Trail in Myrtle Edwards Park</td>\n",
       "      <td>2022</td>\n",
       "      <td>April</td>\n",
       "      <td>weekday</td>\n",
       "      <td>NB/SB</td>\n",
       "      <td>357.0</td>\n",
       "      <td>366.0</td>\n",
       "      <td>723.0</td>\n",
       "    </tr>\n",
       "    <tr>\n",
       "      <th>6</th>\n",
       "      <td>Fremont Bridge</td>\n",
       "      <td>2023</td>\n",
       "      <td>April</td>\n",
       "      <td>weekday</td>\n",
       "      <td>NB/SB</td>\n",
       "      <td>890.0</td>\n",
       "      <td>1460.0</td>\n",
       "      <td>2350.0</td>\n",
       "    </tr>\n",
       "    <tr>\n",
       "      <th>7</th>\n",
       "      <td>MTS Trail west of I-90 Bridge</td>\n",
       "      <td>2021</td>\n",
       "      <td>April</td>\n",
       "      <td>weekday</td>\n",
       "      <td>EB/WB</td>\n",
       "      <td>254.0</td>\n",
       "      <td>110.0</td>\n",
       "      <td>364.0</td>\n",
       "    </tr>\n",
       "    <tr>\n",
       "      <th>8</th>\n",
       "      <td>NW 58th St Greenway at 22nd Ave NW</td>\n",
       "      <td>2022</td>\n",
       "      <td>April</td>\n",
       "      <td>weekday</td>\n",
       "      <td>EB/WB</td>\n",
       "      <td>44.0</td>\n",
       "      <td>34.0</td>\n",
       "      <td>78.0</td>\n",
       "    </tr>\n",
       "    <tr>\n",
       "      <th>9</th>\n",
       "      <td>Spokane St</td>\n",
       "      <td>2023</td>\n",
       "      <td>April</td>\n",
       "      <td>weekday</td>\n",
       "      <td>EB/WB</td>\n",
       "      <td>277.0</td>\n",
       "      <td>303.0</td>\n",
       "      <td>580.0</td>\n",
       "    </tr>\n",
       "  </tbody>\n",
       "</table>\n",
       "</div>"
      ],
      "text/plain": [
       "                                   Location data_year  month  measure  bound  \\\n",
       "0    2nd Ave Cycle Track North of Marion St      2023  April  weekday  NB/SB   \n",
       "1        39th Ave NE Greenway at NE 62nd St      2018  April  weekday  NB/SB   \n",
       "2  Broadway Cycle Track North Of E Union St      2021  April  weekday  NB/SB   \n",
       "3    Burke Gilman Trail north of NE 70th St      2023  April  weekday  NB/SB   \n",
       "4       Chief Sealth Trail North of Thistle      2021  April  weekday  NB/SB   \n",
       "5  Elliott Bay Trail in Myrtle Edwards Park      2022  April  weekday  NB/SB   \n",
       "6                            Fremont Bridge      2023  April  weekday  NB/SB   \n",
       "7             MTS Trail west of I-90 Bridge      2021  April  weekday  EB/WB   \n",
       "8        NW 58th St Greenway at 22nd Ave NW      2022  April  weekday  EB/WB   \n",
       "9                                Spokane St      2023  April  weekday  EB/WB   \n",
       "\n",
       "   direct_1_count  direct_2_count  total_count  \n",
       "0           292.0           351.0        643.0  \n",
       "1           101.0            28.0        129.0  \n",
       "2           109.0           125.0        234.0  \n",
       "3           335.0           345.0        679.0  \n",
       "4            32.0            25.0         57.0  \n",
       "5           357.0           366.0        723.0  \n",
       "6           890.0          1460.0       2350.0  \n",
       "7           254.0           110.0        364.0  \n",
       "8            44.0            34.0         78.0  \n",
       "9           277.0           303.0        580.0  "
      ]
     },
     "execution_count": 95,
     "metadata": {},
     "output_type": "execute_result"
    }
   ],
   "source": [
    "# aggregate to weekday counts in each location\n",
    "df_final = daily_bike_count.groupby(['Location', 'data_year', 'bound'])[['direct_1_count', 'direct_2_count', 'total_count']].\\\n",
    "    apply(lambda x: x.mean().round(0)).reset_index()\n",
    "df_final['measure'] = 'weekday'\n",
    "df_final['month'] = 'April'\n",
    "\n",
    "df_final = df_final[['Location', 'data_year', 'month', 'measure', 'bound', 'direct_1_count', 'direct_2_count', 'total_count']].copy()\n",
    "df_final"
   ]
  },
  {
   "cell_type": "code",
   "execution_count": null,
   "id": "fd0e1499",
   "metadata": {},
   "outputs": [],
   "source": [
    "# save data to csv\n",
    "df_final.to_csv(\"R:/e2projects_two/2023_base_year/bike_count/sdot_observed_bike_counts_2023.csv\", index=False)"
   ]
  },
  {
   "cell_type": "markdown",
   "id": "5eb23796",
   "metadata": {},
   "source": [
    "## Bellevue Bike counters\n",
    "\n",
    "- requested by email"
   ]
  },
  {
   "cell_type": "code",
   "execution_count": null,
   "id": "877f504c",
   "metadata": {},
   "outputs": [],
   "source": [
    "bellevue_2024 = pd.read_excel(\"R:/e2projects_two/2023_base_year/bike_count/Jan-Dec_2024.xlsx\", sheet_name=\"Data_2024\")\n",
    "\n",
    "all_cols = ['108th Ave SE SB',\n",
    "       '108th Ave SE NB', '108th Ave SE', '112th Ave NE NB', '112th Ave NE SB',\n",
    "       '112th Ave NE ', '114th Ave SE SB', '114th Ave SE NB', '114th Ave SE ',\n",
    "       '116th Ave NE NB ', '116th Ave NE SB', '116th Ave NE',\n",
    "       '118th Ave SE SB', '118th Ave SE NB', '118th Ave SE', '140th Ave SE SB',\n",
    "       '140th Ave SE NB', '140th Ave SE', '145th Pl SE SB', '145th Pl SE NB',\n",
    "       '145th Pl SE ', '164th Ave NE ', '164th Ave NE SB', '164th Ave NE NB',\n",
    "       'Lake Hills Blvd EB', 'Lake Hills Blvd WB', 'Lake Hills Blvd',\n",
    "       'Main St EB', 'Main St WB', 'Main St', 'NE 12th St IN',\n",
    "       'NE 12th St OUT', 'NE 12th St', 'Newport Way IN', 'Newport Way OUT',\n",
    "       'Newport Way', 'Richards Rd NB', 'Richards Rd SB ', 'Richards Rd',\n",
    "       'W Lake Sammamish Pkwy SE SB', 'W Lake Sammamish Pkwy SE NB',\n",
    "       'W Lake Sammamish Pkwy SE', 'I-90 Trail Ped', 'I-90 Trail Bike',\n",
    "       'SR 520 Trail Ped EB', 'SR 520 Trail Ped WB', 'SR 520 Trail Ped',\n",
    "       'SR 520 Trail Bike EB', 'SR 520 Trail Bike WB', 'SR 520 Trail Bike',\n",
    "       'Eastrail Ped SB', 'Eastrail Ped NB', 'Eastrail Ped',\n",
    "       'Eastrail Bike SB', 'Eastrail Bike NB', 'Eastrail Bike']"
   ]
  },
  {
   "cell_type": "code",
   "execution_count": 114,
   "id": "30e89e1b",
   "metadata": {},
   "outputs": [],
   "source": [
    "# filter to April\n",
    "bellevue_Apr_2024 = bellevue_2024[(bellevue_2024['Time']>=\"2024-04-01\") & (bellevue_2024['Time']<=\"2024-04-30\") &\\\n",
    "                                  (bellevue_2024['Weekday']<6)].copy()\n",
    "# Convert the date to datetime64\n",
    "bellevue_Apr_2024['date'] = bellevue_2024['Time'].dt.date\n",
    "\n",
    "# daily count\n",
    "daily_bike_count_bellevue = bellevue_Apr_2024.groupby(['date','Year', 'Month', 'Weekday'])[all_cols].sum().reset_index()"
   ]
  },
  {
   "cell_type": "code",
   "execution_count": 121,
   "id": "b22b55a7",
   "metadata": {},
   "outputs": [],
   "source": [
    "avg = daily_bike_count_bellevue.groupby(['Year'])[all_cols].mean().round(0).reset_index()"
   ]
  },
  {
   "cell_type": "code",
   "execution_count": 122,
   "id": "40b26de5",
   "metadata": {},
   "outputs": [],
   "source": [
    "df_final_bellevue = avg.melt(id_vars=[\"Year\"], var_name=\"Location\", value_name=\"count\")"
   ]
  },
  {
   "cell_type": "markdown",
   "id": "397c536f",
   "metadata": {},
   "source": [
    "- manual formmatting from here to match SDOT data"
   ]
  },
  {
   "cell_type": "code",
   "execution_count": null,
   "id": "67784c8d",
   "metadata": {},
   "outputs": [],
   "source": [
    "df_final_bellevue.to_csv(\"R:/e2projects_two/2023_base_year/bike_count/bellevue_bike_apr2024.csv\", index=False)\n"
   ]
  },
  {
   "cell_type": "markdown",
   "id": "b4031de2",
   "metadata": {},
   "source": [
    "## WSDOT bike counts\n",
    "\n",
    "- downloaded from WSDOT website: https://ftp.wsdot.wa.gov/gis/GeoDataDistribution/Maps/noscale/DOT_TDO/BikePTR/\n",
    "- WSDOT locations: https://wsdot.wa.gov/data/tools/bikepedcounts/"
   ]
  },
  {
   "cell_type": "code",
   "execution_count": 125,
   "id": "1a090b6f",
   "metadata": {},
   "outputs": [
    {
     "name": "stderr",
     "output_type": "stream",
     "text": [
      "C:\\Users\\Modeller\\AppData\\Local\\Temp\\ipykernel_33084\\4015321179.py:1: DtypeWarning: Columns (4) have mixed types. Specify dtype option on import or set low_memory=False.\n",
      "  wsdot_2023 = pd.read_csv(\"R:/e2projects_two/2023_base_year/bike_count/wsdot_PTRBikePedSummary2023.csv\")\n"
     ]
    }
   ],
   "source": [
    "wsdot_2023 = pd.read_csv(\"R:/e2projects_two/2023_base_year/bike_count/wsdot_PTRBikePedSummary2023.csv\")"
   ]
  },
  {
   "cell_type": "code",
   "execution_count": 137,
   "id": "e4ad3396",
   "metadata": {},
   "outputs": [],
   "source": [
    "df_wsdot_2023 = wsdot_2023.loc[\n",
    "    (wsdot_2023['StartIntervalDateTime']>=20230401000000) &\\\n",
    "        (wsdot_2023['StartIntervalDateTime']<=20230430240000)].copy()\n",
    "\n",
    "df_wsdot_2023['date'] = df_wsdot_2023['StartIntervalDateTime'].astype(str).str.slice(0, 8)\n",
    "df_wsdot_2023 = df_wsdot_2023.groupby(['LocationDescription', 'Longitude', 'Latitude', 'date', 'DirectionOfTravel'])['BicyclistCount'].sum().reset_index()\n",
    "\n",
    "df_wsdot_2023 = df_wsdot_2023.groupby(['LocationDescription', 'Longitude', 'Latitude', 'DirectionOfTravel'])['BicyclistCount'].mean().round(0).reset_index()"
   ]
  },
  {
   "cell_type": "markdown",
   "id": "c266e9ed",
   "metadata": {},
   "source": [
    "- (not used for 2023 base year) manual add location to `observed_bike_counts_2023.csv`"
   ]
  },
  {
   "cell_type": "code",
   "execution_count": 138,
   "id": "95cc04e0",
   "metadata": {},
   "outputs": [],
   "source": [
    "df_wsdot_2023.to_csv(\"R:/e2projects_two/2023_base_year/bike_count/wsdot_bike_apr2024.csv\", index=False)\n"
   ]
  }
 ],
 "metadata": {
  "kernelspec": {
   "display_name": "build_notebook",
   "language": "python",
   "name": "python3"
  },
  "language_info": {
   "codemirror_mode": {
    "name": "ipython",
    "version": 3
   },
   "file_extension": ".py",
   "mimetype": "text/x-python",
   "name": "python",
   "nbconvert_exporter": "python",
   "pygments_lexer": "ipython3",
   "version": "3.10.15"
  }
 },
 "nbformat": 4,
 "nbformat_minor": 5
}
