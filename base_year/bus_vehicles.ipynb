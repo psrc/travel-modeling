{
 "cells": [
  {
   "cell_type": "code",
   "execution_count": 1,
   "id": "6b95da6e",
   "metadata": {},
   "outputs": [],
   "source": [
    "import pandas as pd"
   ]
  },
  {
   "cell_type": "code",
   "execution_count": 55,
   "id": "f2d6cba5",
   "metadata": {},
   "outputs": [
    {
     "name": "stderr",
     "output_type": "stream",
     "text": [
      "C:\\Users\\Modeller\\.conda\\envs\\summary\\lib\\site-packages\\IPython\\core\\interactiveshell.py:3166: DtypeWarning: Columns (27) have mixed types.Specify dtype option on import or set low_memory=False.\n",
      "  interactivity=interactivity, compiler=compiler, result=result)\n"
     ]
    }
   ],
   "source": [
    "# Download from USDOT\n",
    "# 2022 NTD Annual Data - Service (by Mode and Time Period)\n",
    "# https://data.transportation.gov/Public-Transit/2022-NTD-Annual-Data-Service-by-Mode-and-Time-Peri/wwdp-t4re/about_data\n",
    "# Looking for \"Vehicles operated in maximum service\" (VOMS) \n",
    "\n",
    "df = pd.read_csv(r'R:\\e2projects_two\\2023_base_year\\db_data\\2022_NTD_Annual_Data_-_Service__by_Mode_and_Time_Period__20240318.csv')"
   ]
  },
  {
   "cell_type": "code",
   "execution_count": 57,
   "id": "26bc2938",
   "metadata": {},
   "outputs": [],
   "source": [
    "agency_list = [\n",
    "    'King County Department of Metro Transit, dba: King County Metro',\n",
    "       'Snohomish County Public Transportation Benefit Area Corporation',\n",
    "       'Pierce County Transportation Benefit Area Authority',\n",
    "       'Central Puget Sound Regional Transit Authority, dba: Sound Transit',\n",
    "    'Kitsap Transit',\n",
    "    'City of Everett, dba: EVERETT TRANSIT',\n",
    "    'Washington State Ferries'\n",
    "]"
   ]
  },
  {
   "cell_type": "code",
   "execution_count": 58,
   "id": "580379c1",
   "metadata": {},
   "outputs": [],
   "source": [
    "df = df[df['Agency'].isin(agency_list)]"
   ]
  },
  {
   "cell_type": "code",
   "execution_count": 61,
   "id": "fe2ce6f1",
   "metadata": {},
   "outputs": [],
   "source": [
    "# Select only motor bus and commuter bus\n",
    "# This will exclude trolley bus, trains, etc that use electricity\n",
    "df = df[df['Mode'].isin(['MB','CB'])]    "
   ]
  },
  {
   "cell_type": "code",
   "execution_count": 64,
   "id": "90828ee4",
   "metadata": {},
   "outputs": [],
   "source": [
    "# Note that the time period selected doesn't matter because the measure is \n",
    "# for total vehicles in service. This row happens to contain the value of VOMS by mode\n",
    "df = df[df['Time Period'] == 'Annual Total']"
   ]
  },
  {
   "cell_type": "code",
   "execution_count": 69,
   "id": "662163d6",
   "metadata": {},
   "outputs": [],
   "source": [
    "# select type of service; the VOMS amount is usually the same for each type, but we don't want to double count\n",
    "# directly operated DO \n",
    "# or purchased transportation PT\n",
    "df = df[df['Type Of Service'] == 'DO']"
   ]
  },
  {
   "cell_type": "code",
   "execution_count": 70,
   "id": "a2de4c5c",
   "metadata": {},
   "outputs": [
    {
     "data": {
      "text/html": [
       "<div>\n",
       "<style scoped>\n",
       "    .dataframe tbody tr th:only-of-type {\n",
       "        vertical-align: middle;\n",
       "    }\n",
       "\n",
       "    .dataframe tbody tr th {\n",
       "        vertical-align: top;\n",
       "    }\n",
       "\n",
       "    .dataframe thead th {\n",
       "        text-align: right;\n",
       "    }\n",
       "</style>\n",
       "<table border=\"1\" class=\"dataframe\">\n",
       "  <thead>\n",
       "    <tr style=\"text-align: right;\">\n",
       "      <th></th>\n",
       "      <th>Mode VOMS</th>\n",
       "    </tr>\n",
       "    <tr>\n",
       "      <th>Agency</th>\n",
       "      <th></th>\n",
       "    </tr>\n",
       "  </thead>\n",
       "  <tbody>\n",
       "    <tr>\n",
       "      <th>Central Puget Sound Regional Transit Authority, dba: Sound Transit</th>\n",
       "      <td>143.0</td>\n",
       "    </tr>\n",
       "    <tr>\n",
       "      <th>City of Everett, dba: EVERETT TRANSIT</th>\n",
       "      <td>27.0</td>\n",
       "    </tr>\n",
       "    <tr>\n",
       "      <th>King County Department of Metro Transit, dba: King County Metro</th>\n",
       "      <td>793.0</td>\n",
       "    </tr>\n",
       "    <tr>\n",
       "      <th>Kitsap Transit</th>\n",
       "      <td>92.0</td>\n",
       "    </tr>\n",
       "    <tr>\n",
       "      <th>Pierce County Transportation Benefit Area Authority</th>\n",
       "      <td>91.0</td>\n",
       "    </tr>\n",
       "    <tr>\n",
       "      <th>Snohomish County Public Transportation Benefit Area Corporation</th>\n",
       "      <td>158.0</td>\n",
       "    </tr>\n",
       "  </tbody>\n",
       "</table>\n",
       "</div>"
      ],
      "text/plain": [
       "                                                    Mode VOMS\n",
       "Agency                                                       \n",
       "Central Puget Sound Regional Transit Authority,...      143.0\n",
       "City of Everett, dba: EVERETT TRANSIT                    27.0\n",
       "King County Department of Metro Transit, dba: K...      793.0\n",
       "Kitsap Transit                                           92.0\n",
       "Pierce County Transportation Benefit Area Autho...       91.0\n",
       "Snohomish County Public Transportation Benefit ...      158.0"
      ]
     },
     "execution_count": 70,
     "metadata": {},
     "output_type": "execute_result"
    }
   ],
   "source": [
    "df.groupby('Agency').sum()[['Mode VOMS']]"
   ]
  },
  {
   "cell_type": "code",
   "execution_count": null,
   "id": "e96f37cc",
   "metadata": {},
   "outputs": [],
   "source": []
  }
 ],
 "metadata": {
  "kernelspec": {
   "display_name": "Python 3",
   "language": "python",
   "name": "python3"
  },
  "language_info": {
   "codemirror_mode": {
    "name": "ipython",
    "version": 3
   },
   "file_extension": ".py",
   "mimetype": "text/x-python",
   "name": "python",
   "nbconvert_exporter": "python",
   "pygments_lexer": "ipython3",
   "version": "3.7.10"
  }
 },
 "nbformat": 4,
 "nbformat_minor": 5
}
