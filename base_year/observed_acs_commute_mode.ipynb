{
 "cells": [
  {
   "cell_type": "code",
   "execution_count": 1,
   "id": "aafcd51d-c3f6-48f8-8f06-030657e0b34a",
   "metadata": {},
   "outputs": [],
   "source": [
    "import os\n",
    "import pandas as pd"
   ]
  },
  {
   "cell_type": "code",
   "execution_count": 18,
   "id": "6e0c57c7-9c45-4bf9-928a-3bc558d82d42",
   "metadata": {},
   "outputs": [],
   "source": [
    "from census import Census\n",
    "from us import states\n",
    "\n",
    "# Note, you must obtain a census key and create a system environment variable called CENSUS_KEY that stores the key value\n",
    "# You may need to completely restart anaconda/jupyter/VS to get it to recognize the new variable\n",
    "c = Census(os.environ['CENSUS_KEY'])\n",
    "\n",
    "census_year = 2022"
   ]
  },
  {
   "cell_type": "code",
   "execution_count": 19,
   "id": "0755a873-b86d-495d-ae38-1e3f8170eae2",
   "metadata": {},
   "outputs": [
    {
     "data": {
      "text/plain": [
       "[{'NAME': 'Washington', 'B08301_001E': 3722716.0, 'state': '53'}]"
      ]
     },
     "execution_count": 19,
     "metadata": {},
     "output_type": "execute_result"
    }
   ],
   "source": [
    "# Total\n",
    "c.acs5.state(('NAME','B08301_001E'), states.WA.fips, year=2022)"
   ]
  },
  {
   "cell_type": "code",
   "execution_count": 97,
   "id": "12913ac4-c90f-45a2-87cc-b8cce13884f7",
   "metadata": {},
   "outputs": [],
   "source": [
    "def get_acs_data(table):\n",
    "    results_df = pd.DataFrame()\n",
    "    county_map = {'033': 'King',\n",
    "                   '035': 'Kitsap',\n",
    "                   '053': 'Pierce',\n",
    "                   '061': 'Snohomish'\n",
    "                  }\n",
    "    df = pd.DataFrame(\n",
    "        c.acs5.get(table, geo={'for': 'tract:*',\n",
    "                   'in': 'state:{}'.format(states.WA.fips)})\n",
    "    )\n",
    "    df['county_name'] = df['county'].map(county_map)\n",
    "    df = df[~df['county_name'].isnull()]\n",
    "\n",
    "    return df"
   ]
  },
  {
   "cell_type": "code",
   "execution_count": 98,
   "id": "2e873825-c3c5-433e-846f-3f905233d1b4",
   "metadata": {},
   "outputs": [
    {
     "data": {
      "text/html": [
       "<div>\n",
       "<style scoped>\n",
       "    .dataframe tbody tr th:only-of-type {\n",
       "        vertical-align: middle;\n",
       "    }\n",
       "\n",
       "    .dataframe tbody tr th {\n",
       "        vertical-align: top;\n",
       "    }\n",
       "\n",
       "    .dataframe thead th {\n",
       "        text-align: right;\n",
       "    }\n",
       "</style>\n",
       "<table border=\"1\" class=\"dataframe\">\n",
       "  <thead>\n",
       "    <tr style=\"text-align: right;\">\n",
       "      <th></th>\n",
       "      <th>B08301_001E</th>\n",
       "      <th>state</th>\n",
       "      <th>county</th>\n",
       "      <th>tract</th>\n",
       "      <th>county_name</th>\n",
       "    </tr>\n",
       "  </thead>\n",
       "  <tbody>\n",
       "    <tr>\n",
       "      <th>366</th>\n",
       "      <td>2196.0</td>\n",
       "      <td>53</td>\n",
       "      <td>033</td>\n",
       "      <td>000101</td>\n",
       "      <td>King</td>\n",
       "    </tr>\n",
       "    <tr>\n",
       "      <th>367</th>\n",
       "      <td>2426.0</td>\n",
       "      <td>53</td>\n",
       "      <td>033</td>\n",
       "      <td>000102</td>\n",
       "      <td>King</td>\n",
       "    </tr>\n",
       "    <tr>\n",
       "      <th>368</th>\n",
       "      <td>2815.0</td>\n",
       "      <td>53</td>\n",
       "      <td>033</td>\n",
       "      <td>000201</td>\n",
       "      <td>King</td>\n",
       "    </tr>\n",
       "    <tr>\n",
       "      <th>369</th>\n",
       "      <td>2347.0</td>\n",
       "      <td>53</td>\n",
       "      <td>033</td>\n",
       "      <td>000202</td>\n",
       "      <td>King</td>\n",
       "    </tr>\n",
       "    <tr>\n",
       "      <th>370</th>\n",
       "      <td>1701.0</td>\n",
       "      <td>53</td>\n",
       "      <td>033</td>\n",
       "      <td>000300</td>\n",
       "      <td>King</td>\n",
       "    </tr>\n",
       "    <tr>\n",
       "      <th>...</th>\n",
       "      <td>...</td>\n",
       "      <td>...</td>\n",
       "      <td>...</td>\n",
       "      <td>...</td>\n",
       "      <td>...</td>\n",
       "    </tr>\n",
       "    <tr>\n",
       "      <th>1434</th>\n",
       "      <td>2551.0</td>\n",
       "      <td>53</td>\n",
       "      <td>061</td>\n",
       "      <td>053803</td>\n",
       "      <td>Snohomish</td>\n",
       "    </tr>\n",
       "    <tr>\n",
       "      <th>1435</th>\n",
       "      <td>2693.0</td>\n",
       "      <td>53</td>\n",
       "      <td>061</td>\n",
       "      <td>940001</td>\n",
       "      <td>Snohomish</td>\n",
       "    </tr>\n",
       "    <tr>\n",
       "      <th>1436</th>\n",
       "      <td>1621.0</td>\n",
       "      <td>53</td>\n",
       "      <td>061</td>\n",
       "      <td>940002</td>\n",
       "      <td>Snohomish</td>\n",
       "    </tr>\n",
       "    <tr>\n",
       "      <th>1437</th>\n",
       "      <td>0.0</td>\n",
       "      <td>53</td>\n",
       "      <td>061</td>\n",
       "      <td>990002</td>\n",
       "      <td>Snohomish</td>\n",
       "    </tr>\n",
       "    <tr>\n",
       "      <th>1438</th>\n",
       "      <td>0.0</td>\n",
       "      <td>53</td>\n",
       "      <td>061</td>\n",
       "      <td>990100</td>\n",
       "      <td>Snohomish</td>\n",
       "    </tr>\n",
       "  </tbody>\n",
       "</table>\n",
       "<p>923 rows × 5 columns</p>\n",
       "</div>"
      ],
      "text/plain": [
       "      B08301_001E state county   tract county_name\n",
       "366        2196.0    53    033  000101        King\n",
       "367        2426.0    53    033  000102        King\n",
       "368        2815.0    53    033  000201        King\n",
       "369        2347.0    53    033  000202        King\n",
       "370        1701.0    53    033  000300        King\n",
       "...           ...   ...    ...     ...         ...\n",
       "1434       2551.0    53    061  053803   Snohomish\n",
       "1435       2693.0    53    061  940001   Snohomish\n",
       "1436       1621.0    53    061  940002   Snohomish\n",
       "1437          0.0    53    061  990002   Snohomish\n",
       "1438          0.0    53    061  990100   Snohomish\n",
       "\n",
       "[923 rows x 5 columns]"
      ]
     },
     "execution_count": 98,
     "metadata": {},
     "output_type": "execute_result"
    }
   ],
   "source": [
    "get_acs_data('B08301_001E')"
   ]
  },
  {
   "cell_type": "code",
   "execution_count": 100,
   "id": "fb72ca2c-28d3-498a-82fa-3f955618b3ca",
   "metadata": {},
   "outputs": [],
   "source": [
    "acs_dict = {\n",
    "    'B08301_001E': 'Total',\n",
    "    'B08301_002E': 'Drove Alone',\n",
    "    'B08301_004E': 'Carpooled',\n",
    "    'B08301_010E': 'Transit',\n",
    "    'B08301_019E': 'Walked',\n",
    "    'B08301_020E': 'Other',\n",
    "    'B08301_021E': 'Telework',\n",
    "    'B08303_001E': 'Mean Travel Time to Work'\n",
    "}"
   ]
  },
  {
   "cell_type": "code",
   "execution_count": null,
   "id": "ec4c1b49-f2ce-499c-a39a-c8dfcd728575",
   "metadata": {},
   "outputs": [],
   "source": []
  }
 ],
 "metadata": {
  "kernelspec": {
   "display_name": "Python 3 (ipykernel)",
   "language": "python",
   "name": "python3"
  },
  "language_info": {
   "codemirror_mode": {
    "name": "ipython",
    "version": 3
   },
   "file_extension": ".py",
   "mimetype": "text/x-python",
   "name": "python",
   "nbconvert_exporter": "python",
   "pygments_lexer": "ipython3",
   "version": "3.11.7"
  }
 },
 "nbformat": 4,
 "nbformat_minor": 5
}
