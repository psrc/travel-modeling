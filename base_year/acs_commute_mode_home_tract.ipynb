{
 "cells": [
  {
   "cell_type": "code",
   "execution_count": 1,
   "id": "aafcd51d-c3f6-48f8-8f06-030657e0b34a",
   "metadata": {},
   "outputs": [],
   "source": [
    "import os\n",
    "import pandas as pd"
   ]
  },
  {
   "cell_type": "code",
   "execution_count": 2,
   "id": "6e0c57c7-9c45-4bf9-928a-3bc558d82d42",
   "metadata": {},
   "outputs": [],
   "source": [
    "from census import Census\n",
    "from us import states\n",
    "\n",
    "# Note, you must obtain a census key and create a system environment variable called CENSUS_KEY that stores the key value\n",
    "# You may need to completely restart anaconda/jupyter/VS to get it to recognize the new variable\n",
    "c = Census(os.environ['CENSUS_KEY'])\n",
    "\n",
    "census_year = 2023"
   ]
  },
  {
   "cell_type": "code",
   "execution_count": 3,
   "id": "0755a873-b86d-495d-ae38-1e3f8170eae2",
   "metadata": {},
   "outputs": [],
   "source": [
    "year = '2023'"
   ]
  },
  {
   "cell_type": "code",
   "execution_count": 4,
   "id": "12913ac4-c90f-45a2-87cc-b8cce13884f7",
   "metadata": {},
   "outputs": [],
   "source": [
    "def get_acs_data(table, geog):\n",
    "    results_df = pd.DataFrame()\n",
    "\n",
    "    df = pd.DataFrame(\n",
    "        c.acs5.get(table, geo={'for': geog,\n",
    "                   'in': 'state:{}'.format(states.WA.fips)})\n",
    "    )\n",
    "\n",
    "    return df"
   ]
  },
  {
   "cell_type": "markdown",
   "id": "a7c6f2bd",
   "metadata": {},
   "source": [
    "# Place"
   ]
  },
  {
   "cell_type": "code",
   "execution_count": 5,
   "id": "26b1b0bc",
   "metadata": {},
   "outputs": [],
   "source": [
    "place_name_df = pd.DataFrame(c.sf1.get('NAME', geo={'for': 'place:*',\n",
    "                       'in': 'state:{}'.format(states.WA.fips)})\n",
    "            )\n",
    "place_name_df.drop('state', axis=1, inplace=True)\n",
    "# place_name_df"
   ]
  },
  {
   "cell_type": "code",
   "execution_count": 6,
   "id": "7b9f04c0",
   "metadata": {},
   "outputs": [],
   "source": [
    "\n",
    "acs_dict = {\n",
    "    'B08301_001': 'Total',\n",
    "    'B08301_003': 'Drove Alone',\n",
    "    'B08301_004': 'Carpooled',\n",
    "    'B08301_010': 'Transit',\n",
    "    'B08301_019': 'Walked',\n",
    "    'B08301_020': 'Other',\n",
    "    'B08301_021': 'worked_at_home',\n",
    "}\n",
    "\n",
    "df_place = pd.DataFrame()\n",
    "\n",
    "for table_id, mode in acs_dict.items():\n",
    "\n",
    "    for data_type, data_id in {'estimate': 'E',\n",
    "                               'margin_of_error':'M'}.items():\n",
    "        \n",
    "        df = get_acs_data(table_id+data_id, 'place:*')\n",
    "        df['mode'] = mode\n",
    "        df['data_type'] = data_type\n",
    "        df.rename(columns={table_id+data_id: 'value'}, inplace=True)\n",
    "        \n",
    "        df_place = pd.concat([df_place, df])\n",
    "    "
   ]
  },
  {
   "cell_type": "code",
   "execution_count": 7,
   "id": "070724f7",
   "metadata": {},
   "outputs": [],
   "source": [
    "df_place['geoid'] = df_place['place'].copy()"
   ]
  },
  {
   "cell_type": "code",
   "execution_count": 8,
   "id": "6b6e6900",
   "metadata": {},
   "outputs": [],
   "source": [
    "df_place.rename(columns={'place': 'place_name'}, inplace=True)"
   ]
  },
  {
   "cell_type": "code",
   "execution_count": 9,
   "id": "319d2bcb",
   "metadata": {},
   "outputs": [],
   "source": [
    "# df_place.groupby(['place','state','mode','data_type']).sum()[['']]\n",
    "df_place = pd.pivot_table(df_place, index=['geoid','state','place_name','mode'], columns=['data_type'], values='value', aggfunc='sum').reset_index()"
   ]
  },
  {
   "cell_type": "code",
   "execution_count": 10,
   "id": "384a267e",
   "metadata": {},
   "outputs": [],
   "source": [
    "# df_place.head()"
   ]
  },
  {
   "cell_type": "code",
   "execution_count": 11,
   "id": "c44c7142",
   "metadata": {},
   "outputs": [],
   "source": [
    "df_place = df_place.merge(place_name_df, left_on='place_name', right_on='place', how='left')"
   ]
  },
  {
   "cell_type": "code",
   "execution_count": 12,
   "id": "943d45b8",
   "metadata": {},
   "outputs": [],
   "source": [
    "# Only select places needed in region.\n",
    "# Use existing table as template\n",
    "# df_template = pd.read_csv(r'R:\\e2projects_two\\SoundCast\\Inputs\\db_inputs\\acs_commute_mode_by_workplace_geog.csv')\n",
    "# df_template = df_template[df_template['year'] != int(year)]\n",
    "# df_template['geog_name'].unique()"
   ]
  },
  {
   "cell_type": "code",
   "execution_count": 13,
   "id": "86afbb0e",
   "metadata": {},
   "outputs": [],
   "source": [
    "# Note that we are missing many places here;\n",
    "# The older version must have been trimmed down to only include a select set of places\n",
    "# df_place = df_place[df_place['NAME'].isin(df_template['geog_name'].unique())]"
   ]
  },
  {
   "cell_type": "code",
   "execution_count": 14,
   "id": "1c8dbd7f",
   "metadata": {},
   "outputs": [],
   "source": [
    "# df_place.rename(columns={'NAME': 'geog_name'}, inplace=True)"
   ]
  },
  {
   "cell_type": "code",
   "execution_count": 15,
   "id": "fb72ca2c-28d3-498a-82fa-3f955618b3ca",
   "metadata": {},
   "outputs": [],
   "source": [
    "df_place['year'] = year\n",
    "df_place['place_type'] = 'place'\n",
    "df_place = df_place[['geoid','place_name','place_type','mode','estimate','year']]"
   ]
  },
  {
   "cell_type": "markdown",
   "id": "1e4b2d3f",
   "metadata": {},
   "source": [
    "# County"
   ]
  },
  {
   "cell_type": "code",
   "execution_count": 16,
   "id": "5908f0a1",
   "metadata": {},
   "outputs": [],
   "source": [
    "df_county = pd.DataFrame()\n",
    "\n",
    "for table_id, mode in acs_dict.items():\n",
    "\n",
    "    for data_type, data_id in {'estimate': 'E',\n",
    "                               'margin_of_error':'M'}.items():\n",
    "        \n",
    "        df = get_acs_data(table_id+data_id, 'county:*')\n",
    "        df['mode'] = mode\n",
    "        df['data_type'] = data_type\n",
    "        df.rename(columns={table_id+data_id: 'value'}, inplace=True)\n",
    "        \n",
    "        df_county = pd.concat([df_county, df])\n",
    "    \n",
    "county_map = {'033': 'King',\n",
    "               '035': 'Kitsap',\n",
    "               '053': 'Pierce',\n",
    "               '061': 'Snohomish'\n",
    "              }    \n",
    "df_county['place_name'] = df_county['county'].map(county_map)\n",
    "df_county = df_county[~df_county['place_name'].isnull()]  \n",
    "df_county['geoid'] = df_county['county'].copy()"
   ]
  },
  {
   "cell_type": "code",
   "execution_count": 17,
   "id": "9b163143",
   "metadata": {},
   "outputs": [],
   "source": [
    "df_county = pd.pivot_table(df_county, index=['geoid','place_name','mode'], columns=['data_type'], values='value', aggfunc='sum').reset_index()\n",
    "\n",
    "df_county['year'] = year\n",
    "df_county['place_type'] = 'county'\n",
    "df_county = df_county[['geoid','place_name','place_type','mode','estimate','year']]\n"
   ]
  },
  {
   "cell_type": "markdown",
   "id": "b8a567e9",
   "metadata": {},
   "source": [
    "# Tract"
   ]
  },
  {
   "cell_type": "code",
   "execution_count": 23,
   "id": "9804046b",
   "metadata": {},
   "outputs": [],
   "source": [
    "df_tract = pd.DataFrame()\n",
    "\n",
    "for table_id, mode in acs_dict.items():\n",
    "\n",
    "    for data_type, data_id in {'estimate': 'E',\n",
    "                               'margin_of_error':'M'}.items():\n",
    "        \n",
    "        df = get_acs_data(table_id+data_id, 'tract:*')\n",
    "        df['mode'] = mode\n",
    "        df['data_type'] = data_type\n",
    "        df.rename(columns={table_id+data_id: 'value'}, inplace=True)\n",
    "        \n",
    "        df_tract = pd.concat([df_tract, df])\n",
    "    \n",
    "county_map = {'033': 'King',\n",
    "               '035': 'Kitsap',\n",
    "               '053': 'Pierce',\n",
    "               '061': 'Snohomish'\n",
    "              }    \n",
    "df_tract['county_name'] = df_tract['county'].map(county_map)\n",
    "df_tract = df_tract[~df_tract['county_name'].isnull()]   \n",
    "df_tract['geoid'] = df_tract['state'].astype('str')+df_tract['county']+df_tract['tract']\n"
   ]
  },
  {
   "cell_type": "code",
   "execution_count": 24,
   "id": "496202d8",
   "metadata": {},
   "outputs": [],
   "source": [
    "df_tract = pd.pivot_table(df_tract, index=['geoid','tract','mode'], columns=['data_type'], values='value', aggfunc='sum').reset_index()\n",
    "df_tract.rename(columns={'tract': 'place_name'}, inplace=True)\n",
    "df_tract['year'] = year\n",
    "df_tract['place_type'] = 'tr'\n",
    "df_tract = df_tract[['place_name','place_type','mode','estimate','year']]\n"
   ]
  },
  {
   "cell_type": "code",
   "execution_count": 26,
   "id": "d71cd5e3",
   "metadata": {},
   "outputs": [],
   "source": [
    "final_df = pd.concat([df_place, df_tract, df_county])"
   ]
  },
  {
   "cell_type": "code",
   "execution_count": 220,
   "id": "580189c3",
   "metadata": {},
   "outputs": [],
   "source": [
    "# "
   ]
  },
  {
   "cell_type": "code",
   "execution_count": 29,
   "id": "cc251b61",
   "metadata": {},
   "outputs": [],
   "source": [
    "final_df['field1'] = range(1,len(final_df)+1)\n",
    "final_df.to_csv(r'R:\\e2projects_two\\SoundCast\\Inputs\\db_inputs\\acs_commute_mode_home_tract.csv',\n",
    "               index=False)"
   ]
  },
  {
   "cell_type": "code",
   "execution_count": 27,
   "id": "2e3179f5",
   "metadata": {},
   "outputs": [
    {
     "data": {
      "text/plain": [
       "array(['place', 'tr', 'county'], dtype=object)"
      ]
     },
     "execution_count": 27,
     "metadata": {},
     "output_type": "execute_result"
    }
   ],
   "source": [
    "final_df['place_type'].unique()"
   ]
  },
  {
   "cell_type": "code",
   "execution_count": 28,
   "id": "dab88ff4",
   "metadata": {},
   "outputs": [
    {
     "data": {
      "text/html": [
       "<div>\n",
       "<style scoped>\n",
       "    .dataframe tbody tr th:only-of-type {\n",
       "        vertical-align: middle;\n",
       "    }\n",
       "\n",
       "    .dataframe tbody tr th {\n",
       "        vertical-align: top;\n",
       "    }\n",
       "\n",
       "    .dataframe thead th {\n",
       "        text-align: right;\n",
       "    }\n",
       "</style>\n",
       "<table border=\"1\" class=\"dataframe\">\n",
       "  <thead>\n",
       "    <tr style=\"text-align: right;\">\n",
       "      <th></th>\n",
       "      <th>geoid</th>\n",
       "      <th>place_name</th>\n",
       "      <th>place_type</th>\n",
       "      <th>mode</th>\n",
       "      <th>estimate</th>\n",
       "      <th>year</th>\n",
       "    </tr>\n",
       "  </thead>\n",
       "  <tbody>\n",
       "    <tr>\n",
       "      <th>0</th>\n",
       "      <td>00100</td>\n",
       "      <td>00100</td>\n",
       "      <td>place</td>\n",
       "      <td>Carpooled</td>\n",
       "      <td>734.0</td>\n",
       "      <td>2023</td>\n",
       "    </tr>\n",
       "    <tr>\n",
       "      <th>1</th>\n",
       "      <td>00100</td>\n",
       "      <td>00100</td>\n",
       "      <td>place</td>\n",
       "      <td>Drove Alone</td>\n",
       "      <td>5033.0</td>\n",
       "      <td>2023</td>\n",
       "    </tr>\n",
       "    <tr>\n",
       "      <th>2</th>\n",
       "      <td>00100</td>\n",
       "      <td>00100</td>\n",
       "      <td>place</td>\n",
       "      <td>Other</td>\n",
       "      <td>66.0</td>\n",
       "      <td>2023</td>\n",
       "    </tr>\n",
       "    <tr>\n",
       "      <th>3</th>\n",
       "      <td>00100</td>\n",
       "      <td>00100</td>\n",
       "      <td>place</td>\n",
       "      <td>Total</td>\n",
       "      <td>6525.0</td>\n",
       "      <td>2023</td>\n",
       "    </tr>\n",
       "    <tr>\n",
       "      <th>4</th>\n",
       "      <td>00100</td>\n",
       "      <td>00100</td>\n",
       "      <td>place</td>\n",
       "      <td>Transit</td>\n",
       "      <td>89.0</td>\n",
       "      <td>2023</td>\n",
       "    </tr>\n",
       "    <tr>\n",
       "      <th>...</th>\n",
       "      <td>...</td>\n",
       "      <td>...</td>\n",
       "      <td>...</td>\n",
       "      <td>...</td>\n",
       "      <td>...</td>\n",
       "      <td>...</td>\n",
       "    </tr>\n",
       "    <tr>\n",
       "      <th>23</th>\n",
       "      <td>061</td>\n",
       "      <td>Snohomish</td>\n",
       "      <td>county</td>\n",
       "      <td>Other</td>\n",
       "      <td>3415.0</td>\n",
       "      <td>2023</td>\n",
       "    </tr>\n",
       "    <tr>\n",
       "      <th>24</th>\n",
       "      <td>061</td>\n",
       "      <td>Snohomish</td>\n",
       "      <td>county</td>\n",
       "      <td>Total</td>\n",
       "      <td>418564.0</td>\n",
       "      <td>2023</td>\n",
       "    </tr>\n",
       "    <tr>\n",
       "      <th>25</th>\n",
       "      <td>061</td>\n",
       "      <td>Snohomish</td>\n",
       "      <td>county</td>\n",
       "      <td>Transit</td>\n",
       "      <td>15840.0</td>\n",
       "      <td>2023</td>\n",
       "    </tr>\n",
       "    <tr>\n",
       "      <th>26</th>\n",
       "      <td>061</td>\n",
       "      <td>Snohomish</td>\n",
       "      <td>county</td>\n",
       "      <td>Walked</td>\n",
       "      <td>7461.0</td>\n",
       "      <td>2023</td>\n",
       "    </tr>\n",
       "    <tr>\n",
       "      <th>27</th>\n",
       "      <td>061</td>\n",
       "      <td>Snohomish</td>\n",
       "      <td>county</td>\n",
       "      <td>worked_at_home</td>\n",
       "      <td>66373.0</td>\n",
       "      <td>2023</td>\n",
       "    </tr>\n",
       "  </tbody>\n",
       "</table>\n",
       "<p>10962 rows × 6 columns</p>\n",
       "</div>"
      ],
      "text/plain": [
       "    geoid place_name place_type            mode  estimate  year\n",
       "0   00100      00100      place       Carpooled     734.0  2023\n",
       "1   00100      00100      place     Drove Alone    5033.0  2023\n",
       "2   00100      00100      place           Other      66.0  2023\n",
       "3   00100      00100      place           Total    6525.0  2023\n",
       "4   00100      00100      place         Transit      89.0  2023\n",
       "..    ...        ...        ...             ...       ...   ...\n",
       "23    061  Snohomish     county           Other    3415.0  2023\n",
       "24    061  Snohomish     county           Total  418564.0  2023\n",
       "25    061  Snohomish     county         Transit   15840.0  2023\n",
       "26    061  Snohomish     county          Walked    7461.0  2023\n",
       "27    061  Snohomish     county  worked_at_home   66373.0  2023\n",
       "\n",
       "[10962 rows x 6 columns]"
      ]
     },
     "execution_count": 28,
     "metadata": {},
     "output_type": "execute_result"
    }
   ],
   "source": [
    "final_df"
   ]
  },
  {
   "cell_type": "code",
   "execution_count": null,
   "id": "5d750541",
   "metadata": {},
   "outputs": [],
   "source": []
  }
 ],
 "metadata": {
  "kernelspec": {
   "display_name": "Python 3",
   "language": "python",
   "name": "python3"
  },
  "language_info": {
   "codemirror_mode": {
    "name": "ipython",
    "version": 3
   },
   "file_extension": ".py",
   "mimetype": "text/x-python",
   "name": "python",
   "nbconvert_exporter": "python",
   "pygments_lexer": "ipython3",
   "version": "3.7.10"
  }
 },
 "nbformat": 4,
 "nbformat_minor": 5
}
