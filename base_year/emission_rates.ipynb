{
 "cells": [
  {
   "cell_type": "code",
   "execution_count": 1,
   "id": "6c9f88d1",
   "metadata": {},
   "outputs": [],
   "source": [
    "import pandas as pd"
   ]
  },
  {
   "cell_type": "code",
   "execution_count": 10,
   "id": "8c62c6d3",
   "metadata": {},
   "outputs": [],
   "source": [
    "# Running Rates"
   ]
  },
  {
   "cell_type": "code",
   "execution_count": 2,
   "id": "f6dee983",
   "metadata": {},
   "outputs": [],
   "source": [
    "# Load current file\n",
    "df = pd.read_csv(r'R:\\e2projects_two\\SoundCast\\Inputs\\db_inputs\\running_emission_rates_by_veh_type.csv')"
   ]
  },
  {
   "cell_type": "code",
   "execution_count": 3,
   "id": "409c2138",
   "metadata": {},
   "outputs": [],
   "source": [
    "# For now, copy the 2018 rates and relabel them as 2023\n",
    "df_copy = df.loc[df['year'] == 2018, :].copy()"
   ]
  },
  {
   "cell_type": "code",
   "execution_count": 5,
   "id": "269ff650",
   "metadata": {},
   "outputs": [],
   "source": [
    "df_copy['year'] = 2023"
   ]
  },
  {
   "cell_type": "code",
   "execution_count": 7,
   "id": "574d7045",
   "metadata": {},
   "outputs": [],
   "source": [
    "df_out = pd.concat([df, df_copy])"
   ]
  },
  {
   "cell_type": "code",
   "execution_count": 8,
   "id": "434eafe0",
   "metadata": {},
   "outputs": [],
   "source": [
    "df_out.to_csv(r'R:\\e2projects_two\\SoundCast\\Inputs\\db_inputs\\running_emission_rates_by_veh_type.csv')"
   ]
  },
  {
   "cell_type": "code",
   "execution_count": 9,
   "id": "b03e5795",
   "metadata": {},
   "outputs": [
    {
     "data": {
      "text/plain": [
       "array([2018, 2030, 2040, 2050, 2023], dtype=int64)"
      ]
     },
     "execution_count": 9,
     "metadata": {},
     "output_type": "execute_result"
    }
   ],
   "source": [
    "df_out['year'].unique()"
   ]
  },
  {
   "cell_type": "code",
   "execution_count": 12,
   "id": "775f451c",
   "metadata": {},
   "outputs": [],
   "source": [
    "# Start Rates"
   ]
  },
  {
   "cell_type": "code",
   "execution_count": 13,
   "id": "6390f9be",
   "metadata": {},
   "outputs": [],
   "source": [
    "# Load current file\n",
    "df = pd.read_csv(r'R:\\e2projects_two\\SoundCast\\Inputs\\db_inputs\\start_emission_rates_by_veh_type.csv')"
   ]
  },
  {
   "cell_type": "code",
   "execution_count": 14,
   "id": "51b687f0",
   "metadata": {},
   "outputs": [],
   "source": [
    "# For now, copy the 2018 rates and relabel them as 2023\n",
    "df_copy = df.loc[df['year'] == 2018, :].copy()"
   ]
  },
  {
   "cell_type": "code",
   "execution_count": 15,
   "id": "632d0305",
   "metadata": {},
   "outputs": [],
   "source": [
    "df_copy['year'] = 2023"
   ]
  },
  {
   "cell_type": "code",
   "execution_count": 16,
   "id": "dab44030",
   "metadata": {},
   "outputs": [],
   "source": [
    "df_out = pd.concat([df, df_copy])"
   ]
  },
  {
   "cell_type": "code",
   "execution_count": null,
   "id": "124967f0",
   "metadata": {},
   "outputs": [],
   "source": [
    "df_out.to_csv(r'R:\\e2projects_two\\SoundCast\\Inputs\\db_inputs\\start_emission_rates_by_veh_type.csv')"
   ]
  },
  {
   "cell_type": "code",
   "execution_count": 18,
   "id": "5e4eadab",
   "metadata": {},
   "outputs": [
    {
     "data": {
      "text/html": [
       "<div>\n",
       "<style scoped>\n",
       "    .dataframe tbody tr th:only-of-type {\n",
       "        vertical-align: middle;\n",
       "    }\n",
       "\n",
       "    .dataframe tbody tr th {\n",
       "        vertical-align: top;\n",
       "    }\n",
       "\n",
       "    .dataframe thead th {\n",
       "        text-align: right;\n",
       "    }\n",
       "</style>\n",
       "<table border=\"1\" class=\"dataframe\">\n",
       "  <thead>\n",
       "    <tr style=\"text-align: right;\">\n",
       "      <th></th>\n",
       "      <th>Unnamed: 0</th>\n",
       "      <th>pollutantID</th>\n",
       "      <th>processID</th>\n",
       "      <th>monthID</th>\n",
       "      <th>dayID</th>\n",
       "      <th>hourID</th>\n",
       "      <th>ratePerVehicle</th>\n",
       "      <th>county</th>\n",
       "      <th>veh_type</th>\n",
       "      <th>year</th>\n",
       "    </tr>\n",
       "  </thead>\n",
       "  <tbody>\n",
       "    <tr>\n",
       "      <th>0</th>\n",
       "      <td>0</td>\n",
       "      <td>119</td>\n",
       "      <td>16</td>\n",
       "      <td>7</td>\n",
       "      <td>5</td>\n",
       "      <td>24</td>\n",
       "      <td>0.000000e+00</td>\n",
       "      <td>king</td>\n",
       "      <td>light</td>\n",
       "      <td>2018</td>\n",
       "    </tr>\n",
       "    <tr>\n",
       "      <th>1</th>\n",
       "      <td>1</td>\n",
       "      <td>119</td>\n",
       "      <td>2</td>\n",
       "      <td>7</td>\n",
       "      <td>5</td>\n",
       "      <td>24</td>\n",
       "      <td>0.000000e+00</td>\n",
       "      <td>king</td>\n",
       "      <td>light</td>\n",
       "      <td>2018</td>\n",
       "    </tr>\n",
       "    <tr>\n",
       "      <th>2</th>\n",
       "      <td>2</td>\n",
       "      <td>118</td>\n",
       "      <td>16</td>\n",
       "      <td>7</td>\n",
       "      <td>5</td>\n",
       "      <td>24</td>\n",
       "      <td>2.175830e-06</td>\n",
       "      <td>king</td>\n",
       "      <td>light</td>\n",
       "      <td>2018</td>\n",
       "    </tr>\n",
       "    <tr>\n",
       "      <th>3</th>\n",
       "      <td>3</td>\n",
       "      <td>118</td>\n",
       "      <td>2</td>\n",
       "      <td>7</td>\n",
       "      <td>5</td>\n",
       "      <td>24</td>\n",
       "      <td>2.575920e-04</td>\n",
       "      <td>king</td>\n",
       "      <td>light</td>\n",
       "      <td>2018</td>\n",
       "    </tr>\n",
       "    <tr>\n",
       "      <th>4</th>\n",
       "      <td>4</td>\n",
       "      <td>115</td>\n",
       "      <td>16</td>\n",
       "      <td>7</td>\n",
       "      <td>5</td>\n",
       "      <td>24</td>\n",
       "      <td>4.682960e-08</td>\n",
       "      <td>king</td>\n",
       "      <td>light</td>\n",
       "      <td>2018</td>\n",
       "    </tr>\n",
       "    <tr>\n",
       "      <th>...</th>\n",
       "      <td>...</td>\n",
       "      <td>...</td>\n",
       "      <td>...</td>\n",
       "      <td>...</td>\n",
       "      <td>...</td>\n",
       "      <td>...</td>\n",
       "      <td>...</td>\n",
       "      <td>...</td>\n",
       "      <td>...</td>\n",
       "      <td>...</td>\n",
       "    </tr>\n",
       "    <tr>\n",
       "      <th>20731</th>\n",
       "      <td>1291</td>\n",
       "      <td>3</td>\n",
       "      <td>2</td>\n",
       "      <td>1</td>\n",
       "      <td>5</td>\n",
       "      <td>1</td>\n",
       "      <td>6.350430e-02</td>\n",
       "      <td>snohomish</td>\n",
       "      <td>transit</td>\n",
       "      <td>2023</td>\n",
       "    </tr>\n",
       "    <tr>\n",
       "      <th>20732</th>\n",
       "      <td>1292</td>\n",
       "      <td>2</td>\n",
       "      <td>16</td>\n",
       "      <td>1</td>\n",
       "      <td>5</td>\n",
       "      <td>1</td>\n",
       "      <td>1.445120e-02</td>\n",
       "      <td>snohomish</td>\n",
       "      <td>transit</td>\n",
       "      <td>2023</td>\n",
       "    </tr>\n",
       "    <tr>\n",
       "      <th>20733</th>\n",
       "      <td>1293</td>\n",
       "      <td>2</td>\n",
       "      <td>2</td>\n",
       "      <td>1</td>\n",
       "      <td>5</td>\n",
       "      <td>1</td>\n",
       "      <td>7.568220e-01</td>\n",
       "      <td>snohomish</td>\n",
       "      <td>transit</td>\n",
       "      <td>2023</td>\n",
       "    </tr>\n",
       "    <tr>\n",
       "      <th>20734</th>\n",
       "      <td>1294</td>\n",
       "      <td>1</td>\n",
       "      <td>16</td>\n",
       "      <td>1</td>\n",
       "      <td>5</td>\n",
       "      <td>1</td>\n",
       "      <td>1.341530e-03</td>\n",
       "      <td>snohomish</td>\n",
       "      <td>transit</td>\n",
       "      <td>2023</td>\n",
       "    </tr>\n",
       "    <tr>\n",
       "      <th>20735</th>\n",
       "      <td>1295</td>\n",
       "      <td>1</td>\n",
       "      <td>2</td>\n",
       "      <td>1</td>\n",
       "      <td>5</td>\n",
       "      <td>1</td>\n",
       "      <td>9.698770e-02</td>\n",
       "      <td>snohomish</td>\n",
       "      <td>transit</td>\n",
       "      <td>2023</td>\n",
       "    </tr>\n",
       "  </tbody>\n",
       "</table>\n",
       "<p>103680 rows × 10 columns</p>\n",
       "</div>"
      ],
      "text/plain": [
       "       Unnamed: 0  pollutantID  processID  monthID  dayID  hourID  \\\n",
       "0               0          119         16        7      5      24   \n",
       "1               1          119          2        7      5      24   \n",
       "2               2          118         16        7      5      24   \n",
       "3               3          118          2        7      5      24   \n",
       "4               4          115         16        7      5      24   \n",
       "...           ...          ...        ...      ...    ...     ...   \n",
       "20731        1291            3          2        1      5       1   \n",
       "20732        1292            2         16        1      5       1   \n",
       "20733        1293            2          2        1      5       1   \n",
       "20734        1294            1         16        1      5       1   \n",
       "20735        1295            1          2        1      5       1   \n",
       "\n",
       "       ratePerVehicle     county veh_type  year  \n",
       "0        0.000000e+00       king    light  2018  \n",
       "1        0.000000e+00       king    light  2018  \n",
       "2        2.175830e-06       king    light  2018  \n",
       "3        2.575920e-04       king    light  2018  \n",
       "4        4.682960e-08       king    light  2018  \n",
       "...               ...        ...      ...   ...  \n",
       "20731    6.350430e-02  snohomish  transit  2023  \n",
       "20732    1.445120e-02  snohomish  transit  2023  \n",
       "20733    7.568220e-01  snohomish  transit  2023  \n",
       "20734    1.341530e-03  snohomish  transit  2023  \n",
       "20735    9.698770e-02  snohomish  transit  2023  \n",
       "\n",
       "[103680 rows x 10 columns]"
      ]
     },
     "execution_count": 18,
     "metadata": {},
     "output_type": "execute_result"
    }
   ],
   "source": [
    "df_out\n"
   ]
  },
  {
   "cell_type": "code",
   "execution_count": null,
   "id": "edc2104d",
   "metadata": {},
   "outputs": [],
   "source": []
  }
 ],
 "metadata": {
  "kernelspec": {
   "display_name": "Python 3",
   "language": "python",
   "name": "python3"
  },
  "language_info": {
   "codemirror_mode": {
    "name": "ipython",
    "version": 3
   },
   "file_extension": ".py",
   "mimetype": "text/x-python",
   "name": "python",
   "nbconvert_exporter": "python",
   "pygments_lexer": "ipython3",
   "version": "3.7.10"
  }
 },
 "nbformat": 4,
 "nbformat_minor": 5
}
