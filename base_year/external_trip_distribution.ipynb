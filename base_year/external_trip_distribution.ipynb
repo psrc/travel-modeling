{
 "cells": [
  {
   "cell_type": "code",
   "execution_count": 7,
   "id": "885e65f4",
   "metadata": {},
   "outputs": [],
   "source": [
    "import geopandas as gpd\n",
    "import pandas as pd\n",
    "import psrcelmerpy"
   ]
  },
  {
   "cell_type": "markdown",
   "id": "e83d96b9",
   "metadata": {},
   "source": [
    "# Create External Work Trip Distribution Table\n",
    "This process uses LEHD Origin-Destination data to build a trip table between internal PSRC zones and external stations\n",
    "External blocks are assigned a single likely external station where workers pass through on their way to work or home.\n",
    "The data works in both directions, including people that live outisde the region and commute to the region for work\n",
    "as well as those that live in the region and travel outside for work. "
   ]
  },
  {
   "cell_type": "markdown",
   "id": "b3a417b6",
   "metadata": {},
   "source": [
    "## Create Block-Zone Lookup\n",
    "A census block file was updated in ArcGIS to include a likely external station for blocks in adjacent counties. \n",
    "While workers may use other stations in many cases, this is a best guess for where people will enter/leave the region. "
   ]
  },
  {
   "cell_type": "code",
   "execution_count": 8,
   "id": "4022ff11",
   "metadata": {},
   "outputs": [
    {
     "name": "stderr",
     "output_type": "stream",
     "text": [
      "C:\\Users\\Modeller\\AppData\\Local\\anaconda3\\envs\\summary\\lib\\site-packages\\ipykernel_launcher.py:18: UserWarning: Geometry is in a geographic CRS. Results from 'centroid' are likely incorrect. Use 'GeoSeries.to_crs()' to re-project geometries to a projected CRS before this operation.\n",
      "\n"
     ]
    }
   ],
   "source": [
    "# Load shapefile of 2020 census blocks in adjacent counties were separated into likely external zone locations.\n",
    "block_ext_gdf = gpd.read_file(r'R:\\e2projects_two\\2023_base_year\\externals\\externals_blocks2020_v4.shp')\n",
    "# Create a lookup file for GEOID and TAZ, starting with these external zones\n",
    "block_taz_df = block_ext_gdf[['GEOID20','EXT_STA']].copy()\n",
    "block_taz_df.rename(columns={'EXT_STA': 'taz'}, inplace=True)\n",
    "\n",
    "# The block-zone lookup above only includes blocks outside the PSRC region. \n",
    "# We also need an internal lookup so all blocks within the region and in adjacent counties have a TAZ\n",
    "\n",
    "# Load TAZ shapefile from ElmerGeo\n",
    "eg_conn = psrcelmerpy.ElmerGeoConn()\n",
    "gdf_taz = eg_conn.read_geolayer('taz2010')\n",
    "\n",
    "# Load regional Census block data from Elmer \n",
    "gdf_blocks = eg_conn.read_geolayer('BLOCK2020')\n",
    "# Convert block polygon to centroid to spatially join to TAZ polygon file\n",
    "gdf_blocks_pt = gdf_blocks.copy()\n",
    "gdf_blocks_pt['geometry'] = gdf_blocks_pt['geometry'].centroid\n",
    "block_taz_gdf = gpd.sjoin(gdf_blocks_pt, gdf_taz)\n",
    "block_taz_gdf['GEOID20'] = block_taz_gdf['geoid20'].astype('str')\n",
    "\n",
    "# Append the external blocks to internal blocks; all blocks in adjacent counties and internal zones should have a TAZ\n",
    "block_taz_df = block_taz_df.append(block_taz_gdf[['GEOID20','taz']])\n",
    "\n",
    "block_taz_df['taz'] = block_taz_df['taz'].astype('int')"
   ]
  },
  {
   "cell_type": "code",
   "execution_count": 9,
   "id": "2c7e33b4",
   "metadata": {},
   "outputs": [
    {
     "data": {
      "text/html": [
       "<div>\n",
       "<style scoped>\n",
       "    .dataframe tbody tr th:only-of-type {\n",
       "        vertical-align: middle;\n",
       "    }\n",
       "\n",
       "    .dataframe tbody tr th {\n",
       "        vertical-align: top;\n",
       "    }\n",
       "\n",
       "    .dataframe thead th {\n",
       "        text-align: right;\n",
       "    }\n",
       "</style>\n",
       "<table border=\"1\" class=\"dataframe\">\n",
       "  <thead>\n",
       "    <tr style=\"text-align: right;\">\n",
       "      <th></th>\n",
       "      <th>GEOID20</th>\n",
       "      <th>taz</th>\n",
       "    </tr>\n",
       "  </thead>\n",
       "  <tbody>\n",
       "    <tr>\n",
       "      <th>0</th>\n",
       "      <td>530079601001000</td>\n",
       "      <td>3740</td>\n",
       "    </tr>\n",
       "    <tr>\n",
       "      <th>1</th>\n",
       "      <td>530079601001001</td>\n",
       "      <td>3740</td>\n",
       "    </tr>\n",
       "    <tr>\n",
       "      <th>2</th>\n",
       "      <td>530079601001002</td>\n",
       "      <td>3740</td>\n",
       "    </tr>\n",
       "    <tr>\n",
       "      <th>3</th>\n",
       "      <td>530079601001003</td>\n",
       "      <td>3740</td>\n",
       "    </tr>\n",
       "    <tr>\n",
       "      <th>4</th>\n",
       "      <td>530079601001004</td>\n",
       "      <td>3740</td>\n",
       "    </tr>\n",
       "  </tbody>\n",
       "</table>\n",
       "</div>"
      ],
      "text/plain": [
       "           GEOID20   taz\n",
       "0  530079601001000  3740\n",
       "1  530079601001001  3740\n",
       "2  530079601001002  3740\n",
       "3  530079601001003  3740\n",
       "4  530079601001004  3740"
      ]
     },
     "execution_count": 9,
     "metadata": {},
     "output_type": "execute_result"
    }
   ],
   "source": [
    "block_taz_df.head()"
   ]
  },
  {
   "cell_type": "code",
   "execution_count": 10,
   "id": "9ce195e2",
   "metadata": {},
   "outputs": [
    {
     "data": {
      "text/html": [
       "<div>\n",
       "<style scoped>\n",
       "    .dataframe tbody tr th:only-of-type {\n",
       "        vertical-align: middle;\n",
       "    }\n",
       "\n",
       "    .dataframe tbody tr th {\n",
       "        vertical-align: top;\n",
       "    }\n",
       "\n",
       "    .dataframe thead th {\n",
       "        text-align: right;\n",
       "    }\n",
       "</style>\n",
       "<table border=\"1\" class=\"dataframe\">\n",
       "  <thead>\n",
       "    <tr style=\"text-align: right;\">\n",
       "      <th></th>\n",
       "      <th>GEOID20</th>\n",
       "      <th>taz</th>\n",
       "    </tr>\n",
       "  </thead>\n",
       "  <tbody>\n",
       "  </tbody>\n",
       "</table>\n",
       "</div>"
      ],
      "text/plain": [
       "Empty DataFrame\n",
       "Columns: [GEOID20, taz]\n",
       "Index: []"
      ]
     },
     "execution_count": 10,
     "metadata": {},
     "output_type": "execute_result"
    }
   ],
   "source": [
    "# Check that the append didn't duplicate blocks\n",
    "block_taz_df[block_taz_df['GEOID20'].duplicated()]"
   ]
  },
  {
   "cell_type": "markdown",
   "id": "18e38732",
   "metadata": {},
   "source": [
    "## Process LEHD Data\n",
    "Loading v8 LODES data for latest year which should use 2020 Census geographies\n",
    "Note that as of Oct 2024, the latest year available is 2021"
   ]
  },
  {
   "cell_type": "code",
   "execution_count": 11,
   "id": "9d8e85d5",
   "metadata": {},
   "outputs": [],
   "source": [
    "# Load LEHD data\n",
    "# Note that v8 uses 2020 Census geog\n",
    "df_lehd = pd.read_csv(r'R:\\e2projects_two\\2023_base_year\\LEHD\\wa_od_main_JT00_2021.csv')\n",
    "for col in ['h_geocode','w_geocode']:\n",
    "    df_lehd[col] = df_lehd[col].astype('str')"
   ]
  },
  {
   "cell_type": "code",
   "execution_count": 12,
   "id": "6847083b",
   "metadata": {},
   "outputs": [],
   "source": [
    "# Merge the block-TAZ lookup onto the data to get TAZ for each block\n",
    "# Both home and work GEOID fields need to be joined\n",
    "df = df_lehd.merge(block_taz_df, left_on='h_geocode', right_on='GEOID20')\n",
    "df.rename(columns={'taz': 'h_taz'}, inplace=True)\n",
    "df.drop('GEOID20',inplace=True,axis=1)\n",
    "\n",
    "df = df.merge(block_taz_df, left_on='w_geocode', right_on='GEOID20')\n",
    "df.rename(columns={'taz': 'w_taz'}, inplace=True)\n",
    "df.drop('GEOID20',inplace=True,axis=1)"
   ]
  },
  {
   "cell_type": "code",
   "execution_count": 13,
   "id": "2201a914",
   "metadata": {},
   "outputs": [
    {
     "data": {
      "text/html": [
       "<div>\n",
       "<style scoped>\n",
       "    .dataframe tbody tr th:only-of-type {\n",
       "        vertical-align: middle;\n",
       "    }\n",
       "\n",
       "    .dataframe tbody tr th {\n",
       "        vertical-align: top;\n",
       "    }\n",
       "\n",
       "    .dataframe thead th {\n",
       "        text-align: right;\n",
       "    }\n",
       "</style>\n",
       "<table border=\"1\" class=\"dataframe\">\n",
       "  <thead>\n",
       "    <tr style=\"text-align: right;\">\n",
       "      <th></th>\n",
       "      <th>w_geocode</th>\n",
       "      <th>h_geocode</th>\n",
       "      <th>S000</th>\n",
       "      <th>SA01</th>\n",
       "      <th>SA02</th>\n",
       "      <th>SA03</th>\n",
       "      <th>SE01</th>\n",
       "      <th>SE02</th>\n",
       "      <th>SE03</th>\n",
       "      <th>SI01</th>\n",
       "      <th>SI02</th>\n",
       "      <th>SI03</th>\n",
       "      <th>createdate</th>\n",
       "      <th>h_taz</th>\n",
       "      <th>w_taz</th>\n",
       "    </tr>\n",
       "  </thead>\n",
       "  <tbody>\n",
       "    <tr>\n",
       "      <th>0</th>\n",
       "      <td>530079603012019</td>\n",
       "      <td>530079603023006</td>\n",
       "      <td>1</td>\n",
       "      <td>0</td>\n",
       "      <td>0</td>\n",
       "      <td>1</td>\n",
       "      <td>0</td>\n",
       "      <td>1</td>\n",
       "      <td>0</td>\n",
       "      <td>1</td>\n",
       "      <td>0</td>\n",
       "      <td>0</td>\n",
       "      <td>20231016</td>\n",
       "      <td>3740</td>\n",
       "      <td>3740</td>\n",
       "    </tr>\n",
       "    <tr>\n",
       "      <th>1</th>\n",
       "      <td>530079603012019</td>\n",
       "      <td>530079603013004</td>\n",
       "      <td>1</td>\n",
       "      <td>0</td>\n",
       "      <td>1</td>\n",
       "      <td>0</td>\n",
       "      <td>0</td>\n",
       "      <td>1</td>\n",
       "      <td>0</td>\n",
       "      <td>1</td>\n",
       "      <td>0</td>\n",
       "      <td>0</td>\n",
       "      <td>20231016</td>\n",
       "      <td>3740</td>\n",
       "      <td>3740</td>\n",
       "    </tr>\n",
       "    <tr>\n",
       "      <th>2</th>\n",
       "      <td>530079603012019</td>\n",
       "      <td>530610527084000</td>\n",
       "      <td>1</td>\n",
       "      <td>0</td>\n",
       "      <td>1</td>\n",
       "      <td>0</td>\n",
       "      <td>0</td>\n",
       "      <td>1</td>\n",
       "      <td>0</td>\n",
       "      <td>1</td>\n",
       "      <td>0</td>\n",
       "      <td>0</td>\n",
       "      <td>20231016</td>\n",
       "      <td>2203</td>\n",
       "      <td>3740</td>\n",
       "    </tr>\n",
       "    <tr>\n",
       "      <th>3</th>\n",
       "      <td>530079603012019</td>\n",
       "      <td>530079603013019</td>\n",
       "      <td>1</td>\n",
       "      <td>0</td>\n",
       "      <td>1</td>\n",
       "      <td>0</td>\n",
       "      <td>0</td>\n",
       "      <td>1</td>\n",
       "      <td>0</td>\n",
       "      <td>1</td>\n",
       "      <td>0</td>\n",
       "      <td>0</td>\n",
       "      <td>20231016</td>\n",
       "      <td>3740</td>\n",
       "      <td>3740</td>\n",
       "    </tr>\n",
       "    <tr>\n",
       "      <th>4</th>\n",
       "      <td>530079603012019</td>\n",
       "      <td>530079603032007</td>\n",
       "      <td>1</td>\n",
       "      <td>0</td>\n",
       "      <td>1</td>\n",
       "      <td>0</td>\n",
       "      <td>0</td>\n",
       "      <td>1</td>\n",
       "      <td>0</td>\n",
       "      <td>1</td>\n",
       "      <td>0</td>\n",
       "      <td>0</td>\n",
       "      <td>20231016</td>\n",
       "      <td>3740</td>\n",
       "      <td>3740</td>\n",
       "    </tr>\n",
       "  </tbody>\n",
       "</table>\n",
       "</div>"
      ],
      "text/plain": [
       "         w_geocode        h_geocode  S000  SA01  SA02  SA03  SE01  SE02  SE03  \\\n",
       "0  530079603012019  530079603023006     1     0     0     1     0     1     0   \n",
       "1  530079603012019  530079603013004     1     0     1     0     0     1     0   \n",
       "2  530079603012019  530610527084000     1     0     1     0     0     1     0   \n",
       "3  530079603012019  530079603013019     1     0     1     0     0     1     0   \n",
       "4  530079603012019  530079603032007     1     0     1     0     0     1     0   \n",
       "\n",
       "   SI01  SI02  SI03  createdate  h_taz  w_taz  \n",
       "0     1     0     0    20231016   3740   3740  \n",
       "1     1     0     0    20231016   3740   3740  \n",
       "2     1     0     0    20231016   2203   3740  \n",
       "3     1     0     0    20231016   3740   3740  \n",
       "4     1     0     0    20231016   3740   3740  "
      ]
     },
     "execution_count": 13,
     "metadata": {},
     "output_type": "execute_result"
    }
   ],
   "source": [
    "df.head()"
   ]
  },
  {
   "cell_type": "code",
   "execution_count": 14,
   "id": "a66c5cab",
   "metadata": {},
   "outputs": [
    {
     "name": "stdout",
     "output_type": "stream",
     "text": [
      "0\n",
      "0\n",
      "0\n",
      "0\n"
     ]
    }
   ],
   "source": [
    "# Check that all home and work GEOIDs are valid\n",
    "print(len(df[df['h_taz']==0]))\n",
    "print(len(df[df['h_taz'].isnull()]))\n",
    "\n",
    "print(len(df[df['w_taz']==0]))\n",
    "print(len(df[df['w_taz'].isnull()]))"
   ]
  },
  {
   "cell_type": "code",
   "execution_count": null,
   "id": "8ae5e9ae",
   "metadata": {},
   "outputs": [],
   "source": []
  },
  {
   "cell_type": "markdown",
   "id": "0878b72f",
   "metadata": {},
   "source": [
    "### Calculate External-Internal Travel\n",
    "Home is outside region, work is inside region"
   ]
  },
  {
   "cell_type": "code",
   "execution_count": 15,
   "id": "bb71dbe4",
   "metadata": {},
   "outputs": [],
   "source": [
    "# Commute mode share assumptions of auto trips\n",
    "# Update with latest survey data for commute tour mode share (auto trips only, should sum to 1)\n",
    "sov_share = 0.725\n",
    "hov2_share = 0.16\n",
    "hov3_share = 0.115\n",
    "\n",
    "hov3_occupancy = 3.5    # average assumed for other analyses"
   ]
  },
  {
   "cell_type": "code",
   "execution_count": 16,
   "id": "f23e7130",
   "metadata": {},
   "outputs": [],
   "source": [
    "# For external_internal, we only want people that live outside of our region and work in the region\n",
    "df_ei = df[(df['h_taz']>3700) & (df['w_taz']<=3700)].copy()\n",
    "suffix = 'EI'\n",
    "\n",
    "\n",
    "df_ei['SOV_Per_'+suffix] = df_ei['S000']*sov_share\n",
    "df_ei['HOV2_Per_'+suffix] = df_ei['S000']*hov2_share\n",
    "df_ei['HOV3_Per_'+suffix] = df_ei['S000']*hov3_share\n",
    "\n",
    "# Convert from person trips to vehicle trips\n",
    "# Assume SOV is 1 person trip and HOV2 is 0.5 vehicles trips\n",
    "# HOV3 is 1/3.5 vehicle trips\n",
    "df_ei['SOV_Veh_'+suffix] = df_ei['SOV_Per_'+suffix].copy()\n",
    "df_ei['HOV2_Veh_'+suffix] = df_ei['HOV2_Per_'+suffix]/2    # by definition\n",
    "df_ei['HOV3_Veh_'+suffix] = df_ei['HOV3_Per_'+suffix]/hov3_occupancy\n",
    "\n",
    "df_ei.rename(columns={'S000': 'Total_EI',\n",
    "                      'h_taz': 'External_Station',\n",
    "                      'w_taz': 'PSRC_TAZ'}, \n",
    "             inplace=True)\n",
    "\n",
    "df_ei = df_ei[['PSRC_TAZ','External_Station','Total_EI',\n",
    "               'SOV_Per_EI','HOV2_Per_EI','HOV3_Per_EI',\n",
    "               'SOV_Veh_EI','HOV2_Veh_EI','HOV3_Veh_EI']]"
   ]
  },
  {
   "cell_type": "markdown",
   "id": "47b66db2",
   "metadata": {},
   "source": [
    "### Internal-External Travel"
   ]
  },
  {
   "cell_type": "code",
   "execution_count": 17,
   "id": "bfec260e",
   "metadata": {},
   "outputs": [],
   "source": [
    "# For internal-external, we only want people that live outside of our region\n",
    "df_ie = df[(df['w_taz']>3700) & (df['h_taz']<=3700)].copy()\n",
    "suffix = 'IE'\n",
    "df_ie['SOV_Per_'+suffix] = df_ie['S000']*sov_share\n",
    "df_ie['HOV2_Per_'+suffix] = df_ie['S000']*hov2_share\n",
    "df_ie['HOV3_Per_'+suffix] = df_ie['S000']*hov3_share\n",
    "\n",
    "# Convert from person trips to vehicle trips\n",
    "# Assume SOV is 1 person trip and HOV2 is 0.5 vehicles trips\n",
    "# HOV3 is 1/3.5 vehicle trips\n",
    "df_ie['SOV_Veh_'+suffix] = df_ie['SOV_Per_'+suffix].copy()\n",
    "df_ie['HOV2_Veh_'+suffix] = df_ie['HOV2_Per_'+suffix]/2\n",
    "df_ie['HOV3_Veh_'+suffix] = df_ie['HOV3_Per_'+suffix]/hov3_occupancy\n",
    "\n",
    "df_ie.rename(columns={'S000': 'Total_IE', \n",
    "                      'w_taz': 'External_Station',\n",
    "                      'h_taz': 'PSRC_TAZ'}, inplace=True)\n",
    "\n",
    "df_ie = df_ie[['PSRC_TAZ','External_Station','Total_IE',\n",
    "               'SOV_Per_IE','HOV2_Per_IE','HOV3_Per_IE',\n",
    "               'SOV_Veh_IE','HOV2_Veh_IE','HOV3_Veh_IE']]"
   ]
  },
  {
   "cell_type": "markdown",
   "id": "a09c81a1",
   "metadata": {},
   "source": [
    "# Scale to Account for Average Travel\n",
    "Not all workers commute every day, and some are fully at home"
   ]
  },
  {
   "cell_type": "code",
   "execution_count": 93,
   "id": "5b0613fe",
   "metadata": {},
   "outputs": [],
   "source": [
    "# Merge and Format the data\n",
    "\n",
    "# Append the two datasets even though unique columns are used for each; fill na with zero\n",
    "# This matches the format of an older version and works with the current code\n",
    "df = df_ie.append(df_ei).fillna(0)\n",
    "col_list = ['PSRC_TAZ', 'External_Station', 'Total_IE', 'Total_EI', \n",
    "        'SOV_Per_IE', 'SOV_Per_EI', 'HOV2_Per_IE', 'HOV2_Per_EI', \n",
    "        'HOV3_Per_IE', 'HOV3_Per_EI', 'SOV_Veh_IE', 'SOV_Veh_EI', \n",
    "        'HOV2_Veh_IE', 'HOV2_Veh_EI', 'HOV3_Veh_IE','HOV3_Veh_EI']\n",
    "df = df[col_list]\n",
    "\n",
    "travel_col_list = ['Total_IE', 'Total_EI', \n",
    "        'SOV_Per_IE', 'SOV_Per_EI', 'HOV2_Per_IE', 'HOV2_Per_EI', \n",
    "        'HOV3_Per_IE', 'HOV3_Per_EI', 'SOV_Veh_IE', 'SOV_Veh_EI', \n",
    "        'HOV2_Veh_IE', 'HOV2_Veh_EI', 'HOV3_Veh_IE','HOV3_Veh_EI']\n",
    "\n",
    "# Source: daysim-formatted validation summary: validation-notebook/validation_scripts/telecommute.html\n",
    "wfh_share = 0.1361    # worker type: WFH\n",
    "telework_share = 0.1066    # worker type: telecommuter\n",
    "commuter_share = (1-wfh_share-telework_share)    # worker type: commuter\n",
    "\n",
    "# Average number of telecommuters making work tours\n",
    "teleworkers_commute_rate = 0.3354    # (work tours> 0)\n",
    "commuter_commuter_rate = 0.7052\n",
    "# Likelihood of a commuter traveling to work on a given day\n",
    "\n",
    "########## CALIBRATION ##########\n",
    "# The above resulted in less travel than expected at external stations\n",
    "# To adjust, we can assume a lower wfh_share since King County\n",
    "# is driving the high share and places outside of King had rates closer to 10% in 2023\n",
    "wfh_share = 0.10\n",
    "# Telecommuters were more like 5% outside of King\n",
    "telework_share = 0.05\n",
    "# recompute commuter_share\n",
    "commuter_share = (1-wfh_share-telework_share)\n",
    "#################################\n",
    "\n",
    "# Calcualte reduction factor across all trips\n",
    "reduction_factor = (telework_share*teleworkers_commute_rate)+(commuter_share*commuter_commuter_rate)\n",
    "# First remove all fully WFH people\n",
    "df[travel_col_list] = df[travel_col_list]*(1-wfh_share)\n",
    "# Then apply the reduction factor to those remaining commuters and teleworkers, \n",
    "# to account for likelihood of travel in the given day\n",
    "df[travel_col_list] = df[travel_col_list]*reduction_factor\n"
   ]
  },
  {
   "cell_type": "code",
   "execution_count": 94,
   "id": "f7820888",
   "metadata": {},
   "outputs": [
    {
     "data": {
      "text/html": [
       "<div>\n",
       "<style scoped>\n",
       "    .dataframe tbody tr th:only-of-type {\n",
       "        vertical-align: middle;\n",
       "    }\n",
       "\n",
       "    .dataframe tbody tr th {\n",
       "        vertical-align: top;\n",
       "    }\n",
       "\n",
       "    .dataframe thead th {\n",
       "        text-align: right;\n",
       "    }\n",
       "</style>\n",
       "<table border=\"1\" class=\"dataframe\">\n",
       "  <thead>\n",
       "    <tr style=\"text-align: right;\">\n",
       "      <th></th>\n",
       "      <th>PSRC_TAZ</th>\n",
       "      <th>External_Station</th>\n",
       "      <th>Total_IE</th>\n",
       "      <th>Total_EI</th>\n",
       "      <th>SOV_Per_IE</th>\n",
       "      <th>SOV_Per_EI</th>\n",
       "      <th>HOV2_Per_IE</th>\n",
       "      <th>HOV2_Per_EI</th>\n",
       "      <th>HOV3_Per_IE</th>\n",
       "      <th>HOV3_Per_EI</th>\n",
       "      <th>SOV_Veh_IE</th>\n",
       "      <th>SOV_Veh_EI</th>\n",
       "      <th>HOV2_Veh_IE</th>\n",
       "      <th>HOV2_Veh_EI</th>\n",
       "      <th>HOV3_Veh_IE</th>\n",
       "      <th>HOV3_Veh_EI</th>\n",
       "    </tr>\n",
       "  </thead>\n",
       "  <tbody>\n",
       "    <tr>\n",
       "      <th>2</th>\n",
       "      <td>2203</td>\n",
       "      <td>3740</td>\n",
       "      <td>0.554571</td>\n",
       "      <td>0.000000</td>\n",
       "      <td>0.402064</td>\n",
       "      <td>0.000000</td>\n",
       "      <td>0.088731</td>\n",
       "      <td>0.000000</td>\n",
       "      <td>0.063776</td>\n",
       "      <td>0.000000</td>\n",
       "      <td>0.402064</td>\n",
       "      <td>0.000000</td>\n",
       "      <td>0.044366</td>\n",
       "      <td>0.000000</td>\n",
       "      <td>0.018222</td>\n",
       "      <td>0.000000</td>\n",
       "    </tr>\n",
       "    <tr>\n",
       "      <th>22</th>\n",
       "      <td>189</td>\n",
       "      <td>3740</td>\n",
       "      <td>0.554571</td>\n",
       "      <td>0.000000</td>\n",
       "      <td>0.402064</td>\n",
       "      <td>0.000000</td>\n",
       "      <td>0.088731</td>\n",
       "      <td>0.000000</td>\n",
       "      <td>0.063776</td>\n",
       "      <td>0.000000</td>\n",
       "      <td>0.402064</td>\n",
       "      <td>0.000000</td>\n",
       "      <td>0.044366</td>\n",
       "      <td>0.000000</td>\n",
       "      <td>0.018222</td>\n",
       "      <td>0.000000</td>\n",
       "    </tr>\n",
       "    <tr>\n",
       "      <th>23</th>\n",
       "      <td>1937</td>\n",
       "      <td>3740</td>\n",
       "      <td>0.554571</td>\n",
       "      <td>0.000000</td>\n",
       "      <td>0.402064</td>\n",
       "      <td>0.000000</td>\n",
       "      <td>0.088731</td>\n",
       "      <td>0.000000</td>\n",
       "      <td>0.063776</td>\n",
       "      <td>0.000000</td>\n",
       "      <td>0.402064</td>\n",
       "      <td>0.000000</td>\n",
       "      <td>0.044366</td>\n",
       "      <td>0.000000</td>\n",
       "      <td>0.018222</td>\n",
       "      <td>0.000000</td>\n",
       "    </tr>\n",
       "    <tr>\n",
       "      <th>68</th>\n",
       "      <td>2428</td>\n",
       "      <td>3740</td>\n",
       "      <td>0.554571</td>\n",
       "      <td>0.000000</td>\n",
       "      <td>0.402064</td>\n",
       "      <td>0.000000</td>\n",
       "      <td>0.088731</td>\n",
       "      <td>0.000000</td>\n",
       "      <td>0.063776</td>\n",
       "      <td>0.000000</td>\n",
       "      <td>0.402064</td>\n",
       "      <td>0.000000</td>\n",
       "      <td>0.044366</td>\n",
       "      <td>0.000000</td>\n",
       "      <td>0.018222</td>\n",
       "      <td>0.000000</td>\n",
       "    </tr>\n",
       "    <tr>\n",
       "      <th>135</th>\n",
       "      <td>343</td>\n",
       "      <td>3740</td>\n",
       "      <td>0.554571</td>\n",
       "      <td>0.000000</td>\n",
       "      <td>0.402064</td>\n",
       "      <td>0.000000</td>\n",
       "      <td>0.088731</td>\n",
       "      <td>0.000000</td>\n",
       "      <td>0.063776</td>\n",
       "      <td>0.000000</td>\n",
       "      <td>0.402064</td>\n",
       "      <td>0.000000</td>\n",
       "      <td>0.044366</td>\n",
       "      <td>0.000000</td>\n",
       "      <td>0.018222</td>\n",
       "      <td>0.000000</td>\n",
       "    </tr>\n",
       "    <tr>\n",
       "      <th>...</th>\n",
       "      <td>...</td>\n",
       "      <td>...</td>\n",
       "      <td>...</td>\n",
       "      <td>...</td>\n",
       "      <td>...</td>\n",
       "      <td>...</td>\n",
       "      <td>...</td>\n",
       "      <td>...</td>\n",
       "      <td>...</td>\n",
       "      <td>...</td>\n",
       "      <td>...</td>\n",
       "      <td>...</td>\n",
       "      <td>...</td>\n",
       "      <td>...</td>\n",
       "      <td>...</td>\n",
       "      <td>...</td>\n",
       "    </tr>\n",
       "    <tr>\n",
       "      <th>1899957</th>\n",
       "      <td>1886</td>\n",
       "      <td>3739</td>\n",
       "      <td>0.000000</td>\n",
       "      <td>0.554571</td>\n",
       "      <td>0.000000</td>\n",
       "      <td>0.402064</td>\n",
       "      <td>0.000000</td>\n",
       "      <td>0.088731</td>\n",
       "      <td>0.000000</td>\n",
       "      <td>0.063776</td>\n",
       "      <td>0.000000</td>\n",
       "      <td>0.402064</td>\n",
       "      <td>0.000000</td>\n",
       "      <td>0.044366</td>\n",
       "      <td>0.000000</td>\n",
       "      <td>0.018222</td>\n",
       "    </tr>\n",
       "    <tr>\n",
       "      <th>1899959</th>\n",
       "      <td>1913</td>\n",
       "      <td>3739</td>\n",
       "      <td>0.000000</td>\n",
       "      <td>0.554571</td>\n",
       "      <td>0.000000</td>\n",
       "      <td>0.402064</td>\n",
       "      <td>0.000000</td>\n",
       "      <td>0.088731</td>\n",
       "      <td>0.000000</td>\n",
       "      <td>0.063776</td>\n",
       "      <td>0.000000</td>\n",
       "      <td>0.402064</td>\n",
       "      <td>0.000000</td>\n",
       "      <td>0.044366</td>\n",
       "      <td>0.000000</td>\n",
       "      <td>0.018222</td>\n",
       "    </tr>\n",
       "    <tr>\n",
       "      <th>1899974</th>\n",
       "      <td>2158</td>\n",
       "      <td>3733</td>\n",
       "      <td>0.000000</td>\n",
       "      <td>0.554571</td>\n",
       "      <td>0.000000</td>\n",
       "      <td>0.402064</td>\n",
       "      <td>0.000000</td>\n",
       "      <td>0.088731</td>\n",
       "      <td>0.000000</td>\n",
       "      <td>0.063776</td>\n",
       "      <td>0.000000</td>\n",
       "      <td>0.402064</td>\n",
       "      <td>0.000000</td>\n",
       "      <td>0.044366</td>\n",
       "      <td>0.000000</td>\n",
       "      <td>0.018222</td>\n",
       "    </tr>\n",
       "    <tr>\n",
       "      <th>1899986</th>\n",
       "      <td>3391</td>\n",
       "      <td>3738</td>\n",
       "      <td>0.000000</td>\n",
       "      <td>0.554571</td>\n",
       "      <td>0.000000</td>\n",
       "      <td>0.402064</td>\n",
       "      <td>0.000000</td>\n",
       "      <td>0.088731</td>\n",
       "      <td>0.000000</td>\n",
       "      <td>0.063776</td>\n",
       "      <td>0.000000</td>\n",
       "      <td>0.402064</td>\n",
       "      <td>0.000000</td>\n",
       "      <td>0.044366</td>\n",
       "      <td>0.000000</td>\n",
       "      <td>0.018222</td>\n",
       "    </tr>\n",
       "    <tr>\n",
       "      <th>1899993</th>\n",
       "      <td>2613</td>\n",
       "      <td>3744</td>\n",
       "      <td>0.000000</td>\n",
       "      <td>0.554571</td>\n",
       "      <td>0.000000</td>\n",
       "      <td>0.402064</td>\n",
       "      <td>0.000000</td>\n",
       "      <td>0.088731</td>\n",
       "      <td>0.000000</td>\n",
       "      <td>0.063776</td>\n",
       "      <td>0.000000</td>\n",
       "      <td>0.402064</td>\n",
       "      <td>0.000000</td>\n",
       "      <td>0.044366</td>\n",
       "      <td>0.000000</td>\n",
       "      <td>0.018222</td>\n",
       "    </tr>\n",
       "  </tbody>\n",
       "</table>\n",
       "<p>172459 rows × 16 columns</p>\n",
       "</div>"
      ],
      "text/plain": [
       "         PSRC_TAZ  External_Station  Total_IE  Total_EI  SOV_Per_IE  \\\n",
       "2            2203              3740  0.554571  0.000000    0.402064   \n",
       "22            189              3740  0.554571  0.000000    0.402064   \n",
       "23           1937              3740  0.554571  0.000000    0.402064   \n",
       "68           2428              3740  0.554571  0.000000    0.402064   \n",
       "135           343              3740  0.554571  0.000000    0.402064   \n",
       "...           ...               ...       ...       ...         ...   \n",
       "1899957      1886              3739  0.000000  0.554571    0.000000   \n",
       "1899959      1913              3739  0.000000  0.554571    0.000000   \n",
       "1899974      2158              3733  0.000000  0.554571    0.000000   \n",
       "1899986      3391              3738  0.000000  0.554571    0.000000   \n",
       "1899993      2613              3744  0.000000  0.554571    0.000000   \n",
       "\n",
       "         SOV_Per_EI  HOV2_Per_IE  HOV2_Per_EI  HOV3_Per_IE  HOV3_Per_EI  \\\n",
       "2          0.000000     0.088731     0.000000     0.063776     0.000000   \n",
       "22         0.000000     0.088731     0.000000     0.063776     0.000000   \n",
       "23         0.000000     0.088731     0.000000     0.063776     0.000000   \n",
       "68         0.000000     0.088731     0.000000     0.063776     0.000000   \n",
       "135        0.000000     0.088731     0.000000     0.063776     0.000000   \n",
       "...             ...          ...          ...          ...          ...   \n",
       "1899957    0.402064     0.000000     0.088731     0.000000     0.063776   \n",
       "1899959    0.402064     0.000000     0.088731     0.000000     0.063776   \n",
       "1899974    0.402064     0.000000     0.088731     0.000000     0.063776   \n",
       "1899986    0.402064     0.000000     0.088731     0.000000     0.063776   \n",
       "1899993    0.402064     0.000000     0.088731     0.000000     0.063776   \n",
       "\n",
       "         SOV_Veh_IE  SOV_Veh_EI  HOV2_Veh_IE  HOV2_Veh_EI  HOV3_Veh_IE  \\\n",
       "2          0.402064    0.000000     0.044366     0.000000     0.018222   \n",
       "22         0.402064    0.000000     0.044366     0.000000     0.018222   \n",
       "23         0.402064    0.000000     0.044366     0.000000     0.018222   \n",
       "68         0.402064    0.000000     0.044366     0.000000     0.018222   \n",
       "135        0.402064    0.000000     0.044366     0.000000     0.018222   \n",
       "...             ...         ...          ...          ...          ...   \n",
       "1899957    0.000000    0.402064     0.000000     0.044366     0.000000   \n",
       "1899959    0.000000    0.402064     0.000000     0.044366     0.000000   \n",
       "1899974    0.000000    0.402064     0.000000     0.044366     0.000000   \n",
       "1899986    0.000000    0.402064     0.000000     0.044366     0.000000   \n",
       "1899993    0.000000    0.402064     0.000000     0.044366     0.000000   \n",
       "\n",
       "         HOV3_Veh_EI  \n",
       "2           0.000000  \n",
       "22          0.000000  \n",
       "23          0.000000  \n",
       "68          0.000000  \n",
       "135         0.000000  \n",
       "...              ...  \n",
       "1899957     0.018222  \n",
       "1899959     0.018222  \n",
       "1899974     0.018222  \n",
       "1899986     0.018222  \n",
       "1899993     0.018222  \n",
       "\n",
       "[172459 rows x 16 columns]"
      ]
     },
     "execution_count": 94,
     "metadata": {},
     "output_type": "execute_result"
    }
   ],
   "source": [
    "df"
   ]
  },
  {
   "cell_type": "code",
   "execution_count": 95,
   "id": "a2112dce",
   "metadata": {},
   "outputs": [],
   "source": [
    "df.to_csv(r'R:\\e2projects_two\\2023_base_year\\externals\\external_trip_distribution.csv')"
   ]
  },
  {
   "cell_type": "markdown",
   "id": "129ebec7",
   "metadata": {},
   "source": [
    "## Validation"
   ]
  },
  {
   "cell_type": "code",
   "execution_count": 96,
   "id": "027f8af9",
   "metadata": {},
   "outputs": [],
   "source": [
    "# Load Validation Data\n",
    "df_old = pd.read_csv(r'R:\\e2projects_two\\SoundCast\\Inputs\\db_inputs\\hold\\external_trip_distribution.csv')"
   ]
  },
  {
   "cell_type": "code",
   "execution_count": 97,
   "id": "ae576c57",
   "metadata": {},
   "outputs": [
    {
     "data": {
      "text/plain": [
       "3733"
      ]
     },
     "execution_count": 97,
     "metadata": {},
     "output_type": "execute_result"
    }
   ],
   "source": [
    "df['External_Station'].min()"
   ]
  },
  {
   "cell_type": "code",
   "execution_count": 98,
   "id": "b4edcc26",
   "metadata": {},
   "outputs": [
    {
     "data": {
      "text/plain": [
       "3750"
      ]
     },
     "execution_count": 98,
     "metadata": {},
     "output_type": "execute_result"
    }
   ],
   "source": [
    "df['External_Station'].max()"
   ]
  },
  {
   "cell_type": "code",
   "execution_count": 99,
   "id": "8ed0cd7b",
   "metadata": {},
   "outputs": [
    {
     "data": {
      "text/plain": [
       "1"
      ]
     },
     "execution_count": 99,
     "metadata": {},
     "output_type": "execute_result"
    }
   ],
   "source": [
    "df['PSRC_TAZ'].min()"
   ]
  },
  {
   "cell_type": "code",
   "execution_count": 100,
   "id": "f581dee4",
   "metadata": {},
   "outputs": [
    {
     "data": {
      "text/plain": [
       "3700"
      ]
     },
     "execution_count": 100,
     "metadata": {},
     "output_type": "execute_result"
    }
   ],
   "source": [
    "df['PSRC_TAZ'].max()"
   ]
  },
  {
   "cell_type": "markdown",
   "id": "18f6ba0e",
   "metadata": {},
   "source": [
    "Validation: Internal-External"
   ]
  },
  {
   "cell_type": "code",
   "execution_count": 101,
   "id": "2ed244af",
   "metadata": {},
   "outputs": [
    {
     "data": {
      "text/plain": [
       "31075.940556"
      ]
     },
     "execution_count": 101,
     "metadata": {},
     "output_type": "execute_result"
    }
   ],
   "source": [
    "df['Total_IE'].sum()"
   ]
  },
  {
   "cell_type": "code",
   "execution_count": 102,
   "id": "a28e74f2",
   "metadata": {},
   "outputs": [
    {
     "data": {
      "text/plain": [
       "82879"
      ]
     },
     "execution_count": 102,
     "metadata": {},
     "output_type": "execute_result"
    }
   ],
   "source": [
    "df_old['Total_IE'].sum()"
   ]
  },
  {
   "cell_type": "code",
   "execution_count": 103,
   "id": "4e737cbf",
   "metadata": {},
   "outputs": [
    {
     "data": {
      "text/plain": [
       "0.374955544299521"
      ]
     },
     "execution_count": 103,
     "metadata": {},
     "output_type": "execute_result"
    }
   ],
   "source": [
    "df['Total_IE'].sum()/df_old['Total_IE'].sum()"
   ]
  },
  {
   "cell_type": "code",
   "execution_count": 104,
   "id": "c2cff596",
   "metadata": {},
   "outputs": [
    {
     "data": {
      "text/plain": [
       "26037.19876584857"
      ]
     },
     "execution_count": 104,
     "metadata": {},
     "output_type": "execute_result"
    }
   ],
   "source": [
    "(df['SOV_Veh_IE']+df['HOV2_Veh_IE']+df['HOV3_Veh_IE']).sum()"
   ]
  },
  {
   "cell_type": "code",
   "execution_count": 105,
   "id": "62817022",
   "metadata": {},
   "outputs": [
    {
     "data": {
      "text/plain": [
       "69049.5032052"
      ]
     },
     "execution_count": 105,
     "metadata": {},
     "output_type": "execute_result"
    }
   ],
   "source": [
    "(df_old['SOV_Veh_IE']+df_old['HOV2_Veh_IE']+df_old['HOV3_Veh_IE']).sum()"
   ]
  },
  {
   "cell_type": "code",
   "execution_count": 106,
   "id": "9997e4b2",
   "metadata": {},
   "outputs": [
    {
     "data": {
      "text/plain": [
       "0.3770801751965067"
      ]
     },
     "execution_count": 106,
     "metadata": {},
     "output_type": "execute_result"
    }
   ],
   "source": [
    "(df['SOV_Veh_IE']+df['HOV2_Veh_IE']+df['HOV3_Veh_IE']).sum()/(df_old['SOV_Veh_IE']+df_old['HOV2_Veh_IE']+df_old['HOV3_Veh_IE']).sum()"
   ]
  },
  {
   "cell_type": "markdown",
   "id": "e7600506",
   "metadata": {},
   "source": [
    "Validation: External-Internal"
   ]
  },
  {
   "cell_type": "code",
   "execution_count": 107,
   "id": "a37b4811",
   "metadata": {},
   "outputs": [
    {
     "data": {
      "text/plain": [
       "66693.263031"
      ]
     },
     "execution_count": 107,
     "metadata": {},
     "output_type": "execute_result"
    }
   ],
   "source": [
    "df['Total_EI'].sum()"
   ]
  },
  {
   "cell_type": "code",
   "execution_count": 108,
   "id": "df517d14",
   "metadata": {},
   "outputs": [
    {
     "data": {
      "text/plain": [
       "133708"
      ]
     },
     "execution_count": 108,
     "metadata": {},
     "output_type": "execute_result"
    }
   ],
   "source": [
    "df_old['Total_EI'].sum()"
   ]
  },
  {
   "cell_type": "code",
   "execution_count": 109,
   "id": "6e45ab39",
   "metadata": {},
   "outputs": [
    {
     "data": {
      "text/plain": [
       "0.49879785077183114"
      ]
     },
     "execution_count": 109,
     "metadata": {},
     "output_type": "execute_result"
    }
   ],
   "source": [
    "df['Total_EI'].sum()/df_old['Total_EI'].sum()"
   ]
  },
  {
   "cell_type": "code",
   "execution_count": 110,
   "id": "28d0919b",
   "metadata": {},
   "outputs": [
    {
     "data": {
      "text/plain": [
       "55879.42681097358"
      ]
     },
     "execution_count": 110,
     "metadata": {},
     "output_type": "execute_result"
    }
   ],
   "source": [
    "(df['SOV_Veh_EI']+df['HOV2_Veh_EI']+df['HOV3_Veh_EI']).sum()"
   ]
  },
  {
   "cell_type": "code",
   "execution_count": 111,
   "id": "aa18554c",
   "metadata": {},
   "outputs": [
    {
     "data": {
      "text/plain": [
       "109251.53848080001"
      ]
     },
     "execution_count": 111,
     "metadata": {},
     "output_type": "execute_result"
    }
   ],
   "source": [
    "(df_old['SOV_Veh_EI']+df_old['HOV2_Veh_EI']+df_old['HOV3_Veh_EI']).sum()"
   ]
  },
  {
   "cell_type": "code",
   "execution_count": 112,
   "id": "00fed6a3",
   "metadata": {},
   "outputs": [
    {
     "data": {
      "text/plain": [
       "0.5114749649113078"
      ]
     },
     "execution_count": 112,
     "metadata": {},
     "output_type": "execute_result"
    }
   ],
   "source": [
    "(df['SOV_Veh_EI']+df['HOV2_Veh_EI']+df['HOV3_Veh_EI']).sum()/(df_old['SOV_Veh_EI']+df_old['HOV2_Veh_EI']+df_old['HOV3_Veh_EI']).sum()"
   ]
  },
  {
   "cell_type": "code",
   "execution_count": 113,
   "id": "9cad3962",
   "metadata": {},
   "outputs": [
    {
     "data": {
      "text/plain": [
       "97769.203587"
      ]
     },
     "execution_count": 113,
     "metadata": {},
     "output_type": "execute_result"
    }
   ],
   "source": [
    "# Total jobs\n",
    "(df['Total_EI']+df['Total_IE']).sum()"
   ]
  },
  {
   "cell_type": "code",
   "execution_count": 114,
   "id": "eb95355f",
   "metadata": {},
   "outputs": [
    {
     "data": {
      "text/plain": [
       "216587"
      ]
     },
     "execution_count": 114,
     "metadata": {},
     "output_type": "execute_result"
    }
   ],
   "source": [
    "(df_old['Total_EI']+df_old['Total_IE']).sum()"
   ]
  },
  {
   "cell_type": "code",
   "execution_count": 115,
   "id": "65c05c62",
   "metadata": {},
   "outputs": [
    {
     "data": {
      "text/plain": [
       "0.45140845751130027"
      ]
     },
     "execution_count": 115,
     "metadata": {},
     "output_type": "execute_result"
    }
   ],
   "source": [
    "(df['Total_EI']+df['Total_IE']).sum()/(df_old['Total_EI']+df_old['Total_IE']).sum()"
   ]
  },
  {
   "cell_type": "code",
   "execution_count": 116,
   "id": "f40621b5",
   "metadata": {},
   "outputs": [
    {
     "name": "stdout",
     "output_type": "stream",
     "text": [
      "111696\n"
     ]
    },
    {
     "name": "stderr",
     "output_type": "stream",
     "text": [
      "C:\\Users\\Modeller\\AppData\\Local\\anaconda3\\envs\\summary\\lib\\site-packages\\ipykernel_launcher.py:27: SettingWithCopyWarning: \n",
      "A value is trying to be set on a copy of a slice from a DataFrame.\n",
      "Try using .loc[row_indexer,col_indexer] = value instead\n",
      "\n",
      "See the caveats in the documentation: https://pandas.pydata.org/pandas-docs/stable/user_guide/indexing.html#returning-a-view-versus-a-copy\n"
     ]
    }
   ],
   "source": [
    "# Craig's check for total jobs in adjacent counties, converted from R\n",
    "\n",
    "# Neighboring external counties\n",
    "external_counties = ['007', '067', '057', '029', '041', '037', '031', '045', '077']\n",
    "\n",
    "# Blocks in PSRC Region\n",
    "eg_conn = psrcelmerpy.ElmerGeoConn()\n",
    "gdf = eg_conn.read_geolayer('block2020')\n",
    "psrc_blocks = gdf[\"geoid20\"].tolist()\n",
    "\n",
    "# Load LODES data\n",
    "import psrcelmerpy\n",
    "lodes_od = pd.read_csv(r\"R:\\e2projects_two\\2023_base_year\\externals\\wa_od_main_JT00_2018_v8.csv\", \n",
    "                       usecols=[\"w_geocode\", \"h_geocode\", \"S000\"])\n",
    "\n",
    "# Convert geocode columns to string\n",
    "lodes_od[\"w_geocode\"] = lodes_od[\"w_geocode\"].astype(str)\n",
    "lodes_od[\"h_geocode\"] = lodes_od[\"h_geocode\"].astype(str)\n",
    "\n",
    "# Filter data: exclude blocks outside PSRC and include only work geocodes within PSRC blocks\n",
    "lodes_od_filtered = lodes_od[\n",
    "    (~lodes_od[\"h_geocode\"].isin(psrc_blocks)) & \n",
    "    (lodes_od[\"w_geocode\"].isin(psrc_blocks))\n",
    "]\n",
    "\n",
    "# Add county information by extracting substring from h_geocode\n",
    "lodes_od_filtered[\"h_county\"] = lodes_od_filtered[\"h_geocode\"].str[2:5]\n",
    "\n",
    "# Filter rows where h_county is in external_counties\n",
    "lodes_od_filtered = lodes_od_filtered[lodes_od_filtered[\"h_county\"].isin(external_counties)]\n",
    "\n",
    "# Sum of external job flows\n",
    "total_ext_jobs = lodes_od_filtered[\"S000\"].sum()\n",
    "\n",
    "print(total_ext_jobs)\n"
   ]
  },
  {
   "cell_type": "code",
   "execution_count": 117,
   "id": "3840f4a6",
   "metadata": {},
   "outputs": [
    {
     "name": "stdout",
     "output_type": "stream",
     "text": [
      "54785\n"
     ]
    },
    {
     "name": "stderr",
     "output_type": "stream",
     "text": [
      "C:\\Users\\Modeller\\AppData\\Local\\anaconda3\\envs\\summary\\lib\\site-packages\\ipykernel_launcher.py:7: SettingWithCopyWarning: \n",
      "A value is trying to be set on a copy of a slice from a DataFrame.\n",
      "Try using .loc[row_indexer,col_indexer] = value instead\n",
      "\n",
      "See the caveats in the documentation: https://pandas.pydata.org/pandas-docs/stable/user_guide/indexing.html#returning-a-view-versus-a-copy\n",
      "  import sys\n"
     ]
    }
   ],
   "source": [
    "lodes_od_filtered = lodes_od[\n",
    "    (lodes_od[\"h_geocode\"].isin(psrc_blocks)) & \n",
    "    (~lodes_od[\"w_geocode\"].isin(psrc_blocks))\n",
    "]\n",
    "\n",
    "# Filter rows where h_county is in external_counties\n",
    "lodes_od_filtered[\"w_county\"] = lodes_od_filtered[\"w_geocode\"].str[2:5]\n",
    "lodes_od_filtered = lodes_od_filtered[lodes_od_filtered[\"w_county\"].isin(external_counties)]\n",
    "\n",
    "# Sum of external job flows\n",
    "total_ext_jobs = lodes_od_filtered[\"S000\"].sum()\n",
    "\n",
    "print(total_ext_jobs)"
   ]
  },
  {
   "cell_type": "code",
   "execution_count": 118,
   "id": "288ac2f3",
   "metadata": {},
   "outputs": [
    {
     "data": {
      "text/html": [
       "<div>\n",
       "<style scoped>\n",
       "    .dataframe tbody tr th:only-of-type {\n",
       "        vertical-align: middle;\n",
       "    }\n",
       "\n",
       "    .dataframe tbody tr th {\n",
       "        vertical-align: top;\n",
       "    }\n",
       "\n",
       "    .dataframe thead th {\n",
       "        text-align: right;\n",
       "    }\n",
       "</style>\n",
       "<table border=\"1\" class=\"dataframe\">\n",
       "  <thead>\n",
       "    <tr style=\"text-align: right;\">\n",
       "      <th></th>\n",
       "      <th>PSRC_TAZ</th>\n",
       "      <th>External_Station</th>\n",
       "      <th>Total_IE</th>\n",
       "      <th>Total_EI</th>\n",
       "      <th>SOV_Per_IE</th>\n",
       "      <th>SOV_Per_EI</th>\n",
       "      <th>HOV2_Per_IE</th>\n",
       "      <th>HOV2_Per_EI</th>\n",
       "      <th>HOV3_Per_IE</th>\n",
       "      <th>HOV3_Per_EI</th>\n",
       "      <th>SOV_Veh_IE</th>\n",
       "      <th>SOV_Veh_EI</th>\n",
       "      <th>HOV2_Veh_IE</th>\n",
       "      <th>HOV2_Veh_EI</th>\n",
       "      <th>HOV3_Veh_IE</th>\n",
       "      <th>HOV3_Veh_EI</th>\n",
       "    </tr>\n",
       "  </thead>\n",
       "  <tbody>\n",
       "    <tr>\n",
       "      <th>2</th>\n",
       "      <td>2203</td>\n",
       "      <td>3740</td>\n",
       "      <td>0.554571</td>\n",
       "      <td>0.000000</td>\n",
       "      <td>0.402064</td>\n",
       "      <td>0.000000</td>\n",
       "      <td>0.088731</td>\n",
       "      <td>0.000000</td>\n",
       "      <td>0.063776</td>\n",
       "      <td>0.000000</td>\n",
       "      <td>0.402064</td>\n",
       "      <td>0.000000</td>\n",
       "      <td>0.044366</td>\n",
       "      <td>0.000000</td>\n",
       "      <td>0.018222</td>\n",
       "      <td>0.000000</td>\n",
       "    </tr>\n",
       "    <tr>\n",
       "      <th>22</th>\n",
       "      <td>189</td>\n",
       "      <td>3740</td>\n",
       "      <td>0.554571</td>\n",
       "      <td>0.000000</td>\n",
       "      <td>0.402064</td>\n",
       "      <td>0.000000</td>\n",
       "      <td>0.088731</td>\n",
       "      <td>0.000000</td>\n",
       "      <td>0.063776</td>\n",
       "      <td>0.000000</td>\n",
       "      <td>0.402064</td>\n",
       "      <td>0.000000</td>\n",
       "      <td>0.044366</td>\n",
       "      <td>0.000000</td>\n",
       "      <td>0.018222</td>\n",
       "      <td>0.000000</td>\n",
       "    </tr>\n",
       "    <tr>\n",
       "      <th>23</th>\n",
       "      <td>1937</td>\n",
       "      <td>3740</td>\n",
       "      <td>0.554571</td>\n",
       "      <td>0.000000</td>\n",
       "      <td>0.402064</td>\n",
       "      <td>0.000000</td>\n",
       "      <td>0.088731</td>\n",
       "      <td>0.000000</td>\n",
       "      <td>0.063776</td>\n",
       "      <td>0.000000</td>\n",
       "      <td>0.402064</td>\n",
       "      <td>0.000000</td>\n",
       "      <td>0.044366</td>\n",
       "      <td>0.000000</td>\n",
       "      <td>0.018222</td>\n",
       "      <td>0.000000</td>\n",
       "    </tr>\n",
       "    <tr>\n",
       "      <th>68</th>\n",
       "      <td>2428</td>\n",
       "      <td>3740</td>\n",
       "      <td>0.554571</td>\n",
       "      <td>0.000000</td>\n",
       "      <td>0.402064</td>\n",
       "      <td>0.000000</td>\n",
       "      <td>0.088731</td>\n",
       "      <td>0.000000</td>\n",
       "      <td>0.063776</td>\n",
       "      <td>0.000000</td>\n",
       "      <td>0.402064</td>\n",
       "      <td>0.000000</td>\n",
       "      <td>0.044366</td>\n",
       "      <td>0.000000</td>\n",
       "      <td>0.018222</td>\n",
       "      <td>0.000000</td>\n",
       "    </tr>\n",
       "    <tr>\n",
       "      <th>135</th>\n",
       "      <td>343</td>\n",
       "      <td>3740</td>\n",
       "      <td>0.554571</td>\n",
       "      <td>0.000000</td>\n",
       "      <td>0.402064</td>\n",
       "      <td>0.000000</td>\n",
       "      <td>0.088731</td>\n",
       "      <td>0.000000</td>\n",
       "      <td>0.063776</td>\n",
       "      <td>0.000000</td>\n",
       "      <td>0.402064</td>\n",
       "      <td>0.000000</td>\n",
       "      <td>0.044366</td>\n",
       "      <td>0.000000</td>\n",
       "      <td>0.018222</td>\n",
       "      <td>0.000000</td>\n",
       "    </tr>\n",
       "    <tr>\n",
       "      <th>...</th>\n",
       "      <td>...</td>\n",
       "      <td>...</td>\n",
       "      <td>...</td>\n",
       "      <td>...</td>\n",
       "      <td>...</td>\n",
       "      <td>...</td>\n",
       "      <td>...</td>\n",
       "      <td>...</td>\n",
       "      <td>...</td>\n",
       "      <td>...</td>\n",
       "      <td>...</td>\n",
       "      <td>...</td>\n",
       "      <td>...</td>\n",
       "      <td>...</td>\n",
       "      <td>...</td>\n",
       "      <td>...</td>\n",
       "    </tr>\n",
       "    <tr>\n",
       "      <th>1899957</th>\n",
       "      <td>1886</td>\n",
       "      <td>3739</td>\n",
       "      <td>0.000000</td>\n",
       "      <td>0.554571</td>\n",
       "      <td>0.000000</td>\n",
       "      <td>0.402064</td>\n",
       "      <td>0.000000</td>\n",
       "      <td>0.088731</td>\n",
       "      <td>0.000000</td>\n",
       "      <td>0.063776</td>\n",
       "      <td>0.000000</td>\n",
       "      <td>0.402064</td>\n",
       "      <td>0.000000</td>\n",
       "      <td>0.044366</td>\n",
       "      <td>0.000000</td>\n",
       "      <td>0.018222</td>\n",
       "    </tr>\n",
       "    <tr>\n",
       "      <th>1899959</th>\n",
       "      <td>1913</td>\n",
       "      <td>3739</td>\n",
       "      <td>0.000000</td>\n",
       "      <td>0.554571</td>\n",
       "      <td>0.000000</td>\n",
       "      <td>0.402064</td>\n",
       "      <td>0.000000</td>\n",
       "      <td>0.088731</td>\n",
       "      <td>0.000000</td>\n",
       "      <td>0.063776</td>\n",
       "      <td>0.000000</td>\n",
       "      <td>0.402064</td>\n",
       "      <td>0.000000</td>\n",
       "      <td>0.044366</td>\n",
       "      <td>0.000000</td>\n",
       "      <td>0.018222</td>\n",
       "    </tr>\n",
       "    <tr>\n",
       "      <th>1899974</th>\n",
       "      <td>2158</td>\n",
       "      <td>3733</td>\n",
       "      <td>0.000000</td>\n",
       "      <td>0.554571</td>\n",
       "      <td>0.000000</td>\n",
       "      <td>0.402064</td>\n",
       "      <td>0.000000</td>\n",
       "      <td>0.088731</td>\n",
       "      <td>0.000000</td>\n",
       "      <td>0.063776</td>\n",
       "      <td>0.000000</td>\n",
       "      <td>0.402064</td>\n",
       "      <td>0.000000</td>\n",
       "      <td>0.044366</td>\n",
       "      <td>0.000000</td>\n",
       "      <td>0.018222</td>\n",
       "    </tr>\n",
       "    <tr>\n",
       "      <th>1899986</th>\n",
       "      <td>3391</td>\n",
       "      <td>3738</td>\n",
       "      <td>0.000000</td>\n",
       "      <td>0.554571</td>\n",
       "      <td>0.000000</td>\n",
       "      <td>0.402064</td>\n",
       "      <td>0.000000</td>\n",
       "      <td>0.088731</td>\n",
       "      <td>0.000000</td>\n",
       "      <td>0.063776</td>\n",
       "      <td>0.000000</td>\n",
       "      <td>0.402064</td>\n",
       "      <td>0.000000</td>\n",
       "      <td>0.044366</td>\n",
       "      <td>0.000000</td>\n",
       "      <td>0.018222</td>\n",
       "    </tr>\n",
       "    <tr>\n",
       "      <th>1899993</th>\n",
       "      <td>2613</td>\n",
       "      <td>3744</td>\n",
       "      <td>0.000000</td>\n",
       "      <td>0.554571</td>\n",
       "      <td>0.000000</td>\n",
       "      <td>0.402064</td>\n",
       "      <td>0.000000</td>\n",
       "      <td>0.088731</td>\n",
       "      <td>0.000000</td>\n",
       "      <td>0.063776</td>\n",
       "      <td>0.000000</td>\n",
       "      <td>0.402064</td>\n",
       "      <td>0.000000</td>\n",
       "      <td>0.044366</td>\n",
       "      <td>0.000000</td>\n",
       "      <td>0.018222</td>\n",
       "    </tr>\n",
       "  </tbody>\n",
       "</table>\n",
       "<p>172459 rows × 16 columns</p>\n",
       "</div>"
      ],
      "text/plain": [
       "         PSRC_TAZ  External_Station  Total_IE  Total_EI  SOV_Per_IE  \\\n",
       "2            2203              3740  0.554571  0.000000    0.402064   \n",
       "22            189              3740  0.554571  0.000000    0.402064   \n",
       "23           1937              3740  0.554571  0.000000    0.402064   \n",
       "68           2428              3740  0.554571  0.000000    0.402064   \n",
       "135           343              3740  0.554571  0.000000    0.402064   \n",
       "...           ...               ...       ...       ...         ...   \n",
       "1899957      1886              3739  0.000000  0.554571    0.000000   \n",
       "1899959      1913              3739  0.000000  0.554571    0.000000   \n",
       "1899974      2158              3733  0.000000  0.554571    0.000000   \n",
       "1899986      3391              3738  0.000000  0.554571    0.000000   \n",
       "1899993      2613              3744  0.000000  0.554571    0.000000   \n",
       "\n",
       "         SOV_Per_EI  HOV2_Per_IE  HOV2_Per_EI  HOV3_Per_IE  HOV3_Per_EI  \\\n",
       "2          0.000000     0.088731     0.000000     0.063776     0.000000   \n",
       "22         0.000000     0.088731     0.000000     0.063776     0.000000   \n",
       "23         0.000000     0.088731     0.000000     0.063776     0.000000   \n",
       "68         0.000000     0.088731     0.000000     0.063776     0.000000   \n",
       "135        0.000000     0.088731     0.000000     0.063776     0.000000   \n",
       "...             ...          ...          ...          ...          ...   \n",
       "1899957    0.402064     0.000000     0.088731     0.000000     0.063776   \n",
       "1899959    0.402064     0.000000     0.088731     0.000000     0.063776   \n",
       "1899974    0.402064     0.000000     0.088731     0.000000     0.063776   \n",
       "1899986    0.402064     0.000000     0.088731     0.000000     0.063776   \n",
       "1899993    0.402064     0.000000     0.088731     0.000000     0.063776   \n",
       "\n",
       "         SOV_Veh_IE  SOV_Veh_EI  HOV2_Veh_IE  HOV2_Veh_EI  HOV3_Veh_IE  \\\n",
       "2          0.402064    0.000000     0.044366     0.000000     0.018222   \n",
       "22         0.402064    0.000000     0.044366     0.000000     0.018222   \n",
       "23         0.402064    0.000000     0.044366     0.000000     0.018222   \n",
       "68         0.402064    0.000000     0.044366     0.000000     0.018222   \n",
       "135        0.402064    0.000000     0.044366     0.000000     0.018222   \n",
       "...             ...         ...          ...          ...          ...   \n",
       "1899957    0.000000    0.402064     0.000000     0.044366     0.000000   \n",
       "1899959    0.000000    0.402064     0.000000     0.044366     0.000000   \n",
       "1899974    0.000000    0.402064     0.000000     0.044366     0.000000   \n",
       "1899986    0.000000    0.402064     0.000000     0.044366     0.000000   \n",
       "1899993    0.000000    0.402064     0.000000     0.044366     0.000000   \n",
       "\n",
       "         HOV3_Veh_EI  \n",
       "2           0.000000  \n",
       "22          0.000000  \n",
       "23          0.000000  \n",
       "68          0.000000  \n",
       "135         0.000000  \n",
       "...              ...  \n",
       "1899957     0.018222  \n",
       "1899959     0.018222  \n",
       "1899974     0.018222  \n",
       "1899986     0.018222  \n",
       "1899993     0.018222  \n",
       "\n",
       "[172459 rows x 16 columns]"
      ]
     },
     "execution_count": 118,
     "metadata": {},
     "output_type": "execute_result"
    }
   ],
   "source": [
    "df"
   ]
  },
  {
   "cell_type": "code",
   "execution_count": null,
   "id": "b17b2f1b",
   "metadata": {},
   "outputs": [],
   "source": []
  }
 ],
 "metadata": {
  "kernelspec": {
   "display_name": "Python 3",
   "language": "python",
   "name": "python3"
  },
  "language_info": {
   "codemirror_mode": {
    "name": "ipython",
    "version": 3
   },
   "file_extension": ".py",
   "mimetype": "text/x-python",
   "name": "python",
   "nbconvert_exporter": "python",
   "pygments_lexer": "ipython3",
   "version": "3.7.10"
  }
 },
 "nbformat": 4,
 "nbformat_minor": 5
}
