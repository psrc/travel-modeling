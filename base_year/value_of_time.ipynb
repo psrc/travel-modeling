{
 "cells": [
  {
   "cell_type": "code",
   "execution_count": 2,
   "id": "73dd00d6",
   "metadata": {},
   "outputs": [],
   "source": [
    "# Updating Value of Time bins to account for cost-of-living increases\n",
    "\n",
    "# Previous base year: 2018\n",
    "# New base year: 2023\n",
    "\n",
    "# Bureau of Labor Statistics Data \n",
    "# Consumer Price Index for All Urban Consumers\n",
    "\n",
    "# Series Id:\tCUURS49DSA0\n",
    "# Not Seasonally Adjusted\n",
    "# Series Title:\tAll items in Seattle-Tacoma-Bellevue, WA, all urban consumers, not seasonally adjusted\n",
    "# Area:\tSeattle-Tacoma-Bellevue WA\n",
    "# Item:\tAll items\n",
    "# Base Period:\t1982-84=100\n",
    "\n",
    "# https://data.bls.gov/timeseries/CUURS49DSA0"
   ]
  },
  {
   "cell_type": "code",
   "execution_count": 3,
   "id": "6c2d092b",
   "metadata": {},
   "outputs": [
    {
     "data": {
      "text/plain": [
       "1.264604288253125"
      ]
     },
     "execution_count": 3,
     "metadata": {},
     "output_type": "execute_result"
    }
   ],
   "source": [
    "# 2018 annual average\n",
    "cpi_old = 269.527\n",
    "\n",
    "# 2023 annual average\n",
    "cpi_new = 340.845\n",
    "\n",
    "factor = cpi_new/cpi_old\n",
    "factor"
   ]
  },
  {
   "cell_type": "code",
   "execution_count": 7,
   "id": "0418792f",
   "metadata": {},
   "outputs": [],
   "source": [
    "# Daysim uses 4 VOT classifications\n",
    "vot_1 = 14.32\n",
    "vot_2 = 28.64\n",
    "vot_3 = 35.80\n",
    "vot_4 = 47.74\n",
    "\n",
    "# We only use 3 classes for assignment\n",
    "# vot_1, vot_2, vot_3 and vot_4 combined\n",
    "\n",
    "vot_1_new = vot_1*factor\n",
    "vot_2_new = vot_2*factor\n",
    "vot_3_new = vot_3*factor\n",
    "vot_4_new = vot_4*factor"
   ]
  },
  {
   "cell_type": "code",
   "execution_count": 9,
   "id": "8873d6a1",
   "metadata": {},
   "outputs": [
    {
     "name": "stdout",
     "output_type": "stream",
     "text": [
      "18.10913340778475\n",
      "36.2182668155695\n",
      "45.27283351946187\n",
      "60.37220872120419\n"
     ]
    }
   ],
   "source": [
    "for i in [vot_1_new, vot_2_new, vot_3_new, vot_4_new]:\n",
    "    print(i)"
   ]
  },
  {
   "cell_type": "code",
   "execution_count": null,
   "id": "306c02ca",
   "metadata": {},
   "outputs": [],
   "source": []
  }
 ],
 "metadata": {
  "kernelspec": {
   "display_name": "Python 3",
   "language": "python",
   "name": "python3"
  },
  "language_info": {
   "codemirror_mode": {
    "name": "ipython",
    "version": 3
   },
   "file_extension": ".py",
   "mimetype": "text/x-python",
   "name": "python",
   "nbconvert_exporter": "python",
   "pygments_lexer": "ipython3",
   "version": "3.7.10"
  }
 },
 "nbformat": 4,
 "nbformat_minor": 5
}
