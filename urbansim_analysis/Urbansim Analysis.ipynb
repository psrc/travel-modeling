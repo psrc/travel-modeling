{
 "cells": [
  {
   "cell_type": "markdown",
   "metadata": {},
   "source": [
    "# Analyzing AV Results from Urbansim\n",
    "### AV Scenario Results for 2050"
   ]
  },
  {
   "cell_type": "code",
   "execution_count": 1,
   "metadata": {},
   "outputs": [],
   "source": [
    "import pandas as pd"
   ]
  },
  {
   "cell_type": "code",
   "execution_count": null,
   "metadata": {},
   "outputs": [],
   "source": []
  },
  {
   "cell_type": "code",
   "execution_count": 263,
   "metadata": {},
   "outputs": [
    {
     "name": "stdout",
     "output_type": "stream",
     "text": [
      "Exploring data in opusgit/urbansim_data/data/psrc_parcel/runs/integrated.run_4.run_2018_04_27_10_34/2050\n",
      "Available tables:\n",
      "['buildings', 'building_sqft_per_job', 'building_types', 'choice_set', 'development_constraints', 'development_project_proposals', 'development_project_proposal_components', 'development_templates', 'development_template_components', 'employment_adhoc_sector_groups', 'employment_adhoc_sector_group_definitions', 'employment_sectors', 'fazes', 'generic_land_use_types', 'gridcells', 'home_based_status', 'households', 'jobs', 'land_use_types', 'large_areas', 'parcels', 'persons', 'schools', 'target_vacancies', 'travel_data', 'urbansim_constants', 'zones']\n",
      "\n",
      "Use ex.get_dataset(dataset_name) to access data. Optionally, pass an argument id_name for non-standard name of unique identifier.\n"
     ]
    }
   ],
   "source": [
    "%run opusgit/urbansim/opus_core/tools/explore_data.py -d opusgit/urbansim_data/data/psrc_parcel/runs/integrated.run_4.run_2018_04_27_10_34/2050\n",
    "ex.set_dataset_pool(['psrc_parcel', 'urbansim_parcel', 'urbansim', 'opus_core'])"
   ]
  },
  {
   "cell_type": "code",
   "execution_count": 264,
   "metadata": {},
   "outputs": [],
   "source": [
    "# Load lookup data\n",
    "# Zone areas for density calculation\n",
    "taz = pd.read_csv(r'R:\\SoundCastDocuments\\AVsTravelandLandUse\\model results\\taz2010nowater.txt')"
   ]
  },
  {
   "cell_type": "code",
   "execution_count": 265,
   "metadata": {},
   "outputs": [],
   "source": [
    "# Household data\n",
    "hh = ex.get_dataset('household')\n",
    "hh_df = hh.to_dataframe()\n",
    "\n",
    "# Building and parcel data\n",
    "bldg = ex.get_dataset('building')\n",
    "bldg_df = bldg.to_dataframe()\n",
    "\n",
    "parcel = ex.get_dataset('parcel')\n",
    "parcel_df = parcel.to_dataframe()\n",
    "\n",
    "# Merge parcel data to building data -> to be connected to household data\n",
    "bldg_parcel = pd.merge(bldg_df, parcel_df, on='parcel_id', how='left')\n",
    "\n",
    "# Join data to household information\n",
    "hh_df = pd.merge(hh_df, bldg_parcel, on='building_id', how='left')"
   ]
  },
  {
   "cell_type": "markdown",
   "metadata": {},
   "source": [
    "Calculate density (hh/acre)"
   ]
  },
  {
   "cell_type": "code",
   "execution_count": 266,
   "metadata": {},
   "outputs": [],
   "source": [
    "# Total households by zone to get density\n",
    "tot_hh = hh_df.groupby('zone_id').count()[['household_id']]\n",
    "tot_hh = tot_hh.reset_index()\n",
    "tot_hh.rename(columns={'household_id':'total_hh'}, inplace=True)\n",
    "df = pd.merge(tot_hh,taz[['TAZ','acres']], left_on='zone_id',right_on='TAZ', how='left')\n",
    "df['hh_per_acre'] = df['total_hh']/df['acres']\n",
    "\n",
    "# Join this hh_per_acre data back to original to get weighted densities of households\n",
    "hh_df = pd.merge(hh_df, df[['zone_id','hh_per_acre']], on='zone_id', how='left')\n",
    "\n",
    "# Store this results as 2050 for comparison to 2040 later\n",
    "hh_df_50 = hh_df"
   ]
  },
  {
   "cell_type": "markdown",
   "metadata": {},
   "source": [
    "### Load 2040 results to compare differences"
   ]
  },
  {
   "cell_type": "code",
   "execution_count": 267,
   "metadata": {},
   "outputs": [
    {
     "name": "stdout",
     "output_type": "stream",
     "text": [
      "Exploring data in opusgit/urbansim_data/data/psrc_parcel/runs/integrated.run_4.run_2018_04_27_10_34/2040\n",
      "Available tables:\n",
      "['buildings', 'building_sqft_per_job', 'building_types', 'choice_set', 'development_constraints', 'development_project_proposals', 'development_project_proposal_components', 'development_templates', 'development_template_components', 'employment_adhoc_sector_groups', 'employment_adhoc_sector_group_definitions', 'employment_sectors', 'fazes', 'generic_land_use_types', 'gridcells', 'home_based_status', 'households', 'jobs', 'land_use_types', 'large_areas', 'parcels', 'persons', 'schools', 'target_vacancies', 'travel_data', 'urbansim_constants', 'zones']\n",
      "\n",
      "Use ex.get_dataset(dataset_name) to access data. Optionally, pass an argument id_name for non-standard name of unique identifier.\n"
     ]
    }
   ],
   "source": [
    "%run opusgit/urbansim/opus_core/tools/explore_data.py -d opusgit/urbansim_data/data/psrc_parcel/runs/integrated.run_4.run_2018_04_27_10_34/2040\n",
    "ex.set_dataset_pool(['psrc_parcel', 'urbansim_parcel', 'urbansim', 'opus_core'])"
   ]
  },
  {
   "cell_type": "code",
   "execution_count": 268,
   "metadata": {},
   "outputs": [],
   "source": [
    "# Household data\n",
    "hh = ex.get_dataset('household')\n",
    "hh_df = hh.to_dataframe()\n",
    "\n",
    "# Building and parcel data\n",
    "bldg = ex.get_dataset('building')\n",
    "bldg_df = bldg.to_dataframe()\n",
    "\n",
    "parcel = ex.get_dataset('parcel')\n",
    "parcel_df = parcel.to_dataframe()\n",
    "\n",
    "# Merge parcel data to building data -> to be connected to household data\n",
    "bldg_parcel = pd.merge(bldg_df, parcel_df, on='parcel_id', how='left')\n",
    "\n",
    "# Join data to household information\n",
    "hh_df = pd.merge(hh_df, bldg_parcel, on='building_id', how='left')"
   ]
  },
  {
   "cell_type": "code",
   "execution_count": 269,
   "metadata": {},
   "outputs": [],
   "source": [
    "# Total households by zone to get density\n",
    "tot_hh = hh_df.groupby('zone_id').count()[['household_id']]\n",
    "tot_hh = tot_hh.reset_index()\n",
    "tot_hh.rename(columns={'household_id':'total_hh'}, inplace=True)\n",
    "df = pd.merge(tot_hh,taz[['TAZ','acres']], left_on='zone_id',right_on='TAZ', how='left')\n",
    "df['hh_per_acre'] = df['total_hh']/df['acres']\n",
    "\n",
    "# Join this hh_per_acre data back to original to get weighted densities of households\n",
    "hh_df = pd.merge(hh_df, df[['zone_id','hh_per_acre']], on='zone_id', how='left')\n",
    "\n",
    "# Store this results as 2040\n",
    "hh_df_40 = hh_df"
   ]
  },
  {
   "cell_type": "markdown",
   "metadata": {},
   "source": [
    "# Evaluate Density Changes"
   ]
  },
  {
   "cell_type": "markdown",
   "metadata": {},
   "source": [
    "------------\n",
    "Weighted density of the region increases between 2040 and 2050 - probably because of natural increase and inmigration\n",
    "Increase of 17%"
   ]
  },
  {
   "cell_type": "code",
   "execution_count": 270,
   "metadata": {},
   "outputs": [
    {
     "name": "stdout",
     "output_type": "stream",
     "text": [
      "9.64083824255\n",
      "11.1737369885\n"
     ]
    }
   ],
   "source": [
    "print hh_df_40['hh_per_acre'].mean()\n",
    "print hh_df_50['hh_per_acre'].mean()"
   ]
  },
  {
   "cell_type": "code",
   "execution_count": 271,
   "metadata": {},
   "outputs": [
    {
     "data": {
      "text/plain": [
       "0.1590005668946726"
      ]
     },
     "execution_count": 271,
     "metadata": {},
     "output_type": "execute_result"
    }
   ],
   "source": [
    "(hh_df_50['hh_per_acre'].mean()-hh_df_40['hh_per_acre'].mean())/hh_df_40['hh_per_acre'].mean()"
   ]
  },
  {
   "cell_type": "code",
   "execution_count": 272,
   "metadata": {},
   "outputs": [
    {
     "name": "stdout",
     "output_type": "stream",
     "text": [
      "149.310966912\n",
      "152.209356002\n"
     ]
    }
   ],
   "source": [
    "# Max density\n",
    "print hh_df_40['hh_per_acre'].max()\n",
    "print hh_df_50['hh_per_acre'].max()"
   ]
  },
  {
   "cell_type": "code",
   "execution_count": 273,
   "metadata": {},
   "outputs": [
    {
     "name": "stdout",
     "output_type": "stream",
     "text": [
      "3.86396875332\n",
      "4.31032787003\n"
     ]
    }
   ],
   "source": [
    "print hh_df_40['hh_per_acre'].median()\n",
    "print hh_df_50['hh_per_acre'].median()"
   ]
  },
  {
   "cell_type": "markdown",
   "metadata": {},
   "source": [
    "### Urban Growth Boundary"
   ]
  },
  {
   "cell_type": "code",
   "execution_count": 274,
   "metadata": {},
   "outputs": [
    {
     "data": {
      "text/plain": [
       "is_inside_urban_growth_boundary\n",
       "0    0.10974\n",
       "1    0.89026\n",
       "Name: household_id, dtype: float64"
      ]
     },
     "execution_count": 274,
     "metadata": {},
     "output_type": "execute_result"
    }
   ],
   "source": [
    "hh_df_40.groupby('is_inside_urban_growth_boundary').count()['household_id']/hh_df_40['household_id'].count()"
   ]
  },
  {
   "cell_type": "code",
   "execution_count": 275,
   "metadata": {},
   "outputs": [
    {
     "data": {
      "text/plain": [
       "is_inside_urban_growth_boundary\n",
       "0    0.102045\n",
       "1    0.897955\n",
       "Name: household_id, dtype: float64"
      ]
     },
     "execution_count": 275,
     "metadata": {},
     "output_type": "execute_result"
    }
   ],
   "source": [
    "hh_df_50.groupby('is_inside_urban_growth_boundary').count()['household_id']/hh_df_50['household_id'].count()"
   ]
  },
  {
   "cell_type": "markdown",
   "metadata": {},
   "source": [
    "# Evalute Movers' Behavior"
   ]
  },
  {
   "cell_type": "code",
   "execution_count": 276,
   "metadata": {},
   "outputs": [],
   "source": [
    "# Identify households that existed in 2040 and moved by 2050\n",
    "# This is done by comparing their parcel location between 2040 and 2050"
   ]
  },
  {
   "cell_type": "code",
   "execution_count": 277,
   "metadata": {},
   "outputs": [],
   "source": [
    "# For households that exist in both datasets\n",
    "\n",
    "hh_df = pd.merge(hh_df_40, hh_df_50, on='household_id', suffixes=['_40','_50'])"
   ]
  },
  {
   "cell_type": "code",
   "execution_count": 278,
   "metadata": {},
   "outputs": [],
   "source": [
    "movers_df = hh_df[hh_df['parcel_id_40'] != hh_df['parcel_id_50']]"
   ]
  },
  {
   "cell_type": "code",
   "execution_count": 279,
   "metadata": {},
   "outputs": [
    {
     "data": {
      "text/plain": [
       "214752"
      ]
     },
     "execution_count": 279,
     "metadata": {},
     "output_type": "execute_result"
    }
   ],
   "source": [
    "len(movers_df)"
   ]
  },
  {
   "cell_type": "code",
   "execution_count": 280,
   "metadata": {},
   "outputs": [
    {
     "name": "stdout",
     "output_type": "stream",
     "text": [
      "10.8620551193\n",
      "14.2858086701\n"
     ]
    }
   ],
   "source": [
    "print movers_df['hh_per_acre_40'].mean()\n",
    "print movers_df['hh_per_acre_50'].mean()"
   ]
  },
  {
   "cell_type": "code",
   "execution_count": 281,
   "metadata": {},
   "outputs": [
    {
     "name": "stdout",
     "output_type": "stream",
     "text": [
      "4.62143343853\n",
      "6.810813357\n"
     ]
    }
   ],
   "source": [
    "print movers_df['hh_per_acre_40'].median()\n",
    "print movers_df['hh_per_acre_50'].median()"
   ]
  },
  {
   "cell_type": "code",
   "execution_count": 282,
   "metadata": {},
   "outputs": [
    {
     "name": "stdout",
     "output_type": "stream",
     "text": [
      "149.310966912\n",
      "152.209356002\n"
     ]
    }
   ],
   "source": [
    "print movers_df['hh_per_acre_40'].max()\n",
    "print movers_df['hh_per_acre_50'].max()"
   ]
  },
  {
   "cell_type": "code",
   "execution_count": 283,
   "metadata": {},
   "outputs": [
    {
     "name": "stdout",
     "output_type": "stream",
     "text": [
      "0.000788267967579\n",
      "0.00021106726622\n"
     ]
    }
   ],
   "source": [
    "print movers_df['hh_per_acre_40'].min()\n",
    "print movers_df['hh_per_acre_50'].min()"
   ]
  },
  {
   "cell_type": "markdown",
   "metadata": {},
   "source": [
    "### Movement within Urban Growth Boundary"
   ]
  },
  {
   "cell_type": "code",
   "execution_count": 284,
   "metadata": {},
   "outputs": [
    {
     "data": {
      "text/plain": [
       "is_inside_urban_growth_boundary_40\n",
       "0    0.080423\n",
       "1    0.919577\n",
       "Name: household_id, dtype: float64"
      ]
     },
     "execution_count": 284,
     "metadata": {},
     "output_type": "execute_result"
    }
   ],
   "source": [
    "movers_df.groupby('is_inside_urban_growth_boundary_40').count()['household_id']/movers_df['household_id'].count()"
   ]
  },
  {
   "cell_type": "code",
   "execution_count": 285,
   "metadata": {},
   "outputs": [
    {
     "data": {
      "text/plain": [
       "is_inside_urban_growth_boundary_50\n",
       "0    0.047166\n",
       "1    0.952834\n",
       "Name: household_id, dtype: float64"
      ]
     },
     "execution_count": 285,
     "metadata": {},
     "output_type": "execute_result"
    }
   ],
   "source": [
    "movers_df.groupby('is_inside_urban_growth_boundary_50').count()['household_id']/movers_df['household_id'].count()"
   ]
  },
  {
   "cell_type": "markdown",
   "metadata": {},
   "source": [
    "### External Migrations\n",
    "Did people moving from outside the region choose different types of locations?"
   ]
  },
  {
   "cell_type": "code",
   "execution_count": 286,
   "metadata": {},
   "outputs": [],
   "source": [
    "inmigrants_df = pd.merge(hh_df_40, hh_df_50, on='household_id', how='outer',suffixes=['_40','_50'])\n",
    "# Find inmigrants by sorting household IDs that only exist in 2050\n",
    "inmigrants_df = inmigrants_df[inmigrants_df['parcel_id_40'].isnull()]"
   ]
  },
  {
   "cell_type": "code",
   "execution_count": 287,
   "metadata": {},
   "outputs": [
    {
     "name": "stdout",
     "output_type": "stream",
     "text": [
      "247188\n"
     ]
    }
   ],
   "source": [
    "print len(inmigrants_df)"
   ]
  },
  {
   "cell_type": "code",
   "execution_count": 288,
   "metadata": {},
   "outputs": [
    {
     "name": "stdout",
     "output_type": "stream",
     "text": [
      "13.6200378631\n"
     ]
    }
   ],
   "source": [
    "print inmigrants_df['hh_per_acre_50'].mean()"
   ]
  },
  {
   "cell_type": "code",
   "execution_count": 289,
   "metadata": {},
   "outputs": [
    {
     "name": "stdout",
     "output_type": "stream",
     "text": [
      "152.209356002\n"
     ]
    }
   ],
   "source": [
    "print inmigrants_df['hh_per_acre_50'].max()"
   ]
  },
  {
   "cell_type": "code",
   "execution_count": 290,
   "metadata": {},
   "outputs": [
    {
     "name": "stdout",
     "output_type": "stream",
     "text": [
      "0.00021106726622\n"
     ]
    }
   ],
   "source": [
    "print inmigrants_df['hh_per_acre_50'].min()"
   ]
  },
  {
   "cell_type": "code",
   "execution_count": 291,
   "metadata": {},
   "outputs": [
    {
     "name": "stdout",
     "output_type": "stream",
     "text": [
      "6.35020763118\n"
     ]
    }
   ],
   "source": [
    "print inmigrants_df['hh_per_acre_50'].median()"
   ]
  },
  {
   "cell_type": "code",
   "execution_count": 292,
   "metadata": {},
   "outputs": [
    {
     "data": {
      "text/plain": [
       "is_inside_urban_growth_boundary_50\n",
       "0    0.0633\n",
       "1    0.9367\n",
       "Name: household_id, dtype: float64"
      ]
     },
     "execution_count": 292,
     "metadata": {},
     "output_type": "execute_result"
    }
   ],
   "source": [
    "inmigrants_df.groupby('is_inside_urban_growth_boundary_50').count()['household_id']/inmigrants_df['household_id'].count()"
   ]
  },
  {
   "cell_type": "markdown",
   "metadata": {},
   "source": [
    "### All Movers (internal + in-migrants)"
   ]
  },
  {
   "cell_type": "code",
   "execution_count": 293,
   "metadata": {},
   "outputs": [],
   "source": [
    "# Join inmigrants and movers dataframes\n",
    "df = movers_df.append(inmigrants_df)"
   ]
  },
  {
   "cell_type": "code",
   "execution_count": 294,
   "metadata": {},
   "outputs": [
    {
     "data": {
      "text/plain": [
       "461940"
      ]
     },
     "execution_count": 294,
     "metadata": {},
     "output_type": "execute_result"
    }
   ],
   "source": [
    "len(df)"
   ]
  },
  {
   "cell_type": "code",
   "execution_count": 295,
   "metadata": {},
   "outputs": [
    {
     "name": "stdout",
     "output_type": "stream",
     "text": [
      "13.9295490818\n"
     ]
    }
   ],
   "source": [
    "# Note that we cannot compare 2040 differences, only 2050 as for the in-migrants\n",
    "print df['hh_per_acre_50'].mean()"
   ]
  },
  {
   "cell_type": "code",
   "execution_count": 296,
   "metadata": {},
   "outputs": [
    {
     "name": "stdout",
     "output_type": "stream",
     "text": [
      "152.209356002\n"
     ]
    }
   ],
   "source": [
    "print df['hh_per_acre_50'].max()"
   ]
  },
  {
   "cell_type": "code",
   "execution_count": 297,
   "metadata": {},
   "outputs": [
    {
     "name": "stdout",
     "output_type": "stream",
     "text": [
      "0.00021106726622\n"
     ]
    }
   ],
   "source": [
    "print df['hh_per_acre_50'].min()"
   ]
  },
  {
   "cell_type": "code",
   "execution_count": 298,
   "metadata": {},
   "outputs": [
    {
     "name": "stdout",
     "output_type": "stream",
     "text": [
      "6.55217248114\n"
     ]
    }
   ],
   "source": [
    "print df['hh_per_acre_50'].median()"
   ]
  },
  {
   "cell_type": "code",
   "execution_count": 299,
   "metadata": {},
   "outputs": [
    {
     "data": {
      "text/plain": [
       "is_inside_urban_growth_boundary_50\n",
       "0    0.055799\n",
       "1    0.944201\n",
       "Name: household_id, dtype: float64"
      ]
     },
     "execution_count": 299,
     "metadata": {},
     "output_type": "execute_result"
    }
   ],
   "source": [
    "df.groupby('is_inside_urban_growth_boundary_50').count()['household_id']/df['household_id'].count()"
   ]
  },
  {
   "cell_type": "markdown",
   "metadata": {},
   "source": [
    "### Inside Regional Growth Center?"
   ]
  },
  {
   "cell_type": "markdown",
   "metadata": {},
   "source": [
    "# Compare Before and After Parcel Info\n",
    " - land price?\n",
    " - distance to work?\n",
    " - distance to CBD?"
   ]
  },
  {
   "cell_type": "code",
   "execution_count": 247,
   "metadata": {},
   "outputs": [
    {
     "data": {
      "text/plain": [
       "['age_of_head_40',\n",
       " 'building_id_40',\n",
       " 'children_40',\n",
       " 'household_id',\n",
       " 'income_40',\n",
       " 'is_inmigrant_40',\n",
       " 'persons_40',\n",
       " 'tenure_40',\n",
       " 'workers_40',\n",
       " 'building_type_id_40',\n",
       " 'improvement_value_40',\n",
       " 'job_capacity_40',\n",
       " 'land_area_40',\n",
       " 'non_residential_sqft_40',\n",
       " 'not_demolish_40',\n",
       " 'parcel_id_40',\n",
       " 'residential_units_40',\n",
       " 'sqft_per_unit_40',\n",
       " 'stories_40',\n",
       " 'template_id_40',\n",
       " 'year_built_40',\n",
       " '_init_error_ln_land_value_40',\n",
       " 'census_block_group_id_40',\n",
       " 'census_block_id_40',\n",
       " 'city_id_40',\n",
       " 'county_id_40',\n",
       " 'elem_id_40',\n",
       " 'faz_group_id_40',\n",
       " 'faz_id_40',\n",
       " 'grid_id_40',\n",
       " 'growth_center_id_40',\n",
       " 'hschool_id_40',\n",
       " 'is_in_transit_zone_40',\n",
       " 'is_inside_urban_growth_boundary_40',\n",
       " 'is_waterfront_40',\n",
       " 'land_use_type_id_40',\n",
       " 'land_value_40',\n",
       " 'large_area_id_40',\n",
       " 'mix_split_id_40',\n",
       " 'mschool_id_40',\n",
       " 'parcel_sqft_40',\n",
       " 'parking_price_daily_40',\n",
       " 'parking_price_hourly_40',\n",
       " 'parking_space_daily_40',\n",
       " 'parking_space_hourly_40',\n",
       " 'plan_type_id_40',\n",
       " 'regional_geography_id_40',\n",
       " 'school_district_id_40',\n",
       " 'tractcity_id_40',\n",
       " 'use_code_40',\n",
       " 'x_coord_sp_40',\n",
       " 'x_coord_utm_40',\n",
       " 'y_coord_sp_40',\n",
       " 'y_coord_utm_40',\n",
       " 'zip_id_40',\n",
       " 'zone_id_40',\n",
       " 'hh_per_acre_40',\n",
       " 'age_of_head_50',\n",
       " 'building_id_50',\n",
       " 'children_50',\n",
       " 'income_50',\n",
       " 'is_inmigrant_50',\n",
       " 'persons_50',\n",
       " 'tenure_50',\n",
       " 'workers_50',\n",
       " 'building_type_id_50',\n",
       " 'improvement_value_50',\n",
       " 'job_capacity_50',\n",
       " 'land_area_50',\n",
       " 'non_residential_sqft_50',\n",
       " 'not_demolish_50',\n",
       " 'parcel_id_50',\n",
       " 'residential_units_50',\n",
       " 'sqft_per_unit_50',\n",
       " 'stories_50',\n",
       " 'template_id_50',\n",
       " 'year_built_50',\n",
       " '_init_error_ln_land_value_50',\n",
       " 'census_block_group_id_50',\n",
       " 'census_block_id_50',\n",
       " 'city_id_50',\n",
       " 'county_id_50',\n",
       " 'elem_id_50',\n",
       " 'faz_group_id_50',\n",
       " 'faz_id_50',\n",
       " 'grid_id_50',\n",
       " 'growth_center_id_50',\n",
       " 'hschool_id_50',\n",
       " 'is_in_transit_zone_50',\n",
       " 'is_inside_urban_growth_boundary_50',\n",
       " 'is_waterfront_50',\n",
       " 'land_use_type_id_50',\n",
       " 'land_value_50',\n",
       " 'large_area_id_50',\n",
       " 'mix_split_id_50',\n",
       " 'mschool_id_50',\n",
       " 'parcel_sqft_50',\n",
       " 'parking_price_daily_50',\n",
       " 'parking_price_hourly_50',\n",
       " 'parking_space_daily_50',\n",
       " 'parking_space_hourly_50',\n",
       " 'plan_type_id_50',\n",
       " 'regional_geography_id_50',\n",
       " 'school_district_id_50',\n",
       " 'tractcity_id_50',\n",
       " 'use_code_50',\n",
       " 'x_coord_sp_50',\n",
       " 'x_coord_utm_50',\n",
       " 'y_coord_sp_50',\n",
       " 'y_coord_utm_50',\n",
       " 'zip_id_50',\n",
       " 'zone_id_50',\n",
       " 'hh_per_acre_50']"
      ]
     },
     "execution_count": 247,
     "metadata": {},
     "output_type": "execute_result"
    }
   ],
   "source": [
    "[i for i in movers_df.columns]"
   ]
  },
  {
   "cell_type": "code",
   "execution_count": 306,
   "metadata": {},
   "outputs": [
    {
     "name": "stdout",
     "output_type": "stream",
     "text": [
      "1488.36279751\n",
      "1478.08234906\n"
     ]
    }
   ],
   "source": [
    "print hh_df['sqft_per_unit_40'].mean()\n",
    "print hh_df['sqft_per_unit_50'].mean()"
   ]
  },
  {
   "cell_type": "code",
   "execution_count": null,
   "metadata": {},
   "outputs": [],
   "source": [
    "hh_df['']"
   ]
  },
  {
   "cell_type": "markdown",
   "metadata": {},
   "source": [
    "# Other Questions\n",
    "- What types of households tended to move further out?\n",
    "- Worker households? High income? Lower income?"
   ]
  },
  {
   "cell_type": "code",
   "execution_count": null,
   "metadata": {},
   "outputs": [],
   "source": []
  },
  {
   "cell_type": "code",
   "execution_count": null,
   "metadata": {},
   "outputs": [],
   "source": []
  }
 ],
 "metadata": {
  "kernelspec": {
   "display_name": "Python 2",
   "language": "python",
   "name": "python2"
  },
  "language_info": {
   "codemirror_mode": {
    "name": "ipython",
    "version": 2
   },
   "file_extension": ".py",
   "mimetype": "text/x-python",
   "name": "python",
   "nbconvert_exporter": "python",
   "pygments_lexer": "ipython2",
   "version": "2.7.14"
  }
 },
 "nbformat": 4,
 "nbformat_minor": 2
}
