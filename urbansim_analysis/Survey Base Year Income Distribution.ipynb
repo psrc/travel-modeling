{
 "cells": [
  {
   "cell_type": "code",
   "execution_count": 1,
   "metadata": {
    "collapsed": true
   },
   "outputs": [],
   "source": [
    "import pandas as pd\n",
    "import numpy as np\n",
    "import h5py\n",
    "# import geopandas as gpd\n",
    "# import numpy as np\n",
    "# from shapely.geometry import Point, MultiPoint\n",
    "# from shapely.ops import nearest_points\n",
    "# from shapely.geometry import Point\n",
    "# import matplotlib.pyplot as plt"
   ]
  },
  {
   "cell_type": "code",
   "execution_count": 138,
   "metadata": {
    "collapsed": true
   },
   "outputs": [],
   "source": [
    "# Load household data that has been joined to the nearest parcel with residential land uses\n",
    "hh = pd.read_csv(r'C:\\Users\\Brice\\Desktop\\gis\\hh_14_nearest_parcel.csv')"
   ]
  },
  {
   "cell_type": "code",
   "execution_count": 139,
   "metadata": {
    "collapsed": true
   },
   "outputs": [],
   "source": [
    "# Drop the building info, it's not necessarily correct\n",
    "hh.drop(['building_i', u'building_t',\n",
    "       u'improvemen', u'job_capaci', u'land_area', u'non_reside',\n",
    "       u'not_demoli', u'residentia', u'sqft_per_u', u'stories',\n",
    "       u'template_i', u'year_built'], axis=1, inplace=True)"
   ]
  },
  {
   "cell_type": "code",
   "execution_count": 140,
   "metadata": {
    "collapsed": true
   },
   "outputs": [],
   "source": [
    "# Let's just assume that the join correctly placed the households, without doing any\n",
    "# other spatial joins\n",
    "\n",
    "parcel = pd.read_csv(r'R:\\Urbansim\\parcel_14.csv')\n",
    "bldg = pd.read_csv(r'R:\\Urbansim\\bldg_14.csv')\n",
    "\n",
    "# Get building totals per parcel\n",
    "bldg_total = bldg.groupby('parcel_id').sum()[[u'improvement_value',u'job_capacity','non_residential_sqft',\n",
    "                                             'residential_units','stories']].reset_index()\n",
    "bldg_avg = bldg.groupby('parcel_id').sum()[['sqft_per_unit']].reset_index()\n",
    "\n",
    "# Merge bldg_totals and averages\n",
    "bldg_agg = pd.merge(bldg_total,bldg_avg,on='parcel_id')\n",
    "\n",
    "# Join this to the household file\n",
    "df = pd.merge(hh,bldg_agg,on='parcel_id',how='left')\n",
    "\n",
    "# join with parcel data to get land value\n",
    "df = pd.merge(df,parcel,on='parcel_id', how='left')"
   ]
  },
  {
   "cell_type": "code",
   "execution_count": 141,
   "metadata": {},
   "outputs": [],
   "source": [
    "# bldg_avg\n",
    "# [i for i in df.columns]"
   ]
  },
  {
   "cell_type": "code",
   "execution_count": 142,
   "metadata": {},
   "outputs": [],
   "source": [
    "# Calculate percent of parcel building space for residential use\n",
    "df['residential_sqft'] = df['sqft_per_unit']*df['residential_units']\n",
    "df['total_sqft'] = df['residential_sqft']+df['non_residential_sqft']\n",
    "df['total_value'] = df[u'improvement_value']+df['land_value']\n",
    "df['percent_residential_sqft'] = df['residential_sqft']/df['total_sqft']\n",
    "df['total_residential_value'] = df['percent_residential_sqft']*df['total_value']\n",
    "df['unit_residential_value'] = df['total_residential_value']/df['residential_units']"
   ]
  },
  {
   "cell_type": "code",
   "execution_count": 260,
   "metadata": {
    "collapsed": true
   },
   "outputs": [],
   "source": [
    "df.to_csv(r'R:\\\\urbansim\\hh_14_with_parcel_info.csv',index=False)"
   ]
  },
  {
   "cell_type": "code",
   "execution_count": 143,
   "metadata": {
    "collapsed": true
   },
   "outputs": [],
   "source": [
    "df_survey = df.copy()"
   ]
  },
  {
   "cell_type": "markdown",
   "metadata": {},
   "source": [
    "# Compare Synthetic HH to Housing Costs"
   ]
  },
  {
   "cell_type": "code",
   "execution_count": 252,
   "metadata": {
    "collapsed": true
   },
   "outputs": [],
   "source": [
    "# Load synthetic hh\n",
    "myh5 = h5py.File(r'R:\\SoundCast\\Inputs\\lodes\\vision\\2014\\landuse\\hh_and_persons.h5')"
   ]
  },
  {
   "cell_type": "code",
   "execution_count": 253,
   "metadata": {},
   "outputs": [
    {
     "ename": "IOError",
     "evalue": "Can't read data (File read failed: time = wed nov 07 15:47:18 2018\n, filename = 'r:\\soundcast\\inputs\\lodes\\vision\\2014\\landuse\\hh_and_persons.h5', file descriptor = 3, errno = 22, error message = 'invalid argument', buf = 0000000017145950, total read size = 49, bytes this sub-read = 49, bytes actually read = 18446744073709551615, offset = 14753783)",
     "output_type": "error",
     "traceback": [
      "\u001b[1;31m---------------------------------------------------------------------------\u001b[0m",
      "\u001b[1;31mIOError\u001b[0m                                   Traceback (most recent call last)",
      "\u001b[1;32m<ipython-input-253-fc8b0142bd80>\u001b[0m in \u001b[0;36m<module>\u001b[1;34m()\u001b[0m\n\u001b[0;32m      1\u001b[0m \u001b[0mhh_synth_df\u001b[0m \u001b[1;33m=\u001b[0m \u001b[0mpd\u001b[0m\u001b[1;33m.\u001b[0m\u001b[0mDataFrame\u001b[0m\u001b[1;33m(\u001b[0m\u001b[1;33m)\u001b[0m\u001b[1;33m\u001b[0m\u001b[0m\n\u001b[0;32m      2\u001b[0m \u001b[1;32mfor\u001b[0m \u001b[0mcol\u001b[0m \u001b[1;32min\u001b[0m \u001b[0mmyh5\u001b[0m\u001b[1;33m[\u001b[0m\u001b[1;34m'Household'\u001b[0m\u001b[1;33m]\u001b[0m\u001b[1;33m.\u001b[0m\u001b[0mkeys\u001b[0m\u001b[1;33m(\u001b[0m\u001b[1;33m)\u001b[0m\u001b[1;33m:\u001b[0m\u001b[1;33m\u001b[0m\u001b[0m\n\u001b[1;32m----> 3\u001b[1;33m     \u001b[0mhh_synth_df\u001b[0m\u001b[1;33m[\u001b[0m\u001b[0mcol\u001b[0m\u001b[1;33m]\u001b[0m \u001b[1;33m=\u001b[0m \u001b[0mmyh5\u001b[0m\u001b[1;33m[\u001b[0m\u001b[1;34m'Household'\u001b[0m\u001b[1;33m]\u001b[0m\u001b[1;33m[\u001b[0m\u001b[0mcol\u001b[0m\u001b[1;33m]\u001b[0m\u001b[1;33m[\u001b[0m\u001b[1;33m:\u001b[0m\u001b[1;33m]\u001b[0m\u001b[1;33m\u001b[0m\u001b[0m\n\u001b[0m",
      "\u001b[1;32mh5py\\_objects.pyx\u001b[0m in \u001b[0;36mh5py._objects.with_phil.wrapper\u001b[1;34m()\u001b[0m\n",
      "\u001b[1;32mh5py\\_objects.pyx\u001b[0m in \u001b[0;36mh5py._objects.with_phil.wrapper\u001b[1;34m()\u001b[0m\n",
      "\u001b[1;32mC:\\anaconda\\lib\\site-packages\\h5py\\_hl\\dataset.pyc\u001b[0m in \u001b[0;36m__getitem__\u001b[1;34m(self, args)\u001b[0m\n\u001b[0;32m    492\u001b[0m         \u001b[0mmspace\u001b[0m \u001b[1;33m=\u001b[0m \u001b[0mh5s\u001b[0m\u001b[1;33m.\u001b[0m\u001b[0mcreate_simple\u001b[0m\u001b[1;33m(\u001b[0m\u001b[0mmshape\u001b[0m\u001b[1;33m)\u001b[0m\u001b[1;33m\u001b[0m\u001b[0m\n\u001b[0;32m    493\u001b[0m         \u001b[0mfspace\u001b[0m \u001b[1;33m=\u001b[0m \u001b[0mselection\u001b[0m\u001b[1;33m.\u001b[0m\u001b[0mid\u001b[0m\u001b[1;33m\u001b[0m\u001b[0m\n\u001b[1;32m--> 494\u001b[1;33m         \u001b[0mself\u001b[0m\u001b[1;33m.\u001b[0m\u001b[0mid\u001b[0m\u001b[1;33m.\u001b[0m\u001b[0mread\u001b[0m\u001b[1;33m(\u001b[0m\u001b[0mmspace\u001b[0m\u001b[1;33m,\u001b[0m \u001b[0mfspace\u001b[0m\u001b[1;33m,\u001b[0m \u001b[0marr\u001b[0m\u001b[1;33m,\u001b[0m \u001b[0mmtype\u001b[0m\u001b[1;33m,\u001b[0m \u001b[0mdxpl\u001b[0m\u001b[1;33m=\u001b[0m\u001b[0mself\u001b[0m\u001b[1;33m.\u001b[0m\u001b[0m_dxpl\u001b[0m\u001b[1;33m)\u001b[0m\u001b[1;33m\u001b[0m\u001b[0m\n\u001b[0m\u001b[0;32m    495\u001b[0m \u001b[1;33m\u001b[0m\u001b[0m\n\u001b[0;32m    496\u001b[0m         \u001b[1;31m# Patch up the output for NumPy\u001b[0m\u001b[1;33m\u001b[0m\u001b[1;33m\u001b[0m\u001b[0m\n",
      "\u001b[1;32mh5py\\_objects.pyx\u001b[0m in \u001b[0;36mh5py._objects.with_phil.wrapper\u001b[1;34m()\u001b[0m\n",
      "\u001b[1;32mh5py\\_objects.pyx\u001b[0m in \u001b[0;36mh5py._objects.with_phil.wrapper\u001b[1;34m()\u001b[0m\n",
      "\u001b[1;32mh5py\\h5d.pyx\u001b[0m in \u001b[0;36mh5py.h5d.DatasetID.read\u001b[1;34m()\u001b[0m\n",
      "\u001b[1;32mh5py\\_proxy.pyx\u001b[0m in \u001b[0;36mh5py._proxy.dset_rw\u001b[1;34m()\u001b[0m\n",
      "\u001b[1;32mh5py\\_proxy.pyx\u001b[0m in \u001b[0;36mh5py._proxy.H5PY_H5Dread\u001b[1;34m()\u001b[0m\n",
      "\u001b[1;31mIOError\u001b[0m: Can't read data (File read failed: time = wed nov 07 15:47:18 2018\n, filename = 'r:\\soundcast\\inputs\\lodes\\vision\\2014\\landuse\\hh_and_persons.h5', file descriptor = 3, errno = 22, error message = 'invalid argument', buf = 0000000017145950, total read size = 49, bytes this sub-read = 49, bytes actually read = 18446744073709551615, offset = 14753783)"
     ]
    }
   ],
   "source": [
    "hh_synth_df = pd.DataFrame()\n",
    "for col in myh5['Household'].keys():\n",
    "    hh_synth_df[col] = myh5['Household'][col][:]"
   ]
  },
  {
   "cell_type": "code",
   "execution_count": null,
   "metadata": {},
   "outputs": [],
   "source": [
    "# Join this to the household file\n",
    "df = pd.merge(hh_synth_df,bldg_agg,left_on='hhparcel',right_on='parcel_id',how='left')\n",
    "\n",
    "# join with parcel data to get land value\n",
    "df = pd.merge(df,parcel,on='parcel_id', how='left')"
   ]
  },
  {
   "cell_type": "code",
   "execution_count": null,
   "metadata": {
    "collapsed": true
   },
   "outputs": [],
   "source": [
    "# Calculate percent of parcel building space for residential use\n",
    "df['residential_sqft'] = df['sqft_per_unit']*df['residential_units']\n",
    "df['total_sqft'] = df['residential_sqft']+df['non_residential_sqft']\n",
    "df['total_value'] = df[u'improvement_value']+df['land_value']\n",
    "df['percent_residential_sqft'] = df['residential_sqft']/df['total_sqft']\n",
    "df['total_residential_value'] = df['percent_residential_sqft']*df['total_value']\n",
    "df['unit_residential_value'] = df['total_residential_value']/df['residential_units']"
   ]
  },
  {
   "cell_type": "code",
   "execution_count": 22,
   "metadata": {},
   "outputs": [],
   "source": [
    "df.to_csv(r'R:\\\\urbansim\\hh_synth_14_with_parcel_info.csv',index=False)"
   ]
  },
  {
   "cell_type": "code",
   "execution_count": null,
   "metadata": {
    "collapsed": true
   },
   "outputs": [],
   "source": [
    "df_synth = df.copy()"
   ]
  },
  {
   "cell_type": "markdown",
   "metadata": {},
   "source": [
    "## Join survey to synthetic households for comparison"
   ]
  },
  {
   "cell_type": "code",
   "execution_count": 182,
   "metadata": {},
   "outputs": [],
   "source": [
    "# Calculate avg and median housing costs for survey and synth\n",
    "df_survey_median = df_survey.groupby('hh_income_detailed_imp').median()[['unit_residential_value']].reset_index()\n",
    "df_survey_median.rename(columns={'unit_residential_value':'measure'})\n",
    "df_survey_median['measure'] = 'unit_residential_value_median'\n",
    "df_survey_median['source'] = 'survey'\n",
    "\n",
    "df_survey_mean = df_survey.groupby('hh_income_detailed_imp').mean()[['unit_residential_value']].reset_index()\n",
    "df_survey_mean.rename(columns={'unit_residential_value':'measure'})\n",
    "df_survey_mean['measure'] = 'unit_residential_value_mean'\n",
    "df_survey_mean['source'] = 'survey'\n",
    "\n",
    "df = df_survey_median.append(df_survey_mean)\n",
    "\n",
    "# bin household income for synthetic population\n"
   ]
  },
  {
   "cell_type": "code",
   "execution_count": 183,
   "metadata": {},
   "outputs": [],
   "source": [
    "income_bins = [-1,10000,25000,35000,50000,75000,100000,150000,200000,250000,999999999]\n",
    "income_labels = [1,2,3,4,5,6,7,8,9,10]"
   ]
  },
  {
   "cell_type": "code",
   "execution_count": 184,
   "metadata": {},
   "outputs": [],
   "source": [
    "df_synth['hh_income_detailed_imp'] = pd.cut(df_synth['hhincome'], bins=income_bins, labels=income_labels)"
   ]
  },
  {
   "cell_type": "code",
   "execution_count": 185,
   "metadata": {},
   "outputs": [],
   "source": [
    "df_synth_median = df_synth.groupby('hh_income_detailed_imp').median()[['unit_residential_value']].reset_index()\n",
    "df_synth_median.rename(columns={'unit_residential_value':'measure'})\n",
    "df_synth_median['measure'] = 'unit_residential_value_median'\n",
    "df_synth_median['source'] = 'synthetic_pop'\n",
    "\n",
    "df = df.append(df_synth_median)\n",
    "\n",
    "df_synth_mean = df_synth.groupby('hh_income_detailed_imp').mean()[['unit_residential_value']].reset_index()\n",
    "df_synth_mean.rename(columns={'unit_residential_value':'measure'})\n",
    "df_synth_mean['measure'] = 'unit_residential_value_mean'\n",
    "df_synth_mean['source'] = 'synthetic_pop'\n",
    "\n",
    "df = df.append(df_synth_mean)"
   ]
  },
  {
   "cell_type": "code",
   "execution_count": 65,
   "metadata": {},
   "outputs": [],
   "source": [
    "df.to_csv(r'R:\\\\urbansim\\compare_survey_synth_14.csv',index=False)"
   ]
  },
  {
   "cell_type": "code",
   "execution_count": 186,
   "metadata": {
    "collapsed": true
   },
   "outputs": [],
   "source": [
    "survey_synth_compare = df.copy()"
   ]
  },
  {
   "cell_type": "markdown",
   "metadata": {},
   "source": [
    "# Evaluate future year income-costs"
   ]
  },
  {
   "cell_type": "code",
   "execution_count": 187,
   "metadata": {},
   "outputs": [],
   "source": [
    "# Get housing costs from urbansim\n",
    "bldgf = pd.read_csv(r'R:\\urbansim\\bldg_2050_jf_run_45.run_2018_07_06_11_05.csv.csv')\n",
    "parcel = pd.read_csv(r'R:\\urbansim\\parcel_2050_jf_run_45.run_2018_07_06_11_05.csv.csv')"
   ]
  },
  {
   "cell_type": "code",
   "execution_count": 188,
   "metadata": {
    "collapsed": true
   },
   "outputs": [],
   "source": [
    "# Get hh info from the run\n",
    "hh_df = pd.read_csv(r'R:\\urbansim\\hh_2050_jf_run_45.run_2018_07_06_11_05.csv')\n",
    "hh_df.drop([u'residential_units', u'sqft_per_unit', u'stories',\n",
    "            'non_residential_sqft','improvement_value'],axis=1,inplace=True)"
   ]
  },
  {
   "cell_type": "code",
   "execution_count": 189,
   "metadata": {
    "collapsed": true
   },
   "outputs": [],
   "source": [
    "# Get building totals per parcel\n",
    "bldg_total = bldg.groupby('parcel_id').sum()[[u'improvement_value',u'job_capacity','non_residential_sqft',\n",
    "                                             'residential_units','stories']].reset_index()\n",
    "bldg_avg = bldg.groupby('parcel_id').sum()[['sqft_per_unit']].reset_index()\n",
    "\n",
    "# Merge bldg_totals and averages\n",
    "bldg_agg = pd.merge(bldg_total,bldg_avg,on='parcel_id')"
   ]
  },
  {
   "cell_type": "code",
   "execution_count": 190,
   "metadata": {},
   "outputs": [],
   "source": [
    "# Join this to the household file\n",
    "df = pd.merge(hh_df,bldg_agg,on='parcel_id',how='left')\n",
    "\n",
    "# Already have parcel info\n",
    "# # join with parcel data to get land value\n",
    "# df = pd.merge(df,parcel,on='parcel_id', how='left')"
   ]
  },
  {
   "cell_type": "code",
   "execution_count": 191,
   "metadata": {},
   "outputs": [],
   "source": [
    "# Calculate percent of parcel building space for residential use\n",
    "df['residential_sqft'] = df['sqft_per_unit']*df['residential_units']\n",
    "df['total_sqft'] = df['residential_sqft']+df['non_residential_sqft']\n",
    "df['total_value'] = df[u'improvement_value']+df['land_value']\n",
    "df['percent_residential_sqft'] = df['residential_sqft']/df['total_sqft']\n",
    "df['total_residential_value'] = df['percent_residential_sqft']*df['total_value']\n",
    "df['unit_residential_value'] = df['total_residential_value']/df['residential_units']"
   ]
  },
  {
   "cell_type": "code",
   "execution_count": 192,
   "metadata": {},
   "outputs": [],
   "source": [
    "# # For forecast households, we know the exact building ID, so join based on that\n",
    "\n",
    "# # Merge parcel data to building data -> to be connected to household data\n",
    "# bldg_parcel = pd.merge(bldg_df, parcel_df, on='parcel_id', how='left')\n",
    "\n",
    "# # Join data to household information\n",
    "# hh_df = pd.merge(hh, bldg_parcel, on='building_id', how='left')\n",
    "\n",
    "# # Calculate housing cost\n",
    "# df = hh_df.copy()"
   ]
  },
  {
   "cell_type": "code",
   "execution_count": 193,
   "metadata": {},
   "outputs": [],
   "source": [
    "# df\n"
   ]
  },
  {
   "cell_type": "code",
   "execution_count": 194,
   "metadata": {},
   "outputs": [],
   "source": [
    "# df.income"
   ]
  },
  {
   "cell_type": "code",
   "execution_count": 195,
   "metadata": {},
   "outputs": [],
   "source": [
    "# Record income\n",
    "income_bins = [-1,10000,25000,35000,50000,75000,100000,150000,200000,250000,999999999]\n",
    "income_labels = [1,2,3,4,5,6,7,8,9,10]\n",
    "df['hh_income_detailed_imp'] = pd.cut(df['income'], bins=income_bins, labels=income_labels)"
   ]
  },
  {
   "cell_type": "code",
   "execution_count": 130,
   "metadata": {},
   "outputs": [],
   "source": [
    "df.to_csv('R:\\urbansim\\hh_50_jf_run_45.csv', index=False)"
   ]
  },
  {
   "cell_type": "code",
   "execution_count": 196,
   "metadata": {
    "collapsed": true
   },
   "outputs": [],
   "source": [
    "df_2050 = df.copy()"
   ]
  },
  {
   "cell_type": "code",
   "execution_count": 199,
   "metadata": {},
   "outputs": [],
   "source": [
    "\n",
    "\n",
    "# Group to get totals by income groups\n",
    "df_2050['hh_income_detailed_imp'] = pd.cut(df_2050['income'], bins=income_bins, labels=income_labels)\n",
    "\n",
    "df_2050_median = df_2050.groupby('hh_income_detailed_imp').median()[['unit_residential_value']].reset_index()\n",
    "df_2050_median.rename(columns={'unit_residential_value':'measure'})\n",
    "df_2050_median['measure'] = 'unit_residential_value_median'\n",
    "df_2050_median['source'] = '2050_just_friends'\n",
    "\n",
    "survey_synth_compare = survey_synth_compare.append(df_2050_median)\n",
    "\n",
    "df_2050_mean = df_2050.groupby('hh_income_detailed_imp').mean()[['unit_residential_value']].reset_index()\n",
    "df_2050_mean.rename(columns={'unit_residential_value':'measure'})\n",
    "df_2050_mean['measure'] = 'unit_residential_value_mean'\n",
    "df_2050_mean['source'] = '2050_just_friends'\n",
    "\n",
    "survey_synth_compare = survey_synth_compare.append(df_2050_mean)"
   ]
  },
  {
   "cell_type": "code",
   "execution_count": 200,
   "metadata": {
    "collapsed": true
   },
   "outputs": [],
   "source": [
    "survey_synth_compare.to_csv('R:\\urbansim\\compare_14survey_synth_2050.csv', index=False)"
   ]
  },
  {
   "cell_type": "code",
   "execution_count": 202,
   "metadata": {},
   "outputs": [],
   "source": [
    "# survey_synth_compare"
   ]
  },
  {
   "cell_type": "markdown",
   "metadata": {},
   "source": [
    "# Compare Movers Only"
   ]
  },
  {
   "cell_type": "code",
   "execution_count": 203,
   "metadata": {
    "collapsed": true
   },
   "outputs": [],
   "source": [
    "# Compare against households from 2045\n",
    "# Are they locating in a way we'd expect from the 2014 synth pop?"
   ]
  },
  {
   "cell_type": "code",
   "execution_count": 206,
   "metadata": {},
   "outputs": [],
   "source": [
    "# Get housing costs from urbansim\n",
    "bldgf = pd.read_csv(r'R:\\urbansim\\bldg_2040_jf_run_40.run_2018_07_06_11_05.csv.csv')\n",
    "parcel = pd.read_csv(r'R:\\urbansim\\parcel_2040_jf_run_45.run_2018_07_06_11_05.csv.csv')\n",
    "\n",
    "# Get hh info from the run\n",
    "hh_df = pd.read_csv(r'R:\\urbansim\\hh_2040_jf_run_40.run_2018_07_06_11_05.csv')\n",
    "hh_df.drop([u'residential_units', u'sqft_per_unit', u'stories',\n",
    "            'non_residential_sqft','improvement_value'],axis=1,inplace=True)"
   ]
  },
  {
   "cell_type": "code",
   "execution_count": 226,
   "metadata": {},
   "outputs": [],
   "source": [
    "# hh_df.columns"
   ]
  },
  {
   "cell_type": "code",
   "execution_count": 228,
   "metadata": {},
   "outputs": [],
   "source": [
    "df_50_40 = pd.merge(df_2050[['household_id','building_id']], hh_df[['building_id','household_id']], \n",
    "                    on='building_id', how='left', suffixes=['_50','_40'])"
   ]
  },
  {
   "cell_type": "code",
   "execution_count": 249,
   "metadata": {},
   "outputs": [],
   "source": [
    "# Get a list of households that have different building than in 2040\n",
    "moved_since_2040 = df_50_40[df_50_40['household_id_40'].isnull()]['household_id_50'].values"
   ]
  },
  {
   "cell_type": "code",
   "execution_count": 254,
   "metadata": {
    "collapsed": true
   },
   "outputs": [],
   "source": [
    "# Get a list of households that have different building than in 2014\n",
    "\n",
    "# Get housing costs from urbansim\n",
    "bldgf = pd.read_csv(r'R:\\urbansim\\bldg_2014_jf_run_40.run_2018_07_06_11_05.csv.csv')\n",
    "parcel = pd.read_csv(r'R:\\urbansim\\parcel_2040_jf_run_45.run_2018_07_06_11_05.csv.csv')\n",
    "\n",
    "# Get hh info from the run\n",
    "hh_df = pd.read_csv(r'R:\\urbansim\\hh_2014_jf_run_40.run_2018_07_06_11_05.csv')\n",
    "hh_df.drop([u'residential_units', u'sqft_per_unit', u'stories',\n",
    "            'non_residential_sqft','improvement_value'],axis=1,inplace=True)\n",
    "\n"
   ]
  },
  {
   "cell_type": "code",
   "execution_count": 256,
   "metadata": {},
   "outputs": [],
   "source": [
    "df_50_14 = pd.merge(df_2050[['household_id','building_id']], hh_df[['building_id','household_id']], \n",
    "                    on='building_id', how='left', suffixes=['_50','_14'])\n",
    "# Get a list of households that have different building than in 2040\n",
    "moved_since_2014 = df_50_14[df_50_14['household_id_14'].isnull()]['household_id_50'].values"
   ]
  },
  {
   "cell_type": "code",
   "execution_count": 257,
   "metadata": {},
   "outputs": [
    {
     "data": {
      "text/plain": [
       "959016"
      ]
     },
     "execution_count": 257,
     "metadata": {},
     "output_type": "execute_result"
    }
   ],
   "source": [
    "len(moved_since_2014)"
   ]
  },
  {
   "cell_type": "code",
   "execution_count": 258,
   "metadata": {},
   "outputs": [
    {
     "data": {
      "text/plain": [
       "207896"
      ]
     },
     "execution_count": 258,
     "metadata": {},
     "output_type": "execute_result"
    }
   ],
   "source": [
    "len(moved_since_2040)"
   ]
  },
  {
   "cell_type": "code",
   "execution_count": 262,
   "metadata": {},
   "outputs": [],
   "source": [
    "# Look up the 2050 location for these households and see what the spread looks like\n",
    "df_2050_movers_since_14 = df_2050[df_2050['household_id'].isin(moved_since_2014)]\n",
    "df_2050_movers_since_40 = df_2050[df_2050['household_id'].isin(moved_since_2040)]"
   ]
  },
  {
   "cell_type": "code",
   "execution_count": 277,
   "metadata": {},
   "outputs": [],
   "source": [
    "# Join with existing dataset to get totals\n",
    "compare_all = survey_synth_compare.copy()"
   ]
  },
  {
   "cell_type": "code",
   "execution_count": 283,
   "metadata": {},
   "outputs": [
    {
     "data": {
      "text/html": [
       "<div>\n",
       "<style scoped>\n",
       "    .dataframe tbody tr th:only-of-type {\n",
       "        vertical-align: middle;\n",
       "    }\n",
       "\n",
       "    .dataframe tbody tr th {\n",
       "        vertical-align: top;\n",
       "    }\n",
       "\n",
       "    .dataframe thead th {\n",
       "        text-align: right;\n",
       "    }\n",
       "</style>\n",
       "<table border=\"1\" class=\"dataframe\">\n",
       "  <thead>\n",
       "    <tr style=\"text-align: right;\">\n",
       "      <th></th>\n",
       "      <th>hh_income_detailed_imp</th>\n",
       "      <th>unit_residential_value</th>\n",
       "      <th>measure</th>\n",
       "    </tr>\n",
       "    <tr>\n",
       "      <th>source</th>\n",
       "      <th></th>\n",
       "      <th></th>\n",
       "      <th></th>\n",
       "    </tr>\n",
       "  </thead>\n",
       "  <tbody>\n",
       "    <tr>\n",
       "      <th>2050_just_friends</th>\n",
       "      <td>20</td>\n",
       "      <td>20</td>\n",
       "      <td>20</td>\n",
       "    </tr>\n",
       "    <tr>\n",
       "      <th>2050_movers_since_2014</th>\n",
       "      <td>20</td>\n",
       "      <td>20</td>\n",
       "      <td>20</td>\n",
       "    </tr>\n",
       "    <tr>\n",
       "      <th>2050_movers_since_2040</th>\n",
       "      <td>20</td>\n",
       "      <td>20</td>\n",
       "      <td>20</td>\n",
       "    </tr>\n",
       "    <tr>\n",
       "      <th>survey</th>\n",
       "      <td>20</td>\n",
       "      <td>20</td>\n",
       "      <td>20</td>\n",
       "    </tr>\n",
       "    <tr>\n",
       "      <th>synthetic_pop</th>\n",
       "      <td>20</td>\n",
       "      <td>20</td>\n",
       "      <td>20</td>\n",
       "    </tr>\n",
       "  </tbody>\n",
       "</table>\n",
       "</div>"
      ],
      "text/plain": [
       "                        hh_income_detailed_imp  unit_residential_value  \\\n",
       "source                                                                   \n",
       "2050_just_friends                           20                      20   \n",
       "2050_movers_since_2014                      20                      20   \n",
       "2050_movers_since_2040                      20                      20   \n",
       "survey                                      20                      20   \n",
       "synthetic_pop                               20                      20   \n",
       "\n",
       "                        measure  \n",
       "source                           \n",
       "2050_just_friends            20  \n",
       "2050_movers_since_2014       20  \n",
       "2050_movers_since_2040       20  \n",
       "survey                       20  \n",
       "synthetic_pop                20  "
      ]
     },
     "execution_count": 283,
     "metadata": {},
     "output_type": "execute_result"
    }
   ],
   "source": [
    "compare_all.groupby('source').count()"
   ]
  },
  {
   "cell_type": "code",
   "execution_count": 278,
   "metadata": {
    "collapsed": true
   },
   "outputs": [],
   "source": [
    "# Group to get totals by income groups\n",
    "df_2050_movers_since_14_median = df_2050_movers_since_14.groupby('hh_income_detailed_imp').median()[['unit_residential_value']].reset_index()\n",
    "df_2050_movers_since_14_median.rename(columns={'unit_residential_value':'measure'})\n",
    "df_2050_movers_since_14_median['measure'] = 'unit_residential_value_median'\n",
    "df_2050_movers_since_14_median['source'] = '2050_movers_since_2014'\n",
    "\n",
    "compare_all = compare_all.append(df_2050_movers_since_14_median)\n",
    "\n",
    "df_2050_movers_since_14_mean = df_2050_movers_since_14.groupby('hh_income_detailed_imp').mean()[['unit_residential_value']].reset_index()\n",
    "df_2050_movers_since_14_mean.rename(columns={'unit_residential_value':'measure'})\n",
    "df_2050_movers_since_14_mean['measure'] = 'unit_residential_value_mean'\n",
    "df_2050_movers_since_14_mean['source'] = '2050_movers_since_2014'\n",
    "\n",
    "compare_all = compare_all.append(df_2050_movers_since_14_mean)"
   ]
  },
  {
   "cell_type": "code",
   "execution_count": 279,
   "metadata": {},
   "outputs": [],
   "source": [
    "# Now add movers since 2040\n",
    "# Group to get totals by income groups\n",
    "df_2050_movers_since_40_median = df_2050_movers_since_40.groupby('hh_income_detailed_imp').median()[['unit_residential_value']].reset_index()\n",
    "df_2050_movers_since_40_median.rename(columns={'unit_residential_value':'measure'})\n",
    "df_2050_movers_since_40_median['measure'] = 'unit_residential_value_median'\n",
    "df_2050_movers_since_40_median['source'] = '2050_movers_since_2040'\n",
    "\n",
    "compare_all = compare_all.append(df_2050_movers_since_40_median)\n",
    "\n",
    "df_2050_movers_since_40_mean = df_2050_movers_since_40.groupby('hh_income_detailed_imp').mean()[['unit_residential_value']].reset_index()\n",
    "df_2050_movers_since_40_mean.rename(columns={'unit_residential_value':'measure'})\n",
    "df_2050_movers_since_40_mean['measure'] = 'unit_residential_value_mean'\n",
    "df_2050_movers_since_40_mean['source'] = '2050_movers_since_2040'\n",
    "\n",
    "compare_all = compare_all.append(df_2050_movers_since_40_mean)"
   ]
  },
  {
   "cell_type": "code",
   "execution_count": 280,
   "metadata": {
    "collapsed": true
   },
   "outputs": [],
   "source": [
    "compare_all.to_csv(r'R:\\urbansim\\compare_all_plus_movers.csv')"
   ]
  },
  {
   "cell_type": "markdown",
   "metadata": {},
   "source": [
    "# Compare Building Values 2014 to 2050"
   ]
  },
  {
   "cell_type": "code",
   "execution_count": 312,
   "metadata": {},
   "outputs": [],
   "source": [
    "# Get housing costs from urbansim\n",
    "bldg_parcel_14 = pd.read_csv(r'R:\\urbansim\\bldg_parcel_2014_jf_run_45.run_2018_07_06_11_05.csv')\n",
    "bldg_parcel_50 = pd.read_csv(r'R:\\urbansim\\bldg_parcel_2050_jf_run_45.run_2018_07_06_11_05.csv')\n",
    "\n",
    "df = bldg_parcel_14.copy()\n",
    "\n",
    "# Calculate value of the single building\n",
    "df['residential_sqft'] = df['sqft_per_unit']*df['residential_units']\n",
    "df['total_sqft'] = df['residential_sqft']+df['non_residential_sqft']\n",
    "df['total_value'] = df[u'improvement_value']+df['land_value']\n",
    "df['percent_residential_sqft'] = df['residential_sqft']/df['total_sqft']\n",
    "df['total_residential_value'] = df['percent_residential_sqft']*df['total_value']\n",
    "df['unit_residential_value'] = df['total_residential_value']/df['residential_units']\n",
    "\n",
    "bldg_parcel_14 = df.copy()\n",
    "\n",
    "df = bldg_parcel_50.copy()\n",
    "\n",
    "# Calculate value of the single building\n",
    "df['residential_sqft'] = df['sqft_per_unit']*df['residential_units']\n",
    "df['total_sqft'] = df['residential_sqft']+df['non_residential_sqft']\n",
    "df['total_value'] = df[u'improvement_value']+df['land_value']\n",
    "df['percent_residential_sqft'] = df['residential_sqft']/df['total_sqft']\n",
    "df['total_residential_value'] = df['percent_residential_sqft']*df['total_value']\n",
    "df['unit_residential_value'] = df['total_residential_value']/df['residential_units']\n",
    "\n",
    "bldg_parcel_50 = df.copy()"
   ]
  },
  {
   "cell_type": "code",
   "execution_count": 314,
   "metadata": {},
   "outputs": [
    {
     "data": {
      "text/plain": [
       "395764.8341251715"
      ]
     },
     "execution_count": 314,
     "metadata": {},
     "output_type": "execute_result"
    }
   ],
   "source": [
    "bldg_parcel_14['unit_residential_value'].mean()"
   ]
  },
  {
   "cell_type": "code",
   "execution_count": 313,
   "metadata": {},
   "outputs": [
    {
     "data": {
      "text/plain": [
       "485133.5385870429"
      ]
     },
     "execution_count": 313,
     "metadata": {},
     "output_type": "execute_result"
    }
   ],
   "source": [
    "bldg_parcel_50['unit_residential_value'].mean()"
   ]
  },
  {
   "cell_type": "code",
   "execution_count": 318,
   "metadata": {
    "collapsed": true
   },
   "outputs": [],
   "source": [
    "# ID New buildings\n",
    "new_bldgs = bldg_parcel_50[-bldg_parcel_50['building_id'].isin(bldg_parcel_14['building_id'].values)]\n",
    "new_bldgs['year'] = 'new bldgs only'"
   ]
  },
  {
   "cell_type": "code",
   "execution_count": 316,
   "metadata": {},
   "outputs": [],
   "source": [
    "bldg_parcel_14['year'] = '2014'\n",
    "bldg_parcel_50['year'] = '2050'"
   ]
  },
  {
   "cell_type": "code",
   "execution_count": 317,
   "metadata": {
    "collapsed": true
   },
   "outputs": [],
   "source": [
    "df = bldg_parcel_14.append(bldg_parcel_50)\n",
    "df = df.append(new_bldgs)"
   ]
  },
  {
   "cell_type": "code",
   "execution_count": 323,
   "metadata": {},
   "outputs": [
    {
     "data": {
      "text/plain": [
       "1123820.965406643"
      ]
     },
     "execution_count": 323,
     "metadata": {},
     "output_type": "execute_result"
    }
   ],
   "source": [
    "new_bldgs['unit_residential_value'].mean()"
   ]
  },
  {
   "cell_type": "code",
   "execution_count": 322,
   "metadata": {},
   "outputs": [],
   "source": [
    "df.to_csv(r'R:\\Urbansim\\bldg_data.csv',index=False)"
   ]
  },
  {
   "cell_type": "code",
   "execution_count": null,
   "metadata": {
    "collapsed": true
   },
   "outputs": [],
   "source": []
  },
  {
   "cell_type": "code",
   "execution_count": 392,
   "metadata": {},
   "outputs": [
    {
     "data": {
      "text/plain": [
       "485133.5385870429"
      ]
     },
     "execution_count": 392,
     "metadata": {},
     "output_type": "execute_result"
    }
   ],
   "source": [
    "bldg_parcel_50['unit_residential_value'].mean()"
   ]
  },
  {
   "cell_type": "code",
   "execution_count": null,
   "metadata": {
    "collapsed": true
   },
   "outputs": [],
   "source": []
  },
  {
   "cell_type": "code",
   "execution_count": null,
   "metadata": {
    "collapsed": true
   },
   "outputs": [],
   "source": []
  },
  {
   "cell_type": "code",
   "execution_count": 333,
   "metadata": {},
   "outputs": [],
   "source": [
    "# Convert state plane to lat long geogpandas\n",
    "import pandas as pd\n",
    "import geopandas\n",
    "from shapely.geometry import Point\n",
    "import matplotlib.pyplot as plt"
   ]
  },
  {
   "cell_type": "code",
   "execution_count": 332,
   "metadata": {},
   "outputs": [],
   "source": [
    "# Calculate\n",
    "df = bldg_parcel_50.copy()\n",
    "df['Coordinates'] = list(zip(df.x_coord_sp, df.y_coord_sp))"
   ]
  },
  {
   "cell_type": "code",
   "execution_count": 334,
   "metadata": {
    "collapsed": true
   },
   "outputs": [],
   "source": [
    "df['Coordinates'] = df['Coordinates'].apply(Point)"
   ]
  },
  {
   "cell_type": "code",
   "execution_count": 335,
   "metadata": {
    "collapsed": true
   },
   "outputs": [],
   "source": [
    "gdf = geopandas.GeoDataFrame(df, geometry='Coordinates')"
   ]
  },
  {
   "cell_type": "code",
   "execution_count": 360,
   "metadata": {},
   "outputs": [],
   "source": [
    "gdf.crs = {'init' :'epsg:2285'}"
   ]
  },
  {
   "cell_type": "code",
   "execution_count": 361,
   "metadata": {},
   "outputs": [],
   "source": [
    "gdf_latlon = gdf.to_crs({'init': 'epsg:4326'})"
   ]
  },
  {
   "cell_type": "code",
   "execution_count": 362,
   "metadata": {
    "collapsed": true
   },
   "outputs": [],
   "source": [
    "gdf_latlon['x'] = gdf_latlon.Coordinates.x\n",
    "gdf_latlon['y'] = gdf_latlon.Coordinates.y"
   ]
  },
  {
   "cell_type": "code",
   "execution_count": 368,
   "metadata": {},
   "outputs": [],
   "source": [
    "# df.census_block_group_id"
   ]
  },
  {
   "cell_type": "code",
   "execution_count": 364,
   "metadata": {},
   "outputs": [],
   "source": [
    "gdf_latlon = gdf_latlon[['x','y','building_id','parcel_id']]"
   ]
  },
  {
   "cell_type": "code",
   "execution_count": 365,
   "metadata": {},
   "outputs": [],
   "source": [
    "gdf_latlon.to_csv(r'R:\\urbansim\\bldg_parcel_50_coordiantes.csv',index=False)"
   ]
  },
  {
   "cell_type": "code",
   "execution_count": 369,
   "metadata": {},
   "outputs": [
    {
     "data": {
      "text/plain": [
       "Index([u'building_id', u'building_type_id', u'improvement_value',\n",
       "       u'job_capacity', u'land_area', u'non_residential_sqft', u'not_demolish',\n",
       "       u'parcel_id', u'residential_units', u'sqft_per_unit', u'stories',\n",
       "       u'template_id', u'year_built', u'_init_error_ln_land_value',\n",
       "       u'census_block_group_id', u'census_block_id', u'city_id', u'county_id',\n",
       "       u'elem_id', u'faz_group_id', u'faz_id', u'grid_id', u'growth_center_id',\n",
       "       u'hschool_id', u'is_in_transit_zone',\n",
       "       u'is_inside_urban_growth_boundary', u'is_waterfront',\n",
       "       u'land_use_type_id', u'land_value', u'large_area_id', u'mix_split_id',\n",
       "       u'mschool_id', u'parcel_sqft', u'parking_price_daily',\n",
       "       u'parking_price_hourly', u'parking_space_daily',\n",
       "       u'parking_space_hourly', u'plan_type_id', u'regional_geography_id',\n",
       "       u'school_district_id', u'tractcity_id', u'use_code', u'x_coord_sp',\n",
       "       u'x_coord_utm', u'y_coord_sp', u'y_coord_utm', u'zip_id', u'zone_id',\n",
       "       u'residential_sqft', u'total_sqft', u'total_value',\n",
       "       u'percent_residential_sqft', u'total_residential_value',\n",
       "       u'unit_residential_value', u'year', u'Coordinates'],\n",
       "      dtype='object')"
      ]
     },
     "execution_count": 369,
     "metadata": {},
     "output_type": "execute_result"
    }
   ],
   "source": [
    "df.columns"
   ]
  },
  {
   "cell_type": "code",
   "execution_count": 376,
   "metadata": {},
   "outputs": [],
   "source": [
    "# Spatial join with the census block group shapefile or tract?\n",
    "tract_shp = geopandas.read_file(r'W:\\geodata\\census\\Tract\\tract2010.shp', encoding=\"utf-8\")"
   ]
  },
  {
   "cell_type": "code",
   "execution_count": 377,
   "metadata": {
    "collapsed": true
   },
   "outputs": [],
   "source": [
    "tract_shp.crs = {'init' :'epsg:2285'}\n",
    "# spatial join"
   ]
  },
  {
   "cell_type": "code",
   "execution_count": 379,
   "metadata": {
    "collapsed": true
   },
   "outputs": [],
   "source": [
    "df_with_tract = geopandas.sjoin(gdf, tract_shp, how='inner', op='intersects')"
   ]
  },
  {
   "cell_type": "code",
   "execution_count": 381,
   "metadata": {},
   "outputs": [],
   "source": [
    "# join the tract name to the file we export\n",
    "df_out = pd.merge(gdf_latlon, df_with_tract[['GEOID10','parcel_id']], on='parcel_id')"
   ]
  },
  {
   "cell_type": "code",
   "execution_count": 384,
   "metadata": {},
   "outputs": [],
   "source": [
    "df_out.to_csv(r'R:\\urbansim\\bldg_parcel_50_coordiantes.csv',index=False)"
   ]
  },
  {
   "cell_type": "code",
   "execution_count": null,
   "metadata": {
    "collapsed": true
   },
   "outputs": [],
   "source": []
  },
  {
   "cell_type": "code",
   "execution_count": 385,
   "metadata": {},
   "outputs": [
    {
     "data": {
      "text/plain": [
       "Index([u'building_id', u'building_type_id', u'improvement_value',\n",
       "       u'job_capacity', u'land_area', u'non_residential_sqft', u'not_demolish',\n",
       "       u'parcel_id', u'residential_units', u'sqft_per_unit', u'stories',\n",
       "       u'template_id', u'year_built', u'_init_error_ln_land_value',\n",
       "       u'census_block_group_id', u'census_block_id', u'city_id', u'county_id',\n",
       "       u'elem_id', u'faz_group_id', u'faz_id', u'grid_id', u'growth_center_id',\n",
       "       u'hschool_id', u'is_in_transit_zone',\n",
       "       u'is_inside_urban_growth_boundary', u'is_waterfront',\n",
       "       u'land_use_type_id', u'land_value', u'large_area_id', u'mix_split_id',\n",
       "       u'mschool_id', u'parcel_sqft', u'parking_price_daily',\n",
       "       u'parking_price_hourly', u'parking_space_daily',\n",
       "       u'parking_space_hourly', u'plan_type_id', u'regional_geography_id',\n",
       "       u'school_district_id', u'tractcity_id', u'use_code', u'x_coord_sp',\n",
       "       u'x_coord_utm', u'y_coord_sp', u'y_coord_utm', u'zip_id', u'zone_id',\n",
       "       u'residential_sqft', u'total_sqft', u'total_value',\n",
       "       u'percent_residential_sqft', u'total_residential_value',\n",
       "       u'unit_residential_value', u'year'],\n",
       "      dtype='object')"
      ]
     },
     "execution_count": 385,
     "metadata": {},
     "output_type": "execute_result"
    }
   ],
   "source": [
    "bldg_parcel_50.columns"
   ]
  },
  {
   "cell_type": "code",
   "execution_count": 390,
   "metadata": {},
   "outputs": [
    {
     "data": {
      "text/html": [
       "<div>\n",
       "<style scoped>\n",
       "    .dataframe tbody tr th:only-of-type {\n",
       "        vertical-align: middle;\n",
       "    }\n",
       "\n",
       "    .dataframe tbody tr th {\n",
       "        vertical-align: top;\n",
       "    }\n",
       "\n",
       "    .dataframe thead th {\n",
       "        text-align: right;\n",
       "    }\n",
       "</style>\n",
       "<table border=\"1\" class=\"dataframe\">\n",
       "  <thead>\n",
       "    <tr style=\"text-align: right;\">\n",
       "      <th></th>\n",
       "      <th>1114452</th>\n",
       "    </tr>\n",
       "  </thead>\n",
       "  <tbody>\n",
       "    <tr>\n",
       "      <th>building_id</th>\n",
       "      <td>1210408</td>\n",
       "    </tr>\n",
       "    <tr>\n",
       "      <th>building_type_id</th>\n",
       "      <td>19</td>\n",
       "    </tr>\n",
       "    <tr>\n",
       "      <th>improvement_value</th>\n",
       "      <td>219376</td>\n",
       "    </tr>\n",
       "    <tr>\n",
       "      <th>job_capacity</th>\n",
       "      <td>-1</td>\n",
       "    </tr>\n",
       "    <tr>\n",
       "      <th>land_area</th>\n",
       "      <td>12704</td>\n",
       "    </tr>\n",
       "    <tr>\n",
       "      <th>non_residential_sqft</th>\n",
       "      <td>0</td>\n",
       "    </tr>\n",
       "    <tr>\n",
       "      <th>not_demolish</th>\n",
       "      <td>0</td>\n",
       "    </tr>\n",
       "    <tr>\n",
       "      <th>parcel_id</th>\n",
       "      <td>785649</td>\n",
       "    </tr>\n",
       "    <tr>\n",
       "      <th>residential_units</th>\n",
       "      <td>1</td>\n",
       "    </tr>\n",
       "    <tr>\n",
       "      <th>sqft_per_unit</th>\n",
       "      <td>2079</td>\n",
       "    </tr>\n",
       "    <tr>\n",
       "      <th>stories</th>\n",
       "      <td>0</td>\n",
       "    </tr>\n",
       "    <tr>\n",
       "      <th>template_id</th>\n",
       "      <td>163</td>\n",
       "    </tr>\n",
       "    <tr>\n",
       "      <th>year_built</th>\n",
       "      <td>2015</td>\n",
       "    </tr>\n",
       "  </tbody>\n",
       "</table>\n",
       "</div>"
      ],
      "text/plain": [
       "                      1114452\n",
       "building_id           1210408\n",
       "building_type_id           19\n",
       "improvement_value      219376\n",
       "job_capacity               -1\n",
       "land_area               12704\n",
       "non_residential_sqft        0\n",
       "not_demolish                0\n",
       "parcel_id              785649\n",
       "residential_units           1\n",
       "sqft_per_unit            2079\n",
       "stories                     0\n",
       "template_id               163\n",
       "year_built               2015"
      ]
     },
     "execution_count": 390,
     "metadata": {},
     "output_type": "execute_result"
    }
   ],
   "source": [
    "bldg_df[bldg_df['building_id'] == 1210408].T"
   ]
  },
  {
   "cell_type": "code",
   "execution_count": null,
   "metadata": {
    "collapsed": true
   },
   "outputs": [],
   "source": []
  }
 ],
 "metadata": {
  "kernelspec": {
   "display_name": "Python 2",
   "language": "python",
   "name": "python2"
  },
  "language_info": {
   "codemirror_mode": {
    "name": "ipython",
    "version": 2
   },
   "file_extension": ".py",
   "mimetype": "text/x-python",
   "name": "python",
   "nbconvert_exporter": "python",
   "pygments_lexer": "ipython2",
   "version": "2.7.14"
  }
 },
 "nbformat": 4,
 "nbformat_minor": 2
}
