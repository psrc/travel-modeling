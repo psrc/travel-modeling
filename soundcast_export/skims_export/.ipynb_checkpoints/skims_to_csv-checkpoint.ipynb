{
 "cells": [
  {
   "cell_type": "code",
   "execution_count": 1,
   "metadata": {},
   "outputs": [],
   "source": [
    "import h5py\n",
    "import pandas as pd"
   ]
  },
  {
   "cell_type": "code",
   "execution_count": 7,
   "metadata": {},
   "outputs": [],
   "source": [
    "def skim_to_csv(h5dir,skim_table,scale=False):\n",
    "    h5file = h5py.File(h5dir)\n",
    "    \n",
    "    # Load data to dataframe\n",
    "    df = pd.DataFrame(h5file['Skims'][skim_table][:])\n",
    "\n",
    "    # export internal zone results only\n",
    "    max_zone_num = 3700\n",
    "    df = df.iloc[0:max_zone_num-1,0:max_zone_num-1]\n",
    "\n",
    "    # Convert from 0 to 1 based for zone numbers\n",
    "    df.index = df.index + 1\n",
    "    df.columns = df.columns+1\n",
    "\n",
    "    # Divide by 100 to convert to minutes\n",
    "    if scale:\n",
    "        df = df/100.0\n",
    "        \n",
    "    return df"
   ]
  },
  {
   "cell_type": "code",
   "execution_count": 8,
   "metadata": {},
   "outputs": [],
   "source": [
    "base_dir = r'L:\\RTP_2022\\final_runs\\sc_rtp_2018_final\\soundcast\\inputs\\model\\roster'\n",
    "\n",
    "for tod in ['7to8','10to14','17to18','18to20','20to5']:\n",
    "    for mode in ['sov_inc2t','hov2_inc2t','hov3_inc2t']:\n",
    "        df = skim_to_csv(base_dir+ r'\\\\'+tod+'.h5', skim_table=mode, scale=True)\n",
    "        df.to_csv(tod+'_'+mode+'.csv')"
   ]
  },
  {
   "cell_type": "code",
   "execution_count": 77,
   "metadata": {},
   "outputs": [],
   "source": [
    "# for all modes:\n",
    "\n",
    "# first wait time: iwtwa\n",
    "# transfer time: xfrwa\n",
    "\n",
    "\n",
    "for tod in ['7to8','10to14','17to18','18to20','20to5']:\n",
    "    # in vehicle time (total) all modes: ivtwa\n",
    "    df = skim_to_csv(base_dir, skim_table='ivtwa', scale=True)\n",
    "    df.to_csv('transit_in_vehicle_time_'+tod+'.csv')\n",
    "\n",
    "    # total wait time (including initial wait time and transfers): twtwa\n",
    "    df = skim_to_csv(base_dir, skim_table='twtwa', scale=True)\n",
    "    df.to_csv('transit_total_wait_time_'+tod+'.csv')\n",
    "\n",
    "    # access time: xfrwa\n",
    "    df = skim_to_csv(base_dir, skim_table='xfrwa', scale=True)\n",
    "    df.to_csv('transit_access_time_'+tod+'.csv')"
   ]
  },
  {
   "cell_type": "code",
   "execution_count": 79,
   "metadata": {
    "collapsed": true
   },
   "outputs": [],
   "source": [
    "h5dir = r'R:\\SoundCast\\releases\\TransportationFutures2010\\inputs\\10to14.h5'\n",
    "ivtwa_10to14 = skim_to_csv(h5dir, skim_table='ivtwa', scale=True)\n",
    "ivtwa_10to14.to_csv('in_vehicle_time_10to14.csv')\n",
    "\n",
    "h5dir = r'R:\\SoundCast\\releases\\TransportationFutures2010\\inputs\\10to14.h5'\n",
    "iwtwa_10to14 = skim_to_csv(h5dir, skim_table='iwtwa', scale=True)\n",
    "iwtwa_10to14.to_csv('initial_wait_time_10to14.csv')\n",
    "\n",
    "h5dir = r'R:\\SoundCast\\releases\\TransportationFutures2010\\inputs\\10to14.h5'\n",
    "xfrwa_10to14 = skim_to_csv(h5dir, skim_table='xfrwa', scale=True)\n",
    "xfrwa_10to14.to_csv('transfer_time_10to14.csv')"
   ]
  },
  {
   "cell_type": "code",
   "execution_count": 78,
   "metadata": {},
   "outputs": [],
   "source": [
    "# Transit Fares\n",
    "h5dir = r'R:\\SoundCast\\releases\\TransportationFutures2010\\inputs\\6to7.h5'\n",
    "am_transit_fares = skim_to_csv(h5dir, skim_table='mfafarbx')\n",
    "am_transit_fares.to_csv('am_transit_fares.csv')\n",
    "\n",
    "h5dir = r'R:\\SoundCast\\releases\\TransportationFutures2010\\inputs\\9to10.h5'\n",
    "md_transit_fares = skim_to_csv(h5dir, skim_table='mfmfarbx')\n",
    "md_transit_fares.to_csv('mid_day_transit_fares.csv')"
   ]
  },
  {
   "cell_type": "code",
   "execution_count": null,
   "metadata": {},
   "outputs": [],
   "source": []
  },
  {
   "cell_type": "code",
   "execution_count": null,
   "metadata": {
    "collapsed": true
   },
   "outputs": [],
   "source": []
  }
 ],
 "metadata": {
  "anaconda-cloud": {},
  "kernelspec": {
   "display_name": "Python 3",
   "language": "python",
   "name": "python3"
  },
  "language_info": {
   "codemirror_mode": {
    "name": "ipython",
    "version": 3
   },
   "file_extension": ".py",
   "mimetype": "text/x-python",
   "name": "python",
   "nbconvert_exporter": "python",
   "pygments_lexer": "ipython3",
   "version": "3.7.10"
  }
 },
 "nbformat": 4,
 "nbformat_minor": 1
}
