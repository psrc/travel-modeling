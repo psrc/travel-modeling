{
 "cells": [
  {
   "cell_type": "code",
   "execution_count": 46,
   "metadata": {
    "collapsed": true
   },
   "outputs": [],
   "source": [
    "# Load some Daysim data, process summaries and push to a Tableau db"
   ]
  },
  {
   "cell_type": "code",
   "execution_count": 1,
   "metadata": {
    "collapsed": true
   },
   "outputs": [],
   "source": [
    "from datetime import datetime"
   ]
  },
  {
   "cell_type": "code",
   "execution_count": 2,
   "metadata": {
    "collapsed": false
   },
   "outputs": [
    {
     "data": {
      "text/plain": [
       "'10/29/2015 09:42:15 AM'"
      ]
     },
     "execution_count": 2,
     "metadata": {},
     "output_type": "execute_result"
    }
   ],
   "source": [
    "datetime.now().strftime(\"%m/%d/%Y %I:%M:%S %p\")"
   ]
  },
  {
   "cell_type": "code",
   "execution_count": 5,
   "metadata": {
    "collapsed": false
   },
   "outputs": [],
   "source": [
    "import sqlite3 as lite\n",
    "import sys\n",
    "import h5py\n",
    "import pandas as pd\n",
    "# from EmmeProject import *"
   ]
  },
  {
   "cell_type": "code",
   "execution_count": 6,
   "metadata": {
    "collapsed": false
   },
   "outputs": [],
   "source": [
    "df = pd.DataFrame()"
   ]
  },
  {
   "cell_type": "code",
   "execution_count": 10,
   "metadata": {
    "collapsed": false
   },
   "outputs": [
    {
     "data": {
      "text/html": [
       "<div>\n",
       "<table border=\"1\" class=\"dataframe\">\n",
       "  <thead>\n",
       "    <tr style=\"text-align: right;\">\n",
       "      <th></th>\n",
       "      <th>a</th>\n",
       "    </tr>\n",
       "  </thead>\n",
       "  <tbody>\n",
       "    <tr>\n",
       "      <th>0</th>\n",
       "      <td>1</td>\n",
       "    </tr>\n",
       "  </tbody>\n",
       "</table>\n",
       "</div>"
      ],
      "text/plain": [
       "   a\n",
       "0  1"
      ]
     },
     "execution_count": 10,
     "metadata": {},
     "output_type": "execute_result"
    }
   ],
   "source": [
    "df.append({'a':1},ignore_index=True)"
   ]
  },
  {
   "cell_type": "code",
   "execution_count": 2,
   "metadata": {
    "collapsed": true
   },
   "outputs": [],
   "source": [
    "daysim_base = r'D:\\soundcast\\soundcast\\outputs\\daysim_outputs.h5' # 2010 \n",
    "h5_base = h5py.File(daysim_base)"
   ]
  },
  {
   "cell_type": "code",
   "execution_count": 3,
   "metadata": {
    "collapsed": false
   },
   "outputs": [
    {
     "data": {
      "text/plain": [
       "<HDF5 file \"daysim_outputs.h5\" (mode r+)>"
      ]
     },
     "execution_count": 3,
     "metadata": {},
     "output_type": "execute_result"
    }
   ],
   "source": [
    "h5_base"
   ]
  },
  {
   "cell_type": "code",
   "execution_count": 4,
   "metadata": {
    "collapsed": true
   },
   "outputs": [],
   "source": [
    "#data_tables = [\"Household\", \"HouseholdDay\", \"Person\", \"PersonDay\", \"Tour\", \"Trip\"]\n",
    "data_tables = [\"Trip\"]"
   ]
  },
  {
   "cell_type": "code",
   "execution_count": 139,
   "metadata": {
    "collapsed": true
   },
   "outputs": [],
   "source": [
    "trip_cols = [u'dadtyp', u'deptm', u'dorp', u'dpcl', u'dpurp', u'dtaz', u'hhno', u'mode', u'oadtyp', u'opcl', u'opurp', u'otaz', u'pathtype', u'pno', u'travcost', u'travdist', u'travtime', u'vot']"
   ]
  },
  {
   "cell_type": "code",
   "execution_count": 140,
   "metadata": {
    "collapsed": true
   },
   "outputs": [],
   "source": [
    "def process_h5(data_table, h5_file, columns):\n",
    "    ''' Convert DaySim tables (e.g., person, household files) to dataframe ''' \n",
    "    df = pd.DataFrame()     # initialize empty data frame\n",
    "    \n",
    "    for col in columns:\n",
    "        df[col] = h5_file[data_table][col].value\n",
    "        print 'Processing data column: ' + col\n",
    "    return df"
   ]
  },
  {
   "cell_type": "code",
   "execution_count": 348,
   "metadata": {
    "collapsed": false
   },
   "outputs": [
    {
     "data": {
      "text/html": [
       "<div>\n",
       "<table border=\"1\" class=\"dataframe\">\n",
       "  <thead>\n",
       "    <tr style=\"text-align: right;\">\n",
       "      <th>mode</th>\n",
       "      <th>1</th>\n",
       "      <th>2</th>\n",
       "      <th>3</th>\n",
       "      <th>4</th>\n",
       "      <th>5</th>\n",
       "      <th>6</th>\n",
       "      <th>8</th>\n",
       "    </tr>\n",
       "  </thead>\n",
       "  <tbody>\n",
       "    <tr>\n",
       "      <th>travtime</th>\n",
       "      <td>22.525333</td>\n",
       "      <td>15.301115</td>\n",
       "      <td>16.824169</td>\n",
       "      <td>13.838758</td>\n",
       "      <td>13.450481</td>\n",
       "      <td>38.394325</td>\n",
       "      <td>12.003207</td>\n",
       "    </tr>\n",
       "  </tbody>\n",
       "</table>\n",
       "</div>"
      ],
      "text/plain": [
       "mode              1          2          3          4          5          6  \\\n",
       "travtime  22.525333  15.301115  16.824169  13.838758  13.450481  38.394325   \n",
       "\n",
       "mode              8  \n",
       "travtime  12.003207  "
      ]
     },
     "execution_count": 348,
     "metadata": {},
     "output_type": "execute_result"
    }
   ],
   "source": [
    "base_df.groupby('mode').mean()[[metric]].T"
   ]
  },
  {
   "cell_type": "code",
   "execution_count": 141,
   "metadata": {
    "collapsed": false
   },
   "outputs": [
    {
     "name": "stdout",
     "output_type": "stream",
     "text": [
      "Processing data column: dadtyp\n",
      "Processing data column: deptm\n",
      "Processing data column: dorp\n",
      "Processing data column: dpcl\n",
      "Processing data column: dpurp\n",
      "Processing data column: dtaz\n",
      "Processing data column: hhno\n",
      "Processing data column: mode\n",
      "Processing data column: oadtyp\n",
      "Processing data column: opcl\n",
      "Processing data column: opurp\n",
      "Processing data column: otaz\n",
      "Processing data column: pathtype\n",
      "Processing data column: pno\n",
      "Processing data column: travcost\n",
      "Processing data column: travdist\n",
      "Processing data column: travtime\n",
      "Processing data column: vot\n"
     ]
    }
   ],
   "source": [
    "base_df = process_h5('Trip', h5_base, trip_cols)"
   ]
  },
  {
   "cell_type": "code",
   "execution_count": 350,
   "metadata": {
    "collapsed": true
   },
   "outputs": [],
   "source": [
    "# Let's make some simple summaries for now"
   ]
  },
  {
   "cell_type": "code",
   "execution_count": 149,
   "metadata": {
    "collapsed": false
   },
   "outputs": [
    {
     "data": {
      "text/plain": [
       "1.0"
      ]
     },
     "execution_count": 149,
     "metadata": {},
     "output_type": "execute_result"
    }
   ],
   "source": [
    "(base_df.groupby('mode').count()['travcost']/len(base_df)).sum()"
   ]
  },
  {
   "cell_type": "code",
   "execution_count": 351,
   "metadata": {
    "collapsed": true
   },
   "outputs": [],
   "source": [
    "def testfunc():\n",
    "    return 5\n"
   ]
  },
  {
   "cell_type": "code",
   "execution_count": 352,
   "metadata": {
    "collapsed": false
   },
   "outputs": [
    {
     "data": {
      "text/plain": [
       "[5]"
      ]
     },
     "execution_count": 352,
     "metadata": {},
     "output_type": "execute_result"
    }
   ],
   "source": [
    "a = [testfunc()]\n",
    "a"
   ]
  },
  {
   "cell_type": "code",
   "execution_count": 353,
   "metadata": {
    "collapsed": false
   },
   "outputs": [],
   "source": [
    "for metric in ['travtime']:\n",
    "    for agg in ['mean', 'max']:\n",
    "        df = eval(\"base_df.groupby('mode').\" + agg + \"()[[metric]].T\")\n",
    "        df.columns = [col + '_' + agg for col in mode_columns]"
   ]
  },
  {
   "cell_type": "code",
   "execution_count": 354,
   "metadata": {
    "collapsed": false
   },
   "outputs": [
    {
     "data": {
      "text/html": [
       "<div>\n",
       "<table border=\"1\" class=\"dataframe\">\n",
       "  <thead>\n",
       "    <tr style=\"text-align: right;\">\n",
       "      <th></th>\n",
       "      <th>Walk_max</th>\n",
       "      <th>Bike_max</th>\n",
       "      <th>SOV_max</th>\n",
       "      <th>HOV2_max</th>\n",
       "      <th>HOV3+_max</th>\n",
       "      <th>Transit_max</th>\n",
       "      <th>School Bus_max</th>\n",
       "    </tr>\n",
       "  </thead>\n",
       "  <tbody>\n",
       "    <tr>\n",
       "      <th>travtime</th>\n",
       "      <td>200</td>\n",
       "      <td>131.07</td>\n",
       "      <td>194.01</td>\n",
       "      <td>161.05</td>\n",
       "      <td>167.95</td>\n",
       "      <td>221.24</td>\n",
       "      <td>122.66</td>\n",
       "    </tr>\n",
       "  </tbody>\n",
       "</table>\n",
       "</div>"
      ],
      "text/plain": [
       "          Walk_max  Bike_max  SOV_max  HOV2_max  HOV3+_max  Transit_max  \\\n",
       "travtime       200    131.07   194.01    161.05     167.95       221.24   \n",
       "\n",
       "          School Bus_max  \n",
       "travtime          122.66  "
      ]
     },
     "execution_count": 354,
     "metadata": {},
     "output_type": "execute_result"
    }
   ],
   "source": [
    "df"
   ]
  },
  {
   "cell_type": "code",
   "execution_count": 355,
   "metadata": {
    "collapsed": false
   },
   "outputs": [],
   "source": [
    "mode_columns = ['Walk','Bike','SOV','HOV2','HOV3+','Transit','School Bus']\n"
   ]
  },
  {
   "cell_type": "code",
   "execution_count": 356,
   "metadata": {
    "collapsed": false
   },
   "outputs": [
    {
     "data": {
      "text/plain": [
       "['Walk', 'Bike', 'SOV', 'HOV2', 'HOV3+', 'Transit', 'School Bus']"
      ]
     },
     "execution_count": 356,
     "metadata": {},
     "output_type": "execute_result"
    }
   ],
   "source": [
    "mode_columns"
   ]
  },
  {
   "cell_type": "code",
   "execution_count": 357,
   "metadata": {
    "collapsed": false
   },
   "outputs": [
    {
     "data": {
      "text/plain": [
       "['Walk_test',\n",
       " 'Bike_test',\n",
       " 'SOV_test',\n",
       " 'HOV2_test',\n",
       " 'HOV3+_test',\n",
       " 'Transit_test',\n",
       " 'School Bus_test']"
      ]
     },
     "execution_count": 357,
     "metadata": {},
     "output_type": "execute_result"
    }
   ],
   "source": [
    "[col + '_test' for col in mode_columns]"
   ]
  },
  {
   "cell_type": "code",
   "execution_count": 358,
   "metadata": {
    "collapsed": false
   },
   "outputs": [],
   "source": [
    "a = base_df.groupby('mode').mean()[['travcost']]\n",
    "# add in some labels\n",
    "\n",
    "# Transpose to get in row format\n",
    "a = a.T\n",
    "a.columns = ['Walk','Bike','SOV','HOV2','HOV3+','Transit','School Bus']"
   ]
  },
  {
   "cell_type": "code",
   "execution_count": 359,
   "metadata": {
    "collapsed": false
   },
   "outputs": [
    {
     "data": {
      "text/html": [
       "<div>\n",
       "<table border=\"1\" class=\"dataframe\">\n",
       "  <thead>\n",
       "    <tr style=\"text-align: right;\">\n",
       "      <th></th>\n",
       "      <th>Walk</th>\n",
       "      <th>Bike</th>\n",
       "      <th>SOV</th>\n",
       "      <th>HOV2</th>\n",
       "      <th>HOV3+</th>\n",
       "      <th>Transit</th>\n",
       "      <th>School Bus</th>\n",
       "    </tr>\n",
       "  </thead>\n",
       "  <tbody>\n",
       "    <tr>\n",
       "      <th>travcost</th>\n",
       "      <td>0</td>\n",
       "      <td>0</td>\n",
       "      <td>0.719349</td>\n",
       "      <td>0.522752</td>\n",
       "      <td>0.506885</td>\n",
       "      <td>0.964841</td>\n",
       "      <td>0.405587</td>\n",
       "    </tr>\n",
       "  </tbody>\n",
       "</table>\n",
       "</div>"
      ],
      "text/plain": [
       "          Walk  Bike       SOV      HOV2     HOV3+   Transit  School Bus\n",
       "travcost     0     0  0.719349  0.522752  0.506885  0.964841    0.405587"
      ]
     },
     "execution_count": 359,
     "metadata": {},
     "output_type": "execute_result"
    }
   ],
   "source": [
    "a"
   ]
  },
  {
   "cell_type": "code",
   "execution_count": 360,
   "metadata": {
    "collapsed": false
   },
   "outputs": [],
   "source": [
    "# Add standard set of columns to this df for filtering\n",
    "a['model'] ,a['runid'], a['date'], a['model_year'] = ['Soundcast',1,'10/15/2015','2040']"
   ]
  },
  {
   "cell_type": "code",
   "execution_count": 361,
   "metadata": {
    "collapsed": false
   },
   "outputs": [
    {
     "data": {
      "text/html": [
       "<div>\n",
       "<table border=\"1\" class=\"dataframe\">\n",
       "  <thead>\n",
       "    <tr style=\"text-align: right;\">\n",
       "      <th></th>\n",
       "      <th>Walk</th>\n",
       "      <th>Bike</th>\n",
       "      <th>SOV</th>\n",
       "      <th>HOV2</th>\n",
       "      <th>HOV3+</th>\n",
       "      <th>Transit</th>\n",
       "      <th>School Bus</th>\n",
       "      <th>model</th>\n",
       "      <th>runid</th>\n",
       "      <th>date</th>\n",
       "      <th>model_year</th>\n",
       "    </tr>\n",
       "  </thead>\n",
       "  <tbody>\n",
       "    <tr>\n",
       "      <th>travcost</th>\n",
       "      <td>0</td>\n",
       "      <td>0</td>\n",
       "      <td>0.719349</td>\n",
       "      <td>0.522752</td>\n",
       "      <td>0.506885</td>\n",
       "      <td>0.964841</td>\n",
       "      <td>0.405587</td>\n",
       "      <td>Soundcast</td>\n",
       "      <td>1</td>\n",
       "      <td>10/15/2015</td>\n",
       "      <td>2040</td>\n",
       "    </tr>\n",
       "  </tbody>\n",
       "</table>\n",
       "</div>"
      ],
      "text/plain": [
       "          Walk  Bike       SOV      HOV2     HOV3+   Transit  School Bus  \\\n",
       "travcost     0     0  0.719349  0.522752  0.506885  0.964841    0.405587   \n",
       "\n",
       "              model  runid        date model_year  \n",
       "travcost  Soundcast      1  10/15/2015       2040  "
      ]
     },
     "execution_count": 361,
     "metadata": {},
     "output_type": "execute_result"
    }
   ],
   "source": [
    "################ What else do we want to summarize\n",
    "a"
   ]
  },
  {
   "cell_type": "code",
   "execution_count": 362,
   "metadata": {
    "collapsed": false
   },
   "outputs": [],
   "source": [
    "################ What else do we want to summarize\n",
    "# Mode share\n",
    "b = base_df.groupby('mode').count()[['dtaz']]/len(base_df)\n",
    "\n",
    "# Transpose to get in row format\n",
    "b = b.T\n",
    "b.columns = ['Walk','Bike','SOV','HOV2','HOV3+','Transit','School Bus']\n",
    "\n",
    "# Add standard set of columns to this df for filtering\n",
    "b['model'] ,b['runid'], b['date'], b['model_year'] = ['Soundcast',2,'10/25/2015','2030']"
   ]
  },
  {
   "cell_type": "code",
   "execution_count": 363,
   "metadata": {
    "collapsed": false
   },
   "outputs": [
    {
     "data": {
      "text/html": [
       "<div>\n",
       "<table border=\"1\" class=\"dataframe\">\n",
       "  <thead>\n",
       "    <tr style=\"text-align: right;\">\n",
       "      <th></th>\n",
       "      <th>Walk</th>\n",
       "      <th>Bike</th>\n",
       "      <th>SOV</th>\n",
       "      <th>HOV2</th>\n",
       "      <th>HOV3+</th>\n",
       "      <th>Transit</th>\n",
       "      <th>School Bus</th>\n",
       "      <th>model</th>\n",
       "      <th>runid</th>\n",
       "      <th>date</th>\n",
       "      <th>...</th>\n",
       "      <th>Bike</th>\n",
       "      <th>SOV</th>\n",
       "      <th>HOV2</th>\n",
       "      <th>HOV3+</th>\n",
       "      <th>Transit</th>\n",
       "      <th>School Bus</th>\n",
       "      <th>model</th>\n",
       "      <th>runid</th>\n",
       "      <th>date</th>\n",
       "      <th>model_year</th>\n",
       "    </tr>\n",
       "  </thead>\n",
       "  <tbody>\n",
       "    <tr>\n",
       "      <th>dtaz</th>\n",
       "      <td>NaN</td>\n",
       "      <td>NaN</td>\n",
       "      <td>NaN</td>\n",
       "      <td>NaN</td>\n",
       "      <td>NaN</td>\n",
       "      <td>NaN</td>\n",
       "      <td>NaN</td>\n",
       "      <td>NaN</td>\n",
       "      <td>NaN</td>\n",
       "      <td>NaN</td>\n",
       "      <td>...</td>\n",
       "      <td>0.006718</td>\n",
       "      <td>0.479188</td>\n",
       "      <td>0.206022</td>\n",
       "      <td>0.173168</td>\n",
       "      <td>0.034785</td>\n",
       "      <td>0.021405</td>\n",
       "      <td>Soundcast</td>\n",
       "      <td>2</td>\n",
       "      <td>10/25/2015</td>\n",
       "      <td>2030</td>\n",
       "    </tr>\n",
       "    <tr>\n",
       "      <th>travcost</th>\n",
       "      <td>0</td>\n",
       "      <td>0</td>\n",
       "      <td>0.719349</td>\n",
       "      <td>0.522752</td>\n",
       "      <td>0.506885</td>\n",
       "      <td>0.964841</td>\n",
       "      <td>0.405587</td>\n",
       "      <td>Soundcast</td>\n",
       "      <td>1</td>\n",
       "      <td>10/15/2015</td>\n",
       "      <td>...</td>\n",
       "      <td>NaN</td>\n",
       "      <td>NaN</td>\n",
       "      <td>NaN</td>\n",
       "      <td>NaN</td>\n",
       "      <td>NaN</td>\n",
       "      <td>NaN</td>\n",
       "      <td>NaN</td>\n",
       "      <td>NaN</td>\n",
       "      <td>NaN</td>\n",
       "      <td>NaN</td>\n",
       "    </tr>\n",
       "  </tbody>\n",
       "</table>\n",
       "<p>2 rows × 22 columns</p>\n",
       "</div>"
      ],
      "text/plain": [
       "          Walk Bike       SOV      HOV2     HOV3+   Transit  School Bus  \\\n",
       "dtaz       NaN  NaN       NaN       NaN       NaN       NaN         NaN   \n",
       "travcost     0    0  0.719349  0.522752  0.506885  0.964841    0.405587   \n",
       "\n",
       "              model  runid        date     ...          Bike       SOV  \\\n",
       "dtaz            NaN    NaN         NaN     ...      0.006718  0.479188   \n",
       "travcost  Soundcast      1  10/15/2015     ...           NaN       NaN   \n",
       "\n",
       "              HOV2     HOV3+   Transit  School Bus      model  runid  \\\n",
       "dtaz      0.206022  0.173168  0.034785    0.021405  Soundcast      2   \n",
       "travcost       NaN       NaN       NaN         NaN        NaN    NaN   \n",
       "\n",
       "                date  model_year  \n",
       "dtaz      10/25/2015        2030  \n",
       "travcost         NaN         NaN  \n",
       "\n",
       "[2 rows x 22 columns]"
      ]
     },
     "execution_count": 363,
     "metadata": {},
     "output_type": "execute_result"
    }
   ],
   "source": [
    "pd.concat([a,b], axis=1)"
   ]
  },
  {
   "cell_type": "code",
   "execution_count": 389,
   "metadata": {
    "collapsed": false
   },
   "outputs": [
    {
     "data": {
      "text/html": [
       "<div>\n",
       "<table border=\"1\" class=\"dataframe\">\n",
       "  <thead>\n",
       "    <tr style=\"text-align: right;\">\n",
       "      <th></th>\n",
       "      <th>0</th>\n",
       "      <th>1</th>\n",
       "      <th>2</th>\n",
       "    </tr>\n",
       "  </thead>\n",
       "  <tbody>\n",
       "    <tr>\n",
       "      <th>test</th>\n",
       "      <td>1</td>\n",
       "      <td>2</td>\n",
       "      <td>3</td>\n",
       "    </tr>\n",
       "  </tbody>\n",
       "</table>\n",
       "</div>"
      ],
      "text/plain": [
       "      0  1  2\n",
       "test  1  2  3"
      ]
     },
     "execution_count": 389,
     "metadata": {},
     "output_type": "execute_result"
    }
   ],
   "source": [
    "testdf = pd.DataFrame({'test': [1,2,3,]}).T\n",
    "testdf"
   ]
  },
  {
   "cell_type": "code",
   "execution_count": 396,
   "metadata": {
    "collapsed": true
   },
   "outputs": [],
   "source": [
    "def stamp(mydf):\n",
    "    mydf['newcol'] = 4\n",
    "    return mydf"
   ]
  },
  {
   "cell_type": "code",
   "execution_count": 398,
   "metadata": {
    "collapsed": false
   },
   "outputs": [
    {
     "data": {
      "text/html": [
       "<div>\n",
       "<table border=\"1\" class=\"dataframe\">\n",
       "  <thead>\n",
       "    <tr style=\"text-align: right;\">\n",
       "      <th></th>\n",
       "      <th>0</th>\n",
       "      <th>1</th>\n",
       "      <th>2</th>\n",
       "      <th>newcol</th>\n",
       "    </tr>\n",
       "  </thead>\n",
       "  <tbody>\n",
       "    <tr>\n",
       "      <th>test</th>\n",
       "      <td>1</td>\n",
       "      <td>2</td>\n",
       "      <td>3</td>\n",
       "      <td>4</td>\n",
       "    </tr>\n",
       "  </tbody>\n",
       "</table>\n",
       "</div>"
      ],
      "text/plain": [
       "      0  1  2  newcol\n",
       "test  1  2  3       4"
      ]
     },
     "execution_count": 398,
     "metadata": {},
     "output_type": "execute_result"
    }
   ],
   "source": [
    "stamp(testdf)"
   ]
  },
  {
   "cell_type": "code",
   "execution_count": 364,
   "metadata": {
    "collapsed": false
   },
   "outputs": [],
   "source": [
    "# Trip distance distribution\n",
    "\n",
    "# average trip distance by mode\n",
    "c = base_df.groupby('mode').mean()[['travcost']]\n",
    "# add in some labels\n",
    "\n",
    "# Transpose to get in row format\n",
    "c = c.T\n",
    "c.columns = ['Walk','Bike','SOV','HOV2','HOV3+','Transit','School Bus']\n",
    "\n",
    "# Add standard set of columns to this df for filtering\n",
    "c['model'] ,c['runid'], c['date'], c['model_year'] = ['Soundcast',2,'10/25/2015','2030']"
   ]
  },
  {
   "cell_type": "code",
   "execution_count": 365,
   "metadata": {
    "collapsed": false
   },
   "outputs": [
    {
     "data": {
      "text/plain": [
       "0           (15.044, 30.088]\n",
       "1           (15.044, 30.088]\n",
       "2            (-0.15, 15.044]\n",
       "3            (-0.15, 15.044]\n",
       "4            (-0.15, 15.044]\n",
       "5            (-0.15, 15.044]\n",
       "6           (15.044, 30.088]\n",
       "7           (15.044, 30.088]\n",
       "8            (-0.15, 15.044]\n",
       "9            (-0.15, 15.044]\n",
       "10           (-0.15, 15.044]\n",
       "11           (-0.15, 15.044]\n",
       "12           (-0.15, 15.044]\n",
       "13           (-0.15, 15.044]\n",
       "14           (-0.15, 15.044]\n",
       "15           (-0.15, 15.044]\n",
       "16           (-0.15, 15.044]\n",
       "17           (-0.15, 15.044]\n",
       "18           (-0.15, 15.044]\n",
       "19           (-0.15, 15.044]\n",
       "20           (-0.15, 15.044]\n",
       "21           (-0.15, 15.044]\n",
       "22           (-0.15, 15.044]\n",
       "23           (-0.15, 15.044]\n",
       "24           (-0.15, 15.044]\n",
       "25           (-0.15, 15.044]\n",
       "26           (-0.15, 15.044]\n",
       "27           (-0.15, 15.044]\n",
       "28           (-0.15, 15.044]\n",
       "29          (15.044, 30.088]\n",
       "                  ...       \n",
       "21455477     (-0.15, 15.044]\n",
       "21455478     (-0.15, 15.044]\n",
       "21455479     (-0.15, 15.044]\n",
       "21455480     (-0.15, 15.044]\n",
       "21455481     (-0.15, 15.044]\n",
       "21455482     (-0.15, 15.044]\n",
       "21455483     (-0.15, 15.044]\n",
       "21455484     (-0.15, 15.044]\n",
       "21455485     (-0.15, 15.044]\n",
       "21455486     (-0.15, 15.044]\n",
       "21455487     (-0.15, 15.044]\n",
       "21455488     (-0.15, 15.044]\n",
       "21455489     (-0.15, 15.044]\n",
       "21455490     (-0.15, 15.044]\n",
       "21455491     (-0.15, 15.044]\n",
       "21455492     (-0.15, 15.044]\n",
       "21455493    (15.044, 30.088]\n",
       "21455494     (-0.15, 15.044]\n",
       "21455495    (15.044, 30.088]\n",
       "21455496    (30.088, 45.132]\n",
       "21455497    (30.088, 45.132]\n",
       "21455498     (-0.15, 15.044]\n",
       "21455499     (-0.15, 15.044]\n",
       "21455500    (30.088, 45.132]\n",
       "21455501    (30.088, 45.132]\n",
       "21455502     (-0.15, 15.044]\n",
       "21455503     (-0.15, 15.044]\n",
       "21455504     (-0.15, 15.044]\n",
       "21455505     (-0.15, 15.044]\n",
       "21455506     (-0.15, 15.044]\n",
       "Name: travdist, dtype: category\n",
       "Categories (10, object): [(-0.15, 15.044], (15.044, 30.088], (30.088, 45.132], (45.132, 60.176], ..., (90.264, 105.308], (105.308, 120.352], (120.352, 135.396], (135.396, 150.44]]"
      ]
     },
     "execution_count": 365,
     "metadata": {},
     "output_type": "execute_result"
    }
   ],
   "source": [
    "# Trip distance distribution\n",
    "pd.cut(base_df['travdist'], 10)"
   ]
  },
  {
   "cell_type": "code",
   "execution_count": 366,
   "metadata": {
    "collapsed": true
   },
   "outputs": [],
   "source": [
    "# average trip cost"
   ]
  },
  {
   "cell_type": "code",
   "execution_count": 367,
   "metadata": {
    "collapsed": true
   },
   "outputs": [],
   "source": [
    "# average trip length"
   ]
  },
  {
   "cell_type": "code",
   "execution_count": 368,
   "metadata": {
    "collapsed": true
   },
   "outputs": [],
   "source": [
    "# person and household level stuff?"
   ]
  },
  {
   "cell_type": "code",
   "execution_count": 369,
   "metadata": {
    "collapsed": true
   },
   "outputs": [],
   "source": [
    "# VMT"
   ]
  },
  {
   "cell_type": "code",
   "execution_count": 370,
   "metadata": {
    "collapsed": true
   },
   "outputs": [],
   "source": [
    "# VHT"
   ]
  },
  {
   "cell_type": "code",
   "execution_count": 371,
   "metadata": {
    "collapsed": true
   },
   "outputs": [],
   "source": [
    "# Delay"
   ]
  },
  {
   "cell_type": "code",
   "execution_count": 372,
   "metadata": {
    "collapsed": true
   },
   "outputs": [],
   "source": [
    "# Speed"
   ]
  },
  {
   "cell_type": "code",
   "execution_count": 373,
   "metadata": {
    "collapsed": true
   },
   "outputs": [],
   "source": [
    "# Tolls"
   ]
  },
  {
   "cell_type": "code",
   "execution_count": 374,
   "metadata": {
    "collapsed": true
   },
   "outputs": [],
   "source": [
    "# Travel Times"
   ]
  },
  {
   "cell_type": "code",
   "execution_count": 375,
   "metadata": {
    "collapsed": true
   },
   "outputs": [],
   "source": [
    "# Transit Routes"
   ]
  },
  {
   "cell_type": "code",
   "execution_count": 376,
   "metadata": {
    "collapsed": true
   },
   "outputs": [],
   "source": [
    "# Screenlines"
   ]
  },
  {
   "cell_type": "code",
   "execution_count": 377,
   "metadata": {
    "collapsed": true
   },
   "outputs": [],
   "source": [
    "# Trip purposes"
   ]
  },
  {
   "cell_type": "code",
   "execution_count": 378,
   "metadata": {
    "collapsed": true
   },
   "outputs": [],
   "source": [
    "# # Export this as a row to a db\n",
    "# con = None\n",
    "# con = lite.connect('mynewdb.sl3')\n",
    "# for existing dbs, change if_exists replace to append\n",
    "# a.to_sql(name='mynewdb.sl3', con=con, if_exists='replace', chunksize=1000)"
   ]
  },
  {
   "cell_type": "code",
   "execution_count": 379,
   "metadata": {
    "collapsed": true
   },
   "outputs": [],
   "source": [
    "# What really needs to be happening is that this data gets written out a SQL db\n",
    "# that is synched up with Tableau\n",
    "\n",
    "# What we could do for now is just add a row of the new data to a Tableau extract?"
   ]
  },
  {
   "cell_type": "code",
   "execution_count": 380,
   "metadata": {
    "collapsed": false
   },
   "outputs": [
    {
     "data": {
      "text/html": [
       "<div>\n",
       "<table border=\"1\" class=\"dataframe\">\n",
       "  <thead>\n",
       "    <tr style=\"text-align: right;\">\n",
       "      <th></th>\n",
       "      <th>Walk</th>\n",
       "      <th>Bike</th>\n",
       "      <th>SOV</th>\n",
       "      <th>HOV2</th>\n",
       "      <th>HOV3+</th>\n",
       "      <th>Transit</th>\n",
       "      <th>School Bus</th>\n",
       "      <th>model</th>\n",
       "      <th>runid</th>\n",
       "      <th>date</th>\n",
       "      <th>model_year</th>\n",
       "    </tr>\n",
       "  </thead>\n",
       "  <tbody>\n",
       "    <tr>\n",
       "      <th>travcost</th>\n",
       "      <td>0</td>\n",
       "      <td>0</td>\n",
       "      <td>0.719349</td>\n",
       "      <td>0.522752</td>\n",
       "      <td>0.506885</td>\n",
       "      <td>0.964841</td>\n",
       "      <td>0.405587</td>\n",
       "      <td>Soundcast</td>\n",
       "      <td>1</td>\n",
       "      <td>10/15/2015</td>\n",
       "      <td>2040</td>\n",
       "    </tr>\n",
       "  </tbody>\n",
       "</table>\n",
       "</div>"
      ],
      "text/plain": [
       "          Walk  Bike       SOV      HOV2     HOV3+   Transit  School Bus  \\\n",
       "travcost     0     0  0.719349  0.522752  0.506885  0.964841    0.405587   \n",
       "\n",
       "              model  runid        date model_year  \n",
       "travcost  Soundcast      1  10/15/2015       2040  "
      ]
     },
     "execution_count": 380,
     "metadata": {},
     "output_type": "execute_result"
    }
   ],
   "source": [
    "a"
   ]
  },
  {
   "cell_type": "code",
   "execution_count": 381,
   "metadata": {
    "collapsed": false
   },
   "outputs": [
    {
     "data": {
      "text/html": [
       "<div>\n",
       "<table border=\"1\" class=\"dataframe\">\n",
       "  <thead>\n",
       "    <tr style=\"text-align: right;\">\n",
       "      <th></th>\n",
       "      <th>Walk</th>\n",
       "      <th>Bike</th>\n",
       "      <th>SOV</th>\n",
       "      <th>HOV2</th>\n",
       "      <th>HOV3+</th>\n",
       "      <th>Transit</th>\n",
       "      <th>School Bus</th>\n",
       "      <th>model</th>\n",
       "      <th>runid</th>\n",
       "      <th>date</th>\n",
       "      <th>model_year</th>\n",
       "    </tr>\n",
       "  </thead>\n",
       "  <tbody>\n",
       "    <tr>\n",
       "      <th>dtaz</th>\n",
       "      <td>0.078713</td>\n",
       "      <td>0.006718</td>\n",
       "      <td>0.479188</td>\n",
       "      <td>0.206022</td>\n",
       "      <td>0.173168</td>\n",
       "      <td>0.034785</td>\n",
       "      <td>0.021405</td>\n",
       "      <td>Soundcast</td>\n",
       "      <td>2</td>\n",
       "      <td>10/25/2015</td>\n",
       "      <td>2030</td>\n",
       "    </tr>\n",
       "  </tbody>\n",
       "</table>\n",
       "</div>"
      ],
      "text/plain": [
       "          Walk      Bike       SOV      HOV2     HOV3+   Transit  School Bus  \\\n",
       "dtaz  0.078713  0.006718  0.479188  0.206022  0.173168  0.034785    0.021405   \n",
       "\n",
       "          model  runid        date model_year  \n",
       "dtaz  Soundcast      2  10/25/2015       2030  "
      ]
     },
     "execution_count": 381,
     "metadata": {},
     "output_type": "execute_result"
    }
   ],
   "source": [
    "b"
   ]
  },
  {
   "cell_type": "code",
   "execution_count": 382,
   "metadata": {
    "collapsed": false
   },
   "outputs": [],
   "source": [
    "# Make up some fake data for a second row\n",
    "b = base_df.groupby('mode').mean()[['travcost']]-.04\n",
    "# add in some labels\n",
    "\n",
    "# Transpose to get in row format\n",
    "b = b.T\n",
    "b.columns = ['Walk','Bike','SOV','HOV2','HOV3+','Transit','School Bus']"
   ]
  },
  {
   "cell_type": "code",
   "execution_count": 383,
   "metadata": {
    "collapsed": false
   },
   "outputs": [],
   "source": [
    "# Add standard set of columns to this df for filtering\n",
    "b['model'] ,b['runid'], b['date'], b['model_year'] = ['Soundcast',2,'10/25/2015','2030']"
   ]
  },
  {
   "cell_type": "code",
   "execution_count": 384,
   "metadata": {
    "collapsed": false
   },
   "outputs": [
    {
     "name": "stderr",
     "output_type": "stream",
     "text": [
      "c:\\Users\\Brice\\AppData\\Local\\Continuum\\Anaconda\\lib\\site-packages\\pandas\\io\\sql.py:1371: UserWarning: The spaces in these column names will not be changed. In pandas versions < 0.14, spaces were converted to underscores.\n",
      "  warnings.warn(_SAFE_NAMES_WARNING)\n"
     ]
    }
   ],
   "source": [
    "# # Export this as a row to a db\n",
    "con = None\n",
    "con = lite.connect('mynewdb.sl3')\n",
    "b.to_sql(name='mynewdb.sl3', con=con, if_exists='append', chunksize=1000)"
   ]
  },
  {
   "cell_type": "code",
   "execution_count": 385,
   "metadata": {
    "collapsed": true
   },
   "outputs": [],
   "source": [
    "####################### Get network attributes and export results"
   ]
  },
  {
   "cell_type": "code",
   "execution_count": 399,
   "metadata": {
    "collapsed": false
   },
   "outputs": [
    {
     "ename": "RuntimeError",
     "evalue": "Modeller instance already created.",
     "output_type": "error",
     "traceback": [
      "\u001b[1;31m---------------------------------------------------------------------------\u001b[0m",
      "\u001b[1;31mRuntimeError\u001b[0m                              Traceback (most recent call last)",
      "\u001b[1;32m<ipython-input-399-8a1821958817>\u001b[0m in \u001b[0;36m<module>\u001b[1;34m()\u001b[0m\n\u001b[1;32m----> 1\u001b[1;33m \u001b[0mmy_project\u001b[0m \u001b[1;33m=\u001b[0m \u001b[0mEmmeProject\u001b[0m\u001b[1;33m(\u001b[0m\u001b[1;34mr'D:\\soundcast\\soundcast\\projects\\LoadTripTables\\LoadTripTables.emp'\u001b[0m\u001b[1;33m)\u001b[0m\u001b[1;33m\u001b[0m\u001b[0m\n\u001b[0m",
      "\u001b[1;32md:\\Tableau\\scripts\\EmmeProject.pyc\u001b[0m in \u001b[0;36m__init__\u001b[1;34m(self, filepath)\u001b[0m\n\u001b[0;32m     32\u001b[0m     \u001b[1;32mdef\u001b[0m \u001b[0m__init__\u001b[0m\u001b[1;33m(\u001b[0m\u001b[0mself\u001b[0m\u001b[1;33m,\u001b[0m \u001b[0mfilepath\u001b[0m\u001b[1;33m)\u001b[0m\u001b[1;33m:\u001b[0m\u001b[1;33m\u001b[0m\u001b[0m\n\u001b[0;32m     33\u001b[0m         \u001b[0mself\u001b[0m\u001b[1;33m.\u001b[0m\u001b[0mdesktop\u001b[0m \u001b[1;33m=\u001b[0m \u001b[0mapp\u001b[0m\u001b[1;33m.\u001b[0m\u001b[0mstart_dedicated\u001b[0m\u001b[1;33m(\u001b[0m\u001b[0mTrue\u001b[0m\u001b[1;33m,\u001b[0m \u001b[1;34m\"cth\"\u001b[0m\u001b[1;33m,\u001b[0m \u001b[0mfilepath\u001b[0m\u001b[1;33m)\u001b[0m\u001b[1;33m\u001b[0m\u001b[0m\n\u001b[1;32m---> 34\u001b[1;33m         \u001b[0mself\u001b[0m\u001b[1;33m.\u001b[0m\u001b[0mm\u001b[0m \u001b[1;33m=\u001b[0m \u001b[0m_m\u001b[0m\u001b[1;33m.\u001b[0m\u001b[0mModeller\u001b[0m\u001b[1;33m(\u001b[0m\u001b[0mself\u001b[0m\u001b[1;33m.\u001b[0m\u001b[0mdesktop\u001b[0m\u001b[1;33m)\u001b[0m\u001b[1;33m\u001b[0m\u001b[0m\n\u001b[0m\u001b[0;32m     35\u001b[0m         \u001b[1;31m#delete locki:\u001b[0m\u001b[1;33m\u001b[0m\u001b[1;33m\u001b[0m\u001b[0m\n\u001b[0;32m     36\u001b[0m         \u001b[1;31m#self.m.emmebank.dispose()\u001b[0m\u001b[1;33m\u001b[0m\u001b[1;33m\u001b[0m\u001b[0m\n",
      "\u001b[1;32mC:\\Program Files\\INRO\\Emme\\Emme 4\\Emme-4.2.1\\python-lib\\win64\\2.7\\modeller\\inro.director.application\\inro\\director\\application\\core.pyc\u001b[0m in \u001b[0;36m__new__\u001b[1;34m(klass, *args, **kwargs)\u001b[0m\n",
      "\u001b[1;31mRuntimeError\u001b[0m: Modeller instance already created."
     ]
    }
   ],
   "source": [
    "my_project = EmmeProject(r'D:\\soundcast\\soundcast\\projects\\LoadTripTables\\LoadTripTables.emp')"
   ]
  },
  {
   "cell_type": "code",
   "execution_count": null,
   "metadata": {
    "collapsed": false
   },
   "outputs": [],
   "source": [
    "con = None\n",
    "con = lite.connect('mynewdb.sl3')"
   ]
  },
  {
   "cell_type": "code",
   "execution_count": null,
   "metadata": {
    "collapsed": false
   },
   "outputs": [],
   "source": [
    "from datetime import datetime"
   ]
  },
  {
   "cell_type": "code",
   "execution_count": null,
   "metadata": {
    "collapsed": false
   },
   "outputs": [],
   "source": [
    "datetime.now()"
   ]
  },
  {
   "cell_type": "code",
   "execution_count": null,
   "metadata": {
    "collapsed": false
   },
   "outputs": [],
   "source": [
    "log = pd.read_csv(r'D:\\soundcast\\soundcast\\soundcast_log.txt')"
   ]
  },
  {
   "cell_type": "code",
   "execution_count": null,
   "metadata": {
    "collapsed": false
   },
   "outputs": [],
   "source": [
    "timestamp = str(pd.read_csv(r'D:\\soundcast\\soundcast\\soundcast_log.txt').iloc[-1]).split(' ')"
   ]
  },
  {
   "cell_type": "code",
   "execution_count": null,
   "metadata": {
    "collapsed": false
   },
   "outputs": [],
   "source": [
    "timestamp[1] + ' ' + timestamp[2]"
   ]
  },
  {
   "cell_type": "code",
   "execution_count": null,
   "metadata": {
    "collapsed": false
   },
   "outputs": [],
   "source": [
    "def testfunc():\n",
    "    return 4, 5"
   ]
  },
  {
   "cell_type": "code",
   "execution_count": null,
   "metadata": {
    "collapsed": false
   },
   "outputs": [],
   "source": [
    "testfunc()[1]"
   ]
  },
  {
   "cell_type": "code",
   "execution_count": null,
   "metadata": {
    "collapsed": false
   },
   "outputs": [],
   "source": [
    "testfunc()"
   ]
  },
  {
   "cell_type": "code",
   "execution_count": 400,
   "metadata": {
    "collapsed": false
   },
   "outputs": [
    {
     "data": {
      "text/plain": [
       "'10/27/2015 09:40:13 AM'"
      ]
     },
     "execution_count": 400,
     "metadata": {},
     "output_type": "execute_result"
    }
   ],
   "source": [
    "datetime.now().strftime(\"%m/%d/%Y %I:%M:%S %p\")"
   ]
  },
  {
   "cell_type": "code",
   "execution_count": null,
   "metadata": {
    "collapsed": true
   },
   "outputs": [],
   "source": []
  },
  {
   "cell_type": "code",
   "execution_count": null,
   "metadata": {
    "collapsed": true
   },
   "outputs": [],
   "source": []
  },
  {
   "cell_type": "code",
   "execution_count": 2,
   "metadata": {
    "collapsed": false
   },
   "outputs": [],
   "source": [
    "from EmmeProject import *"
   ]
  },
  {
   "cell_type": "code",
   "execution_count": 4,
   "metadata": {
    "collapsed": false
   },
   "outputs": [],
   "source": [
    "my_project = EmmeProject(r'D:\\Maps\\soundcast\\projects\\LoadTripTables\\LoadTripTables.emp')"
   ]
  },
  {
   "cell_type": "code",
   "execution_count": 7,
   "metadata": {
    "collapsed": true
   },
   "outputs": [],
   "source": [
    "my_project.change_active_database('7to8')"
   ]
  },
  {
   "cell_type": "code",
   "execution_count": 8,
   "metadata": {
    "collapsed": false
   },
   "outputs": [
    {
     "data": {
      "text/plain": [
       "<EmmeProject.EmmeProject instance at 0x000000000E3594C8>"
      ]
     },
     "execution_count": 8,
     "metadata": {},
     "output_type": "execute_result"
    }
   ],
   "source": [
    "my_project"
   ]
  },
  {
   "cell_type": "code",
   "execution_count": 9,
   "metadata": {
    "collapsed": false
   },
   "outputs": [],
   "source": [
    "network = my_project.current_scenario.get_network()"
   ]
  },
  {
   "cell_type": "code",
   "execution_count": 10,
   "metadata": {
    "collapsed": false
   },
   "outputs": [],
   "source": [
    "my_project.network_calculator(\"link_calculation\",result = None, expression = \"@vmt\")"
   ]
  },
  {
   "cell_type": "code",
   "execution_count": null,
   "metadata": {
    "collapsed": false
   },
   "outputs": [],
   "source": []
  },
  {
   "cell_type": "code",
   "execution_count": 11,
   "metadata": {
    "collapsed": false
   },
   "outputs": [],
   "source": [
    "mydict = {}"
   ]
  },
  {
   "cell_type": "code",
   "execution_count": 12,
   "metadata": {
    "collapsed": false
   },
   "outputs": [
    {
     "data": {
      "text/plain": [
       "{'7to8': 4567}"
      ]
     },
     "execution_count": 12,
     "metadata": {},
     "output_type": "execute_result"
    }
   ],
   "source": [
    "mydict['7to8'] = 4567\n",
    "mydict"
   ]
  },
  {
   "cell_type": "code",
   "execution_count": 13,
   "metadata": {
    "collapsed": false
   },
   "outputs": [
    {
     "data": {
      "text/plain": [
       "0.0"
      ]
     },
     "execution_count": 13,
     "metadata": {},
     "output_type": "execute_result"
    }
   ],
   "source": [
    "my_project.network_calc_result['sum']"
   ]
  },
  {
   "cell_type": "code",
   "execution_count": 14,
   "metadata": {
    "collapsed": false
   },
   "outputs": [],
   "source": [
    "tods = [bank.title() for bank in my_project.data_explorer.databases()]"
   ]
  },
  {
   "cell_type": "code",
   "execution_count": 15,
   "metadata": {
    "collapsed": true
   },
   "outputs": [],
   "source": [
    "fac_type_dict = {'highway' : 'ul3 = 1 or ul3 = 2',\n",
    "                 'arterial' : 'ul3 = 3 or ul3 = 4 or ul3 = 6',\n",
    "                 'connectors' : 'ul3 = 5'}"
   ]
  },
  {
   "cell_type": "code",
   "execution_count": 16,
   "metadata": {
    "collapsed": true
   },
   "outputs": [],
   "source": [
    "test = {}"
   ]
  },
  {
   "cell_type": "code",
   "execution_count": 17,
   "metadata": {
    "collapsed": false
   },
   "outputs": [],
   "source": [
    "test['a'] = 5"
   ]
  },
  {
   "cell_type": "code",
   "execution_count": 18,
   "metadata": {
    "collapsed": false
   },
   "outputs": [],
   "source": [
    "tod_dict = {}\n",
    "for tod in ['7to8']:\n",
    "    my_project.change_active_database(tod)\n",
    "    network = my_project.current_scenario.get_network()\n",
    "\n",
    "    fac_dict = {}\n",
    "    for expr in ['@vmt']:\n",
    "        for key, value in fac_type_dict.iteritems():\n",
    "            results = {}\n",
    "            my_project.network_calculator(\n",
    "                \"link_calculation\", \n",
    "                result=None, \n",
    "                expression=expr,  \n",
    "                selections_by_link=value)\n",
    "            results[key] = my_project.network_calc_result['sum']\n",
    "\n",
    "            \n",
    "\n",
    "    tod_dict[tod] = results\n",
    "test = pd.DataFrame(tod_dict)"
   ]
  },
  {
   "cell_type": "code",
   "execution_count": 19,
   "metadata": {
    "collapsed": false
   },
   "outputs": [],
   "source": [
    "tod_dict = {}\n",
    "for tod in tods:\n",
    "    my_project.change_active_database(tod)\n",
    "    network = my_project.current_scenario.get_network()\n",
    "\n",
    "    fac_dict = {}\n",
    "\n",
    "    for key, value in fac_type_dict.iteritems():\n",
    "        fac_dict[key] = {}\n",
    "        for expr in ['@vmt','@vht']:\n",
    "            my_project.network_calculator(\n",
    "                \"link_calculation\", \n",
    "                result=None, \n",
    "                expression=expr,  \n",
    "                selections_by_link=value)\n",
    "            fac_dict[key][expr] = my_project.network_calc_result['sum']            \n",
    "    tod_dict[tod] = fac_dict"
   ]
  },
  {
   "cell_type": "code",
   "execution_count": 18,
   "metadata": {
    "collapsed": false
   },
   "outputs": [],
   "source": [
    "df =pd.DataFrame(tod_dict['7to8'])"
   ]
  },
  {
   "cell_type": "code",
   "execution_count": 19,
   "metadata": {
    "collapsed": false
   },
   "outputs": [
    {
     "data": {
      "text/plain": [
       "arterial      75992.000000\n",
       "connectors    18303.074219\n",
       "highway       56083.828125\n",
       "Name: @vht, dtype: float64"
      ]
     },
     "execution_count": 19,
     "metadata": {},
     "output_type": "execute_result"
    }
   ],
   "source": [
    "df.ix['@vht']"
   ]
  },
  {
   "cell_type": "code",
   "execution_count": 20,
   "metadata": {
    "collapsed": false
   },
   "outputs": [
    {
     "data": {
      "text/plain": [
       "150378.902344"
      ]
     },
     "execution_count": 20,
     "metadata": {},
     "output_type": "execute_result"
    }
   ],
   "source": [
    "pd.DataFrame(tod_dict['7to8']).ix['@vht'].sum()"
   ]
  },
  {
   "cell_type": "code",
   "execution_count": 21,
   "metadata": {
    "collapsed": false
   },
   "outputs": [
    {
     "data": {
      "text/plain": [
       "arterial      75992.000000\n",
       "connectors    18303.074219\n",
       "highway       56083.828125\n",
       "Name: @vht, dtype: float64"
      ]
     },
     "execution_count": 21,
     "metadata": {},
     "output_type": "execute_result"
    }
   ],
   "source": [
    "pd.DataFrame(tod_dict['7to8']).ix['@vht']"
   ]
  },
  {
   "cell_type": "code",
   "execution_count": 22,
   "metadata": {
    "collapsed": true
   },
   "outputs": [],
   "source": [
    "hourly_vmt = {}"
   ]
  },
  {
   "cell_type": "code",
   "execution_count": 23,
   "metadata": {
    "collapsed": true
   },
   "outputs": [],
   "source": [
    "hourly_vmt['7to8'] = pd.DataFrame(tod_dict['7to8']).ix['@vmt'].sum()"
   ]
  },
  {
   "cell_type": "code",
   "execution_count": 24,
   "metadata": {
    "collapsed": false
   },
   "outputs": [],
   "source": [
    "hourly_vmt = {}\n",
    "for tod in tods:\n",
    "    # Total for all facilities by time of day\n",
    "    hourly_vmt[tod] = pd.DataFrame(tod_dict[tod]).ix['@vmt'].sum()"
   ]
  },
  {
   "cell_type": "code",
   "execution_count": 25,
   "metadata": {
    "collapsed": false
   },
   "outputs": [
    {
     "data": {
      "text/html": [
       "<div>\n",
       "<table border=\"1\" class=\"dataframe\">\n",
       "  <thead>\n",
       "    <tr style=\"text-align: right;\">\n",
       "      <th></th>\n",
       "      <th>10to14</th>\n",
       "      <th>14to15</th>\n",
       "      <th>15to16</th>\n",
       "      <th>16to17</th>\n",
       "      <th>17to18</th>\n",
       "      <th>18to20</th>\n",
       "      <th>20to5</th>\n",
       "      <th>5to6</th>\n",
       "      <th>6to7</th>\n",
       "      <th>7to8</th>\n",
       "      <th>8to9</th>\n",
       "      <th>9to10</th>\n",
       "    </tr>\n",
       "  </thead>\n",
       "  <tbody>\n",
       "    <tr>\n",
       "      <th>0</th>\n",
       "      <td>18698194.125</td>\n",
       "      <td>5240210.625</td>\n",
       "      <td>5945089.28125</td>\n",
       "      <td>5519015.25</td>\n",
       "      <td>6108506.46875</td>\n",
       "      <td>8884616.0625</td>\n",
       "      <td>11376978.9375</td>\n",
       "      <td>1835767.304688</td>\n",
       "      <td>3406715.015625</td>\n",
       "      <td>4656979.09375</td>\n",
       "      <td>3962214.046875</td>\n",
       "      <td>4125965.8125</td>\n",
       "    </tr>\n",
       "  </tbody>\n",
       "</table>\n",
       "</div>"
      ],
      "text/plain": [
       "         10to14       14to15         15to16      16to17         17to18  \\\n",
       "0  18698194.125  5240210.625  5945089.28125  5519015.25  6108506.46875   \n",
       "\n",
       "         18to20          20to5            5to6            6to7           7to8  \\\n",
       "0  8884616.0625  11376978.9375  1835767.304688  3406715.015625  4656979.09375   \n",
       "\n",
       "             8to9         9to10  \n",
       "0  3962214.046875  4125965.8125  "
      ]
     },
     "execution_count": 25,
     "metadata": {},
     "output_type": "execute_result"
    }
   ],
   "source": [
    "pd.DataFrame(hourly_vmt, index=[0])"
   ]
  },
  {
   "cell_type": "code",
   "execution_count": 20,
   "metadata": {
    "collapsed": false
   },
   "outputs": [
    {
     "data": {
      "text/plain": [
       "0.0"
      ]
     },
     "execution_count": 20,
     "metadata": {},
     "output_type": "execute_result"
    }
   ],
   "source": [
    "tod_dict['7to8']['highway']['@vht']"
   ]
  },
  {
   "cell_type": "code",
   "execution_count": 21,
   "metadata": {
    "collapsed": false
   },
   "outputs": [],
   "source": [
    "vmt_vht=tod_dict"
   ]
  },
  {
   "cell_type": "code",
   "execution_count": 22,
   "metadata": {
    "collapsed": false
   },
   "outputs": [
    {
     "data": {
      "text/plain": [
       "0.0"
      ]
     },
     "execution_count": 22,
     "metadata": {},
     "output_type": "execute_result"
    }
   ],
   "source": [
    "vmt_vht['7to8']['arterial']['@vmt']"
   ]
  },
  {
   "cell_type": "code",
   "execution_count": 23,
   "metadata": {
    "collapsed": false
   },
   "outputs": [
    {
     "data": {
      "text/plain": [
       "{'@vht': 161692.328125, '@vmt': 4256450.5}"
      ]
     },
     "execution_count": 23,
     "metadata": {},
     "output_type": "execute_result"
    }
   ],
   "source": [
    "# vmt_vht['7to8']['arterial']['@vmt']\n",
    "vmt_vht['18to20']['arterial']"
   ]
  },
  {
   "cell_type": "code",
   "execution_count": null,
   "metadata": {
    "collapsed": true
   },
   "outputs": [],
   "source": []
  },
  {
   "cell_type": "code",
   "execution_count": 24,
   "metadata": {
    "collapsed": false
   },
   "outputs": [],
   "source": [
    "fac_vmt = {}\n",
    "fac_vht = {}\n",
    "\n",
    "\n",
    "\n",
    "for tod in tods:\n",
    "    fac_dict_vmt = {}\n",
    "    fac_dict_vht = {}\n",
    "\n",
    "    # Total for all times of day by facility type\n",
    "    for fac_type in ['highway', 'arterial', 'connectors']:\n",
    "        fac_dict_vmt[fac_type] = vmt_vht[tod][fac_type]['@vmt']\n",
    "        fac_dict_vht[fac_type] = vmt_vht[tod][fac_type]['@vht']\n",
    "        \n",
    "    fac_vmt[tod] = fac_dict_vmt\n",
    "    fac_vht[tod] = fac_dict_vht\n",
    "    "
   ]
  },
  {
   "cell_type": "code",
   "execution_count": 27,
   "metadata": {
    "collapsed": false
   },
   "outputs": [
    {
     "data": {
      "text/html": [
       "<div>\n",
       "<table border=\"1\" class=\"dataframe\">\n",
       "  <thead>\n",
       "    <tr style=\"text-align: right;\">\n",
       "      <th></th>\n",
       "      <th>10to14</th>\n",
       "      <th>14to15</th>\n",
       "      <th>15to16</th>\n",
       "      <th>16to17</th>\n",
       "      <th>17to18</th>\n",
       "      <th>18to20</th>\n",
       "      <th>20to5</th>\n",
       "      <th>5to6</th>\n",
       "      <th>6to7</th>\n",
       "      <th>7to8</th>\n",
       "      <th>8to9</th>\n",
       "      <th>9to10</th>\n",
       "    </tr>\n",
       "  </thead>\n",
       "  <tbody>\n",
       "    <tr>\n",
       "      <th>0</th>\n",
       "      <td>596460.953125</td>\n",
       "      <td>170217.791016</td>\n",
       "      <td>205975.804688</td>\n",
       "      <td>186342.566407</td>\n",
       "      <td>219607.234376</td>\n",
       "      <td>293365.023437</td>\n",
       "      <td>339514.820312</td>\n",
       "      <td>48691.894532</td>\n",
       "      <td>97809.085937</td>\n",
       "      <td>0</td>\n",
       "      <td>119868.777343</td>\n",
       "      <td>125988.806641</td>\n",
       "    </tr>\n",
       "  </tbody>\n",
       "</table>\n",
       "</div>"
      ],
      "text/plain": [
       "          10to14         14to15         15to16         16to17         17to18  \\\n",
       "0  596460.953125  170217.791016  205975.804688  186342.566407  219607.234376   \n",
       "\n",
       "          18to20          20to5          5to6          6to7  7to8  \\\n",
       "0  293365.023437  339514.820312  48691.894532  97809.085937     0   \n",
       "\n",
       "            8to9          9to10  \n",
       "0  119868.777343  125988.806641  "
      ]
     },
     "execution_count": 27,
     "metadata": {},
     "output_type": "execute_result"
    }
   ],
   "source": [
    "pd.DataFrame(pd.DataFrame(fac_vht).sum()).T"
   ]
  },
  {
   "cell_type": "code",
   "execution_count": 33,
   "metadata": {
    "collapsed": false
   },
   "outputs": [],
   "source": [
    "vmt_tod=pd.DataFrame(pd.DataFrame(fac_vht).T.sum()).T\n",
    "# vmt_tod.T\n",
    "# b=a.T"
   ]
  },
  {
   "cell_type": "code",
   "execution_count": 117,
   "metadata": {
    "collapsed": false
   },
   "outputs": [
    {
     "data": {
      "text/html": [
       "<div>\n",
       "<table border=\"1\" class=\"dataframe\">\n",
       "  <thead>\n",
       "    <tr style=\"text-align: right;\">\n",
       "      <th></th>\n",
       "      <th>10to14</th>\n",
       "      <th>14to15</th>\n",
       "      <th>15to16</th>\n",
       "      <th>16to17</th>\n",
       "      <th>17to18</th>\n",
       "      <th>18to20</th>\n",
       "      <th>20to5</th>\n",
       "      <th>5to6</th>\n",
       "      <th>6to7</th>\n",
       "      <th>7to8</th>\n",
       "      <th>8to9</th>\n",
       "      <th>9to10</th>\n",
       "    </tr>\n",
       "  </thead>\n",
       "  <tbody>\n",
       "    <tr>\n",
       "      <th>arterial</th>\n",
       "      <td>8567331.000</td>\n",
       "      <td>2398790.000</td>\n",
       "      <td>2824212.00000</td>\n",
       "      <td>2540470.00</td>\n",
       "      <td>2909993.75000</td>\n",
       "      <td>4256450.5000</td>\n",
       "      <td>4899728.0000</td>\n",
       "      <td>677038.500000</td>\n",
       "      <td>1330565.375000</td>\n",
       "      <td>2043806.00000</td>\n",
       "      <td>1674342.625000</td>\n",
       "      <td>1763401.3750</td>\n",
       "    </tr>\n",
       "    <tr>\n",
       "      <th>connectors</th>\n",
       "      <td>1443831.125</td>\n",
       "      <td>385995.375</td>\n",
       "      <td>440324.78125</td>\n",
       "      <td>371387.00</td>\n",
       "      <td>411696.71875</td>\n",
       "      <td>684282.0625</td>\n",
       "      <td>731143.4375</td>\n",
       "      <td>95924.929688</td>\n",
       "      <td>169133.515625</td>\n",
       "      <td>280998.34375</td>\n",
       "      <td>246893.171875</td>\n",
       "      <td>273600.5625</td>\n",
       "    </tr>\n",
       "    <tr>\n",
       "      <th>highway</th>\n",
       "      <td>8687032.000</td>\n",
       "      <td>2455425.250</td>\n",
       "      <td>2680552.50000</td>\n",
       "      <td>2607158.25</td>\n",
       "      <td>2786816.00000</td>\n",
       "      <td>3943883.5000</td>\n",
       "      <td>5746107.5000</td>\n",
       "      <td>1062803.875000</td>\n",
       "      <td>1907016.125000</td>\n",
       "      <td>2332174.75000</td>\n",
       "      <td>2040978.250000</td>\n",
       "      <td>2088963.8750</td>\n",
       "    </tr>\n",
       "  </tbody>\n",
       "</table>\n",
       "</div>"
      ],
      "text/plain": [
       "                 10to14       14to15         15to16      16to17  \\\n",
       "arterial    8567331.000  2398790.000  2824212.00000  2540470.00   \n",
       "connectors  1443831.125   385995.375   440324.78125   371387.00   \n",
       "highway     8687032.000  2455425.250  2680552.50000  2607158.25   \n",
       "\n",
       "                   17to18        18to20         20to5            5to6  \\\n",
       "arterial    2909993.75000  4256450.5000  4899728.0000   677038.500000   \n",
       "connectors   411696.71875   684282.0625   731143.4375    95924.929688   \n",
       "highway     2786816.00000  3943883.5000  5746107.5000  1062803.875000   \n",
       "\n",
       "                      6to7           7to8            8to9         9to10  \n",
       "arterial    1330565.375000  2043806.00000  1674342.625000  1763401.3750  \n",
       "connectors   169133.515625   280998.34375   246893.171875   273600.5625  \n",
       "highway     1907016.125000  2332174.75000  2040978.250000  2088963.8750  "
      ]
     },
     "execution_count": 117,
     "metadata": {},
     "output_type": "execute_result"
    }
   ],
   "source": [
    "a"
   ]
  },
  {
   "cell_type": "code",
   "execution_count": null,
   "metadata": {
    "collapsed": true
   },
   "outputs": [],
   "source": []
  },
  {
   "cell_type": "code",
   "execution_count": 126,
   "metadata": {
    "collapsed": true
   },
   "outputs": [],
   "source": [
    "def get_unique_screenlines(project):\n",
    "    network = project.current_scenario.get_network()\n",
    "    unique_screenlines = []\n",
    "    for link in network.links():\n",
    "        if link.type <> 90 and link.type not in unique_screenlines:\n",
    "            unique_screenlines.append(str(link.type))\n",
    "    return unique_screenlines\n"
   ]
  },
  {
   "cell_type": "code",
   "execution_count": 128,
   "metadata": {
    "collapsed": false
   },
   "outputs": [],
   "source": [
    "screenline_list  = get_unique_screenlines(my_project)"
   ]
  },
  {
   "cell_type": "code",
   "execution_count": 133,
   "metadata": {
    "collapsed": false
   },
   "outputs": [],
   "source": [
    "extra_attributes_dict = {'@tveh' : 'total vehicles', \n",
    "                         '@mveh' : 'medium trucks', \n",
    "                         '@hveh' : 'heavy trucks', \n",
    "                         '@vmt' : 'vmt',\\\n",
    "                         '@vht' : 'vht', \n",
    "                         '@trnv' : 'buses in auto equivalents',\n",
    "                         '@ovol' : 'observed volume', \n",
    "                         '@bveh' : 'number of buses'}"
   ]
  },
  {
   "cell_type": "code",
   "execution_count": 134,
   "metadata": {
    "collapsed": false
   },
   "outputs": [
    {
     "ename": "NameError",
     "evalue": "name 'transit_tod' is not defined",
     "output_type": "error",
     "traceback": [
      "\u001b[1;31m---------------------------------------------------------------------------\u001b[0m",
      "\u001b[1;31mNameError\u001b[0m                                 Traceback (most recent call last)",
      "\u001b[1;32m<ipython-input-134-e1816e44ab20>\u001b[0m in \u001b[0;36m<module>\u001b[1;34m()\u001b[0m\n\u001b[0;32m     11\u001b[0m         \u001b[0mmy_project\u001b[0m\u001b[1;33m.\u001b[0m\u001b[0mcreate_extra_attribute\u001b[0m\u001b[1;33m(\u001b[0m\u001b[1;34m'LINK'\u001b[0m\u001b[1;33m,\u001b[0m \u001b[0mname\u001b[0m\u001b[1;33m,\u001b[0m \u001b[0mdesc\u001b[0m\u001b[1;33m,\u001b[0m \u001b[1;34m'True'\u001b[0m\u001b[1;33m)\u001b[0m\u001b[1;33m\u001b[0m\u001b[0m\n\u001b[0;32m     12\u001b[0m     \u001b[1;31m#TRANSIT:\u001b[0m\u001b[1;33m\u001b[0m\u001b[1;33m\u001b[0m\u001b[0m\n\u001b[1;32m---> 13\u001b[1;33m     \u001b[1;32mif\u001b[0m \u001b[0mmy_project\u001b[0m\u001b[1;33m.\u001b[0m\u001b[0mtod\u001b[0m \u001b[1;32min\u001b[0m \u001b[0mtransit_tod\u001b[0m\u001b[1;33m.\u001b[0m\u001b[0mkeys\u001b[0m\u001b[1;33m(\u001b[0m\u001b[1;33m)\u001b[0m\u001b[1;33m:\u001b[0m\u001b[1;33m\u001b[0m\u001b[0m\n\u001b[0m\u001b[0;32m     14\u001b[0m         \u001b[1;32mfor\u001b[0m \u001b[0mname\u001b[0m\u001b[1;33m,\u001b[0m \u001b[0mdesc\u001b[0m \u001b[1;32min\u001b[0m \u001b[0mtransit_extra_attributes_dict\u001b[0m\u001b[1;33m.\u001b[0m\u001b[0miteritems\u001b[0m\u001b[1;33m(\u001b[0m\u001b[1;33m)\u001b[0m\u001b[1;33m:\u001b[0m\u001b[1;33m\u001b[0m\u001b[0m\n\u001b[0;32m     15\u001b[0m             \u001b[0mmy_project\u001b[0m\u001b[1;33m.\u001b[0m\u001b[0mcreate_extra_attribute\u001b[0m\u001b[1;33m(\u001b[0m\u001b[1;34m'TRANSIT_LINE'\u001b[0m\u001b[1;33m,\u001b[0m \u001b[0mname\u001b[0m\u001b[1;33m,\u001b[0m \u001b[0mdesc\u001b[0m\u001b[1;33m,\u001b[0m \u001b[1;34m'True'\u001b[0m\u001b[1;33m)\u001b[0m\u001b[1;33m\u001b[0m\u001b[0m\n",
      "\u001b[1;31mNameError\u001b[0m: name 'transit_tod' is not defined"
     ]
    }
   ],
   "source": [
    "screenline_dict = {}\n",
    "    \n",
    "for item in screenline_list:\n",
    "    #dict where key is screen line id and value is 0\n",
    "    screenline_dict[item] = 0\n",
    "\n",
    "#loop through all tod banks and get network summaries\n",
    "for key in tods:\n",
    "    my_project.change_active_database(key)\n",
    "    for name, desc in extra_attributes_dict.iteritems():\n",
    "        my_project.create_extra_attribute('LINK', name, desc, 'True')\n",
    "    #TRANSIT:\n",
    "    if my_project.tod in transit_tod.keys():\n",
    "        for name, desc in transit_extra_attributes_dict.iteritems():\n",
    "            my_project.create_extra_attribute('TRANSIT_LINE', name, desc, 'True')\n",
    "        calc_transit_link_volumes(my_project)\n",
    "        calc_transit_line_atts(my_project)\n",
    "\n",
    "        transit_summary_dict[key] = get_transit_boardings_time(my_project)\n",
    "        #print transit_summary_dict"
   ]
  },
  {
   "cell_type": "code",
   "execution_count": 135,
   "metadata": {
    "collapsed": false
   },
   "outputs": [
    {
     "ename": "NameError",
     "evalue": "name 'base_df' is not defined",
     "output_type": "error",
     "traceback": [
      "\u001b[1;31m---------------------------------------------------------------------------\u001b[0m",
      "\u001b[1;31mNameError\u001b[0m                                 Traceback (most recent call last)",
      "\u001b[1;32m<ipython-input-135-3ab89b31e9fb>\u001b[0m in \u001b[0;36m<module>\u001b[1;34m()\u001b[0m\n\u001b[1;32m----> 1\u001b[1;33m \u001b[0mbase_df\u001b[0m\u001b[1;33m\u001b[0m\u001b[0m\n\u001b[0m",
      "\u001b[1;31mNameError\u001b[0m: name 'base_df' is not defined"
     ]
    }
   ],
   "source": [
    "base_df"
   ]
  },
  {
   "cell_type": "code",
   "execution_count": null,
   "metadata": {
    "collapsed": true
   },
   "outputs": [],
   "source": []
  },
  {
   "cell_type": "code",
   "execution_count": null,
   "metadata": {
    "collapsed": true
   },
   "outputs": [],
   "source": []
  },
  {
   "cell_type": "code",
   "execution_count": null,
   "metadata": {
    "collapsed": true
   },
   "outputs": [],
   "source": []
  },
  {
   "cell_type": "code",
   "execution_count": null,
   "metadata": {
    "collapsed": true
   },
   "outputs": [],
   "source": [
    "def corridor_results(tod, hour, my_project):\n",
    "    corridor_count = 12    # number of input corridor files\n",
    "\n",
    "    # filepath = r'projects\\\\' + tod + '\\\\' + tod + '.emp'\n",
    "    # my_project = EmmeProject(filepath)\n",
    "    my_project.change_active_database(hour)\n",
    "\n",
    "    # Access the nework link data\n",
    "    network = my_project.current_scenario.get_network()\n",
    "\n",
    "    # Get the auto time and length of each link\n",
    "    \n",
    "\n",
    "    # Get dataframes for time and length\n",
    "    time_df = get_link_attribute(network=network, attr='auto_time')\n",
    "    length_df = get_link_attribute(network=network, attr='length')    \n",
    "\n",
    "    # combine link time and length data into single dataframe\n",
    "    link_df = pd.merge(time_df, length_df)\n",
    "\n",
    "    corridor_flags_df = pd.DataFrame()\n",
    "    for i in range(1, corridor_count+1):    # +1 because python is zero-based\n",
    "        corridor_df = pd.read_table(r'inputs/corridors/corridor_' + str(i) + '.in', skiprows=1, skipinitialspace=True, sep=' ')\n",
    "        corridor_df['link_id'] = corridor_df['inode'].astype('str') + '-' + corridor_df['jnode'].astype('str')\n",
    "        corridor_flags_df = pd.concat(objs=[corridor_flags_df, corridor_df])\n",
    "\n",
    "    corridor_flags_df.fillna(0, inplace=True)\n",
    "\n",
    "    # join corridor flags to link travel time\n",
    "    corridor_times_df = pd.merge(link_df, corridor_flags_df)\n",
    "\n",
    "    # sum corridor travel time and length for each corridor\n",
    "    link_trav_time = pd.DataFrame()\n",
    "    for i in range(1, corridor_count+1):    # +1 because python is zero-based\n",
    "        if i < 10:\n",
    "            code = '@corr'\n",
    "        else:\n",
    "            code = '@cor'\n",
    "\n",
    "        corridor_sum = pd.DataFrame(corridor_times_df.groupby(code + str(i)).sum()[['auto_time', 'length']])\n",
    "        \n",
    "        # add a corridor id and facility type for analysis in Excel\n",
    "        corridor_sum['Corridor Input File'] = i\n",
    "        corridor_sum['Local ID'] = corridor_sum.index\n",
    "        if i == 1: \n",
    "            corridor_sum['corridor_type'] = 'a'    # arterial corridor\n",
    "        else:\n",
    "            corridor_sum['corridor_type'] = 'f'    # freeway corridor\n",
    "        link_trav_time = pd.concat([link_trav_time, corridor_sum])        \n",
    "\n",
    "    # remove all the 0-index results (these are travel times on non-tagged links)\n",
    "    link_trav_time = link_trav_time.query('index > 0')\n",
    "\n",
    "    # Add a column for time of day\n",
    "    link_trav_time['tod'] = tod\n",
    "\n",
    "    # Add a column that concatenates the corridor file number and the corridor tag ID \n",
    "    # for processessing in Excel\n",
    "     # (must convert numbers to int then convert to string to join with other strings)\n",
    "    link_trav_time['full_id'] = link_trav_time['Corridor Input File'].astype('int').astype('str') + link_trav_time['Local ID'].astype('int').astype('str')\n",
    "    link_trav_time['full_id'] = link_trav_time['corridor_type'] + link_trav_time['tod'] + link_trav_time['full_id']\n",
    "\n",
    "    \n",
    "\n",
    "    # Write out to CSV\n",
    "    df_out = link_trav_time[['tod', 'Corridor Input File', 'Local ID', \n",
    "                'full_id', 'auto_time', 'length']]\n",
    "\n",
    "    return df_out"
   ]
  },
  {
   "cell_type": "code",
   "execution_count": 2,
   "metadata": {
    "collapsed": false
   },
   "outputs": [],
   "source": [
    "#Copyright [2014] [Puget Sound Regional Council]\n",
    "\n",
    "#Licensed under the Apache License, Version 2.0 (the \"License\");\n",
    "#you may not use this file except in compliance with the License.\n",
    "#You may obtain a copy of the License at\n",
    "\n",
    "#    http://www.apache.org/licenses/LICENSE-2.0\n",
    "\n",
    "#Unless required by applicable law or agreed to in writing, software\n",
    "#distributed under the License is distributed on an \"AS IS\" BASIS,\n",
    "#WITHOUT WARRANTIES OR CONDITIONS OF ANY KIND, either express or implied.\n",
    "#See the License for the specific language governing permissions and\n",
    "#limitations under the License.\n",
    "\n",
    "import array as _array\n",
    "import inro.emme.desktop.app as app\n",
    "import inro.modeller as _m\n",
    "import inro.emme.matrix as ematrix\n",
    "import inro.emme.database.matrix\n",
    "import inro.emme.database.emmebank as _eb\n",
    "import json\n",
    "import numpy as np\n",
    "import time\n",
    "import os,sys\n",
    "import h5py\n",
    "import Tkinter, tkFileDialog\n",
    "import multiprocessing as mp\n",
    "import subprocess\n",
    "import csv\n",
    "import xlsxwriter\n",
    "# import xlautofit\n",
    "import sqlite3 as lite\n",
    "import datetime\n",
    "from scripts.EmmeProject import *\n",
    "\n",
    "from multiprocessing import Pool\n",
    "import pandas as pd\n",
    "sys.path.append(os.path.join(os.getcwd(),\"inputs\"))\n",
    "sys.path.append(os.path.join(os.getcwd(),\"scripts\"))\n",
    "from input_configuration import *\n",
    "\n",
    "network_summary_project = 'Projects/LoadTripTables/LoadTripTables.emp'\n",
    "fac_type_dict = {'highway' : 'ul3 = 1 or ul3 = 2',\n",
    "                 'arterial' : 'ul3 = 3 or ul3 = 4 or ul3 = 6',\n",
    "                 'connectors' : 'ul3 = 5'}\n",
    "\n",
    "extra_attributes_dict = {'@tveh' : 'total vehicles', \n",
    "                         '@mveh' : 'medium trucks', \n",
    "                         '@hveh' : 'heavy trucks', \n",
    "                         '@vmt' : 'vmt',\\\n",
    "                         '@vht' : 'vht', \n",
    "                         '@trnv' : 'buses in auto equivalents',\n",
    "                         '@ovol' : 'observed volume', \n",
    "                         '@bveh' : 'number of buses'}\n",
    "\n",
    "transit_extra_attributes_dict = {'@board' : 'total boardings', '@timtr' : 'transit line time'}\n",
    "\n",
    "transit_tod = {'6to7' : {'4k_tp' : 'am', 'num_of_hours' : 1}, \n",
    "               '7to8' :  {'4k_tp' : 'am', 'num_of_hours' : 1}, \n",
    "               '8to9' :  {'4k_tp' : 'am', 'num_of_hours' : 1}, \n",
    "               '9to10' : {'4k_tp' : 'md', 'num_of_hours' : 1}, \n",
    "               '10to14' : {'4k_tp' : 'md', 'num_of_hours' : 4}, \n",
    "               '14to15' : {'4k_tp' : 'md', 'num_of_hours' : 1}}\n",
    "# Input Files:\n",
    "aadt_counts_file = 'soundcast_aadt.csv'\n",
    "tptt_counts_file = 'soundcast_tptt.csv'\n",
    "\n",
    "uc_list = ['@svtl1', '@svtl2', '@svtl3', '@svnt1', '@svnt2', '@svnt3', '@h2tl1', '@h2tl2', '@h2tl3',\n",
    "           '@h2nt1', '@h2nt2', '@h2nt3', '@h3tl1', '@h3tl2', '@h3tl3', '@h3nt1', '@h3nt2', '@h3nt3', '@lttrk', '@mveh', '@hveh', '@bveh']\n",
    "\n",
    "def get_link_attribute(network, attr):\n",
    "    ''' Return dataframe of link attribute and link ID'''\n",
    "    link_dict = {}\n",
    "    for i in network.links():\n",
    "        link_dict[i.id] = i[attr]\n",
    "    df = pd.DataFrame({'link_id': link_dict.keys(), attr: link_dict.values()})\n",
    "    return df\n",
    "\n",
    "def json_to_dictionary(dict_name):\n",
    "\n",
    "    #Determine the Path to the input files and load them\n",
    "    skim_params_loc = os.path.abspath(os.path.join(os.getcwd(),\"inputs\\\\skim_params\"))    # Assumes the cwd is @ run_soundcast.py; always run this script from run_soundcast.py\n",
    "    input_filename = os.path.join(skim_params_loc,dict_name+'.json').replace(\"\\\\\",\"/\")\n",
    "    my_dictionary = json.load(open(input_filename))\n",
    "\n",
    "    return(my_dictionary)\n",
    " \n",
    "def calc_vmt_vht_delay_by_ft(EmmeProject):\n",
    "    ###calculates vmt, vht, and delay for all links and returns a nested dictionary with key=metric(e.g. 'vmt') \n",
    "    #and value = dictionary where dictionary has key = facility type(e.g. 'highway') and value = sum of metric \n",
    "    #for that facility type\n",
    "  \n",
    "     #medium trucks\n",
    "     EmmeProject.network_calculator(\"link_calculation\", result = '@mveh', expression = '@metrk/1.5')\n",
    "     \n",
    "     #heavy trucks:\n",
    "     EmmeProject.network_calculator(\"link_calculation\", result = '@hveh', expression = '@hvtrk/2')\n",
    "     \n",
    "     #busses:\n",
    "     EmmeProject.network_calculator(\"link_calculation\", result = '@bveh', expression = '@trnv/2')\n",
    "     ####################still need to do*****************************\n",
    "     #hdw- number of buses:\n",
    "     #mod_spec = network_calc_spec\n",
    "     #mod_spec[\"result\"] = \"@hdw\"\n",
    "     #mod_spec[\"expression\"] = 'hdw'\n",
    "     #network_calc(mod_spec)\n",
    "     \n",
    "     #calc total vehicles, store in @tveh \n",
    "     str_expression = '@svtl1 + @svtl2 + @svtl3 + @svnt1 +  @svnt2 + @svnt3 + @h2tl1 + @h2tl2 + @h2tl3 + @h2nt1 + @h2nt2 + @h2nt3 + @h3tl1\\\n",
    "                       + @h3tl2 + @h3tl3 + @h3nt1 + @h3nt2 + @h3nt3 + @lttrk + @mveh + @hveh + @bveh'\n",
    "     EmmeProject.network_calculator(\"link_calculation\", result = '@tveh', expression = str_expression)\n",
    "     #a dictionary to hold vmt/vht/delay values:\n",
    "     results_dict = {}\n",
    "     #dictionary to hold vmts:\n",
    "     vmt_dict = {}\n",
    "     #calc vmt for all links by factilty type and get sum by ft. \n",
    "     for key, value in fac_type_dict.iteritems():    \n",
    "        EmmeProject.network_calculator(\"link_calculation\", result = \"@vmt\", expression = \"@tveh * length\", selections_by_link = value)\n",
    "        #total vmt by ft: \n",
    "        vmt_dict[key] = EmmeProject.network_calc_result['sum']\n",
    "     #add to results dictionary\n",
    "     results_dict['vmt'] = vmt_dict\n",
    "    \n",
    "     #Now do the same for VHT:\n",
    "     vht_dict = {}\n",
    "     for key, value in fac_type_dict.iteritems():    \n",
    "        EmmeProject.network_calculator(\"link_calculation\", result = \"@vht\", expression = \"@tveh * timau / 60\", selections_by_link = value)\n",
    "        vht_dict[key] = EmmeProject.network_calc_result['sum']\n",
    "     results_dict['vht'] = vht_dict\n",
    "\n",
    "     #Delay:\n",
    "     delay_dict = {}\n",
    "     for key, value in fac_type_dict.iteritems():    \n",
    "        EmmeProject.network_calculator(\"link_calculation\",result = None, expression =  \"@tveh*(timau-(length*60/ul2))/60\", selections_by_link = value)\n",
    "        delay_dict[key] = EmmeProject.network_calc_result['sum']\n",
    "     \n",
    "     results_dict['delay'] = delay_dict\n",
    "     return results_dict\n",
    "\n",
    "def vmt_by_user_class(EmmeProject):\n",
    "    #uc_list = ['@svtl1', '@svtl2', '@svtl3', '@svnt1', '@h2tl1', '@h2tl2', '@h2tl3', '@h2nt1', '@h3tl1', '@h3tl2', '@h3tl3', '@h3nt1', '@lttrk', '@mveh', '@hveh', '@bveh']\n",
    "    uc_vmt_list = []\n",
    "    for item in uc_list:\n",
    "        EmmeProject.network_calculator(\"link_calculation\", result = None, expression = item + ' * length')\n",
    "        #total vmt by ft: \n",
    "        uc_vmt_list.append(EmmeProject.network_calc_result['sum'])\n",
    "    return uc_vmt_list\n",
    "\n",
    "def get_link_counts(EmmeProject, df_counts, tod):\n",
    "    #get the network for the active scenario\n",
    "     network = EmmeProject.current_scenario.get_network()\n",
    "     list_model_vols = []\n",
    "     for item in df_counts.index:\n",
    "         i = list(item)[0]\n",
    "         j = list(item)[1]\n",
    "         link = network.link(i, j)\n",
    "         x = {}\n",
    "         x['loop_INode'] = i\n",
    "         x['loop_JNode'] = j\n",
    "         if link <> None:\n",
    "            x['vol' + tod] = link['@tveh']   \n",
    "         else:\n",
    "            x['vol' + tod] = None\n",
    "         list_model_vols.append(x)\n",
    "     print len(list_model_vols)\n",
    "     df =  pd.DataFrame(list_model_vols)\n",
    "     df = df.set_index(['loop_INode', 'loop_JNode'])\n",
    "     return df\n",
    "\n",
    "def get_aadt_volumes(EmmeProject, df_aadt_counts, vol_dict):\n",
    "    network = EmmeProject.current_scenario.get_network()\n",
    "    for index, row in df_aadt_counts.iterrows():\n",
    "        x = {}\n",
    "        id = row['MIN_ID']\n",
    "        i = row['MIN_NewINode']\n",
    "        j = row['MIN_NewJNode']\n",
    "        if row['MIN_Oneway'] == 2:\n",
    "            link1 = network.link(i,j)\n",
    "            link2 = network.link(j, i)\n",
    "            if link1<>None and link2<> None:\n",
    "                vol = link1['@tveh'] + link2['@tveh']\n",
    "            elif link1 == None and link2 == None:\n",
    "                vol = 0\n",
    "                #print i, j\n",
    "            elif link1 <> None and link2 == None:\n",
    "                vol = link1['@tveh'] \n",
    "                #print j, i\n",
    "            elif link1 == None and link2 <> None:\n",
    "                vol = link2['@tveh'] \n",
    "\n",
    "        elif row['MIN_Oneway'] == 0:\n",
    "            link1 = network.link(i,j)\n",
    "            if link1 <> None:\n",
    "                vol = link1['@tveh']\n",
    "        else:\n",
    "            link1 = network.link(j,i)\n",
    "            if link1 <> None:\n",
    "                vol = link1['@tveh']\n",
    "\n",
    "        #hov\n",
    "        if row['MIN_HOV_I'] > 0:\n",
    "            i = row['MIN_HOV_I'] + 4000\n",
    "            j = row['MIN_HOV_J'] + 4000\n",
    "            #both directions:\n",
    "            if row['MIN_Oneway'] == 2:\n",
    "                link1 = network.link(i,j)\n",
    "                link2 = network.link(j, i)\n",
    "                if link1<>None and link2<> None:\n",
    "                    vol = vol +link1['@tveh'] + link2['@tveh']\n",
    "                elif link1 == None and link2 == None:\n",
    "                    vol = vol + 0\n",
    "                    #print i, j\n",
    "                elif link1 <> None and link2 == None:\n",
    "                    vol = vol + link1['@tveh'] \n",
    "                    #print j, i\n",
    "                elif link1 == None and link2 <> None:\n",
    "                    vol = vol + link2['@tveh'] \n",
    "            #IJ\n",
    "            elif row['MIN_Oneway'] == 0:\n",
    "                link1 = network.link(i,j)\n",
    "                if link1 <> None:\n",
    "                    vol = vol + link1['@tveh']\n",
    "            #JI\n",
    "            else:\n",
    "                link1 = network.link(j,i)\n",
    "                if link1 <> None:\n",
    "                    vol = vol + link1['@tveh']\n",
    "\n",
    "\n",
    "        if id in vol_dict.keys():\n",
    "            vol_dict[id]['EstVol'] = vol_dict[id]['EstVol'] + vol\n",
    "        else:\n",
    "            x['ID'] = id\n",
    "            x['PSRCEdgeID'] = row['PSRCEdgeID']\n",
    "            x['ObsVol'] = row['MEAN_AADT']\n",
    "            #x['RteID'] = row['First_Route_ID']\n",
    "            x['EstVol'] = vol\n",
    "            vol_dict[id] = x\n",
    "    return vol_dict\n",
    "\n",
    "def get_tptt_volumes(EmmeProject, df_tptt_counts, vol_dict):\n",
    "    network = EmmeProject.current_scenario.get_network()\n",
    "    for index, row in df_tptt_counts.iterrows():\n",
    "        x = {}\n",
    "        id = row ['ID']\n",
    "        i = row['NewINode']\n",
    "        j = row['NewJNode']\n",
    "        if row['Direction_'] == 'Bothways':\n",
    "            link1 = network.link(i,j)\n",
    "            link2 = network.link(j, i)\n",
    "            if link1<>None and link2<> None:\n",
    "                vol = link1['@tveh'] + link2['@tveh']\n",
    "            elif link1 == None and link2 == None:\n",
    "                vol = 0\n",
    "                #print i, j\n",
    "            elif link1 <> None and link2 == None:\n",
    "                vol = link1['@tveh'] \n",
    "                #print j, i\n",
    "            elif link1 == None and link2 <> None:\n",
    "                vol = link2['@tveh'] \n",
    "\n",
    "        elif row['Oneway'] == 0:\n",
    "            link1 = network.link(i,j)\n",
    "            if link1 <> None:\n",
    "                vol = link1['@tveh']\n",
    "        else:\n",
    "            link1 = network.link(j,i)\n",
    "            if link1 <> None:\n",
    "                vol = link1['@tveh']\n",
    "\n",
    "        if id in vol_dict.keys():\n",
    "            vol_dict[id]['EstVol'] = vol_dict[id]['EstVol'] + vol\n",
    "        else:\n",
    "            x['ID'] = id\n",
    "            x['SRID'] = row['SRID']\n",
    "            x['ObsVol'] = row['Year_2010']\n",
    "            x['Location'] = row['Location']\n",
    "            x['EstVol'] = vol\n",
    "            vol_dict[id] = x\n",
    "    return vol_dict\n",
    "\n",
    "def get_unique_screenlines(EmmeProject):\n",
    "    network = EmmeProject.current_scenario.get_network()\n",
    "    unique_screenlines = []\n",
    "    for link in network.links():\n",
    "        if link.type <> 90 and link.type not in unique_screenlines:\n",
    "            unique_screenlines.append(str(link.type))\n",
    "    return unique_screenlines\n",
    "\n",
    "def get_screenline_volumes(screenline_dict, EmmeProject):\n",
    "\n",
    "    for screen_line in screenline_dict.iterkeys():\n",
    "        EmmeProject.network_calculator(\"link_calculation\",result = None, expression = \"@tveh\", selections_by_link = screen_line)\n",
    "        screenline_dict[screen_line] = screenline_dict[screen_line] + EmmeProject.network_calc_result['sum']\n",
    "\n",
    "def calc_transit_line_atts(EmmeProject):\n",
    "    #calc boardings and transit line time\n",
    "     EmmeProject.transit_line_calculator(result = '@board', expression = 'board')\n",
    "     EmmeProject.transit_line_calculator(result = '@timtr', expression = 'timtr')\n",
    "\n",
    "def get_transit_boardings_time(EmmeProject):\n",
    "    network = EmmeProject.current_scenario.get_network()\n",
    "    df_transit_atts = pd.DataFrame(columns=('id', EmmeProject.tod + '_boardings', EmmeProject.tod + '_boardings''_time'))\n",
    "    line_list = []\n",
    "    \n",
    "    for transit_line in network.transit_lines():\n",
    "        x = {}\n",
    "        #company_code = transit_line['@ut3']\n",
    "        x['id'] = transit_line.id\n",
    "        x[EmmeProject.tod + '_board'] = transit_line['@board']\n",
    "        x[EmmeProject.tod + '_time']= transit_line['@timtr']\n",
    "        line_list.append(x)\n",
    "    df = pd.DataFrame(line_list)\n",
    "    df = df.set_index(['id'])\n",
    "    return df\n",
    "\n",
    "def calc_transit_link_volumes(EmmeProject):\n",
    "    total_hours = transit_tod[EmmeProject.tod]['num_of_hours']\n",
    "    my_expression = str(total_hours) + ' * vauteq * (60/hdw)'\n",
    "    print my_expression\n",
    "    EmmeProject.transit_segment_calculator(result = '@trnv', expression = my_expression, aggregation = \"+\")\n",
    "    \n",
    "          \n",
    "        \n",
    "def writeCSV(fileNamePath, listOfTuples):\n",
    "    myWriter = csv.writer(open(fileNamePath, 'wb'))\n",
    "    for l in listOfTuples:\n",
    "        myWriter.writerow(l)\n",
    "\n",
    "def dict_to_df(input_dict, measure):\n",
    "    '''converts triple-nested dict into Dataframe for a given facility type'''\n",
    "    mydict = {}\n",
    "    for tod in tods:\n",
    "        mydict[tod] = {}\n",
    "        for facility in fac_type_dict.keys():\n",
    "            mydict[tod][facility] = input_dict[tod][measure][facility]\n",
    "    return pd.DataFrame(mydict)\n",
    "\n",
    "def get_runid(table, con):\n",
    "    '''Update run ID from existing database'''\n",
    "    try:\n",
    "        return len(pd.read_sql('select * from ' + table, con))\n",
    "    except:\n",
    "        return 0\n",
    "\n",
    "def get_date():\n",
    "    '''Get last time stamp from run log.\n",
    "       Log time stamps are consistently formatted & exist for each line in the log\n",
    "       For runs without a log, or on error, get current time. '''\n",
    "    try:\n",
    "        timestamp = str(pd.read_csv(main_log_file).iloc[-1]).split(' ')\n",
    "        date = timestamp[0]\n",
    "        time = timestamp[1] + \" \" + timestamp[2]\n",
    "    except:\n",
    "        date = datetime.now().strftime(\"%m/%d/%Y\")\n",
    "        time = datetime.now().strftime(\"%I:%M:%S %p\")\n",
    "    return date, time\n",
    "\n",
    "def stamp(df, con, table):\n",
    "    '''Add run information to a table row'''\n",
    "    df['scenario_name'],df['runid'],df['date'],df['time'] = \\\n",
    "    [scenario_name,get_runid(table, con),get_date()[0],get_date()[1]]\n",
    "    return df\n",
    "\n",
    "def export_corridor_results(my_project):\n",
    "    ''' Evaluate corridor travel time for a single AM and PM period'''\n",
    "    tod = {'am': '7to8', 'pm': '16to17'}\n",
    "    am_df = corridor_results(tod=tod['am'], my_project=my_project)\n",
    "    pm_df = corridor_results(tod=tod['pm'], my_project=my_project)\n",
    "\n",
    "    # combine am and pm into single CSV and export\n",
    "    corridor_df = pd.concat(objs=[am_df, pm_df])\n",
    "    corridor_df.to_csv('outputs/corridor_summary.csv')\n",
    "\n",
    "def corridor_results(tod, my_project):\n",
    "    corridor_count = 12    # number of input corridor files\n",
    "\n",
    "    # filepath = r'projects\\\\' + tod + '\\\\' + tod + '.emp'\n",
    "    # my_project = EmmeProject(filepath)\n",
    "    my_project.change_active_database(tod)\n",
    "\n",
    "    # Access the nework link data\n",
    "    network = my_project.current_scenario.get_network()\n",
    "\n",
    "    # Get the auto time and length of each link\n",
    "    \n",
    "\n",
    "    # Get dataframes for time and length\n",
    "    time_df = get_link_attribute(network=network, attr='auto_time')\n",
    "    length_df = get_link_attribute(network=network, attr='length')    \n",
    "\n",
    "    # combine link time and length data into single dataframe\n",
    "    link_df = pd.merge(time_df, length_df)\n",
    "\n",
    "    corridor_flags_df = pd.DataFrame()\n",
    "    for i in range(1, corridor_count+1):    # +1 because python is zero-based\n",
    "        corridor_df = pd.read_table(r'inputs/corridors/corridor_' + str(i) + '.in', skiprows=1, skipinitialspace=True, sep=' ')\n",
    "        corridor_df['link_id'] = corridor_df['inode'].astype('str') + '-' + corridor_df['jnode'].astype('str')\n",
    "        corridor_flags_df = pd.concat(objs=[corridor_flags_df, corridor_df])\n",
    "\n",
    "    corridor_flags_df.fillna(0, inplace=True)\n",
    "\n",
    "    # join corridor flags to link travel time\n",
    "    corridor_times_df = pd.merge(link_df, corridor_flags_df)\n",
    "\n",
    "    # sum corridor travel time and length for each corridor\n",
    "    link_trav_time = pd.DataFrame()\n",
    "    for i in range(1, corridor_count+1):    # +1 because python is zero-based\n",
    "        if i < 10:\n",
    "            code = '@corr'\n",
    "        else:\n",
    "            code = '@cor'\n",
    "\n",
    "        corridor_sum = pd.DataFrame(corridor_times_df.groupby(code + str(i)).sum()[['auto_time', 'length']])\n",
    "        \n",
    "        # add a corridor id tag for analysis\n",
    "        corridor_sum['Corridor Input File'] = i\n",
    "        corridor_sum['Local ID'] = corridor_sum.index\n",
    "        link_trav_time = pd.concat([link_trav_time, corridor_sum])        \n",
    "\n",
    "    # remove all the 0-index results (these are travel times on non-tagged links)\n",
    "    link_trav_time = link_trav_time.query('index > 0')\n",
    "\n",
    "    # Add a column that concatenates the corridor file number and the corridor tag ID \n",
    "    # for processessing in Excel\n",
    "    link_trav_time['full_id'] = link_trav_time['Corridor Input File'].astype('str') + link_trav_time['Local ID'].astype('str')\n",
    "    link_trav_time['full_id'] = link_trav_time['full_id'].astype('float')\n",
    "\n",
    "    # Add a column for time of day\n",
    "    link_trav_time['tod'] = tod\n",
    "\n",
    "    # Write out to CSV\n",
    "    df_out = link_trav_time[['tod', 'Corridor Input File', 'Local ID', \n",
    "                'full_id', 'auto_time', 'length']]\n",
    "\n",
    "    return df_out\n"
   ]
  },
  {
   "cell_type": "code",
   "execution_count": 3,
   "metadata": {
    "collapsed": false
   },
   "outputs": [
    {
     "name": "stdout",
     "output_type": "stream",
     "text": [
      "1 * vauteq * (60/hdw)\n",
      "296\n",
      "296\n",
      "1 * vauteq * (60/hdw)\n",
      "296\n",
      "296\n",
      "296\n",
      "296\n",
      "1 * vauteq * (60/hdw)\n",
      "296\n",
      "1 * vauteq * (60/hdw)\n",
      "296\n",
      "296\n",
      "1 * vauteq * (60/hdw)\n",
      "296\n",
      "296\n",
      "4 * vauteq * (60/hdw)\n",
      "296\n",
      "{'9to10': [0.0, 249139.078125, 0.0, 1332614.75, 345869.53125, 416371.0625, 0.0, 33333.605469, 0.0, 334074.21875, 68178.414062, 70684.726562, 0.0, 13054.787109, 0.0, 180742.859375, 53388.496094, 62218.113281, 591214.0, 240675.484375, 133346.640625, 10880.87793], '16to17': [0.0, 355196.875, 0.0, 2008806.125, 656089.25, 757969.5625, 0.0, 52706.453125, 0.0, 431771.25, 118854.242188, 174585.359375, 0.0, 23489.882812, 0.0, 195081.640625, 65938.546875, 108117.5, 408866.15625, 116942.976562, 60281.140625, 0.0], '15to16': [0.0, 325486.125, 0.0, 2354568.25, 608361.5625, 679204.0, 0.0, 53198.875, 0.0, 598860.0625, 143454.25, 167352.34375, 0.0, 30206.669922, 0.0, 286205.28125, 90431.796875, 118026.664062, 351291.875, 100578.0625, 51833.269531, 0.0], '20to5': [0.0, 333673.5625, 0.0, 4675648.0, 1547449.5, 1871833.125, 0.0, 64784.097656, 0.0, 818236.125, 237496.0625, 347518.8125, 0.0, 26554.931641, 0.0, 351398.03125, 127252.867188, 228745.171875, 552737.625, 151192.328125, 69299.226562, 0.0], '7to8': [0.0, 320675.46875, 0.0, 1580857.375, 681015.3125, 845663.0, 0.0, 41671.238281, 0.0, 209631.921875, 65555.703125, 111780.234375, 0.0, 16205.347656, 0.0, 129921.210938, 48768.515625, 89259.40625, 329516.71875, 119183.679688, 66504.085938, 16653.318359], '14to15': [18.276003, 298288.875, 0.0, 2050240.875, 475262.96875, 541670.9375, 0.0, 46800.546875, 0.0, 556523.9375, 118868.796875, 133692.515625, 0.0, 15747.838867, 0.0, 271244.625, 80892.703125, 97924.507812, 338754.78125, 137545.046875, 76328.8125, 10880.87793], '8to9': [0.0, 292768.28125, 0.0, 1350546.375, 503826.375, 627311.1875, 0.0, 41496.035156, 0.0, 219585.96875, 55507.417969, 82709.265625, 0.0, 24129.478516, 0.0, 129634.984375, 41907.246094, 67992.71875, 331699.875, 120364.367188, 66853.710938, 16653.318359], '18to20': [0.0, 426273.6875, 0.0, 3665504.5, 935900.1875, 1093619.625, 0.0, 88110.5, 0.0, 907701.375, 232363.75, 278465.4375, 0.0, 45969.125, 0.0, 378728.53125, 125797.882812, 176901.703125, 402471.0, 102271.609375, 42414.042969, 0.0], '17to18': [0.0, 373662.3125, 0.0, 2237829.0, 783307.4375, 904195.375, 0.0, 56948.890625, 0.0, 439509.34375, 131696.25, 209010.15625, 0.0, 30219.203125, 0.0, 189680.015625, 68012.804688, 121996.085938, 407190.875, 115944.914062, 60140.730469, 0.0], '6to7': [0.0, 189104.296875, 0.0, 1138258.125, 528294.4375, 636940.5, 0.0, 15742.163086, 0.0, 133062.234375, 43980.71875, 89471.578125, 0.0, 4208.216797, 0.0, 81294.210938, 32462.787109, 68974.726562, 283756.28125, 102958.289062, 57199.84375, 16653.318359], '5to6': [0.0, 87168.476562, 0.0, 666879.875, 311365.1875, 379738.3125, 0.0, 3898.241455, 0.0, 72462.546875, 24217.011719, 49587.792969, 0.0, 1401.350586, 0.0, 41328.480469, 16751.869141, 37824.96875, 95568.046875, 34594.375, 19009.697266, 0.0], '10to14': [0.0, 1063278.875, 0.0, 7538844.0, 1570112.75, 1774538.375, 0.0, 154839.640625, 0.0, 2210666.0, 446329.6875, 431752.84375, 0.0, 50995.269531, 0.0, 1119979.5, 316493.5625, 345388.96875, 1019852.6875, 415285.9375, 229066.265625, 43523.511719]}"
     ]
    },
    {
     "name": "stderr",
     "output_type": "stream",
     "text": [
      "c:\\Users\\Brice\\AppData\\Local\\Continuum\\Anaconda\\lib\\site-packages\\IPython\\kernel\\__main__.py:424: SettingWithCopyWarning: \n",
      "A value is trying to be set on a copy of a slice from a DataFrame.\n",
      "Try using .loc[row_indexer,col_indexer] = value instead\n",
      "\n",
      "See the the caveats in the documentation: http://pandas.pydata.org/pandas-docs/stable/indexing.html#indexing-view-versus-copy\n",
      "c:\\Users\\Brice\\AppData\\Local\\Continuum\\Anaconda\\lib\\site-packages\\IPython\\kernel\\__main__.py:425: SettingWithCopyWarning: \n",
      "A value is trying to be set on a copy of a slice from a DataFrame.\n",
      "Try using .loc[row_indexer,col_indexer] = value instead\n",
      "\n",
      "See the the caveats in the documentation: http://pandas.pydata.org/pandas-docs/stable/indexing.html#indexing-view-versus-copy\n"
     ]
    },
    {
     "name": "stdout",
     "output_type": "stream",
     "text": [
      "\n"
     ]
    },
    {
     "name": "stderr",
     "output_type": "stream",
     "text": [
      "c:\\Users\\Brice\\AppData\\Local\\Continuum\\Anaconda\\lib\\site-packages\\IPython\\kernel\\__main__.py:428: SettingWithCopyWarning: \n",
      "A value is trying to be set on a copy of a slice from a DataFrame.\n",
      "Try using .loc[row_indexer,col_indexer] = value instead\n",
      "\n",
      "See the the caveats in the documentation: http://pandas.pydata.org/pandas-docs/stable/indexing.html#indexing-view-versus-copy\n"
     ]
    }
   ],
   "source": [
    "ft_summary_dict = {}\n",
    "transit_summary_dict = {}\n",
    "\n",
    "tableau_dict = {}\n",
    "\n",
    "# Connect to sqlite3 db\n",
    "con = None\n",
    "con = lite.connect(results_db)\n",
    "\n",
    "################################\n",
    "# UPDATE this path\n",
    "my_project = EmmeProject(r'd:\\Maps\\soundcast\\projects\\LoadTripTables\\LoadTripTables.emp')\n",
    "\n",
    "writer = pd.ExcelWriter('outputs/network_summary_detailed.xlsx', engine = 'xlsxwriter')#Defines the file to write to and to use xlsxwriter to do so\n",
    "#create extra attributes:\n",
    "\n",
    "\n",
    "#pandas dataframe to hold count table:\n",
    "df_counts = pd.read_csv('inputs/network_summary/' + counts_file, index_col=['loop_INode', 'loop_JNode'])\n",
    "df_aadt_counts = pd.read_csv('inputs/network_summary/' + aadt_counts_file)\n",
    "df_tptt_counts = pd.read_csv('inputs/network_summary/' + tptt_counts_file)\n",
    "\n",
    "\n",
    "counts_dict = {}\n",
    "uc_vmt_dict = {}\n",
    "aadt_counts_dict = {}\n",
    "\n",
    "tptt_counts_dict = {}\n",
    "\n",
    "#get a list of screenlines from the bank/scenario\n",
    "screenline_list = get_unique_screenlines(my_project) \n",
    "screenline_dict = {}\n",
    "\n",
    "for item in screenline_list:\n",
    "    #dict where key is screen line id and value is 0\n",
    "    screenline_dict[item] = 0\n",
    "\n",
    "#loop through all tod banks and get network summaries\n",
    "for key, value in sound_cast_net_dict.iteritems():\n",
    "    my_project.change_active_database(key)\n",
    "    for name, desc in extra_attributes_dict.iteritems():\n",
    "        my_project.create_extra_attribute('LINK', name, desc, 'True')\n",
    "    #TRANSIT:\n",
    "    if my_project.tod in transit_tod.keys():\n",
    "        for name, desc in transit_extra_attributes_dict.iteritems():\n",
    "            my_project.create_extra_attribute('TRANSIT_LINE', name, desc, 'True')\n",
    "        calc_transit_link_volumes(my_project)\n",
    "        calc_transit_line_atts(my_project)\n",
    "\n",
    "        transit_summary_dict[key] = get_transit_boardings_time(my_project)\n",
    "        #print transit_summary_dict\n",
    "\n",
    "    net_stats = calc_vmt_vht_delay_by_ft(my_project)\n",
    "\n",
    "    #store tod network summaries in dictionary where key is tod:\n",
    "    ft_summary_dict[key] = net_stats\n",
    "    #store vmt by user class in dict:\n",
    "    uc_vmt_dict[key] = vmt_by_user_class(my_project)\n",
    "\n",
    "    #counts:\n",
    "    df_tod_vol = get_link_counts(my_project, df_counts, key)\n",
    "    counts_dict[key] = df_tod_vol\n",
    "\n",
    "    #AADT Counts:\n",
    "\n",
    "    get_aadt_volumes(my_project, df_aadt_counts, aadt_counts_dict)\n",
    "\n",
    "    #TPTT:\n",
    "    get_tptt_volumes(my_project, df_tptt_counts, tptt_counts_dict)\n",
    "\n",
    "\n",
    "    #screen lines\n",
    "    get_screenline_volumes(screenline_dict, my_project)\n",
    "\n",
    "\n",
    "# # Write results to sqlite3 db (for Tableau)\n",
    "# facility_results = {}\n",
    "list_of_measures = ['vmt', 'vht', 'delay']\n",
    "# for measure in list_of_measures:\n",
    "#     facility_results[measure] = dict_to_df(input_dict=ft_summary_dict, \n",
    "#                                             measure=measure)\n",
    "#     # Mesaures by TOD\n",
    "#     df = pd.DataFrame(facility_results[measure].sum(),columns=[measure]).T\n",
    "#     df = stamp(df, con=con, table=measure+'_by_tod')\n",
    "#     df.to_sql(name=measure+'_by_tod', con=con, if_exists='append', chunksize=1000)\n",
    "\n",
    "#     # Measures by Facility Type\n",
    "#     df = pd.DataFrame(facility_results[measure].T.sum(),columns=[measure]).T\n",
    "#     df = stamp(df, con=con, table=measure+'_by_facility')\n",
    "#     df.to_sql(name=measure+'_by_facility', con=con, if_exists='append', chunksize=1000)\n",
    "\n",
    "\n",
    "#write out transit:\n",
    "print uc_vmt_dict\n",
    "col = 0\n",
    "transit_df = pd.DataFrame()\n",
    "\n",
    "for tod, df in transit_summary_dict.iteritems():\n",
    "   #if transit_tod[tod] == 'am':\n",
    "   #    pd.concat(objs, axis=0, join='outer', join_axes=None, ignore_index=False,\n",
    "   #keys=None, levels=None, names=None, verify_integrity=False)\n",
    "\n",
    "   workbook = writer.book\n",
    "   index_format = workbook.add_format({'align': 'left', 'bold': True, 'border': True})\n",
    "   transit_df = pd.merge(transit_df, df, 'outer', left_index = True, right_index = True)\n",
    "   #transit_df[tod + '_board'] = df[tod + '_board']\n",
    "   #transit_df[tod + '_time'] = df[tod + '_time']\n",
    "transit_df = transit_df[['6to7_board', '6to7_time', '7to8_board', '7to8_time', '8to9_board', '8to9_time', '9to10_board', '9to10_time', '10to14_board', '10to14_time', '14to15_board', '14to15_time']]\n",
    "transit_df.to_excel(excel_writer = writer, sheet_name = 'Transit Summaries')\n",
    "\n",
    "   #if col == 0:\n",
    "   #    worksheet = writer.sheets['Transit Summaries']\n",
    "   #    routes = df.index.tolist()\n",
    "   #    for route_no in range(len(routes)):\n",
    "   #        worksheet.write_string(route_no + 1, 0, routes[route_no], index_format)\n",
    "   #    col = col + 1\n",
    "   #    df.to_excel(excel_writer = writer, sheet_name = 'Transit Summaries', index = False, startcol = col)\n",
    "   #    col = col + 2\n",
    "   #else:\n",
    "   #    df.to_excel(excel_writer = writer, sheet_name = 'Transit Summaries', index = False, startcol = col)\n",
    "   #    col = col + 2\n",
    "\n",
    "\n",
    "#*******write out counts:\n",
    "for value in counts_dict.itervalues():\n",
    "    df_counts = df_counts.merge(value, right_index = True, left_index = True)\n",
    "    df_counts = df_counts.drop_duplicates()\n",
    "\n",
    "#write counts out to xlsx:\n",
    "#loops\n",
    "df_counts.to_excel(excel_writer = writer, sheet_name = 'Counts Output')\n",
    "\n",
    "#aadt:\n",
    "aadt_df = pd.DataFrame.from_dict(aadt_counts_dict, orient=\"index\")\n",
    "aadt_df.to_excel(excel_writer = writer, sheet_name = 'Arterial Counts Output')\n",
    "\n",
    "#tptt:\n",
    "tptt_df = pd.DataFrame.from_dict(tptt_counts_dict, orient=\"index\")\n",
    "tptt_df.to_excel(excel_writer = writer, sheet_name = 'TPTT Counts Output')\n",
    "\n",
    "\n",
    "\n",
    "#*******write out network summaries\n",
    "soundcast_tods = sound_cast_net_dict.keys\n",
    "list_of_FTs = fac_type_dict.keys()\n",
    "row_list = []\n",
    "list_of_rows = []\n",
    "header = ['tod', 'TP_4k']\n",
    "\n",
    "#create the header\n",
    "for measure in list_of_measures:\n",
    "    for factype in list_of_FTs:\n",
    "        header.append(factype + '_' + measure)\n",
    "list_of_rows.append(header)\n",
    "\n",
    "net_summary_df = pd.DataFrame(columns = header)\n",
    "net_summary_df['tod'] = ft_summary_dict.keys()    \n",
    "net_summary_df['TP_4k'] = net_summary_df['tod'].map(sound_cast_net_dict)\n",
    "net_summary_df = net_summary_df.set_index('tod')\n",
    "for key, value in ft_summary_dict.iteritems():\n",
    "    for measure in list_of_measures:\n",
    "        for factype in list_of_FTs:\n",
    "            net_summary_df[factype + '_' + measure][key] = value[measure][factype]\n",
    "net_summary_df.to_excel(excel_writer = writer, sheet_name = 'Network Summary')\n",
    "\n",
    "#*******write out screenlines\n",
    "screenline_df = pd.DataFrame()\n",
    "screenline_df['Screenline'] = screenline_dict.keys()\n",
    "screenline_df['Volumes'] = screenline_dict.values()\n",
    "screenline_df.to_excel(excel_writer = writer, sheet_name = 'Screenline Volumes')\n",
    "\n",
    "uc_vmt_df = pd.DataFrame(columns = uc_list, index = uc_vmt_dict.keys())\n",
    "for colnum in range(len(uc_list)):\n",
    "    for index in uc_vmt_dict.keys():\n",
    "        uc_vmt_df[uc_list[colnum]][index] = uc_vmt_dict[index][colnum]\n",
    "uc_vmt_df = uc_vmt_df.sort_index()\n",
    "uc_vmt_df.to_excel(excel_writer = writer, sheet_name = 'UC VMT')\n",
    "\n",
    "writer.save()\n",
    "\n",
    "tod = {'am': '7to8', 'pm': '16to17'}\n",
    "am_df = corridor_results(tod=tod['am'], my_project=my_project)\n",
    "pm_df = corridor_results(tod=tod['pm'], my_project=my_project)\n",
    "\n",
    "# combine am and pm into single CSV and export\n",
    "corridor_df = pd.concat(objs=[am_df, pm_df])\n"
   ]
  },
  {
   "cell_type": "code",
   "execution_count": 84,
   "metadata": {
    "collapsed": false
   },
   "outputs": [
    {
     "ename": "ValueError",
     "evalue": "cannot insert summary, already exists",
     "output_type": "error",
     "traceback": [
      "\u001b[1;31m---------------------------------------------------------------------------\u001b[0m",
      "\u001b[1;31mValueError\u001b[0m                                Traceback (most recent call last)",
      "\u001b[1;32m<ipython-input-84-9e3ebda0b2e5>\u001b[0m in \u001b[0;36m<module>\u001b[1;34m()\u001b[0m\n\u001b[0;32m      1\u001b[0m \u001b[1;31m# Add a column to identify the dataset\u001b[0m\u001b[1;33m\u001b[0m\u001b[1;33m\u001b[0m\u001b[0m\n\u001b[1;32m----> 2\u001b[1;33m \u001b[0mnet_summary_df\u001b[0m\u001b[1;33m.\u001b[0m\u001b[0minsert\u001b[0m\u001b[1;33m(\u001b[0m\u001b[1;36m0\u001b[0m\u001b[1;33m,\u001b[0m\u001b[1;34m'summary'\u001b[0m\u001b[1;33m,\u001b[0m \u001b[1;34m'vmt_vht_vhd'\u001b[0m\u001b[1;33m)\u001b[0m\u001b[1;33m\u001b[0m\u001b[0m\n\u001b[0m\u001b[0;32m      3\u001b[0m \u001b[0mscreenline_df\u001b[0m\u001b[1;33m.\u001b[0m\u001b[0minsert\u001b[0m\u001b[1;33m(\u001b[0m\u001b[1;36m0\u001b[0m\u001b[1;33m,\u001b[0m\u001b[1;34m'summary'\u001b[0m\u001b[1;33m,\u001b[0m \u001b[1;34m'screenlines'\u001b[0m\u001b[1;33m)\u001b[0m\u001b[1;33m\u001b[0m\u001b[0m\n\u001b[0;32m      4\u001b[0m \u001b[0mcorridor_df\u001b[0m\u001b[1;33m.\u001b[0m\u001b[0minsert\u001b[0m\u001b[1;33m(\u001b[0m\u001b[1;36m0\u001b[0m\u001b[1;33m,\u001b[0m \u001b[1;34m'summary'\u001b[0m\u001b[1;33m,\u001b[0m \u001b[1;34m'travel_times'\u001b[0m\u001b[1;33m)\u001b[0m\u001b[1;33m\u001b[0m\u001b[0m\n",
      "\u001b[1;32mc:\\Users\\Brice\\AppData\\Local\\Continuum\\Anaconda\\lib\\site-packages\\pandas\\core\\frame.pyc\u001b[0m in \u001b[0;36minsert\u001b[1;34m(self, loc, column, value, allow_duplicates)\u001b[0m\n\u001b[0;32m   2228\u001b[0m         \u001b[0mvalue\u001b[0m \u001b[1;33m=\u001b[0m \u001b[0mself\u001b[0m\u001b[1;33m.\u001b[0m\u001b[0m_sanitize_column\u001b[0m\u001b[1;33m(\u001b[0m\u001b[0mcolumn\u001b[0m\u001b[1;33m,\u001b[0m \u001b[0mvalue\u001b[0m\u001b[1;33m)\u001b[0m\u001b[1;33m\u001b[0m\u001b[0m\n\u001b[0;32m   2229\u001b[0m         self._data.insert(\n\u001b[1;32m-> 2230\u001b[1;33m             loc, column, value, allow_duplicates=allow_duplicates)\n\u001b[0m\u001b[0;32m   2231\u001b[0m \u001b[1;33m\u001b[0m\u001b[0m\n\u001b[0;32m   2232\u001b[0m     \u001b[1;32mdef\u001b[0m \u001b[0massign\u001b[0m\u001b[1;33m(\u001b[0m\u001b[0mself\u001b[0m\u001b[1;33m,\u001b[0m \u001b[1;33m**\u001b[0m\u001b[0mkwargs\u001b[0m\u001b[1;33m)\u001b[0m\u001b[1;33m:\u001b[0m\u001b[1;33m\u001b[0m\u001b[0m\n",
      "\u001b[1;32mc:\\Users\\Brice\\AppData\\Local\\Continuum\\Anaconda\\lib\\site-packages\\pandas\\core\\internals.pyc\u001b[0m in \u001b[0;36minsert\u001b[1;34m(self, loc, item, value, allow_duplicates)\u001b[0m\n\u001b[0;32m   3073\u001b[0m         \u001b[1;32mif\u001b[0m \u001b[1;32mnot\u001b[0m \u001b[0mallow_duplicates\u001b[0m \u001b[1;32mand\u001b[0m \u001b[0mitem\u001b[0m \u001b[1;32min\u001b[0m \u001b[0mself\u001b[0m\u001b[1;33m.\u001b[0m\u001b[0mitems\u001b[0m\u001b[1;33m:\u001b[0m\u001b[1;33m\u001b[0m\u001b[0m\n\u001b[0;32m   3074\u001b[0m             \u001b[1;31m# Should this be a different kind of error??\u001b[0m\u001b[1;33m\u001b[0m\u001b[1;33m\u001b[0m\u001b[0m\n\u001b[1;32m-> 3075\u001b[1;33m             \u001b[1;32mraise\u001b[0m \u001b[0mValueError\u001b[0m\u001b[1;33m(\u001b[0m\u001b[1;34m'cannot insert %s, already exists'\u001b[0m \u001b[1;33m%\u001b[0m \u001b[0mitem\u001b[0m\u001b[1;33m)\u001b[0m\u001b[1;33m\u001b[0m\u001b[0m\n\u001b[0m\u001b[0;32m   3076\u001b[0m \u001b[1;33m\u001b[0m\u001b[0m\n\u001b[0;32m   3077\u001b[0m         \u001b[1;32mif\u001b[0m \u001b[1;32mnot\u001b[0m \u001b[0misinstance\u001b[0m\u001b[1;33m(\u001b[0m\u001b[0mloc\u001b[0m\u001b[1;33m,\u001b[0m \u001b[0mint\u001b[0m\u001b[1;33m)\u001b[0m\u001b[1;33m:\u001b[0m\u001b[1;33m\u001b[0m\u001b[0m\n",
      "\u001b[1;31mValueError\u001b[0m: cannot insert summary, already exists"
     ]
    }
   ],
   "source": [
    "# Add a column to identify the dataset\n",
    "net_summary_df.insert(0,'summary', 'vmt_vht_vhd')\n",
    "screenline_df.insert(0,'summary', 'screenlines')\n",
    "corridor_df.insert(0, 'summary', 'travel_times')"
   ]
  },
  {
   "cell_type": "code",
   "execution_count": 85,
   "metadata": {
    "collapsed": false
   },
   "outputs": [
    {
     "data": {
      "text/plain": [
       "0     screenlines\n",
       "1     screenlines\n",
       "2     screenlines\n",
       "3     screenlines\n",
       "4     screenlines\n",
       "5     screenlines\n",
       "6     screenlines\n",
       "7     screenlines\n",
       "8     screenlines\n",
       "9     screenlines\n",
       "10    screenlines\n",
       "11    screenlines\n",
       "12    screenlines\n",
       "13    screenlines\n",
       "14    screenlines\n",
       "15    screenlines\n",
       "16    screenlines\n",
       "17    screenlines\n",
       "18    screenlines\n",
       "19    screenlines\n",
       "20    screenlines\n",
       "21    screenlines\n",
       "22    screenlines\n",
       "23    screenlines\n",
       "24    screenlines\n",
       "25    screenlines\n",
       "26    screenlines\n",
       "27    screenlines\n",
       "28    screenlines\n",
       "29    screenlines\n",
       "         ...     \n",
       "36    screenlines\n",
       "37    screenlines\n",
       "38    screenlines\n",
       "39    screenlines\n",
       "40    screenlines\n",
       "41    screenlines\n",
       "42    screenlines\n",
       "43    screenlines\n",
       "44    screenlines\n",
       "45    screenlines\n",
       "46    screenlines\n",
       "47    screenlines\n",
       "48    screenlines\n",
       "49    screenlines\n",
       "50    screenlines\n",
       "51    screenlines\n",
       "52    screenlines\n",
       "53    screenlines\n",
       "54    screenlines\n",
       "55    screenlines\n",
       "56    screenlines\n",
       "57    screenlines\n",
       "58    screenlines\n",
       "59    screenlines\n",
       "60    screenlines\n",
       "61    screenlines\n",
       "62    screenlines\n",
       "63    screenlines\n",
       "64    screenlines\n",
       "65    screenlines\n",
       "Name: summary, dtype: object"
      ]
     },
     "execution_count": 85,
     "metadata": {},
     "output_type": "execute_result"
    }
   ],
   "source": [
    "screenline_df['summary']"
   ]
  },
  {
   "cell_type": "code",
   "execution_count": 86,
   "metadata": {
    "collapsed": true
   },
   "outputs": [],
   "source": [
    "screenline_df['summary'] = 'screenlines'"
   ]
  },
  {
   "cell_type": "code",
   "execution_count": 90,
   "metadata": {
    "collapsed": false
   },
   "outputs": [],
   "source": [
    "df = screenline_df.append(net_summary_df)"
   ]
  },
  {
   "cell_type": "code",
   "execution_count": null,
   "metadata": {
    "collapsed": true
   },
   "outputs": [],
   "source": []
  },
  {
   "cell_type": "code",
   "execution_count": null,
   "metadata": {
    "collapsed": true
   },
   "outputs": [],
   "source": []
  },
  {
   "cell_type": "code",
   "execution_count": null,
   "metadata": {
    "collapsed": true
   },
   "outputs": [],
   "source": []
  },
  {
   "cell_type": "code",
   "execution_count": 5,
   "metadata": {
    "collapsed": false
   },
   "outputs": [
    {
     "data": {
      "text/html": [
       "\n",
       "<script src=\"//code.highcharts.com/stock/highstock.js\"></script>\n",
       "<script src=\"//code.highcharts.com/highcharts-more.js\"></script>\n",
       "<script src=\"//code.highcharts.com/modules/exporting.js\"></script>\n"
      ],
      "text/plain": [
       "<IPython.core.display.HTML object>"
      ]
     },
     "metadata": {},
     "output_type": "display_data"
    }
   ],
   "source": [
    "from IPython.display import display, display_pretty, Javascript, HTML\n",
    "from pandas_highcharts.core import serialize\n",
    "from pandas_highcharts.display import display_charts\n",
    "import matplotlib.pyplot as plt"
   ]
  },
  {
   "cell_type": "markdown",
   "metadata": {
    "collapsed": false
   },
   "source": [
    "## Transit Volume"
   ]
  },
  {
   "cell_type": "code",
   "execution_count": 78,
   "metadata": {
    "collapsed": false
   },
   "outputs": [
    {
     "data": {
      "text/html": [
       "<div id=\"chart_idvwLfmOrQ\"</div>\n",
       "    <script type=\"text/javascript\">new Highcharts.Chart({\"title\":{\"text\":\"8to9 AM Transit Boarding\"},\"series\":[{\"data\":[[\"0001\",97.8739471436],[\"0002\",86.7033233643],[\"0003\",69.669418335],[\"0004\",30.9327735901],[\"0005\",78.1551818848],[\"0006\",88.4151077271],[\"0007\",27.8283367157],[\"0008\",109.8655548096],[\"0009\",25.2503833771],[\"0010\",24.9939289093],[\"0011\",39.6521377563],[\"0012\",8.2025051117],[\"0013\",26.1148166656],[\"0014\",7.6492486],[\"0015\",6.7112178802],[\"0016\",19.8260688782],[\"0017\",1.3543064594],[\"0018\",58.7440795898],[\"0019\",14.7104597092],[\"0020\",4.9987850189],[\"0021\",41.2937583923],[\"0022\",69.5457458496],[\"0023\",32.2793731689],[\"0024\",45.8157043457],[\"0025\",23.0078525543],[\"0026\",3.8543913364],[\"0027\",24.6014194489],[\"0028\",79.691619873],[\"0029\",25.2450218201],[\"0030\",82.6178283691],[\"0031\",41.3089141846],[\"0032\",18.6411705017],[\"0033\",61.6824073792],[\"0034\",14.4780550003],[\"0035\",45.9581375122],[\"0036\",57.6918449402],[\"0037\",20.6712341309],[\"0038\",13.4556684494],[\"0039\",13.2073974609],[\"0040\",354.0316162109],[\"0041\",41.6199417114],[\"0042\",39.3368530273],[\"0043\",87.1107635498],[\"0044\",41.5597267151],[\"0045\",93.3643264771],[\"0046\",198.052520752],[\"0047\",96.6252670288],[\"0048\",26.6044635773],[\"0049\",37.8916320801],[\"0050\",13.6468887329],[\"0051\",123.1818695068],[\"0052\",0.0],[\"0053\",44.208770752],[\"0054\",2.8283443451],[\"0055\",41.8771438599],[\"0056\",147.5210113525],[\"0057\",43.2552604675],[\"0058\",18.5093688965],[\"0059\",90.6520462036],[\"0060\",0.5695666671],[\"0061\",8.6510534286],[\"0062\",7.4037475586],[\"0063\",79.9170761108],[\"0064\",40.2795410156],[\"0065\",31.7061500549],[\"0066\",99.1424179077],[\"0067\",2.3830516338],[\"0068\",16.1501102448],[\"0069\",14.2983102798],[\"0070\",2.2817306519],[\"0071\",11.9597129822],[\"0072\",117.6894378662],[\"0073\",26.4075202942],[\"0074\",9.6038866043],[\"0075\",8.2247934341],[\"0076\",40.6866950989],[\"0077\",165.7438049316],[\"0078\",94.5908432007],[\"0079\",21.4089584351],[\"0080\",7.1363201141],[\"0081\",89.6618881226],[\"0082\",163.6264343262],[\"0083\",39.9975814819],[\"0084\",34.7399635315],[\"0085\",33.7564659119],[\"0086\",63.2763214111],[\"0087\",18.975938797],[\"0088\",22.658159256],[\"0089\",5.161960125],[\"0090\",152.7553253174],[\"0091\",13.8255720139],[\"0092\",43.8533821106],[\"0093\",6.8421978951],[\"0094\",32.7879180908],[\"0095\",13.7677593231],[\"0096\",14.7425174713],[\"0097\",71.7347793579],[\"0098\",37.8255462646],[\"0099\",101.1903915405],[\"0100\",33.6423339844],[\"0101\",62.272808075],[\"0102\",34.9195327759],[\"0103\",38.4884986877],[\"0104\",15.8712005615],[\"0105\",19.6413993835],[\"0106\",27.9999656677],[\"0107\",21.0999755859],[\"0108\",22.0580368042],[\"0109\",16.5435276031],[\"0110\",27.6805267334],[\"0111\",25.5401077271],[\"0112\",5.5165042877],[\"0113\",90.73487854],[\"0114\",99.9267120361],[\"0115\",48.2857551575],[\"0116\",14.3137521744],[\"0117\",1.4946411848],[\"0118\",6.4265184402],[\"0119\",6.576280117],[\"0120\",58.6844406128],[\"0121\",37.1335945129],[\"0122\",17.5384025574],[\"0123\",22.3834705353],[\"0124\",32.07862854],[\"0125\",5.0782899857],[\"0126\",7.4826803207],[\"0127\",55.5096969604],[\"0128\",5.9399852753],[\"0129\",7.1342916489],[\"0130\",14.6711101532],[\"0131\",9.8018894196],[\"0132\",40.8641777039],[\"0133\",76.1434249878],[\"0134\",22.7937068939],[\"0135\",40.7065010071],[\"0136\",42.19373703],[\"0137\",36.2948379517],[\"0138\",14.9478378296],[\"0139\",113.6597213745],[\"0140\",21.0311336517],[\"0141\",2.474943161],[\"0142\",150.8452758789],[\"0143\",16.3302974701],[\"0144\",182.9646759033],[\"0145\",43.0540847778],[\"0146\",14.1258535385],[\"0147\",67.2569046021],[\"0148\",1.744137764],[\"0149\",39.5417861938],[\"0150\",0.0845070407],[\"0151\",0.4630161524],[\"0152\",66.4790725708],[\"0153\",22.4476947784],[\"0154\",1.6414151192],[\"0155\",253.857421875],[\"0156\",107.9520339966],[\"0157\",89.1601104736],[\"0158\",177.2571716309],[\"0159\",67.9388656616],[\"0160\",1.9393748045],[\"0161\",0.7576705813],[\"0162\",0.7576705813],[\"0163\",133.4005279541],[\"0164\",23.7156505585],[\"0165\",7.0339870453],[\"0166\",82.9512786865],[\"0167\",15.3207731247],[\"0168\",16.5902576447],[\"0169\",22.9184150696],[\"0170\",46.9404830933],[\"0171\",52.3181915283],[\"0172\",97.0168609619],[\"0173\",24.037443161],[\"0174\",6.2466564178],[\"0175\",0.0097727664],[\"0176\",16.612487793],[\"0177\",66.4700317383],[\"0178\",6.3190078735],[\"0179\",0.3738950491],[\"0180\",105.899772644],[\"0181\",12.6380157471],[\"0182\",0.0],[\"0183\",113.5757141113],[\"0184\",82.6755752563],[\"0185\",13.2420005798],[\"0186\",11.8721532822],[\"0187\",72.3246002197],[\"0188\",16.0721340179],[\"0189\",133.361541748],[\"0190\",13.6065893173],[\"0191\",6.0153131485],[\"0192\",2.1190361977],[\"0193\",1.9053629637],[\"0194\",1.2085425854],[\"0195\",10.4226255417],[\"0196\",62.792011261],[\"0197\",19.8296833038],[\"0198\",117.7149505615],[\"0199\",5.0326914787],[\"0200\",15.0980739594],[\"0201\",36.9030761719],[\"0202\",7.8717775345],[\"0203\",116.7146987915],[\"0204\",16.3542480469],[\"0205\",17.6113395691],[\"0206\",11.0633506775],[\"0207\",32.7687301636],[\"0208\",75.7685241699],[\"0209\",8.5050210953],[\"0210\",34.7559547424],[\"0211\",102.1725997925],[\"0212\",68.9496917725],[\"0213\",89.7260742188],[\"0214\",35.6179924011],[\"0215\",42.7415847778],[\"0216\",5.071138382],[\"0217\",3.902995348],[\"0218\",18.7937145233],[\"0219\",3.7543952465],[\"0220\",3.7543952465],[\"0221\",45.5334587097],[\"0222\",115.3561477661],[\"0223\",86.5171051025],[\"0224\",8.2809143066],[\"0225\",22.8757781982],[\"0226\",45.5603790283],[\"0227\",22.7801895142],[\"0228\",40.6922340393],[\"0229\",8.1384468079],[\"0230\",7.9994363785],[\"0231\",1.8775817156],[\"0232\",18.4907665253],[\"0233\",3.0817945004],[\"0234\",150.8259277344],[\"0235\",48.5584182739],[\"0236\",67.4509124756],[\"0237\",36.1416435242],[\"0238\",169.5663757324],[\"0239\",72.2832870483],[\"0240\",155.5750274658],[\"0241\",79.910987854],[\"0242\",39.955493927],[\"0243\",16.30235672],[\"0244\",32.6047134399],[\"0245\",30.213054657],[\"0246\",204.976852417],[\"0247\",64.5254440308],[\"0248\",63.9502792358],[\"0249\",140.3873138428],[\"0250\",101.4329452515],[\"0251\",9.3561115265],[\"0252\",24.7844772339],[\"0253\",24.7844772339],[\"0254\",68.9993743896],[\"0255\",25.5529384613],[\"0256\",168.614440918],[\"0257\",91.131072998],[\"0258\",67.3592681885],[\"0259\",0.602316618],[\"0260\",0.0],[\"0261\",11.2108564377],[\"0262\",0.1000000015],[\"0263\",40.2167510986],[\"0264\",6.485824585],[\"0265\",20.1083755493],[\"0266\",62.3129081726],[\"0267\",25.9432983398],[\"0268\",35.7636375427],[\"0269\",22.3400554657],[\"0270\",27.4050426483],[\"0271\",26.1109676361],[\"0272\",43.5182762146],[\"0273\",17.4073123932],[\"0274\",17.4073123932],[\"0275\",29.8879890442],[\"0276\",12.9632139206],[\"0277\",19.2326488495],[\"0278\",23.7285308838],[\"0279\",2.6508994102],[\"0280\",3.4001774788],[\"0281\",2.3593547344],[\"0282\",61.5998764038],[\"0283\",8.5529298782],[\"0284\",14.1112241745],[\"0285\",21.3763980865],[\"0286\",40.2499313354],[\"0287\",2.2555556297],[\"0288\",2.1555557251],[\"0289\",16.872133255],[\"0290\",2.1533334255],[\"0291\",2.6000001431],[\"0292\",8.608288765],[\"0293\",0.9800000191],[\"0294\",273.9212341309],[\"0295\",17.9303035736],[\"0296\",82.4751205444],[\"0297\",90.516456604],[\"0298\",13.5629014969],[\"0299\",14.1740884781],[\"0300\",7.087044239],[\"0301\",43.7430267334],[\"0302\",28.8030204773],[\"0303\",37.1339645386],[\"0304\",54.5457878113],[\"0305\",54.0375976562],[\"0306\",10.3271102905],[\"0307\",20.5250606537],[\"0308\",9.0062637329],[\"0309\",65.8863830566],[\"0310\",5.9950771332],[\"0311\",19.071521759],[\"0312\",9.679898262],[\"0313\",3.0740275383],[\"0314\",55.7035522461],[\"0315\",58.1499824524],[\"0316\",1.6969020367],[\"0317\",0.2604980469],[\"0318\",30.6553096771],[\"0319\",9.916768074],[\"0320\",15.3679056168],[\"0321\",37.3811607361],[\"0322\",18.0810661316],[\"0323\",28.4710578918],[\"0324\",5.1989974976],[\"0325\",10.7327566147],[\"0326\",19.3221073151],[\"0327\",19.3221073151],[\"0328\",5.6569824219],[\"0329\",3.6254193783],[\"0330\",62.7714653015],[\"0331\",14.0218229294],[\"0332\",70.4258346558],[\"0333\",6.2600736618],[\"0334\",24.9792327881],[\"0335\",27.5688228607],[\"0336\",21.839176178],[\"0337\",4.6488838196],[\"0338\",10.3321428299],[\"0339\",20.3555450439],[\"0340\",230.9871520996],[\"0341\",99.3998641968],[\"0342\",35.9394416809],[\"0343\",12.4062747955],[\"0344\",12.086977005],[\"0345\",2.3143932819],[\"0346\",6.0964560509],[\"0347\",13.9110813141],[\"0348\",5.9670667648],[\"0349\",8.9394369125],[\"0350\",7.9806170464],[\"0351\",7.8017339706],[\"0352\",2.9798123837],[\"0353\",17.9325027466],[\"0354\",27.7907772064],[\"0355\",26.3519649506],[\"0356\",91.3598022461],[\"0357\",20.4135131836],[\"0358\",7.3546872139],[\"0359\",26.174079895],[\"0360\",34.7256393433],[\"0361\",47.9122619629],[\"0362\",38.8299942017],[\"0363\",14.9154968262],[\"0364\",30.3366508484],[\"0365\",23.640422821],[\"0366\",65.7880249023],[\"0367\",67.8146438599],[\"0368\",3.5023026466],[\"0369\",132.1095123291],[\"0370\",35.2462005615],[\"0371\",17.6231002808],[\"0372\",70.225730896],[\"0373\",17.556432724],[\"0374\",16.554101944],[\"0375\",98.6976318359],[\"0376\",60.9246673584],[\"0377\",37.4832878113],[\"0378\",93.7082061768],[\"0379\",86.5275421143],[\"0380\",69.6138839722],[\"0381\",60.9456138611],[\"0382\",5.5463342667],[\"0383\",10.0375585556],[\"0384\",29.4167346954],[\"0385\",8.5616140366],[\"0386\",13.7721920013],[\"0387\",4.9491343498],[\"0388\",56.3238677979],[\"0389\",20.3748378754],[\"0390\",19.0858726501],[\"0391\",25.3261566162],[\"0392\",45.6199302673],[\"0393\",0.4553778768],[\"0394\",1.821511507],[\"0395\",3.3107862473],[\"0396\",1.9025437832],[\"0397\",49.2678947449],[\"0398\",12.3169736862],[\"0399\",6.3766813278],[\"0400\",0.4494763017],[\"0401\",0.8989526033],[\"0402\",1.3484289646],[\"0403\",0.0],[\"0404\",0.0],[\"0405\",7.7281250954],[\"0406\",7.42202425],[\"0407\",6.5046014786],[\"0408\",13.0092029572],[\"0409\",2.7336230278],[\"0410\",1.3161321878],[\"0411\",1.4019262791],[\"0412\",6.3984136581],[\"0413\",3.475687027],[\"0414\",1.7378435135],[\"0415\",14.6684045792],[\"0416\",18.4856414795],[\"0417\",20.42943573],[\"0418\",118.5358352661],[\"0419\",39.5119438171],[\"0420\",47.5737190247],[\"0421\",39.5740013123],[\"0422\",81.3123626709],[\"0423\",25.8196659088],[\"0424\",120.6679840088],[\"0425\",1.4517767429],[\"0426\",4.8898091316],[\"0427\",4.4318976402],[\"0428\",17.2295646667],[\"0429\",34.2366065979],[\"0430\",15.5832633972],[\"0431\",22.2457790375],[\"0432\",14.3051462173],[\"0433\",14.3051462173],[\"0434\",43.0341262817],[\"0435\",42.3578529358],[\"0436\",51.9834251404],[\"0437\",7.7205886841],[\"0438\",50.0838813782],[\"0439\",6.0713372231],[\"0440\",33.4118652344],[\"0441\",0.0914734975],[\"0442\",2.4964578152],[\"0443\",2.4964578152],[\"0444\",22.2541847229],[\"0445\",27.5036849976],[\"0446\",29.0796432495],[\"0447\",0.07299155],[\"0448\",43.4703483582],[\"0449\",74.1754302979],[\"0450\",22.4090118408],[\"0451\",19.4214839935],[\"0452\",0.3829940856],[\"0453\",21.3739776611],[\"0454\",37.1581840515],[\"0455\",42.1365432739],[\"0456\",5.4839372635],[\"0457\",48.3563575745],[\"0458\",61.4464378357],[\"0459\",12.2892875671],[\"0460\",39.9920082092],[\"0461\",23.9229507446],[\"0462\",30.4092845917],[\"0463\",11.4170160294],[\"0464\",79.4074249268],[\"0465\",23.0451927185],[\"0466\",104.8557052612],[\"0467\",10.2021579742],[\"0468\",23.4639377594],[\"0469\",26.5653247833],[\"0470\",27.8322963715],[\"0471\",13.9161481857],[\"0472\",7.5748882294],[\"0473\",30.2995529175],[\"0474\",7.5748882294],[\"0475\",28.2075920105],[\"0476\",14.0212240219],[\"0477\",12.1828079224],[\"0478\",2.4365615845],[\"0479\",54.8913650513],[\"0480\",23.5829277039],[\"0481\",31.443901062],[\"0482\",24.8465309143],[\"0483\",12.4232654572],[\"0484\",37.2697944641],[\"0485\",70.7261505127],[\"0486\",68.3362197876],[\"0487\",46.3714485168],[\"0488\",38.8256988525],[\"0489\",44.0603370667],[\"0490\",22.5206642151],[\"0491\",56.1500968933],[\"0492\",49.4987792969],[\"0493\",38.8249664307],[\"0494\",35.2296638489],[\"0495\",62.1286697388],[\"0496\",10.2385969162],[\"0497\",5.1192984581],[\"0498\",97.067779541],[\"0499\",104.671257019],[\"0500\",56.0505523682],[\"0501\",59.3598175049],[\"0502\",33.3070106506],[\"0503\",38.5284576416],[\"0504\",6.9171457291],[\"0505\",4.2804088593],[\"0506\",23.0244159698],[\"0507\",11.5122079849],[\"0508\",13.0212860107],[\"0509\",117.1915817261],[\"0510\",4.6782336235],[\"0511\",118.0207977295],[\"0512\",26.3203239441],[\"0513\",33.5316848755],[\"0514\",11.3125724792],[\"0515\",33.3952941895],[\"0516\",28.4124183655],[\"0517\",85.5602111816],[\"0518\",41.3814239502],[\"0519\",54.8640937805],[\"0520\",4.7847452164],[\"0521\",2.8342852592],[\"0522\",2.3923726082],[\"0523\",8.6444244385],[\"0524\",1.4564058781],[\"0525\",17.0566272736],[\"0526\",42.7559394836],[\"0527\",22.7337055206],[\"0528\",13.3659601212],[\"0529\",27.6378688812],[\"0530\",19.9079685211],[\"0531\",38.1943511963],[\"0532\",31.4054088593],[\"0533\",38.549118042],[\"0534\",47.137638092],[\"0535\",12.1813316345],[\"0536\",84.3322982788],[\"0537\",568.916809082],[\"0538\",242.04737854],[\"0539\",51.3144989014],[\"0540\",50.1434402466],[\"0541\",51.8279037476],[\"0542\",74.7017059326],[\"0543\",64.1977157593],[\"0544\",32.0057945251],[\"0545\",35.4311294556],[\"0546\",21.5568656921],[\"0547\",21.2191848755],[\"0548\",21.2191848755],[\"0549\",91.4737091064],[\"0550\",67.0807418823],[\"0551\",22.3602409363],[\"0552\",33.5403709412],[\"0553\",212.7845153809],[\"0554\",13.0034980774],[\"0555\",300.4877624512],[\"0556\",62.4979858398],[\"0557\",35.8929862976],[\"0558\",106.6684188843],[\"0559\",27.3333282471],[\"0560\",113.2481918335],[\"0561\",31.210981369],[\"0562\",16.1978702545],[\"0563\",12.2104568481],[\"0564\",8.0869960785],[\"0565\",32.6876487732],[\"0566\",78.4120330811],[\"0567\",39.2060165405],[\"0568\",25.0761013031],[\"0569\",8.381896019],[\"0570\",13.5749797821],[\"0571\",15.7907762527],[\"0572\",22.8002624512],[\"0573\",34.6327056885],[\"0574\",21.0943813324],[\"0575\",7.0314612389],[\"0576\",39.9534225464],[\"0577\",24.37458992],[\"0578\",0.0707156658],[\"0579\",29.9314136505],[\"0580\",0.317894578],[\"0581\",50.00258255],[\"0582\",0.8237054944],[\"0583\",4.1979427338],[\"0584\",0.9474374056],[\"0585\",0.8243674636],[\"0586\",0.0],[\"0587\",0.0],[\"0588\",1.9298632145],[\"0589\",0.5213252306],[\"0590\",1.8540349007],[\"0591\",0.1761904806],[\"0592\",1.6743524075],[\"0593\",11.1649141312],[\"0594\",5.8559088707],[\"0595\",19.9005374908],[\"0596\",17.5867424011],[\"0597\",0.6470581293],[\"0598\",5.5104188919],[\"0599\",5.0815081596],[\"0600\",8.649597168],[\"0601\",6.0788784027],[\"0602\",3.8204939365],[\"0603\",7.5924334526],[\"0604\",7.1655268669],[\"0605\",2.264144659],[\"0606\",5.6304907799],[\"0607\",2.5726408958],[\"0608\",5.1452817917],[\"0609\",1.1196200848],[\"0610\",3.3044819832],[\"0611\",1.0634920597],[\"0612\",2.3565795422],[\"0613\",8.267999649],[\"0614\",34.6861114502],[\"0615\",8.1030893326],[\"0616\",1.6332308054],[\"0617\",8.4053535461],[\"0618\",4.6522459984],[\"0619\",2.0965299606],[\"0620\",1.6810595989],[\"0621\",2.1621189117],[\"0622\",3.2337338924],[\"0623\",2.0668306351],[\"0624\",21.6383285522],[\"0625\",19.1110286713],[\"0626\",30.8181877136],[\"0627\",null],[\"0628\",null],[\"0629\",0.1191378161],[\"0630\",0.0912914053],[\"0631\",0.381406188],[\"0632\",0.2980922163],[\"0633\",0.2636279762],[\"0634\",1.0397863388],[\"0635\",0.7932072282],[\"0636\",19.4659538269],[\"0637\",28.3812274933],[\"0638\",6.7652955055],[\"0639\",17.0908336639],[\"0640\",28.7102909088],[\"0641\",33.8384437561],[\"0642\",22.9676685333],[\"0643\",11.261677742],[\"0644\",12.7527112961],[\"0645\",149.2774047852],[\"0646\",131.6764984131],[\"0647\",53.7866287231],[\"0648\",205.2929382324],[\"0649\",40.8500022888],[\"0650\",null],[\"0651\",14.3190259933],[\"0652\",90.3017578125],[\"0653\",147.9741973877],[\"0654\",25.8247756958],[\"0655\",45.2605209351],[\"0656\",73.7144470215],[\"0657\",23.5282764435],[\"0658\",4.8429255486],[\"0659\",17.24725914],[\"0660\",2.6111774445],[\"0661\",10.3556337357],[\"0662\",3.7748281956],[\"0663\",24.5124855042],[\"0664\",16.7969665527],[\"0665\",31.9574375153],[\"0666\",94.289276123],[\"0667\",29.3748970032],[\"0668\",109.3123474121],[\"0669\",34.5639266968],[\"0670\",28.0910511017],[\"0671\",27.63904953],[\"0672\",26.3144741058],[\"0673\",26.0792827606],[\"0674\",145.7598266602],[\"0675\",75.8824234009],[\"0676\",9.5704774857],[\"0677\",7.2666325569],[\"0678\",7.0164613724],[\"0679\",20.0613765717],[\"0680\",16.6179695129],[\"0681\",11.5669488907],[\"0682\",19.9213008881],[\"0683\",43.9877738953],[\"0684\",46.9884605408],[\"0685\",2.2432329655],[\"0686\",3.2408485413],[\"0687\",5.3854160309],[\"0688\",5.2038888931],[\"0689\",3.7513310909],[\"0690\",9.4622402191],[\"0691\",72.2575302124],[\"0692\",15.7727794647],[\"0693\",70.5098495483],[\"0694\",80.3993453979],[\"0695\",74.0908813477],[\"0696\",7.0716438293],[\"0697\",10.9841270447],[\"0698\",10.8876209259],[\"0699\",5.7913999557],[\"0700\",7.9986147881],[\"0701\",20.5128917694],[\"0702\",20.0427074432],[\"0703\",3.9285647869],[\"0704\",6.4384145737],[\"0705\",7.3363814354],[\"0706\",28.400560379],[\"0707\",30.6049137115],[\"0708\",43.3326683044],[\"0709\",64.3850860596],[\"0710\",55.2278633118],[\"0711\",70.4982681274],[\"0712\",82.2189865112],[\"0713\",40.2788047791],[\"0714\",26.3251209259],[\"0715\",29.0932712555],[\"0716\",7.7687182426],[\"0717\",18.7237873077],[\"0718\",4.8101882935],[\"0719\",5.4560689926],[\"0720\",39.4491920471],[\"0721\",41.0101280212],[\"0722\",46.1300239563],[\"0723\",66.8932647705],[\"0724\",25.9619827271],[\"0725\",16.2505474091],[\"0726\",14.1264944077],[\"0727\",2.9053678513],[\"0728\",6.3299274445],[\"0729\",1.8743582964],[\"0730\",0.0],[\"0731\",19.9179859161],[\"0732\",35.6639289856],[\"0733\",29.8894081116],[\"0734\",33.7501869202],[\"0735\",55.5675354004],[\"0736\",68.2003326416],[\"0737\",3.1817848682],[\"0738\",194.3717651367],[\"0739\",116.4814147949],[\"0740\",10.808804512],[\"0741\",4.3212471008],[\"0742\",3.2825369835],[\"0743\",23.2334041595],[\"0744\",8.67395401],[\"0745\",44.087146759],[\"0746\",39.2446098328],[\"0747\",10.2187604904],[\"0748\",9.4840021133],[\"0749\",8.8128166199],[\"0750\",17.7417354584],[\"0751\",12.3327684402],[\"0752\",12.7552566528],[\"0753\",7.5588011742],[\"0754\",17.9987125397],[\"0755\",35.3777084351],[\"0756\",3.0266091824],[\"0757\",14.5915441513],[\"0758\",15.382349968],[\"0759\",7.4872670174],[\"0760\",13.3246269226],[\"0761\",10.0429763794],[\"0762\",22.5537967682],[\"0763\",22.7632255554],[\"0764\",16.398815155],[\"0765\",15.8101806641],[\"0766\",43.2164955139],[\"0767\",34.7609786987],[\"0768\",1.3679687977],[\"0769\",23.5164852142],[\"0770\",1.9493927956],[\"0771\",22.1240253448],[\"0772\",4.0193471909],[\"0773\",30.5016975403],[\"0774\",28.1091880798],[\"0775\",15.3210401535],[\"0776\",2.8518469334],[\"0777\",2.8950021267],[\"0778\",2.3111999035],[\"0779\",16.6579685211],[\"0780\",9.8714838028],[\"0781\",2.9918751717],[\"0782\",2.6150598526],[\"0783\",4.7127780914],[\"0784\",29.4397563934],[\"0785\",25.499414444],[\"0786\",14.985458374],[\"0787\",23.3227138519],[\"0788\",26.0807704926],[\"0789\",30.43450737],[\"0790\",31.1304740906],[\"0791\",0.0],[\"0792\",0.0],[\"0793\",0.2666666806],[\"0794\",0.0333333351],[\"0795\",0.4952380955],[\"0796\",2.1994709969],[\"0797\",8.7959318161],[\"0798\",4.0371890068],[\"0799\",51.3949584961],[\"0800\",48.1126327515],[\"0801\",23.4362640381],[\"0802\",19.6945915222],[\"0803\",9.1430692673],[\"0804\",27.7145652771],[\"0805\",5.5229129791],[\"0806\",87.7964019775],[\"0807\",66.5288085938],[\"0808\",8.1962404251],[\"0809\",6.8285450935],[\"0810\",2.0210912228],[\"0811\",7.9106163979],[\"0812\",7.9257178307],[\"0813\",38.6713485718],[\"0814\",31.5018844604],[\"0815\",29.0714759827],[\"0816\",10.7457504272],[\"0817\",21.8263187408],[\"0818\",13.3050460815],[\"0819\",11.0335121155],[\"0820\",40.3424415588],[\"0821\",64.02318573],[\"0822\",69.2517623901],[\"0823\",144.6697235107],[\"0824\",136.0288696289],[\"0825\",35.9904823303],[\"0826\",44.8822746277],[\"0827\",129.6830596924],[\"0828\",80.0366668701],[\"0829\",2.9016656876],[\"0830\",33.9849205017],[\"0831\",18.913526535],[\"0832\",8.4686098099],[\"0833\",8.9353055954],[\"0834\",11.2393445969],[\"0835\",12.1949777603],[\"0836\",22.1818161011],[\"0837\",25.504360199],[\"0838\",21.6415138245],[\"0839\",34.5328483582],[\"0840\",16.0431594849],[\"0841\",8.0571212769],[\"0842\",13.4038658142],[\"0843\",175.3782806396],[\"0844\",130.817276001],[\"0845\",141.8226623535],[\"0846\",144.9434509277],[\"0847\",1.9822938442],[\"0848\",26.5260810852],[\"0849\",3.6227800846],[\"0852\",5.1899943352],[\"0853\",5.9828209877],[\"0854\",0.2953277826],[\"0855\",1.1333333254],[\"0856\",1.2000000477],[\"0857\",52.3642158508],[\"0858\",9.2117795944],[\"0859\",25.7253837585],[\"0860\",23.521238327],[\"0863\",0.0],[\"0864\",0.0897460058],[\"0865\",4.6452970505],[\"0866\",2.212151289],[\"0867\",0.979980588],[\"0868\",1.478818059],[\"0888\",59.5],[\"0889\",14.3000001907],[\"0890\",493.2990722656],[\"0891\",233.3184204102],[\"0892\",1114.7416992188],[\"0893\",174.7039794922],[\"0894\",7.6487469673],[\"0895\",4.826025486],[\"0896\",2.2539045811],[\"0897\",190.4779052734],[\"0898\",196.8366699219],[\"0899\",198.6462554932],[\"0900\",15.2499675751],[\"0901\",23.8176689148],[\"0902\",10.4815397263],[\"0903\",19.1177806854],[\"0904\",0.0],[\"0905\",23.3721218109],[\"0906\",12.0436477661],[\"0907\",5.6891140938],[\"0908\",0.4277915657],[\"0909\",25.035484314],[\"0910\",36.0807914734],[\"0911\",78.2241287231],[\"0912\",31.5473976135],[\"0913\",9.3674688339],[\"0914\",0.0],[\"0915\",0.5021417737],[\"0916\",44.2938232422],[\"0917\",2.2078568935],[\"0918\",1.9475636482],[\"0919\",1.7682365179],[\"0920\",14.5106811523],[\"0921\",37.973903656],[\"0922\",49.0527458191],[\"0923\",0.6666666865],[\"0924\",53.2448959351],[\"0925\",11.4059085846],[\"0926\",33.179019928],[\"0927\",0.7948382497],[\"0928\",0.6337002516],[\"0929\",2.6759586334],[\"0930\",2.0910439491],[\"0931\",6.4758396149],[\"0932\",14.9126825333],[\"0933\",8.8082494736],[\"0934\",11.4825029373],[\"0935\",5.9179663658],[\"0936\",1.4818819761],[\"0937\",2.9148225784],[\"0938\",10.0094051361],[\"0939\",5.0467596054],[\"0940\",1.5941828489],[\"0941\",3.7761042118],[\"0942\",0.0727272704],[\"0943\",0.4146574736],[\"0944\",2.9883441925],[\"0945\",4.277176857],[\"0946\",4.4701094627],[\"0947\",4.310125351],[\"0948\",1.879779458],[\"0949\",2.4209208488],[\"0950\",6.8554325104],[\"0951\",0.0250000004],[\"0952\",0.0],[\"0953\",2.5970053673],[\"0954\",4.2020335197],[\"0955\",3.7125000954],[\"0956\",1.625],[\"0957\",3.8969726562],[\"0958\",2.6504762173],[\"0959\",22.9828548431],[\"0960\",27.0142726898],[\"0961\",15.5439929962],[\"0962\",3.3333637714],[\"0963\",3.559180975],[\"0964\",0.2690908909],[\"0965\",18.8085517883],[\"0966\",2.7907800674],[\"0967\",10.3005599976],[\"0968\",9.5876741409],[\"0969\",2.7518146038],[\"0970\",6.035674572],[\"0971\",7.8992147446],[\"0972\",4.2172651291],[\"0973\",15.2839832306],[\"0974\",3.9267916679],[\"0975\",4.2020335197],[\"0976\",0.1800000072],[\"0977\",1.7069462538],[\"0978\",4.4841518402],[\"0979\",5.9885582924],[\"0980\",1.4348658323],[\"0981\",6.941213131],[\"0982\",6.941213131],[\"0983\",2.8697316647],[\"0984\",9.0994968414],[\"0985\",6.2120342255],[\"0986\",1.5985937119],[\"0987\",0.0033333334],[\"0988\",1.1578775644],[\"0989\",0.0],[\"0990\",1.8522547483],[\"0991\",3.5243849754],[\"0992\",0.5303571224],[\"0993\",1.2969039679],[\"0994\",8.7066707611],[\"0995\",0.3578776121],[\"0996\",15.6774196625],[\"0997\",4.3469104767],[\"0998\",2.3349106312],[\"0999\",4.8345150948],[\"1000\",4.8671808243],[\"1001\",7.0827932358],[\"1002\",8.5513944626],[\"1003\",5.3128037453],[\"1004\",19.0254745483],[\"1005\",4.6427879333],[\"1006\",8.4278402328],[\"1007\",1.7471153736],[\"1008\",2.3478076458],[\"1009\",1.9814800024],[\"1010\",3.5253276825],[\"1011\",2.1020278931],[\"1012\",8.2106628418],[\"1013\",7.7339625359],[\"1014\",4.2142019272],[\"1015\",12.6172657013],[\"1016\",50.2854728699],[\"1017\",12.1573553085],[\"1018\",4.905798912],[\"1019\",8.0581083298],[\"1020\",6.9106998444],[\"1021\",7.0928153992],[\"1022\",6.1629371643],[\"1047\",4.9091186523],[\"1048\",3.8909320831],[\"1049\",2.150239706],[\"1050\",0.0]],\"name\":\"8to9_board\",\"yAxis\":0}],\"yAxis\":[{}],\"chart\":{\"renderTo\":\"chart_idvwLfmOrQ\"},\"xAxis\":{\"categories\":[\"0001\",\"0002\",\"0003\",\"0004\",\"0005\",\"0006\",\"0007\",\"0008\",\"0009\",\"0010\",\"0011\",\"0012\",\"0013\",\"0014\",\"0015\",\"0016\",\"0017\",\"0018\",\"0019\",\"0020\",\"0021\",\"0022\",\"0023\",\"0024\",\"0025\",\"0026\",\"0027\",\"0028\",\"0029\",\"0030\",\"0031\",\"0032\",\"0033\",\"0034\",\"0035\",\"0036\",\"0037\",\"0038\",\"0039\",\"0040\",\"0041\",\"0042\",\"0043\",\"0044\",\"0045\",\"0046\",\"0047\",\"0048\",\"0049\",\"0050\",\"0051\",\"0052\",\"0053\",\"0054\",\"0055\",\"0056\",\"0057\",\"0058\",\"0059\",\"0060\",\"0061\",\"0062\",\"0063\",\"0064\",\"0065\",\"0066\",\"0067\",\"0068\",\"0069\",\"0070\",\"0071\",\"0072\",\"0073\",\"0074\",\"0075\",\"0076\",\"0077\",\"0078\",\"0079\",\"0080\",\"0081\",\"0082\",\"0083\",\"0084\",\"0085\",\"0086\",\"0087\",\"0088\",\"0089\",\"0090\",\"0091\",\"0092\",\"0093\",\"0094\",\"0095\",\"0096\",\"0097\",\"0098\",\"0099\",\"0100\",\"0101\",\"0102\",\"0103\",\"0104\",\"0105\",\"0106\",\"0107\",\"0108\",\"0109\",\"0110\",\"0111\",\"0112\",\"0113\",\"0114\",\"0115\",\"0116\",\"0117\",\"0118\",\"0119\",\"0120\",\"0121\",\"0122\",\"0123\",\"0124\",\"0125\",\"0126\",\"0127\",\"0128\",\"0129\",\"0130\",\"0131\",\"0132\",\"0133\",\"0134\",\"0135\",\"0136\",\"0137\",\"0138\",\"0139\",\"0140\",\"0141\",\"0142\",\"0143\",\"0144\",\"0145\",\"0146\",\"0147\",\"0148\",\"0149\",\"0150\",\"0151\",\"0152\",\"0153\",\"0154\",\"0155\",\"0156\",\"0157\",\"0158\",\"0159\",\"0160\",\"0161\",\"0162\",\"0163\",\"0164\",\"0165\",\"0166\",\"0167\",\"0168\",\"0169\",\"0170\",\"0171\",\"0172\",\"0173\",\"0174\",\"0175\",\"0176\",\"0177\",\"0178\",\"0179\",\"0180\",\"0181\",\"0182\",\"0183\",\"0184\",\"0185\",\"0186\",\"0187\",\"0188\",\"0189\",\"0190\",\"0191\",\"0192\",\"0193\",\"0194\",\"0195\",\"0196\",\"0197\",\"0198\",\"0199\",\"0200\",\"0201\",\"0202\",\"0203\",\"0204\",\"0205\",\"0206\",\"0207\",\"0208\",\"0209\",\"0210\",\"0211\",\"0212\",\"0213\",\"0214\",\"0215\",\"0216\",\"0217\",\"0218\",\"0219\",\"0220\",\"0221\",\"0222\",\"0223\",\"0224\",\"0225\",\"0226\",\"0227\",\"0228\",\"0229\",\"0230\",\"0231\",\"0232\",\"0233\",\"0234\",\"0235\",\"0236\",\"0237\",\"0238\",\"0239\",\"0240\",\"0241\",\"0242\",\"0243\",\"0244\",\"0245\",\"0246\",\"0247\",\"0248\",\"0249\",\"0250\",\"0251\",\"0252\",\"0253\",\"0254\",\"0255\",\"0256\",\"0257\",\"0258\",\"0259\",\"0260\",\"0261\",\"0262\",\"0263\",\"0264\",\"0265\",\"0266\",\"0267\",\"0268\",\"0269\",\"0270\",\"0271\",\"0272\",\"0273\",\"0274\",\"0275\",\"0276\",\"0277\",\"0278\",\"0279\",\"0280\",\"0281\",\"0282\",\"0283\",\"0284\",\"0285\",\"0286\",\"0287\",\"0288\",\"0289\",\"0290\",\"0291\",\"0292\",\"0293\",\"0294\",\"0295\",\"0296\",\"0297\",\"0298\",\"0299\",\"0300\",\"0301\",\"0302\",\"0303\",\"0304\",\"0305\",\"0306\",\"0307\",\"0308\",\"0309\",\"0310\",\"0311\",\"0312\",\"0313\",\"0314\",\"0315\",\"0316\",\"0317\",\"0318\",\"0319\",\"0320\",\"0321\",\"0322\",\"0323\",\"0324\",\"0325\",\"0326\",\"0327\",\"0328\",\"0329\",\"0330\",\"0331\",\"0332\",\"0333\",\"0334\",\"0335\",\"0336\",\"0337\",\"0338\",\"0339\",\"0340\",\"0341\",\"0342\",\"0343\",\"0344\",\"0345\",\"0346\",\"0347\",\"0348\",\"0349\",\"0350\",\"0351\",\"0352\",\"0353\",\"0354\",\"0355\",\"0356\",\"0357\",\"0358\",\"0359\",\"0360\",\"0361\",\"0362\",\"0363\",\"0364\",\"0365\",\"0366\",\"0367\",\"0368\",\"0369\",\"0370\",\"0371\",\"0372\",\"0373\",\"0374\",\"0375\",\"0376\",\"0377\",\"0378\",\"0379\",\"0380\",\"0381\",\"0382\",\"0383\",\"0384\",\"0385\",\"0386\",\"0387\",\"0388\",\"0389\",\"0390\",\"0391\",\"0392\",\"0393\",\"0394\",\"0395\",\"0396\",\"0397\",\"0398\",\"0399\",\"0400\",\"0401\",\"0402\",\"0403\",\"0404\",\"0405\",\"0406\",\"0407\",\"0408\",\"0409\",\"0410\",\"0411\",\"0412\",\"0413\",\"0414\",\"0415\",\"0416\",\"0417\",\"0418\",\"0419\",\"0420\",\"0421\",\"0422\",\"0423\",\"0424\",\"0425\",\"0426\",\"0427\",\"0428\",\"0429\",\"0430\",\"0431\",\"0432\",\"0433\",\"0434\",\"0435\",\"0436\",\"0437\",\"0438\",\"0439\",\"0440\",\"0441\",\"0442\",\"0443\",\"0444\",\"0445\",\"0446\",\"0447\",\"0448\",\"0449\",\"0450\",\"0451\",\"0452\",\"0453\",\"0454\",\"0455\",\"0456\",\"0457\",\"0458\",\"0459\",\"0460\",\"0461\",\"0462\",\"0463\",\"0464\",\"0465\",\"0466\",\"0467\",\"0468\",\"0469\",\"0470\",\"0471\",\"0472\",\"0473\",\"0474\",\"0475\",\"0476\",\"0477\",\"0478\",\"0479\",\"0480\",\"0481\",\"0482\",\"0483\",\"0484\",\"0485\",\"0486\",\"0487\",\"0488\",\"0489\",\"0490\",\"0491\",\"0492\",\"0493\",\"0494\",\"0495\",\"0496\",\"0497\",\"0498\",\"0499\",\"0500\",\"0501\",\"0502\",\"0503\",\"0504\",\"0505\",\"0506\",\"0507\",\"0508\",\"0509\",\"0510\",\"0511\",\"0512\",\"0513\",\"0514\",\"0515\",\"0516\",\"0517\",\"0518\",\"0519\",\"0520\",\"0521\",\"0522\",\"0523\",\"0524\",\"0525\",\"0526\",\"0527\",\"0528\",\"0529\",\"0530\",\"0531\",\"0532\",\"0533\",\"0534\",\"0535\",\"0536\",\"0537\",\"0538\",\"0539\",\"0540\",\"0541\",\"0542\",\"0543\",\"0544\",\"0545\",\"0546\",\"0547\",\"0548\",\"0549\",\"0550\",\"0551\",\"0552\",\"0553\",\"0554\",\"0555\",\"0556\",\"0557\",\"0558\",\"0559\",\"0560\",\"0561\",\"0562\",\"0563\",\"0564\",\"0565\",\"0566\",\"0567\",\"0568\",\"0569\",\"0570\",\"0571\",\"0572\",\"0573\",\"0574\",\"0575\",\"0576\",\"0577\",\"0578\",\"0579\",\"0580\",\"0581\",\"0582\",\"0583\",\"0584\",\"0585\",\"0586\",\"0587\",\"0588\",\"0589\",\"0590\",\"0591\",\"0592\",\"0593\",\"0594\",\"0595\",\"0596\",\"0597\",\"0598\",\"0599\",\"0600\",\"0601\",\"0602\",\"0603\",\"0604\",\"0605\",\"0606\",\"0607\",\"0608\",\"0609\",\"0610\",\"0611\",\"0612\",\"0613\",\"0614\",\"0615\",\"0616\",\"0617\",\"0618\",\"0619\",\"0620\",\"0621\",\"0622\",\"0623\",\"0624\",\"0625\",\"0626\",\"0627\",\"0628\",\"0629\",\"0630\",\"0631\",\"0632\",\"0633\",\"0634\",\"0635\",\"0636\",\"0637\",\"0638\",\"0639\",\"0640\",\"0641\",\"0642\",\"0643\",\"0644\",\"0645\",\"0646\",\"0647\",\"0648\",\"0649\",\"0650\",\"0651\",\"0652\",\"0653\",\"0654\",\"0655\",\"0656\",\"0657\",\"0658\",\"0659\",\"0660\",\"0661\",\"0662\",\"0663\",\"0664\",\"0665\",\"0666\",\"0667\",\"0668\",\"0669\",\"0670\",\"0671\",\"0672\",\"0673\",\"0674\",\"0675\",\"0676\",\"0677\",\"0678\",\"0679\",\"0680\",\"0681\",\"0682\",\"0683\",\"0684\",\"0685\",\"0686\",\"0687\",\"0688\",\"0689\",\"0690\",\"0691\",\"0692\",\"0693\",\"0694\",\"0695\",\"0696\",\"0697\",\"0698\",\"0699\",\"0700\",\"0701\",\"0702\",\"0703\",\"0704\",\"0705\",\"0706\",\"0707\",\"0708\",\"0709\",\"0710\",\"0711\",\"0712\",\"0713\",\"0714\",\"0715\",\"0716\",\"0717\",\"0718\",\"0719\",\"0720\",\"0721\",\"0722\",\"0723\",\"0724\",\"0725\",\"0726\",\"0727\",\"0728\",\"0729\",\"0730\",\"0731\",\"0732\",\"0733\",\"0734\",\"0735\",\"0736\",\"0737\",\"0738\",\"0739\",\"0740\",\"0741\",\"0742\",\"0743\",\"0744\",\"0745\",\"0746\",\"0747\",\"0748\",\"0749\",\"0750\",\"0751\",\"0752\",\"0753\",\"0754\",\"0755\",\"0756\",\"0757\",\"0758\",\"0759\",\"0760\",\"0761\",\"0762\",\"0763\",\"0764\",\"0765\",\"0766\",\"0767\",\"0768\",\"0769\",\"0770\",\"0771\",\"0772\",\"0773\",\"0774\",\"0775\",\"0776\",\"0777\",\"0778\",\"0779\",\"0780\",\"0781\",\"0782\",\"0783\",\"0784\",\"0785\",\"0786\",\"0787\",\"0788\",\"0789\",\"0790\",\"0791\",\"0792\",\"0793\",\"0794\",\"0795\",\"0796\",\"0797\",\"0798\",\"0799\",\"0800\",\"0801\",\"0802\",\"0803\",\"0804\",\"0805\",\"0806\",\"0807\",\"0808\",\"0809\",\"0810\",\"0811\",\"0812\",\"0813\",\"0814\",\"0815\",\"0816\",\"0817\",\"0818\",\"0819\",\"0820\",\"0821\",\"0822\",\"0823\",\"0824\",\"0825\",\"0826\",\"0827\",\"0828\",\"0829\",\"0830\",\"0831\",\"0832\",\"0833\",\"0834\",\"0835\",\"0836\",\"0837\",\"0838\",\"0839\",\"0840\",\"0841\",\"0842\",\"0843\",\"0844\",\"0845\",\"0846\",\"0847\",\"0848\",\"0849\",\"0852\",\"0853\",\"0854\",\"0855\",\"0856\",\"0857\",\"0858\",\"0859\",\"0860\",\"0863\",\"0864\",\"0865\",\"0866\",\"0867\",\"0868\",\"0888\",\"0889\",\"0890\",\"0891\",\"0892\",\"0893\",\"0894\",\"0895\",\"0896\",\"0897\",\"0898\",\"0899\",\"0900\",\"0901\",\"0902\",\"0903\",\"0904\",\"0905\",\"0906\",\"0907\",\"0908\",\"0909\",\"0910\",\"0911\",\"0912\",\"0913\",\"0914\",\"0915\",\"0916\",\"0917\",\"0918\",\"0919\",\"0920\",\"0921\",\"0922\",\"0923\",\"0924\",\"0925\",\"0926\",\"0927\",\"0928\",\"0929\",\"0930\",\"0931\",\"0932\",\"0933\",\"0934\",\"0935\",\"0936\",\"0937\",\"0938\",\"0939\",\"0940\",\"0941\",\"0942\",\"0943\",\"0944\",\"0945\",\"0946\",\"0947\",\"0948\",\"0949\",\"0950\",\"0951\",\"0952\",\"0953\",\"0954\",\"0955\",\"0956\",\"0957\",\"0958\",\"0959\",\"0960\",\"0961\",\"0962\",\"0963\",\"0964\",\"0965\",\"0966\",\"0967\",\"0968\",\"0969\",\"0970\",\"0971\",\"0972\",\"0973\",\"0974\",\"0975\",\"0976\",\"0977\",\"0978\",\"0979\",\"0980\",\"0981\",\"0982\",\"0983\",\"0984\",\"0985\",\"0986\",\"0987\",\"0988\",\"0989\",\"0990\",\"0991\",\"0992\",\"0993\",\"0994\",\"0995\",\"0996\",\"0997\",\"0998\",\"0999\",\"1000\",\"1001\",\"1002\",\"1003\",\"1004\",\"1005\",\"1006\",\"1007\",\"1008\",\"1009\",\"1010\",\"1011\",\"1012\",\"1013\",\"1014\",\"1015\",\"1016\",\"1017\",\"1018\",\"1019\",\"1020\",\"1021\",\"1022\",\"1047\",\"1048\",\"1049\",\"1050\"],\"title\":{\"text\":\"id\"}},\"legend\":{\"enabled\":true}});</script>"
      ],
      "text/plain": [
       "<IPython.core.display.HTML object>"
      ]
     },
     "metadata": {},
     "output_type": "display_data"
    }
   ],
   "source": [
    "tod = '8to9_board'\n",
    "display_charts(transit_df[[tod]], title='8to9 AM Transit Boarding')"
   ]
  },
  {
   "cell_type": "markdown",
   "metadata": {},
   "source": [
    "## Screenline Volumes"
   ]
  },
  {
   "cell_type": "code",
   "execution_count": 99,
   "metadata": {
    "collapsed": false
   },
   "outputs": [
    {
     "data": {
      "text/html": [
       "<div id=\"chart_idXBKyVYUN\"</div>\n",
       "    <script type=\"text/javascript\">new Highcharts.Chart({\"title\":{\"text\":\"AADT\"},\"series\":[{\"data\":[[0,41526.07367],[1,82340.60559],[2,304390.020998],[3,227292.615723],[4,95929.444701],[5,26878.77185],[6,84773.165039],[7,101172.395751],[8,544557.249999],[9,89575.655029],[10,563393.302734],[11,242950.841308],[12,131788.038819],[13,222014.739258],[14,284722.946289],[15,524684.1367210001],[16,131479.186767],[17,82917.048587],[18,79307.43103],[19,372797.083983],[20,68484.161012],[21,288796.9292],[22,124215.864745],[23,330485.522461],[24,266003.998536],[25,86611.424438],[26,360121.720702],[27,207949.089356],[28,112699.591308],[29,258874.246582],[30,299572.414062],[31,304212.70508],[32,87304.585692],[33,196076.078126],[34,86272.403076],[35,170113.0979],[36,6090.987749],[37,240772.279784],[38,54571.060791],[39,76192.595947],[40,18220.788086],[41,134814.364502],[42,114669.708008],[43,221198.306641],[44,480540.605469],[45,269549.946288],[46,189604.058107],[47,281433.354492],[48,123474.764405],[49,435932.554688],[50,270509.2622070001],[51,21931.847168],[52,106645.695312],[53,144836.138427],[54,255399.622071],[55,253538.095704],[56,78738.823122],[57,353758.547852],[58,416189.220702],[59,53581.682983],[60,161440.031739],[61,72153.99707],[62,69316.535034],[63,56548.135743],[64,208738.781739],[65,74167.495119]],\"name\":\"Volumes\",\"yAxis\":0}],\"yAxis\":[{}],\"chart\":{\"renderTo\":\"chart_idXBKyVYUN\",\"type\":\"column\"},\"xAxis\":{},\"legend\":{\"enabled\":true}});</script>"
      ],
      "text/plain": [
       "<IPython.core.display.HTML object>"
      ]
     },
     "metadata": {},
     "output_type": "display_data"
    }
   ],
   "source": [
    "# Basic column plot\n",
    "display_charts(screenline_df, title=\"AADT\", kind='bar')"
   ]
  },
  {
   "cell_type": "markdown",
   "metadata": {},
   "source": [
    "## VMT by Time of Day"
   ]
  },
  {
   "cell_type": "code",
   "execution_count": 140,
   "metadata": {
    "collapsed": false
   },
   "outputs": [
    {
     "data": {
      "text/html": [
       "<div id=\"chart_idELtvatKB\"</div>\n",
       "    <script type=\"text/javascript\">new Highcharts.Chart({\"title\":{\"text\":\"Daily VMT\"},\"series\":[{\"data\":[[\"am\",5048713],[\"md\",12729522],[\"pm\",8274675],[\"ev\",4256450],[\"ni\",5576766]],\"name\":\"arterial_vmt\",\"yAxis\":0},{\"data\":[[\"am\",6280168],[\"md\",13231420],[\"pm\",8074526],[\"ev\",3943883],[\"ni\",6808910]],\"name\":\"highway_vmt\",\"yAxis\":0}],\"yAxis\":[{}],\"chart\":{\"renderTo\":\"chart_idELtvatKB\",\"type\":\"bar\"},\"xAxis\":{\"categories\":[\"am\",\"md\",\"pm\",\"ev\",\"ni\"],\"title\":{\"text\":\"TP_4k\"}},\"legend\":{\"enabled\":true}});</script>"
      ],
      "text/plain": [
       "<IPython.core.display.HTML object>"
      ]
     },
     "metadata": {},
     "output_type": "display_data"
    }
   ],
   "source": [
    "# Basic column plot\n",
    "display_charts(vmt.groupby('TP_4k').sum().ix[['am','md','pm','ev','ni']], \n",
    "               title=\"Daily VMT\", kind='barh')"
   ]
  },
  {
   "cell_type": "code",
   "execution_count": null,
   "metadata": {
    "collapsed": true
   },
   "outputs": [],
   "source": []
  },
  {
   "cell_type": "code",
   "execution_count": null,
   "metadata": {
    "collapsed": true
   },
   "outputs": [],
   "source": []
  },
  {
   "cell_type": "code",
   "execution_count": 107,
   "metadata": {
    "collapsed": false
   },
   "outputs": [],
   "source": [
    "art_vmt = df[['arterial_vmt','TP_4k']].dropna()"
   ]
  },
  {
   "cell_type": "code",
   "execution_count": 108,
   "metadata": {
    "collapsed": false
   },
   "outputs": [],
   "source": [
    "art_vmt['arterial_vmt'] = art_vmt['arterial_vmt'].astype('int')"
   ]
  },
  {
   "cell_type": "code",
   "execution_count": 115,
   "metadata": {
    "collapsed": false
   },
   "outputs": [],
   "source": [
    "tod_arterial_delay = art_vmt.groupby('TP_4k').sum()"
   ]
  },
  {
   "cell_type": "code",
   "execution_count": 122,
   "metadata": {
    "collapsed": false
   },
   "outputs": [
    {
     "data": {
      "text/html": [
       "<div>\n",
       "<table border=\"1\" class=\"dataframe\">\n",
       "  <thead>\n",
       "    <tr style=\"text-align: right;\">\n",
       "      <th>TP_4k</th>\n",
       "      <th>am</th>\n",
       "    </tr>\n",
       "  </thead>\n",
       "  <tbody>\n",
       "    <tr>\n",
       "      <th>arterial_vmt</th>\n",
       "      <td>5048713</td>\n",
       "    </tr>\n",
       "  </tbody>\n",
       "</table>\n",
       "</div>"
      ],
      "text/plain": [
       "TP_4k              am\n",
       "arterial_vmt  5048713"
      ]
     },
     "execution_count": 122,
     "metadata": {},
     "output_type": "execute_result"
    }
   ],
   "source": [
    "tod_arterial_delay.T[['am']]"
   ]
  },
  {
   "cell_type": "code",
   "execution_count": 129,
   "metadata": {
    "collapsed": false
   },
   "outputs": [],
   "source": [
    "vmt = df[['arterial_vmt','highway_vmt','TP_4k']].dropna()"
   ]
  },
  {
   "cell_type": "code",
   "execution_count": 131,
   "metadata": {
    "collapsed": true
   },
   "outputs": [],
   "source": [
    "vmt['highway_vmt'] = vmt['highway_vmt'].astype('int')\n",
    "vmt['arterial_vmt'] = vmt['arterial_vmt'].astype('int')"
   ]
  },
  {
   "cell_type": "code",
   "execution_count": 138,
   "metadata": {
    "collapsed": false
   },
   "outputs": [
    {
     "data": {
      "text/html": [
       "<div>\n",
       "<table border=\"1\" class=\"dataframe\">\n",
       "  <thead>\n",
       "    <tr style=\"text-align: right;\">\n",
       "      <th></th>\n",
       "      <th>arterial_vmt</th>\n",
       "      <th>highway_vmt</th>\n",
       "    </tr>\n",
       "    <tr>\n",
       "      <th>TP_4k</th>\n",
       "      <th></th>\n",
       "      <th></th>\n",
       "    </tr>\n",
       "  </thead>\n",
       "  <tbody>\n",
       "    <tr>\n",
       "      <th>am</th>\n",
       "      <td>5048713</td>\n",
       "      <td>6280168</td>\n",
       "    </tr>\n",
       "    <tr>\n",
       "      <th>md</th>\n",
       "      <td>12729522</td>\n",
       "      <td>13231420</td>\n",
       "    </tr>\n",
       "  </tbody>\n",
       "</table>\n",
       "</div>"
      ],
      "text/plain": [
       "       arterial_vmt  highway_vmt\n",
       "TP_4k                           \n",
       "am          5048713      6280168\n",
       "md         12729522     13231420"
      ]
     },
     "execution_count": 138,
     "metadata": {},
     "output_type": "execute_result"
    }
   ],
   "source": [
    "vmt.groupby('TP_4k').sum()"
   ]
  },
  {
   "cell_type": "code",
   "execution_count": null,
   "metadata": {
    "collapsed": true
   },
   "outputs": [],
   "source": []
  },
  {
   "cell_type": "code",
   "execution_count": null,
   "metadata": {
    "collapsed": true
   },
   "outputs": [],
   "source": []
  },
  {
   "cell_type": "code",
   "execution_count": null,
   "metadata": {
    "collapsed": true
   },
   "outputs": [],
   "source": []
  },
  {
   "cell_type": "code",
   "execution_count": null,
   "metadata": {
    "collapsed": true
   },
   "outputs": [],
   "source": []
  },
  {
   "cell_type": "code",
   "execution_count": 20,
   "metadata": {
    "collapsed": false
   },
   "outputs": [
    {
     "ename": "NameError",
     "evalue": "name 'screenline_dict' is not defined",
     "output_type": "error",
     "traceback": [
      "\u001b[1;31m---------------------------------------------------------------------------\u001b[0m",
      "\u001b[1;31mNameError\u001b[0m                                 Traceback (most recent call last)",
      "\u001b[1;32m<ipython-input-20-f398567a4574>\u001b[0m in \u001b[0;36m<module>\u001b[1;34m()\u001b[0m\n\u001b[0;32m      2\u001b[0m \u001b[0mscreenline_names\u001b[0m \u001b[1;33m=\u001b[0m \u001b[0mpd\u001b[0m\u001b[1;33m.\u001b[0m\u001b[0mread_json\u001b[0m\u001b[1;33m(\u001b[0m\u001b[1;34m'inputs/screenline_dict.json'\u001b[0m\u001b[1;33m,\u001b[0m\u001b[0morient\u001b[0m\u001b[1;33m=\u001b[0m\u001b[1;34m'values'\u001b[0m\u001b[1;33m)\u001b[0m\u001b[1;33m\u001b[0m\u001b[0m\n\u001b[0;32m      3\u001b[0m \u001b[0mscreenline_names\u001b[0m\u001b[1;33m[\u001b[0m\u001b[1;34m'id'\u001b[0m\u001b[1;33m]\u001b[0m \u001b[1;33m=\u001b[0m \u001b[0mscreenline_names\u001b[0m\u001b[1;33m.\u001b[0m\u001b[0mindex\u001b[0m\u001b[1;33m\u001b[0m\u001b[0m\n\u001b[1;32m----> 4\u001b[1;33m \u001b[0mscreenline_data\u001b[0m \u001b[1;33m=\u001b[0m \u001b[0mpd\u001b[0m\u001b[1;33m.\u001b[0m\u001b[0mDataFrame\u001b[0m\u001b[1;33m(\u001b[0m\u001b[0mscreenline_dict\u001b[0m\u001b[1;33m.\u001b[0m\u001b[0mvalues\u001b[0m\u001b[1;33m(\u001b[0m\u001b[1;33m)\u001b[0m\u001b[1;33m,\u001b[0m \u001b[0mindex\u001b[0m\u001b[1;33m=\u001b[0m\u001b[0mscreenline_dict\u001b[0m\u001b[1;33m.\u001b[0m\u001b[0mkeys\u001b[0m\u001b[1;33m(\u001b[0m\u001b[1;33m)\u001b[0m\u001b[1;33m,\u001b[0m\u001b[0mcolumns\u001b[0m\u001b[1;33m=\u001b[0m\u001b[1;33m[\u001b[0m\u001b[1;34m'volume'\u001b[0m\u001b[1;33m]\u001b[0m\u001b[1;33m)\u001b[0m\u001b[1;33m\u001b[0m\u001b[0m\n\u001b[0m\u001b[0;32m      5\u001b[0m \u001b[0mscreenline_data\u001b[0m\u001b[1;33m[\u001b[0m\u001b[1;34m'id'\u001b[0m\u001b[1;33m]\u001b[0m \u001b[1;33m=\u001b[0m \u001b[0mscreenline_data\u001b[0m\u001b[1;33m.\u001b[0m\u001b[0mindex\u001b[0m\u001b[1;33m.\u001b[0m\u001b[0mastype\u001b[0m\u001b[1;33m(\u001b[0m\u001b[1;34m'float64'\u001b[0m\u001b[1;33m)\u001b[0m\u001b[1;33m\u001b[0m\u001b[0m\n\u001b[0;32m      6\u001b[0m \u001b[0mscreenline_data\u001b[0m \u001b[1;33m=\u001b[0m \u001b[0mpd\u001b[0m\u001b[1;33m.\u001b[0m\u001b[0mmerge\u001b[0m\u001b[1;33m(\u001b[0m\u001b[0mscreenline_data\u001b[0m\u001b[1;33m,\u001b[0m \u001b[0mscreenline_names\u001b[0m\u001b[1;33m)\u001b[0m\u001b[1;33m\u001b[0m\u001b[0m\n",
      "\u001b[1;31mNameError\u001b[0m: name 'screenline_dict' is not defined"
     ]
    }
   ],
   "source": [
    "    # Re-form screenlines for export to db\n",
    "screenline_names = pd.read_json('inputs/screenline_dict.json',orient='values')\n",
    "screenline_names['id'] = screenline_names.index\n",
    "screenline_data = pd.DataFrame(screenline_dict.values(), index=screenline_dict.keys(),columns=['volume'])\n",
    "screenline_data['id'] = screenline_data.index.astype('float64')\n",
    "screenline_data = pd.merge(screenline_data, screenline_names)\n",
    "screenline_data.fillna('',inplace=True)\n",
    "screenline_data\n",
    "screenline_data.index = screenline_data['Primary']+screenline_data['Secondary']\n",
    "screenline_data.groupby(screenline_data.index).sum()[['volume']].T    # auburn has 2 values; need to be combined"
   ]
  },
  {
   "cell_type": "code",
   "execution_count": 11,
   "metadata": {
    "collapsed": false
   },
   "outputs": [
    {
     "data": {
      "text/html": [
       "<div>\n",
       "<table border=\"1\" class=\"dataframe\">\n",
       "  <thead>\n",
       "    <tr style=\"text-align: right;\">\n",
       "      <th></th>\n",
       "      <th>volume</th>\n",
       "    </tr>\n",
       "  </thead>\n",
       "  <tbody>\n",
       "    <tr>\n",
       "      <th>Agate Pass</th>\n",
       "      <td>21931.847168</td>\n",
       "    </tr>\n",
       "    <tr>\n",
       "      <th>Auburn</th>\n",
       "      <td>540059.208495</td>\n",
       "    </tr>\n",
       "    <tr>\n",
       "      <th>Bellevue/Redmond</th>\n",
       "      <td>353758.547852</td>\n",
       "    </tr>\n",
       "    <tr>\n",
       "      <th>Bothell</th>\n",
       "      <td>288796.929200</td>\n",
       "    </tr>\n",
       "    <tr>\n",
       "      <th>Cross-Sound</th>\n",
       "      <td>26878.771850</td>\n",
       "    </tr>\n",
       "    <tr>\n",
       "      <th>Gig Harbor</th>\n",
       "      <td>82340.605590</td>\n",
       "    </tr>\n",
       "    <tr>\n",
       "      <th>Kent</th>\n",
       "      <td>524684.136721</td>\n",
       "    </tr>\n",
       "    <tr>\n",
       "      <th>Kirkland/Redmond</th>\n",
       "      <td>416189.220702</td>\n",
       "    </tr>\n",
       "    <tr>\n",
       "      <th>Kitsap - North</th>\n",
       "      <td>78738.823122</td>\n",
       "    </tr>\n",
       "    <tr>\n",
       "      <th>Lynnwood/Bothell</th>\n",
       "      <td>266003.998536</td>\n",
       "    </tr>\n",
       "    <tr>\n",
       "      <th>Maple Valley</th>\n",
       "      <td>56548.135743</td>\n",
       "    </tr>\n",
       "    <tr>\n",
       "      <th>Mill Creek</th>\n",
       "      <td>372797.083983</td>\n",
       "    </tr>\n",
       "    <tr>\n",
       "      <th>Parkland</th>\n",
       "      <td>258874.246582</td>\n",
       "    </tr>\n",
       "    <tr>\n",
       "      <th>Preston, Issaquah</th>\n",
       "      <td>89575.655029</td>\n",
       "    </tr>\n",
       "    <tr>\n",
       "      <th>Puyallup</th>\n",
       "      <td>112699.591308</td>\n",
       "    </tr>\n",
       "    <tr>\n",
       "      <th>Renton</th>\n",
       "      <td>68484.161012</td>\n",
       "    </tr>\n",
       "    <tr>\n",
       "      <th>SeaTac</th>\n",
       "      <td>84773.165039</td>\n",
       "    </tr>\n",
       "    <tr>\n",
       "      <th>Seattle - North</th>\n",
       "      <td>360121.720702</td>\n",
       "    </tr>\n",
       "    <tr>\n",
       "      <th>Seattle - South of CBD</th>\n",
       "      <td>480540.605469</td>\n",
       "    </tr>\n",
       "    <tr>\n",
       "      <th>Ship Canal</th>\n",
       "      <td>544557.249999</td>\n",
       "    </tr>\n",
       "    <tr>\n",
       "      <th>Tacoma - East of CBD</th>\n",
       "      <td>304212.705080</td>\n",
       "    </tr>\n",
       "    <tr>\n",
       "      <th>Tacoma Narrows</th>\n",
       "      <td>87304.585692</td>\n",
       "    </tr>\n",
       "    <tr>\n",
       "      <th>TransLake</th>\n",
       "      <td>253538.095704</td>\n",
       "    </tr>\n",
       "    <tr>\n",
       "      <th>Tukwila</th>\n",
       "      <td>227292.615723</td>\n",
       "    </tr>\n",
       "    <tr>\n",
       "      <th>Woodinville</th>\n",
       "      <td>114669.708008</td>\n",
       "    </tr>\n",
       "  </tbody>\n",
       "</table>\n",
       "</div>"
      ],
      "text/plain": [
       "                               volume\n",
       "Agate Pass               21931.847168\n",
       "Auburn                  540059.208495\n",
       "Bellevue/Redmond        353758.547852\n",
       "Bothell                 288796.929200\n",
       "Cross-Sound              26878.771850\n",
       "Gig Harbor               82340.605590\n",
       "Kent                    524684.136721\n",
       "Kirkland/Redmond        416189.220702\n",
       "Kitsap - North           78738.823122\n",
       "Lynnwood/Bothell        266003.998536\n",
       "Maple Valley             56548.135743\n",
       "Mill Creek              372797.083983\n",
       "Parkland                258874.246582\n",
       "Preston, Issaquah        89575.655029\n",
       "Puyallup                112699.591308\n",
       "Renton                   68484.161012\n",
       "SeaTac                   84773.165039\n",
       "Seattle - North         360121.720702\n",
       "Seattle - South of CBD  480540.605469\n",
       "Ship Canal              544557.249999\n",
       "Tacoma - East of CBD    304212.705080\n",
       "Tacoma Narrows           87304.585692\n",
       "TransLake               253538.095704\n",
       "Tukwila                 227292.615723\n",
       "Woodinville             114669.708008"
      ]
     },
     "execution_count": 11,
     "metadata": {},
     "output_type": "execute_result"
    }
   ],
   "source": []
  },
  {
   "cell_type": "code",
   "execution_count": null,
   "metadata": {
    "collapsed": true
   },
   "outputs": [],
   "source": [
    "    # Re-form screenlines for export to db\n",
    "screenline_names = pd.read_json('inputs/screenline_dict.json',orient='values')\n",
    "screenline_names['id'] = screenline_names.index\n",
    "screenline_data = pd.DataFrame(screenline_dict.values(), index=screenline_dict.keys(),columns=['volume'])\n",
    "screenline_data['id'] = screenline_data.index.astype('float64')\n",
    "screenline_data = pd.merge(screenline_data, screenline_names)\n",
    "screenline_data.fillna('',inplace=True)\n",
    "screenline_data.index = screenline_data['Primary']+screenline_data['Secondary']\n",
    "# Need to combine the 2 Auburn screenlines, can't have duplicate column names in SQL\n"
   ]
  },
  {
   "cell_type": "code",
   "execution_count": null,
   "metadata": {
    "collapsed": true
   },
   "outputs": [],
   "source": [
    "#*******write out screenlines\n",
    "screenline_df = pd.DataFrame()\n",
    "screenline_df['Screenline'] = screenline_dict.keys()\n",
    "screenline_df['Volumes'] = screenline_dict.values()\n",
    "screenline_df.to_excel(excel_writer = writer, sheet_name = 'Screenline Volumes')\n",
    "\n",
    "uc_vmt_df = pd.DataFrame(columns = uc_list, index = uc_vmt_dict.keys())\n",
    "for colnum in range(len(uc_list)):\n",
    "    for index in uc_vmt_dict.keys():\n",
    "        uc_vmt_df[uc_list[colnum]][index] = uc_vmt_dict[index][colnum]\n",
    "uc_vmt_df = uc_vmt_df.sort_index()\n",
    "uc_vmt_df.to_excel(excel_writer = writer, sheet_name = 'UC VMT')"
   ]
  },
  {
   "cell_type": "code",
   "execution_count": 91,
   "metadata": {
    "collapsed": false
   },
   "outputs": [],
   "source": [
    "primary_screenlines = pd.read_json('inputs/screenline_dict.json',orient='values')"
   ]
  },
  {
   "cell_type": "code",
   "execution_count": 118,
   "metadata": {
    "collapsed": false
   },
   "outputs": [],
   "source": [
    "screenline_dict\n",
    "df = pd.DataFrame(screenline_dict.values(), index=screenline_dict.keys(),columns=['volume'])"
   ]
  },
  {
   "cell_type": "code",
   "execution_count": 119,
   "metadata": {
    "collapsed": false
   },
   "outputs": [],
   "source": [
    "df['id'] = df.index.astype('float64')"
   ]
  },
  {
   "cell_type": "code",
   "execution_count": 120,
   "metadata": {
    "collapsed": false
   },
   "outputs": [],
   "source": [
    "primary_screenlines['id'] = primary_screenlines.index"
   ]
  },
  {
   "cell_type": "code",
   "execution_count": 152,
   "metadata": {
    "collapsed": false
   },
   "outputs": [
    {
     "ename": "SyntaxError",
     "evalue": "invalid syntax (<ipython-input-152-28554ed3f419>, line 1)",
     "output_type": "error",
     "traceback": [
      "\u001b[1;36m  File \u001b[1;32m\"<ipython-input-152-28554ed3f419>\"\u001b[1;36m, line \u001b[1;32m1\u001b[0m\n\u001b[1;33m    screenline_data = [pd.merge(df, primary_screenlines].fillna('',inplace=True)\u001b[0m\n\u001b[1;37m                                                       ^\u001b[0m\n\u001b[1;31mSyntaxError\u001b[0m\u001b[1;31m:\u001b[0m invalid syntax\n"
     ]
    }
   ],
   "source": [
    "screenline_data = [pd.merge(df, primary_screenlines].fillna('',inplace=True)"
   ]
  },
  {
   "cell_type": "code",
   "execution_count": 148,
   "metadata": {
    "collapsed": false
   },
   "outputs": [
    {
     "ename": "TypeError",
     "evalue": "'NoneType' object has no attribute '__getitem__'",
     "output_type": "error",
     "traceback": [
      "\u001b[1;31m---------------------------------------------------------------------------\u001b[0m",
      "\u001b[1;31mTypeError\u001b[0m                                 Traceback (most recent call last)",
      "\u001b[1;32m<ipython-input-148-353b49605957>\u001b[0m in \u001b[0;36m<module>\u001b[1;34m()\u001b[0m\n\u001b[1;32m----> 1\u001b[1;33m \u001b[0mscreenline_data\u001b[0m\u001b[1;33m.\u001b[0m\u001b[0mindex\u001b[0m \u001b[1;33m=\u001b[0m \u001b[0mscreenline_data\u001b[0m\u001b[1;33m[\u001b[0m\u001b[1;34m'Primary'\u001b[0m\u001b[1;33m]\u001b[0m\u001b[1;33m+\u001b[0m\u001b[0mscreenline_data\u001b[0m\u001b[1;33m[\u001b[0m\u001b[1;34m'Secondary'\u001b[0m\u001b[1;33m]\u001b[0m\u001b[1;33m\u001b[0m\u001b[0m\n\u001b[0m\u001b[0;32m      2\u001b[0m \u001b[0mscreenline_data\u001b[0m\u001b[1;33m[\u001b[0m\u001b[1;33m[\u001b[0m\u001b[1;34m'volume'\u001b[0m\u001b[1;33m]\u001b[0m\u001b[1;33m]\u001b[0m\u001b[1;33m.\u001b[0m\u001b[0mT\u001b[0m\u001b[1;33m\u001b[0m\u001b[0m\n",
      "\u001b[1;31mTypeError\u001b[0m: 'NoneType' object has no attribute '__getitem__'"
     ]
    }
   ],
   "source": [
    "# screenline_data.index=screenline_data['id']\n",
    "screenline_data.fillna('',inplace=True)\n",
    "screenline_data.index = screenline_data['Primary']+screenline_data['Secondary']\n",
    "screenline_data[['volume']].T"
   ]
  },
  {
   "cell_type": "code",
   "execution_count": 135,
   "metadata": {
    "collapsed": false
   },
   "outputs": [
    {
     "data": {
      "text/html": [
       "<div>\n",
       "<table border=\"1\" class=\"dataframe\">\n",
       "  <thead>\n",
       "    <tr style=\"text-align: right;\">\n",
       "      <th></th>\n",
       "      <th>volume</th>\n",
       "      <th>Primary</th>\n",
       "    </tr>\n",
       "    <tr>\n",
       "      <th>id</th>\n",
       "      <th></th>\n",
       "      <th></th>\n",
       "    </tr>\n",
       "  </thead>\n",
       "  <tbody>\n",
       "    <tr>\n",
       "      <th>22</th>\n",
       "      <td>227292.615723</td>\n",
       "      <td>Tukwila</td>\n",
       "    </tr>\n",
       "    <tr>\n",
       "      <th>35</th>\n",
       "      <td>544557.249999</td>\n",
       "      <td>Ship Canal</td>\n",
       "    </tr>\n",
       "    <tr>\n",
       "      <th>46</th>\n",
       "      <td>372797.083983</td>\n",
       "      <td>Mill Creek</td>\n",
       "    </tr>\n",
       "    <tr>\n",
       "      <th>23</th>\n",
       "      <td>68484.161012</td>\n",
       "      <td>Renton</td>\n",
       "    </tr>\n",
       "    <tr>\n",
       "      <th>44</th>\n",
       "      <td>288796.929200</td>\n",
       "      <td>Bothell</td>\n",
       "    </tr>\n",
       "    <tr>\n",
       "      <th>43</th>\n",
       "      <td>266003.998536</td>\n",
       "      <td>Lynnwood/Bothell</td>\n",
       "    </tr>\n",
       "    <tr>\n",
       "      <th>41</th>\n",
       "      <td>360121.720702</td>\n",
       "      <td>Seattle - North</td>\n",
       "    </tr>\n",
       "    <tr>\n",
       "      <th>4</th>\n",
       "      <td>304212.705080</td>\n",
       "      <td>Tacoma - East of CBD</td>\n",
       "    </tr>\n",
       "    <tr>\n",
       "      <th>29</th>\n",
       "      <td>480540.605469</td>\n",
       "      <td>Seattle - South of CBD</td>\n",
       "    </tr>\n",
       "    <tr>\n",
       "      <th>14</th>\n",
       "      <td>269549.946288</td>\n",
       "      <td>Auburn</td>\n",
       "    </tr>\n",
       "    <tr>\n",
       "      <th>15</th>\n",
       "      <td>270509.262207</td>\n",
       "      <td>Auburn</td>\n",
       "    </tr>\n",
       "    <tr>\n",
       "      <th>32</th>\n",
       "      <td>253538.095704</td>\n",
       "      <td>TransLake</td>\n",
       "    </tr>\n",
       "    <tr>\n",
       "      <th>30</th>\n",
       "      <td>353758.547852</td>\n",
       "      <td>Bellevue/Redmond</td>\n",
       "    </tr>\n",
       "    <tr>\n",
       "      <th>37</th>\n",
       "      <td>416189.220702</td>\n",
       "      <td>Kirkland/Redmond</td>\n",
       "    </tr>\n",
       "  </tbody>\n",
       "</table>\n",
       "</div>"
      ],
      "text/plain": [
       "           volume                 Primary\n",
       "id                                       \n",
       "22  227292.615723                 Tukwila\n",
       "35  544557.249999              Ship Canal\n",
       "46  372797.083983              Mill Creek\n",
       "23   68484.161012                  Renton\n",
       "44  288796.929200                 Bothell\n",
       "43  266003.998536        Lynnwood/Bothell\n",
       "41  360121.720702         Seattle - North\n",
       "4   304212.705080    Tacoma - East of CBD\n",
       "29  480540.605469  Seattle - South of CBD\n",
       "14  269549.946288                  Auburn\n",
       "15  270509.262207                  Auburn\n",
       "32  253538.095704               TransLake\n",
       "30  353758.547852        Bellevue/Redmond\n",
       "37  416189.220702        Kirkland/Redmond"
      ]
     },
     "execution_count": 135,
     "metadata": {},
     "output_type": "execute_result"
    }
   ],
   "source": [
    "screenline_data[['volume','Primary']].dropna()"
   ]
  },
  {
   "cell_type": "code",
   "execution_count": null,
   "metadata": {
    "collapsed": true
   },
   "outputs": [],
   "source": []
  },
  {
   "cell_type": "code",
   "execution_count": 24,
   "metadata": {
    "collapsed": false
   },
   "outputs": [
    {
     "data": {
      "text/plain": [
       "{'delay': {'arterial': 19899.488281,\n",
       "  'connectors': -2e-06,\n",
       "  'highway': 14518.820312},\n",
       " 'vht': {'arterial': 75992.0,\n",
       "  'connectors': 18303.074219,\n",
       "  'highway': 56083.828125},\n",
       " 'vmt': {'arterial': 2043806.0,\n",
       "  'connectors': 280998.34375,\n",
       "  'highway': 2332174.75}}"
      ]
     },
     "execution_count": 24,
     "metadata": {},
     "output_type": "execute_result"
    }
   ],
   "source": [
    "ft_summary_dict['7to8']"
   ]
  },
  {
   "cell_type": "code",
   "execution_count": null,
   "metadata": {
    "collapsed": false
   },
   "outputs": [],
   "source": [
    "ft_summary_dict['7to8']"
   ]
  },
  {
   "cell_type": "code",
   "execution_count": 72,
   "metadata": {
    "collapsed": false
   },
   "outputs": [],
   "source": [
    "dict_highway = {}\n",
    "dict_arterial = {}\n",
    "dict_connector = {}\n",
    "for tod in tods:\n",
    "    dict_highway[tod] = {}\n",
    "    dict_arterial[tod] = {}\n",
    "    dict_connector[tod] = {}\n",
    "    for metric in ['delay', 'vht', 'vmt']:\n",
    "        dict_highway[tod][metric] = ft_summary_dict[tod][metric]['highway']\n",
    "        dict_arterial[tod][metric] = ft_summary_dict[tod][metric]['arterial']\n",
    "        dict_connector[tod][metric] = ft_summary_dict[tod][metric]['connectors']"
   ]
  },
  {
   "cell_type": "code",
   "execution_count": 135,
   "metadata": {
    "collapsed": false
   },
   "outputs": [],
   "source": [
    "def dict_to_df(input_dict, metric, facilities=['highway', 'arterial']):\n",
    "    '''converts triple-nested dict into Dataframe for a given facility type'''\n",
    "    mydict = {}\n",
    "    for tod in tods:\n",
    "        mydict[tod] = {}\n",
    "        for facility in facilities:\n",
    "            mydict[tod][facility] = input_dict[tod][metric][facility]\n",
    "    return pd.DataFrame(mydict)"
   ]
  },
  {
   "cell_type": "code",
   "execution_count": 136,
   "metadata": {
    "collapsed": false
   },
   "outputs": [
    {
     "data": {
      "text/plain": [
       "19899.488281"
      ]
     },
     "execution_count": 136,
     "metadata": {},
     "output_type": "execute_result"
    }
   ],
   "source": [
    "ft_summary_dict['7to8']['delay']['arterial']"
   ]
  },
  {
   "cell_type": "code",
   "execution_count": 137,
   "metadata": {
    "collapsed": false
   },
   "outputs": [],
   "source": [
    "facility_results = {}\n",
    "for metric in ['vmt','vht','delay']:\n",
    "    facility_results[metric] = dict_to_df(input_dict=ft_summary_dict, metric=metric)"
   ]
  },
  {
   "cell_type": "code",
   "execution_count": 158,
   "metadata": {
    "collapsed": false
   },
   "outputs": [
    {
     "data": {
      "text/html": [
       "<div>\n",
       "<table border=\"1\" class=\"dataframe\">\n",
       "  <thead>\n",
       "    <tr style=\"text-align: right;\">\n",
       "      <th></th>\n",
       "      <th>arterial</th>\n",
       "      <th>highway</th>\n",
       "    </tr>\n",
       "  </thead>\n",
       "  <tbody>\n",
       "    <tr>\n",
       "      <th>vmt</th>\n",
       "      <td>35886129.125</td>\n",
       "      <td>38338911.875</td>\n",
       "    </tr>\n",
       "  </tbody>\n",
       "</table>\n",
       "</div>"
      ],
      "text/plain": [
       "         arterial       highway\n",
       "vmt  35886129.125  38338911.875"
      ]
     },
     "execution_count": 158,
     "metadata": {},
     "output_type": "execute_result"
    }
   ],
   "source": [
    "pd.DataFrame(facility_results['vmt'].T.sum(),columns=['vmt']).T"
   ]
  },
  {
   "cell_type": "code",
   "execution_count": 44,
   "metadata": {
    "collapsed": false
   },
   "outputs": [
    {
     "data": {
      "text/plain": [
       "10to14    8898275.509766\n",
       "14to15    2521213.870117\n",
       "15to16    2764830.496094\n",
       "16to17    2689233.910157\n",
       "17to18    2887156.410156\n",
       "18to20    4046397.242188\n",
       "20to5     5879430.305664\n",
       "5to6      1083608.666870\n",
       "6to7      1954758.977051\n",
       "7to8      2402777.398437\n",
       "8to9      2092054.938477\n",
       "9to10     2141499.467773\n",
       "dtype: float64"
      ]
     },
     "execution_count": 44,
     "metadata": {},
     "output_type": "execute_result"
    }
   ],
   "source": [
    "pd.DataFrame(dict_highway).sum()"
   ]
  },
  {
   "cell_type": "code",
   "execution_count": 17,
   "metadata": {
    "collapsed": false
   },
   "outputs": [
    {
     "data": {
      "text/html": [
       "<div>\n",
       "<table border=\"1\" class=\"dataframe\">\n",
       "  <thead>\n",
       "    <tr style=\"text-align: right;\">\n",
       "      <th></th>\n",
       "      <th>arterial</th>\n",
       "      <th>connectors</th>\n",
       "      <th>highway</th>\n",
       "    </tr>\n",
       "  </thead>\n",
       "  <tbody>\n",
       "    <tr>\n",
       "      <th>0</th>\n",
       "      <td>14617.649414</td>\n",
       "      <td>-0.000002</td>\n",
       "      <td>7630.592773</td>\n",
       "    </tr>\n",
       "  </tbody>\n",
       "</table>\n",
       "</div>"
      ],
      "text/plain": [
       "       arterial  connectors      highway\n",
       "0  14617.649414   -0.000002  7630.592773"
      ]
     },
     "execution_count": 17,
     "metadata": {},
     "output_type": "execute_result"
    }
   ],
   "source": [
    "pd.DataFrame(net_stats['delay'].values(),index=net_stats['delay'].keys()).T"
   ]
  },
  {
   "cell_type": "code",
   "execution_count": 161,
   "metadata": {
    "collapsed": false
   },
   "outputs": [
    {
     "ename": "NameError",
     "evalue": "name 'con' is not defined",
     "output_type": "error",
     "traceback": [
      "\u001b[1;31m---------------------------------------------------------------------------\u001b[0m",
      "\u001b[1;31mNameError\u001b[0m                                 Traceback (most recent call last)",
      "\u001b[1;32m<ipython-input-161-629d44d7d4d8>\u001b[0m in \u001b[0;36m<module>\u001b[1;34m()\u001b[0m\n\u001b[1;32m----> 1\u001b[1;33m \u001b[0mcon\u001b[0m\u001b[1;33m\u001b[0m\u001b[0m\n\u001b[0m",
      "\u001b[1;31mNameError\u001b[0m: name 'con' is not defined"
     ]
    }
   ],
   "source": [
    "con"
   ]
  },
  {
   "cell_type": "code",
   "execution_count": null,
   "metadata": {
    "collapsed": true
   },
   "outputs": [],
   "source": []
  },
  {
   "cell_type": "code",
   "execution_count": 5,
   "metadata": {
    "collapsed": false
   },
   "outputs": [],
   "source": [
    "# Load the network summary script\n",
    "from EmmeProject import *\n",
    "from input_configuration import *"
   ]
  },
  {
   "cell_type": "code",
   "execution_count": 6,
   "metadata": {
    "collapsed": false
   },
   "outputs": [],
   "source": [
    "my_project = EmmeProject(r'D:\\soundcast\\soundcast\\projects\\LoadTripTables\\LoadTripTables.emp')"
   ]
  },
  {
   "cell_type": "code",
   "execution_count": null,
   "metadata": {
    "collapsed": true
   },
   "outputs": [],
   "source": []
  }
 ],
 "metadata": {
  "kernelspec": {
   "display_name": "Python 2",
   "language": "python",
   "name": "python2"
  },
  "language_info": {
   "codemirror_mode": {
    "name": "ipython",
    "version": 2
   },
   "file_extension": ".py",
   "mimetype": "text/x-python",
   "name": "python",
   "nbconvert_exporter": "python",
   "pygments_lexer": "ipython2",
   "version": "2.7.10"
  }
 },
 "nbformat": 4,
 "nbformat_minor": 0
}
