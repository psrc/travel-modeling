{
 "cells": [
  {
   "cell_type": "code",
   "execution_count": 33,
   "metadata": {},
   "outputs": [],
   "source": [
    "import pandas as pd"
   ]
  },
  {
   "cell_type": "code",
   "execution_count": 34,
   "metadata": {},
   "outputs": [],
   "source": [
    "df = pd.read_csv(r'C:\\Workspace\\testing_estimation_2023_new\\estimation\\AutoOwnership\\AutoOwnershipModel.F12',\n",
    "                 skiprows=3, delim_whitespace=True, nrows=59)\n",
    "df.columns = ['var_id','name','constrained','coef','pval']\n",
    "\n",
    "df_lookup = pd.read_csv(r'auto_ownership_variables.csv')\n",
    "df = df.merge(df_lookup, on='var_id')\n",
    "df = df[['variable','coef','pval','alt','constrained']]"
   ]
  },
  {
   "cell_type": "code",
   "execution_count": 35,
   "metadata": {},
   "outputs": [],
   "source": [
    "# NB: see here: https://github.com/RSGInc/DaySim/blob/master/DaySim/ChoiceModels/Default/Models/AutoOwnershipModel.cs#L176\n",
    "\n"
   ]
  },
  {
   "cell_type": "markdown",
   "metadata": {},
   "source": [
    "# Drivers"
   ]
  },
  {
   "cell_type": "code",
   "execution_count": 36,
   "metadata": {},
   "outputs": [
    {
     "data": {
      "text/html": [
       "<div>\n",
       "<style scoped>\n",
       "    .dataframe tbody tr th:only-of-type {\n",
       "        vertical-align: middle;\n",
       "    }\n",
       "\n",
       "    .dataframe tbody tr th {\n",
       "        vertical-align: top;\n",
       "    }\n",
       "\n",
       "    .dataframe thead th {\n",
       "        text-align: right;\n",
       "    }\n",
       "</style>\n",
       "<table border=\"1\" class=\"dataframe\">\n",
       "  <thead>\n",
       "    <tr style=\"text-align: right;\">\n",
       "      <th></th>\n",
       "      <th>variable</th>\n",
       "      <th>coef</th>\n",
       "      <th>pval</th>\n",
       "      <th>alt</th>\n",
       "      <th>constrained</th>\n",
       "    </tr>\n",
       "  </thead>\n",
       "  <tbody>\n",
       "    <tr>\n",
       "      <th>0</th>\n",
       "      <td>household.Has1Driver</td>\n",
       "      <td>-2.774107</td>\n",
       "      <td>0.110754</td>\n",
       "      <td>2</td>\n",
       "      <td>F</td>\n",
       "    </tr>\n",
       "    <tr>\n",
       "      <th>1</th>\n",
       "      <td>household.Has1Driver</td>\n",
       "      <td>-5.030301</td>\n",
       "      <td>0.245558</td>\n",
       "      <td>3</td>\n",
       "      <td>F</td>\n",
       "    </tr>\n",
       "    <tr>\n",
       "      <th>2</th>\n",
       "      <td>household.Has1Driver</td>\n",
       "      <td>-5.600053</td>\n",
       "      <td>0.302384</td>\n",
       "      <td>4</td>\n",
       "      <td>F</td>\n",
       "    </tr>\n",
       "  </tbody>\n",
       "</table>\n",
       "</div>"
      ],
      "text/plain": [
       "               variable      coef      pval  alt constrained\n",
       "0  household.Has1Driver -2.774107  0.110754    2           F\n",
       "1  household.Has1Driver -5.030301  0.245558    3           F\n",
       "2  household.Has1Driver -5.600053  0.302384    4           F"
      ]
     },
     "execution_count": 36,
     "metadata": {},
     "output_type": "execute_result"
    }
   ],
   "source": [
    "df[df['variable'] == \"household.Has1Driver\"]"
   ]
  },
  {
   "cell_type": "code",
   "execution_count": 37,
   "metadata": {},
   "outputs": [
    {
     "data": {
      "text/html": [
       "<div>\n",
       "<style scoped>\n",
       "    .dataframe tbody tr th:only-of-type {\n",
       "        vertical-align: middle;\n",
       "    }\n",
       "\n",
       "    .dataframe tbody tr th {\n",
       "        vertical-align: top;\n",
       "    }\n",
       "\n",
       "    .dataframe thead th {\n",
       "        text-align: right;\n",
       "    }\n",
       "</style>\n",
       "<table border=\"1\" class=\"dataframe\">\n",
       "  <thead>\n",
       "    <tr style=\"text-align: right;\">\n",
       "      <th></th>\n",
       "      <th>variable</th>\n",
       "      <th>coef</th>\n",
       "      <th>pval</th>\n",
       "      <th>alt</th>\n",
       "      <th>constrained</th>\n",
       "    </tr>\n",
       "  </thead>\n",
       "  <tbody>\n",
       "    <tr>\n",
       "      <th>3</th>\n",
       "      <td>household.Has2Drivers</td>\n",
       "      <td>-2.432203</td>\n",
       "      <td>0.258371</td>\n",
       "      <td>0</td>\n",
       "      <td>F</td>\n",
       "    </tr>\n",
       "    <tr>\n",
       "      <th>4</th>\n",
       "      <td>household.Has2Drivers</td>\n",
       "      <td>-1.306173</td>\n",
       "      <td>0.152490</td>\n",
       "      <td>1</td>\n",
       "      <td>F</td>\n",
       "    </tr>\n",
       "    <tr>\n",
       "      <th>5</th>\n",
       "      <td>household.Has2Drivers</td>\n",
       "      <td>-1.993983</td>\n",
       "      <td>0.160424</td>\n",
       "      <td>3</td>\n",
       "      <td>F</td>\n",
       "    </tr>\n",
       "    <tr>\n",
       "      <th>6</th>\n",
       "      <td>household.Has2Drivers</td>\n",
       "      <td>-2.851740</td>\n",
       "      <td>0.239560</td>\n",
       "      <td>4</td>\n",
       "      <td>F</td>\n",
       "    </tr>\n",
       "  </tbody>\n",
       "</table>\n",
       "</div>"
      ],
      "text/plain": [
       "                variable      coef      pval  alt constrained\n",
       "3  household.Has2Drivers -2.432203  0.258371    0           F\n",
       "4  household.Has2Drivers -1.306173  0.152490    1           F\n",
       "5  household.Has2Drivers -1.993983  0.160424    3           F\n",
       "6  household.Has2Drivers -2.851740  0.239560    4           F"
      ]
     },
     "execution_count": 37,
     "metadata": {},
     "output_type": "execute_result"
    }
   ],
   "source": [
    "df[df['variable'] == \"household.Has2Drivers\"]"
   ]
  },
  {
   "cell_type": "code",
   "execution_count": 38,
   "metadata": {},
   "outputs": [
    {
     "data": {
      "text/html": [
       "<div>\n",
       "<style scoped>\n",
       "    .dataframe tbody tr th:only-of-type {\n",
       "        vertical-align: middle;\n",
       "    }\n",
       "\n",
       "    .dataframe tbody tr th {\n",
       "        vertical-align: top;\n",
       "    }\n",
       "\n",
       "    .dataframe thead th {\n",
       "        text-align: right;\n",
       "    }\n",
       "</style>\n",
       "<table border=\"1\" class=\"dataframe\">\n",
       "  <thead>\n",
       "    <tr style=\"text-align: right;\">\n",
       "      <th></th>\n",
       "      <th>variable</th>\n",
       "      <th>coef</th>\n",
       "      <th>pval</th>\n",
       "      <th>alt</th>\n",
       "      <th>constrained</th>\n",
       "    </tr>\n",
       "  </thead>\n",
       "  <tbody>\n",
       "    <tr>\n",
       "      <th>7</th>\n",
       "      <td>household.Has3Drivers</td>\n",
       "      <td>-0.815114</td>\n",
       "      <td>0.410478</td>\n",
       "      <td>0</td>\n",
       "      <td>F</td>\n",
       "    </tr>\n",
       "    <tr>\n",
       "      <th>8</th>\n",
       "      <td>household.Has3Drivers</td>\n",
       "      <td>-0.530343</td>\n",
       "      <td>0.251871</td>\n",
       "      <td>1</td>\n",
       "      <td>F</td>\n",
       "    </tr>\n",
       "    <tr>\n",
       "      <th>9</th>\n",
       "      <td>household.Has3Drivers</td>\n",
       "      <td>0.270093</td>\n",
       "      <td>0.216053</td>\n",
       "      <td>2</td>\n",
       "      <td>F</td>\n",
       "    </tr>\n",
       "    <tr>\n",
       "      <th>10</th>\n",
       "      <td>household.Has3Drivers</td>\n",
       "      <td>-0.645268</td>\n",
       "      <td>0.300245</td>\n",
       "      <td>4</td>\n",
       "      <td>F</td>\n",
       "    </tr>\n",
       "  </tbody>\n",
       "</table>\n",
       "</div>"
      ],
      "text/plain": [
       "                 variable      coef      pval  alt constrained\n",
       "7   household.Has3Drivers -0.815114  0.410478    0           F\n",
       "8   household.Has3Drivers -0.530343  0.251871    1           F\n",
       "9   household.Has3Drivers  0.270093  0.216053    2           F\n",
       "10  household.Has3Drivers -0.645268  0.300245    4           F"
      ]
     },
     "execution_count": 38,
     "metadata": {},
     "output_type": "execute_result"
    }
   ],
   "source": [
    "df[df['variable'] == \"household.Has3Drivers\"]"
   ]
  },
  {
   "cell_type": "code",
   "execution_count": 39,
   "metadata": {},
   "outputs": [
    {
     "data": {
      "text/html": [
       "<div>\n",
       "<style scoped>\n",
       "    .dataframe tbody tr th:only-of-type {\n",
       "        vertical-align: middle;\n",
       "    }\n",
       "\n",
       "    .dataframe tbody tr th {\n",
       "        vertical-align: top;\n",
       "    }\n",
       "\n",
       "    .dataframe thead th {\n",
       "        text-align: right;\n",
       "    }\n",
       "</style>\n",
       "<table border=\"1\" class=\"dataframe\">\n",
       "  <thead>\n",
       "    <tr style=\"text-align: right;\">\n",
       "      <th></th>\n",
       "      <th>variable</th>\n",
       "      <th>coef</th>\n",
       "      <th>pval</th>\n",
       "      <th>alt</th>\n",
       "      <th>constrained</th>\n",
       "    </tr>\n",
       "  </thead>\n",
       "  <tbody>\n",
       "    <tr>\n",
       "      <th>11</th>\n",
       "      <td>household.Has4OrMoreDrivers</td>\n",
       "      <td>-2.003764</td>\n",
       "      <td>0.835959</td>\n",
       "      <td>0</td>\n",
       "      <td>F</td>\n",
       "    </tr>\n",
       "    <tr>\n",
       "      <th>12</th>\n",
       "      <td>household.Has4OrMoreDrivers</td>\n",
       "      <td>-1.708781</td>\n",
       "      <td>0.434940</td>\n",
       "      <td>1</td>\n",
       "      <td>F</td>\n",
       "    </tr>\n",
       "    <tr>\n",
       "      <th>13</th>\n",
       "      <td>household.Has4OrMoreDrivers</td>\n",
       "      <td>-0.064784</td>\n",
       "      <td>0.329509</td>\n",
       "      <td>2</td>\n",
       "      <td>F</td>\n",
       "    </tr>\n",
       "    <tr>\n",
       "      <th>14</th>\n",
       "      <td>household.Has4OrMoreDrivers</td>\n",
       "      <td>-0.485180</td>\n",
       "      <td>0.346626</td>\n",
       "      <td>3</td>\n",
       "      <td>F</td>\n",
       "    </tr>\n",
       "  </tbody>\n",
       "</table>\n",
       "</div>"
      ],
      "text/plain": [
       "                       variable      coef      pval  alt constrained\n",
       "11  household.Has4OrMoreDrivers -2.003764  0.835959    0           F\n",
       "12  household.Has4OrMoreDrivers -1.708781  0.434940    1           F\n",
       "13  household.Has4OrMoreDrivers -0.064784  0.329509    2           F\n",
       "14  household.Has4OrMoreDrivers -0.485180  0.346626    3           F"
      ]
     },
     "execution_count": 39,
     "metadata": {},
     "output_type": "execute_result"
    }
   ],
   "source": [
    "df[df['variable'] == \"household.Has4OrMoreDrivers\"]"
   ]
  },
  {
   "cell_type": "markdown",
   "metadata": {},
   "source": [
    "# Income"
   ]
  },
  {
   "cell_type": "code",
   "execution_count": 40,
   "metadata": {},
   "outputs": [
    {
     "data": {
      "text/html": [
       "<div>\n",
       "<style scoped>\n",
       "    .dataframe tbody tr th:only-of-type {\n",
       "        vertical-align: middle;\n",
       "    }\n",
       "\n",
       "    .dataframe tbody tr th {\n",
       "        vertical-align: top;\n",
       "    }\n",
       "\n",
       "    .dataframe thead th {\n",
       "        text-align: right;\n",
       "    }\n",
       "</style>\n",
       "<table border=\"1\" class=\"dataframe\">\n",
       "  <thead>\n",
       "    <tr style=\"text-align: right;\">\n",
       "      <th></th>\n",
       "      <th>variable</th>\n",
       "      <th>coef</th>\n",
       "      <th>pval</th>\n",
       "      <th>alt</th>\n",
       "      <th>constrained</th>\n",
       "    </tr>\n",
       "  </thead>\n",
       "  <tbody>\n",
       "    <tr>\n",
       "      <th>37</th>\n",
       "      <td>household.Has0To15KIncome</td>\n",
       "      <td>2.086877</td>\n",
       "      <td>0.359149</td>\n",
       "      <td>0</td>\n",
       "      <td>F</td>\n",
       "    </tr>\n",
       "    <tr>\n",
       "      <th>38</th>\n",
       "      <td>household.Has0To15KIncome</td>\n",
       "      <td>1.145101</td>\n",
       "      <td>0.348074</td>\n",
       "      <td>1</td>\n",
       "      <td>F</td>\n",
       "    </tr>\n",
       "    <tr>\n",
       "      <th>39</th>\n",
       "      <td>household.Has0To15KIncome</td>\n",
       "      <td>0.907965</td>\n",
       "      <td>0.572761</td>\n",
       "      <td>3</td>\n",
       "      <td>F</td>\n",
       "    </tr>\n",
       "    <tr>\n",
       "      <th>40</th>\n",
       "      <td>household.Has0To15KIncome</td>\n",
       "      <td>0.955487</td>\n",
       "      <td>0.809117</td>\n",
       "      <td>4</td>\n",
       "      <td>F</td>\n",
       "    </tr>\n",
       "  </tbody>\n",
       "</table>\n",
       "</div>"
      ],
      "text/plain": [
       "                     variable      coef      pval  alt constrained\n",
       "37  household.Has0To15KIncome  2.086877  0.359149    0           F\n",
       "38  household.Has0To15KIncome  1.145101  0.348074    1           F\n",
       "39  household.Has0To15KIncome  0.907965  0.572761    3           F\n",
       "40  household.Has0To15KIncome  0.955487  0.809117    4           F"
      ]
     },
     "execution_count": 40,
     "metadata": {},
     "output_type": "execute_result"
    }
   ],
   "source": [
    "df[df['variable'] == \"household.Has0To15KIncome\"]"
   ]
  },
  {
   "cell_type": "code",
   "execution_count": 41,
   "metadata": {},
   "outputs": [
    {
     "data": {
      "text/html": [
       "<div>\n",
       "<style scoped>\n",
       "    .dataframe tbody tr th:only-of-type {\n",
       "        vertical-align: middle;\n",
       "    }\n",
       "\n",
       "    .dataframe tbody tr th {\n",
       "        vertical-align: top;\n",
       "    }\n",
       "\n",
       "    .dataframe thead th {\n",
       "        text-align: right;\n",
       "    }\n",
       "</style>\n",
       "<table border=\"1\" class=\"dataframe\">\n",
       "  <thead>\n",
       "    <tr style=\"text-align: right;\">\n",
       "      <th></th>\n",
       "      <th>variable</th>\n",
       "      <th>coef</th>\n",
       "      <th>pval</th>\n",
       "      <th>alt</th>\n",
       "      <th>constrained</th>\n",
       "    </tr>\n",
       "  </thead>\n",
       "  <tbody>\n",
       "    <tr>\n",
       "      <th>41</th>\n",
       "      <td>household.Has50To75KIncome</td>\n",
       "      <td>-1.103341</td>\n",
       "      <td>0.170759</td>\n",
       "      <td>0</td>\n",
       "      <td>F</td>\n",
       "    </tr>\n",
       "    <tr>\n",
       "      <th>42</th>\n",
       "      <td>household.Has50To75KIncome</td>\n",
       "      <td>-0.421644</td>\n",
       "      <td>0.118621</td>\n",
       "      <td>1</td>\n",
       "      <td>F</td>\n",
       "    </tr>\n",
       "    <tr>\n",
       "      <th>43</th>\n",
       "      <td>household.Has50To75KIncome</td>\n",
       "      <td>0.367261</td>\n",
       "      <td>0.195177</td>\n",
       "      <td>3</td>\n",
       "      <td>F</td>\n",
       "    </tr>\n",
       "    <tr>\n",
       "      <th>44</th>\n",
       "      <td>household.Has50To75KIncome</td>\n",
       "      <td>0.229274</td>\n",
       "      <td>0.285737</td>\n",
       "      <td>4</td>\n",
       "      <td>F</td>\n",
       "    </tr>\n",
       "  </tbody>\n",
       "</table>\n",
       "</div>"
      ],
      "text/plain": [
       "                      variable      coef      pval  alt constrained\n",
       "41  household.Has50To75KIncome -1.103341  0.170759    0           F\n",
       "42  household.Has50To75KIncome -0.421644  0.118621    1           F\n",
       "43  household.Has50To75KIncome  0.367261  0.195177    3           F\n",
       "44  household.Has50To75KIncome  0.229274  0.285737    4           F"
      ]
     },
     "execution_count": 41,
     "metadata": {},
     "output_type": "execute_result"
    }
   ],
   "source": [
    "df[df['variable'] == \"household.Has50To75KIncome\"]"
   ]
  },
  {
   "cell_type": "code",
   "execution_count": 42,
   "metadata": {},
   "outputs": [
    {
     "data": {
      "text/html": [
       "<div>\n",
       "<style scoped>\n",
       "    .dataframe tbody tr th:only-of-type {\n",
       "        vertical-align: middle;\n",
       "    }\n",
       "\n",
       "    .dataframe tbody tr th {\n",
       "        vertical-align: top;\n",
       "    }\n",
       "\n",
       "    .dataframe thead th {\n",
       "        text-align: right;\n",
       "    }\n",
       "</style>\n",
       "<table border=\"1\" class=\"dataframe\">\n",
       "  <thead>\n",
       "    <tr style=\"text-align: right;\">\n",
       "      <th></th>\n",
       "      <th>variable</th>\n",
       "      <th>coef</th>\n",
       "      <th>pval</th>\n",
       "      <th>alt</th>\n",
       "      <th>constrained</th>\n",
       "    </tr>\n",
       "  </thead>\n",
       "  <tbody>\n",
       "    <tr>\n",
       "      <th>45</th>\n",
       "      <td>household.Has75KPlusIncome</td>\n",
       "      <td>-1.898595</td>\n",
       "      <td>0.154225</td>\n",
       "      <td>0</td>\n",
       "      <td>F</td>\n",
       "    </tr>\n",
       "    <tr>\n",
       "      <th>46</th>\n",
       "      <td>household.Has75KPlusIncome</td>\n",
       "      <td>-0.860366</td>\n",
       "      <td>0.099497</td>\n",
       "      <td>1</td>\n",
       "      <td>F</td>\n",
       "    </tr>\n",
       "    <tr>\n",
       "      <th>47</th>\n",
       "      <td>household.Has75KPlusIncome</td>\n",
       "      <td>0.624083</td>\n",
       "      <td>0.161810</td>\n",
       "      <td>3</td>\n",
       "      <td>F</td>\n",
       "    </tr>\n",
       "    <tr>\n",
       "      <th>48</th>\n",
       "      <td>household.Has75KPlusIncome</td>\n",
       "      <td>0.742983</td>\n",
       "      <td>0.233024</td>\n",
       "      <td>4</td>\n",
       "      <td>F</td>\n",
       "    </tr>\n",
       "  </tbody>\n",
       "</table>\n",
       "</div>"
      ],
      "text/plain": [
       "                      variable      coef      pval  alt constrained\n",
       "45  household.Has75KPlusIncome -1.898595  0.154225    0           F\n",
       "46  household.Has75KPlusIncome -0.860366  0.099497    1           F\n",
       "47  household.Has75KPlusIncome  0.624083  0.161810    3           F\n",
       "48  household.Has75KPlusIncome  0.742983  0.233024    4           F"
      ]
     },
     "execution_count": 42,
     "metadata": {},
     "output_type": "execute_result"
    }
   ],
   "source": [
    "df[df['variable'] == \"household.Has75KPlusIncome\"]"
   ]
  },
  {
   "cell_type": "code",
   "execution_count": 43,
   "metadata": {},
   "outputs": [
    {
     "data": {
      "text/html": [
       "<div>\n",
       "<style scoped>\n",
       "    .dataframe tbody tr th:only-of-type {\n",
       "        vertical-align: middle;\n",
       "    }\n",
       "\n",
       "    .dataframe tbody tr th {\n",
       "        vertical-align: top;\n",
       "    }\n",
       "\n",
       "    .dataframe thead th {\n",
       "        text-align: right;\n",
       "    }\n",
       "</style>\n",
       "<table border=\"1\" class=\"dataframe\">\n",
       "  <thead>\n",
       "    <tr style=\"text-align: right;\">\n",
       "      <th></th>\n",
       "      <th>variable</th>\n",
       "      <th>coef</th>\n",
       "      <th>pval</th>\n",
       "      <th>alt</th>\n",
       "      <th>constrained</th>\n",
       "    </tr>\n",
       "  </thead>\n",
       "  <tbody>\n",
       "    <tr>\n",
       "      <th>49</th>\n",
       "      <td>household.HasMissingIncome</td>\n",
       "      <td>-0.218090</td>\n",
       "      <td>0.143999</td>\n",
       "      <td>0</td>\n",
       "      <td>F</td>\n",
       "    </tr>\n",
       "    <tr>\n",
       "      <th>50</th>\n",
       "      <td>household.HasMissingIncome</td>\n",
       "      <td>-0.287296</td>\n",
       "      <td>0.142607</td>\n",
       "      <td>1</td>\n",
       "      <td>F</td>\n",
       "    </tr>\n",
       "    <tr>\n",
       "      <th>51</th>\n",
       "      <td>household.HasMissingIncome</td>\n",
       "      <td>0.814872</td>\n",
       "      <td>0.211601</td>\n",
       "      <td>3</td>\n",
       "      <td>F</td>\n",
       "    </tr>\n",
       "    <tr>\n",
       "      <th>52</th>\n",
       "      <td>household.HasMissingIncome</td>\n",
       "      <td>0.626132</td>\n",
       "      <td>0.295062</td>\n",
       "      <td>4</td>\n",
       "      <td>F</td>\n",
       "    </tr>\n",
       "  </tbody>\n",
       "</table>\n",
       "</div>"
      ],
      "text/plain": [
       "                      variable      coef      pval  alt constrained\n",
       "49  household.HasMissingIncome -0.218090  0.143999    0           F\n",
       "50  household.HasMissingIncome -0.287296  0.142607    1           F\n",
       "51  household.HasMissingIncome  0.814872  0.211601    3           F\n",
       "52  household.HasMissingIncome  0.626132  0.295062    4           F"
      ]
     },
     "execution_count": 43,
     "metadata": {},
     "output_type": "execute_result"
    }
   ],
   "source": [
    "df[df['variable'] == \"household.HasMissingIncome\"]"
   ]
  },
  {
   "cell_type": "markdown",
   "metadata": {},
   "source": [
    "# Workers"
   ]
  },
  {
   "cell_type": "markdown",
   "metadata": {},
   "source": [
    "# Person Type"
   ]
  },
  {
   "cell_type": "markdown",
   "metadata": {},
   "source": [
    "# Drivers vs Vehicles"
   ]
  },
  {
   "cell_type": "markdown",
   "metadata": {},
   "source": [
    "# Drivers vs Vehicles & Transit Access"
   ]
  },
  {
   "cell_type": "code",
   "execution_count": null,
   "metadata": {},
   "outputs": [],
   "source": [
    "var_base = \"Math.Log(1+household.ResidenceParcel.StopsTransitBuffer1)*household.HasMoreDriversThan\"\n",
    "col_list = []\n",
    "for col in df['variable']:\n",
    "    if var_base in col:\n",
    "       col_list.append(col)\n",
    "_df = df[df['variable'].isin(col_list)]\n",
    "_df"
   ]
  },
  {
   "cell_type": "markdown",
   "metadata": {},
   "source": [
    "# Drivers vs Vehicles & Jobs/Activity Access"
   ]
  },
  {
   "cell_type": "markdown",
   "metadata": {},
   "source": []
  },
  {
   "cell_type": "code",
   "execution_count": null,
   "metadata": {},
   "outputs": [],
   "source": [
    "df['variable'].unique()"
   ]
  },
  {
   "cell_type": "code",
   "execution_count": null,
   "metadata": {},
   "outputs": [],
   "source": [
    "df[df['alt'] == 4]"
   ]
  },
  {
   "cell_type": "code",
   "execution_count": null,
   "metadata": {},
   "outputs": [],
   "source": []
  }
 ],
 "metadata": {
  "kernelspec": {
   "display_name": "summary",
   "language": "python",
   "name": "python3"
  },
  "language_info": {
   "codemirror_mode": {
    "name": "ipython",
    "version": 3
   },
   "file_extension": ".py",
   "mimetype": "text/x-python",
   "name": "python",
   "nbconvert_exporter": "python",
   "pygments_lexer": "ipython3",
   "version": "3.7.10"
  }
 },
 "nbformat": 4,
 "nbformat_minor": 2
}
