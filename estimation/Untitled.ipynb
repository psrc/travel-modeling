{
 "cells": [
  {
   "cell_type": "code",
   "execution_count": 1,
   "metadata": {
    "collapsed": true
   },
   "outputs": [],
   "source": [
    "import pandas as pd"
   ]
  },
  {
   "cell_type": "code",
   "execution_count": 3,
   "metadata": {
    "collapsed": false
   },
   "outputs": [],
   "source": [
    "df = pd.read_csv(r'A:\\attach_skims\\test1.csv')"
   ]
  },
  {
   "cell_type": "code",
   "execution_count": 4,
   "metadata": {
    "collapsed": false
   },
   "outputs": [
    {
     "data": {
      "text/html": [
       "<div style=\"max-height:1000px;max-width:1500px;overflow:auto;\">\n",
       "<table border=\"1\" class=\"dataframe\">\n",
       "  <thead>\n",
       "    <tr style=\"text-align: right;\">\n",
       "      <th></th>\n",
       "      <th>Unnamed: 0</th>\n",
       "      <th>hhno</th>\n",
       "      <th>pno</th>\n",
       "      <th>day</th>\n",
       "      <th>tour</th>\n",
       "      <th>half</th>\n",
       "      <th>tseg</th>\n",
       "      <th>tsvid</th>\n",
       "      <th>opurp</th>\n",
       "      <th>dpurp</th>\n",
       "      <th>...</th>\n",
       "      <th>hrestype</th>\n",
       "      <th>hhparcel</th>\n",
       "      <th>hhtaz</th>\n",
       "      <th>hhexpfac</th>\n",
       "      <th>samptype</th>\n",
       "      <th>Toll Class</th>\n",
       "      <th>VOT Bin</th>\n",
       "      <th>dephr</th>\n",
       "      <th>mode code</th>\n",
       "      <th>skim_id</th>\n",
       "    </tr>\n",
       "  </thead>\n",
       "  <tbody>\n",
       "    <tr>\n",
       "      <th>0</th>\n",
       "      <td> 0</td>\n",
       "      <td> 300004</td>\n",
       "      <td> 1</td>\n",
       "      <td> 1</td>\n",
       "      <td> 1</td>\n",
       "      <td> 1</td>\n",
       "      <td> 1</td>\n",
       "      <td> 1</td>\n",
       "      <td> 0</td>\n",
       "      <td> 4</td>\n",
       "      <td>...</td>\n",
       "      <td>-1</td>\n",
       "      <td> 1747</td>\n",
       "      <td> 553</td>\n",
       "      <td> 16.514</td>\n",
       "      <td> 1</td>\n",
       "      <td> 1</td>\n",
       "      <td> 1</td>\n",
       "      <td> 10to14</td>\n",
       "      <td> ivtwa</td>\n",
       "      <td> ivtwa</td>\n",
       "    </tr>\n",
       "    <tr>\n",
       "      <th>1</th>\n",
       "      <td> 1</td>\n",
       "      <td> 300004</td>\n",
       "      <td> 1</td>\n",
       "      <td> 1</td>\n",
       "      <td> 1</td>\n",
       "      <td> 1</td>\n",
       "      <td> 2</td>\n",
       "      <td> 2</td>\n",
       "      <td> 4</td>\n",
       "      <td> 5</td>\n",
       "      <td>...</td>\n",
       "      <td>-1</td>\n",
       "      <td> 1747</td>\n",
       "      <td> 553</td>\n",
       "      <td> 16.514</td>\n",
       "      <td> 1</td>\n",
       "      <td> 1</td>\n",
       "      <td> 1</td>\n",
       "      <td> 15to16</td>\n",
       "      <td> ivtwa</td>\n",
       "      <td> ivtwa</td>\n",
       "    </tr>\n",
       "  </tbody>\n",
       "</table>\n",
       "<p>2 rows × 50 columns</p>\n",
       "</div>"
      ],
      "text/plain": [
       "   Unnamed: 0    hhno  pno  day  tour  half  tseg  tsvid  opurp  dpurp  \\\n",
       "0           0  300004    1    1     1     1     1      1      0      4   \n",
       "1           1  300004    1    1     1     1     2      2      4      5   \n",
       "\n",
       "    ...     hrestype  hhparcel  hhtaz  hhexpfac  samptype  Toll Class  \\\n",
       "0   ...           -1      1747    553    16.514         1           1   \n",
       "1   ...           -1      1747    553    16.514         1           1   \n",
       "\n",
       "   VOT Bin   dephr  mode code  skim_id  \n",
       "0        1  10to14      ivtwa    ivtwa  \n",
       "1        1  15to16      ivtwa    ivtwa  \n",
       "\n",
       "[2 rows x 50 columns]"
      ]
     },
     "execution_count": 4,
     "metadata": {},
     "output_type": "execute_result"
    }
   ],
   "source": [
    "# replace all mode \n",
    "df"
   ]
  },
  {
   "cell_type": "code",
   "execution_count": 16,
   "metadata": {
    "collapsed": false
   },
   "outputs": [],
   "source": [
    "df[df['mode code'].isin(['ivtwa','blah'])]['tseg'] = 88"
   ]
  },
  {
   "cell_type": "code",
   "execution_count": 21,
   "metadata": {
    "collapsed": false
   },
   "outputs": [],
   "source": []
  },
  {
   "cell_type": "code",
   "execution_count": 22,
   "metadata": {
    "collapsed": false
   },
   "outputs": [
    {
     "data": {
      "text/html": [
       "<div style=\"max-height:1000px;max-width:1500px;overflow:auto;\">\n",
       "<table border=\"1\" class=\"dataframe\">\n",
       "  <thead>\n",
       "    <tr style=\"text-align: right;\">\n",
       "      <th></th>\n",
       "      <th>Unnamed: 0</th>\n",
       "      <th>hhno</th>\n",
       "      <th>pno</th>\n",
       "      <th>day</th>\n",
       "      <th>tour</th>\n",
       "      <th>half</th>\n",
       "      <th>tseg</th>\n",
       "      <th>tsvid</th>\n",
       "      <th>opurp</th>\n",
       "      <th>dpurp</th>\n",
       "      <th>...</th>\n",
       "      <th>hrestype</th>\n",
       "      <th>hhparcel</th>\n",
       "      <th>hhtaz</th>\n",
       "      <th>hhexpfac</th>\n",
       "      <th>samptype</th>\n",
       "      <th>Toll Class</th>\n",
       "      <th>VOT Bin</th>\n",
       "      <th>dephr</th>\n",
       "      <th>mode code</th>\n",
       "      <th>skim_id</th>\n",
       "    </tr>\n",
       "  </thead>\n",
       "  <tbody>\n",
       "    <tr>\n",
       "      <th>0</th>\n",
       "      <td> 0</td>\n",
       "      <td> 300004</td>\n",
       "      <td> 1</td>\n",
       "      <td> 1</td>\n",
       "      <td> 1</td>\n",
       "      <td> 1</td>\n",
       "      <td> 88</td>\n",
       "      <td> 1</td>\n",
       "      <td> 0</td>\n",
       "      <td> 4</td>\n",
       "      <td>...</td>\n",
       "      <td>-1</td>\n",
       "      <td> 1747</td>\n",
       "      <td> 553</td>\n",
       "      <td> 16.514</td>\n",
       "      <td> 1</td>\n",
       "      <td> 1</td>\n",
       "      <td> 1</td>\n",
       "      <td> 10to14</td>\n",
       "      <td> ivtwa</td>\n",
       "      <td> ivtwa</td>\n",
       "    </tr>\n",
       "    <tr>\n",
       "      <th>1</th>\n",
       "      <td> 1</td>\n",
       "      <td> 300004</td>\n",
       "      <td> 1</td>\n",
       "      <td> 1</td>\n",
       "      <td> 1</td>\n",
       "      <td> 1</td>\n",
       "      <td> 88</td>\n",
       "      <td> 2</td>\n",
       "      <td> 4</td>\n",
       "      <td> 5</td>\n",
       "      <td>...</td>\n",
       "      <td>-1</td>\n",
       "      <td> 1747</td>\n",
       "      <td> 553</td>\n",
       "      <td> 16.514</td>\n",
       "      <td> 1</td>\n",
       "      <td> 1</td>\n",
       "      <td> 1</td>\n",
       "      <td> 15to16</td>\n",
       "      <td> ivtwa</td>\n",
       "      <td> ivtwa</td>\n",
       "    </tr>\n",
       "  </tbody>\n",
       "</table>\n",
       "<p>2 rows × 50 columns</p>\n",
       "</div>"
      ],
      "text/plain": [
       "   Unnamed: 0    hhno  pno  day  tour  half  tseg  tsvid  opurp  dpurp  \\\n",
       "0           0  300004    1    1     1     1    88      1      0      4   \n",
       "1           1  300004    1    1     1     1    88      2      4      5   \n",
       "\n",
       "    ...     hrestype  hhparcel  hhtaz  hhexpfac  samptype  Toll Class  \\\n",
       "0   ...           -1      1747    553    16.514         1           1   \n",
       "1   ...           -1      1747    553    16.514         1           1   \n",
       "\n",
       "   VOT Bin   dephr  mode code  skim_id  \n",
       "0        1  10to14      ivtwa    ivtwa  \n",
       "1        1  15to16      ivtwa    ivtwa  \n",
       "\n",
       "[2 rows x 50 columns]"
      ]
     },
     "execution_count": 22,
     "metadata": {},
     "output_type": "execute_result"
    }
   ],
   "source": [
    "df"
   ]
  },
  {
   "cell_type": "code",
   "execution_count": null,
   "metadata": {
    "collapsed": true
   },
   "outputs": [],
   "source": []
  }
 ],
 "metadata": {
  "kernelspec": {
   "display_name": "Python 2",
   "language": "python",
   "name": "python2"
  },
  "language_info": {
   "codemirror_mode": {
    "name": "ipython",
    "version": 2
   },
   "file_extension": ".py",
   "mimetype": "text/x-python",
   "name": "python",
   "nbconvert_exporter": "python",
   "pygments_lexer": "ipython2",
   "version": "2.7.9"
  }
 },
 "nbformat": 4,
 "nbformat_minor": 0
}
