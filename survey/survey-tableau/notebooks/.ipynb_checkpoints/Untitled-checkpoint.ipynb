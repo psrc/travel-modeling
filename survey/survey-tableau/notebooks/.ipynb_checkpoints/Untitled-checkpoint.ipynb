{
 "cells": [
  {
   "cell_type": "code",
   "execution_count": 1,
   "metadata": {
    "collapsed": true
   },
   "outputs": [],
   "source": [
    "# Convert h5 to csv\n",
    "import h5py\n",
    "import pandas as pd\n"
   ]
  },
  {
   "cell_type": "code",
   "execution_count": 20,
   "metadata": {
    "collapsed": true
   },
   "outputs": [],
   "source": [
    "# labels\n",
    "labels = pd.read_csv(r'..\\data\\variable_labels.csv')"
   ]
  },
  {
   "cell_type": "code",
   "execution_count": 11,
   "metadata": {
    "collapsed": false
   },
   "outputs": [
    {
     "name": "stdout",
     "output_type": "stream",
     "text": [
      "Household\n",
      "HouseholdDay\n",
      "Person\n",
      "PersonDay\n",
      "Tour\n",
      "Trip\n"
     ]
    }
   ],
   "source": [
    "# Convert h5 to csv\n",
    "h5file = h5py.File(r'R:\\SoundCast\\Inputs\\2010\\etc\\survey.h5')\n",
    "year = '2006'\n",
    "\n",
    "for table in h5file.keys():\n",
    "    df = pd.DataFrame()\n",
    "    print table\n",
    "    for col in h5file[table].keys():\n",
    "        if year == '2006':\n",
    "            df[col] = [i[0] for i in h5file[table][col][:]]\n",
    "        else:\n",
    "            df[col] = h5file[table][col][:]\n",
    "    df.to_csv(r'../data/'+year+'/'+table.lower()+'.csv', index=False)"
   ]
  },
  {
   "cell_type": "code",
   "execution_count": 33,
   "metadata": {
    "collapsed": false
   },
   "outputs": [],
   "source": [
    "# Join csv files together\n",
    "years = ['2006','2014']\n",
    "output = {}\n",
    "for table in h5file.keys():\n",
    "    df = pd.DataFrame()\n",
    "    for year in years:\n",
    "        df_ = pd.read_csv(r'../data/'+year+'/'+table.lower()+'.csv')\n",
    "        df_['year'] = year\n",
    "        df = df.append(df_)\n",
    "        \n",
    "    # apply labels    \n",
    "    label_df = labels[labels['table'] == table]\n",
    "    for field in label_df['field'].unique():\n",
    "        newdf = label_df[label_df['field'] == field]\n",
    "        local_series = pd.Series(newdf['text'].values, index=newdf['value'])\n",
    "        df[field] = df[field].map(local_series)\n",
    "        \n",
    "    df.to_csv(r'../data/combined/'+table.lower()+'.csv')\n",
    "        \n",
    "        \n",
    "        "
   ]
  },
  {
   "cell_type": "code",
   "execution_count": 37,
   "metadata": {
    "collapsed": true
   },
   "outputs": [],
   "source": [
    "hh = pd.read_csv(r'../data/combined/household.csv')\n",
    "trip = pd.read_csv(r'../data/combined/trip.csv')"
   ]
  },
  {
   "cell_type": "code",
   "execution_count": 46,
   "metadata": {
    "collapsed": true
   },
   "outputs": [],
   "source": [
    "df = pd.merge(hh, trip, on=['hhno','year'])"
   ]
  },
  {
   "cell_type": "code",
   "execution_count": 47,
   "metadata": {
    "collapsed": false
   },
   "outputs": [
    {
     "data": {
      "text/plain": [
       "hownrent\n",
       "Other    9.406282e+04\n",
       "Own      2.861811e+07\n",
       "Rent     7.086886e+06\n",
       "Name: hhexpfac, dtype: float64"
      ]
     },
     "execution_count": 47,
     "metadata": {},
     "output_type": "execute_result"
    }
   ],
   "source": [
    "df.groupby('hownrent').sum()['hhexpfac']"
   ]
  },
  {
   "cell_type": "code",
   "execution_count": 41,
   "metadata": {
    "collapsed": false
   },
   "outputs": [
    {
     "data": {
      "text/plain": [
       "128867"
      ]
     },
     "execution_count": 41,
     "metadata": {},
     "output_type": "execute_result"
    }
   ],
   "source": [
    "len(df)"
   ]
  },
  {
   "cell_type": "code",
   "execution_count": 43,
   "metadata": {
    "collapsed": false
   },
   "outputs": [
    {
     "data": {
      "text/plain": [
       "128867"
      ]
     },
     "execution_count": 43,
     "metadata": {},
     "output_type": "execute_result"
    }
   ],
   "source": [
    "len(trip)"
   ]
  },
  {
   "cell_type": "code",
   "execution_count": null,
   "metadata": {
    "collapsed": true
   },
   "outputs": [],
   "source": []
  }
 ],
 "metadata": {
  "kernelspec": {
   "display_name": "Python 2",
   "language": "python",
   "name": "python2"
  },
  "language_info": {
   "codemirror_mode": {
    "name": "ipython",
    "version": 2
   },
   "file_extension": ".py",
   "mimetype": "text/x-python",
   "name": "python",
   "nbconvert_exporter": "python",
   "pygments_lexer": "ipython2",
   "version": "2.7.9"
  }
 },
 "nbformat": 4,
 "nbformat_minor": 0
}
