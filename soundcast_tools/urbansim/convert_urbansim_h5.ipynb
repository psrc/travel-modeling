{
 "cells": [
  {
   "cell_type": "code",
   "execution_count": 2,
   "id": "77591e61",
   "metadata": {},
   "outputs": [],
   "source": [
    "import h5py\n",
    "import pandas as pd\n",
    "import numpy as np"
   ]
  },
  {
   "cell_type": "code",
   "execution_count": null,
   "id": "8893a5b5",
   "metadata": {},
   "outputs": [],
   "source": [
    "file_dir = r\"T:\\60day-TEMP\\Hana\\results_alloc_20250602.h5\"\n",
    "myh5 = h5py.File(file_dir, \"r\")"
   ]
  },
  {
   "cell_type": "markdown",
   "id": "0c24a3c7",
   "metadata": {},
   "source": [
    "# parcels_urbansim.txt"
   ]
  },
  {
   "cell_type": "code",
   "execution_count": null,
   "id": "cdffc92b",
   "metadata": {},
   "outputs": [
    {
     "name": "stdout",
     "output_type": "stream",
     "text": [
      "building_sqft_per_job\n",
      "building_types\n",
      "buildings\n",
      "cities\n",
      "control_hcts\n",
      "controls\n",
      "development_constraints\n",
      "development_template_components\n",
      "development_templates\n",
      "employment_controls\n",
      "employment_sector_group_definitions\n",
      "employment_sector_groups\n",
      "employment_sectors\n",
      "fazes\n",
      "gridcells\n",
      "household_controls\n",
      "household_relocation_rates\n",
      "households\n",
      "households_events\n",
      "households_zone_control_hct_events\n",
      "job_relocation_rates\n",
      "jobs\n",
      "land_use_types\n",
      "mpds\n",
      "parcels\n",
      "persons\n",
      "schools\n",
      "subregs\n",
      "target_vacancies\n",
      "targets\n",
      "travel_data\n",
      "zone_control_hcts\n",
      "zones\n",
      "zoning_heights\n"
     ]
    },
    {
     "data": {
      "text/plain": [
       "[None,\n",
       " None,\n",
       " None,\n",
       " None,\n",
       " None,\n",
       " None,\n",
       " None,\n",
       " None,\n",
       " None,\n",
       " None,\n",
       " None,\n",
       " None,\n",
       " None,\n",
       " None,\n",
       " None,\n",
       " None,\n",
       " None,\n",
       " None,\n",
       " None,\n",
       " None,\n",
       " None,\n",
       " None,\n",
       " None,\n",
       " None,\n",
       " None,\n",
       " None,\n",
       " None,\n",
       " None,\n",
       " None,\n",
       " None,\n",
       " None,\n",
       " None,\n",
       " None,\n",
       " None]"
      ]
     },
     "execution_count": 4,
     "metadata": {},
     "output_type": "execute_result"
    }
   ],
   "source": [
    "\n",
    "myh5.keys()\n",
    "[print (i) for i in myh5['base'].keys()]\n",
    "\n",
    "# myh5['base']['cities']['axis0'][:]\n",
    "# get h5py as datafarme\n",
    "# df = pd.DataFrame()\n",
    "# for key in myh5['base'].keys():\n",
    "#     df[key] = myh5['base'][key][:]"
   ]
  },
  {
   "cell_type": "code",
   "execution_count": 5,
   "id": "b19c8960",
   "metadata": {},
   "outputs": [
    {
     "data": {
      "text/plain": [
       "array([      1,       2,       3, ..., 1329926, 1329927, 1329928],\n",
       "      shape=(1329928,))"
      ]
     },
     "execution_count": 5,
     "metadata": {},
     "output_type": "execute_result"
    }
   ],
   "source": [
    "myh5['base']['parcels']['axis1'][:]"
   ]
  },
  {
   "cell_type": "code",
   "execution_count": 151,
   "id": "14787e14",
   "metadata": {},
   "outputs": [
    {
     "data": {
      "text/plain": [
       "array([      1,       2,       3, ..., 1736132, 1736133, 1736134],\n",
       "      shape=(1736134,))"
      ]
     },
     "execution_count": 151,
     "metadata": {},
     "output_type": "execute_result"
    }
   ],
   "source": [
    "myh5['base']['households']['axis1'][:]"
   ]
  },
  {
   "cell_type": "code",
   "execution_count": 146,
   "id": "ef56e7c8",
   "metadata": {},
   "outputs": [
    {
     "data": {
      "text/plain": [
       "array([b'tenure', b'puma', b'building_id', b'income', b'persons',\n",
       "       b'workers', b'children', b'previous_building_id', b'age_of_head'],\n",
       "      dtype='|S20')"
      ]
     },
     "execution_count": 146,
     "metadata": {},
     "output_type": "execute_result"
    }
   ],
   "source": [
    "myh5['base']['households']['block0_items'][:]"
   ]
  },
  {
   "cell_type": "code",
   "execution_count": 143,
   "id": "8fc041a3",
   "metadata": {},
   "outputs": [
    {
     "data": {
      "text/plain": [
       "array([b'is_inmigrant'], dtype='|S12')"
      ]
     },
     "execution_count": 143,
     "metadata": {},
     "output_type": "execute_result"
    }
   ],
   "source": [
    "myh5['base']['households']['block1_items'][:]"
   ]
  },
  {
   "cell_type": "code",
   "execution_count": 9,
   "id": "8739b2f1",
   "metadata": {},
   "outputs": [
    {
     "data": {
      "text/plain": [
       "<KeysViewHDF5 ['axis0', 'axis1', 'block0_items', 'block0_values', 'block1_items', 'block1_values']>"
      ]
     },
     "execution_count": 9,
     "metadata": {},
     "output_type": "execute_result"
    }
   ],
   "source": [
    "myh5['base']['buildings'].keys()"
   ]
  },
  {
   "cell_type": "code",
   "execution_count": 44,
   "id": "0f999ca2",
   "metadata": {},
   "outputs": [
    {
     "data": {
      "text/plain": [
       "11"
      ]
     },
     "execution_count": 44,
     "metadata": {},
     "output_type": "execute_result"
    }
   ],
   "source": [
    "len(myh5['base']['buildings']['block0_values'][:][0])"
   ]
  },
  {
   "cell_type": "code",
   "execution_count": 43,
   "id": "867ff61f",
   "metadata": {},
   "outputs": [
    {
     "data": {
      "text/plain": [
       "array([128,   5, 149, ..., 148,  98,  46], shape=(112717,), dtype=uint8)"
      ]
     },
     "execution_count": 43,
     "metadata": {},
     "output_type": "execute_result"
    }
   ],
   "source": [
    "myh5['base']['schools']['block1_values'][:][0]"
   ]
  },
  {
   "cell_type": "code",
   "execution_count": 122,
   "id": "981a1e50",
   "metadata": {},
   "outputs": [],
   "source": [
    "\n",
    "\n",
    "def get_col_data(myh5, key, block, col_name):\n",
    "    myarray = myh5['base'][key][f'block{block}_items'][:]\n",
    "    col_list = [x.decode('utf-8') for x in myarray]\n",
    "    col_index = col_list.index(col_name)\n",
    "\n",
    "    return myh5['base'][key][f'block{block}_values'][:][:,col_index]\n",
    "\n",
    "def calculate_jobs_by_sector(df, parcel_df, sector_id_list, emp_type):\n",
    "    \"\"\"\n",
    "    Calculate the number of jobs for a given list of sector IDs and return a DataFrame.\n",
    "    \"\"\"\n",
    "    df_filtered = df[df['sector_id'].isin(sector_id_list)]\n",
    "    df_grouped = df_filtered.groupby('parcelid').sum()[['number_of_jobs']].reset_index()\n",
    "    df_grouped.rename(columns={'number_of_jobs': emp_type}, inplace=True)\n",
    "    \n",
    "    parcel_df = parcel_df.merge(df_grouped, on='parcelid', how='left')\n",
    "    parcel_df.fillna({emp_type: 0}, inplace=True)\n",
    "\n",
    "    return parcel_df"
   ]
  },
  {
   "cell_type": "code",
   "execution_count": null,
   "id": "d7679f0c",
   "metadata": {},
   "outputs": [],
   "source": [
    "parcel_df = pd.DataFrame()\n",
    "# parcelid\n",
    "# Assume parcel IDs from the index?\n",
    "parcel_df['parcelid'] = myh5['base']['parcels']['axis1'][:]\n",
    "\n",
    "# xcoord_p\n",
    "parcel_df['xcoord_p'] = get_col_data(myh5, 'parcels', 0, 'x_coord_sp')\n",
    "\n",
    "# ycoord_p\n",
    "parcel_df['ycoord_p'] = get_col_data(myh5, 'parcels', 0, 'y_coord_sp')\n",
    "\n",
    "# sqft_p\n",
    "parcel_df['sqft_p'] = get_col_data(myh5, 'parcels', 0, 'parcel_sqft')\n",
    "\n",
    "# taz_p\n",
    "parcel_df['taz_p'] = get_col_data(myh5, 'parcels', 1, 'zone_id')\n",
    "\n",
    "# lutype_p\n",
    "parcel_df['lutype_p'] = get_col_data(myh5, 'parcels', 1, 'land_use_type_id')\n",
    "\n",
    "\n",
    "# Household data is available at the building level\n",
    "df_building = pd.DataFrame()\n",
    "df_building['building_id'] = myh5['base']['buildings']['axis1'][:]\n",
    "df_building['parcelid'] = get_col_data(myh5, 'buildings', 0, 'parcel_id')\n",
    "\n",
    "\n",
    "# Note for Hana:\n",
    "# Some households have building_id == -1 (N=5\n",
    "\n",
    "# # hh_p\n",
    "df_hh = pd.DataFrame(get_col_data(myh5, 'households', 0, 'building_id'), columns=['building_id'])\n",
    "# Exclude households without valid building_id\n",
    "df_hh = df_hh[df_hh['building_id'] >= 0 ].reset_index(drop=True)\n",
    "df_hh = df_hh.groupby('building_id').size().reset_index(name='household_count')\n",
    "\n",
    "# Merge household count data to building data\n",
    "df_building_hh = df_building.merge(df_hh, on='building_id', how='left')\n",
    "df_hh_tot = df_building_hh.groupby('parcelid').sum()[['household_count']].reset_index().rename(columns={'household_count': 'hh_p'})\n",
    "\n",
    "parcel_df = parcel_df.merge(df_hh_tot, on='parcelid', how='left')\n",
    "parcel_df.fillna({'hh_p': 0}, inplace=True)\n",
    "\n",
    "# students\n",
    "\n",
    "# not able to access the \"category\" field in block1, so not sure how to classify schools...\n",
    "\n",
    "# df_school = pd.DataFrame()\n",
    "# df_school['codist'] = get_col_data(myh5, 'schools', 2, 'codist')\n",
    "# df_school['student_count2023'] = get_col_data(myh5, 'schools', 2, 'student_count2023')\n",
    "# df_school['parcelid'] = get_col_data(myh5, 'schools', 2, 'parcel_id')\n",
    "\n",
    "\n",
    "# stugrd_p\n",
    "# stuhgh_p\n",
    "# stuuni_p\n",
    "\n",
    "# Jobs\n",
    "df_jobs = pd.DataFrame()\n",
    "\n",
    "df_jobs[\"sector_id\"] = get_col_data(myh5, 'jobs', 1, 'sector_id')\n",
    "df_jobs[\"building_id\"] = get_col_data(myh5, 'jobs', 1, 'building_id')\n",
    "df_jobs[\"number_of_jobs\"] = get_col_data(myh5, 'jobs', 0, 'number_of_jobs')\n",
    "df_jobs[\"home_based_status\"] = get_col_data(myh5, 'jobs', 1, 'home_based_status')\n",
    "\n",
    "# Remove home_based_status jobs\n",
    "df_jobs = df_jobs[df_jobs['home_based_status'] == 0].reset_index(drop=True)\n",
    "df_jobs = df_jobs.merge(df_building, on='building_id', how='left')\n",
    "\n",
    "df_jobs = df_jobs.groupby(['sector_id','parcelid']).sum()[['number_of_jobs']].reset_index()\n",
    "\n",
    "# empedu_p\n",
    "parcel_df = calculate_jobs_by_sector(df_jobs, parcel_df, [8,13], \"empedu_p\")\n",
    "\n",
    "# empfoo_p\n",
    "parcel_df = calculate_jobs_by_sector(df_jobs, parcel_df, [10], \"empfoo_p\")\n",
    "\n",
    "# empgov_p\n",
    "parcel_df = calculate_jobs_by_sector(df_jobs, parcel_df, [12], \"empgov_p\")\n",
    "\n",
    "# empind_p\n",
    "parcel_df = calculate_jobs_by_sector(df_jobs, parcel_df, [3, 4], \"empind_p\")\n",
    "\n",
    "# empmed_p\n",
    "parcel_df = calculate_jobs_by_sector(df_jobs, parcel_df, [9], \"empmed_p\")\n",
    "\n",
    "# empofc_p\n",
    "parcel_df = calculate_jobs_by_sector(df_jobs, parcel_df, [7], \"empofc_p\")\n",
    "\n",
    "# empret_p\n",
    "parcel_df = calculate_jobs_by_sector(df_jobs, parcel_df, [5], \"empret_p\")\n",
    "\n",
    "# empsvc_p\n",
    "parcel_df = calculate_jobs_by_sector(df_jobs, parcel_df, [11], \"empsvc_p\")\n",
    "\n",
    "# empoth_p\n",
    "parcel_df = calculate_jobs_by_sector(df_jobs, parcel_df, [1, 2], \"empoth_p\")\n",
    "\n",
    "# emprsc_p\n",
    "# FIXME: make sure this is correct\n",
    "parcel_df[\"emprsc_p\"] = 0\n",
    "\n",
    "# emptot_p\n",
    "parcel_df[\"emptot_p\"] = parcel_df[[\n",
    "    'empedu_p', 'empfoo_p', 'empgov_p', 'empind_p', 'empmed_p',\n",
    "    'empofc_p', 'empret_p', 'empsvc_p', 'empoth_p', 'emprsc_p'\n",
    "]].sum(axis=1)\n",
    "\n",
    "# ppricdyp\n",
    "parcel_df['ppricdyp'] = get_col_data(myh5, 'parcels', 1, 'parking_price_daily')\n",
    "\n",
    "# pprichrp\n",
    "parcel_df['pprichrp'] = get_col_data(myh5, 'parcels', 1, 'parking_price_hourly')\n",
    "\n",
    "# parkdy_p\n",
    "parcel_df['parkdy_p'] = get_col_data(myh5, 'parcels', 1, 'parking_space_daily')\n",
    "\n",
    "# parkhr_p\n",
    "parcel_df['parkhr_p'] = get_col_data(myh5, 'parcels', 1, 'parking_space_hourly')\n",
    "\n",
    "# Parks data is zeroed out in Soundcast anyway\n",
    "# aparks\n",
    "parcel_df['aparks'] = 0\n",
    "\n",
    "# nparks\n",
    "parcel_df['nparks'] = 0\n",
    "\n",
    "\n",
    "\n"
   ]
  },
  {
   "cell_type": "code",
   "execution_count": 128,
   "id": "0b6964e6",
   "metadata": {},
   "outputs": [
    {
     "data": {
      "text/html": [
       "<div>\n",
       "<style scoped>\n",
       "    .dataframe tbody tr th:only-of-type {\n",
       "        vertical-align: middle;\n",
       "    }\n",
       "\n",
       "    .dataframe tbody tr th {\n",
       "        vertical-align: top;\n",
       "    }\n",
       "\n",
       "    .dataframe thead th {\n",
       "        text-align: right;\n",
       "    }\n",
       "</style>\n",
       "<table border=\"1\" class=\"dataframe\">\n",
       "  <thead>\n",
       "    <tr style=\"text-align: right;\">\n",
       "      <th></th>\n",
       "      <th>parcelid</th>\n",
       "      <th>xcoord_p</th>\n",
       "      <th>ycoord_p</th>\n",
       "      <th>sqft_p</th>\n",
       "      <th>taz_p</th>\n",
       "      <th>lutype_p</th>\n",
       "      <th>hh_p</th>\n",
       "      <th>empedu_p</th>\n",
       "    </tr>\n",
       "  </thead>\n",
       "  <tbody>\n",
       "    <tr>\n",
       "      <th>0</th>\n",
       "      <td>1</td>\n",
       "      <td>1292255.125</td>\n",
       "      <td>162728.625000</td>\n",
       "      <td>85802.593750</td>\n",
       "      <td>1019</td>\n",
       "      <td>22</td>\n",
       "      <td>0.0</td>\n",
       "      <td>0.0</td>\n",
       "    </tr>\n",
       "    <tr>\n",
       "      <th>1</th>\n",
       "      <td>2</td>\n",
       "      <td>1291832.250</td>\n",
       "      <td>164041.750000</td>\n",
       "      <td>0.000000</td>\n",
       "      <td>1018</td>\n",
       "      <td>26</td>\n",
       "      <td>0.0</td>\n",
       "      <td>0.0</td>\n",
       "    </tr>\n",
       "    <tr>\n",
       "      <th>2</th>\n",
       "      <td>3</td>\n",
       "      <td>1291594.625</td>\n",
       "      <td>164048.671875</td>\n",
       "      <td>6000.066406</td>\n",
       "      <td>1018</td>\n",
       "      <td>18</td>\n",
       "      <td>0.0</td>\n",
       "      <td>0.0</td>\n",
       "    </tr>\n",
       "    <tr>\n",
       "      <th>3</th>\n",
       "      <td>4</td>\n",
       "      <td>1291539.625</td>\n",
       "      <td>164050.171875</td>\n",
       "      <td>7200.083984</td>\n",
       "      <td>1018</td>\n",
       "      <td>18</td>\n",
       "      <td>0.0</td>\n",
       "      <td>0.0</td>\n",
       "    </tr>\n",
       "    <tr>\n",
       "      <th>4</th>\n",
       "      <td>5</td>\n",
       "      <td>1291479.375</td>\n",
       "      <td>164042.390625</td>\n",
       "      <td>6068.041504</td>\n",
       "      <td>1018</td>\n",
       "      <td>26</td>\n",
       "      <td>0.0</td>\n",
       "      <td>0.0</td>\n",
       "    </tr>\n",
       "    <tr>\n",
       "      <th>...</th>\n",
       "      <td>...</td>\n",
       "      <td>...</td>\n",
       "      <td>...</td>\n",
       "      <td>...</td>\n",
       "      <td>...</td>\n",
       "      <td>...</td>\n",
       "      <td>...</td>\n",
       "      <td>...</td>\n",
       "    </tr>\n",
       "    <tr>\n",
       "      <th>1329923</th>\n",
       "      <td>1329924</td>\n",
       "      <td>1444396.250</td>\n",
       "      <td>305434.312500</td>\n",
       "      <td>93749.859375</td>\n",
       "      <td>2365</td>\n",
       "      <td>17</td>\n",
       "      <td>0.0</td>\n",
       "      <td>0.0</td>\n",
       "    </tr>\n",
       "    <tr>\n",
       "      <th>1329924</th>\n",
       "      <td>1329925</td>\n",
       "      <td>1310124.125</td>\n",
       "      <td>305445.000000</td>\n",
       "      <td>49211.039062</td>\n",
       "      <td>2538</td>\n",
       "      <td>17</td>\n",
       "      <td>0.0</td>\n",
       "      <td>0.0</td>\n",
       "    </tr>\n",
       "    <tr>\n",
       "      <th>1329925</th>\n",
       "      <td>1329926</td>\n",
       "      <td>1294709.250</td>\n",
       "      <td>305556.187500</td>\n",
       "      <td>14059.324219</td>\n",
       "      <td>2526</td>\n",
       "      <td>17</td>\n",
       "      <td>0.0</td>\n",
       "      <td>0.0</td>\n",
       "    </tr>\n",
       "    <tr>\n",
       "      <th>1329926</th>\n",
       "      <td>1329927</td>\n",
       "      <td>1306089.375</td>\n",
       "      <td>288830.875000</td>\n",
       "      <td>10867.518555</td>\n",
       "      <td>2565</td>\n",
       "      <td>17</td>\n",
       "      <td>0.0</td>\n",
       "      <td>0.0</td>\n",
       "    </tr>\n",
       "    <tr>\n",
       "      <th>1329927</th>\n",
       "      <td>1329928</td>\n",
       "      <td>1313226.375</td>\n",
       "      <td>286303.843750</td>\n",
       "      <td>13218.498047</td>\n",
       "      <td>2559</td>\n",
       "      <td>17</td>\n",
       "      <td>0.0</td>\n",
       "      <td>0.0</td>\n",
       "    </tr>\n",
       "  </tbody>\n",
       "</table>\n",
       "<p>1329928 rows × 8 columns</p>\n",
       "</div>"
      ],
      "text/plain": [
       "         parcelid     xcoord_p       ycoord_p        sqft_p  taz_p  lutype_p  \\\n",
       "0               1  1292255.125  162728.625000  85802.593750   1019        22   \n",
       "1               2  1291832.250  164041.750000      0.000000   1018        26   \n",
       "2               3  1291594.625  164048.671875   6000.066406   1018        18   \n",
       "3               4  1291539.625  164050.171875   7200.083984   1018        18   \n",
       "4               5  1291479.375  164042.390625   6068.041504   1018        26   \n",
       "...           ...          ...            ...           ...    ...       ...   \n",
       "1329923   1329924  1444396.250  305434.312500  93749.859375   2365        17   \n",
       "1329924   1329925  1310124.125  305445.000000  49211.039062   2538        17   \n",
       "1329925   1329926  1294709.250  305556.187500  14059.324219   2526        17   \n",
       "1329926   1329927  1306089.375  288830.875000  10867.518555   2565        17   \n",
       "1329927   1329928  1313226.375  286303.843750  13218.498047   2559        17   \n",
       "\n",
       "         hh_p  empedu_p  \n",
       "0         0.0       0.0  \n",
       "1         0.0       0.0  \n",
       "2         0.0       0.0  \n",
       "3         0.0       0.0  \n",
       "4         0.0       0.0  \n",
       "...       ...       ...  \n",
       "1329923   0.0       0.0  \n",
       "1329924   0.0       0.0  \n",
       "1329925   0.0       0.0  \n",
       "1329926   0.0       0.0  \n",
       "1329927   0.0       0.0  \n",
       "\n",
       "[1329928 rows x 8 columns]"
      ]
     },
     "execution_count": 128,
     "metadata": {},
     "output_type": "execute_result"
    }
   ],
   "source": [
    "parcel_df"
   ]
  },
  {
   "cell_type": "markdown",
   "id": "1f53e7e9",
   "metadata": {},
   "source": [
    "# hh_and_persons.h5"
   ]
  },
  {
   "cell_type": "code",
   "execution_count": null,
   "id": "322b0cb1",
   "metadata": {},
   "outputs": [],
   "source": [
    "df_hh = pd.DataFrame(get_col_data(myh5, 'households', 0, 'building_id'), columns=['building_id'])\n",
    "# # Exclude households without valid building_id\n",
    "# df_hh = df_hh[df_hh['building_id'] >= 0 ].reset_index(drop=True)\n",
    "df_hh['hhno'] = myh5['base']['households']['axis1'][:]\n",
    "\n",
    "df_hh['hhsize'] = get_col_data(myh5, 'households', 0, 'persons')\n",
    "df_hh['workers'] = get_col_data(myh5, 'households', 0, 'workers')\n",
    "df_hh['children'] = get_col_data(myh5, 'households', 0, 'children')\n",
    "df_hh['tenure'] = get_col_data(myh5, 'households', 0, 'tenure')\n",
    "\n",
    "# Map hownrent\n",
    "df_hh['hownrent'] = df_hh['tenure'].map({\n",
    "    1: 1, # 'own',\n",
    "    2: 2, # 'rent',\n",
    "    3: 3, # 'other'\n",
    "    4: 9 # 'missing'\n",
    "})\n",
    "\n",
    "# Merge parcel ID from building data\n",
    "df_hh = df_hh.merge(df_building[['building_id', 'parcelid']], on='building_id', how='left')"
   ]
  },
  {
   "cell_type": "code",
   "execution_count": 164,
   "id": "5cd004c8",
   "metadata": {},
   "outputs": [
    {
     "data": {
      "text/plain": [
       "tenure\n",
       "1    733950\n",
       "3    686112\n",
       "2    297466\n",
       "4     18606\n",
       "Name: count, dtype: int64"
      ]
     },
     "execution_count": 164,
     "metadata": {},
     "output_type": "execute_result"
    }
   ],
   "source": [
    "df_hh['tenure'].value_counts()"
   ]
  },
  {
   "cell_type": "code",
   "execution_count": null,
   "id": "cec9f92f",
   "metadata": {},
   "outputs": [],
   "source": []
  }
 ],
 "metadata": {
  "kernelspec": {
   "display_name": "summary",
   "language": "python",
   "name": "python3"
  },
  "language_info": {
   "codemirror_mode": {
    "name": "ipython",
    "version": 3
   },
   "file_extension": ".py",
   "mimetype": "text/x-python",
   "name": "python",
   "nbconvert_exporter": "python",
   "pygments_lexer": "ipython3",
   "version": "3.11.12"
  }
 },
 "nbformat": 4,
 "nbformat_minor": 5
}
