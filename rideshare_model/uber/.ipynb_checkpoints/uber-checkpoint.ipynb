{
 "cells": [
  {
   "cell_type": "code",
   "execution_count": 5,
   "metadata": {},
   "outputs": [],
   "source": [
    "from uber_rides.session import Session\n",
    "from uber_rides.client import UberRidesClient\n",
    "from key import TOKEN\n",
    "session = Session(server_token=TOKEN)\n",
    "client = UberRidesClient(session)"
   ]
  },
  {
   "cell_type": "markdown",
   "metadata": {},
   "source": [
    "# Example for retreiving wait times "
   ]
  },
  {
   "cell_type": "code",
   "execution_count": 37,
   "metadata": {},
   "outputs": [],
   "source": [
    "response = client.get_pickup_time_estimates(\n",
    "    start_latitude=47.606,\n",
    "    start_longitude=-122.327\n",
    ")"
   ]
  },
  {
   "cell_type": "code",
   "execution_count": 38,
   "metadata": {},
   "outputs": [],
   "source": [
    "times = response.json.get('times')"
   ]
  },
  {
   "cell_type": "code",
   "execution_count": 62,
   "metadata": {},
   "outputs": [],
   "source": [
    "def parse_json(json_data, car_type):\n",
    "    \"\"\"\n",
    "    Get results for uberX (standard car) given json response\n",
    "    \"\"\" \n",
    "    i = 0 \n",
    "    for row in json_data:\n",
    "        if row['localized_display_name'] == car_type:\n",
    "            row = i    # store the row that contains the uberX data\n",
    "            break\n",
    "        i += 1\n",
    "\n",
    "    # Pick-up time, in seconds\n",
    "    return json_data[i]['estimate']/60.0"
   ]
  },
  {
   "cell_type": "code",
   "execution_count": 63,
   "metadata": {},
   "outputs": [
    {
     "data": {
      "text/plain": [
       "4.0"
      ]
     },
     "execution_count": 63,
     "metadata": {},
     "output_type": "execute_result"
    }
   ],
   "source": [
    "parse_json(times, car_type='uberX')"
   ]
  },
  {
   "cell_type": "code",
   "execution_count": 69,
   "metadata": {},
   "outputs": [],
   "source": [
    "def fetch_time_data(lat, lon):\n",
    "    \"\"\"\n",
    "    Fetch uber wait time\n",
    "    \"\"\"\n",
    "    response = client.get_pickup_time_estimates(\n",
    "    start_latitude=lat,\n",
    "    start_longitude=lon\n",
    "    )\n",
    "    \n",
    "    return response.json.get('times')"
   ]
  },
  {
   "cell_type": "code",
   "execution_count": 70,
   "metadata": {},
   "outputs": [],
   "source": [
    "json_response = fetch_time_data(lat=47.606, lon=-122.327)"
   ]
  },
  {
   "cell_type": "code",
   "execution_count": 71,
   "metadata": {},
   "outputs": [],
   "source": [
    "wait = parse_json(json_data=json_response, car_type='uberX')"
   ]
  },
  {
   "cell_type": "code",
   "execution_count": 72,
   "metadata": {},
   "outputs": [
    {
     "data": {
      "text/plain": [
       "3.0"
      ]
     },
     "execution_count": 72,
     "metadata": {},
     "output_type": "execute_result"
    }
   ],
   "source": [
    "# Loop through zones to get all wait times\n",
    "\n",
    "# load TAZ-centroid lookup\n",
    "\n",
    "# Limit calls to locations within UGB\n",
    "\n",
    "# Probably don't need these for every single zone\n",
    "# How can we combine these to get general zone estimates?\n",
    "# maybe an overall with tracts or something?\n",
    "\n"
   ]
  },
  {
   "cell_type": "code",
   "execution_count": null,
   "metadata": {},
   "outputs": [],
   "source": []
  }
 ],
 "metadata": {
  "kernelspec": {
   "display_name": "Python 2",
   "language": "python",
   "name": "python2"
  },
  "language_info": {
   "codemirror_mode": {
    "name": "ipython",
    "version": 2
   },
   "file_extension": ".py",
   "mimetype": "text/x-python",
   "name": "python",
   "nbconvert_exporter": "python",
   "pygments_lexer": "ipython2",
   "version": "2.7.14"
  }
 },
 "nbformat": 4,
 "nbformat_minor": 2
}
