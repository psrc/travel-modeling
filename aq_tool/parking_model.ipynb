{
 "cells": [
  {
   "cell_type": "code",
   "execution_count": 25,
   "metadata": {},
   "outputs": [],
   "source": [
    "import statsmodels.api as sm\n",
    "import pandas as pd\n",
    "import numpy as np"
   ]
  },
  {
   "cell_type": "code",
   "execution_count": null,
   "metadata": {},
   "outputs": [],
   "source": []
  },
  {
   "cell_type": "code",
   "execution_count": 6,
   "metadata": {},
   "outputs": [],
   "source": [
    "df = pd.read_csv(r'R:\\e2projects_two\\SoundCast\\Inputs\\dev\\landuse\\2018\\new_emp\\parcels_urbansim.txt', delim_whitespace=True)\n"
   ]
  },
  {
   "cell_type": "code",
   "execution_count": 60,
   "metadata": {},
   "outputs": [],
   "source": [
    "df_buffer = pd.read_csv(r'C:\\Workspace\\sc_2018_rtp_final\\soundcast\\outputs\\landuse\\buffered_parcels.txt', delim_whitespace=True)"
   ]
  },
  {
   "cell_type": "code",
   "execution_count": 62,
   "metadata": {},
   "outputs": [],
   "source": [
    "# df_buffer.columns"
   ]
  },
  {
   "cell_type": "code",
   "execution_count": 63,
   "metadata": {},
   "outputs": [],
   "source": [
    "df_merged = df.merge(df_buffer, on='parcelid')"
   ]
  },
  {
   "cell_type": "code",
   "execution_count": 65,
   "metadata": {},
   "outputs": [
    {
     "data": {
      "text/plain": [
       "0          15469.727272\n",
       "1           5658.097968\n",
       "2          11898.889257\n",
       "3          11898.889257\n",
       "4          11898.889257\n",
       "               ...     \n",
       "1302429     7984.300630\n",
       "1302430    13333.473469\n",
       "1302431    18641.514067\n",
       "1302432    28912.524860\n",
       "1302433    14705.460149\n",
       "Name: emptot_2, Length: 1302434, dtype: float64"
      ]
     },
     "execution_count": 65,
     "metadata": {},
     "output_type": "execute_result"
    }
   ],
   "source": [
    "df_merged.emptot_2"
   ]
  },
  {
   "cell_type": "code",
   "execution_count": 70,
   "metadata": {},
   "outputs": [],
   "source": [
    "df.head()\n",
    "\n",
    "# Create an indicator variable for paid parking or not\n",
    "df_merged['paid_parking'] = 0\n",
    "df_merged.loc[df_merged['ppricdyp_x'] > 0, 'paid_parking'] = 1\n",
    "\n",
    "# Early tests show that parcel-level density (household and employment) is not a good predictor\n",
    "# This makes sense because often parcels with parking may be parking structures only with no jobs on the parcel\n",
    "# We should use a buffered density instead, or a zonal density\n",
    "\n",
    "\n",
    "cols = ['emptot_2','hh_2']\n",
    "X=df_merged[cols]\n",
    "y=df_merged['paid_parking']"
   ]
  },
  {
   "cell_type": "code",
   "execution_count": 54,
   "metadata": {},
   "outputs": [],
   "source": [
    "# df[df['paid_parking'].isnull()]"
   ]
  },
  {
   "cell_type": "code",
   "execution_count": 57,
   "metadata": {},
   "outputs": [],
   "source": [
    "# df.columns"
   ]
  },
  {
   "cell_type": "code",
   "execution_count": 71,
   "metadata": {},
   "outputs": [
    {
     "name": "stdout",
     "output_type": "stream",
     "text": [
      "Optimization terminated successfully.\n",
      "         Current function value: 0.125710\n",
      "         Iterations 11\n",
      "                          Results: Logit\n",
      "==================================================================\n",
      "Model:              Logit            Pseudo R-squared: -33.166    \n",
      "Dependent Variable: paid_parking     AIC:              327462.8720\n",
      "Date:               2021-12-10 16:06 BIC:              327487.0315\n",
      "No. Observations:   1302434          Log-Likelihood:   -1.6373e+05\n",
      "Df Model:           1                LL-Null:          -4792.2    \n",
      "Df Residuals:       1302432          LLR p-value:      1.0000     \n",
      "Converged:          1.0000           Scale:            1.0000     \n",
      "No. Iterations:     11.0000                                       \n",
      "-------------------------------------------------------------------\n",
      "              Coef.   Std.Err.      z      P>|z|    [0.025   0.975]\n",
      "-------------------------------------------------------------------\n",
      "emptot_2      0.0009    0.0000   145.1981  0.0000   0.0009   0.0009\n",
      "hh_2         -0.0132    0.0000  -333.9837  0.0000  -0.0133  -0.0131\n",
      "==================================================================\n",
      "\n"
     ]
    }
   ],
   "source": [
    "logit_model=sm.Logit(y,X)\n",
    "result=logit_model.fit()\n",
    "print(result.summary2())"
   ]
  },
  {
   "cell_type": "code",
   "execution_count": 35,
   "metadata": {},
   "outputs": [
    {
     "data": {
      "text/plain": [
       "330        2800\n",
       "13552      1800\n",
       "13553      2000\n",
       "17406      3000\n",
       "18427       800\n",
       "           ... \n",
       "1302429    1400\n",
       "1302430    1400\n",
       "1302431    1400\n",
       "1302432    1400\n",
       "1302433    1400\n",
       "Name: ppricdyp, Length: 546, dtype: int64"
      ]
     },
     "execution_count": 35,
     "metadata": {},
     "output_type": "execute_result"
    }
   ],
   "source": []
  },
  {
   "cell_type": "code",
   "execution_count": 42,
   "metadata": {},
   "outputs": [
    {
     "data": {
      "text/plain": [
       "10.0"
      ]
     },
     "execution_count": 42,
     "metadata": {},
     "output_type": "execute_result"
    }
   ],
   "source": [
    "df['hh_density'].max()"
   ]
  }
 ],
 "metadata": {
  "interpreter": {
   "hash": "587f5abf6dd593bd8734c161ad85d9d55ac018190fa3721b7d456895969c86e8"
  },
  "kernelspec": {
   "display_name": "Python 3.7.10 64-bit ('model_py3': conda)",
   "language": "python",
   "name": "python3"
  },
  "language_info": {
   "codemirror_mode": {
    "name": "ipython",
    "version": 3
   },
   "file_extension": ".py",
   "mimetype": "text/x-python",
   "name": "python",
   "nbconvert_exporter": "python",
   "pygments_lexer": "ipython3",
   "version": "3.7.10"
  },
  "orig_nbformat": 4
 },
 "nbformat": 4,
 "nbformat_minor": 2
}
