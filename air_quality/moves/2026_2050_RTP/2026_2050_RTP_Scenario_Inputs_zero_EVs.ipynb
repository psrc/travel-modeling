{
 "cells": [
  {
   "cell_type": "code",
   "execution_count": 2,
   "id": "b9e2c480",
   "metadata": {},
   "outputs": [],
   "source": [
    "import pandas as pd\n",
    "import matplotlib.pyplot as plt\n",
    "import seaborn as sns\n",
    "import os"
   ]
  },
  {
   "cell_type": "code",
   "execution_count": 29,
   "id": "19c74177",
   "metadata": {},
   "outputs": [],
   "source": [
    "avft_file = r\"Y:\\Air Quality\\2026_2050_RTP\\moves_inputs_2023\\avft\\zero_EVs\\King_avft.csv\"\n",
    "age_distribution_file = r\"Y:\\Air Quality\\2026_2050_RTP\\wa_dept_of_ecology_data\\2023_MOVES_inputs_original\\King\\King_sourcetypeagedistribution_2023.csv\"\n",
    "ev_shares_output_dir = r\"Y:\\Air Quality\\2026_2050_RTP\\moves_inputs_2023\\avft\\zero_EVs\""
   ]
  },
  {
   "cell_type": "code",
   "execution_count": 30,
   "id": "4b836fd1",
   "metadata": {},
   "outputs": [
    {
     "data": {
      "text/html": [
       "<div>\n",
       "<style scoped>\n",
       "    .dataframe tbody tr th:only-of-type {\n",
       "        vertical-align: middle;\n",
       "    }\n",
       "\n",
       "    .dataframe tbody tr th {\n",
       "        vertical-align: top;\n",
       "    }\n",
       "\n",
       "    .dataframe thead th {\n",
       "        text-align: right;\n",
       "    }\n",
       "</style>\n",
       "<table border=\"1\" class=\"dataframe\">\n",
       "  <thead>\n",
       "    <tr style=\"text-align: right;\">\n",
       "      <th></th>\n",
       "      <th>sourceTypeID</th>\n",
       "      <th>modelYearID</th>\n",
       "      <th>fuelTypeID</th>\n",
       "      <th>engTechID</th>\n",
       "      <th>fuelEngFraction</th>\n",
       "    </tr>\n",
       "  </thead>\n",
       "  <tbody>\n",
       "    <tr>\n",
       "      <th>0</th>\n",
       "      <td>11</td>\n",
       "      <td>1960</td>\n",
       "      <td>1</td>\n",
       "      <td>1</td>\n",
       "      <td>1.0</td>\n",
       "    </tr>\n",
       "    <tr>\n",
       "      <th>1</th>\n",
       "      <td>11</td>\n",
       "      <td>1961</td>\n",
       "      <td>1</td>\n",
       "      <td>1</td>\n",
       "      <td>1.0</td>\n",
       "    </tr>\n",
       "    <tr>\n",
       "      <th>2</th>\n",
       "      <td>11</td>\n",
       "      <td>1962</td>\n",
       "      <td>1</td>\n",
       "      <td>1</td>\n",
       "      <td>1.0</td>\n",
       "    </tr>\n",
       "    <tr>\n",
       "      <th>3</th>\n",
       "      <td>11</td>\n",
       "      <td>1963</td>\n",
       "      <td>1</td>\n",
       "      <td>1</td>\n",
       "      <td>1.0</td>\n",
       "    </tr>\n",
       "    <tr>\n",
       "      <th>4</th>\n",
       "      <td>11</td>\n",
       "      <td>1964</td>\n",
       "      <td>1</td>\n",
       "      <td>1</td>\n",
       "      <td>1.0</td>\n",
       "    </tr>\n",
       "  </tbody>\n",
       "</table>\n",
       "</div>"
      ],
      "text/plain": [
       "   sourceTypeID  modelYearID  fuelTypeID  engTechID  fuelEngFraction\n",
       "0            11         1960           1          1              1.0\n",
       "1            11         1961           1          1              1.0\n",
       "2            11         1962           1          1              1.0\n",
       "3            11         1963           1          1              1.0\n",
       "4            11         1964           1          1              1.0"
      ]
     },
     "execution_count": 30,
     "metadata": {},
     "output_type": "execute_result"
    }
   ],
   "source": [
    "# Zero out EVs for avft\n",
    "df = pd.read_csv(avft_file)\n",
    "df.head()"
   ]
  },
  {
   "cell_type": "code",
   "execution_count": 32,
   "id": "791ce629",
   "metadata": {},
   "outputs": [],
   "source": [
    "veh_type_list = [21, 31, 32]\n",
    "df.loc[df['sourceTypeID'].isin(veh_type_list) & (df['fuelTypeID'] == 9), 'fuelEngFraction'] = 0.0\n",
    "# Scale up remaining vehicle types so their total fuelEngFraction is 1.0\n",
    "\n",
    "for year in df['modelYearID'].unique():\n",
    "    for veh_type in veh_type_list:\n",
    "        year_df = df[(df['modelYearID'] == year) & (df['sourceTypeID'] == veh_type)]\n",
    "        total_fraction = year_df['fuelEngFraction'].sum()\n",
    "        if total_fraction > 0:\n",
    "            df.loc[(df['modelYearID'] == year) & (df['sourceTypeID'] == veh_type), 'fuelEngFraction'] /= total_fraction"
   ]
  },
  {
   "cell_type": "code",
   "execution_count": 34,
   "id": "129e286b",
   "metadata": {},
   "outputs": [],
   "source": [
    "df.to_csv(avft_file, index=False)"
   ]
  }
 ],
 "metadata": {
  "kernelspec": {
   "display_name": "summary",
   "language": "python",
   "name": "python3"
  },
  "language_info": {
   "codemirror_mode": {
    "name": "ipython",
    "version": 3
   },
   "file_extension": ".py",
   "mimetype": "text/x-python",
   "name": "python",
   "nbconvert_exporter": "python",
   "pygments_lexer": "ipython3",
   "version": "3.11.12"
  }
 },
 "nbformat": 4,
 "nbformat_minor": 5
}
