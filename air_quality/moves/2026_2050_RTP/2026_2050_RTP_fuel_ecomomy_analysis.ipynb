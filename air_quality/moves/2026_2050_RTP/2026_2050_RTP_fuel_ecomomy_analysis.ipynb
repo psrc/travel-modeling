{
 "cells": [
  {
   "cell_type": "code",
   "execution_count": 29,
   "id": "340ea072",
   "metadata": {},
   "outputs": [],
   "source": [
    "import os\n",
    "import pandas as pd\n",
    "import matplotlib.pyplot as plt\n",
    "import seaborn as sns"
   ]
  },
  {
   "cell_type": "code",
   "execution_count": 100,
   "id": "0d91eb21",
   "metadata": {},
   "outputs": [],
   "source": [
    "# # Load emissions rates for scenario with no ZEVs\n",
    "# df = pd.read_csv(r\"Y:\\Air Quality\\2026_2050_RTP\\fuel_economy\\moves_outputs\\soundcast\\running_emission_rates_by_veh_type.csv\")"
   ]
  },
  {
   "cell_type": "code",
   "execution_count": null,
   "id": "fa53bec1",
   "metadata": {},
   "outputs": [],
   "source": []
  },
  {
   "cell_type": "code",
   "execution_count": 101,
   "id": "221fe4eb",
   "metadata": {},
   "outputs": [],
   "source": [
    "# From MOVES docs, section 6 Fuel Consumption Calculations\n",
    "\n",
    "# Fuel (gallons) = Energy (J) * (1/energy_content)*(g/KJ)*(1/fuel_density)*(gallons/g) / 1000 (J/KJ)\n",
    "# NOTE: default for PSRC MOVES runs have total energy consumption in Joules! \n",
    "\n",
    "# Fuel Type == 1, Conventional Gasoline\n",
    "fuel_density = 2839 # g/gallons\n",
    "energy_content = 43.488 # KJ/g\n",
    "\n",
    "# Fuel Type ==2, Conventional Diesel fuel\n",
    "fuel_density = 3167 # g/gallons\n",
    "energy_content = 43.717 # KJ/g\n",
    "\n",
    "# Fuel Type 3, CNG\n",
    "fuel_density = None #??\n",
    "energy_content = 48.632 # KJ/g\n",
    "\n",
    "# Fuel Type 5, Ethanol\n",
    "fuel_density = 2944 # g/gallons\n",
    "energy_content = 26.592 # KJ/g\n"
   ]
  },
  {
   "cell_type": "code",
   "execution_count": 103,
   "id": "c0d3fefc",
   "metadata": {},
   "outputs": [],
   "source": [
    "def calc_fuel_consumption(run_dir):\n",
    "    # Get energy total from emissions_summary.csv\n",
    "    df_summary = pd.read_csv(os.path.join(run_dir,\"outputs\\emissions\\emissions_summary.csv\"))\n",
    "    df_summary = df_summary[df_summary['pollutantID']==\"91\"]\n",
    "    \n",
    "    # Convert this back since rates were treated as if it were grams to be converted to tons! (actually was in terms of J)\n",
    "    df_summary['energy_total'] = df_summary['total_daily_tons']*453.592*2000 # convert tons to grams\n",
    "\n",
    "    light_energy_total = df_summary.loc[df_summary['veh_type']==\"light\", 'energy_total'].iloc[0]\n",
    "    \n",
    "    # If 100% Gas\n",
    "    # Fuel Type == 1, Conventional Gasoline\n",
    "    fuel_density = 2839 # g/gallons\n",
    "    energy_content = 43.488 # KJ/g\n",
    "\n",
    "    # Fuel (gallons) = Energy (J) * (1/energy_content)*(g/KJ)*(1/fuel_density)*(gallons/g) / 1000 (J/KJ)\n",
    "    gallons = light_energy_total*(1/energy_content)*(1/fuel_density)/1000\n",
    "\n",
    "    vmt_df = pd.read_csv(os.path.join(run_dir,r\"outputs\\emissions\\emissions_by_vehtype_summary.csv\"))\n",
    "    vmt = vmt_df.loc[vmt_df[\"veh_type\"]==\"light\", \"VMT\"].iloc[0]\n",
    "\n",
    "    return vmt/gallons\n",
    "    "
   ]
  },
  {
   "cell_type": "markdown",
   "id": "a3ebd148",
   "metadata": {},
   "source": [
    "# 2050 no EVs"
   ]
  },
  {
   "cell_type": "code",
   "execution_count": 106,
   "id": "a869c0db",
   "metadata": {},
   "outputs": [
    {
     "data": {
      "text/plain": [
       "np.float64(29.24307259677219)"
      ]
     },
     "execution_count": 106,
     "metadata": {},
     "output_type": "execute_result"
    }
   ],
   "source": [
    "calc_fuel_consumption(r\"\\\\modelstation1\\c$\\workspace\\sc_2050_run129_04_28_25\")"
   ]
  },
  {
   "cell_type": "markdown",
   "id": "63899521",
   "metadata": {},
   "source": [
    "# 2023 (existing fleet)"
   ]
  },
  {
   "cell_type": "code",
   "execution_count": 107,
   "id": "852d9469",
   "metadata": {},
   "outputs": [
    {
     "data": {
      "text/plain": [
       "np.float64(23.64541227416743)"
      ]
     },
     "execution_count": 107,
     "metadata": {},
     "output_type": "execute_result"
    }
   ],
   "source": [
    "calc_fuel_consumption(r\"\\\\modelstation2\\c$\\Workspace\\sc_2023_05_28_25\")"
   ]
  }
 ],
 "metadata": {
  "kernelspec": {
   "display_name": "summary",
   "language": "python",
   "name": "python3"
  },
  "language_info": {
   "codemirror_mode": {
    "name": "ipython",
    "version": 3
   },
   "file_extension": ".py",
   "mimetype": "text/x-python",
   "name": "python",
   "nbconvert_exporter": "python",
   "pygments_lexer": "ipython3",
   "version": "3.11.12"
  }
 },
 "nbformat": 4,
 "nbformat_minor": 5
}
