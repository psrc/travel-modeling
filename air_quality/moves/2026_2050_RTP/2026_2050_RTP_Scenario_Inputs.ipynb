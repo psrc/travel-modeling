{
 "cells": [
  {
   "cell_type": "code",
   "execution_count": 5,
   "id": "b9e2c480",
   "metadata": {},
   "outputs": [],
   "source": [
    "import pandas as pd"
   ]
  },
  {
   "cell_type": "code",
   "execution_count": 6,
   "id": "ddba2522",
   "metadata": {},
   "outputs": [],
   "source": [
    "# Update AVFT input files\n",
    "\n",
    "# Load original template data\n",
    "county = \"King\""
   ]
  },
  {
   "cell_type": "code",
   "execution_count": 7,
   "id": "3a4b506e",
   "metadata": {},
   "outputs": [],
   "source": [
    "def interpolate_rates(county, veh_type_list, initial_year, final_year):\n",
    "\n",
    "       # Load the original template data\n",
    "       df = pd.read_csv(f'Y:/Air Quality/2026_2050_RTP/wa_dept_of_ecology_data/2023_MOVES_inputs_revised/{county}/{county}_avft_2023.csv')\n",
    "\n",
    "       # Loop through each vehicle type\n",
    "       for veh_type in veh_type_list:\n",
    "              \n",
    "              filter = (\n",
    "                     (df['fuelTypeID'] == 9) & \n",
    "                     (df['modelYearID']==initial_year) & \n",
    "                     (df['sourceTypeID']==veh_type)\n",
    "              )\n",
    "                     \n",
    "              if len(df.loc[filter,'fuelEngFraction'].values) == 1:\n",
    "                     # Get the initial value for fuelEngFraction\n",
    "                     initial_value = df.loc[filter,'fuelEngFraction'].values[0]\n",
    "\n",
    "              initial_value = df.loc[(df['fuelTypeID'] == 9) & \n",
    "                     (df['modelYearID']==initial_year) & \n",
    "                     (df['sourceTypeID']==veh_type),'fuelEngFraction'].values[0]\n",
    "              final_value = 1 # Assert\n",
    "\n",
    "              # Fill in intermediate years\n",
    "              for year in range(initial_year, final_year+1):\n",
    "                     # Calculate the scale factor for the current year\n",
    "                     scale_factor = (year - initial_year) / (final_year - initial_year)\n",
    "\n",
    "                     # Get the actual original value for fuelEngFraction (the \"initial_value\" field is only used for linear interpolation)\n",
    "                     original_value = df.loc[(df['fuelTypeID'] == 9) & \n",
    "                            (df['modelYearID']==year) & \n",
    "                            (df['sourceTypeID']==veh_type),'fuelEngFraction'].values[0]\n",
    "\n",
    "                     # Calculate the new value for fuelEngFraction for EVs\n",
    "                     new_value = initial_value * (1 - scale_factor) + final_value * scale_factor\n",
    "                     # Update the DataFrame for the current year and sourceTypeID 21\n",
    "                     df.loc[(df['fuelTypeID'] == 9) & \n",
    "                            (df['modelYearID'] == int(year)) & \n",
    "                            (df['sourceTypeID']==veh_type),'fuelEngFraction'] = new_value\n",
    "                     \n",
    "\n",
    "                     # Reduce fuelEngFraction for other fuel types\n",
    "                     other_filter = (\n",
    "                            (df['fuelTypeID'] != 9) & \n",
    "                            (df['modelYearID'] == int(year)) & \n",
    "                            (df['sourceTypeID']==veh_type)\n",
    "                     )\n",
    "                     other_frac = df.loc[other_filter,'fuelEngFraction']\n",
    "                     \n",
    "                     new_vals = other_frac - (other_frac/other_frac.sum())*(new_value-original_value)\n",
    "                     df.loc[other_filter,'fuelEngFraction'] = new_vals\n",
    "\n",
    "              # Fill in remaining years with 1 for EV and 0 for other fuel types\n",
    "              for year in range(final_year+1, df['modelYearID'].max()):\n",
    "                     # Update the DataFrame for the current year and sourceTypeID 21\n",
    "                     df.loc[(df['fuelTypeID'] == 9) & \n",
    "                            (df['modelYearID']>= int(final_year)) & \n",
    "                            (df['sourceTypeID']==veh_type),'fuelEngFraction'] = 1\n",
    "                     \n",
    "                     df.loc[(df['fuelTypeID'] != 9) & \n",
    "                            (df['modelYearID']>= int(final_year)) & \n",
    "                            (df['sourceTypeID']==veh_type),'fuelEngFraction'] = 0\n",
    "\n",
    "       \n",
    "       return df\n",
    "# Scale down the other fuel types as well\n",
    "# repeat for other source types\n",
    "\n",
    "# Process heavy and medium trucks as well\n"
   ]
  },
  {
   "cell_type": "code",
   "execution_count": null,
   "id": "739f6e1e",
   "metadata": {},
   "outputs": [],
   "source": [
    "# Create a scenario where all vehicles are electric by 2040\n",
    "# Scale fuelTypeID up to 1 and all other values down to 0\n",
    "# Only apply to light-duty vehicles (sourceTypeID 21, 31, 32)\n",
    "veh_type_list = [21,31,32]\n",
    "\n",
    "# Process these one sourceTypeID at a time\n",
    "initial_year = 2026\n",
    "final_year = 2040\n",
    "\n",
    "# df = interpolate_rates(county, veh_type_list, initial_year, final_year)\n",
    "\n",
    "for county in ['King','Kitsap','Pierce','Snohomish']:\n",
    "    df = interpolate_rates(county, veh_type_list, initial_year, final_year)\n",
    "    df.to_csv(f'Y:/Air Quality/2026_2050_RTP/scenarios/2040_full_light_duty_EV/2023_MOVES_inputs_revised/{county}/{county}_avft_2023.csv', index=False)\n"
   ]
  },
  {
   "cell_type": "code",
   "execution_count": null,
   "id": "26c604a8",
   "metadata": {},
   "outputs": [],
   "source": []
  }
 ],
 "metadata": {
  "kernelspec": {
   "display_name": "asim",
   "language": "python",
   "name": "python3"
  },
  "language_info": {
   "codemirror_mode": {
    "name": "ipython",
    "version": 3
   },
   "file_extension": ".py",
   "mimetype": "text/x-python",
   "name": "python",
   "nbconvert_exporter": "python",
   "pygments_lexer": "ipython3",
   "version": "3.9.16"
  }
 },
 "nbformat": 4,
 "nbformat_minor": 5
}
