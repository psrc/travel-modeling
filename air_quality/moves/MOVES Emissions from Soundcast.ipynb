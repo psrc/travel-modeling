{
 "cells": [
  {
   "cell_type": "code",
   "execution_count": 1,
   "metadata": {
    "collapsed": true
   },
   "outputs": [],
   "source": [
    "# Summarize Emission Totals from Soundcast Output"
   ]
  },
  {
   "cell_type": "code",
   "execution_count": 1,
   "metadata": {
    "collapsed": true
   },
   "outputs": [],
   "source": [
    "import pandas as pd\n",
    "import os"
   ]
  },
  {
   "cell_type": "code",
   "execution_count": 2,
   "metadata": {
    "collapsed": true
   },
   "outputs": [],
   "source": [
    "run_dir = r'L:\\vision2050\\soundcast\\integrated\\stc\\2050'\n",
    "df_summer = pd.read_csv(os.path.join(run_dir, r'outputs\\aq_2050_july.csv'))\n",
    "df_winter = pd.read_csv(os.path.join(run_dir, r'outputs\\aq_2050_jan.csv'))"
   ]
  },
  {
   "cell_type": "code",
   "execution_count": 3,
   "metadata": {
    "collapsed": true
   },
   "outputs": [],
   "source": [
    "def grams_to_tons(value):\n",
    "   \n",
    "    value = value/453.592\n",
    "    value = value/2000\n",
    "    \n",
    "    return value"
   ]
  },
  {
   "cell_type": "code",
   "execution_count": 28,
   "metadata": {
    "collapsed": true
   },
   "outputs": [],
   "source": [
    "#### Pollutant codes\n",
    "# https://github.com/CEMPD/SMOKE-MOVES/wiki/Runspec-generator-pollutant-options\n",
    "\n",
    "# All pollutants to be evaluated for winter, with the exception of those listed in summer_list\n",
    "\n",
    "# 1: total gaseous HCs\n",
    "# 2: CO\n",
    "# 3: NOx\n",
    "# 5: Methane\n",
    "# 6: N20\n",
    "# 79: Non-methane HCs\n",
    "# 87: VOCs                 # Summer\n",
    "# 90: atmospheric CO2\n",
    "# 98: CO2 equiv\n",
    "\n",
    "#### PM10\n",
    "# 100: PM10 exhaust\n",
    "# 106: PM10 brakewear\n",
    "# 107: PM10 Tirewear\n",
    "\n",
    "#### PM2.5\n",
    "# 110: PM2.5 exhaust\n",
    "# 116: PM2.5 brakewear\n",
    "# 117: PM2.5 tirewear\n",
    "\n",
    "pollutant_list = [str(i) for i in [1,2,3,5,6,79,87,90,98,100,106,107,110,116,117]]\n",
    "\n",
    " # Pollutants to be evaluated in summer rather than winter\n",
    "summer_list = [87]   "
   ]
  },
  {
   "cell_type": "markdown",
   "metadata": {},
   "source": [
    "# Running Emissions"
   ]
  },
  {
   "cell_type": "code",
   "execution_count": 29,
   "metadata": {
    "collapsed": true
   },
   "outputs": [],
   "source": [
    "# Initialize results dictionary\n",
    "running_emissions = {k: 0 for k in pollutant_list}\n",
    "\n",
    "# Loop through each pollutant to calculate totals\n",
    "for pollutant in pollutant_list:\n",
    "    # Load rates based on analysis season\n",
    "    if pollutant in summer_list:\n",
    "        df = df_summer.copy()\n",
    "    else:\n",
    "        df = df_winter.copy()\n",
    "    df['tot'] = df['length']*df['total_volume']*df[pollutant]\n",
    "    tot = df['tot'].sum()\n",
    "    running_emissions[pollutant] += grams_to_tons(tot)"
   ]
  },
  {
   "cell_type": "code",
   "execution_count": 30,
   "metadata": {
    "collapsed": true
   },
   "outputs": [],
   "source": [
    "# Calculate total PM10 and PM2.5\n",
    "running_emissions['PM10'] = running_emissions['100']+running_emissions['106']+running_emissions['107']\n",
    "running_emissions['PM25'] = running_emissions['110']+running_emissions['116']+running_emissions['117']"
   ]
  },
  {
   "cell_type": "code",
   "execution_count": 31,
   "metadata": {
    "collapsed": true
   },
   "outputs": [],
   "source": [
    "df_running = pd.DataFrame.from_dict(running_emissions, orient='index').reset_index()\n",
    "df_running.columns = ['pollutant','running_tons']"
   ]
  },
  {
   "cell_type": "markdown",
   "metadata": {},
   "source": [
    "# Intrazonals"
   ]
  },
  {
   "cell_type": "code",
   "execution_count": 32,
   "metadata": {
    "collapsed": true
   },
   "outputs": [],
   "source": [
    "# Load emissions rate table to calculate intrazonal trips\n",
    "rates = pd.read_csv(os.path.join(run_dir,r'scripts\\summarize\\inputs\\network_summary\\emission_rates_2040.csv'))"
   ]
  },
  {
   "cell_type": "code",
   "execution_count": 33,
   "metadata": {
    "collapsed": true
   },
   "outputs": [],
   "source": [
    "tod_lookup = {'5to6' : 5, '6to7' : 6, '7to8' : 7, '8to9' : 8, '9to10' : 9, \n",
    "              '10to14' : 10, '14to15' : 14, '15to16' : 15, '16to17' : 16, \n",
    "              '17to18' : 17, '18to20' : 18, '20to5' : 20}\n",
    "\n",
    "county_id = {1: 'King',\n",
    "            2: 'Kitsap',\n",
    "            3: 'Pierce',\n",
    "            4: 'Snohomish'}"
   ]
  },
  {
   "cell_type": "code",
   "execution_count": 34,
   "metadata": {},
   "outputs": [
    {
     "name": "stdout",
     "output_type": "stream",
     "text": [
      "1\n",
      "2\n",
      "3\n",
      "5\n",
      "6\n",
      "79\n",
      "87\n",
      "90\n",
      "98\n",
      "100\n",
      "106\n",
      "107\n",
      "110\n",
      "116\n",
      "117\n"
     ]
    }
   ],
   "source": [
    "# Intrazonal volumes \n",
    "# From emissions rates table, look up factor by time of day\n",
    "# Use assumed speed bin and roadway type\n",
    "speedbin = 4\n",
    "roadtype = 5\n",
    "\n",
    "# Initialize dictionary of intrazonal (iz) emissions totals\n",
    "iz_emissions = {k: 0 for k in pollutant_list}\n",
    "\n",
    "# Loop through each pollutant\n",
    "for pollutant in pollutant_list:\n",
    "    print pollutant\n",
    "    for tod in tod_lookup.keys():\n",
    "        if pollutant in summer_list:\n",
    "            month = 7\n",
    "        else:\n",
    "            month = 1\n",
    "            \n",
    "        # Load total intrazonal VMT from soundcast outputs\n",
    "        df_iz = pd.read_excel(os.path.join(run_dir,r'outputs\\aq_2050.xlsx'), sheetname=tod+'_intrazonal')\n",
    "        df_iz['tot_vmt'] = df_iz['sov_iz_vmt']+df_iz['hov2_iz_vmt']+df_iz['hov3_iz_vmt']+df_iz['med_truck_iz_vmt']+df_iz['hvy_truck_iz_vmt']\n",
    "\n",
    "        # Filter rates for given roadtype, speed, month, pollutant, and TOD\n",
    "        df = rates[(rates['roadtypeId'] == roadtype) & \n",
    "                   (rates['avgspeedbinId'] == speedbin) & \n",
    "                   (rates['monthId'] == month) & \n",
    "                   (rates['pollutantId'] == int(pollutant)) &\n",
    "                   (rates['hourId'] == tod_lookup[tod])]\n",
    "\n",
    "        # Map county ID to name to match rates and soundcast output\n",
    "        df['geog_name'] = df['countyId'].map(county_id)\n",
    "\n",
    "        # Join total intrazonal VMT with emissions rates\n",
    "        df = pd.merge(df_iz[['tot_vmt','geog_name']],df[['geog_name','gramsPerMile']],on='geog_name')\n",
    "        df['emissions_total'] = df['tot_vmt']*df['gramsPerMile']\n",
    "\n",
    "        # Sum across time period by pollutant\n",
    "        iz_emissions[pollutant] += grams_to_tons(df['emissions_total'].sum())"
   ]
  },
  {
   "cell_type": "code",
   "execution_count": 35,
   "metadata": {
    "collapsed": true
   },
   "outputs": [],
   "source": [
    "# Calculate total PM10 and PM2.5\n",
    "iz_emissions['PM10'] = iz_emissions['100']+iz_emissions['106']+iz_emissions['107']\n",
    "iz_emissions['PM25'] = iz_emissions['110']+iz_emissions['116']+iz_emissions['117']"
   ]
  },
  {
   "cell_type": "code",
   "execution_count": 36,
   "metadata": {
    "collapsed": true
   },
   "outputs": [],
   "source": [
    "df_iz = pd.DataFrame.from_dict(iz_emissions, orient='index').reset_index()\n",
    "df_iz.columns = ['pollutant','intrazonal_tons']"
   ]
  },
  {
   "cell_type": "markdown",
   "metadata": {},
   "source": [
    "# Starting Emissions"
   ]
  },
  {
   "cell_type": "code",
   "execution_count": 37,
   "metadata": {
    "collapsed": true
   },
   "outputs": [],
   "source": [
    "# Import rate per vehicle\n",
    "starts = pd.read_csv(r'Y:\\Air Quality\\2018 Update MOVES\\RawOutput\\starts_king_2040.csv')\n",
    "\n",
    "# using wintertime for all emission rates per X:\\Trans\\AIRQUAL\\T2040 2018 Update\\EmissionCalcs\\Start Emissions\\Starts_2040.xlsx\n",
    "# Sum across processID and hourID\n",
    "month = 1\n",
    "grams_per_veh = starts[starts['monthID'] == month].groupby('pollutantID').sum()[['ratePerVehicle']]"
   ]
  },
  {
   "cell_type": "code",
   "execution_count": 38,
   "metadata": {
    "collapsed": true
   },
   "outputs": [],
   "source": [
    "# Vehicle population\n",
    "veh_pop = {'King': 2038221,\n",
    "          'Kitsap': 289947,\n",
    "          'Pierce': 847228,\n",
    "          'Snohomish': 807183}\n",
    "\n",
    "# Adjust this for 2050\n",
    "\n",
    "\n",
    "# Calculate total grams per day\n",
    "veh_pop = pd.DataFrame.from_dict(veh_pop,orient='index').reset_index()\n",
    "veh_pop.columns = ['geog_name','vehicles']"
   ]
  },
  {
   "cell_type": "code",
   "execution_count": 39,
   "metadata": {
    "collapsed": true
   },
   "outputs": [],
   "source": [
    "vehs = veh_pop[veh_pop['geog_name'] == 'King']['vehicles'].values[0]\n",
    "total_grams = grams_per_veh['ratePerVehicle'] * vehs"
   ]
  },
  {
   "cell_type": "code",
   "execution_count": 40,
   "metadata": {
    "collapsed": true
   },
   "outputs": [],
   "source": [
    "start_tons = pd.DataFrame(grams_to_tons(total_grams)).reset_index()\n",
    "start_tons.columns = ['pollutant','start_tons']\n",
    "start_tons['pollutant'] = start_tons['pollutant'].astype('str')\n",
    "\n",
    "# PM 10 and 2.5 only available for 100 and 110 for starts, respectively\n",
    "# Rename these pollutants to match other totals\n",
    "index_map = {k: k for k in start_tons['pollutant'].values} \n",
    "index_map['100'] = 'PM10'\n",
    "index_map['110'] = 'PM25'\n",
    "start_tons['pollutant'] = start_tons['pollutant'].map(index_map)"
   ]
  },
  {
   "cell_type": "code",
   "execution_count": 41,
   "metadata": {},
   "outputs": [
    {
     "data": {
      "text/html": [
       "<div>\n",
       "<style scoped>\n",
       "    .dataframe tbody tr th:only-of-type {\n",
       "        vertical-align: middle;\n",
       "    }\n",
       "\n",
       "    .dataframe tbody tr th {\n",
       "        vertical-align: top;\n",
       "    }\n",
       "\n",
       "    .dataframe thead th {\n",
       "        text-align: right;\n",
       "    }\n",
       "</style>\n",
       "<table border=\"1\" class=\"dataframe\">\n",
       "  <thead>\n",
       "    <tr style=\"text-align: right;\">\n",
       "      <th></th>\n",
       "      <th>pollutant</th>\n",
       "      <th>start_tons</th>\n",
       "    </tr>\n",
       "  </thead>\n",
       "  <tbody>\n",
       "    <tr>\n",
       "      <th>0</th>\n",
       "      <td>1</td>\n",
       "      <td>6.236982</td>\n",
       "    </tr>\n",
       "    <tr>\n",
       "      <th>1</th>\n",
       "      <td>2</td>\n",
       "      <td>65.826914</td>\n",
       "    </tr>\n",
       "    <tr>\n",
       "      <th>2</th>\n",
       "      <td>3</td>\n",
       "      <td>3.860276</td>\n",
       "    </tr>\n",
       "    <tr>\n",
       "      <th>3</th>\n",
       "      <td>5</td>\n",
       "      <td>0.558763</td>\n",
       "    </tr>\n",
       "    <tr>\n",
       "      <th>4</th>\n",
       "      <td>6</td>\n",
       "      <td>0.320829</td>\n",
       "    </tr>\n",
       "    <tr>\n",
       "      <th>5</th>\n",
       "      <td>79</td>\n",
       "      <td>5.678215</td>\n",
       "    </tr>\n",
       "    <tr>\n",
       "      <th>6</th>\n",
       "      <td>87</td>\n",
       "      <td>5.826669</td>\n",
       "    </tr>\n",
       "    <tr>\n",
       "      <th>7</th>\n",
       "      <td>90</td>\n",
       "      <td>1385.606795</td>\n",
       "    </tr>\n",
       "    <tr>\n",
       "      <th>8</th>\n",
       "      <td>91</td>\n",
       "      <td>0.018259</td>\n",
       "    </tr>\n",
       "    <tr>\n",
       "      <th>9</th>\n",
       "      <td>98</td>\n",
       "      <td>1495.184329</td>\n",
       "    </tr>\n",
       "    <tr>\n",
       "      <th>10</th>\n",
       "      <td>PM10</td>\n",
       "      <td>0.126583</td>\n",
       "    </tr>\n",
       "    <tr>\n",
       "      <th>11</th>\n",
       "      <td>PM25</td>\n",
       "      <td>0.112030</td>\n",
       "    </tr>\n",
       "    <tr>\n",
       "      <th>12</th>\n",
       "      <td>112</td>\n",
       "      <td>0.049584</td>\n",
       "    </tr>\n",
       "    <tr>\n",
       "      <th>13</th>\n",
       "      <td>115</td>\n",
       "      <td>0.001667</td>\n",
       "    </tr>\n",
       "    <tr>\n",
       "      <th>14</th>\n",
       "      <td>118</td>\n",
       "      <td>0.062446</td>\n",
       "    </tr>\n",
       "    <tr>\n",
       "      <th>15</th>\n",
       "      <td>119</td>\n",
       "      <td>0.000000</td>\n",
       "    </tr>\n",
       "  </tbody>\n",
       "</table>\n",
       "</div>"
      ],
      "text/plain": [
       "   pollutant   start_tons\n",
       "0          1     6.236982\n",
       "1          2    65.826914\n",
       "2          3     3.860276\n",
       "3          5     0.558763\n",
       "4          6     0.320829\n",
       "5         79     5.678215\n",
       "6         87     5.826669\n",
       "7         90  1385.606795\n",
       "8         91     0.018259\n",
       "9         98  1495.184329\n",
       "10      PM10     0.126583\n",
       "11      PM25     0.112030\n",
       "12       112     0.049584\n",
       "13       115     0.001667\n",
       "14       118     0.062446\n",
       "15       119     0.000000"
      ]
     },
     "execution_count": 41,
     "metadata": {},
     "output_type": "execute_result"
    }
   ],
   "source": [
    "start_tons"
   ]
  },
  {
   "cell_type": "markdown",
   "metadata": {},
   "source": [
    "# Total Daily Emissions"
   ]
  },
  {
   "cell_type": "code",
   "execution_count": 42,
   "metadata": {},
   "outputs": [],
   "source": [
    "# Combine link, intrazonal, and start emissions\n",
    "\n",
    "df_daily = pd.merge(df_iz,df_running,how='left').fillna(0)\n",
    "df_daily = pd.merge(df_daily,start_tons,how='left').fillna(0)\n",
    "df_daily['daily_tons'] = df_daily['intrazonal_tons'] + df_daily['running_tons'] + df_daily['start_tons']\n",
    "\n",
    "# Sort by pollutant id, requies some trickery\n",
    "df_a = df_daily[(df_daily['pollutant'] != 'PM10') & (df_daily['pollutant'] != 'PM25')]\n",
    "df_a['pollutant'] = df_a['pollutant'].astype('int')\n",
    "df_a = df_a.sort_values('pollutant')\n",
    "df_a['pollutant'] = df_a['pollutant'].astype('str')\n",
    "df_b = df_daily[-((df_daily['pollutant'] != 'PM10') & (df_daily['pollutant'] != 'PM25'))]\n",
    "\n",
    "df_daily = pd.concat([df_a,df_b], sort=True)\n",
    "\n",
    "# Map pollutant name and ID\n",
    "pollutant_map = {\n",
    "    '1': 'Total Gaseous HCs',\n",
    "    '2': 'CO',\n",
    "    '3': 'NOx',\n",
    "    '5': 'Methane',\n",
    "    '6': 'N20',\n",
    "    '79': 'Non-methane HCs',\n",
    "    '87': 'VOCs',             \n",
    "    '90': 'Atmospheric CO2',\n",
    "    '98': 'CO2 Equivalent',\n",
    "    'PM10': 'PM10 Total',\n",
    "    'PM25': 'PM25 Total',\n",
    "    '100': 'PM10 Exhaust',\n",
    "    '106': 'PM10 Brakewear',\n",
    "    '107': 'PM10 Tirewear',\n",
    "    '110': 'PM25 Exhaust',\n",
    "    '116': 'PM25 Brakewear',\n",
    "    '117': 'PM25 Tirewear',   \n",
    "}\n",
    "\n",
    "df_daily['pollutant_name'] = df_daily['pollutant'].map(pollutant_map)"
   ]
  },
  {
   "cell_type": "code",
   "execution_count": 43,
   "metadata": {},
   "outputs": [
    {
     "data": {
      "text/html": [
       "<div>\n",
       "<style scoped>\n",
       "    .dataframe tbody tr th:only-of-type {\n",
       "        vertical-align: middle;\n",
       "    }\n",
       "\n",
       "    .dataframe tbody tr th {\n",
       "        vertical-align: top;\n",
       "    }\n",
       "\n",
       "    .dataframe thead th {\n",
       "        text-align: right;\n",
       "    }\n",
       "</style>\n",
       "<table border=\"1\" class=\"dataframe\">\n",
       "  <thead>\n",
       "    <tr style=\"text-align: right;\">\n",
       "      <th></th>\n",
       "      <th>daily_tons</th>\n",
       "      <th>intrazonal_tons</th>\n",
       "      <th>pollutant</th>\n",
       "      <th>running_tons</th>\n",
       "      <th>start_tons</th>\n",
       "      <th>pollutant_name</th>\n",
       "    </tr>\n",
       "  </thead>\n",
       "  <tbody>\n",
       "    <tr>\n",
       "      <th>4</th>\n",
       "      <td>8.783060</td>\n",
       "      <td>0.017321</td>\n",
       "      <td>1</td>\n",
       "      <td>2.528757</td>\n",
       "      <td>6.236982</td>\n",
       "      <td>Total Gaseous HCs</td>\n",
       "    </tr>\n",
       "    <tr>\n",
       "      <th>7</th>\n",
       "      <td>181.647974</td>\n",
       "      <td>0.687692</td>\n",
       "      <td>2</td>\n",
       "      <td>115.133368</td>\n",
       "      <td>65.826914</td>\n",
       "      <td>CO</td>\n",
       "    </tr>\n",
       "    <tr>\n",
       "      <th>6</th>\n",
       "      <td>20.753477</td>\n",
       "      <td>0.090884</td>\n",
       "      <td>3</td>\n",
       "      <td>16.802317</td>\n",
       "      <td>3.860276</td>\n",
       "      <td>NOx</td>\n",
       "    </tr>\n",
       "    <tr>\n",
       "      <th>8</th>\n",
       "      <td>1.151567</td>\n",
       "      <td>0.003994</td>\n",
       "      <td>5</td>\n",
       "      <td>0.588809</td>\n",
       "      <td>0.558763</td>\n",
       "      <td>Methane</td>\n",
       "    </tr>\n",
       "    <tr>\n",
       "      <th>11</th>\n",
       "      <td>0.467922</td>\n",
       "      <td>0.001321</td>\n",
       "      <td>6</td>\n",
       "      <td>0.145772</td>\n",
       "      <td>0.320829</td>\n",
       "      <td>N20</td>\n",
       "    </tr>\n",
       "    <tr>\n",
       "      <th>16</th>\n",
       "      <td>7.388278</td>\n",
       "      <td>0.011553</td>\n",
       "      <td>79</td>\n",
       "      <td>1.698511</td>\n",
       "      <td>5.678215</td>\n",
       "      <td>Non-methane HCs</td>\n",
       "    </tr>\n",
       "    <tr>\n",
       "      <th>15</th>\n",
       "      <td>7.544446</td>\n",
       "      <td>0.011727</td>\n",
       "      <td>87</td>\n",
       "      <td>1.706050</td>\n",
       "      <td>5.826669</td>\n",
       "      <td>VOCs</td>\n",
       "    </tr>\n",
       "    <tr>\n",
       "      <th>12</th>\n",
       "      <td>40775.906445</td>\n",
       "      <td>248.286860</td>\n",
       "      <td>90</td>\n",
       "      <td>39142.012790</td>\n",
       "      <td>1385.606795</td>\n",
       "      <td>Atmospheric CO2</td>\n",
       "    </tr>\n",
       "    <tr>\n",
       "      <th>5</th>\n",
       "      <td>40944.134996</td>\n",
       "      <td>248.780190</td>\n",
       "      <td>98</td>\n",
       "      <td>39200.170478</td>\n",
       "      <td>1495.184329</td>\n",
       "      <td>CO2 Equivalent</td>\n",
       "    </tr>\n",
       "    <tr>\n",
       "      <th>13</th>\n",
       "      <td>0.599684</td>\n",
       "      <td>0.003612</td>\n",
       "      <td>100</td>\n",
       "      <td>0.596071</td>\n",
       "      <td>0.000000</td>\n",
       "      <td>PM10 Exhaust</td>\n",
       "    </tr>\n",
       "    <tr>\n",
       "      <th>14</th>\n",
       "      <td>5.671907</td>\n",
       "      <td>0.058503</td>\n",
       "      <td>106</td>\n",
       "      <td>5.613405</td>\n",
       "      <td>0.000000</td>\n",
       "      <td>PM10 Brakewear</td>\n",
       "    </tr>\n",
       "    <tr>\n",
       "      <th>3</th>\n",
       "      <td>1.388304</td>\n",
       "      <td>0.008673</td>\n",
       "      <td>107</td>\n",
       "      <td>1.379631</td>\n",
       "      <td>0.000000</td>\n",
       "      <td>PM10 Tirewear</td>\n",
       "    </tr>\n",
       "    <tr>\n",
       "      <th>9</th>\n",
       "      <td>0.539618</td>\n",
       "      <td>0.003251</td>\n",
       "      <td>110</td>\n",
       "      <td>0.536368</td>\n",
       "      <td>0.000000</td>\n",
       "      <td>PM25 Exhaust</td>\n",
       "    </tr>\n",
       "    <tr>\n",
       "      <th>0</th>\n",
       "      <td>0.708988</td>\n",
       "      <td>0.007313</td>\n",
       "      <td>116</td>\n",
       "      <td>0.701676</td>\n",
       "      <td>0.000000</td>\n",
       "      <td>PM25 Brakewear</td>\n",
       "    </tr>\n",
       "    <tr>\n",
       "      <th>2</th>\n",
       "      <td>0.208245</td>\n",
       "      <td>0.001301</td>\n",
       "      <td>117</td>\n",
       "      <td>0.206944</td>\n",
       "      <td>0.000000</td>\n",
       "      <td>PM25 Tirewear</td>\n",
       "    </tr>\n",
       "    <tr>\n",
       "      <th>1</th>\n",
       "      <td>7.786478</td>\n",
       "      <td>0.070788</td>\n",
       "      <td>PM10</td>\n",
       "      <td>7.589107</td>\n",
       "      <td>0.126583</td>\n",
       "      <td>PM10 Total</td>\n",
       "    </tr>\n",
       "    <tr>\n",
       "      <th>10</th>\n",
       "      <td>1.568881</td>\n",
       "      <td>0.011864</td>\n",
       "      <td>PM25</td>\n",
       "      <td>1.444987</td>\n",
       "      <td>0.112030</td>\n",
       "      <td>PM25 Total</td>\n",
       "    </tr>\n",
       "  </tbody>\n",
       "</table>\n",
       "</div>"
      ],
      "text/plain": [
       "      daily_tons  intrazonal_tons pollutant  running_tons   start_tons  \\\n",
       "4       8.783060         0.017321         1      2.528757     6.236982   \n",
       "7     181.647974         0.687692         2    115.133368    65.826914   \n",
       "6      20.753477         0.090884         3     16.802317     3.860276   \n",
       "8       1.151567         0.003994         5      0.588809     0.558763   \n",
       "11      0.467922         0.001321         6      0.145772     0.320829   \n",
       "16      7.388278         0.011553        79      1.698511     5.678215   \n",
       "15      7.544446         0.011727        87      1.706050     5.826669   \n",
       "12  40775.906445       248.286860        90  39142.012790  1385.606795   \n",
       "5   40944.134996       248.780190        98  39200.170478  1495.184329   \n",
       "13      0.599684         0.003612       100      0.596071     0.000000   \n",
       "14      5.671907         0.058503       106      5.613405     0.000000   \n",
       "3       1.388304         0.008673       107      1.379631     0.000000   \n",
       "9       0.539618         0.003251       110      0.536368     0.000000   \n",
       "0       0.708988         0.007313       116      0.701676     0.000000   \n",
       "2       0.208245         0.001301       117      0.206944     0.000000   \n",
       "1       7.786478         0.070788      PM10      7.589107     0.126583   \n",
       "10      1.568881         0.011864      PM25      1.444987     0.112030   \n",
       "\n",
       "       pollutant_name  \n",
       "4   Total Gaseous HCs  \n",
       "7                  CO  \n",
       "6                 NOx  \n",
       "8             Methane  \n",
       "11                N20  \n",
       "16    Non-methane HCs  \n",
       "15               VOCs  \n",
       "12    Atmospheric CO2  \n",
       "5      CO2 Equivalent  \n",
       "13       PM10 Exhaust  \n",
       "14     PM10 Brakewear  \n",
       "3       PM10 Tirewear  \n",
       "9        PM25 Exhaust  \n",
       "0      PM25 Brakewear  \n",
       "2       PM25 Tirewear  \n",
       "1          PM10 Total  \n",
       "10         PM25 Total  "
      ]
     },
     "execution_count": 43,
     "metadata": {},
     "output_type": "execute_result"
    }
   ],
   "source": [
    "df_daily"
   ]
  },
  {
   "cell_type": "code",
   "execution_count": null,
   "metadata": {
    "collapsed": true
   },
   "outputs": [],
   "source": []
  }
 ],
 "metadata": {
  "kernelspec": {
   "display_name": "Python 2",
   "language": "python",
   "name": "python2"
  },
  "language_info": {
   "codemirror_mode": {
    "name": "ipython",
    "version": 2
   },
   "file_extension": ".py",
   "mimetype": "text/x-python",
   "name": "python",
   "nbconvert_exporter": "python",
   "pygments_lexer": "ipython2",
   "version": "2.7.14"
  }
 },
 "nbformat": 4,
 "nbformat_minor": 2
}
