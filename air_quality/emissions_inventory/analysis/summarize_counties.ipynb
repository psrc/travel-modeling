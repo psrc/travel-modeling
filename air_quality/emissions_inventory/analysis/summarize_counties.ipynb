{
 "cells": [
  {
   "cell_type": "code",
   "execution_count": 2,
   "id": "2e5fcd02",
   "metadata": {},
   "outputs": [],
   "source": [
    "import pandas as pd"
   ]
  },
  {
   "cell_type": "code",
   "execution_count": 5,
   "id": "e3ba253a",
   "metadata": {},
   "outputs": [
    {
     "data": {
      "text/html": [
       "<div>\n",
       "<style scoped>\n",
       "    .dataframe tbody tr th:only-of-type {\n",
       "        vertical-align: middle;\n",
       "    }\n",
       "\n",
       "    .dataframe tbody tr th {\n",
       "        vertical-align: top;\n",
       "    }\n",
       "\n",
       "    .dataframe thead th {\n",
       "        text-align: right;\n",
       "    }\n",
       "</style>\n",
       "<table border=\"1\" class=\"dataframe\">\n",
       "  <thead>\n",
       "    <tr style=\"text-align: right;\">\n",
       "      <th></th>\n",
       "      <th>running_daily_tons</th>\n",
       "      <th>start_tons</th>\n",
       "      <th>total_tons</th>\n",
       "    </tr>\n",
       "  </thead>\n",
       "  <tbody>\n",
       "    <tr>\n",
       "      <th>King</th>\n",
       "      <td>20793.251503</td>\n",
       "      <td>1171.933912</td>\n",
       "      <td>21965.185415</td>\n",
       "    </tr>\n",
       "    <tr>\n",
       "      <th>Kitsap</th>\n",
       "      <td>2127.642965</td>\n",
       "      <td>0.068004</td>\n",
       "      <td>2127.710969</td>\n",
       "    </tr>\n",
       "    <tr>\n",
       "      <th>Pierce</th>\n",
       "      <td>8479.482666</td>\n",
       "      <td>0.067265</td>\n",
       "      <td>8479.549931</td>\n",
       "    </tr>\n",
       "    <tr>\n",
       "      <th>Snohomish</th>\n",
       "      <td>7579.269035</td>\n",
       "      <td>0.136748</td>\n",
       "      <td>7579.405782</td>\n",
       "    </tr>\n",
       "    <tr>\n",
       "      <th>total</th>\n",
       "      <td>38979.646169</td>\n",
       "      <td>1172.205929</td>\n",
       "      <td>40151.852098</td>\n",
       "    </tr>\n",
       "  </tbody>\n",
       "</table>\n",
       "</div>"
      ],
      "text/plain": [
       "           running_daily_tons   start_tons    total_tons\n",
       "King             20793.251503  1171.933912  21965.185415\n",
       "Kitsap            2127.642965     0.068004   2127.710969\n",
       "Pierce            8479.482666     0.067265   8479.549931\n",
       "Snohomish         7579.269035     0.136748   7579.405782\n",
       "total            38979.646169  1172.205929  40151.852098"
      ]
     },
     "execution_count": 5,
     "metadata": {},
     "output_type": "execute_result"
    }
   ],
   "source": [
    "results_df = pd.DataFrame()\n",
    "for county in ['King','Kitsap','Pierce','Snohomish']:\n",
    "    df = pd.read_csv(f'../output/interpolated/{county}/2023/running_summary.csv')\n",
    "    results_df.loc[county, 'running_daily_tons'] = df[df['pollutantID']==\"98\"]['running_daily_tons'].sum()\n",
    "\n",
    "    df = pd.read_csv(f'../output/interpolated/{county}/2023/start_summary.csv')\n",
    "    results_df.loc[county, 'start_tons'] = df[df['pollutantID']==\"98\"]['start_tons'].sum()\n",
    "results_df.loc[\"total\", :] = results_df.sum()\n",
    "\n",
    "results_df['total_tons'] = results_df['running_daily_tons'] + results_df['start_tons']\n",
    "\n",
    "results_df"
   ]
  },
  {
   "cell_type": "code",
   "execution_count": 4,
   "id": "53a09357",
   "metadata": {},
   "outputs": [],
   "source": [
    "# Interzonal VMT\n",
    "results_df = pd.DataFrame()\n",
    "for county in ['King','Kitsap','Pierce','Snohomish']:\n",
    "    df = pd.read_csv(f'../output/interzonal_vmt_{county}.csv')\n",
    "    results_df.loc[county, 'interzonal_vmt'] = df[[\"sov_vmt\",\"hov2_vmt\",\"hov3_vmt\",\"tnc_vmt\",\"bus_vmt\",\"medium_truck_vmt\",\"heavy_truck_vmt\"]].sum().sum()\n",
    "results_df.loc[\"total\", :] = results_df[[\"interzonal_vmt\"]].sum()"
   ]
  },
  {
   "cell_type": "code",
   "execution_count": 40,
   "id": "5c6c376d",
   "metadata": {},
   "outputs": [
    {
     "data": {
      "text/html": [
       "<div>\n",
       "<style scoped>\n",
       "    .dataframe tbody tr th:only-of-type {\n",
       "        vertical-align: middle;\n",
       "    }\n",
       "\n",
       "    .dataframe tbody tr th {\n",
       "        vertical-align: top;\n",
       "    }\n",
       "\n",
       "    .dataframe thead th {\n",
       "        text-align: right;\n",
       "    }\n",
       "</style>\n",
       "<table border=\"1\" class=\"dataframe\">\n",
       "  <thead>\n",
       "    <tr style=\"text-align: right;\">\n",
       "      <th></th>\n",
       "      <th>interzonal_vmt</th>\n",
       "    </tr>\n",
       "  </thead>\n",
       "  <tbody>\n",
       "    <tr>\n",
       "      <th>King</th>\n",
       "      <td>4.320131e+07</td>\n",
       "    </tr>\n",
       "    <tr>\n",
       "      <th>Kitsap</th>\n",
       "      <td>4.290023e+06</td>\n",
       "    </tr>\n",
       "    <tr>\n",
       "      <th>Pierce</th>\n",
       "      <td>1.836509e+07</td>\n",
       "    </tr>\n",
       "    <tr>\n",
       "      <th>Snohomish</th>\n",
       "      <td>1.607478e+07</td>\n",
       "    </tr>\n",
       "    <tr>\n",
       "      <th>total</th>\n",
       "      <td>8.193120e+07</td>\n",
       "    </tr>\n",
       "  </tbody>\n",
       "</table>\n",
       "</div>"
      ],
      "text/plain": [
       "           interzonal_vmt\n",
       "King         4.320131e+07\n",
       "Kitsap       4.290023e+06\n",
       "Pierce       1.836509e+07\n",
       "Snohomish    1.607478e+07\n",
       "total        8.193120e+07"
      ]
     },
     "execution_count": 40,
     "metadata": {},
     "output_type": "execute_result"
    }
   ],
   "source": [
    "results_df"
   ]
  },
  {
   "cell_type": "code",
   "execution_count": null,
   "id": "9a077b2f",
   "metadata": {},
   "outputs": [],
   "source": []
  }
 ],
 "metadata": {
  "kernelspec": {
   "display_name": "summary",
   "language": "python",
   "name": "python3"
  },
  "language_info": {
   "codemirror_mode": {
    "name": "ipython",
    "version": 3
   },
   "file_extension": ".py",
   "mimetype": "text/x-python",
   "name": "python",
   "nbconvert_exporter": "python",
   "pygments_lexer": "ipython3",
   "version": "3.11.12"
  }
 },
 "nbformat": 4,
 "nbformat_minor": 5
}
