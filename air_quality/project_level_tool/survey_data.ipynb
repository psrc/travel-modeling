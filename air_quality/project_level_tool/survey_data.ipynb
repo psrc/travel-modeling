{
 "cells": [
  {
   "cell_type": "code",
   "execution_count": 3,
   "metadata": {},
   "outputs": [],
   "source": [
    "import os, sys\n",
    "import pandas as pd\n",
    "import numpy as np\n",
    "from operator import itemgetter\n",
    "import urllib\n",
    "import pyodbc\n",
    "import sqlalchemy\n",
    "from sqlalchemy.engine import URL\n",
    "from pymssql import connect\n",
    "import toml"
   ]
  },
  {
   "cell_type": "code",
   "execution_count": 4,
   "metadata": {},
   "outputs": [],
   "source": [
    "config = toml.load(\"configuration.toml\")"
   ]
  },
  {
   "cell_type": "code",
   "execution_count": 5,
   "metadata": {},
   "outputs": [
    {
     "data": {
      "text/plain": [
       "{'survey_year': '(2021)', 'weight_col': 'hh_weight_2021'}"
      ]
     },
     "execution_count": 5,
     "metadata": {},
     "output_type": "execute_result"
    }
   ],
   "source": [
    "config"
   ]
  },
  {
   "cell_type": "code",
   "execution_count": 64,
   "metadata": {},
   "outputs": [],
   "source": [
    "conn_string = \"DRIVER={ODBC Driver 17 for SQL Server}; SERVER=AWS-PROD-SQL\\Sockeye; DATABASE=Elmer; trusted_connection=yes\"\n",
    "sql_conn = pyodbc.connect(conn_string)\n",
    "params = urllib.parse.quote_plus(conn_string)\n",
    "engine = sqlalchemy.create_engine(\"mssql+pyodbc:///?odbc_connect=%s\" % params)\n",
    "\n",
    "person_df = pd.read_sql(\n",
    "            sql=\"SELECT worker, telecommute_freq, mode_freq_2, \"+config['weight_col']+\", wbt_bikemore_1, wbt_bikemore_2,\\\n",
    "            wbt_bikemore_3, wbt_bikemore_4 FROM HHSurvey.v_persons WHERE survey_year IN \"\n",
    "            + config[\"survey_year\"],\n",
    "            con=engine,\n",
    "        )"
   ]
  },
  {
   "cell_type": "code",
   "execution_count": 7,
   "metadata": {},
   "outputs": [],
   "source": [
    "trip_df = pd.read_sql(\n",
    "            sql=\"SELECT * FROM HHSurvey.v_trips WHERE survey_year IN \"\n",
    "            + config[\"survey_year\"],\n",
    "            con=engine,\n",
    "        )"
   ]
  },
  {
   "cell_type": "code",
   "execution_count": 8,
   "metadata": {},
   "outputs": [],
   "source": [
    "def create_df(df, groupby_col, weight_col):\n",
    "    \"\"\"Create dataframe of weighted and unweighted values for a single column.\"\"\"\n",
    "\n",
    "    df_wt = df.groupby(groupby_col).sum()[[weight_col]].reset_index()\n",
    "    df_wt.rename(columns={weight_col:'weighted'}, inplace=True)\n",
    "    df_count = df.groupby(groupby_col).count()[[weight_col]].reset_index()\n",
    "    df_count.rename(columns={weight_col:'samples'}, inplace=True)\n",
    "\n",
    "    df = df_wt.merge(df_count, on=groupby_col)\n",
    "    df.index = df[groupby_col]\n",
    "    df = df.drop(groupby_col, axis=1)\n",
    "\n",
    "    return df"
   ]
  },
  {
   "cell_type": "markdown",
   "metadata": {},
   "source": [
    "# Person\n",
    "#### Willingness to Bike"
   ]
  },
  {
   "cell_type": "code",
   "execution_count": 9,
   "metadata": {},
   "outputs": [],
   "source": [
    "# Filter for current non-biker population (someone who rides less than once per week)\n",
    "# This will be the denominator to calcualte the percent of current non-riders that might bike\n",
    "# with infrastructure improvements. \n",
    "non_biker_pop = person_df[~person_df['mode_freq_2'].isin([\n",
    "    '1 day/week','2-4 days/week','5 days/week','6-7 days/week'\n",
    "                            ])]"
   ]
  },
  {
   "cell_type": "code",
   "execution_count": 10,
   "metadata": {},
   "outputs": [
    {
     "data": {
      "text/plain": [
       "array(['2-4 days/week', 'I never do this',\n",
       "       'I do this, but not in the past 30 days', 'Missing: Skip Logic',\n",
       "       '5 days/week', '1-3 times in the past 30 days', '1 day/week',\n",
       "       '6-7 days/week'], dtype=object)"
      ]
     },
     "execution_count": 10,
     "metadata": {},
     "output_type": "execute_result"
    }
   ],
   "source": [
    "person_df['mode_freq_2'].unique()"
   ]
  },
  {
   "cell_type": "code",
   "execution_count": 11,
   "metadata": {},
   "outputs": [
    {
     "data": {
      "text/plain": [
       "3945070.5518"
      ]
     },
     "execution_count": 11,
     "metadata": {},
     "output_type": "execute_result"
    }
   ],
   "source": [
    "non_biker_pop[config[\"weight_col\"]].sum()"
   ]
  },
  {
   "cell_type": "code",
   "execution_count": 12,
   "metadata": {},
   "outputs": [],
   "source": [
    "# Percent of potential cyclists who would ride if there was a bike lane serving their destination\n",
    "\n",
    "# wbt_bikemore_1: Use more bike --  Shared use path or protected bike lane\n",
    "# wbt_bikemore_2: Use more bike --  Neighborhood greenway\n",
    "# wbt_bikemore_3: Use more bike --  Bike lane\n",
    "# wbt_bikemore_4: Use more bike --  Shared roadway lane"
   ]
  },
  {
   "cell_type": "code",
   "execution_count": 13,
   "metadata": {},
   "outputs": [],
   "source": [
    "df_1 = create_df(non_biker_pop, 'wbt_bikemore_1', config[\"weight_col\"])\n",
    "df_2 = create_df(non_biker_pop, 'wbt_bikemore_2', config[\"weight_col\"])\n",
    "df_3 = create_df(non_biker_pop, 'wbt_bikemore_3', config[\"weight_col\"])\n",
    "df_4 = create_df(non_biker_pop, 'wbt_bikemore_4', config[\"weight_col\"])"
   ]
  },
  {
   "cell_type": "code",
   "execution_count": 14,
   "metadata": {},
   "outputs": [],
   "source": [
    "df_tot = df_1[['weighted']].merge(df_2[['weighted']], \n",
    "    left_index=True, right_index=True, suffixes=['_1','_2'])\n",
    "df_tot = df_tot.merge(df_3[['weighted']], \n",
    "    left_index=True, right_index=True)\n",
    "df_tot = df_tot.merge(df_4[['weighted']], \n",
    "    left_index=True, right_index=True, suffixes=['_3','_4'])"
   ]
  },
  {
   "cell_type": "code",
   "execution_count": 15,
   "metadata": {},
   "outputs": [],
   "source": [
    "df_samples = df_1[['samples']].merge(df_2[['samples']], \n",
    "    left_index=True, right_index=True, suffixes=['_1','_2'])\n",
    "df_samples = df_samples.merge(df_3[['samples']], \n",
    "    left_index=True, right_index=True)\n",
    "df_samples = df_samples.merge(df_4[['samples']], \n",
    "    left_index=True, right_index=True, suffixes=['_3','_4'])"
   ]
  },
  {
   "cell_type": "code",
   "execution_count": 16,
   "metadata": {},
   "outputs": [
    {
     "data": {
      "text/plain": [
       "<AxesSubplot:ylabel='wbt_bikemore_1'>"
      ]
     },
     "execution_count": 16,
     "metadata": {},
     "output_type": "execute_result"
    },
    {
     "data": {
      "image/png": "[encoded data removed]",
      "text/plain": [
       "<Figure size 432x288 with 1 Axes>"
      ]
     },
     "metadata": {
      "needs_background": "light"
     },
     "output_type": "display_data"
    }
   ],
   "source": [
    "df_tot.plot(kind='barh')"
   ]
  },
  {
   "cell_type": "code",
   "execution_count": 17,
   "metadata": {},
   "outputs": [],
   "source": [
    "# Group responses based on any positive answer (1 or more days per week)\n",
    "df_grouped = pd.DataFrame(df_tot[df_tot.index.isin(['Occasionally (1-2 days per week)',\n",
    "                            # 'Rarely (1-3 times per month)',\n",
    "                            'Regularly (6-7 days per week)',\n",
    "                            'Somewhat often (3-5 days per week)'])].sum(axis=0), columns=['Weighted'])"
   ]
  },
  {
   "cell_type": "code",
   "execution_count": 18,
   "metadata": {},
   "outputs": [],
   "source": [
    "# Group responses based on any positive answer (1 or more days per week)\n",
    "df_grouped_samples = pd.DataFrame(df_samples[df_samples.index.isin(['Occasionally (1-2 days per week)',\n",
    "                            # 'Rarely (1-3 times per month)',\n",
    "                            'Regularly (6-7 days per week)',\n",
    "                            'Somewhat often (3-5 days per week)'])].sum(axis=0), columns=['Samples'])"
   ]
  },
  {
   "cell_type": "code",
   "execution_count": 19,
   "metadata": {},
   "outputs": [
    {
     "data": {
      "text/html": [
       "<div>\n",
       "<style scoped>\n",
       "    .dataframe tbody tr th:only-of-type {\n",
       "        vertical-align: middle;\n",
       "    }\n",
       "\n",
       "    .dataframe tbody tr th {\n",
       "        vertical-align: top;\n",
       "    }\n",
       "\n",
       "    .dataframe thead th {\n",
       "        text-align: right;\n",
       "    }\n",
       "</style>\n",
       "<table border=\"1\" class=\"dataframe\">\n",
       "  <thead>\n",
       "    <tr style=\"text-align: right;\">\n",
       "      <th></th>\n",
       "      <th>samples_1</th>\n",
       "      <th>samples_2</th>\n",
       "      <th>samples_3</th>\n",
       "      <th>samples_4</th>\n",
       "    </tr>\n",
       "    <tr>\n",
       "      <th>wbt_bikemore_1</th>\n",
       "      <th></th>\n",
       "      <th></th>\n",
       "      <th></th>\n",
       "      <th></th>\n",
       "    </tr>\n",
       "  </thead>\n",
       "  <tbody>\n",
       "    <tr>\n",
       "      <th>Missing: Skip Logic</th>\n",
       "      <td>2452</td>\n",
       "      <td>2452</td>\n",
       "      <td>2452</td>\n",
       "      <td>2452</td>\n",
       "    </tr>\n",
       "    <tr>\n",
       "      <th>Never</th>\n",
       "      <td>1243</td>\n",
       "      <td>1199</td>\n",
       "      <td>1328</td>\n",
       "      <td>1462</td>\n",
       "    </tr>\n",
       "    <tr>\n",
       "      <th>Not Applicable</th>\n",
       "      <td>1172</td>\n",
       "      <td>1166</td>\n",
       "      <td>1190</td>\n",
       "      <td>1197</td>\n",
       "    </tr>\n",
       "    <tr>\n",
       "      <th>Occasionally (1-2 days per week)</th>\n",
       "      <td>388</td>\n",
       "      <td>405</td>\n",
       "      <td>349</td>\n",
       "      <td>284</td>\n",
       "    </tr>\n",
       "    <tr>\n",
       "      <th>Rarely (1-3 times per month)</th>\n",
       "      <td>507</td>\n",
       "      <td>504</td>\n",
       "      <td>494</td>\n",
       "      <td>492</td>\n",
       "    </tr>\n",
       "    <tr>\n",
       "      <th>Regularly (6-7 days per week)</th>\n",
       "      <td>103</td>\n",
       "      <td>100</td>\n",
       "      <td>69</td>\n",
       "      <td>52</td>\n",
       "    </tr>\n",
       "    <tr>\n",
       "      <th>Somewhat often (3-5 days per week)</th>\n",
       "      <td>183</td>\n",
       "      <td>222</td>\n",
       "      <td>166</td>\n",
       "      <td>109</td>\n",
       "    </tr>\n",
       "  </tbody>\n",
       "</table>\n",
       "</div>"
      ],
      "text/plain": [
       "                                    samples_1  samples_2  samples_3  samples_4\n",
       "wbt_bikemore_1                                                                \n",
       "Missing: Skip Logic                      2452       2452       2452       2452\n",
       "Never                                    1243       1199       1328       1462\n",
       "Not Applicable                           1172       1166       1190       1197\n",
       "Occasionally (1-2 days per week)          388        405        349        284\n",
       "Rarely (1-3 times per month)              507        504        494        492\n",
       "Regularly (6-7 days per week)             103        100         69         52\n",
       "Somewhat often (3-5 days per week)        183        222        166        109"
      ]
     },
     "execution_count": 19,
     "metadata": {},
     "output_type": "execute_result"
    }
   ],
   "source": [
    "df_samples"
   ]
  },
  {
   "cell_type": "code",
   "execution_count": 20,
   "metadata": {},
   "outputs": [],
   "source": [
    "df_grouped_samples.to_clipboard()"
   ]
  },
  {
   "cell_type": "code",
   "execution_count": 21,
   "metadata": {},
   "outputs": [
    {
     "data": {
      "text/html": [
       "<div>\n",
       "<style scoped>\n",
       "    .dataframe tbody tr th:only-of-type {\n",
       "        vertical-align: middle;\n",
       "    }\n",
       "\n",
       "    .dataframe tbody tr th {\n",
       "        vertical-align: top;\n",
       "    }\n",
       "\n",
       "    .dataframe thead th {\n",
       "        text-align: right;\n",
       "    }\n",
       "</style>\n",
       "<table border=\"1\" class=\"dataframe\">\n",
       "  <thead>\n",
       "    <tr style=\"text-align: right;\">\n",
       "      <th></th>\n",
       "      <th>Weighted</th>\n",
       "      <th>share</th>\n",
       "    </tr>\n",
       "  </thead>\n",
       "  <tbody>\n",
       "    <tr>\n",
       "      <th>weighted_1</th>\n",
       "      <td>509774.2175</td>\n",
       "      <td>0.129218</td>\n",
       "    </tr>\n",
       "    <tr>\n",
       "      <th>weighted_2</th>\n",
       "      <td>540155.2480</td>\n",
       "      <td>0.136919</td>\n",
       "    </tr>\n",
       "    <tr>\n",
       "      <th>weighted_3</th>\n",
       "      <td>435331.7180</td>\n",
       "      <td>0.110348</td>\n",
       "    </tr>\n",
       "    <tr>\n",
       "      <th>weighted_4</th>\n",
       "      <td>331862.8298</td>\n",
       "      <td>0.084121</td>\n",
       "    </tr>\n",
       "  </tbody>\n",
       "</table>\n",
       "</div>"
      ],
      "text/plain": [
       "               Weighted     share\n",
       "weighted_1  509774.2175  0.129218\n",
       "weighted_2  540155.2480  0.136919\n",
       "weighted_3  435331.7180  0.110348\n",
       "weighted_4  331862.8298  0.084121"
      ]
     },
     "execution_count": 21,
     "metadata": {},
     "output_type": "execute_result"
    }
   ],
   "source": [
    "df_grouped['share'] = df_grouped['Weighted']/non_biker_pop[config[\"weight_col\"]].sum()\n",
    "df_grouped"
   ]
  },
  {
   "cell_type": "code",
   "execution_count": 22,
   "metadata": {},
   "outputs": [],
   "source": [
    "df_grouped.to_clipboard()\n"
   ]
  },
  {
   "cell_type": "code",
   "execution_count": 76,
   "metadata": {},
   "outputs": [
    {
     "data": {
      "text/plain": [
       "0.49601540223981705"
      ]
     },
     "execution_count": 76,
     "metadata": {},
     "output_type": "execute_result"
    }
   ],
   "source": [
    "# percent of population who are commuters\n",
    "# Commuters defined as all workers except frequent telecommuters; \n",
    "# ([number of workers in region]-[workers who telecommute 5+ times per week])/(total regional population)\n",
    "total_workers = person_df.loc[person_df['worker'] == '1+ job(s) (including part-time)', config[\"weight_col\"]].sum()\n",
    "telecommuters = person_df.loc[person_df['telecommute_freq'] == '5+ days', config[\"weight_col\"]].sum()\n",
    "total_pop = person_df[config[\"weight_col\"]].sum()\n",
    "\n",
    "(total_workers-telecommuters)/total_pop"
   ]
  },
  {
   "cell_type": "markdown",
   "metadata": {},
   "source": [
    "# Trip"
   ]
  },
  {
   "cell_type": "code",
   "execution_count": 23,
   "metadata": {},
   "outputs": [],
   "source": [
    "trip_wt = 'trip_respondent_weight_2021'"
   ]
  },
  {
   "cell_type": "code",
   "execution_count": 24,
   "metadata": {},
   "outputs": [],
   "source": [
    "trip_df['wt_dist'] = trip_df['trip_path_distance']*trip_df[trip_wt]"
   ]
  },
  {
   "cell_type": "code",
   "execution_count": 25,
   "metadata": {},
   "outputs": [
    {
     "data": {
      "text/plain": [
       "8.221775526487507"
      ]
     },
     "execution_count": 25,
     "metadata": {},
     "output_type": "execute_result"
    }
   ],
   "source": [
    "# Average transit trip length\n",
    "transit_df = trip_df[trip_df['mode_simple'] == 'Transit']\n",
    "transit_df['wt_dist'].sum()/transit_df[trip_wt].sum()"
   ]
  },
  {
   "cell_type": "code",
   "execution_count": 26,
   "metadata": {},
   "outputs": [
    {
     "data": {
      "text/plain": [
       "7.848450226532842"
      ]
     },
     "execution_count": 26,
     "metadata": {},
     "output_type": "execute_result"
    }
   ],
   "source": [
    "# Average transit trip length *bus only\n",
    "bus_df = trip_df[trip_df['mode_1'] == 'Bus (public transit)']\n",
    "bus_df['wt_dist'].sum()/bus_df[trip_wt].sum()"
   ]
  },
  {
   "cell_type": "code",
   "execution_count": 61,
   "metadata": {},
   "outputs": [
    {
     "data": {
      "text/plain": [
       "1.2816976836139036"
      ]
     },
     "execution_count": 61,
     "metadata": {},
     "output_type": "execute_result"
    }
   ],
   "source": [
    "# Average auto occupancy\n",
    "# (total auto trips as driver or passenger)/(total auto trips as driver only)\n",
    "(trip_df[trip_df['mode_simple'] == 'Drive'][trip_wt].sum())/trip_df[(trip_df['mode_simple'] == 'Drive') & \n",
    "                                                                    (trip_df['driver'] == 'Driver')][trip_wt].sum()\n"
   ]
  },
  {
   "cell_type": "code",
   "execution_count": 28,
   "metadata": {},
   "outputs": [
    {
     "data": {
      "text/plain": [
       "0.024257933294634795"
      ]
     },
     "execution_count": 28,
     "metadata": {},
     "output_type": "execute_result"
    }
   ],
   "source": [
    "# Average bicycle commute mode share\n",
    "commute_df = trip_df[trip_df['dest_purpose'].isin(['Went to primary workplace'])]\n",
    "commute_df[commute_df['mode_simple'] == 'Bike'][trip_wt].sum()/commute_df[trip_wt].sum()"
   ]
  },
  {
   "cell_type": "code",
   "execution_count": 29,
   "metadata": {},
   "outputs": [
    {
     "data": {
      "text/plain": [
       "0.02792453078893675"
      ]
     },
     "execution_count": 29,
     "metadata": {},
     "output_type": "execute_result"
    }
   ],
   "source": [
    "\n",
    "# Average pedestrian commute mode share\n",
    "commute_df[commute_df['mode_simple'] == 'Walk'][trip_wt].sum()/commute_df[trip_wt].sum()"
   ]
  },
  {
   "cell_type": "code",
   "execution_count": 30,
   "metadata": {},
   "outputs": [
    {
     "data": {
      "text/plain": [
       "0.010448942712029148"
      ]
     },
     "execution_count": 30,
     "metadata": {},
     "output_type": "execute_result"
    }
   ],
   "source": [
    "# Average bicycle mode share for non-commute trips\n",
    "non_commute_df = trip_df[~trip_df['dest_purpose'].isin(['Went to primary workplace'])]\n",
    "non_commute_df[non_commute_df['mode_simple'] == 'Bike'][trip_wt].sum()/non_commute_df[trip_wt].sum()"
   ]
  },
  {
   "cell_type": "code",
   "execution_count": 31,
   "metadata": {},
   "outputs": [
    {
     "data": {
      "text/plain": [
       "0.1612448595635057"
      ]
     },
     "execution_count": 31,
     "metadata": {},
     "output_type": "execute_result"
    }
   ],
   "source": [
    "# Average pedestrian mode share for non-commute trips\n",
    "non_commute_df[non_commute_df['mode_simple'] == 'Walk'][trip_wt].sum()/non_commute_df[trip_wt].sum()"
   ]
  },
  {
   "cell_type": "code",
   "execution_count": 32,
   "metadata": {},
   "outputs": [],
   "source": [
    "\n"
   ]
  },
  {
   "cell_type": "code",
   "execution_count": 33,
   "metadata": {},
   "outputs": [],
   "source": [
    "# Percent of travelers who are potential bicyclists\n"
   ]
  },
  {
   "cell_type": "code",
   "execution_count": 34,
   "metadata": {},
   "outputs": [],
   "source": [
    "# Percent of travelers who are potential pdestrians\n"
   ]
  },
  {
   "cell_type": "code",
   "execution_count": 35,
   "metadata": {},
   "outputs": [
    {
     "data": {
      "text/plain": [
       "3.609866615770566"
      ]
     },
     "execution_count": 35,
     "metadata": {},
     "output_type": "execute_result"
    }
   ],
   "source": [
    "# Average bicycle trip length\n",
    "bike_df = trip_df[trip_df['mode_simple'] == 'Bike']\n",
    "bike_df['wt_dist'].sum()/bike_df[trip_wt].sum()"
   ]
  },
  {
   "cell_type": "code",
   "execution_count": 37,
   "metadata": {},
   "outputs": [
    {
     "name": "stdout",
     "output_type": "stream",
     "text": [
      "95th percentile distance:  1.9670000000000005\n",
      "avg walk distance:  0.5738850736494415\n"
     ]
    },
    {
     "data": {
      "image/png": "[encoded data removed]",
      "text/plain": [
       "<Figure size 432x288 with 1 Axes>"
      ]
     },
     "metadata": {
      "needs_background": "light"
     },
     "output_type": "display_data"
    }
   ],
   "source": [
    "# Average pedestrian trip length\n",
    "walk_df = trip_df[trip_df['mode_simple'] == 'Walk']\n",
    "\n",
    "# Exclude trips to exercise and trips that have the same origin and destination parcel\n",
    "walk_df = walk_df[walk_df['dest_purpose_cat'] != 'Social/Recreation']\n",
    "\n",
    "# Exclude trips to and from same parcel\n",
    "walk_df = walk_df[walk_df['origin_parcel_dim_id'] != walk_df['dest_parcel_dim_id']]\n",
    "\n",
    "walk_df['trip_path_distance'].plot.kde()\n",
    "\n",
    "# Exclude long tail of trips; find the 95th percentile distance (95% of trips shorter than this distance)\n",
    "percentile_95 = walk_df['trip_path_distance'].describe(percentiles=[0.95])['95%']\n",
    "print(\"95th percentile distance: \", percentile_95)\n",
    "walk_df = walk_df[walk_df['trip_path_distance'] < percentile_95]\n",
    "\n",
    "avg_dist = walk_df['wt_dist'].sum()/walk_df[trip_wt].sum()\n",
    "print(\"avg walk distance: \", avg_dist)"
   ]
  },
  {
   "cell_type": "code",
   "execution_count": 38,
   "metadata": {},
   "outputs": [
    {
     "data": {
      "text/plain": [
       "array(['Home', 'Meal', 'Shop', 'Social/Recreation', 'Errand/Other',\n",
       "       'Work', 'Escort', 'Work-related', 'School', 'Change mode'],\n",
       "      dtype=object)"
      ]
     },
     "execution_count": 38,
     "metadata": {},
     "output_type": "execute_result"
    }
   ],
   "source": [
    "trip_df['origin_purpose_cat'].unique()"
   ]
  },
  {
   "cell_type": "code",
   "execution_count": 39,
   "metadata": {},
   "outputs": [
    {
     "data": {
      "text/plain": [
       "trip_respondent_weight_2021    3.416752\n",
       "dtype: float64"
      ]
     },
     "execution_count": 39,
     "metadata": {},
     "output_type": "execute_result"
    }
   ],
   "source": [
    "# Average number of non-commute trips per day\n",
    "\n",
    "noncommute_df = trip_df[~((trip_df['origin_purpose_cat'] == 'Home') & (trip_df['dest_purpose_cat'] == 'Work'))]\n",
    "noncommute_df = noncommute_df[~((noncommute_df['dest_purpose_cat'] == 'Home') & \n",
    "                                (noncommute_df['origin_purpose_cat'] == 'Work'))]\n",
    "noncommute_df['dest_purpose_cat'].unique()\n",
    "\n",
    "\n",
    "noncommute_df.groupby(['person_id','daynum']).count()[['trip_respondent_weight_2021']].mean()\n",
    "\n",
    "# trip_df['']"
   ]
  },
  {
   "cell_type": "code",
   "execution_count": 40,
   "metadata": {},
   "outputs": [
    {
     "data": {
      "text/plain": [
       "trip_respondent_weight_2021    3.388921\n",
       "dtype: float64"
      ]
     },
     "execution_count": 40,
     "metadata": {},
     "output_type": "execute_result"
    }
   ],
   "source": [
    "trip_df.groupby(['person_id','daynum']).count()[['trip_respondent_weight_2021']].mean()"
   ]
  },
  {
   "cell_type": "code",
   "execution_count": 41,
   "metadata": {},
   "outputs": [
    {
     "data": {
      "text/plain": [
       "new_mode\n",
       "Bike       0.011671\n",
       "HOV2       0.195023\n",
       "HOV3+      0.092778\n",
       "Other      0.010919\n",
       "SOV        0.510832\n",
       "Transit    0.028827\n",
       "Walk       0.149447\n",
       "Name: trip_respondent_weight_2021, dtype: float64"
      ]
     },
     "execution_count": 41,
     "metadata": {},
     "output_type": "execute_result"
    }
   ],
   "source": [
    "# Calculate regional mode shares\n",
    "\n",
    "# Calculate hov2 and hov3 modes\n",
    "\n",
    "# car_trip_df = trip_df.loc[trip_df['mode_simple'] == 'Drive']\n",
    "trip_df['new_mode'] = trip_df['mode_simple']\n",
    "trip_df.loc[(trip_df['travelers_total'] == 1) & (trip_df['mode_simple'] == 'Drive'), 'new_mode'] = 'SOV'\n",
    "trip_df.loc[(trip_df['travelers_total'] == 2) & (trip_df['mode_simple'] == 'Drive'), 'new_mode'] = 'HOV2' \n",
    "trip_df.loc[(trip_df['travelers_total'] > 2) & (trip_df['mode_simple'] == 'Drive'), 'new_mode'] = 'HOV3+'\n",
    "\n",
    "trip_df.groupby('new_mode').sum()[trip_wt]/trip_df[trip_wt].sum()"
   ]
  },
  {
   "cell_type": "code",
   "execution_count": 43,
   "metadata": {},
   "outputs": [
    {
     "data": {
      "text/plain": [
       "10.291568832717191"
      ]
     },
     "execution_count": 43,
     "metadata": {},
     "output_type": "execute_result"
    }
   ],
   "source": [
    "# Average commute trip length\n",
    "commute_df['trip_path_distance'].mean()"
   ]
  },
  {
   "cell_type": "code",
   "execution_count": 42,
   "metadata": {},
   "outputs": [
    {
     "data": {
      "text/plain": [
       "10.291568832717191"
      ]
     },
     "execution_count": 42,
     "metadata": {},
     "output_type": "execute_result"
    }
   ],
   "source": []
  },
  {
   "cell_type": "code",
   "execution_count": null,
   "metadata": {},
   "outputs": [],
   "source": [
    "# HOV eligible mode share along corridor (2)"
   ]
  },
  {
   "cell_type": "code",
   "execution_count": null,
   "metadata": {},
   "outputs": [],
   "source": [
    "# HOV eligible mode share along corridor (3_)"
   ]
  },
  {
   "cell_type": "code",
   "execution_count": 454,
   "metadata": {},
   "outputs": [
    {
     "data": {
      "text/plain": [
       "10.93586442037644"
      ]
     },
     "execution_count": 454,
     "metadata": {},
     "output_type": "execute_result"
    }
   ],
   "source": [
    "# Average commute trip length\n",
    "commute_df = trip_df[((trip_df['origin_purpose_cat'] == 'Home') & (trip_df['dest_purpose_cat'] == 'Work'))]\n",
    "commute_df['wt_dist'].sum()/commute_df[trip_wt].sum()"
   ]
  },
  {
   "cell_type": "code",
   "execution_count": null,
   "metadata": {},
   "outputs": [],
   "source": [
    "# Percent of potential pedestrians who would walk if there was a sidewalk serving their destination\n",
    "\n",
    "# Dropped in 2017\n",
    "# Can consider adding for 2025 with note to not include for other years? "
   ]
  },
  {
   "cell_type": "code",
   "execution_count": null,
   "metadata": {},
   "outputs": [],
   "source": []
  },
  {
   "cell_type": "code",
   "execution_count": null,
   "metadata": {},
   "outputs": [],
   "source": []
  }
 ],
 "metadata": {
  "kernelspec": {
   "display_name": "summary",
   "language": "python",
   "name": "python3"
  },
  "language_info": {
   "codemirror_mode": {
    "name": "ipython",
    "version": 3
   },
   "file_extension": ".py",
   "mimetype": "text/x-python",
   "name": "python",
   "nbconvert_exporter": "python",
   "pygments_lexer": "ipython3",
   "version": "3.7.10"
  }
 },
 "nbformat": 4,
 "nbformat_minor": 2
}
