{
 "cells": [
  {
   "cell_type": "code",
   "execution_count": 4,
   "metadata": {},
   "outputs": [],
   "source": [
    "import pandas as pd"
   ]
  },
  {
   "cell_type": "code",
   "execution_count": 186,
   "metadata": {},
   "outputs": [],
   "source": [
    "df = pd.read_csv(r'R:\\e2projects_two\\SoundCast\\Inputs\\db_inputs\\running_emission_rates_by_veh_type.csv')"
   ]
  },
  {
   "cell_type": "code",
   "execution_count": 187,
   "metadata": {},
   "outputs": [],
   "source": [
    "# Assumptions matching previous tool development \n",
    "# See X:\\Trans\\AIRQUAL\\CMAQ Tool Update 2015\\PSRCdata\\2025 Emission Factors.xlsx\n",
    "\n",
    "# Use King County only\n",
    "df = df[df['county'] == 'king']\n",
    "\n",
    "# Assume 8 am time period\n",
    "df = df[df['hourID'] == 8]"
   ]
  },
  {
   "cell_type": "code",
   "execution_count": 188,
   "metadata": {},
   "outputs": [],
   "source": [
    "speed_bin_lookup = {\n",
    "    0: 0,\n",
    "    1: 2.5,\n",
    "    2: 5,\n",
    "    3: 10,\n",
    "    4: 25,\n",
    "    5: 20,\n",
    "    6: 25,\n",
    "    7: 30,\n",
    "    8: 35,\n",
    "    9: 40,\n",
    "    10: 45,\n",
    "    11: 50,\n",
    "    12: 55,\n",
    "    13: 60,\n",
    "    14: 65,\n",
    "    15: 70,\n",
    "    16: 75\n",
    "}\n",
    "\n",
    "pollutant_dict = {\n",
    "    'Summer':\n",
    "    {\n",
    "        98: 'CO2e',\n",
    "        3: 'NOx',\n",
    "        87: 'VOC'\n",
    "    },\n",
    "    'Winter':\n",
    "    {\n",
    "        2: 'CO',\n",
    "        110: 'PM2.5'\n",
    "    }\n",
    "}\n",
    "\n",
    "month_season_dict = {\n",
    "    'Summer': 7,\n",
    "    'Winter': 1\n",
    "}\n"
   ]
  },
  {
   "cell_type": "code",
   "execution_count": 213,
   "metadata": {},
   "outputs": [],
   "source": [
    "def produce_rates(df, year, season, road_type):\n",
    "\n",
    "    results_df = pd.DataFrame()\n",
    "    df = df[(df['monthID']== month_season_dict[season]) & \n",
    "            (df['year']==year) & \n",
    "            (df['roadTypeID']==road_type) &\n",
    "            (df['pollutantID'].isin(pollutant_dict[season].keys()))]\n",
    "    df = df[df['veh_type'].isin(['light','medium','heavy'])]\n",
    "\n",
    "    df = df.pivot(index=['avgSpeedBinID','pollutantID'], columns='veh_type', values='ratePerDistance')\n",
    "    df = df.reset_index()\n",
    "    df = df.sort_values(['pollutantID','avgSpeedBinID'])\n",
    "    df['County Group'] = 'King County, Washington'\n",
    "    df['Year'] = year\n",
    "    df['Pollutant'] = df['pollutantID'].map(pollutant_dict[season])\n",
    "    df['Season'] = season\n",
    "    df['Unit'] = \"g/mi\"\n",
    "    df['Speed (mph)'] = df['avgSpeedBinID'].map(speed_bin_lookup)\n",
    "    df.rename(columns={'light':'LDV','medium':'MDV','heavy':'HDV'}, inplace=True)\n",
    "\n",
    "    return df"
   ]
  },
  {
   "cell_type": "code",
   "execution_count": 214,
   "metadata": {},
   "outputs": [],
   "source": [
    "def create_full_table(df, year, season_list, road_type):\n",
    "\n",
    "    results_df = pd.DataFrame()\n",
    "\n",
    "    for season in season_list:\n",
    "        results_df = results_df.append(produce_rates(df, year, season, road_type))\n",
    "\n",
    "    col_list = ['County Group','Year','Season','Pollutant', 'Unit','Speed (mph)','LDV','MDV','HDV']\n",
    "\n",
    "    results_df = results_df[col_list]\n",
    "    results_df = results_df.sort_values(['Pollutant','Speed (mph)'])\n",
    "\n",
    "    return results_df\n"
   ]
  },
  {
   "cell_type": "markdown",
   "metadata": {},
   "source": [
    "# Process and Write Results"
   ]
  },
  {
   "cell_type": "code",
   "execution_count": 215,
   "metadata": {},
   "outputs": [],
   "source": [
    "df_2018 = create_full_table(df, 2018, ['Summer','Winter'], 5)\n",
    "df_2018.to_csv('2018_running_rates.csv')\n",
    "\n",
    "df_2018_idle = create_full_table(df, 2018, ['Summer','Winter'], 1)\n",
    "df_2018_idle.to_csv('2018_idle_rates.csv')"
   ]
  },
  {
   "cell_type": "code",
   "execution_count": 216,
   "metadata": {},
   "outputs": [],
   "source": [
    "df_2030 = create_full_table(df, 2030, ['Summer','Winter'], 5)\n",
    "df_2030.to_csv('2030_running_rates.csv', index=False)\n",
    "\n",
    "df_2030_idle = create_full_table(df, 2030, ['Summer','Winter'], 1)\n",
    "df_2030_idle.to_csv('2030_idle_rates.csv', index=False)"
   ]
  },
  {
   "cell_type": "code",
   "execution_count": 217,
   "metadata": {},
   "outputs": [],
   "source": [
    "df_2040 = create_full_table(df, 2040, ['Summer','Winter'], 5)\n",
    "df_2040.to_csv('2040_running_rates.csv', index=False)\n",
    "\n",
    "df_2040_idle = create_full_table(df, 2040, ['Summer','Winter'], 1)\n",
    "df_2040_idle.to_csv('2040_idle_rates.csv', index=False)"
   ]
  }
 ],
 "metadata": {
  "kernelspec": {
   "display_name": "summary",
   "language": "python",
   "name": "python3"
  },
  "language_info": {
   "codemirror_mode": {
    "name": "ipython",
    "version": 3
   },
   "file_extension": ".py",
   "mimetype": "text/x-python",
   "name": "python",
   "nbconvert_exporter": "python",
   "pygments_lexer": "ipython3",
   "version": "3.7.10"
  }
 },
 "nbformat": 4,
 "nbformat_minor": 2
}
