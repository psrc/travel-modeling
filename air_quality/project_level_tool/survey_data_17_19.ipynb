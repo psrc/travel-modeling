{
 "cells": [
  {
   "cell_type": "code",
   "execution_count": 155,
   "metadata": {},
   "outputs": [],
   "source": [
    "import os, sys\n",
    "import pandas as pd\n",
    "import numpy as np\n",
    "from operator import itemgetter\n",
    "import urllib\n",
    "import pyodbc\n",
    "import sqlalchemy\n",
    "from sqlalchemy.engine import URL\n",
    "from pymssql import connect\n",
    "import toml"
   ]
  },
  {
   "cell_type": "code",
   "execution_count": 156,
   "metadata": {},
   "outputs": [],
   "source": [
    "config = toml.load(\"configuration.toml\")"
   ]
  },
  {
   "cell_type": "code",
   "execution_count": 157,
   "metadata": {},
   "outputs": [
    {
     "data": {
      "text/plain": [
       "{'survey_year_17_19': '(2017, 2019)',\n",
       " 'weight_col_17_19': 'hh_weight_2017_2019',\n",
       " 'trip_weight_col_17_19': 'trip_adult_weight_2017_2019',\n",
       " 'survey_year_21': '(2021)',\n",
       " 'weight_col_21': 'hh_weight_2021',\n",
       " 'trip_weight_col_21': 'trip_respondent_weight_2021'}"
      ]
     },
     "execution_count": 157,
     "metadata": {},
     "output_type": "execute_result"
    }
   ],
   "source": [
    "config"
   ]
  },
  {
   "cell_type": "code",
   "execution_count": 159,
   "metadata": {},
   "outputs": [],
   "source": [
    "conn_string = \"DRIVER={ODBC Driver 17 for SQL Server}; SERVER=AWS-PROD-SQL\\Sockeye; DATABASE=Elmer; trusted_connection=yes\"\n",
    "sql_conn = pyodbc.connect(conn_string)\n",
    "params = urllib.parse.quote_plus(conn_string)\n",
    "engine = sqlalchemy.create_engine(\"mssql+pyodbc:///?odbc_connect=%s\" % params)\n",
    "\n",
    "person_df = pd.read_sql(\n",
    "            sql=\"SELECT worker, telecommute_freq, mode_freq_2, \"+config['weight_col_17_19']+\", wbt_bikemore_1, wbt_bikemore_2,\\\n",
    "            wbt_bikemore_3, wbt_bikemore_4 FROM HHSurvey.v_persons WHERE survey_year IN \"\n",
    "            + config[\"survey_year_17_19\"],\n",
    "            con=engine,\n",
    "        )"
   ]
  },
  {
   "cell_type": "code",
   "execution_count": 160,
   "metadata": {},
   "outputs": [],
   "source": [
    "trip_df = pd.read_sql(\n",
    "            sql=\"SELECT * FROM HHSurvey.v_trips WHERE survey_year IN \"\n",
    "            + config[\"survey_year_17_19\"],\n",
    "            con=engine,\n",
    "        )"
   ]
  },
  {
   "cell_type": "code",
   "execution_count": 161,
   "metadata": {},
   "outputs": [],
   "source": [
    "def create_df(df, groupby_col, weight_col):\n",
    "    \"\"\"Create dataframe of weighted and unweighted values for a single column.\"\"\"\n",
    "\n",
    "    df_wt = df.groupby(groupby_col).sum()[[weight_col]].reset_index()\n",
    "    df_wt.rename(columns={weight_col:'weighted'}, inplace=True)\n",
    "    df_count = df.groupby(groupby_col).count()[[weight_col]].reset_index()\n",
    "    df_count.rename(columns={weight_col:'samples'}, inplace=True)\n",
    "\n",
    "    df = df_wt.merge(df_count, on=groupby_col)\n",
    "    df.index = df[groupby_col]\n",
    "    df = df.drop(groupby_col, axis=1)\n",
    "\n",
    "    return df"
   ]
  },
  {
   "cell_type": "markdown",
   "metadata": {},
   "source": [
    "# Person\n",
    "#### Willingness to Bike"
   ]
  },
  {
   "cell_type": "code",
   "execution_count": 162,
   "metadata": {},
   "outputs": [],
   "source": [
    "# Filter for current non-biker population (someone who rides less than once per week)\n",
    "# This will be the denominator to calcualte the percent of current non-riders that might bike\n",
    "# with infrastructure improvements. \n",
    "non_biker_pop = person_df[~person_df['mode_freq_2'].isin([\n",
    "    '1 day/week','2-4 days/week','5 days/week','6-7 days/week'\n",
    "                            ])]"
   ]
  },
  {
   "cell_type": "code",
   "execution_count": 163,
   "metadata": {},
   "outputs": [
    {
     "data": {
      "text/plain": [
       "array(['I never do this', '1 day/week', None,\n",
       "       'I do this, but not in the past 30 days', '2-4 days/week',\n",
       "       '6-7 days/week', '1-3 times in the past 30 days', '5 days/week',\n",
       "       'Missing: Skip Logic', 'Missing: Non-response'], dtype=object)"
      ]
     },
     "execution_count": 163,
     "metadata": {},
     "output_type": "execute_result"
    }
   ],
   "source": [
    "person_df['mode_freq_2'].unique()"
   ]
  },
  {
   "cell_type": "code",
   "execution_count": 164,
   "metadata": {},
   "outputs": [
    {
     "ename": "KeyError",
     "evalue": "'weight_col'",
     "output_type": "error",
     "traceback": [
      "\u001b[1;31m---------------------------------------------------------------------------\u001b[0m",
      "\u001b[1;31mKeyError\u001b[0m                                  Traceback (most recent call last)",
      "\u001b[1;32m<ipython-input-164-b1fdf32b7b1b>\u001b[0m in \u001b[0;36m<module>\u001b[1;34m\u001b[0m\n\u001b[1;32m----> 1\u001b[1;33m \u001b[0mnon_biker_pop\u001b[0m\u001b[1;33m[\u001b[0m\u001b[0mconfig\u001b[0m\u001b[1;33m[\u001b[0m\u001b[1;34m\"weight_col\"\u001b[0m\u001b[1;33m]\u001b[0m\u001b[1;33m]\u001b[0m\u001b[1;33m.\u001b[0m\u001b[0msum\u001b[0m\u001b[1;33m(\u001b[0m\u001b[1;33m)\u001b[0m\u001b[1;33m\u001b[0m\u001b[1;33m\u001b[0m\u001b[0m\n\u001b[0m",
      "\u001b[1;31mKeyError\u001b[0m: 'weight_col'"
     ]
    }
   ],
   "source": [
    "non_biker_pop[config[\"weight_col\"]].sum()"
   ]
  },
  {
   "cell_type": "code",
   "execution_count": null,
   "metadata": {},
   "outputs": [],
   "source": [
    "# Percent of potential cyclists who would ride if there was a bike lane serving their destination\n",
    "\n",
    "# wbt_bikemore_1: Use more bike --  Shared use path or protected bike lane\n",
    "# wbt_bikemore_2: Use more bike --  Neighborhood greenway\n",
    "# wbt_bikemore_3: Use more bike --  Bike lane\n",
    "# wbt_bikemore_4: Use more bike --  Shared roadway lane"
   ]
  },
  {
   "cell_type": "code",
   "execution_count": null,
   "metadata": {},
   "outputs": [],
   "source": [
    "df_1 = create_df(non_biker_pop, 'wbt_bikemore_1', config[\"weight_col\"])\n",
    "df_2 = create_df(non_biker_pop, 'wbt_bikemore_2', config[\"weight_col\"])\n",
    "df_3 = create_df(non_biker_pop, 'wbt_bikemore_3', config[\"weight_col\"])\n",
    "df_4 = create_df(non_biker_pop, 'wbt_bikemore_4', config[\"weight_col\"])"
   ]
  },
  {
   "cell_type": "code",
   "execution_count": null,
   "metadata": {},
   "outputs": [],
   "source": [
    "df_tot = df_1[['weighted']].merge(df_2[['weighted']], \n",
    "    left_index=True, right_index=True, suffixes=['_1','_2'])\n",
    "df_tot = df_tot.merge(df_3[['weighted']], \n",
    "    left_index=True, right_index=True)\n",
    "df_tot = df_tot.merge(df_4[['weighted']], \n",
    "    left_index=True, right_index=True, suffixes=['_3','_4'])"
   ]
  },
  {
   "cell_type": "code",
   "execution_count": null,
   "metadata": {},
   "outputs": [],
   "source": [
    "df_samples = df_1[['samples']].merge(df_2[['samples']], \n",
    "    left_index=True, right_index=True, suffixes=['_1','_2'])\n",
    "df_samples = df_samples.merge(df_3[['samples']], \n",
    "    left_index=True, right_index=True)\n",
    "df_samples = df_samples.merge(df_4[['samples']], \n",
    "    left_index=True, right_index=True, suffixes=['_3','_4'])"
   ]
  },
  {
   "cell_type": "code",
   "execution_count": null,
   "metadata": {},
   "outputs": [
    {
     "data": {
      "text/plain": [
       "<AxesSubplot:ylabel='wbt_bikemore_1'>"
      ]
     },
     "execution_count": 149,
     "metadata": {},
     "output_type": "execute_result"
    },
    {
     "data": {
      "image/png": "[encoded data removed]",
      "text/plain": [
       "<Figure size 432x288 with 1 Axes>"
      ]
     },
     "metadata": {
      "needs_background": "light"
     },
     "output_type": "display_data"
    }
   ],
   "source": [
    "df_tot.plot(kind='barh')"
   ]
  },
  {
   "cell_type": "code",
   "execution_count": null,
   "metadata": {},
   "outputs": [],
   "source": [
    "# Group responses based on any positive answer (1 or more days per week)\n",
    "df_grouped = pd.DataFrame(df_tot[df_tot.index.isin(['Occasionally (1-2 days per week)',\n",
    "                            # 'Rarely (1-3 times per month)',\n",
    "                            'Regularly (6-7 days per week)',\n",
    "                            'Somewhat often (3-5 days per week)'])].sum(axis=0), columns=['Weighted'])"
   ]
  },
  {
   "cell_type": "code",
   "execution_count": null,
   "metadata": {},
   "outputs": [],
   "source": [
    "# Group responses based on any positive answer (1 or more days per week)\n",
    "df_grouped_samples = pd.DataFrame(df_samples[df_samples.index.isin(['Occasionally (1-2 days per week)',\n",
    "                            # 'Rarely (1-3 times per month)',\n",
    "                            'Regularly (6-7 days per week)',\n",
    "                            'Somewhat often (3-5 days per week)'])].sum(axis=0), columns=['Samples'])"
   ]
  },
  {
   "cell_type": "code",
   "execution_count": null,
   "metadata": {},
   "outputs": [
    {
     "data": {
      "text/html": [
       "<div>\n",
       "<style scoped>\n",
       "    .dataframe tbody tr th:only-of-type {\n",
       "        vertical-align: middle;\n",
       "    }\n",
       "\n",
       "    .dataframe tbody tr th {\n",
       "        vertical-align: top;\n",
       "    }\n",
       "\n",
       "    .dataframe thead th {\n",
       "        text-align: right;\n",
       "    }\n",
       "</style>\n",
       "<table border=\"1\" class=\"dataframe\">\n",
       "  <thead>\n",
       "    <tr style=\"text-align: right;\">\n",
       "      <th></th>\n",
       "      <th>samples_1</th>\n",
       "      <th>samples_2</th>\n",
       "      <th>samples_3</th>\n",
       "      <th>samples_4</th>\n",
       "    </tr>\n",
       "    <tr>\n",
       "      <th>wbt_bikemore_1</th>\n",
       "      <th></th>\n",
       "      <th></th>\n",
       "      <th></th>\n",
       "      <th></th>\n",
       "    </tr>\n",
       "  </thead>\n",
       "  <tbody>\n",
       "    <tr>\n",
       "      <th>Missing: Non-response</th>\n",
       "      <td>27</td>\n",
       "      <td>27</td>\n",
       "      <td>27</td>\n",
       "      <td>27</td>\n",
       "    </tr>\n",
       "    <tr>\n",
       "      <th>Missing: Skip Logic</th>\n",
       "      <td>1062</td>\n",
       "      <td>1062</td>\n",
       "      <td>1062</td>\n",
       "      <td>1062</td>\n",
       "    </tr>\n",
       "    <tr>\n",
       "      <th>Missing: Technical error</th>\n",
       "      <td>769</td>\n",
       "      <td>769</td>\n",
       "      <td>769</td>\n",
       "      <td>769</td>\n",
       "    </tr>\n",
       "    <tr>\n",
       "      <th>Never</th>\n",
       "      <td>3133</td>\n",
       "      <td>3082</td>\n",
       "      <td>3351</td>\n",
       "      <td>3625</td>\n",
       "    </tr>\n",
       "    <tr>\n",
       "      <th>Not Applicable</th>\n",
       "      <td>1307</td>\n",
       "      <td>1312</td>\n",
       "      <td>1329</td>\n",
       "      <td>1331</td>\n",
       "    </tr>\n",
       "    <tr>\n",
       "      <th>Occasionally (1-2 days per week)</th>\n",
       "      <td>895</td>\n",
       "      <td>907</td>\n",
       "      <td>812</td>\n",
       "      <td>689</td>\n",
       "    </tr>\n",
       "    <tr>\n",
       "      <th>Rarely (1-3 times per month)</th>\n",
       "      <td>1153</td>\n",
       "      <td>1158</td>\n",
       "      <td>1191</td>\n",
       "      <td>1260</td>\n",
       "    </tr>\n",
       "    <tr>\n",
       "      <th>Regularly (6-7 days per week)</th>\n",
       "      <td>293</td>\n",
       "      <td>339</td>\n",
       "      <td>255</td>\n",
       "      <td>171</td>\n",
       "    </tr>\n",
       "    <tr>\n",
       "      <th>Somewhat often (3-5 days per week)</th>\n",
       "      <td>638</td>\n",
       "      <td>621</td>\n",
       "      <td>481</td>\n",
       "      <td>343</td>\n",
       "    </tr>\n",
       "  </tbody>\n",
       "</table>\n",
       "</div>"
      ],
      "text/plain": [
       "                                    samples_1  samples_2  samples_3  samples_4\n",
       "wbt_bikemore_1                                                                \n",
       "Missing: Non-response                      27         27         27         27\n",
       "Missing: Skip Logic                      1062       1062       1062       1062\n",
       "Missing: Technical error                  769        769        769        769\n",
       "Never                                    3133       3082       3351       3625\n",
       "Not Applicable                           1307       1312       1329       1331\n",
       "Occasionally (1-2 days per week)          895        907        812        689\n",
       "Rarely (1-3 times per month)             1153       1158       1191       1260\n",
       "Regularly (6-7 days per week)             293        339        255        171\n",
       "Somewhat often (3-5 days per week)        638        621        481        343"
      ]
     },
     "execution_count": 152,
     "metadata": {},
     "output_type": "execute_result"
    }
   ],
   "source": [
    "df_samples"
   ]
  },
  {
   "cell_type": "code",
   "execution_count": null,
   "metadata": {},
   "outputs": [],
   "source": [
    "df_grouped_samples.to_clipboard()"
   ]
  },
  {
   "cell_type": "code",
   "execution_count": null,
   "metadata": {},
   "outputs": [
    {
     "data": {
      "text/html": [
       "<div>\n",
       "<style scoped>\n",
       "    .dataframe tbody tr th:only-of-type {\n",
       "        vertical-align: middle;\n",
       "    }\n",
       "\n",
       "    .dataframe tbody tr th {\n",
       "        vertical-align: top;\n",
       "    }\n",
       "\n",
       "    .dataframe thead th {\n",
       "        text-align: right;\n",
       "    }\n",
       "</style>\n",
       "<table border=\"1\" class=\"dataframe\">\n",
       "  <thead>\n",
       "    <tr style=\"text-align: right;\">\n",
       "      <th></th>\n",
       "      <th>Weighted</th>\n",
       "      <th>share</th>\n",
       "    </tr>\n",
       "  </thead>\n",
       "  <tbody>\n",
       "    <tr>\n",
       "      <th>weighted_1</th>\n",
       "      <td>404116.231025</td>\n",
       "      <td>0.112224</td>\n",
       "    </tr>\n",
       "    <tr>\n",
       "      <th>weighted_2</th>\n",
       "      <td>451491.620688</td>\n",
       "      <td>0.125380</td>\n",
       "    </tr>\n",
       "    <tr>\n",
       "      <th>weighted_3</th>\n",
       "      <td>357704.123510</td>\n",
       "      <td>0.099335</td>\n",
       "    </tr>\n",
       "    <tr>\n",
       "      <th>weighted_4</th>\n",
       "      <td>285137.038681</td>\n",
       "      <td>0.079183</td>\n",
       "    </tr>\n",
       "  </tbody>\n",
       "</table>\n",
       "</div>"
      ],
      "text/plain": [
       "                 Weighted     share\n",
       "weighted_1  404116.231025  0.112224\n",
       "weighted_2  451491.620688  0.125380\n",
       "weighted_3  357704.123510  0.099335\n",
       "weighted_4  285137.038681  0.079183"
      ]
     },
     "execution_count": 154,
     "metadata": {},
     "output_type": "execute_result"
    }
   ],
   "source": [
    "df_grouped['share'] = df_grouped['Weighted']/non_biker_pop[config[\"weight_col\"]].sum()\n",
    "df_grouped"
   ]
  },
  {
   "cell_type": "code",
   "execution_count": null,
   "metadata": {},
   "outputs": [],
   "source": [
    "df_grouped.to_clipboard()\n"
   ]
  },
  {
   "cell_type": "code",
   "execution_count": null,
   "metadata": {},
   "outputs": [
    {
     "data": {
      "text/plain": [
       "0.518756701952508"
      ]
     },
     "execution_count": 26,
     "metadata": {},
     "output_type": "execute_result"
    }
   ],
   "source": [
    "# percent of population who are commuters\n",
    "# Commuters defined as all workers except frequent telecommuters; \n",
    "# ([number of workers in region]-[workers who telecommute 5+ times per week])/(total regional population)\n",
    "total_workers = person_df.loc[person_df['worker'] == '1+ job(s) (including part-time)', config[\"weight_col\"]].sum()\n",
    "telecommuters = person_df.loc[person_df['telecommute_freq'] == '5+ days', config[\"weight_col\"]].sum()\n",
    "total_pop = person_df[config[\"weight_col\"]].sum()\n",
    "\n",
    "(total_workers-telecommuters)/total_pop"
   ]
  },
  {
   "cell_type": "markdown",
   "metadata": {},
   "source": [
    "# Trip"
   ]
  },
  {
   "cell_type": "code",
   "execution_count": null,
   "metadata": {},
   "outputs": [],
   "source": [
    "# Load version with skims data\n",
    "df = pd.read_csv(r'R:\\e2projects_two\\2018_base_year\\survey\\daysim_format\\revised\\skims_attached\\_trip.tsv', sep='\\t')\n",
    "df_trip_id_mapping = pd.read_csv(r'R:\\e2projects_two\\2018_base_year\\survey\\daysim_format\\revised\\trip_id_tsvid_mapping.csv')\n",
    "df = df.merge(df_trip_id_mapping,on='tsvid')"
   ]
  },
  {
   "cell_type": "code",
   "execution_count": null,
   "metadata": {},
   "outputs": [],
   "source": [
    "df = df.merge(trip_df, on='trip_id')"
   ]
  },
  {
   "cell_type": "code",
   "execution_count": null,
   "metadata": {},
   "outputs": [
    {
     "data": {
      "text/plain": [
       "13419247.930582311"
      ]
     },
     "execution_count": 104,
     "metadata": {},
     "output_type": "execute_result"
    }
   ],
   "source": [
    "df['trexpfac'].sum()"
   ]
  },
  {
   "cell_type": "code",
   "execution_count": null,
   "metadata": {},
   "outputs": [],
   "source": [
    "\n",
    "df['wt_dist'] = df['travdist']*df['trexpfac']"
   ]
  },
  {
   "cell_type": "code",
   "execution_count": null,
   "metadata": {},
   "outputs": [],
   "source": [
    "transit_df = df[df['mode_simple'] == 'Transit']"
   ]
  },
  {
   "cell_type": "code",
   "execution_count": null,
   "metadata": {},
   "outputs": [
    {
     "data": {
      "text/plain": [
       "7.552934213735855"
      ]
     },
     "execution_count": 115,
     "metadata": {},
     "output_type": "execute_result"
    }
   ],
   "source": [
    "# Average transit trip length\n",
    "transit_df = df[df['mode_simple'] == 'Transit']\n",
    "(transit_df['wt_dist'].sum())/(transit_df['trexpfac'].sum())"
   ]
  },
  {
   "cell_type": "code",
   "execution_count": 117,
   "metadata": {},
   "outputs": [
    {
     "data": {
      "text/plain": [
       "7.473201270582835"
      ]
     },
     "execution_count": 117,
     "metadata": {},
     "output_type": "execute_result"
    }
   ],
   "source": [
    "# Average transit trip length *bus only\n",
    "bus_df = df[df['mode_1'] == 'Bus (public transit)']\n",
    "bus_df['wt_dist'].sum()/bus_df['trexpfac'].sum()"
   ]
  },
  {
   "cell_type": "code",
   "execution_count": 119,
   "metadata": {},
   "outputs": [
    {
     "data": {
      "text/plain": [
       "1.3229955758823049"
      ]
     },
     "execution_count": 119,
     "metadata": {},
     "output_type": "execute_result"
    }
   ],
   "source": [
    "# Average auto occupancy\n",
    "# (total auto trips as driver or passenger)/(total auto trips as driver only)\n",
    "(df[df['mode_simple'] == 'Drive']['trexpfac'].sum())/df[(df['mode_simple'] == 'Drive') & \n",
    "                                                                    (df['driver'] == 'Driver')]['trexpfac'].sum()\n"
   ]
  },
  {
   "cell_type": "code",
   "execution_count": 120,
   "metadata": {},
   "outputs": [
    {
     "data": {
      "text/plain": [
       "0.011218510847066415"
      ]
     },
     "execution_count": 120,
     "metadata": {},
     "output_type": "execute_result"
    }
   ],
   "source": [
    "# Average bicycle commute mode share\n",
    "commute_df = df[df['dest_purpose'].isin(['Went to primary workplace'])]\n",
    "commute_df[commute_df['mode_simple'] == 'Bike']['trexpfac'].sum()/commute_df['trexpfac'].sum()"
   ]
  },
  {
   "cell_type": "code",
   "execution_count": 123,
   "metadata": {},
   "outputs": [
    {
     "data": {
      "text/plain": [
       "0.10463339899766018"
      ]
     },
     "execution_count": 123,
     "metadata": {},
     "output_type": "execute_result"
    }
   ],
   "source": [
    "\n",
    "# Average pedestrian commute mode share\n",
    "commute_df.loc[commute_df['mode_simple'] == 'Walk','trexpfac'].sum()/commute_df['trexpfac'].sum()"
   ]
  },
  {
   "cell_type": "code",
   "execution_count": 54,
   "metadata": {},
   "outputs": [
    {
     "data": {
      "text/plain": [
       "0.0068234403104436726"
      ]
     },
     "execution_count": 54,
     "metadata": {},
     "output_type": "execute_result"
    }
   ],
   "source": [
    "# Average bicycle mode share for non-commute trips\n",
    "non_commute_df = trip_df[~trip_df['dest_purpose'].isin(['Went to primary workplace'])]\n",
    "non_commute_df[non_commute_df['mode_simple'] == 'Bike'][config['trip_weight_col_17_19']].sum()/non_commute_df[config['trip_weight_col_17_19']trip_weight_col_17_19']].sum()"
   ]
  },
  {
   "cell_type": "code",
   "execution_count": 55,
   "metadata": {},
   "outputs": [
    {
     "data": {
      "text/plain": [
       "0.10694394763371366"
      ]
     },
     "execution_count": 55,
     "metadata": {},
     "output_type": "execute_result"
    }
   ],
   "source": [
    "# Average pedestrian mode share for non-commute trips\n",
    "non_commute_df[non_commute_df['mode_simple'] == 'Walk'][config['trip_weight_col_17_19']].sum()/non_commute_df[config['trip_weight_col_17_19']].sum()"
   ]
  },
  {
   "cell_type": "code",
   "execution_count": 32,
   "metadata": {},
   "outputs": [],
   "source": [
    "\n"
   ]
  },
  {
   "cell_type": "code",
   "execution_count": 33,
   "metadata": {},
   "outputs": [],
   "source": [
    "# Percent of travelers who are potential bicyclists\n"
   ]
  },
  {
   "cell_type": "code",
   "execution_count": 34,
   "metadata": {},
   "outputs": [],
   "source": [
    "# Percent of travelers who are potential pdestrians\n"
   ]
  },
  {
   "cell_type": "code",
   "execution_count": 124,
   "metadata": {},
   "outputs": [
    {
     "data": {
      "text/plain": [
       "2.9673769265799117"
      ]
     },
     "execution_count": 124,
     "metadata": {},
     "output_type": "execute_result"
    }
   ],
   "source": [
    "# Average bicycle trip length\n",
    "bike_df = df[df['mode_simple'] == 'Bike']\n",
    "bike_df['wt_dist'].sum()/bike_df['trexpfac'].sum()"
   ]
  },
  {
   "cell_type": "code",
   "execution_count": 130,
   "metadata": {},
   "outputs": [
    {
     "name": "stdout",
     "output_type": "stream",
     "text": [
      "95th percentile distance:  1.67\n",
      "avg walk distance:  0.5904344887298393\n"
     ]
    },
    {
     "data": {
      "image/png": "[encoded data removed]",
      "text/plain": [
       "<Figure size 432x288 with 1 Axes>"
      ]
     },
     "metadata": {
      "needs_background": "light"
     },
     "output_type": "display_data"
    }
   ],
   "source": [
    "# Average pedestrian trip length\n",
    "walk_df = df[df['mode_simple'] == 'Walk']\n",
    "\n",
    "# Exclude trips to exercise and trips that have the same origin and destination parcel\n",
    "walk_df = walk_df[walk_df['dest_purpose_cat'] != 'Social/Recreation']\n",
    "\n",
    "# Exclude trips to and from same parcel\n",
    "walk_df = walk_df[walk_df['origin_parcel_dim_id'] != walk_df['dest_parcel_dim_id']]\n",
    "\n",
    "walk_df['travdist'].plot.kde()\n",
    "\n",
    "# Exclude long tail of trips; find the 95th percentile distance (95% of trips shorter than this distance)\n",
    "percentile_95 = walk_df['travdist'].describe(percentiles=[0.95])['95%']\n",
    "print(\"95th percentile distance: \", percentile_95)\n",
    "walk_df = walk_df[walk_df['travdist'] < percentile_95]\n",
    "\n",
    "avg_dist = walk_df['wt_dist'].sum()/walk_df['trexpfac'].sum()\n",
    "print(\"avg walk distance: \", avg_dist)"
   ]
  },
  {
   "cell_type": "code",
   "execution_count": 58,
   "metadata": {},
   "outputs": [
    {
     "data": {
      "text/plain": [
       "array(['Home', 'Errand/Other', 'Shop', 'Social/Recreation',\n",
       "       'Work-related', 'School', 'Escort', 'Work', 'Meal', 'Change mode',\n",
       "       'Missing: Non-response'], dtype=object)"
      ]
     },
     "execution_count": 58,
     "metadata": {},
     "output_type": "execute_result"
    }
   ],
   "source": [
    "trip_df['origin_purpose_cat'].unique()"
   ]
  },
  {
   "cell_type": "code",
   "execution_count": 131,
   "metadata": {},
   "outputs": [
    {
     "name": "stderr",
     "output_type": "stream",
     "text": [
      "c:\\Users\\Modeller\\.conda\\envs\\summary\\lib\\site-packages\\ipykernel_launcher.py:3: UserWarning: Boolean Series key will be reindexed to match DataFrame index.\n",
      "  This is separate from the ipykernel package so we can avoid doing imports until\n"
     ]
    },
    {
     "data": {
      "text/plain": [
       "3.0368227946901327"
      ]
     },
     "execution_count": 131,
     "metadata": {},
     "output_type": "execute_result"
    }
   ],
   "source": [
    "# Average number of non-commute trips per day\n",
    "\n",
    "noncommute_df = df[~((df['origin_purpose_cat'] == 'Home') & (trip_df['dest_purpose_cat'] == 'Work'))]\n",
    "noncommute_df = noncommute_df[~((noncommute_df['dest_purpose_cat'] == 'Home') & \n",
    "                                (noncommute_df['origin_purpose_cat'] == 'Work'))]\n",
    "\n",
    "noncommute_df['trexpfac'].sum()/total_pop"
   ]
  },
  {
   "cell_type": "code",
   "execution_count": 86,
   "metadata": {},
   "outputs": [
    {
     "data": {
      "text/plain": [
       "Index(['worker', 'telecommute_freq', 'mode_freq_2', 'hh_weight_2021',\n",
       "       'wbt_bikemore_1', 'wbt_bikemore_2', 'wbt_bikemore_3', 'wbt_bikemore_4'],\n",
       "      dtype='object')"
      ]
     },
     "execution_count": 86,
     "metadata": {},
     "output_type": "execute_result"
    }
   ],
   "source": [
    "person_df.columnsx"
   ]
  },
  {
   "cell_type": "code",
   "execution_count": 62,
   "metadata": {},
   "outputs": [
    {
     "data": {
      "text/plain": [
       "new_mode\n",
       "Bike       0.007312\n",
       "Drive      0.001521\n",
       "HOV2       0.225765\n",
       "HOV3+      0.175167\n",
       "Other      0.008228\n",
       "SOV        0.413491\n",
       "Transit    0.060473\n",
       "Walk       0.106598\n",
       "Name: trip_weight_2017_2019, dtype: float64"
      ]
     },
     "execution_count": 62,
     "metadata": {},
     "output_type": "execute_result"
    }
   ],
   "source": [
    "# Calculate regional mode shares\n",
    "\n",
    "# Calculate hov2 and hov3 modes\n",
    "\n",
    "# car_trip_df = trip_df.loc[trip_df['mode_simple'] == 'Drive']\n",
    "trip_df['new_mode'] = trip_df['mode_simple']\n",
    "trip_df.loc[(trip_df['travelers_total'] == 1) & (trip_df['mode_simple'] == 'Drive'), 'new_mode'] = 'SOV'\n",
    "trip_df.loc[(trip_df['travelers_total'] == 2) & (trip_df['mode_simple'] == 'Drive'), 'new_mode'] = 'HOV2' \n",
    "trip_df.loc[(trip_df['travelers_total'] > 2) & (trip_df['mode_simple'] == 'Drive'), 'new_mode'] = 'HOV3+'\n",
    "\n",
    "trip_df.groupby('new_mode').sum()[config['trip_weight_col_17_19']]/trip_df[config['trip_weight_col_17_19']].sum()"
   ]
  },
  {
   "cell_type": "code",
   "execution_count": 63,
   "metadata": {},
   "outputs": [
    {
     "data": {
      "text/plain": [
       "7.781115727411063"
      ]
     },
     "execution_count": 63,
     "metadata": {},
     "output_type": "execute_result"
    }
   ],
   "source": [
    "# Average commute trip length\n",
    "commute_df['trip_path_distance'].mean()"
   ]
  },
  {
   "cell_type": "code",
   "execution_count": 42,
   "metadata": {},
   "outputs": [
    {
     "data": {
      "text/plain": [
       "10.291568832717191"
      ]
     },
     "execution_count": 42,
     "metadata": {},
     "output_type": "execute_result"
    }
   ],
   "source": []
  },
  {
   "cell_type": "code",
   "execution_count": null,
   "metadata": {},
   "outputs": [],
   "source": [
    "# HOV eligible mode share along corridor (2)"
   ]
  },
  {
   "cell_type": "code",
   "execution_count": null,
   "metadata": {},
   "outputs": [],
   "source": [
    "# HOV eligible mode share along corridor (3_)"
   ]
  },
  {
   "cell_type": "code",
   "execution_count": 454,
   "metadata": {},
   "outputs": [
    {
     "data": {
      "text/plain": [
       "10.93586442037644"
      ]
     },
     "execution_count": 454,
     "metadata": {},
     "output_type": "execute_result"
    }
   ],
   "source": [
    "# Average commute trip length\n",
    "commute_df = trip_df[((trip_df['origin_purpose_cat'] == 'Home') & (trip_df['dest_purpose_cat'] == 'Work'))]\n",
    "commute_df['wt_dist'].sum()/commute_df[config['trip_weight_col_17_19']].sum()"
   ]
  },
  {
   "cell_type": "code",
   "execution_count": null,
   "metadata": {},
   "outputs": [],
   "source": [
    "# Percent of potential pedestrians who would walk if there was a sidewalk serving their destination\n",
    "\n",
    "# Dropped in 2017\n",
    "# Can consider adding for 2025 with note to not include for other years? "
   ]
  },
  {
   "cell_type": "markdown",
   "metadata": {},
   "source": [
    "# Soundcast Trip Data"
   ]
  },
  {
   "cell_type": "code",
   "execution_count": null,
   "metadata": {},
   "outputs": [],
   "source": []
  }
 ],
 "metadata": {
  "kernelspec": {
   "display_name": "summary",
   "language": "python",
   "name": "python3"
  },
  "language_info": {
   "codemirror_mode": {
    "name": "ipython",
    "version": 3
   },
   "file_extension": ".py",
   "mimetype": "text/x-python",
   "name": "python",
   "nbconvert_exporter": "python",
   "pygments_lexer": "ipython3",
   "version": "3.7.10"
  }
 },
 "nbformat": 4,
 "nbformat_minor": 2
}
