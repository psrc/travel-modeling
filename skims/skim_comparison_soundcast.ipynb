{
 "cells": [
  {
   "cell_type": "code",
   "execution_count": 1,
   "metadata": {
    "collapsed": true
   },
   "outputs": [],
   "source": [
    "import pandas as pd\n",
    "import h5py\n",
    "import os"
   ]
  },
  {
   "cell_type": "code",
   "execution_count": 28,
   "metadata": {},
   "outputs": [
    {
     "name": "stdout",
     "output_type": "stream",
     "text": [
      "svtl2t\n",
      "h2tl2t\n",
      "h3tl2t\n",
      "svtl2c\n",
      "h2tl2c\n",
      "h3tl2c\n"
     ]
    }
   ],
   "source": [
    "# 4k Skims\n",
    "working_dir_1 = r'L:\\dev\\esd\\JF\\sc_2040_esd_jf'\n",
    "working_dir_2 = r'U:\\soundcast_root\\src\\2040'\n",
    "h5file = '2040-travelmodel.h5'\n",
    "\n",
    "df_final = pd.DataFrame()\n",
    "\n",
    "year = '2040'\n",
    "\n",
    "tod = '7to8.h5'\n",
    "h5_file_1 = h5py.File(os.path.join(working_dir_1,r'inputs\\model\\roster',tod))\n",
    "source_1 = 'non-integrated'\n",
    "\n",
    "h5_file_2 = h5py.File(os.path.join(working_dir_2,r'inputs\\model\\roster',tod))\n",
    "source_2 = 'integrated'\n",
    "\n",
    "matrix_list = ['svtl2t','h2tl2t','h3tl2t','svtl2c','h2tl2c','h3tl2c',]\n",
    "\n",
    "for matrix_name in matrix_list:\n",
    "    print matrix_name\n",
    "\n",
    "    # Process Source 1 skims\n",
    "    source = source_1\n",
    "    _df_1 = pd.DataFrame(h5_file_1['Skims'][matrix_name][:])\n",
    "    # Adjust index to start from zone 1 to 3700\n",
    "    _df_1.index = _df_1.index+1\n",
    "    _df_1.columns = _df_1.columns+1\n",
    "    \n",
    "    source = source_2\n",
    "    _df_2 = pd.DataFrame(h5_file_2['Skims'][matrix_name][:])\n",
    "    # Adjust index to start from zone 1 to 3700\n",
    "    _df_2.index = _df_2.index+1\n",
    "    _df_2.columns = _df_2.columns+1\n",
    "    \n",
    "    # Sum skim/trip values from origin\n",
    "    _df_1 = pd.DataFrame(_df_1.unstack()).reset_index()\n",
    "    _df_1 = _df_1.rename(columns={'level_0': 'otaz', 'level_1': 'dtaz', 0: 'trips'})\n",
    "\n",
    "    # Get origin totals from otaz (too many records for full O-D comparison)\n",
    "    df_1 = _df_1.groupby('otaz').sum()[['trips']]\n",
    "    df_1 = df_1.reset_index()\n",
    "\n",
    "    # Process Soundcast skims\n",
    "    source = 'soundcast'\n",
    "\n",
    "    df_2 = pd.DataFrame(_df_2.unstack()).reset_index()\n",
    "    df_2 = df_2.rename(columns={'level_0': 'otaz', 'level_1': 'dtaz', 0: 'trips'})\n",
    "\n",
    "    # Get total trips from otaz (too many records for full O-D comparison)\n",
    "    df_2 = df_2.groupby('otaz').sum()[['trips']]\n",
    "    df_2 = df_2.reset_index()\n",
    "\n",
    "    # Merge results\n",
    "    df = pd.merge(df_1,df_2,on='otaz', suffixes=['_1','_2'])\n",
    "    df['matrix_name'] = matrix_name\n",
    "    df['year'] = year\n",
    "\n",
    "    df_final = df_final.append(df)"
   ]
  },
  {
   "cell_type": "code",
   "execution_count": 30,
   "metadata": {},
   "outputs": [],
   "source": [
    "df_final.to_csv(r'R:\\SoundCastDocuments\\integrated\\skim_comparison\\2040\\skim-compare.csv',\n",
    "               index=False)"
   ]
  }
 ],
 "metadata": {
  "kernelspec": {
   "display_name": "Python 2",
   "language": "python",
   "name": "python2"
  },
  "language_info": {
   "codemirror_mode": {
    "name": "ipython",
    "version": 2
   },
   "file_extension": ".py",
   "mimetype": "text/x-python",
   "name": "python",
   "nbconvert_exporter": "python",
   "pygments_lexer": "ipython2",
   "version": "2.7.14"
  }
 },
 "nbformat": 4,
 "nbformat_minor": 2
}
