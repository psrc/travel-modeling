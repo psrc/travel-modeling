{
 "cells": [
  {
   "cell_type": "code",
   "execution_count": 1,
   "id": "bda43c58",
   "metadata": {},
   "outputs": [],
   "source": [
    "import pandas as pd"
   ]
  },
  {
   "cell_type": "code",
   "execution_count": 2,
   "id": "1a8f48db",
   "metadata": {},
   "outputs": [],
   "source": [
    "df_orig = pd.read_csv(r'C:\\Workspace\\sc_new_emp_SCEN4_optimistic2018\\soundcast\\outputs\\daysim\\_trip.tsv', sep='\\t')"
   ]
  },
  {
   "cell_type": "code",
   "execution_count": 3,
   "id": "fd263cdd",
   "metadata": {},
   "outputs": [],
   "source": [
    "df_new = pd.read_csv(r'C:\\Workspace\\sc_new_emp_SCEN4_optimistic2018\\soundcast\\outputs\\daysim\\_trip_final.tsv', sep='\\t')"
   ]
  },
  {
   "cell_type": "code",
   "execution_count": 4,
   "id": "6d476ae2",
   "metadata": {},
   "outputs": [],
   "source": [
    "df = df_new[['hhno', 'pno', 'day', 'tour', 'half', 'tseg', 'tsvid','travtime','travcost','travdist']].merge(\n",
    "    df_orig[['hhno', 'pno', 'day', 'tour', 'half', 'tseg', 'tsvid','travtime','travcost','travdist']],\n",
    "                                                     on=['hhno', 'pno', 'day', 'tour', 'half', 'tseg', 'tsvid'], \n",
    "    suffixes=['_new','_old'])"
   ]
  },
  {
   "cell_type": "code",
   "execution_count": 5,
   "id": "5b2c4b84",
   "metadata": {},
   "outputs": [
    {
     "data": {
      "text/plain": [
       "travtime_new    12.135336\n",
       "travtime_old    12.620000\n",
       "dtype: float64"
      ]
     },
     "execution_count": 5,
     "metadata": {},
     "output_type": "execute_result"
    }
   ],
   "source": [
    "df[['travtime_new','travtime_old']].median()"
   ]
  },
  {
   "cell_type": "code",
   "execution_count": 6,
   "id": "a0d7d62a",
   "metadata": {},
   "outputs": [],
   "source": [
    "import h5py\n",
    "h5orig = h5py.File(r'C:\\Workspace\\sc_new_emp_SCEN4_optimistic2018\\soundcast\\outputs_original\\daysim\\daysim_outputs_old.h5')"
   ]
  },
  {
   "cell_type": "code",
   "execution_count": 7,
   "id": "aea94a66",
   "metadata": {},
   "outputs": [
    {
     "data": {
      "text/plain": [
       "16304397.0"
      ]
     },
     "execution_count": 7,
     "metadata": {},
     "output_type": "execute_result"
    }
   ],
   "source": [
    "h5orig['Trip']['trexpfac'][:].sum()"
   ]
  },
  {
   "cell_type": "code",
   "execution_count": 8,
   "id": "95b1b627",
   "metadata": {},
   "outputs": [],
   "source": [
    "h5new = h5py.File(r'C:\\Workspace\\sc_new_emp_SCEN4_optimistic2018\\soundcast\\outputs\\daysim\\daysim_outputs.h5')"
   ]
  },
  {
   "cell_type": "code",
   "execution_count": 9,
   "id": "6a12b750",
   "metadata": {},
   "outputs": [
    {
     "data": {
      "text/plain": [
       "16304389.0"
      ]
     },
     "execution_count": 9,
     "metadata": {},
     "output_type": "execute_result"
    }
   ],
   "source": [
    "df_new['trexpfac'].sum()"
   ]
  },
  {
   "cell_type": "code",
   "execution_count": 22,
   "id": "72b2a98c",
   "metadata": {},
   "outputs": [
    {
     "data": {
      "text/plain": [
       "16304389.0"
      ]
     },
     "execution_count": 22,
     "metadata": {},
     "output_type": "execute_result"
    }
   ],
   "source": [
    "import numpy as np\n",
    "np.nansum(h5new['Trip']['trexpfac'][:])"
   ]
  },
  {
   "cell_type": "code",
   "execution_count": 16,
   "id": "649e3333",
   "metadata": {},
   "outputs": [
    {
     "data": {
      "text/plain": [
       "16304389.0"
      ]
     },
     "execution_count": 16,
     "metadata": {},
     "output_type": "execute_result"
    }
   ],
   "source": [
    "df_new['trexpfac'].sum()"
   ]
  },
  {
   "cell_type": "code",
   "execution_count": 22,
   "id": "0dd7ae6c",
   "metadata": {},
   "outputs": [
    {
     "data": {
      "text/plain": [
       "0            0.000000\n",
       "1            0.878293\n",
       "2           63.200000\n",
       "3           21.810000\n",
       "4           64.210000\n",
       "              ...    \n",
       "16331935     1.361516\n",
       "16331936     1.394908\n",
       "16331937     9.840000\n",
       "16331938    10.350000\n",
       "16331939          NaN\n",
       "Name: travdist, Length: 16331940, dtype: float64"
      ]
     },
     "execution_count": 22,
     "metadata": {},
     "output_type": "execute_result"
    }
   ],
   "source": [
    "df_new['travdist']"
   ]
  },
  {
   "cell_type": "code",
   "execution_count": null,
   "id": "ed604190",
   "metadata": {},
   "outputs": [],
   "source": []
  }
 ],
 "metadata": {
  "kernelspec": {
   "display_name": "Python 3",
   "language": "python",
   "name": "python3"
  },
  "language_info": {
   "codemirror_mode": {
    "name": "ipython",
    "version": 3
   },
   "file_extension": ".py",
   "mimetype": "text/x-python",
   "name": "python",
   "nbconvert_exporter": "python",
   "pygments_lexer": "ipython3",
   "version": "3.7.10"
  }
 },
 "nbformat": 4,
 "nbformat_minor": 5
}
