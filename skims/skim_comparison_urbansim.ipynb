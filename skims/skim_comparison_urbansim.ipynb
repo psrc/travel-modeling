{
 "cells": [
  {
   "cell_type": "code",
   "execution_count": 124,
   "metadata": {
    "collapsed": true
   },
   "outputs": [],
   "source": [
    "import pandas as pd\n",
    "import h5py\n",
    "import os"
   ]
  },
  {
   "cell_type": "code",
   "execution_count": 125,
   "metadata": {},
   "outputs": [],
   "source": [
    "# Compare two identical skim files (input for urbansim from soundcast)\n",
    "skim1_file = r'R:\\SoundCast\\UrbanSimAccessibility\\Skims\\2025\\urbansim_skims.h5'\n",
    "skim2_file = r'R:\\SoundCast\\UrbanSimAccessibility\\Skims\\Integrated\\2025\\urbansim_skims.h5'\n",
    "\n",
    "skim1_name = 'LUV'\n",
    "skim2_name = 'new'\n",
    "\n",
    "results_output_dir = r'R:\\SoundCast\\UrbanSimAccessibility\\Skims\\Integrated\\2025'\n",
    "\n",
    "##############\n",
    "\n",
    "skim1_h5 =  h5py.File(skim1_file)\n",
    "skim2_h5 =  h5py.File(skim2_file)\n",
    "\n",
    "skim1_dict = {}\n",
    "skim2_dict = {}\n",
    "skim1_df = pd.DataFrame()\n",
    "skim2_df = pd.DataFrame()\n",
    "\n",
    "for col in skim1_h5['results'].keys():\n",
    "    # skim set 1\n",
    "    #\n",
    "    skim1_dict[col] = pd.DataFrame(skim1_h5['results'][col][:])\n",
    "    # Adjust index to be 1-based\n",
    "    skim1_dict[col].index = skim1_dict[col].index+1\n",
    "    skim1_dict[col].columns = skim1_dict[col].columns+1\n",
    "    \n",
    "    # unstack skim/trip values from origin\n",
    "    skim1_dict[col] = pd.DataFrame(skim1_dict[col].unstack()).reset_index()\n",
    "    skim1_dict[col] = skim1_dict[col].rename(columns={'level_0': 'otaz', 'level_1': 'dtaz', 0: col})\n",
    "    \n",
    "    if len(skim1_df.columns) == 0:\n",
    "        skim1_df = skim1_dict[col]\n",
    "    else:\n",
    "        skim1_df[col] = skim1_dict[col][col]\n",
    "        \n",
    "    skim1_df['source'] = skim1_name\n",
    "    \n",
    "    # skim set 2\n",
    "    #\n",
    "    skim2_dict[col] = pd.DataFrame(skim2_h5['results'][col][:])\n",
    "    # Adjust index to be 1-based\n",
    "    skim2_dict[col].index = skim2_dict[col].index+1\n",
    "    skim2_dict[col].columns = skim2_dict[col].columns+1\n",
    "\n",
    "    # unstack skim/trip values from origin\n",
    "    skim2_dict[col] = pd.DataFrame(skim2_dict[col].unstack()).reset_index()\n",
    "    skim2_dict[col] = skim2_dict[col].rename(columns={'level_0': 'otaz', 'level_1': 'dtaz', 0: col})\n",
    "\n",
    "    if len(skim2_df.columns) == 0:\n",
    "        skim2_df = skim2_dict[col]\n",
    "    else:\n",
    "        skim2_df[col] = skim2_dict[col][col]\n",
    "        \n",
    "    skim2_df['source'] = skim2_name"
   ]
  },
  {
   "cell_type": "code",
   "execution_count": 126,
   "metadata": {},
   "outputs": [],
   "source": [
    "# Stack the results and write to file\n",
    "# df = skim1_df.append(skim2_df)\n",
    "# df.to_csv(os.path.join(r'R:\\SoundCast\\UrbanSimAccessibility\\Skims\\Integrated','od_skim_compare.csv'))\n",
    "\n",
    "# The stacked results are useful, but also need to map out differences, so take the total or average by zone\n",
    "\n",
    "# First skim set\n",
    "##\n",
    "# First the total\n",
    "df_1_sum = skim1_df.groupby('otaz').sum()\n",
    "df_1_sum = df_1_sum.drop('dtaz',axis=1)\n",
    "# Unstack so that metrics are in a list\n",
    "df_1_sum = df_1_sum[['aau1cs', 'aau1ds', 'aau1tl', 'aau1tm', 'atrtwa', 'avehda',\n",
    "       'awlktm',  'lsum1',  'lsum2',  'lsum3',  'lsum4']].unstack().reset_index()\n",
    "df_1_sum.columns = [['skim_name','otaz','skim_value_sum_'+skim1_name]]\n",
    "\n",
    "# Also compute the mean values\n",
    "df_1_avg = skim1_df.groupby('otaz').mean()\n",
    "df_1_avg = df_1_avg.drop('dtaz',axis=1)\n",
    "# Unstack so that metrics are in a list\n",
    "df_1_avg = df_1_avg[['aau1cs', 'aau1ds', 'aau1tl', 'aau1tm', 'atrtwa', 'avehda',\n",
    "       'awlktm',  'lsum1',  'lsum2',  'lsum3',  'lsum4']].unstack().reset_index()\n",
    "df_1_avg.columns = [['skim_name','otaz','skim_value_avg_'+skim1_name]]\n",
    "\n",
    "# Second skim set\n",
    "##\n",
    "# First the total\n",
    "df_2_sum = skim2_df.groupby('otaz').sum()\n",
    "df_2_sum = df_2_sum.drop('dtaz',axis=1)\n",
    "# Unstack so that metrics are in a list\n",
    "df_2_sum = df_2_sum[['aau1cs', 'aau1ds', 'aau1tl', 'aau1tm', 'atrtwa', 'avehda',\n",
    "       'awlktm',  'lsum1',  'lsum2',  'lsum3',  'lsum4']].unstack().reset_index()\n",
    "df_2_sum.columns = [['skim_name','otaz','skim_value_sum_'+skim2_name]]\n",
    "\n",
    "# Also compute the mean values\n",
    "df_2_avg = skim2_df.groupby('otaz').mean()\n",
    "df_2_avg = df_2_avg.drop('dtaz',axis=1)\n",
    "# Unstack so that metrics are in a list\n",
    "df_2_avg = df_2_avg[['aau1cs', 'aau1ds', 'aau1tl', 'aau1tm', 'atrtwa', 'avehda',\n",
    "       'awlktm',  'lsum1',  'lsum2',  'lsum3',  'lsum4']].unstack().reset_index()\n",
    "df_2_avg.columns = [['skim_name','otaz','skim_value_avg_'+skim2_name]]"
   ]
  },
  {
   "cell_type": "code",
   "execution_count": 127,
   "metadata": {},
   "outputs": [],
   "source": [
    "df = df_1_sum.merge(df_1_avg, on=['otaz','skim_name'])\n",
    "df = df.merge(df_2_sum, on=['otaz','skim_name'])\n",
    "df = df.merge(df_2_avg, on=['otaz','skim_name'])\n",
    "df.to_csv(os.path.join(r'R:\\SoundCast\\UrbanSimAccessibility\\Skims\\Integrated','od_skim_compare.csv'))"
   ]
  },
  {
   "cell_type": "code",
   "execution_count": null,
   "metadata": {
    "collapsed": true
   },
   "outputs": [],
   "source": []
  }
 ],
 "metadata": {
  "kernelspec": {
   "display_name": "Python 2",
   "language": "python",
   "name": "python2"
  },
  "language_info": {
   "codemirror_mode": {
    "name": "ipython",
    "version": 2
   },
   "file_extension": ".py",
   "mimetype": "text/x-python",
   "name": "python",
   "nbconvert_exporter": "python",
   "pygments_lexer": "ipython2",
   "version": "2.7.14"
  }
 },
 "nbformat": 4,
 "nbformat_minor": 2
}
