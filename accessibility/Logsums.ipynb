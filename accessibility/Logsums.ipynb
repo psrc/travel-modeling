{
 "cells": [
  {
   "cell_type": "code",
   "execution_count": 1,
   "metadata": {
    "collapsed": true
   },
   "outputs": [],
   "source": [
    "import pandas as pd"
   ]
  },
  {
   "cell_type": "code",
   "execution_count": 113,
   "metadata": {},
   "outputs": [],
   "source": [
    "df_base = pd.read_csv(r'U:\\Stefan\\soundcast_2014\\outputs\\aggregate_logsums.1.dat', delim_whitespace=True, skipinitialspace=True)\n",
    "df_base = df_base.reset_index()\n",
    "df_base = pd.DataFrame(df_base[['level_0','CFULL/SHO']])\n",
    "df_base['source'] = '2014'"
   ]
  },
  {
   "cell_type": "code",
   "execution_count": 133,
   "metadata": {},
   "outputs": [],
   "source": [
    "df_scen = pd.read_csv(r'S:\\Stefan\\soundcast_2040_plan\\outputs\\aggregate_logsums.1.dat', delim_whitespace=True, skipinitialspace=True)\n",
    "df_scen = df_scen.reset_index()\n",
    "df_scen = pd.DataFrame(df_scen[['level_0','CFULL/SHO']])\n",
    "df_scen['source'] = '2040 plan'"
   ]
  },
  {
   "cell_type": "code",
   "execution_count": 134,
   "metadata": {},
   "outputs": [],
   "source": [
    "df = df_base.append(df_scen)"
   ]
  },
  {
   "cell_type": "code",
   "execution_count": 135,
   "metadata": {},
   "outputs": [],
   "source": [
    "df.columns = ['taz','logsum','source']"
   ]
  },
  {
   "cell_type": "code",
   "execution_count": 136,
   "metadata": {},
   "outputs": [],
   "source": [
    "df.to_csv(r'c:/users/brice/logsums.txt', index=False)"
   ]
  },
  {
   "cell_type": "code",
   "execution_count": 137,
   "metadata": {},
   "outputs": [],
   "source": [
    "# Save as 2 separate columns to compute differences\n",
    "newdf = pd.merge(df[df['source'] == '2014'][['taz','logsum']],df[df['source'] == '2040 plan'][['taz','logsum']],on='taz', \n",
    "         suffixes=['_2014','2040_plan'])"
   ]
  },
  {
   "cell_type": "code",
   "execution_count": 138,
   "metadata": {},
   "outputs": [],
   "source": [
    "newdf.to_csv(r'c:/users/brice/logsums_compare.txt', index=False)"
   ]
  },
  {
   "cell_type": "code",
   "execution_count": 109,
   "metadata": {
    "collapsed": true
   },
   "outputs": [],
   "source": [
    "# taz sums\n",
    "lu = pd.read_csv(r'R:\\SoundCast\\Inputs\\2014\\landuse\\parcels_urbansim.txt', sep=' ')"
   ]
  },
  {
   "cell_type": "code",
   "execution_count": 112,
   "metadata": {},
   "outputs": [],
   "source": [
    "lu.groupby('taz_p').sum().to_csv(r'J:\\Projects\\Soundcast\\opportunity_index\\2014_taz_landuse.csv')"
   ]
  },
  {
   "cell_type": "code",
   "execution_count": null,
   "metadata": {
    "collapsed": true
   },
   "outputs": [],
   "source": []
  }
 ],
 "metadata": {
  "kernelspec": {
   "display_name": "Python 2",
   "language": "python",
   "name": "python2"
  },
  "language_info": {
   "codemirror_mode": {
    "name": "ipython",
    "version": 2
   },
   "file_extension": ".py",
   "mimetype": "text/x-python",
   "name": "python",
   "nbconvert_exporter": "python",
   "pygments_lexer": "ipython2",
   "version": "2.7.13"
  }
 },
 "nbformat": 4,
 "nbformat_minor": 2
}
