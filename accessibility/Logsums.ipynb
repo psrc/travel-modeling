{
 "cells": [
  {
   "cell_type": "code",
   "execution_count": 178,
   "metadata": {
    "collapsed": true
   },
   "outputs": [],
   "source": [
    "import pandas as pd\n",
    "import os"
   ]
  },
  {
   "cell_type": "code",
   "execution_count": 141,
   "metadata": {
    "collapsed": true
   },
   "outputs": [],
   "source": [
    "logsum = 'CFULL/SHO'"
   ]
  },
  {
   "cell_type": "code",
   "execution_count": 227,
   "metadata": {},
   "outputs": [],
   "source": [
    "base_dir = r'U:\\Stefan\\soundcast_2014'\n",
    "df_base = pd.read_csv(os.path.join(base_dir, r'outputs\\aggregate_logsums.1.dat'), delim_whitespace=True, skipinitialspace=True)\n",
    "df_base = df_base.reset_index()\n",
    "df_base = pd.DataFrame(df_base[['level_0',logsum]])\n",
    "df_base['source'] = '2014'\n",
    "\n",
    "# Separate into accessibility bins\n",
    "df_base['accessibility'] = pd.qcut(df_base[logsum],5,labels=['lowest','low','moderate','high','highest'])\n",
    "bins = pd.qcut(df_base[logsum],5,retbins=True)[1]\n",
    "\n",
    "df_base.columns = ['taz','logsum','source','accessibility']\n",
    "\n",
    "# Attach population\n",
    "hh = pd.read_csv(os.path.join(base_dir,r'outputs\\_household.tsv'), sep='\\t')\n",
    "df_pop = pd.DataFrame(hh.groupby('hhtaz').sum()['hhsize'])\n",
    "df_pop['taz'] = df_pop.index\n",
    "df_base = pd.merge(df_base,df_pop,on='taz',how='left')\n",
    "df_base.columns = [['taz','logsum','source','accessibility','population']]"
   ]
  },
  {
   "cell_type": "code",
   "execution_count": 228,
   "metadata": {
    "collapsed": true
   },
   "outputs": [],
   "source": [
    "scen_dir = r'S:\\Stefan\\soundcast_2040_plan'\n",
    "df_scen = pd.read_csv(os.path.join(scen_dir, r'outputs\\aggregate_logsums.1.dat'), delim_whitespace=True, skipinitialspace=True)\n",
    "df_scen = df_scen.reset_index()\n",
    "df_scen = pd.DataFrame(df_scen[['level_0','CFULL/SHO']])\n",
    "df_scen['source'] = '2040 plan'\n",
    "\n",
    "# Separate into accessibility bins\n",
    "# ensure that bin start and end include any potential values for comparison\n",
    "bins[0] = -999999999\n",
    "bins[-1] = 999999999\n",
    "df_scen['accessibility'] = pd.cut(x=df_scen[logsum],bins=bins,labels=['lowest','low','moderate','high','highest'])\n",
    "\n",
    "df_scen.columns = ['taz','logsum','source','accessibility']\n",
    "\n",
    "# Attach population\n",
    "hh = pd.read_csv(os.path.join(scen_dir,r'outputs\\_household.tsv'), sep='\\t')\n",
    "df_pop = pd.DataFrame(hh.groupby('hhtaz').sum()['hhsize'])\n",
    "df_pop['taz'] = df_pop.index\n",
    "df_scen = pd.merge(df_scen,df_pop,on='taz',how='left')\n",
    "df_scen.columns = [['taz','logsum','source','accessibility','population']]"
   ]
  },
  {
   "cell_type": "code",
   "execution_count": 229,
   "metadata": {
    "collapsed": true
   },
   "outputs": [],
   "source": [
    "df = df_base.append(df_scen)"
   ]
  },
  {
   "cell_type": "code",
   "execution_count": 230,
   "metadata": {
    "collapsed": true
   },
   "outputs": [],
   "source": [
    "df.to_csv(r'c:/users/brice/logsums.txt', index=False)"
   ]
  },
  {
   "cell_type": "code",
   "execution_count": 231,
   "metadata": {
    "collapsed": true
   },
   "outputs": [],
   "source": [
    "# Save as 2 separate columns to compute differences\n",
    "newdf = pd.merge(df[df['source'] == '2014'][['taz','logsum']],df[df['source'] == '2040 plan'][['taz','logsum']],on='taz', \n",
    "         suffixes=['_2014','2040_plan'])"
   ]
  },
  {
   "cell_type": "code",
   "execution_count": 232,
   "metadata": {},
   "outputs": [],
   "source": [
    "# Calculate percent difference and separate into bins\n",
    "newdf['% difference'] = (newdf['logsum2040_plan']-newdf['logsum_2014'])/newdf['logsum_2014']\n",
    "newdf['% difference accessibility'] = pd.cut(x=newdf['% difference'],bins=5,labels=['lowest','low','moderate','high','highest'])"
   ]
  },
  {
   "cell_type": "code",
   "execution_count": 233,
   "metadata": {
    "collapsed": true
   },
   "outputs": [],
   "source": [
    "newdf.to_csv(r'c:/users/brice/logsums_compare.txt', index=False)"
   ]
  },
  {
   "cell_type": "code",
   "execution_count": 174,
   "metadata": {
    "collapsed": true
   },
   "outputs": [],
   "source": [
    "# taz sums\n",
    "lu = pd.read_csv(r'R:\\SoundCast\\Inputs\\2014\\landuse\\parcels_urbansim.txt', sep=' ')"
   ]
  },
  {
   "cell_type": "code",
   "execution_count": 175,
   "metadata": {
    "collapsed": true
   },
   "outputs": [],
   "source": [
    "lu.groupby('taz_p').sum().to_csv(r'J:\\Projects\\Soundcast\\opportunity_index\\2014_taz_landuse.csv')"
   ]
  },
  {
   "cell_type": "code",
   "execution_count": null,
   "metadata": {
    "collapsed": true
   },
   "outputs": [],
   "source": []
  }
 ],
 "metadata": {
  "kernelspec": {
   "display_name": "Python 2",
   "language": "python",
   "name": "python2"
  },
  "language_info": {
   "codemirror_mode": {
    "name": "ipython",
    "version": 2
   },
   "file_extension": ".py",
   "mimetype": "text/x-python",
   "name": "python",
   "nbconvert_exporter": "python",
   "pygments_lexer": "ipython2",
   "version": "2.7.13"
  }
 },
 "nbformat": 4,
 "nbformat_minor": 2
}
