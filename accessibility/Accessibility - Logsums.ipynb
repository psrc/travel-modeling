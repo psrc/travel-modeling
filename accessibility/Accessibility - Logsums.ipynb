{
 "cells": [
  {
   "cell_type": "code",
   "execution_count": 3,
   "metadata": {
    "collapsed": true
   },
   "outputs": [],
   "source": [
    "import os\n",
    "import pandas as pd"
   ]
  },
  {
   "cell_type": "markdown",
   "metadata": {},
   "source": [
    "# Base vs Scenario"
   ]
  },
  {
   "cell_type": "code",
   "execution_count": 48,
   "metadata": {
    "collapsed": true
   },
   "outputs": [],
   "source": [
    "def produce_single_output(run_dir, run_name, output_path):\n",
    "    # Load input and lookup data\n",
    "    trip = pd.read_csv(os.path.join(run_dir, r'outputs\\_trip.tsv'), sep='\\t')\n",
    "#     trip = trip.iloc[0:100000]\n",
    "\n",
    "    hh = pd.read_csv(os.path.join(run_dir, r'outputs\\_household.tsv'), sep='\\t')\n",
    "\n",
    "    # Merge hhtaz to the trip records\n",
    "    trip = pd.merge(trip, hh[['hhno','hhparcel']], on='hhno', how='left')\n",
    "                \n",
    "    # Load parcel-census lookup\n",
    "    parcel_census = pd.read_csv(r'R:\\Brice\\gis\\parcels_urbansim_census.txt')\n",
    "    buffered_parcels = pd.read_csv(os.path.join(run_dir,r'inputs\\buffered_parcels.txt'), sep=' ')\n",
    "    buffered_parcels = pd.merge(buffered_parcels,parcel_census[['TRACTCE10','parcelid']], on='parcelid', how='left')\n",
    "                     \n",
    "    # Commute trip cost\n",
    "    # Merge census tract to trip records\n",
    "    trip = pd.merge(trip, parcel_census[['TRACTCE10','parcelid']], left_on='hhparcel', \n",
    "                    right_on='parcelid', how='left')\n",
    "                     \n",
    "    # Trip cost, auto commute, direct from home to work\n",
    "    commute_trips = trip[(trip['dpurp'] == 1) & (trip['opurp'] == 0) & (trip['mode'].isin([3,4,5]))]\n",
    "\n",
    "    # Average commute costs by car (SOV, HOV2, HOV3+)\n",
    "    commute_trips = commute_trips.groupby(['TRACTCE10']).mean()['travcost']\n",
    "                  \n",
    "    # Transit access\n",
    "    # NOT including local buses... should we be?? (dist_lbus)\n",
    "\n",
    "    # Indicate if closest transit stop is within a half mile\n",
    "    buffered_parcels.ix[buffered_parcels[['dist_ebus','dist_crt','dist_fry','dist_lrt','dist_lbus']].min(axis=1) <= 0.5, 'half_mile_transit'] =  1\n",
    "    buffered_parcels['half_mile_transit'] = buffered_parcels['half_mile_transit'].fillna(0)\n",
    "    transit_access = buffered_parcels.groupby('TRACTCE10').mean()['half_mile_transit']\n",
    "                     \n",
    "    # Transit Cost\n",
    "    # average cost for all (?) transit trips\n",
    "    transit_trips = trip[trip['mode'] == 6]\n",
    "    transit_cost = transit_trips.groupby(['TRACTCE10']).mean()['travcost']\n",
    "                     \n",
    "    # Non-motorized mode share\n",
    "    # % of all commutes by walk or bike\n",
    "    \n",
    "    trip.ix[trip['mode'].isin([1,2]),'nmt'] = 1\n",
    "    trip['nmt'] = trip['nmt'].fillna(0)\n",
    "    nmt_share = trip.groupby(['TRACTCE10']).mean()['nmt']\n",
    "                     \n",
    "    # Write results to CSV\n",
    "    df = pd.DataFrame([nmt_share.index, commute_trips, transit_cost,transit_access,nmt_share]).T\n",
    "    df.columns = ['tract','driving_commute_cost','transit_cost','transit_access','nmt_share']\n",
    "    df['source'] = run_name\n",
    "    \n",
    "    # Write tract with leading zeros to match census shapefile\n",
    "    df['tract'] = df['tract'].fillna(0).astype('int').astype('str').apply(lambda x: x.zfill(6))\n",
    "    \n",
    "    return df"
   ]
  },
  {
   "cell_type": "code",
   "execution_count": null,
   "metadata": {
    "collapsed": true
   },
   "outputs": [],
   "source": [
    "# Results for census tracts\n",
    "output_path = r'J:\\Projects\\Soundcast\\opportunity_index\\opportunity_index.txt'\n",
    "\n",
    "run_dir = r'U:\\Stefan\\soundcast_2014'\n",
    "run_name = '2014'\n",
    "df_base = produce_single_output(run_dir, run_name, output_path)\n",
    "\n",
    "run_dir = r'S:\\Stefan\\soundcast_2040_plan'\n",
    "run_name = '2040 Plan'\n",
    "df_scen = produce_single_output(run_dir, run_name, output_path)"
   ]
  },
  {
   "cell_type": "code",
   "execution_count": 80,
   "metadata": {
    "collapsed": true
   },
   "outputs": [],
   "source": [
    "def produce_single_output_taz(run_dir, run_name, output_path):\n",
    "    # Load input and lookup data\n",
    "    trip = pd.read_csv(os.path.join(run_dir, r'outputs\\_trip.tsv'), sep='\\t')\n",
    "#     trip = trip.iloc[0:100000]\n",
    "\n",
    "    hh = pd.read_csv(os.path.join(run_dir, r'outputs\\_household.tsv'), sep='\\t')\n",
    "\n",
    "    # Merge hhtaz to the trip records\n",
    "    trip = pd.merge(trip, hh[['hhno','hhparcel','hhtaz']], on='hhno', how='left')\n",
    "                \n",
    "    # Load parcel-census lookup\n",
    "    buffered_parcels = pd.read_csv(os.path.join(run_dir,r'inputs\\buffered_parcels.txt'), sep=' ')\n",
    "                     \n",
    "    # Commute trip cost\n",
    "    # Merge census tract to trip records\n",
    "                     \n",
    "    # Trip cost, auto commute, direct from home to work\n",
    "    commute_trips = trip[(trip['dpurp'] == 1) & (trip['opurp'] == 0) & (trip['mode'].isin([3,4,5]))]\n",
    "\n",
    "    # Average commute costs by car (SOV, HOV2, HOV3+)\n",
    "    commute_trips = commute_trips.groupby(['hhtaz']).mean()['travcost']\n",
    "                  \n",
    "    # Transit access\n",
    "    # NOT including local buses... should we be?? (dist_lbus)\n",
    "\n",
    "    # Indicate if closest transit stop is within a half mile\n",
    "    buffered_parcels.ix[buffered_parcels[['dist_ebus','dist_crt','dist_fry','dist_lrt','dist_lbus']].min(axis=1) <= 0.5, 'half_mile_transit'] =  1\n",
    "    buffered_parcels['half_mile_transit'] = buffered_parcels['half_mile_transit'].fillna(0)\n",
    "    transit_access = buffered_parcels.groupby('taz_p').mean()['half_mile_transit']\n",
    "                     \n",
    "    # Transit Cost\n",
    "    # average cost for all (?) transit trips\n",
    "    transit_trips = trip[trip['mode'] == 6]\n",
    "    transit_cost = transit_trips.groupby(['hhtaz']).mean()['travcost']\n",
    "                     \n",
    "    # Non-motorized mode share\n",
    "    # % of all commutes by walk or bike\n",
    "    \n",
    "    trip.ix[trip['mode'].isin([1,2]),'nmt'] = 1\n",
    "    trip['nmt'] = trip['nmt'].fillna(0)\n",
    "    nmt_share = trip.groupby(['hhtaz']).mean()['nmt']\n",
    "                     \n",
    "    # Write results to CSV\n",
    "    df = pd.DataFrame([nmt_share.index, commute_trips, transit_cost,transit_access,nmt_share]).T\n",
    "    df.columns = ['taz','driving_commute_cost','transit_cost','transit_access','nmt_share']\n",
    "    df['source'] = run_name\n",
    "        \n",
    "    return df"
   ]
  },
  {
   "cell_type": "code",
   "execution_count": 81,
   "metadata": {},
   "outputs": [],
   "source": [
    "# Results using TAZ\n",
    "output_path = r'J:\\Projects\\Soundcast\\opportunity_index\\opportunity_index_taz.txt'\n",
    "\n",
    "run_dir = r'U:\\Stefan\\soundcast_2014'\n",
    "run_name = '2014'\n",
    "df_base = produce_single_output_taz(run_dir, run_name, output_path)\n",
    "\n",
    "run_dir = r'S:\\Stefan\\soundcast_2040_plan'\n",
    "run_name = '2040 Plan'\n",
    "df_scen = produce_single_output_taz(run_dir, run_name, output_path)"
   ]
  },
  {
   "cell_type": "markdown",
   "metadata": {},
   "source": [
    "### Compare scenario versus a baseline, using baseline bounds\n"
   ]
  },
  {
   "cell_type": "code",
   "execution_count": 82,
   "metadata": {
    "collapsed": true
   },
   "outputs": [],
   "source": [
    "# Calculate z scores\n",
    "# calculate z zcores\n",
    "df_base['transit_cost_z_score'] = (df_base['transit_cost'] - df_base['transit_cost'].mean())/df_base['transit_cost'].std()\n",
    "df_base['driving_commute_cost_z_score'] = (df_base['driving_commute_cost'] - df_base['driving_commute_cost'].mean())/df_base['driving_commute_cost'].std()\n",
    "df_base['transit_access_z_score'] = (df_base['transit_access'] - df_base['transit_access'].mean())/df_base['transit_access'].std()\n",
    "df_base['nmt_share_z_score'] = (df_base['nmt_share'] - df_base['nmt_share'].mean())/df_base['nmt_share'].std()\n",
    "\n",
    "# Some factors are negative, convert (transit cost, commute cost are good as negative values,\n",
    "# but transit access and nmt share are good as positive)\n",
    "df_base['transit_cost_z_score'] = df_base['transit_cost_z_score']*-1\n",
    "df_base['driving_commute_cost_z_score'] = df_base['driving_commute_cost_z_score']*-1\n",
    "\n",
    "# calculate opportunity index as unweighted average of all z scores\n",
    "df_base['opportunity_index'] = df_base[['transit_cost_z_score','driving_commute_cost_z_score',\n",
    "                             'transit_access_z_score','nmt_share_z_score']].mean(axis=1)\n",
    "\n",
    "# \n",
    "df_scen['transit_cost_z_score'] = (df_scen['transit_cost'] - df_base['transit_cost'].mean())/df_base['transit_cost'].std()\n",
    "df_scen['driving_commute_cost_z_score'] = (df_scen['driving_commute_cost'] - df_base['driving_commute_cost'].mean())/df_base['driving_commute_cost'].std()\n",
    "df_scen['transit_access_z_score'] = (df_scen['transit_access'] - df_base['transit_access'].mean())/df_base['transit_access'].std()\n",
    "df_scen['nmt_share_z_score'] = (df_scen['nmt_share'] - df_base['nmt_share'].mean())/df_base['nmt_share'].std()\n",
    "\n",
    "# Some factors are negative, convert (transit cost, commute cost are good as negative values,\n",
    "# but transit access and nmt share are good as positive)\n",
    "df_scen['transit_cost_z_score'] = df_scen['transit_cost_z_score']*-1\n",
    "df_scen['driving_commute_cost_z_score'] = df_scen['driving_commute_cost_z_score']*-1\n",
    "\n",
    "# calculate opportunity index as unweighted average of all z scores\n",
    "df_scen['opportunity_index'] = df_scen[['transit_cost_z_score','driving_commute_cost_z_score',\n",
    "                             'transit_access_z_score','nmt_share_z_score']].mean(axis=1)"
   ]
  },
  {
   "cell_type": "code",
   "execution_count": 91,
   "metadata": {
    "collapsed": true
   },
   "outputs": [],
   "source": [
    "# Cut the base data in quintiles\n",
    "df_base['opportunity_index_group'] = pd.qcut(df_base['opportunity_index'],5,labels=['lowest','low','moderate','high','highest'])\n",
    "bins = pd.qcut(df_base['opportunity_index'],5,retbins=True)[1]\n",
    "\n",
    "# Use these bins to slice the scenario results\n",
    "df_scen['opportunity_index_group'] = pd.cut(x=df_scen['opportunity_index'],bins=bins,labels=['lowest','low','moderate','high','highest'])\n",
    "# df_scen['opportunity_index_group'] = pd.cut(df_scen['opportunity_index'],5,labels=['lowest','low','moderate','high','highest'])"
   ]
  },
  {
   "cell_type": "code",
   "execution_count": 73,
   "metadata": {},
   "outputs": [],
   "source": [
    "# Write to file\n",
    "df = df_scen.append(df_base)\n",
    "df.to_csv(output_path, index=False)"
   ]
  },
  {
   "cell_type": "code",
   "execution_count": 98,
   "metadata": {},
   "outputs": [],
   "source": [
    "# Show a difference map\n",
    "compare_dir = r'J:\\Projects\\Soundcast\\opportunity_index\\opportunity_index_taz_compare.txt'\n",
    "df = pd.merge(df_base,df_scen,on='taz',suffixes=['_2014','_2040'])\n",
    "df['taz'] = df['taz'].fillna(0).astype('int').astype('str')\n",
    "df.to_csv(compare_dir)"
   ]
  },
  {
   "cell_type": "code",
   "execution_count": 97,
   "metadata": {},
   "outputs": [
    {
     "data": {
      "text/plain": [
       "0         1\n",
       "1         2\n",
       "2         3\n",
       "3         4\n",
       "4         5\n",
       "5         6\n",
       "6         7\n",
       "7         8\n",
       "8         9\n",
       "9        10\n",
       "10       11\n",
       "11       12\n",
       "12       13\n",
       "13       14\n",
       "14       15\n",
       "15       16\n",
       "16       17\n",
       "17       18\n",
       "18       19\n",
       "19       20\n",
       "20       21\n",
       "21       22\n",
       "22       23\n",
       "23       24\n",
       "24       25\n",
       "25       26\n",
       "26       27\n",
       "27       28\n",
       "28       29\n",
       "29       30\n",
       "         ..\n",
       "62815     0\n",
       "62816     0\n",
       "62817     0\n",
       "62818     0\n",
       "62819     0\n",
       "62820     0\n",
       "62821     0\n",
       "62822     0\n",
       "62823     0\n",
       "62824     0\n",
       "62825     0\n",
       "62826     0\n",
       "62827     0\n",
       "62828     0\n",
       "62829     0\n",
       "62830     0\n",
       "62831     0\n",
       "62832     0\n",
       "62833     0\n",
       "62834     0\n",
       "62835     0\n",
       "62836     0\n",
       "62837     0\n",
       "62838     0\n",
       "62839     0\n",
       "62840     0\n",
       "62841     0\n",
       "62842     0\n",
       "62843     0\n",
       "62844     0\n",
       "Name: taz, dtype: object"
      ]
     },
     "execution_count": 97,
     "metadata": {},
     "output_type": "execute_result"
    }
   ],
   "source": []
  },
  {
   "cell_type": "code",
   "execution_count": 33,
   "metadata": {},
   "outputs": [
    {
     "data": {
      "text/plain": [
       "1.8298546328148307e-15"
      ]
     },
     "execution_count": 33,
     "metadata": {},
     "output_type": "execute_result"
    }
   ],
   "source": [
    "df_base['transit_access_z_score'].mean()"
   ]
  },
  {
   "cell_type": "code",
   "execution_count": 34,
   "metadata": {},
   "outputs": [
    {
     "data": {
      "text/plain": [
       "0.06683609549617174"
      ]
     },
     "execution_count": 34,
     "metadata": {},
     "output_type": "execute_result"
    }
   ],
   "source": [
    "df_scen['transit_access_z_score'].mean()"
   ]
  },
  {
   "cell_type": "code",
   "execution_count": 35,
   "metadata": {},
   "outputs": [
    {
     "data": {
      "text/plain": [
       "0.6276665577660727"
      ]
     },
     "execution_count": 35,
     "metadata": {},
     "output_type": "execute_result"
    }
   ],
   "source": [
    "df_base.transit_access.mean()"
   ]
  },
  {
   "cell_type": "code",
   "execution_count": 36,
   "metadata": {},
   "outputs": [
    {
     "data": {
      "text/plain": [
       "0.6524064927220737"
      ]
     },
     "execution_count": 36,
     "metadata": {},
     "output_type": "execute_result"
    }
   ],
   "source": [
    "df_scen.transit_access.mean()"
   ]
  },
  {
   "cell_type": "code",
   "execution_count": 42,
   "metadata": {},
   "outputs": [
    {
     "data": {
      "text/plain": [
       "2.5901478070332957"
      ]
     },
     "execution_count": 42,
     "metadata": {},
     "output_type": "execute_result"
    }
   ],
   "source": [
    "df_base.driving_commute_cost.mean()"
   ]
  },
  {
   "cell_type": "code",
   "execution_count": 43,
   "metadata": {},
   "outputs": [
    {
     "data": {
      "text/plain": [
       "2.5560056886498046"
      ]
     },
     "execution_count": 43,
     "metadata": {},
     "output_type": "execute_result"
    }
   ],
   "source": [
    "df_scen.driving_commute_cost.mean()"
   ]
  },
  {
   "cell_type": "code",
   "execution_count": 44,
   "metadata": {},
   "outputs": [
    {
     "data": {
      "text/plain": [
       "1.3962454711585979"
      ]
     },
     "execution_count": 44,
     "metadata": {},
     "output_type": "execute_result"
    }
   ],
   "source": [
    "df_base.transit_cost.mean()"
   ]
  },
  {
   "cell_type": "code",
   "execution_count": 45,
   "metadata": {},
   "outputs": [
    {
     "data": {
      "text/plain": [
       "1.4733573590086115"
      ]
     },
     "execution_count": 45,
     "metadata": {},
     "output_type": "execute_result"
    }
   ],
   "source": [
    "df_scen.transit_cost.mean()"
   ]
  }
 ],
 "metadata": {
  "kernelspec": {
   "display_name": "Python 2",
   "language": "python",
   "name": "python2"
  },
  "language_info": {
   "codemirror_mode": {
    "name": "ipython",
    "version": 2
   },
   "file_extension": ".py",
   "mimetype": "text/x-python",
   "name": "python",
   "nbconvert_exporter": "python",
   "pygments_lexer": "ipython2",
   "version": "2.7.13"
  }
 },
 "nbformat": 4,
 "nbformat_minor": 2
}
