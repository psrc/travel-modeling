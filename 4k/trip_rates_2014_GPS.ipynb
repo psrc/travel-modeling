{
 "cells": [
  {
   "cell_type": "code",
   "execution_count": 1,
   "metadata": {
    "collapsed": true
   },
   "outputs": [],
   "source": [
    "import pandas as pd\n",
    "import numpy as np"
   ]
  },
  {
   "cell_type": "code",
   "execution_count": 2,
   "metadata": {
    "collapsed": true
   },
   "outputs": [],
   "source": [
    "# Trip rate calculation using 2014 survey results\n",
    "# Household and person files from standard survey records\n",
    "# Trip files from GPS-weighted and Daysim-formatted records"
   ]
  },
  {
   "cell_type": "code",
   "execution_count": 3,
   "metadata": {
    "collapsed": true
   },
   "outputs": [],
   "source": [
    "# Load person and household records from standard survey records\n",
    "person = pd.read_excel(r'J:\\Projects\\Surveys\\HHTravel\\Survey2014\\Data\\Final database\\Release 4\\2014-pr3-M-hhsurvey-persons.xlsx',\n",
    "                  sheetname='Data1')\n",
    "hh = pd.read_excel(r'J:\\Projects\\Surveys\\HHTravel\\Survey2014\\Data\\Final database\\Release 4\\2014-pr3-M-hhsurvey-households.xlsx',\n",
    "                  sheetname='Data')"
   ]
  },
  {
   "cell_type": "code",
   "execution_count": 4,
   "metadata": {
    "collapsed": true
   },
   "outputs": [],
   "source": [
    "# GPS Weighted trips (in Daysim format)\n",
    "trip = pd.read_csv(r'survey-14-gps-weighted\\tripP14_w.dat', delim_whitespace=True)\n",
    "\n",
    "# Non GPS weighted\n",
    "# trip = pd.read_csv(r'R:\\SoundCast\\estimation\\2014\\Surveys\\2014 Survey\\P5\\tripP5.dat', delim_whitespace=True)"
   ]
  },
  {
   "cell_type": "code",
   "execution_count": 4,
   "metadata": {
    "collapsed": true
   },
   "outputs": [],
   "source": [
    "# Separate college student trips from regional survey trips\n",
    "college_trips = trip[trip['hhno'] < 14000000]\n",
    "trip = trip[trip['hhno'] >= 14000000]"
   ]
  },
  {
   "cell_type": "code",
   "execution_count": 9,
   "metadata": {},
   "outputs": [
    {
     "data": {
      "text/plain": [
       "3464535.644400008"
      ]
     },
     "execution_count": 9,
     "metadata": {},
     "output_type": "execute_result"
    }
   ],
   "source": [
    "person['expwt_final'].sum()"
   ]
  },
  {
   "cell_type": "code",
   "execution_count": 6,
   "metadata": {
    "collapsed": true
   },
   "outputs": [],
   "source": [
    "# Reclassify household columns for cross-classification\n",
    "\n",
    "# Number of Workers 0 -> 3+\n",
    "hh['numworkers_crossclass'] = hh['numworkers']\n",
    "hh.ix[hh['numworkers'] >= 3, 'numworkers_crossclass'] = '3+'\n",
    "hh['numworkers_crossclass'] = hh['numworkers_crossclass'].astype('str')\n",
    "\n",
    "# Household size\n",
    "hh['hhsize_crossclass'] = hh['hhsize']\n",
    "hh.ix[hh['hhsize'] >= 4, 'hhsize_crossclass'] = '4+'\n",
    "hh['hhsize_crossclass'] = hh['hhsize_crossclass'].astype('str')\n",
    "\n",
    "# Household income\n",
    "# Note that exact ranges from 2014 do not match 2006\n",
    "# old ranges: 30, 60, 90+\n",
    "# new ranges: 35, 75, 100+\n",
    "hh['income_crossclass'] = hh['hh_income_detailed_imp']\n",
    "hh.ix[hh['hh_income_detailed_imp'] <= 3, 'income_crossclass'] = '1'    # $35k  \n",
    "hh.ix[(hh['hh_income_detailed_imp'] > 3) & (hh['hh_income_detailed_imp'] <= 5),    # $35-75k\n",
    "           'income_crossclass'] = '2' \n",
    "hh.ix[(hh['hh_income_detailed_imp'] > 5) & (hh['hh_income_detailed_imp'] <= 6),    # $75-100k\n",
    "           'income_crossclass'] = '3' \n",
    "hh.ix[hh['hh_income_detailed_imp'] >= 7, 'income_crossclass'] = '4'    # >$100k\n",
    "\n",
    "# # Income bins\n",
    "# # Note that the income bins are provided as medians that don't actually match these values \n",
    "# # but do fall within the ranges as specified\n",
    "# hh.ix[hh['hhincome'] < 30000, 'hhincome'] = 1    # <$30\n",
    "# hh.ix[(hh['hhincome'] >= 30000) & (hh['hhincome'] < 60000), 'hhincome'] = 2    # $30,000 - $59,999\n",
    "# hh.ix[(hh['hhincome'] >= 60000) & (hh['hhincome'] < 90000), 'hhincome'] = 3    # $60,000 - $89,9999\n",
    "# hh.ix[hh['hhincome'] >= 90000, 'hhincome'] = 4    # >= $90,0000"
   ]
  },
  {
   "cell_type": "code",
   "execution_count": 7,
   "metadata": {
    "collapsed": true
   },
   "outputs": [],
   "source": [
    "# Reclassify trip purpose for 4k purposes\n",
    "# Use Daysim User's Guide for data dictionary for trip records\n",
    "\n",
    "# Home-Based Work (HBW) Trips, directly from home-to-work and work-to-home\n",
    "trip.ix[(trip['opurp'] == 0) & (trip['dpurp'] == 1), '4k_purp'] = 'HBW'\n",
    "trip.ix[(trip['opurp'] == 1) & (trip['dpurp'] == 0), '4k_purp'] = 'HBW'\n",
    "\n",
    "# Home-Based shopping\n",
    "trip.ix[(trip['opurp'] == 0) & (trip['dpurp'] == 5), '4k_purp'] = 'Home-Based Shopping'\n",
    "trip.ix[(trip['opurp'] == 5) & (trip['dpurp'] == 0), '4k_purp'] = 'Home-Based Shopping'\n",
    "\n",
    "# Home-Based Other\n",
    "trip.ix[(trip['opurp'] == 0) & (trip['dpurp'].isin([3,4,6,7,8,9,10])), '4k_purp'] = 'Home-Based Other'\n",
    "trip.ix[(trip['opurp'].isin([3,4,6,7,8,9,10]) & (trip['dpurp'] == 0)), '4k_purp'] = 'Home-Based Other'\n",
    "\n",
    "# NHB Work-to-Other\n",
    "trip.ix[(trip['opurp'] == 1) & (trip['dpurp'] != 0) & (trip['4k_purp'].isnull()), '4k_purp'] = 'NHB WtO'\n",
    "trip.ix[(trip['opurp'] != 0) & (trip['dpurp'] == 1) & (trip['4k_purp'].isnull()), '4k_purp'] = 'NHB WtO'\n",
    "\n",
    "# # NHB Other-to-Other (Destination and Origins are neither work nor home)\n",
    "trip.ix[(trip['opurp'] != 1) & (trip['dpurp'] != 0) & (trip['opurp'] != 0) \n",
    "        & (trip['dpurp'] != 1) & (trip['4k_purp'].isnull()), '4k_purp'] = 'NHB OtO'"
   ]
  },
  {
   "cell_type": "code",
   "execution_count": 8,
   "metadata": {
    "collapsed": true
   },
   "outputs": [],
   "source": [
    "# Merge HH record info to trip records to create cross-class tables\n",
    "trip_hh = pd.merge(trip, hh, left_on='hhno', right_on='hhid', how='left')\n",
    "\n",
    "# Total households by cross-classification group (hhsize, numworkers, and income)\n",
    "total_hh = hh.groupby(['hhsize_crossclass','numworkers_crossclass','income_crossclass']).sum()[['expwt_2']]\n",
    "\n",
    "total_hh.to_clipboard()"
   ]
  },
  {
   "cell_type": "code",
   "execution_count": 412,
   "metadata": {
    "collapsed": true
   },
   "outputs": [],
   "source": [
    "# Compare the number of households by income class (sample sizes)\n",
    "hh.groupby(['hhsize_crossclass','numworkers_crossclass','income_crossclass']).count()[['expwt_2']].to_clipboard()"
   ]
  },
  {
   "cell_type": "code",
   "execution_count": 534,
   "metadata": {
    "collapsed": true
   },
   "outputs": [],
   "source": [
    "# Trip rates for HBW trips\n",
    "purp = 'HBW'\n",
    "# trips_hbw = trip_hh[trip_hh['4k_purp'] == purp].groupby(['hhsize','hhwkrs','hhincome']).sum()[['trexpfac']]\n",
    "trips_hbw = trip_hh[trip_hh['4k_purp'] == purp].groupby(['hhsize_crossclass','numworkers_crossclass','income_crossclass']).sum()[['trexpfac']]\n",
    "\n",
    "df_hbw = pd.DataFrame(trips_hbw['trexpfac']/total_hh['expwt_2'])\n",
    "df_hbw.columns = ['trip_rates']\n",
    "\n",
    "trips_hbw.to_clipboard()"
   ]
  },
  {
   "cell_type": "code",
   "execution_count": 535,
   "metadata": {
    "collapsed": true
   },
   "outputs": [],
   "source": [
    "# Trip rates for HB Shopping\n",
    "purp = 'Home-Based Shopping'\n",
    "trips_hbs = trip_hh[trip_hh['4k_purp'] == purp].groupby(['hhsize_crossclass','numworkers_crossclass','income_crossclass']).sum()[['trexpfac']]\n",
    "\n",
    "df_hbs = pd.DataFrame(trips_hbs['trexpfac']/total_hh['expwt_2'])\n",
    "df_hbs.columns = ['trip_rates']"
   ]
  },
  {
   "cell_type": "code",
   "execution_count": 536,
   "metadata": {
    "collapsed": true
   },
   "outputs": [],
   "source": [
    "# Trip rates for HBO trips\n",
    "purp = 'Home-Based Other'\n",
    "trips_hbo = trip_hh[trip_hh['4k_purp'] == purp].groupby(['hhsize_crossclass','numworkers_crossclass','income_crossclass']).sum()[['trexpfac']]\n",
    "\n",
    "df_hbo = pd.DataFrame(trips_hbo['trexpfac']/total_hh['expwt_2'])\n",
    "df_hbo.columns = ['trip_rates']"
   ]
  },
  {
   "cell_type": "code",
   "execution_count": 537,
   "metadata": {
    "collapsed": true
   },
   "outputs": [],
   "source": [
    "trips_hbo.to_clipboard()"
   ]
  },
  {
   "cell_type": "code",
   "execution_count": 420,
   "metadata": {
    "collapsed": true
   },
   "outputs": [],
   "source": [
    "# Non Home-Based Trips\n",
    "# Work to Other (Other to Work)\n",
    "purp = 'NHB WtO'\n",
    "trips_nhb_wto = trip_hh[trip_hh['4k_purp'] == purp].groupby(['hhsize_crossclass','numworkers_crossclass','income_crossclass']).sum()[['trexpfac']]\n",
    "\n",
    "df_trips_nhb_wto = pd.DataFrame(trips_nhb_wto['trexpfac']/total_hh['expwt_2'])\n",
    "df_trips_nhb_wto.columns = ['trip_rates']\n",
    "\n",
    "trips_nhb_wto.to_clipboard()"
   ]
  },
  {
   "cell_type": "code",
   "execution_count": 421,
   "metadata": {
    "collapsed": true
   },
   "outputs": [],
   "source": [
    "# Non Home-Based Trips\n",
    "# Other to Other\n",
    "purp = 'NHB OtO'\n",
    "trips_nhb_oto = trip_hh[trip_hh['4k_purp'] == purp].groupby(['hhsize_crossclass','numworkers_crossclass','income_crossclass']).sum()[['trexpfac']]\n",
    "\n",
    "df_trips_nhb_oto = pd.DataFrame(trips_nhb_oto['trexpfac']/total_hh['expwt_2'])\n",
    "df_trips_nhb_oto.columns = ['trip_rates']\n",
    "\n",
    "trips_nhb_oto.to_clipboard()"
   ]
  },
  {
   "cell_type": "markdown",
   "metadata": {},
   "source": [
    "# Home Based School Trips"
   ]
  },
  {
   "cell_type": "code",
   "execution_count": 437,
   "metadata": {
    "collapsed": true
   },
   "outputs": [],
   "source": [
    "trip.ix[(trip['opurp'] == 0) & (trip['dpurp'] == 2), '4k_purp'] = 'School'\n",
    "trip.ix[(trip['opurp'] == 2) & (trip['dpurp'] == 0), '4k_purp'] = 'School'"
   ]
  },
  {
   "cell_type": "code",
   "execution_count": 438,
   "metadata": {},
   "outputs": [
    {
     "data": {
      "text/plain": [
       "1354571.3491578493"
      ]
     },
     "execution_count": 438,
     "metadata": {},
     "output_type": "execute_result"
    }
   ],
   "source": [
    "trip[trip['4k_purp'] == 'School'].sum()['trexpfac']"
   ]
  },
  {
   "cell_type": "code",
   "execution_count": 440,
   "metadata": {
    "collapsed": true
   },
   "outputs": [],
   "source": [
    "# Group by number of school aged people in house\n",
    "person['school_age'] = np.nan\n",
    "person.ix[person['age'].isin([2,3,4]), 'school_age'] = 'school_age'"
   ]
  },
  {
   "cell_type": "code",
   "execution_count": 441,
   "metadata": {
    "collapsed": true
   },
   "outputs": [],
   "source": [
    "school_age_df = pd.DataFrame(person.groupby(['hhid','school_age']).count()['expwt_final'])\n",
    "school_age_df.columns = ['school_age_people']\n",
    "school_age_df = school_age_df.reset_index()\n",
    "\n",
    "# Replace the <3 with 3+\n",
    "school_age_df.ix[school_age_df['school_age_people'] >= 3, 'school_age_people'] = 3\n",
    "\n",
    "# Join to household file\n",
    "hh_school = pd.merge(hh, school_age_df, on='hhid', how='left')\n",
    "\n",
    "# Mark households with zero children that were on left side of merge (no corresponding records from school_age_df)\n",
    "hh_school.ix[hh_school.school_age_people.isnull(), 'school_age_people'] = 0\n",
    "\n",
    "# Group total households by income and number of school age people\n",
    "hh_school_tot = hh_school.groupby(['school_age_people','income_crossclass']).sum()[['expwt_2']]\n",
    "\n",
    "hh_school_tot.to_clipboard()"
   ]
  },
  {
   "cell_type": "code",
   "execution_count": 443,
   "metadata": {
    "collapsed": true
   },
   "outputs": [],
   "source": [
    "# Join household categories to trip records to create cross-class totals\n",
    "trip_hh = pd.merge(trip, hh_school, left_on='hhno', right_on='hhid', how='left')\n",
    "\n",
    "# home-based school trips\n",
    "hbs_tot = trip_hh[trip_hh['4k_purp']=='School'].groupby(['school_age_people','income_crossclass']).sum()[['trexpfac']]\n",
    "\n",
    "hbs_tot.to_clipboard()\n"
   ]
  },
  {
   "cell_type": "markdown",
   "metadata": {},
   "source": [
    "# College Trips"
   ]
  },
  {
   "cell_type": "markdown",
   "metadata": {},
   "source": [
    "### Using standard trip dataset"
   ]
  },
  {
   "cell_type": "code",
   "execution_count": 590,
   "metadata": {
    "collapsed": true
   },
   "outputs": [],
   "source": [
    "# All trips from home to college (or college to home\n",
    "# Using the regular households for this, not college trips\n",
    "# because we have no household information for college survey respondents\n",
    "\n",
    "# Group by number of school aged people in house\n",
    "person['college_age'] = np.nan\n",
    "person.ix[person['age'] == 5, 'college_age'] = 'college_age'\n",
    "\n",
    "college_age_df = pd.DataFrame(person.groupby(['hhid','college_age']).count()['expwt_final'])\n",
    "college_age_df.columns = ['college_age_people']\n",
    "college_age_df = college_age_df.reset_index()\n",
    "\n",
    "college_age_df.groupby('college_age_people').sum()\n",
    "\n",
    "# Replace the <3 with 3+\n",
    "college_age_df.ix[college_age_df['college_age_people'] >= 2, 'college_age_people'] = 2\n",
    "\n",
    "# Join to household file\n",
    "hh_college = pd.merge(hh, college_age_df, on='hhid', how='left')\n",
    "\n",
    "# Mark households with zero college-age students that were on left side of merge\n",
    "hh_college.ix[hh_college.college_age_people.isnull(), 'college_age_people'] = 0\n",
    "\n",
    "# Group total households by income and number of school age people\n",
    "hh_college_tot = hh_college.groupby(['college_age_people','income_crossclass']).sum()[['expwt_2']]\n",
    "\n",
    "hh_college_tot.to_clipboard()"
   ]
  },
  {
   "cell_type": "code",
   "execution_count": 580,
   "metadata": {
    "collapsed": true
   },
   "outputs": [],
   "source": [
    "# Join household categories to trip records to create cross-class totals\n",
    "trip_hh = pd.merge(trip, hh_college, left_on='hhno', right_on='hhid', how='left')\n",
    "\n",
    "# trip_hh.college_age"
   ]
  },
  {
   "cell_type": "code",
   "execution_count": 589,
   "metadata": {
    "collapsed": true
   },
   "outputs": [],
   "source": [
    "# Join household categories to trip records to create cross-class totals\n",
    "trip_hh = pd.merge(trip, hh_college, left_on='hhno', right_on='hhid', how='left')\n",
    "\n",
    "# Create field to signify college trip\n",
    "# Join person fiels to trip to get age and mark as college trip for school trips\n",
    "trip_hh = pd.merge(trip_hh, person[['hhid','pernum','age']], \n",
    "                   left_on=['hhno','pno'], right_on=['hhid','pernum'], how='left')\n",
    "\n",
    "# From 4k docs, this is confusing\n",
    "# 'College trips are made up of home-based college trips and student trips made from\n",
    "# dormitories, represented by trips from group quarters. Since the college trip purpose is not\n",
    "# exclusively comprised of home-based trips, we have identified this trip purpose as “college”\n",
    "# instead of “home-based college.” '\n",
    "\n",
    "# Think that means we only want trips that end at a school location, for people 18-24?\n",
    "trip_hh.ix[(trip_hh['dpurp'] == 2) & (trip_hh['college_age'] == 'college_age'), 'college'] = 'college'\n",
    "# trip_hh.ix[(trip_hh['opurp'] == 2) & (trip_hh['college_age'] == 'college_age'), 'college'] = 'college'\n",
    "\n",
    "# home-based college trips\n",
    "hbc_tot = trip_hh[trip_hh['college']== 'college'].groupby(['income_crossclass','college_age_people']).sum()[['trexpfac']]\n",
    "\n",
    "hbc_tot.to_clipboard()\n"
   ]
  },
  {
   "cell_type": "code",
   "execution_count": 583,
   "metadata": {},
   "outputs": [
    {
     "data": {
      "text/html": [
       "<div>\n",
       "<style>\n",
       "    .dataframe thead tr:only-child th {\n",
       "        text-align: right;\n",
       "    }\n",
       "\n",
       "    .dataframe thead th {\n",
       "        text-align: left;\n",
       "    }\n",
       "\n",
       "    .dataframe tbody tr th {\n",
       "        vertical-align: top;\n",
       "    }\n",
       "</style>\n",
       "<table border=\"1\" class=\"dataframe\">\n",
       "  <thead>\n",
       "    <tr style=\"text-align: right;\">\n",
       "      <th></th>\n",
       "      <th></th>\n",
       "      <th>trexpfac</th>\n",
       "    </tr>\n",
       "    <tr>\n",
       "      <th>college_age_people</th>\n",
       "      <th>income_crossclass</th>\n",
       "      <th></th>\n",
       "    </tr>\n",
       "  </thead>\n",
       "  <tbody>\n",
       "    <tr>\n",
       "      <th rowspan=\"4\" valign=\"top\">1.0</th>\n",
       "      <th>1</th>\n",
       "      <td>1404.180408</td>\n",
       "    </tr>\n",
       "    <tr>\n",
       "      <th>2</th>\n",
       "      <td>917.598345</td>\n",
       "    </tr>\n",
       "    <tr>\n",
       "      <th>3</th>\n",
       "      <td>872.006780</td>\n",
       "    </tr>\n",
       "    <tr>\n",
       "      <th>4</th>\n",
       "      <td>8160.209030</td>\n",
       "    </tr>\n",
       "    <tr>\n",
       "      <th rowspan=\"2\" valign=\"top\">2.0</th>\n",
       "      <th>1</th>\n",
       "      <td>138.999753</td>\n",
       "    </tr>\n",
       "    <tr>\n",
       "      <th>2</th>\n",
       "      <td>300.564697</td>\n",
       "    </tr>\n",
       "  </tbody>\n",
       "</table>\n",
       "</div>"
      ],
      "text/plain": [
       "                                         trexpfac\n",
       "college_age_people income_crossclass             \n",
       "1.0                1                  1404.180408\n",
       "                   2                   917.598345\n",
       "                   3                   872.006780\n",
       "                   4                  8160.209030\n",
       "2.0                1                   138.999753\n",
       "                   2                   300.564697"
      ]
     },
     "execution_count": 583,
     "metadata": {},
     "output_type": "execute_result"
    }
   ],
   "source": [
    "hbc_tot"
   ]
  },
  {
   "cell_type": "code",
   "execution_count": 555,
   "metadata": {},
   "outputs": [
    {
     "data": {
      "text/plain": [
       "array([ 4272870.21243122])"
      ]
     },
     "execution_count": 555,
     "metadata": {},
     "output_type": "execute_result"
    }
   ],
   "source": [
    "hbc_tot.sum().values"
   ]
  },
  {
   "cell_type": "markdown",
   "metadata": {},
   "source": [
    "### Using college trips and person records only"
   ]
  },
  {
   "cell_type": "code",
   "execution_count": 549,
   "metadata": {
    "collapsed": true
   },
   "outputs": [],
   "source": [
    "# college person data\n",
    "# college_person = pd.read_excel(r'J:\\Projects\\Surveys\\HHTravel\\Survey2014\\Data\\College database\\1_PSRC_College_PersonDataset_2015-1-23_V1-3.xlsx',\n",
    "#                               sheetname='PersonData')"
   ]
  },
  {
   "cell_type": "code",
   "execution_count": null,
   "metadata": {
    "collapsed": true
   },
   "outputs": [],
   "source": []
  },
  {
   "cell_type": "markdown",
   "metadata": {},
   "source": [
    "# PUMS household totals\n",
    "For comparison\n"
   ]
  },
  {
   "cell_type": "code",
   "execution_count": null,
   "metadata": {
    "collapsed": true
   },
   "outputs": [],
   "source": [
    "# Load PUMS data to see if cross classification proportions match up\n",
    "df = pd.read_csv(r'R:\\4K\\Code\\TripGen\\Inputs\\TripGeneration\\2010\\pums\\pumshhxc_income-size-workers.in',\n",
    "                 delim_whitespace=True, skiprows=5)\n",
    "df = df.reset_index()\n",
    "df.columns = ['puma','column','households']\n",
    "df['column'] = df['column'].astype('str').apply(lambda row: row.split(':')[0]).astype('int')\n",
    "\n",
    "_df = df.groupby('column').sum()[['households']]\n",
    "_df.to_clipboard()"
   ]
  },
  {
   "cell_type": "code",
   "execution_count": null,
   "metadata": {
    "collapsed": true
   },
   "outputs": [],
   "source": [
    "# Load PUMS data to see if cross classification proportions match up\n",
    "df = pd.read_csv(r'R:\\4K\\Code\\TripGen\\Inputs\\TripGeneration\\2010\\pums\\pumshhxc_income-k12students.in',\n",
    "                 delim_whitespace=True, skiprows=5)\n",
    "df = df.reset_index()\n",
    "df.columns = ['puma','column','households']\n",
    "df['column'] = df['column'].astype('str').apply(lambda row: row.split(':')[0]).astype('int')\n",
    "\n",
    "_df = df.groupby('column').sum()[['households']]\n",
    "_df.to_clipboard()"
   ]
  },
  {
   "cell_type": "markdown",
   "metadata": {},
   "source": [
    "# Export to Emme Input"
   ]
  },
  {
   "cell_type": "code",
   "execution_count": null,
   "metadata": {
    "collapsed": true
   },
   "outputs": [],
   "source": []
  }
 ],
 "metadata": {
  "kernelspec": {
   "display_name": "Python 2",
   "language": "python",
   "name": "python2"
  },
  "language_info": {
   "codemirror_mode": {
    "name": "ipython",
    "version": 2
   },
   "file_extension": ".py",
   "mimetype": "text/x-python",
   "name": "python",
   "nbconvert_exporter": "python",
   "pygments_lexer": "ipython2",
   "version": "2.7.14"
  }
 },
 "nbformat": 4,
 "nbformat_minor": 2
}
