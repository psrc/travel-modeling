{
 "cells": [
  {
   "cell_type": "code",
   "execution_count": 1,
   "metadata": {
    "collapsed": true
   },
   "outputs": [],
   "source": [
    "import pandas as pd\n",
    "import numpy as np"
   ]
  },
  {
   "cell_type": "code",
   "execution_count": 2,
   "metadata": {
    "collapsed": true
   },
   "outputs": [],
   "source": [
    "# Trip rate calculation using 2014 survey results\n",
    "# Household and person files from standard survey records\n",
    "# Trip files from GPS-weighted and Daysim-formatted records"
   ]
  },
  {
   "cell_type": "code",
   "execution_count": 3,
   "metadata": {
    "collapsed": true
   },
   "outputs": [],
   "source": [
    "# Load person and household records from standard survey records\n",
    "person = pd.read_excel(r'J:\\Projects\\Surveys\\HHTravel\\Survey2014\\Data\\Final database\\Release 4\\2014-pr3-M-hhsurvey-persons.xlsx',\n",
    "                  sheetname='Data1')\n",
    "hh = pd.read_excel(r'J:\\Projects\\Surveys\\HHTravel\\Survey2014\\Data\\Final database\\Release 4\\2014-pr3-M-hhsurvey-households.xlsx',\n",
    "                  sheetname='Data')"
   ]
  },
  {
   "cell_type": "code",
   "execution_count": 4,
   "metadata": {
    "collapsed": true
   },
   "outputs": [],
   "source": [
    "# GPS Weighted trips (in Daysim format)\n",
    "trip = pd.read_csv(r'R:\\SoundCastDocuments\\2014Estimation\\Files_From_Mark_2014\\gps_weights_11_3_16\\formatted\\skims_attached\\tripP14_w.dat')\n",
    "\n",
    "# Non GPS weighted\n",
    "# trip = pd.read_csv(r'R:\\SoundCast\\estimation\\2014\\Surveys\\2014 Survey\\P5\\tripP5.dat', delim_whitespace=True)"
   ]
  },
  {
   "cell_type": "code",
   "execution_count": 5,
   "metadata": {
    "collapsed": true
   },
   "outputs": [],
   "source": [
    "# Separate college student trips from regional survey trips\n",
    "college_trips = trip[trip['hhno'] < 14000000]\n",
    "trip = trip[trip['hhno'] >= 14000000]"
   ]
  },
  {
   "cell_type": "code",
   "execution_count": 6,
   "metadata": {},
   "outputs": [
    {
     "data": {
      "text/plain": [
       "3464535.644400008"
      ]
     },
     "execution_count": 6,
     "metadata": {},
     "output_type": "execute_result"
    }
   ],
   "source": [
    "person['expwt_final'].sum()"
   ]
  },
  {
   "cell_type": "code",
   "execution_count": 7,
   "metadata": {},
   "outputs": [
    {
     "data": {
      "text/plain": [
       "46080"
      ]
     },
     "execution_count": 7,
     "metadata": {},
     "output_type": "execute_result"
    }
   ],
   "source": [
    "len(trip)"
   ]
  },
  {
   "cell_type": "code",
   "execution_count": 8,
   "metadata": {
    "collapsed": true
   },
   "outputs": [],
   "source": [
    "# Reclassify household columns for cross-classification\n",
    "\n",
    "# Number of Workers 0 -> 3+\n",
    "hh['numworkers_crossclass'] = hh['numworkers']\n",
    "hh.ix[hh['numworkers'] >= 3, 'numworkers_crossclass'] = '3+'\n",
    "hh['numworkers_crossclass'] = hh['numworkers_crossclass'].astype('str')\n",
    "\n",
    "# Household size\n",
    "hh['hhsize_crossclass'] = hh['hhsize']\n",
    "hh.ix[hh['hhsize'] >= 4, 'hhsize_crossclass'] = '4+'\n",
    "hh['hhsize_crossclass'] = hh['hhsize_crossclass'].astype('str')\n",
    "\n",
    "# Household income\n",
    "# Note that exact ranges from 2014 do not match 2006\n",
    "# old ranges: 30, 60, 90+\n",
    "# new ranges: 35, 75, 100+\n",
    "hh['income_crossclass'] = hh['hh_income_detailed_imp']\n",
    "hh.ix[hh['hh_income_detailed_imp'] <= 3, 'income_crossclass'] = '1'    # $35k  \n",
    "hh.ix[(hh['hh_income_detailed_imp'] > 3) & (hh['hh_income_detailed_imp'] <= 5),    # $35-75k\n",
    "           'income_crossclass'] = '2' \n",
    "hh.ix[(hh['hh_income_detailed_imp'] > 5) & (hh['hh_income_detailed_imp'] <= 6),    # $75-100k\n",
    "           'income_crossclass'] = '3' \n",
    "hh.ix[hh['hh_income_detailed_imp'] >= 7, 'income_crossclass'] = '4'    # >$100k\n",
    "\n",
    "# # Income bins\n",
    "# # Note that the income bins are provided as medians that don't actually match these values \n",
    "# # but do fall within the ranges as specified\n",
    "# hh.ix[hh['hhincome'] < 30000, 'hhincome'] = 1    # <$30\n",
    "# hh.ix[(hh['hhincome'] >= 30000) & (hh['hhincome'] < 60000), 'hhincome'] = 2    # $30,000 - $59,999\n",
    "# hh.ix[(hh['hhincome'] >= 60000) & (hh['hhincome'] < 90000), 'hhincome'] = 3    # $60,000 - $89,9999\n",
    "# hh.ix[hh['hhincome'] >= 90000, 'hhincome'] = 4    # >= $90,0000"
   ]
  },
  {
   "cell_type": "code",
   "execution_count": 9,
   "metadata": {
    "collapsed": true
   },
   "outputs": [],
   "source": [
    "# Reclassify trip purpose for 4k purposes\n",
    "# Use Daysim User's Guide for data dictionary for trip records\n",
    "\n",
    "# Home-Based Work (HBW) Trips, directly from home-to-work and work-to-home\n",
    "trip.ix[(trip['opurp'] == 0) & (trip['dpurp'] == 1), '4k_purp'] = 'HBW'\n",
    "trip.ix[(trip['opurp'] == 1) & (trip['dpurp'] == 0), '4k_purp'] = 'HBW'\n",
    "\n",
    "# Home-Based shopping\n",
    "trip.ix[(trip['opurp'] == 0) & (trip['dpurp'] == 5), '4k_purp'] = 'Home-Based Shopping'\n",
    "trip.ix[(trip['opurp'] == 5) & (trip['dpurp'] == 0), '4k_purp'] = 'Home-Based Shopping'\n",
    "\n",
    "# Home-Based Other\n",
    "trip.ix[(trip['opurp'] == 0) & (trip['dpurp'].isin([3,4,6,7,8,9,10])), '4k_purp'] = 'Home-Based Other'\n",
    "trip.ix[(trip['opurp'].isin([3,4,6,7,8,9,10]) & (trip['dpurp'] == 0)), '4k_purp'] = 'Home-Based Other'\n",
    "\n",
    "# NHB Work-to-Other\n",
    "trip.ix[(trip['opurp'] == 1) & (trip['dpurp'] != 0) & (trip['4k_purp'].isnull()), '4k_purp'] = 'NHB WtO'\n",
    "trip.ix[(trip['opurp'] != 0) & (trip['dpurp'] == 1) & (trip['4k_purp'].isnull()), '4k_purp'] = 'NHB WtO'\n",
    "\n",
    "# # NHB Other-to-Other (Destination and Origins are neither work nor home)\n",
    "trip.ix[(trip['opurp'] != 1) & (trip['dpurp'] != 0) & (trip['opurp'] != 0) \n",
    "        & (trip['dpurp'] != 1) & (trip['4k_purp'].isnull()), '4k_purp'] = 'NHB OtO'"
   ]
  },
  {
   "cell_type": "code",
   "execution_count": 10,
   "metadata": {
    "collapsed": true
   },
   "outputs": [],
   "source": [
    "# Export this file with recoded trip purpose\n",
    "trip.to_csv(r'C:\\Users\\Brice\\travel-modeling\\4k\\trips_with_4k_purp.csv', index=False)"
   ]
  },
  {
   "cell_type": "code",
   "execution_count": 11,
   "metadata": {
    "collapsed": true
   },
   "outputs": [],
   "source": [
    "# Merge HH record info to trip records to create cross-class tables\n",
    "trip_hh = pd.merge(trip, hh, left_on='hhno', right_on='hhid', how='left')\n",
    "\n",
    "# Total households by cross-classification group (hhsize, numworkers, and income)\n",
    "total_hh = hh.groupby(['hhsize_crossclass','numworkers_crossclass','income_crossclass']).sum()[['expwt_2']]\n",
    "\n",
    "total_hh.to_clipboard()"
   ]
  },
  {
   "cell_type": "code",
   "execution_count": 12,
   "metadata": {
    "collapsed": true
   },
   "outputs": [],
   "source": [
    "# Compare the number of households by income class (sample sizes)\n",
    "hh.groupby(['hhsize_crossclass','numworkers_crossclass','income_crossclass']).count()[['expwt_2']].to_clipboard()"
   ]
  },
  {
   "cell_type": "code",
   "execution_count": 13,
   "metadata": {
    "collapsed": true
   },
   "outputs": [],
   "source": [
    "# Trip rates for HBW trips\n",
    "purp = 'HBW'\n",
    "# trips_hbw = trip_hh[trip_hh['4k_purp'] == purp].groupby(['hhsize','hhwkrs','hhincome']).sum()[['trexpfac']]\n",
    "trips_hbw = trip_hh[trip_hh['4k_purp'] == purp].groupby(['hhsize_crossclass','numworkers_crossclass','income_crossclass']).sum()[['trexpfac']]\n",
    "\n",
    "df_hbw = pd.DataFrame(trips_hbw['trexpfac']/total_hh['expwt_2'])\n",
    "df_hbw.columns = ['trip_rates']\n",
    "\n",
    "trips_hbw.to_clipboard()"
   ]
  },
  {
   "cell_type": "code",
   "execution_count": 14,
   "metadata": {
    "collapsed": true
   },
   "outputs": [],
   "source": [
    "# Trip rates for HB Shopping\n",
    "purp = 'Home-Based Shopping'\n",
    "trips_hbs = trip_hh[trip_hh['4k_purp'] == purp].groupby(['hhsize_crossclass','numworkers_crossclass','income_crossclass']).sum()[['trexpfac']]\n",
    "\n",
    "df_hbs = pd.DataFrame(trips_hbs['trexpfac']/total_hh['expwt_2'])\n",
    "df_hbs.columns = ['trip_rates']"
   ]
  },
  {
   "cell_type": "code",
   "execution_count": 15,
   "metadata": {
    "collapsed": true
   },
   "outputs": [],
   "source": [
    "# Trip rates for HBO trips\n",
    "purp = 'Home-Based Other'\n",
    "trips_hbo = trip_hh[trip_hh['4k_purp'] == purp].groupby(['hhsize_crossclass','numworkers_crossclass','income_crossclass']).sum()[['trexpfac']]\n",
    "\n",
    "df_hbo = pd.DataFrame(trips_hbo['trexpfac']/total_hh['expwt_2'])\n",
    "df_hbo.columns = ['trip_rates']"
   ]
  },
  {
   "cell_type": "code",
   "execution_count": 16,
   "metadata": {
    "collapsed": true
   },
   "outputs": [],
   "source": [
    "trips_hbo.to_clipboard()"
   ]
  },
  {
   "cell_type": "code",
   "execution_count": 17,
   "metadata": {
    "collapsed": true
   },
   "outputs": [],
   "source": [
    "# Non Home-Based Trips\n",
    "# Work to Other (Other to Work)\n",
    "purp = 'NHB WtO'\n",
    "trips_nhb_wto = trip_hh[trip_hh['4k_purp'] == purp].groupby(['hhsize_crossclass','numworkers_crossclass','income_crossclass']).sum()[['trexpfac']]\n",
    "\n",
    "df_trips_nhb_wto = pd.DataFrame(trips_nhb_wto['trexpfac']/total_hh['expwt_2'])\n",
    "df_trips_nhb_wto.columns = ['trip_rates']\n",
    "\n",
    "trips_nhb_wto.to_clipboard()"
   ]
  },
  {
   "cell_type": "code",
   "execution_count": 18,
   "metadata": {
    "collapsed": true
   },
   "outputs": [],
   "source": [
    "# Non Home-Based Trips\n",
    "# Other to Other\n",
    "purp = 'NHB OtO'\n",
    "trips_nhb_oto = trip_hh[trip_hh['4k_purp'] == purp].groupby(['hhsize_crossclass','numworkers_crossclass','income_crossclass']).sum()[['trexpfac']]\n",
    "\n",
    "df_trips_nhb_oto = pd.DataFrame(trips_nhb_oto['trexpfac']/total_hh['expwt_2'])\n",
    "df_trips_nhb_oto.columns = ['trip_rates']\n",
    "\n",
    "trips_nhb_oto.to_clipboard()"
   ]
  },
  {
   "cell_type": "markdown",
   "metadata": {},
   "source": [
    "# Mode share by trip purpose"
   ]
  },
  {
   "cell_type": "code",
   "execution_count": 19,
   "metadata": {
    "collapsed": true
   },
   "outputs": [],
   "source": [
    "trip_hh.groupby(['dpurp','mode']).sum()['trexpfac'].to_clipboard()"
   ]
  },
  {
   "cell_type": "markdown",
   "metadata": {},
   "source": [
    "# Home Based School Trips"
   ]
  },
  {
   "cell_type": "code",
   "execution_count": 20,
   "metadata": {
    "collapsed": true
   },
   "outputs": [],
   "source": [
    "trip.ix[(trip['opurp'] == 0) & (trip['dpurp'] == 2), '4k_purp'] = 'School'\n",
    "trip.ix[(trip['opurp'] == 2) & (trip['dpurp'] == 0), '4k_purp'] = 'School'"
   ]
  },
  {
   "cell_type": "code",
   "execution_count": 21,
   "metadata": {},
   "outputs": [
    {
     "data": {
      "text/plain": [
       "1319347.4754079129"
      ]
     },
     "execution_count": 21,
     "metadata": {},
     "output_type": "execute_result"
    }
   ],
   "source": [
    "trip[trip['4k_purp'] == 'School'].sum()['trexpfac']"
   ]
  },
  {
   "cell_type": "code",
   "execution_count": 22,
   "metadata": {
    "collapsed": true
   },
   "outputs": [],
   "source": [
    "# Group by number of school aged people in house\n",
    "person['school_age'] = np.nan\n",
    "person.ix[person['age'].isin([2,3,4]), 'school_age'] = 'school_age'"
   ]
  },
  {
   "cell_type": "code",
   "execution_count": 26,
   "metadata": {
    "collapsed": true
   },
   "outputs": [],
   "source": [
    "school_age_df = pd.DataFrame(person.groupby(['hhid','school_age']).count()['expwt_final'])\n",
    "school_age_df.columns = ['school_age_people']\n",
    "school_age_df = school_age_df.reset_index()\n",
    "\n",
    "# Replace the <3 with 3+\n",
    "school_age_df.ix[school_age_df['school_age_people'] >= 3, 'school_age_people'] = 3\n",
    "\n",
    "# Join to household file\n",
    "hh_school = pd.merge(hh, school_age_df, on='hhid', how='left')\n",
    "\n",
    "# Mark households with zero children that were on left side of merge (no corresponding records from school_age_df)\n",
    "hh_school.ix[hh_school.school_age_people.isnull(), 'school_age_people'] = 0\n",
    "\n",
    "# Group total households by income and number of school age people\n",
    "hh_school_tot = hh_school.groupby(['school_age_people','income_crossclass']).sum()[['expwt_2']]\n",
    "\n",
    "hh_school_tot.to_clipboard()"
   ]
  },
  {
   "cell_type": "code",
   "execution_count": 25,
   "metadata": {
    "collapsed": true
   },
   "outputs": [],
   "source": [
    "# Join household categories to trip records to create cross-class totals\n",
    "trip_hh = pd.merge(trip, hh_school, left_on='hhno', right_on='hhid', how='left')\n",
    "\n",
    "# home-based school trips\n",
    "hbs_tot = trip_hh[trip_hh['4k_purp']=='School'].groupby(['school_age_people','income_crossclass']).sum()[['trexpfac']]\n",
    "\n",
    "hbs_tot.to_clipboard()\n"
   ]
  },
  {
   "cell_type": "markdown",
   "metadata": {},
   "source": [
    "# College Trips"
   ]
  },
  {
   "cell_type": "markdown",
   "metadata": {},
   "source": [
    "### Using standard trip dataset"
   ]
  },
  {
   "cell_type": "code",
   "execution_count": 590,
   "metadata": {
    "collapsed": true
   },
   "outputs": [],
   "source": [
    "# All trips from home to college (or college to home\n",
    "# Using the regular households for this, not college trips\n",
    "# because we have no household information for college survey respondents\n",
    "\n",
    "# Group by number of school aged people in house\n",
    "person['college_age'] = np.nan\n",
    "person.ix[person['age'] == 5, 'college_age'] = 'college_age'\n",
    "\n",
    "college_age_df = pd.DataFrame(person.groupby(['hhid','college_age']).count()['expwt_final'])\n",
    "college_age_df.columns = ['college_age_people']\n",
    "college_age_df = college_age_df.reset_index()\n",
    "\n",
    "college_age_df.groupby('college_age_people').sum()\n",
    "\n",
    "# Replace the <3 with 3+\n",
    "college_age_df.ix[college_age_df['college_age_people'] >= 2, 'college_age_people'] = 2\n",
    "\n",
    "# Join to household file\n",
    "hh_college = pd.merge(hh, college_age_df, on='hhid', how='left')\n",
    "\n",
    "# Mark households with zero college-age students that were on left side of merge\n",
    "hh_college.ix[hh_college.college_age_people.isnull(), 'college_age_people'] = 0\n",
    "\n",
    "# Group total households by income and number of school age people\n",
    "hh_college_tot = hh_college.groupby(['college_age_people','income_crossclass']).sum()[['expwt_2']]\n",
    "\n",
    "hh_college_tot.to_clipboard()"
   ]
  },
  {
   "cell_type": "code",
   "execution_count": 580,
   "metadata": {
    "collapsed": true
   },
   "outputs": [],
   "source": [
    "# Join household categories to trip records to create cross-class totals\n",
    "trip_hh = pd.merge(trip, hh_college, left_on='hhno', right_on='hhid', how='left')\n",
    "\n",
    "# trip_hh.college_age"
   ]
  },
  {
   "cell_type": "code",
   "execution_count": 589,
   "metadata": {
    "collapsed": true
   },
   "outputs": [],
   "source": [
    "# Join household categories to trip records to create cross-class totals\n",
    "trip_hh = pd.merge(trip, hh_college, left_on='hhno', right_on='hhid', how='left')\n",
    "\n",
    "# Create field to signify college trip\n",
    "# Join person fiels to trip to get age and mark as college trip for school trips\n",
    "trip_hh = pd.merge(trip_hh, person[['hhid','pernum','age']], \n",
    "                   left_on=['hhno','pno'], right_on=['hhid','pernum'], how='left')\n",
    "\n",
    "# From 4k docs, this is confusing\n",
    "# 'College trips are made up of home-based college trips and student trips made from\n",
    "# dormitories, represented by trips from group quarters. Since the college trip purpose is not\n",
    "# exclusively comprised of home-based trips, we have identified this trip purpose as “college”\n",
    "# instead of “home-based college.” '\n",
    "\n",
    "# Think that means we only want trips that end at a school location, for people 18-24?\n",
    "trip_hh.ix[(trip_hh['dpurp'] == 2) & (trip_hh['college_age'] == 'college_age'), 'college'] = 'college'\n",
    "# trip_hh.ix[(trip_hh['opurp'] == 2) & (trip_hh['college_age'] == 'college_age'), 'college'] = 'college'\n",
    "\n",
    "# home-based college trips\n",
    "hbc_tot = trip_hh[trip_hh['college']== 'college'].groupby(['income_crossclass','college_age_people']).sum()[['trexpfac']]\n",
    "\n",
    "hbc_tot.to_clipboard()\n"
   ]
  },
  {
   "cell_type": "code",
   "execution_count": 583,
   "metadata": {},
   "outputs": [
    {
     "data": {
      "text/html": [
       "<div>\n",
       "<style>\n",
       "    .dataframe thead tr:only-child th {\n",
       "        text-align: right;\n",
       "    }\n",
       "\n",
       "    .dataframe thead th {\n",
       "        text-align: left;\n",
       "    }\n",
       "\n",
       "    .dataframe tbody tr th {\n",
       "        vertical-align: top;\n",
       "    }\n",
       "</style>\n",
       "<table border=\"1\" class=\"dataframe\">\n",
       "  <thead>\n",
       "    <tr style=\"text-align: right;\">\n",
       "      <th></th>\n",
       "      <th></th>\n",
       "      <th>trexpfac</th>\n",
       "    </tr>\n",
       "    <tr>\n",
       "      <th>college_age_people</th>\n",
       "      <th>income_crossclass</th>\n",
       "      <th></th>\n",
       "    </tr>\n",
       "  </thead>\n",
       "  <tbody>\n",
       "    <tr>\n",
       "      <th rowspan=\"4\" valign=\"top\">1.0</th>\n",
       "      <th>1</th>\n",
       "      <td>1404.180408</td>\n",
       "    </tr>\n",
       "    <tr>\n",
       "      <th>2</th>\n",
       "      <td>917.598345</td>\n",
       "    </tr>\n",
       "    <tr>\n",
       "      <th>3</th>\n",
       "      <td>872.006780</td>\n",
       "    </tr>\n",
       "    <tr>\n",
       "      <th>4</th>\n",
       "      <td>8160.209030</td>\n",
       "    </tr>\n",
       "    <tr>\n",
       "      <th rowspan=\"2\" valign=\"top\">2.0</th>\n",
       "      <th>1</th>\n",
       "      <td>138.999753</td>\n",
       "    </tr>\n",
       "    <tr>\n",
       "      <th>2</th>\n",
       "      <td>300.564697</td>\n",
       "    </tr>\n",
       "  </tbody>\n",
       "</table>\n",
       "</div>"
      ],
      "text/plain": [
       "                                         trexpfac\n",
       "college_age_people income_crossclass             \n",
       "1.0                1                  1404.180408\n",
       "                   2                   917.598345\n",
       "                   3                   872.006780\n",
       "                   4                  8160.209030\n",
       "2.0                1                   138.999753\n",
       "                   2                   300.564697"
      ]
     },
     "execution_count": 583,
     "metadata": {},
     "output_type": "execute_result"
    }
   ],
   "source": [
    "hbc_tot"
   ]
  },
  {
   "cell_type": "code",
   "execution_count": 555,
   "metadata": {},
   "outputs": [
    {
     "data": {
      "text/plain": [
       "array([ 4272870.21243122])"
      ]
     },
     "execution_count": 555,
     "metadata": {},
     "output_type": "execute_result"
    }
   ],
   "source": [
    "hbc_tot.sum().values"
   ]
  },
  {
   "cell_type": "markdown",
   "metadata": {},
   "source": [
    "### Using college trips and person records only"
   ]
  },
  {
   "cell_type": "code",
   "execution_count": 549,
   "metadata": {
    "collapsed": true
   },
   "outputs": [],
   "source": [
    "# college person data\n",
    "# college_person = pd.read_excel(r'J:\\Projects\\Surveys\\HHTravel\\Survey2014\\Data\\College database\\1_PSRC_College_PersonDataset_2015-1-23_V1-3.xlsx',\n",
    "#                               sheetname='PersonData')"
   ]
  },
  {
   "cell_type": "code",
   "execution_count": null,
   "metadata": {
    "collapsed": true
   },
   "outputs": [],
   "source": []
  },
  {
   "cell_type": "markdown",
   "metadata": {},
   "source": [
    "# PUMS household totals\n",
    "For comparison\n"
   ]
  },
  {
   "cell_type": "code",
   "execution_count": null,
   "metadata": {
    "collapsed": true
   },
   "outputs": [],
   "source": [
    "# Load PUMS data to see if cross classification proportions match up\n",
    "df = pd.read_csv(r'R:\\4K\\Code\\TripGen\\Inputs\\TripGeneration\\2010\\pums\\pumshhxc_income-size-workers.in',\n",
    "                 delim_whitespace=True, skiprows=5)\n",
    "df = df.reset_index()\n",
    "df.columns = ['puma','column','households']\n",
    "df['column'] = df['column'].astype('str').apply(lambda row: row.split(':')[0]).astype('int')\n",
    "\n",
    "_df = df.groupby('column').sum()[['households']]\n",
    "_df.to_clipboard()"
   ]
  },
  {
   "cell_type": "code",
   "execution_count": null,
   "metadata": {
    "collapsed": true
   },
   "outputs": [],
   "source": [
    "# Load PUMS data to see if cross classification proportions match up\n",
    "df = pd.read_csv(r'R:\\4K\\Code\\TripGen\\Inputs\\TripGeneration\\2010\\pums\\pumshhxc_income-k12students.in',\n",
    "                 delim_whitespace=True, skiprows=5)\n",
    "df = df.reset_index()\n",
    "df.columns = ['puma','column','households']\n",
    "df['column'] = df['column'].astype('str').apply(lambda row: row.split(':')[0]).astype('int')\n",
    "\n",
    "_df = df.groupby('column').sum()[['households']]\n",
    "_df.to_clipboard()"
   ]
  },
  {
   "cell_type": "markdown",
   "metadata": {},
   "source": [
    "# Compare Daysim vs Original Trip Purposes"
   ]
  },
  {
   "cell_type": "code",
   "execution_count": 6,
   "metadata": {
    "collapsed": true
   },
   "outputs": [],
   "source": [
    "# join the original trip file to compare daysim purposes\n",
    "trip_original = pd.read_excel(r'J:\\Projects\\Surveys\\HHTravel\\Survey2014\\Data\\Final database\\Release 4\\2014-pr3-M-hhsurvey-trips-LINKED.xlsx',\n",
    "                             sheetname='Linked trips')"
   ]
  },
  {
   "cell_type": "code",
   "execution_count": null,
   "metadata": {
    "collapsed": true
   },
   "outputs": [],
   "source": [
    "# Daysim version is missing a common"
   ]
  },
  {
   "cell_type": "code",
   "execution_count": 32,
   "metadata": {
    "collapsed": true
   },
   "outputs": [],
   "source": [
    "df = pd.merge(trip,trip_original, how='left', left_on=['hhno','pno','tsvid'], right_on=['hhid','pernum','tripnum'])"
   ]
  },
  {
   "cell_type": "code",
   "execution_count": 40,
   "metadata": {
    "collapsed": true
   },
   "outputs": [],
   "source": [
    "df.groupby(['dpurp','d_purpose']).count()['trexpfac'].to_clipboard()"
   ]
  },
  {
   "cell_type": "code",
   "execution_count": 26,
   "metadata": {},
   "outputs": [
    {
     "name": "stdout",
     "output_type": "stream",
     "text": [
      "personID\n",
      "recordID\n",
      "tripID\n",
      "hhid\n",
      "pernum\n",
      "tripnum\n",
      "total_trip\n",
      "last\n",
      "place_start\n",
      "place_end\n",
      "location_type\n",
      "olat\n",
      "olng\n",
      "dlat\n",
      "dlng\n",
      "address_start\n",
      "ocnty\n",
      "ocity\n",
      "ozip\n",
      "ostate\n",
      "address_end\n",
      "dcnty\n",
      "dcity\n",
      "dzip\n",
      "dstate\n",
      "prepop\n",
      "childunder5_originaltripid\n",
      "child_under5\n",
      "time_start_mam\n",
      "time_start_hhmm\n",
      "time_start_past\n",
      "time_end_mam\n",
      "time_end_hhmm\n",
      "time_end_past\n",
      "trip_dur_reported\n",
      "gdist\n",
      "gtime\n",
      "implied_speed_mph\n",
      "a_dur\n",
      "o_purpose\n",
      "d_purpose\n",
      "mode\n",
      "travelers_total\n",
      "travelers_hh\n",
      "travelers_nonhh\n",
      "taxi_type\n",
      "taxi_fare\n",
      "vehicle\n",
      "driver\n",
      "toll\n",
      "pool_start\n",
      "pr_lot1_a\n",
      "pr_lot1\n",
      "change_vehicles\n",
      "park\n",
      "pr_lot2_a\n",
      "pr_lot2\n",
      "park_pay\n",
      "mode_acc\n",
      "mode_egr\n",
      "transitsystem1\n",
      "transitsystem2\n",
      "transitsystem3\n",
      "transitsystem4\n",
      "transitline1\n",
      "transitline2\n",
      "transitline3\n",
      "transitline4\n",
      "member1\n",
      "member2\n",
      "member3\n",
      "member4\n",
      "member5\n",
      "member6\n",
      "member7\n",
      "member8\n",
      "triptype\n",
      "mode2\n",
      "mode3\n",
      "mmode\n",
      "time_cat\n",
      "time_day\n",
      "mtime\n",
      "mtime_cat\n",
      "mtime_day\n",
      "distcat\n",
      "num_trips_linked\n",
      "combined_modes\n",
      "expwt_final\n",
      "dataset\n",
      "o_tract\n",
      "o_bg\n",
      "o_block\n",
      "o_pumace10\n",
      "o_taz10\n",
      "o_rgc_name\n",
      "d_tract\n",
      "d_bg\n",
      "d_block\n",
      "d_pumace10\n",
      "d_taz10\n",
      "d_rgc_name\n",
      "o_parcelID_0\n",
      "d_parcelID_0\n",
      "o_PIN10\n",
      "o_PSRCPIN10\n",
      "d_PIN10\n",
      "d_PSRCPIN10\n"
     ]
    }
   ],
   "source": [
    "for i in trip_original.columns:\n",
    "    print i"
   ]
  },
  {
   "cell_type": "code",
   "execution_count": 30,
   "metadata": {},
   "outputs": [
    {
     "data": {
      "text/plain": [
       "1462106.9942000015"
      ]
     },
     "execution_count": 30,
     "metadata": {},
     "output_type": "execute_result"
    }
   ],
   "source": [
    "hh['expwt_2'].sum()"
   ]
  },
  {
   "cell_type": "code",
   "execution_count": 31,
   "metadata": {},
   "outputs": [
    {
     "data": {
      "text/plain": [
       "8020      1\n",
       "8021      2\n",
       "8022      3\n",
       "8023      4\n",
       "8024      5\n",
       "8025      6\n",
       "8026      9\n",
       "8027     10\n",
       "8028     11\n",
       "8029     12\n",
       "8030      1\n",
       "8031      2\n",
       "8032      1\n",
       "8033      2\n",
       "8034      3\n",
       "8035      1\n",
       "8036      2\n",
       "8037      3\n",
       "8038      4\n",
       "8039      1\n",
       "8040      2\n",
       "8041      1\n",
       "8042      2\n",
       "8043      3\n",
       "8044      1\n",
       "8045      2\n",
       "8046      1\n",
       "8047      2\n",
       "8048      3\n",
       "8049      1\n",
       "         ..\n",
       "54070     2\n",
       "54071     3\n",
       "54072     4\n",
       "54073     1\n",
       "54074     2\n",
       "54075     3\n",
       "54076     4\n",
       "54077     1\n",
       "54078     2\n",
       "54079     3\n",
       "54080     1\n",
       "54081     2\n",
       "54082     3\n",
       "54083     1\n",
       "54084     2\n",
       "54085     3\n",
       "54086     1\n",
       "54087     4\n",
       "54088     2\n",
       "54089     3\n",
       "54090     5\n",
       "54091     6\n",
       "54092     7\n",
       "54093     1\n",
       "54094     4\n",
       "54095     5\n",
       "54096     6\n",
       "54097     7\n",
       "54098     2\n",
       "54099     3\n",
       "Name: tsvid, Length: 46080, dtype: int64"
      ]
     },
     "execution_count": 31,
     "metadata": {},
     "output_type": "execute_result"
    }
   ],
   "source": [
    "trip.tsvid"
   ]
  },
  {
   "cell_type": "code",
   "execution_count": null,
   "metadata": {
    "collapsed": true
   },
   "outputs": [],
   "source": []
  }
 ],
 "metadata": {
  "kernelspec": {
   "display_name": "Python 2",
   "language": "python",
   "name": "python2"
  },
  "language_info": {
   "codemirror_mode": {
    "name": "ipython",
    "version": 2
   },
   "file_extension": ".py",
   "mimetype": "text/x-python",
   "name": "python",
   "nbconvert_exporter": "python",
   "pygments_lexer": "ipython2",
   "version": "2.7.14"
  }
 },
 "nbformat": 4,
 "nbformat_minor": 2
}
