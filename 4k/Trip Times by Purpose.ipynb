{
 "cells": [
  {
   "cell_type": "code",
   "execution_count": 1,
   "metadata": {
    "collapsed": true
   },
   "outputs": [],
   "source": [
    "import pandas as pd"
   ]
  },
  {
   "cell_type": "code",
   "execution_count": 2,
   "metadata": {
    "collapsed": true
   },
   "outputs": [],
   "source": [
    "trip = pd.read_csv(r'R:\\SoundCastDocuments\\2014Estimation\\Files_From_Mark_2014\\gps_weights_11_3_16\\formatted\\skims_attached\\tripP14_w.dat')"
   ]
  },
  {
   "cell_type": "code",
   "execution_count": 3,
   "metadata": {
    "collapsed": true
   },
   "outputs": [],
   "source": [
    "# Reclassify trip purpose for 4k purposes\n",
    "# Use Daysim User's Guide for data dictionary for trip records\n",
    "\n",
    "# Home-Based Work (HBW) Trips, directly from home-to-work and work-to-home\n",
    "trip.ix[(trip['opurp'] == 0) & (trip['dpurp'] == 1), '4k_purp'] = 'HBW'\n",
    "trip.ix[(trip['opurp'] == 1) & (trip['dpurp'] == 0), '4k_purp'] = 'HBW'\n",
    "\n",
    "# Home-Based shopping\n",
    "trip.ix[(trip['opurp'] == 0) & (trip['dpurp'] == 5), '4k_purp'] = 'Home-Based Shopping'\n",
    "trip.ix[(trip['opurp'] == 5) & (trip['dpurp'] == 0), '4k_purp'] = 'Home-Based Shopping'\n",
    "\n",
    "# Home-Based Other\n",
    "trip.ix[(trip['opurp'] == 0) & (trip['dpurp'].isin([3,4,6,7,8,9,10])), '4k_purp'] = 'Home-Based Other'\n",
    "trip.ix[(trip['opurp'].isin([3,4,6,7,8,9,10]) & (trip['dpurp'] == 0)), '4k_purp'] = 'Home-Based Other'\n",
    "\n",
    "# NHB Work-to-Other\n",
    "trip.ix[(trip['opurp'] == 1) & (trip['dpurp'] != 0) & (trip['4k_purp'].isnull()), '4k_purp'] = 'NHB WtO'\n",
    "trip.ix[(trip['opurp'] != 0) & (trip['dpurp'] == 1) & (trip['4k_purp'].isnull()), '4k_purp'] = 'NHB WtO'\n",
    "\n",
    "# # NHB Other-to-Other (Destination and Origins are neither work nor home)\n",
    "trip.ix[(trip['opurp'] != 1) & (trip['dpurp'] != 0) & (trip['opurp'] != 0) \n",
    "        & (trip['dpurp'] != 1) & (trip['4k_purp'].isnull()), '4k_purp'] = 'NHB OtO'"
   ]
  },
  {
   "cell_type": "markdown",
   "metadata": {},
   "source": [
    "### Weighted Average Travel Time by Trip Purpose"
   ]
  },
  {
   "cell_type": "code",
   "execution_count": 11,
   "metadata": {},
   "outputs": [
    {
     "data": {
      "text/plain": [
       "4k_purp\n",
       "HBW                    25.261620\n",
       "Home-Based Other       15.098397\n",
       "Home-Based Shopping    12.644990\n",
       "NHB OtO                13.014079\n",
       "NHB WtO                16.035133\n",
       "dtype: float64"
      ]
     },
     "execution_count": 11,
     "metadata": {},
     "output_type": "execute_result"
    }
   ],
   "source": [
    "trip['wt_travtime'] = trip['travtime']*trip['trexpfac']\n",
    "trip.groupby('4k_purp').sum()['wt_travtime']/trip.groupby('4k_purp').sum()['trexpfac']"
   ]
  },
  {
   "cell_type": "code",
   "execution_count": 13,
   "metadata": {
    "collapsed": true
   },
   "outputs": [],
   "source": [
    "# Split HBW trips by income groups"
   ]
  },
  {
   "cell_type": "code",
   "execution_count": 14,
   "metadata": {
    "collapsed": true
   },
   "outputs": [],
   "source": [
    "hh = pd.read_excel(r'J:\\Projects\\Surveys\\HHTravel\\Survey2014\\Data\\Final database\\Release 4\\2014-pr3-M-hhsurvey-households.xlsx',\n",
    "                  sheetname='Data')\n",
    "\n",
    "# Household income\n",
    "# Note that exact ranges from 2014 do not match 2006\n",
    "# old ranges: 30, 60, 90+\n",
    "# new ranges: 35, 75, 100+\n",
    "hh['income_crossclass'] = hh['hh_income_detailed_imp']\n",
    "hh.ix[hh['hh_income_detailed_imp'] <= 3, 'income_crossclass'] = '1'    # $35k  \n",
    "hh.ix[(hh['hh_income_detailed_imp'] > 3) & (hh['hh_income_detailed_imp'] <= 5),    # $35-75k\n",
    "           'income_crossclass'] = '2' \n",
    "hh.ix[(hh['hh_income_detailed_imp'] > 5) & (hh['hh_income_detailed_imp'] <= 6),    # $75-100k\n",
    "           'income_crossclass'] = '3' \n",
    "hh.ix[hh['hh_income_detailed_imp'] >= 7, 'income_crossclass'] = '4'    # >$100k"
   ]
  },
  {
   "cell_type": "code",
   "execution_count": 18,
   "metadata": {},
   "outputs": [
    {
     "data": {
      "text/plain": [
       "income_crossclass\n",
       "1    21.550708\n",
       "2    24.181637\n",
       "3    27.982392\n",
       "4    26.273059\n",
       "dtype: float64"
      ]
     },
     "execution_count": 18,
     "metadata": {},
     "output_type": "execute_result"
    }
   ],
   "source": [
    "df = trip[trip['4k_purp'] == 'HBW']\n",
    "\n",
    "df = pd.merge(df, hh, how='left', left_on='hhno', right_on='hhid')\n",
    "df.groupby(['income_crossclass']).sum()['wt_travtime']/df.groupby(['income_crossclass']).sum()['trexpfac']"
   ]
  },
  {
   "cell_type": "code",
   "execution_count": null,
   "metadata": {
    "collapsed": true
   },
   "outputs": [],
   "source": []
  }
 ],
 "metadata": {
  "kernelspec": {
   "display_name": "Python 2",
   "language": "python",
   "name": "python2"
  },
  "language_info": {
   "codemirror_mode": {
    "name": "ipython",
    "version": 2
   },
   "file_extension": ".py",
   "mimetype": "text/x-python",
   "name": "python",
   "nbconvert_exporter": "python",
   "pygments_lexer": "ipython2",
   "version": "2.7.14"
  }
 },
 "nbformat": 4,
 "nbformat_minor": 2
}
