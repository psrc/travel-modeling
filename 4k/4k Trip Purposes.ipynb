{
 "cells": [
  {
   "cell_type": "markdown",
   "metadata": {},
   "source": [
    "# Add 4k Trip Purposes to 2014 Travel Survey\n",
    "For the Public Release survey with standard household weights"
   ]
  },
  {
   "cell_type": "code",
   "execution_count": 1,
   "metadata": {
    "collapsed": true
   },
   "outputs": [],
   "source": [
    "import pandas as pd\n",
    "import numpy as np"
   ]
  },
  {
   "cell_type": "code",
   "execution_count": 2,
   "metadata": {
    "collapsed": true
   },
   "outputs": [],
   "source": [
    "# Load household records to prepare data and generate cross-classification\n",
    "hh = pd.read_excel(r'J:\\Projects\\Surveys\\HHTravel\\Survey2014\\Data\\Final database\\Release 4\\2014-pr3-M-hhsurvey-households.xlsx',\n",
    "                  sheetname='Data')\n",
    "\n",
    "# Reclassify household columns for cross-classification\n",
    "\n",
    "# Number of Workers 0 -> 3+\n",
    "hh['numworkers_crossclass'] = hh['numworkers']\n",
    "hh.ix[hh['numworkers'] >= 3, 'numworkers_crossclass'] = 3\n",
    "hh['numworkers_crossclass'] = hh['numworkers_crossclass'].astype('int')\n",
    "\n",
    "# Household size\n",
    "hh['hhsize_crossclass'] = hh['hhsize']\n",
    "hh.ix[hh['hhsize'] >= 4, 'hhsize_crossclass'] = 4\n",
    "hh['hhsize_crossclass'] = hh['hhsize_crossclass'].astype('int')\n",
    "\n",
    "# Household income\n",
    "# Note that exact ranges from 2014 do not match 2006\n",
    "# old ranges: 30, 60, 90+\n",
    "# new ranges: 35, 75, 100+\n",
    "hh['income_crossclass'] = hh['hh_income_detailed_imp']\n",
    "hh.ix[hh['hh_income_detailed_imp'] <= 3, 'income_crossclass'] = 1    # $35k  \n",
    "hh.ix[(hh['hh_income_detailed_imp'] > 3) & (hh['hh_income_detailed_imp'] <= 5),    # $35-75k\n",
    "           'income_crossclass'] = 2\n",
    "hh.ix[(hh['hh_income_detailed_imp'] > 5) & (hh['hh_income_detailed_imp'] <= 6),    # $75-100k\n",
    "           'income_crossclass'] = 3\n",
    "hh.ix[hh['hh_income_detailed_imp'] >= 7, 'income_crossclass'] = 4    # >$100k"
   ]
  },
  {
   "cell_type": "code",
   "execution_count": 3,
   "metadata": {
    "collapsed": true
   },
   "outputs": [],
   "source": [
    "# Data needs to be in format of each household on a row and columns for trips by purpose\n",
    "\n",
    "# Load trip data and compute 4k purposes\n",
    "\n",
    "######\n",
    "# NOTE: different bins will be created based on which trip file is used\n",
    "# For now, we are using the GPS trip weights to create the bins\n",
    "# and using this one throughout\n",
    "######\n",
    "\n",
    "# Non GPS weighted (in Daysim format)\n",
    "trip = pd.read_csv(r'R:\\SoundCast\\estimation\\2014\\Surveys\\2014 Survey\\P5\\tripP5.dat', delim_whitespace=True)\n",
    "\n",
    "# Separate college student trips from regional survey trips\n",
    "college_trips = trip[trip['hhno'] < 14000000]\n",
    "trip = trip[trip['hhno'] >= 14000000]\n",
    "\n",
    "# Home-Based Work (HBW) Trips, directly from home-to-work and work-to-home\n",
    "trip.ix[(trip['opurp'] == 0) & (trip['dpurp'] == 1), '4k_purp'] = 'HBW'\n",
    "trip.ix[(trip['opurp'] == 1) & (trip['dpurp'] == 0), '4k_purp'] = 'HBW'\n",
    "\n",
    "# Home-Based shopping\n",
    "trip.ix[(trip['opurp'] == 0) & (trip['dpurp'] == 5), '4k_purp'] = 'Home-Based Shopping'\n",
    "trip.ix[(trip['opurp'] == 5) & (trip['dpurp'] == 0), '4k_purp'] = 'Home-Based Shopping'\n",
    "\n",
    "# Home-Based School\n",
    "trip.ix[(trip['opurp'] == 0) & (trip['dpurp'] == 2), '4k_purp'] = 'School'\n",
    "trip.ix[(trip['opurp'] == 2) & (trip['dpurp'] == 0), '4k_purp'] = 'School'\n",
    "\n",
    "# Home-Based Other\n",
    "trip.ix[(trip['opurp'] == 0) & (trip['dpurp'].isin([3,4,6,7,8,9,10])), '4k_purp'] = 'Home-Based Other'\n",
    "trip.ix[(trip['opurp'].isin([3,4,6,7,8,9,10]) & (trip['dpurp'] == 0)), '4k_purp'] = 'Home-Based Other'\n",
    "\n",
    "# NHB Work-to-Other\n",
    "trip.ix[(trip['opurp'] == 1) & (trip['dpurp'] != 0) & (trip['4k_purp'].isnull()), '4k_purp'] = 'NHB WtO'\n",
    "trip.ix[(trip['opurp'] != 0) & (trip['dpurp'] == 1) & (trip['4k_purp'].isnull()), '4k_purp'] = 'NHB WtO'\n",
    "\n",
    "# # NHB Other-to-Other (Destination and Origins are neither work nor home)\n",
    "trip.ix[(trip['opurp'] != 1) & (trip['dpurp'] != 0) & (trip['opurp'] != 0) \n",
    "        & (trip['dpurp'] != 1) & (trip['4k_purp'].isnull()), '4k_purp'] = 'NHB OtO'\n",
    "\n",
    "\n"
   ]
  },
  {
   "cell_type": "code",
   "execution_count": 5,
   "metadata": {},
   "outputs": [],
   "source": [
    "# Join the 4k_purp field to the non-Daysim formatted trip file\n",
    "trip_standard = pd.read_excel(r'J:\\Projects\\Surveys\\HHTravel\\Survey2014\\Data\\Final database\\Release 4\\2014-pr3-M-hhsurvey-trips-LINKED.xlsx',\n",
    "                             sheetname='Linked trips')"
   ]
  },
  {
   "cell_type": "code",
   "execution_count": 42,
   "metadata": {},
   "outputs": [],
   "source": [
    "trip_standard['tripID'] = trip_standard['tripID'].astype('str')"
   ]
  },
  {
   "cell_type": "code",
   "execution_count": 43,
   "metadata": {},
   "outputs": [],
   "source": [
    "# trip.hhno # first 8 values\n",
    "# trip.pno # next 2 values\n",
    "trip[['hhno','pno','tsvid']]\n",
    "\n",
    "trip['original_trip_id'] = trip['hhno'].astype('str') + \\\n",
    "     trip['pno'].apply(lambda row: str(row).zfill(2)) + \\\n",
    "     trip['tsvid'].apply(lambda row: str(row).zfill(2)) "
   ]
  },
  {
   "cell_type": "markdown",
   "metadata": {},
   "source": [
    "### Notice:\n",
    "Some trips from trip_standard dataset are missing from the daysim formatted records. \n",
    "Using only the daysim records."
   ]
  },
  {
   "cell_type": "code",
   "execution_count": 51,
   "metadata": {
    "collapsed": true
   },
   "outputs": [],
   "source": [
    "df = pd.merge(trip[['original_trip_id','4k_purp']], \n",
    "              trip_standard, \n",
    "              left_on='original_trip_id', right_on='tripID')"
   ]
  },
  {
   "cell_type": "code",
   "execution_count": 53,
   "metadata": {},
   "outputs": [
    {
     "data": {
      "text/plain": [
       "46080"
      ]
     },
     "execution_count": 53,
     "metadata": {},
     "output_type": "execute_result"
    }
   ],
   "source": [
    "len(df)"
   ]
  },
  {
   "cell_type": "code",
   "execution_count": 54,
   "metadata": {},
   "outputs": [
    {
     "data": {
      "text/plain": [
       "46080"
      ]
     },
     "execution_count": 54,
     "metadata": {},
     "output_type": "execute_result"
    }
   ],
   "source": [
    "len(trip)"
   ]
  },
  {
   "cell_type": "code",
   "execution_count": 55,
   "metadata": {},
   "outputs": [
    {
     "data": {
      "text/plain": [
       "47918"
      ]
     },
     "execution_count": 55,
     "metadata": {},
     "output_type": "execute_result"
    }
   ],
   "source": [
    "len(trip_standard)"
   ]
  },
  {
   "cell_type": "code",
   "execution_count": 49,
   "metadata": {},
   "outputs": [],
   "source": []
  },
  {
   "cell_type": "code",
   "execution_count": 56,
   "metadata": {},
   "outputs": [],
   "source": [
    "df.to_excel(r'J:\\Projects\\Surveys\\HHTravel\\Survey2014\\Data\\Final database\\Release 4\\4k Purposes\\2014-pr3-M-hhsurvey-trips-LINKED-4k.xlsx',\n",
    "         index=False)"
   ]
  },
  {
   "cell_type": "code",
   "execution_count": null,
   "metadata": {
    "collapsed": true
   },
   "outputs": [],
   "source": []
  }
 ],
 "metadata": {
  "kernelspec": {
   "display_name": "Python 2",
   "language": "python",
   "name": "python2"
  },
  "language_info": {
   "codemirror_mode": {
    "name": "ipython",
    "version": 2
   },
   "file_extension": ".py",
   "mimetype": "text/x-python",
   "name": "python",
   "nbconvert_exporter": "python",
   "pygments_lexer": "ipython2",
   "version": "2.7.14"
  }
 },
 "nbformat": 4,
 "nbformat_minor": 2
}
