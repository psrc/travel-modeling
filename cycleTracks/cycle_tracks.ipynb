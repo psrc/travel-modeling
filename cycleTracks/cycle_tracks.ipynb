{
 "cells": [
  {
   "cell_type": "code",
   "execution_count": 46,
   "metadata": {
    "collapsed": true
   },
   "outputs": [],
   "source": [
    "import pandas as pd"
   ]
  },
  {
   "cell_type": "code",
   "execution_count": 70,
   "metadata": {
    "collapsed": false
   },
   "outputs": [],
   "source": [
    "# Load single trips GPS points\n",
    "colnames = ['trip_id','latitude','longitude','altitude','hAccuracy','vAccuracy','speed','recorded']\n",
    "# df = pd.read_csv(r'data/26089.csv', header=None, names=colnames)"
   ]
  },
  {
   "cell_type": "markdown",
   "metadata": {},
   "source": [
    "# Compile downloaded cycle tracks data\n",
    "- data is stored in CSVs with 500 trip records in each\n",
    "- the first section of the csv is each trip's GPS points\n",
    "- a second section contains trip purposes"
   ]
  },
  {
   "cell_type": "code",
   "execution_count": 58,
   "metadata": {
    "collapsed": false
   },
   "outputs": [],
   "source": [
    "header_len = 3\n",
    "trips_len = 500\n",
    "\n",
    "dirname = r'R:\\Bike\\CycleTracks\\Data 20150212'\n",
    "\n",
    "# fetch gps portion first, excluding the last 502 rows (row for each record, plus header and empty row)\n",
    "gps_df = pd.read_csv(dirname + r'\\bikedata_pugetsound_0_499.csv', \n",
    "                 skiprows=header_len, skip_footer=trips_len+2)   \n",
    "\n",
    "# fetch trip diary portion at end of csv\n",
    "diary_df = pd.read_csv(r'R:\\Bike\\CycleTracks\\Data 20150212\\bikedata_pugetsound_0_499.csv', \n",
    "                 skiprows=len(gps_df)+header_len+2)"
   ]
  },
  {
   "cell_type": "code",
   "execution_count": 59,
   "metadata": {
    "collapsed": false
   },
   "outputs": [],
   "source": [
    "# For next set of data, append to existing files, starting with trips 500 to 999\n",
    "trip_count = 500\n",
    "while trip_count < 3000:\n",
    "    fname = dirname + r'\\bikedata_pugetsound_' + str(trip_count) + '_' + str(trip_count+499) + '.csv'\n",
    "    trip_count += 500\n",
    "    \n",
    "    gps_df = gps_df.append(pd.read_csv(fname, \n",
    "                 skiprows=header_len, skip_footer=trips_len+2))\n",
    "\n",
    "# #     fetch trip diary portion at end of csv\n",
    "#     diary_df = diary_df.append(pd.read_csv(fname, \n",
    "#                      skiprows=len(gps_df)+header_len+2))"
   ]
  },
  {
   "cell_type": "code",
   "execution_count": 60,
   "metadata": {
    "collapsed": false
   },
   "outputs": [],
   "source": [
    "# Still not including all trips, need to manually add those in because they're a bit off"
   ]
  },
  {
   "cell_type": "code",
   "execution_count": 74,
   "metadata": {
    "collapsed": false
   },
   "outputs": [
    {
     "name": "stdout",
     "output_type": "stream",
     "text": [
      "4263877\n"
     ]
    }
   ],
   "source": [
    "gps_df = gps_df[colnames]\n",
    "print len(gps_df)\n",
    "# Clean this data by removing any counts from the same person that at the same location and time\n",
    "gps_df.drop_duplicates(['trip_id','latitude','longitude','recorded'], inplace=True)"
   ]
  },
  {
   "cell_type": "code",
   "execution_count": 76,
   "metadata": {
    "collapsed": false
   },
   "outputs": [],
   "source": [
    "# Write the gps trips to file for use in tableau\n",
    "gps_df.to_csv(r'J:\\Projects\\Bike\\cycle_tracks\\psrc_cycle_tracks_gps.csv')"
   ]
  },
  {
   "cell_type": "code",
   "execution_count": null,
   "metadata": {
    "collapsed": true
   },
   "outputs": [],
   "source": []
  }
 ],
 "metadata": {
  "kernelspec": {
   "display_name": "Python 2",
   "language": "python",
   "name": "python2"
  },
  "language_info": {
   "codemirror_mode": {
    "name": "ipython",
    "version": 2
   },
   "file_extension": ".py",
   "mimetype": "text/x-python",
   "name": "python",
   "nbconvert_exporter": "python",
   "pygments_lexer": "ipython2",
   "version": "2.7.9"
  }
 },
 "nbformat": 4,
 "nbformat_minor": 0
}
