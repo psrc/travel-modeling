{
 "metadata": {
  "name": "userbenefits-summarization"
 },
 "nbformat": 3,
 "nbformat_minor": 0,
 "worksheets": [
  {
   "cells": [
    {
     "cell_type": "markdown",
     "metadata": {},
     "source": [
      "# Userbenefits interactive analysis and summarization\n",
      "\n",
      "This IPython Notebook is designed as an example of how someone might explore and summarize pre-computed user-benefits. This approach assumes some basic familiarity with Python, Pandas, and Matplotlib.\n",
      "\n",
      "If the plots aren't appearing for you, quit now and restart the notebook with the command\n",
      "\n",
      "    ipython notebook --pylab=inline\n",
      "\n",
      "At a minimum, I strongly suggest reading \"[10 Minutes to Pandas](http://pandas.pydata.org/pandas-docs/stable/10min.html)\"\n",
      "\n",
      "**Disclaimer:** This notebook in its current form was written by a total novice to Pandas. Aim higher."
     ]
    },
    {
     "cell_type": "code",
     "collapsed": false,
     "input": [
      "import numpy as np\n",
      "import pandas as pd"
     ],
     "language": "python",
     "metadata": {},
     "outputs": [],
     "prompt_number": 1
    },
    {
     "cell_type": "markdown",
     "metadata": {},
     "source": [
      "## Loading data is easy\n",
      "\n",
      "Note that, if you're using the same scenario for the alternative and the baseline as I've done, that your user benefits will be consistently and boringly zero."
     ]
    },
    {
     "cell_type": "code",
     "collapsed": false,
     "input": [
      "benefitpath = \"/Users/peter/Desktop/PSRC/benefits.h5\"\n",
      "benefittable = \"dollarben\"\n",
      "df = pd.read_hdf(benefitpath, benefittable)\n",
      "\n",
      "# Make some fake dollar benefit data since everything is zero or NaN for the moment\n",
      "# Preserve the NaNs as that makes things a little more realistic\n",
      "df[\"dollarben\"] = df[\"dollarben\"] + np.random.randn(len(df[\"destination\"]))\n",
      "\n",
      "# Reorder the columns--seems only nice\n",
      "df = df.reindex_axis([\"origin\", \"destination\", \"timeperiod\", \"userclass\", \"dollarben\"], axis = 1)"
     ],
     "language": "python",
     "metadata": {},
     "outputs": [],
     "prompt_number": 2
    },
    {
     "cell_type": "markdown",
     "metadata": {},
     "source": [
      "## Summarizing tabular data\n",
      "\n",
      "If you generated atomistic benefits in tabular format (bca.py -t), you can do various arbitrary groupings and summarizations"
     ]
    },
    {
     "cell_type": "code",
     "collapsed": false,
     "input": [
      "# Inspecting the data\n",
      "df.head()"
     ],
     "language": "python",
     "metadata": {},
     "outputs": [
      {
       "html": [
        "<div style=\"max-height:1000px;max-width:1500px;overflow:auto;\">\n",
        "<table border=\"1\" class=\"dataframe\">\n",
        "  <thead>\n",
        "    <tr style=\"text-align: right;\">\n",
        "      <th></th>\n",
        "      <th>origin</th>\n",
        "      <th>destination</th>\n",
        "      <th>timeperiod</th>\n",
        "      <th>userclass</th>\n",
        "      <th>dollarben</th>\n",
        "    </tr>\n",
        "  </thead>\n",
        "  <tbody>\n",
        "    <tr>\n",
        "      <th>0</th>\n",
        "      <td> 1</td>\n",
        "      <td> 1</td>\n",
        "      <td> AM</td>\n",
        "      <td> HBW Income 1</td>\n",
        "      <td> 0.495136</td>\n",
        "    </tr>\n",
        "    <tr>\n",
        "      <th>1</th>\n",
        "      <td> 1</td>\n",
        "      <td> 2</td>\n",
        "      <td> AM</td>\n",
        "      <td> HBW Income 1</td>\n",
        "      <td> 1.150206</td>\n",
        "    </tr>\n",
        "    <tr>\n",
        "      <th>2</th>\n",
        "      <td> 1</td>\n",
        "      <td> 3</td>\n",
        "      <td> AM</td>\n",
        "      <td> HBW Income 1</td>\n",
        "      <td> 1.447605</td>\n",
        "    </tr>\n",
        "    <tr>\n",
        "      <th>3</th>\n",
        "      <td> 1</td>\n",
        "      <td> 4</td>\n",
        "      <td> AM</td>\n",
        "      <td> HBW Income 1</td>\n",
        "      <td>-1.032325</td>\n",
        "    </tr>\n",
        "    <tr>\n",
        "      <th>4</th>\n",
        "      <td> 1</td>\n",
        "      <td> 5</td>\n",
        "      <td> AM</td>\n",
        "      <td> HBW Income 1</td>\n",
        "      <td> 0.416830</td>\n",
        "    </tr>\n",
        "  </tbody>\n",
        "</table>\n",
        "</div>"
       ],
       "output_type": "pyout",
       "prompt_number": 3,
       "text": [
        "   origin  destination timeperiod     userclass  dollarben\n",
        "0       1            1         AM  HBW Income 1   0.495136\n",
        "1       1            2         AM  HBW Income 1   1.150206\n",
        "2       1            3         AM  HBW Income 1   1.447605\n",
        "3       1            4         AM  HBW Income 1  -1.032325\n",
        "4       1            5         AM  HBW Income 1   0.416830"
       ]
      }
     ],
     "prompt_number": 3
    },
    {
     "cell_type": "code",
     "collapsed": false,
     "input": [
      "# Basic descriptives of our atomistic benefits\n",
      "df[\"dollarben\"].describe()"
     ],
     "language": "python",
     "metadata": {},
     "outputs": [
      {
       "output_type": "pyout",
       "prompt_number": 4,
       "text": [
        "count    9365792.000000\n",
        "mean          -0.000138\n",
        "std            1.000057\n",
        "min           -5.138769\n",
        "25%           -0.674619\n",
        "50%           -0.000310\n",
        "75%            0.674432\n",
        "max            5.216958\n",
        "dtype: float64"
       ]
      }
     ],
     "prompt_number": 4
    },
    {
     "cell_type": "code",
     "collapsed": false,
     "input": [
      "# What if we just want the total aggregate dollar benefits?\n",
      "df[\"dollarben\"].sum()"
     ],
     "language": "python",
     "metadata": {},
     "outputs": [
      {
       "output_type": "pyout",
       "prompt_number": 5,
       "text": [
        "-1293.0489729126298"
       ]
      }
     ],
     "prompt_number": 5
    },
    {
     "cell_type": "code",
     "collapsed": false,
     "input": [
      "# Let's total up all the benefits by origin / destination\n",
      "od_benefits = df.groupby([\"origin\", \"destination\"]).sum()\n",
      "od_benefits.head()"
     ],
     "language": "python",
     "metadata": {},
     "outputs": [
      {
       "html": [
        "<div style=\"max-height:1000px;max-width:1500px;overflow:auto;\">\n",
        "<table border=\"1\" class=\"dataframe\">\n",
        "  <thead>\n",
        "    <tr style=\"text-align: right;\">\n",
        "      <th></th>\n",
        "      <th></th>\n",
        "      <th>dollarben</th>\n",
        "    </tr>\n",
        "    <tr>\n",
        "      <th>origin</th>\n",
        "      <th>destination</th>\n",
        "      <th></th>\n",
        "    </tr>\n",
        "  </thead>\n",
        "  <tbody>\n",
        "    <tr>\n",
        "      <th rowspan=\"5\" valign=\"top\">1</th>\n",
        "      <th>1</th>\n",
        "      <td> 1.287449</td>\n",
        "    </tr>\n",
        "    <tr>\n",
        "      <th>2</th>\n",
        "      <td>-1.001494</td>\n",
        "    </tr>\n",
        "    <tr>\n",
        "      <th>3</th>\n",
        "      <td> 0.919646</td>\n",
        "    </tr>\n",
        "    <tr>\n",
        "      <th>4</th>\n",
        "      <td>-0.524478</td>\n",
        "    </tr>\n",
        "    <tr>\n",
        "      <th>5</th>\n",
        "      <td> 1.509568</td>\n",
        "    </tr>\n",
        "  </tbody>\n",
        "</table>\n",
        "</div>"
       ],
       "output_type": "pyout",
       "prompt_number": 6,
       "text": [
        "                    dollarben\n",
        "origin destination           \n",
        "1      1             1.287449\n",
        "       2            -1.001494\n",
        "       3             0.919646\n",
        "       4            -0.524478\n",
        "       5             1.509568"
       ]
      }
     ],
     "prompt_number": 6
    },
    {
     "cell_type": "code",
     "collapsed": false,
     "input": [
      "# What is the distribution of benefits by zone pair?\n",
      "od_benefits.hist()"
     ],
     "language": "python",
     "metadata": {},
     "outputs": [
      {
       "output_type": "pyout",
       "prompt_number": 7,
       "text": [
        "array([[<matplotlib.axes.AxesSubplot object at 0x107e996d0>]], dtype=object)"
       ]
      },
      {
       "output_type": "display_data",
       "png": "[encoded data removed]"
      }
     ],
     "prompt_number": 7
    },
    {
     "cell_type": "code",
     "collapsed": false,
     "input": [
      "# Sum of benefits by userclass\n",
      "df.loc[:,[\"userclass\", \"dollarben\"]].groupby([\"userclass\"]).sum()"
     ],
     "language": "python",
     "metadata": {},
     "outputs": [
      {
       "html": [
        "<div style=\"max-height:1000px;max-width:1500px;overflow:auto;\">\n",
        "<table border=\"1\" class=\"dataframe\">\n",
        "  <thead>\n",
        "    <tr style=\"text-align: right;\">\n",
        "      <th></th>\n",
        "      <th>dollarben</th>\n",
        "    </tr>\n",
        "    <tr>\n",
        "      <th>userclass</th>\n",
        "      <th></th>\n",
        "    </tr>\n",
        "  </thead>\n",
        "  <tbody>\n",
        "    <tr>\n",
        "      <th>HBW Income 1</th>\n",
        "      <td>  246.763232</td>\n",
        "    </tr>\n",
        "    <tr>\n",
        "      <th>HBW Income 2</th>\n",
        "      <td>-3014.257900</td>\n",
        "    </tr>\n",
        "    <tr>\n",
        "      <th>HBW Income 3</th>\n",
        "      <td> 1037.917345</td>\n",
        "    </tr>\n",
        "    <tr>\n",
        "      <th>HBW Income 4</th>\n",
        "      <td>  436.528351</td>\n",
        "    </tr>\n",
        "  </tbody>\n",
        "</table>\n",
        "</div>"
       ],
       "output_type": "pyout",
       "prompt_number": 8,
       "text": [
        "                dollarben\n",
        "userclass                \n",
        "HBW Income 1   246.763232\n",
        "HBW Income 2 -3014.257900\n",
        "HBW Income 3  1037.917345\n",
        "HBW Income 4   436.528351"
       ]
      }
     ],
     "prompt_number": 8
    },
    {
     "cell_type": "code",
     "collapsed": false,
     "input": [
      "# Sum of benefits by time period by user class\n",
      "df.loc[:,[\"userclass\", \"dollarben\", \"timeperiod\"]].groupby([\"timeperiod\", \"userclass\"]).sum()"
     ],
     "language": "python",
     "metadata": {},
     "outputs": [
      {
       "html": [
        "<div style=\"max-height:1000px;max-width:1500px;overflow:auto;\">\n",
        "<table border=\"1\" class=\"dataframe\">\n",
        "  <thead>\n",
        "    <tr style=\"text-align: right;\">\n",
        "      <th></th>\n",
        "      <th></th>\n",
        "      <th>dollarben</th>\n",
        "    </tr>\n",
        "    <tr>\n",
        "      <th>timeperiod</th>\n",
        "      <th>userclass</th>\n",
        "      <th></th>\n",
        "    </tr>\n",
        "  </thead>\n",
        "  <tbody>\n",
        "    <tr>\n",
        "      <th rowspan=\"4\" valign=\"top\">AM</th>\n",
        "      <th>HBW Income 1</th>\n",
        "      <td> 1022.275585</td>\n",
        "    </tr>\n",
        "    <tr>\n",
        "      <th>HBW Income 2</th>\n",
        "      <td>-2490.788972</td>\n",
        "    </tr>\n",
        "    <tr>\n",
        "      <th>HBW Income 3</th>\n",
        "      <td>   74.959139</td>\n",
        "    </tr>\n",
        "    <tr>\n",
        "      <th>HBW Income 4</th>\n",
        "      <td> 1397.163141</td>\n",
        "    </tr>\n",
        "    <tr>\n",
        "      <th rowspan=\"4\" valign=\"top\">MD</th>\n",
        "      <th>HBW Income 1</th>\n",
        "      <td> -775.512354</td>\n",
        "    </tr>\n",
        "    <tr>\n",
        "      <th>HBW Income 2</th>\n",
        "      <td> -523.468928</td>\n",
        "    </tr>\n",
        "    <tr>\n",
        "      <th>HBW Income 3</th>\n",
        "      <td>  962.958206</td>\n",
        "    </tr>\n",
        "    <tr>\n",
        "      <th>HBW Income 4</th>\n",
        "      <td> -960.634790</td>\n",
        "    </tr>\n",
        "  </tbody>\n",
        "</table>\n",
        "</div>"
       ],
       "output_type": "pyout",
       "prompt_number": 9,
       "text": [
        "                           dollarben\n",
        "timeperiod userclass                \n",
        "AM         HBW Income 1  1022.275585\n",
        "           HBW Income 2 -2490.788972\n",
        "           HBW Income 3    74.959139\n",
        "           HBW Income 4  1397.163141\n",
        "MD         HBW Income 1  -775.512354\n",
        "           HBW Income 2  -523.468928\n",
        "           HBW Income 3   962.958206\n",
        "           HBW Income 4  -960.634790"
       ]
      }
     ],
     "prompt_number": 9
    },
    {
     "cell_type": "code",
     "collapsed": false,
     "input": [
      "# Select elements row-wise, in this case, all zone-zone pairs with benefits more than\n",
      "# 4 standard deviations above the mean.\n",
      "df[df[\"dollarben\"] > 4 * df[\"dollarben\"].std()].head(10)"
     ],
     "language": "python",
     "metadata": {},
     "outputs": [
      {
       "html": [
        "<div style=\"max-height:1000px;max-width:1500px;overflow:auto;\">\n",
        "<table border=\"1\" class=\"dataframe\">\n",
        "  <thead>\n",
        "    <tr style=\"text-align: right;\">\n",
        "      <th></th>\n",
        "      <th>origin</th>\n",
        "      <th>destination</th>\n",
        "      <th>timeperiod</th>\n",
        "      <th>userclass</th>\n",
        "      <th>dollarben</th>\n",
        "    </tr>\n",
        "  </thead>\n",
        "  <tbody>\n",
        "    <tr>\n",
        "      <th>4598  </th>\n",
        "      <td>   5</td>\n",
        "      <td>   51</td>\n",
        "      <td> AM</td>\n",
        "      <td> HBW Income 1</td>\n",
        "      <td> 4.453029</td>\n",
        "    </tr>\n",
        "    <tr>\n",
        "      <th>21652 </th>\n",
        "      <td>  20</td>\n",
        "      <td>   50</td>\n",
        "      <td> AM</td>\n",
        "      <td> HBW Income 1</td>\n",
        "      <td> 4.981627</td>\n",
        "    </tr>\n",
        "    <tr>\n",
        "      <th>43432 </th>\n",
        "      <td>  39</td>\n",
        "      <td>  227</td>\n",
        "      <td> AM</td>\n",
        "      <td> HBW Income 1</td>\n",
        "      <td> 4.073275</td>\n",
        "    </tr>\n",
        "    <tr>\n",
        "      <th>52454 </th>\n",
        "      <td>  47</td>\n",
        "      <td>  153</td>\n",
        "      <td> AM</td>\n",
        "      <td> HBW Income 1</td>\n",
        "      <td> 4.152700</td>\n",
        "    </tr>\n",
        "    <tr>\n",
        "      <th>69325 </th>\n",
        "      <td>  61</td>\n",
        "      <td> 1106</td>\n",
        "      <td> AM</td>\n",
        "      <td> HBW Income 1</td>\n",
        "      <td> 4.342197</td>\n",
        "    </tr>\n",
        "    <tr>\n",
        "      <th>83675 </th>\n",
        "      <td>  74</td>\n",
        "      <td>  675</td>\n",
        "      <td> AM</td>\n",
        "      <td> HBW Income 1</td>\n",
        "      <td> 4.319820</td>\n",
        "    </tr>\n",
        "    <tr>\n",
        "      <th>99502 </th>\n",
        "      <td>  88</td>\n",
        "      <td>  584</td>\n",
        "      <td> AM</td>\n",
        "      <td> HBW Income 1</td>\n",
        "      <td> 4.038031</td>\n",
        "    </tr>\n",
        "    <tr>\n",
        "      <th>114442</th>\n",
        "      <td> 101</td>\n",
        "      <td>  743</td>\n",
        "      <td> AM</td>\n",
        "      <td> HBW Income 1</td>\n",
        "      <td> 4.151087</td>\n",
        "    </tr>\n",
        "    <tr>\n",
        "      <th>149500</th>\n",
        "      <td> 132</td>\n",
        "      <td>  554</td>\n",
        "      <td> AM</td>\n",
        "      <td> HBW Income 1</td>\n",
        "      <td> 4.446967</td>\n",
        "    </tr>\n",
        "    <tr>\n",
        "      <th>171799</th>\n",
        "      <td> 152</td>\n",
        "      <td>  113</td>\n",
        "      <td> AM</td>\n",
        "      <td> HBW Income 1</td>\n",
        "      <td> 4.120251</td>\n",
        "    </tr>\n",
        "  </tbody>\n",
        "</table>\n",
        "</div>"
       ],
       "output_type": "pyout",
       "prompt_number": 10,
       "text": [
        "        origin  destination timeperiod     userclass  dollarben\n",
        "4598         5           51         AM  HBW Income 1   4.453029\n",
        "21652       20           50         AM  HBW Income 1   4.981627\n",
        "43432       39          227         AM  HBW Income 1   4.073275\n",
        "52454       47          153         AM  HBW Income 1   4.152700\n",
        "69325       61         1106         AM  HBW Income 1   4.342197\n",
        "83675       74          675         AM  HBW Income 1   4.319820\n",
        "99502       88          584         AM  HBW Income 1   4.038031\n",
        "114442     101          743         AM  HBW Income 1   4.151087\n",
        "149500     132          554         AM  HBW Income 1   4.446967\n",
        "171799     152          113         AM  HBW Income 1   4.120251"
       ]
      }
     ],
     "prompt_number": 10
    }
   ],
   "metadata": {}
  }
 ]
}