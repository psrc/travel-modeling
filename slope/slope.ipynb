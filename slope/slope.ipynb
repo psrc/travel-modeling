{
 "cells": [
  {
   "cell_type": "code",
   "execution_count": 1,
   "metadata": {
    "collapsed": false
   },
   "outputs": [],
   "source": [
    "# Calculate a cumulative slope on arc network\n",
    "import arcpy\n",
    "import pandas as pd"
   ]
  },
  {
   "cell_type": "code",
   "execution_count": 3,
   "metadata": {
    "collapsed": true
   },
   "outputs": [],
   "source": [
    "###############\n",
    "# Load a feature class and extract table data into pandas"
   ]
  },
  {
   "cell_type": "code",
   "execution_count": 2,
   "metadata": {
    "collapsed": true
   },
   "outputs": [],
   "source": [
    "# Get the TransRefEdges info\n",
    "fc = r\"D:\\slope\\slope.gdb\\slope\"\n",
    "bike = r\"D:\\slope\\slope.gdb\\bike_fac\"\n",
    "out_fc = r\"D:\\slope\\slope.gdb\\slope_segment_new\"\n",
    "# Get the bike facility data"
   ]
  },
  {
   "cell_type": "code",
   "execution_count": 3,
   "metadata": {
    "collapsed": true
   },
   "outputs": [],
   "source": [
    "cursor = arcpy.da.UpdateCursor (fc, [\"PSRCEdgeID\"])   "
   ]
  },
  {
   "cell_type": "code",
   "execution_count": null,
   "metadata": {
    "collapsed": false
   },
   "outputs": [],
   "source": [
    "# for row in cursor:\n",
    "#     print row[0]"
   ]
  },
  {
   "cell_type": "code",
   "execution_count": 50,
   "metadata": {
    "collapsed": false
   },
   "outputs": [
    {
     "data": {
      "text/plain": [
       "'D:\\\\slope\\\\slope.gdb\\\\bike_fac'"
      ]
     },
     "execution_count": 50,
     "metadata": {},
     "output_type": "execute_result"
    }
   ],
   "source": [
    "bike"
   ]
  },
  {
   "cell_type": "code",
   "execution_count": 53,
   "metadata": {
    "collapsed": false
   },
   "outputs": [],
   "source": [
    "# Send feature class to numpy array\n",
    "# Get the TransRefEdges data\n",
    "my_array = arcpy.da.FeatureClassToNumPyArray(fc, ('PSRCEdgeId'))\n",
    "\n",
    "# Get bike attributes (exported as a FC from the related table)\n",
    "bike_array = arcpy.da.FeatureClassToNumPyArray(bike, field_names=['PSRCEdgeId', 'IJBikeFacil', 'JIBikeFacil'])\n",
    "\n",
    "# We can also export slope once it's attached to the gdb"
   ]
  },
  {
   "cell_type": "code",
   "execution_count": 55,
   "metadata": {
    "collapsed": false
   },
   "outputs": [],
   "source": [
    "# Load the np array into pandas\n",
    "base = pd.DataFrame(my_array)\n",
    "bike = pd.DataFrame(bike_array)"
   ]
  },
  {
   "cell_type": "code",
   "execution_count": 56,
   "metadata": {
    "collapsed": false
   },
   "outputs": [],
   "source": [
    "# Join bike attributes to the base df\n",
    "df = base.merge(bike)"
   ]
  },
  {
   "cell_type": "code",
   "execution_count": null,
   "metadata": {
    "collapsed": false
   },
   "outputs": [],
   "source": []
  },
  {
   "cell_type": "code",
   "execution_count": 60,
   "metadata": {
    "collapsed": true
   },
   "outputs": [],
   "source": [
    "###############\n",
    "# Split a polyline into equal sized segments"
   ]
  },
  {
   "cell_type": "code",
   "execution_count": 134,
   "metadata": {
    "collapsed": true
   },
   "outputs": [],
   "source": [
    "# Use a small version of the transRefEdges for testing\n",
    "# in_fc = r\"D:\\slope\\test.gdb\\test_transRefEdges\"\n",
    "in_fc = r\"D:\\slope\\test.gdb\\transRefEdges\""
   ]
  },
  {
   "cell_type": "code",
   "execution_count": 190,
   "metadata": {
    "collapsed": true
   },
   "outputs": [],
   "source": [
    "fields = arcpy.ListFields(in_fc, \"\", \"\")"
   ]
  },
  {
   "cell_type": "code",
   "execution_count": 191,
   "metadata": {
    "collapsed": false
   },
   "outputs": [],
   "source": [
    "# for i in xrange(len(fields)):\n",
    "#     print fields[i].name\n",
    "\n",
    "# try storing points in a dictionary\n",
    "results = {}"
   ]
  },
  {
   "cell_type": "code",
   "execution_count": 192,
   "metadata": {
    "collapsed": true
   },
   "outputs": [],
   "source": [
    "# Add a new field to the \n",
    "# arcpy.AddField_management(fc, \"Name\", \"TEXT\", field_length = 50)"
   ]
  },
  {
   "cell_type": "code",
   "execution_count": 188,
   "metadata": {
    "collapsed": false
   },
   "outputs": [],
   "source": [
    "# fields = arcpy.ListFields(in_fc, \"\", \"\")\n",
    "# for field in fields: print field.name\n",
    "# # fields"
   ]
  },
  {
   "cell_type": "code",
   "execution_count": 135,
   "metadata": {
    "collapsed": false
   },
   "outputs": [
    {
     "ename": "KeyboardInterrupt",
     "evalue": "",
     "output_type": "error",
     "traceback": [
      "\u001b[1;31m---------------------------------------------------------------------------\u001b[0m",
      "\u001b[1;31mKeyboardInterrupt\u001b[0m                         Traceback (most recent call last)",
      "\u001b[1;32m<ipython-input-135-b687acda9f39>\u001b[0m in \u001b[0;36m<module>\u001b[1;34m()\u001b[0m\n\u001b[0;32m     22\u001b[0m             \u001b[0mpoint\u001b[0m \u001b[1;33m=\u001b[0m \u001b[0mrow\u001b[0m\u001b[1;33m[\u001b[0m\u001b[1;36m0\u001b[0m\u001b[1;33m]\u001b[0m\u001b[1;33m.\u001b[0m\u001b[0mpositionAlongLine\u001b[0m\u001b[1;33m(\u001b[0m\u001b[0mi\u001b[0m\u001b[1;33m*\u001b[0m\u001b[0msegment_len\u001b[0m\u001b[1;33m)\u001b[0m\u001b[1;33m\u001b[0m\u001b[0m\n\u001b[0;32m     23\u001b[0m             \u001b[0mpoints\u001b[0m\u001b[1;33m.\u001b[0m\u001b[0mappend\u001b[0m\u001b[1;33m(\u001b[0m\u001b[0mpoint\u001b[0m\u001b[1;33m)\u001b[0m\u001b[1;33m\u001b[0m\u001b[0m\n\u001b[1;32m---> 24\u001b[1;33m             \u001b[0mx\u001b[0m \u001b[1;33m=\u001b[0m \u001b[0mpoint\u001b[0m\u001b[1;33m.\u001b[0m\u001b[0mfirstPoint\u001b[0m\u001b[1;33m.\u001b[0m\u001b[0mX\u001b[0m\u001b[1;33m\u001b[0m\u001b[0m\n\u001b[0m\u001b[0;32m     25\u001b[0m             \u001b[0my\u001b[0m \u001b[1;33m=\u001b[0m \u001b[0mpoint\u001b[0m\u001b[1;33m.\u001b[0m\u001b[0mfirstPoint\u001b[0m\u001b[1;33m.\u001b[0m\u001b[0mY\u001b[0m\u001b[1;33m\u001b[0m\u001b[0m\n\u001b[0;32m     26\u001b[0m             \u001b[0mpoint_list\u001b[0m \u001b[1;33m=\u001b[0m \u001b[1;33m[\u001b[0m\u001b[1;33m]\u001b[0m\u001b[1;33m\u001b[0m\u001b[0m\n",
      "\u001b[1;32mC:\\Program Files (x86)\\ArcGIS\\Desktop10.3\\ArcPy\\arcpy\\arcobjects\\_base.pyc\u001b[0m in \u001b[0;36m_get\u001b[1;34m(self)\u001b[0m\n\u001b[0;32m     69\u001b[0m \u001b[1;33m\u001b[0m\u001b[0m\n\u001b[0;32m     70\u001b[0m \u001b[1;32mdef\u001b[0m \u001b[0mpassthrough_attr\u001b[0m\u001b[1;33m(\u001b[0m\u001b[0mattr_name\u001b[0m\u001b[1;33m,\u001b[0m \u001b[0mdoc\u001b[0m\u001b[1;33m=\u001b[0m\u001b[0mNone\u001b[0m\u001b[1;33m)\u001b[0m\u001b[1;33m:\u001b[0m\u001b[1;33m\u001b[0m\u001b[0m\n\u001b[1;32m---> 71\u001b[1;33m     \u001b[1;32mdef\u001b[0m \u001b[0m_get\u001b[0m\u001b[1;33m(\u001b[0m\u001b[0mself\u001b[0m\u001b[1;33m)\u001b[0m\u001b[1;33m:\u001b[0m\u001b[1;33m\u001b[0m\u001b[0m\n\u001b[0m\u001b[0;32m     72\u001b[0m         \u001b[1;32mtry\u001b[0m\u001b[1;33m:\u001b[0m\u001b[1;33m\u001b[0m\u001b[0m\n\u001b[0;32m     73\u001b[0m             \u001b[1;32mreturn\u001b[0m \u001b[0mconvertArcObjectToPythonObject\u001b[0m\u001b[1;33m(\u001b[0m\u001b[0mgetattr\u001b[0m\u001b[1;33m(\u001b[0m\u001b[0mself\u001b[0m\u001b[1;33m.\u001b[0m\u001b[0m_arc_object\u001b[0m\u001b[1;33m,\u001b[0m \u001b[0mattr_name\u001b[0m\u001b[1;33m)\u001b[0m\u001b[1;33m)\u001b[0m\u001b[1;33m\u001b[0m\u001b[0m\n",
      "\u001b[1;31mKeyboardInterrupt\u001b[0m: "
     ]
    }
   ],
   "source": [
    "# Loop through each polyline and split the line into points, saving them in points array\n",
    "points = []\n",
    "sr = arcpy.Describe(in_fc).spatialReference\n",
    "counter = 0\n",
    "\n",
    "final_result = []\n",
    "\n",
    "with arcpy.da.SearchCursor(in_fc,[\"SHAPE@\",'PSRCEdgeID'], spatial_reference=sr) as cursor:  \n",
    "    for row in cursor:\n",
    "        \n",
    "        # Set the step based on the line's length\n",
    "        #print row[0].length\n",
    "        # How many times must the line be split\n",
    "        # Assuming we want 10 foot segments\n",
    "        segment_len = 10\n",
    "        split_count = int(row[0].length/segment_len)\n",
    "        #print 'step: ' + str(step)\n",
    "        #print \"edgeID: \" + str(row[1])\n",
    "        # list of points for each edgeId\n",
    "        big_output = []\n",
    "        for i in range(split_count):\n",
    "            point = row[0].positionAlongLine(i*segment_len)\n",
    "            points.append(point)\n",
    "            x = point.firstPoint.X\n",
    "            y = point.firstPoint.Y\n",
    "            point_list = []\n",
    "            point_list.append(x)\n",
    "            point_list.append(y)\n",
    "            output = (str(row[1]), (x, y))\n",
    "            final_result.append(output)\n",
    "            #local_points.append(points)\n",
    "        #my_dict[row[1]] = local_points"
   ]
  },
  {
   "cell_type": "code",
   "execution_count": 96,
   "metadata": {
    "collapsed": false
   },
   "outputs": [
    {
     "data": {
      "text/plain": [
       "<Result 'D:\\\\slope\\\\test.gdb\\\\tupletest1'>"
      ]
     },
     "execution_count": 96,
     "metadata": {},
     "output_type": "execute_result"
    }
   ],
   "source": [
    "# Send final result to a feature class\n",
    "\n",
    "# First make a new empty feature class\n",
    "arcpy.CreateFeatureclass_management(out_path=r'D:\\slope\\test.gdb', out_name='tupletest1', \n",
    "                                    geometry_type='POINT', template='',\n",
    "                                    spatial_reference=sr)"
   ]
  },
  {
   "cell_type": "code",
   "execution_count": 102,
   "metadata": {
    "collapsed": true
   },
   "outputs": [],
   "source": [
    "arcpy.env.workspace = r'D:\\slope\\test.gdb'"
   ]
  },
  {
   "cell_type": "code",
   "execution_count": 107,
   "metadata": {
    "collapsed": false
   },
   "outputs": [
    {
     "data": {
      "text/plain": [
       "<Result 'D:\\\\slope\\\\test.gdb\\\\tupletest1'>"
      ]
     },
     "execution_count": 107,
     "metadata": {},
     "output_type": "execute_result"
    }
   ],
   "source": [
    "# Add a column so we can add the EdgeID\n",
    "arcpy.AddField_management('tupletest1', \"PSRCEdgeID\", \"LONG\", field_length = 50)"
   ]
  },
  {
   "cell_type": "code",
   "execution_count": 113,
   "metadata": {
    "collapsed": false
   },
   "outputs": [],
   "source": [
    "cursor = arcpy.da.InsertCursor(r'D:\\slope\\test.gdb\\tupletest1', ('PSRCEdgeID', 'SHAPE@XY'))"
   ]
  },
  {
   "cell_type": "code",
   "execution_count": 116,
   "metadata": {
    "collapsed": false
   },
   "outputs": [
    {
     "ename": "NameError",
     "evalue": "name 'cursor' is not defined",
     "output_type": "error",
     "traceback": [
      "\u001b[1;31m---------------------------------------------------------------------------\u001b[0m",
      "\u001b[1;31mNameError\u001b[0m                                 Traceback (most recent call last)",
      "\u001b[1;32m<ipython-input-116-88d50fe30d0c>\u001b[0m in \u001b[0;36m<module>\u001b[1;34m()\u001b[0m\n\u001b[0;32m      1\u001b[0m \u001b[1;31m# Add a row for each point that we created\u001b[0m\u001b[1;33m\u001b[0m\u001b[1;33m\u001b[0m\u001b[0m\n\u001b[0;32m      2\u001b[0m \u001b[1;32mfor\u001b[0m \u001b[0mrow\u001b[0m \u001b[1;32min\u001b[0m \u001b[0mfinal_result\u001b[0m\u001b[1;33m:\u001b[0m\u001b[1;33m\u001b[0m\u001b[0m\n\u001b[1;32m----> 3\u001b[1;33m     \u001b[0mcursor\u001b[0m\u001b[1;33m.\u001b[0m\u001b[0minsertRow\u001b[0m\u001b[1;33m(\u001b[0m\u001b[0mrow\u001b[0m\u001b[1;33m)\u001b[0m\u001b[1;33m\u001b[0m\u001b[0m\n\u001b[0m\u001b[0;32m      4\u001b[0m \u001b[1;32mdel\u001b[0m \u001b[0mcursor\u001b[0m\u001b[1;33m\u001b[0m\u001b[0m\n",
      "\u001b[1;31mNameError\u001b[0m: name 'cursor' is not defined"
     ]
    }
   ],
   "source": [
    "# Add a row for each point that we created\n",
    "# for row in final_result:\n",
    "#     cursor.insertRow(row)\n",
    "# del cursor"
   ]
  },
  {
   "cell_type": "code",
   "execution_count": null,
   "metadata": {
    "collapsed": false
   },
   "outputs": [],
   "source": []
  },
  {
   "cell_type": "code",
   "execution_count": 68,
   "metadata": {
    "collapsed": false
   },
   "outputs": [
    {
     "data": {
      "text/plain": [
       "[('1', (2, 3))]"
      ]
     },
     "execution_count": 68,
     "metadata": {},
     "output_type": "execute_result"
    }
   ],
   "source": [
    "other = []\n",
    "other.append(test)\n",
    "other"
   ]
  },
  {
   "cell_type": "code",
   "execution_count": 57,
   "metadata": {
    "collapsed": false
   },
   "outputs": [],
   "source": [
    "# point_list = \n",
    "# point_list.append('xvalue')\n",
    "# point_list.append('yvalue')\n",
    "# a_list = tuple(point_list)\n",
    "my_thing = ('xvalue', 'yvalue')"
   ]
  },
  {
   "cell_type": "code",
   "execution_count": 61,
   "metadata": {
    "collapsed": false
   },
   "outputs": [],
   "source": [
    "test = tuple(my_thing)"
   ]
  },
  {
   "cell_type": "code",
   "execution_count": 62,
   "metadata": {
    "collapsed": false
   },
   "outputs": [
    {
     "data": {
      "text/plain": [
       "('xvalue', 'yvalue')"
      ]
     },
     "execution_count": 62,
     "metadata": {},
     "output_type": "execute_result"
    }
   ],
   "source": [
    "test"
   ]
  },
  {
   "cell_type": "code",
   "execution_count": 201,
   "metadata": {
    "collapsed": false
   },
   "outputs": [
    {
     "data": {
      "text/plain": [
       "<Result 'D:\\\\slope\\\\test.gdb\\\\fresh_points'>"
      ]
     },
     "execution_count": 201,
     "metadata": {},
     "output_type": "execute_result"
    }
   ],
   "source": [
    "# Export these points as a feature class\n",
    "point_out = r'\\fresh_points'\n",
    "arcpy.CopyFeatures_management(points, r\"D:\\slope\\test.gdb\" + point_out) "
   ]
  },
  {
   "cell_type": "code",
   "execution_count": null,
   "metadata": {
    "collapsed": true
   },
   "outputs": [],
   "source": [
    "# Note: cannot just intersect points and lines because the order of the \n",
    "# point creation is lost! Probably because lat long algorithm behind the intersect\n",
    "# Need to tag line informatin onto the points data instead..."
   ]
  },
  {
   "cell_type": "code",
   "execution_count": 204,
   "metadata": {
    "collapsed": false
   },
   "outputs": [
    {
     "data": {
      "text/plain": [
       "<Result 'D:\\\\slope\\\\test.gdb\\\\points_edges_join'>"
      ]
     },
     "execution_count": 204,
     "metadata": {},
     "output_type": "execute_result"
    }
   ],
   "source": [
    "# Before calculating slopes, intersect the points and the TransRefEdges file to get PSRCEdgeID for each point\n",
    "########### NO LONGER USING< DOESN't WORK!\n",
    "# arcpy.env.workspace = r'D:\\slope\\test.gdb'\n",
    "# arcpy.Intersect_analysis(in_features=['fresh_points', 'test_transRefEdges'], \n",
    "#                          out_feature_class= r'D:\\slope\\test.gdb\\points_edges_join', \n",
    "#                          output_type='POINT')"
   ]
  },
  {
   "cell_type": "code",
   "execution_count": null,
   "metadata": {
    "collapsed": true
   },
   "outputs": [],
   "source": [
    "# Extract raster elevation value to the points to get an elevation field\n",
    "# Must be done manually because spatial analyst license problems\n",
    "# arcpy.ExtractValuesToPoints(in_point_features='points_edges_join', \n",
    "#                             in_raster='PSRC30ft_edited_h1', \n",
    "#                             out_point_features='points_with_elevation')\n"
   ]
  },
  {
   "cell_type": "code",
   "execution_count": 214,
   "metadata": {
    "collapsed": false
   },
   "outputs": [],
   "source": [
    "# The current raster is at 30ft intervals (i.e., 30x30' squares of elevation variation). Elevation should be in feet for this raster.\n",
    "# May be updating this data at some point.\n",
    "# Saving output as \"points_with_elevation\" in the test gdb"
   ]
  },
  {
   "cell_type": "code",
   "execution_count": 215,
   "metadata": {
    "collapsed": true
   },
   "outputs": [],
   "source": [
    "# The result places elevation in the \"RASTERVALU\" column."
   ]
  },
  {
   "cell_type": "code",
   "execution_count": 216,
   "metadata": {
    "collapsed": true
   },
   "outputs": [],
   "source": [
    "# Now we can process the results in pandas/numpy"
   ]
  },
  {
   "cell_type": "code",
   "execution_count": 2,
   "metadata": {
    "collapsed": true
   },
   "outputs": [],
   "source": [
    "# Load in the shapefile of points with elevation\n",
    "elevation_shp = arcpy.da.FeatureClassToNumPyArray(r\"D:\\slope\\test.gdb\\full_net_with_elevation\", ('RASTERVALU','PSRCEdgeID'))"
   ]
  },
  {
   "cell_type": "code",
   "execution_count": 21,
   "metadata": {
    "collapsed": false
   },
   "outputs": [],
   "source": [
    "# Load results as a dataframe and group results by Edge ID\n",
    "df = pd.DataFrame(elevation_shp)"
   ]
  },
  {
   "cell_type": "code",
   "execution_count": 5,
   "metadata": {
    "collapsed": false
   },
   "outputs": [
    {
     "data": {
      "text/plain": [
       "15489769"
      ]
     },
     "execution_count": 5,
     "metadata": {},
     "output_type": "execute_result"
    }
   ],
   "source": [
    "len(df)"
   ]
  },
  {
   "cell_type": "code",
   "execution_count": null,
   "metadata": {
    "collapsed": true
   },
   "outputs": [],
   "source": []
  },
  {
   "cell_type": "code",
   "execution_count": 23,
   "metadata": {
    "collapsed": false
   },
   "outputs": [],
   "source": [
    "# Ach! We also need edge length\n",
    "# Load in the edges shapefile with numpy and join in pandas?\n",
    "edges = arcpy.da.FeatureClassToNumPyArray(r\"D:\\slope\\test.gdb\\test_transRefEdges\", ('PSRCEdgeID', 'Shape_Length'))\n",
    "edges_df = pd.DataFrame(edges)\n",
    "\n",
    "# Now merge the two dfs\n",
    "df = df.merge(edges_df)"
   ]
  },
  {
   "cell_type": "code",
   "execution_count": 24,
   "metadata": {
    "collapsed": false
   },
   "outputs": [],
   "source": [
    "# Get the length\n",
    "df['edgeID']= df['PSRCEdgeID']\n",
    "length = df.groupby('PSRCEdgeID').min()[['Shape_Length','edgeID']]"
   ]
  },
  {
   "cell_type": "code",
   "execution_count": 25,
   "metadata": {
    "collapsed": false
   },
   "outputs": [],
   "source": [
    "# Get a list of all unique Edge IDs\n",
    "edges = df.groupby('PSRCEdgeID').mean().index"
   ]
  },
  {
   "cell_type": "code",
   "execution_count": 26,
   "metadata": {
    "collapsed": false
   },
   "outputs": [
    {
     "data": {
      "text/html": [
       "<div>\n",
       "<table border=\"1\" class=\"dataframe\">\n",
       "  <thead>\n",
       "    <tr style=\"text-align: right;\">\n",
       "      <th></th>\n",
       "      <th>RASTERVALU</th>\n",
       "      <th>PSRCEdgeID</th>\n",
       "      <th>Shape_Length</th>\n",
       "      <th>edgeID</th>\n",
       "    </tr>\n",
       "  </thead>\n",
       "  <tbody>\n",
       "    <tr>\n",
       "      <th>0</th>\n",
       "      <td>21.292835</td>\n",
       "      <td>39</td>\n",
       "      <td>940.034381</td>\n",
       "      <td>39</td>\n",
       "    </tr>\n",
       "    <tr>\n",
       "      <th>1</th>\n",
       "      <td>21.292835</td>\n",
       "      <td>39</td>\n",
       "      <td>940.034381</td>\n",
       "      <td>39</td>\n",
       "    </tr>\n",
       "    <tr>\n",
       "      <th>2</th>\n",
       "      <td>21.292835</td>\n",
       "      <td>39</td>\n",
       "      <td>940.034381</td>\n",
       "      <td>39</td>\n",
       "    </tr>\n",
       "    <tr>\n",
       "      <th>3</th>\n",
       "      <td>21.632460</td>\n",
       "      <td>39</td>\n",
       "      <td>940.034381</td>\n",
       "      <td>39</td>\n",
       "    </tr>\n",
       "    <tr>\n",
       "      <th>4</th>\n",
       "      <td>21.632460</td>\n",
       "      <td>39</td>\n",
       "      <td>940.034381</td>\n",
       "      <td>39</td>\n",
       "    </tr>\n",
       "    <tr>\n",
       "      <th>5</th>\n",
       "      <td>21.632460</td>\n",
       "      <td>39</td>\n",
       "      <td>940.034381</td>\n",
       "      <td>39</td>\n",
       "    </tr>\n",
       "    <tr>\n",
       "      <th>6</th>\n",
       "      <td>21.632460</td>\n",
       "      <td>39</td>\n",
       "      <td>940.034381</td>\n",
       "      <td>39</td>\n",
       "    </tr>\n",
       "    <tr>\n",
       "      <th>7</th>\n",
       "      <td>22.684933</td>\n",
       "      <td>39</td>\n",
       "      <td>940.034381</td>\n",
       "      <td>39</td>\n",
       "    </tr>\n",
       "    <tr>\n",
       "      <th>8</th>\n",
       "      <td>22.684933</td>\n",
       "      <td>39</td>\n",
       "      <td>940.034381</td>\n",
       "      <td>39</td>\n",
       "    </tr>\n",
       "    <tr>\n",
       "      <th>9</th>\n",
       "      <td>22.684933</td>\n",
       "      <td>39</td>\n",
       "      <td>940.034381</td>\n",
       "      <td>39</td>\n",
       "    </tr>\n",
       "    <tr>\n",
       "      <th>10</th>\n",
       "      <td>22.676037</td>\n",
       "      <td>39</td>\n",
       "      <td>940.034381</td>\n",
       "      <td>39</td>\n",
       "    </tr>\n",
       "    <tr>\n",
       "      <th>11</th>\n",
       "      <td>22.676037</td>\n",
       "      <td>39</td>\n",
       "      <td>940.034381</td>\n",
       "      <td>39</td>\n",
       "    </tr>\n",
       "    <tr>\n",
       "      <th>12</th>\n",
       "      <td>22.676037</td>\n",
       "      <td>39</td>\n",
       "      <td>940.034381</td>\n",
       "      <td>39</td>\n",
       "    </tr>\n",
       "    <tr>\n",
       "      <th>13</th>\n",
       "      <td>22.034706</td>\n",
       "      <td>39</td>\n",
       "      <td>940.034381</td>\n",
       "      <td>39</td>\n",
       "    </tr>\n",
       "    <tr>\n",
       "      <th>14</th>\n",
       "      <td>22.034706</td>\n",
       "      <td>39</td>\n",
       "      <td>940.034381</td>\n",
       "      <td>39</td>\n",
       "    </tr>\n",
       "    <tr>\n",
       "      <th>15</th>\n",
       "      <td>20.538937</td>\n",
       "      <td>39</td>\n",
       "      <td>940.034381</td>\n",
       "      <td>39</td>\n",
       "    </tr>\n",
       "    <tr>\n",
       "      <th>16</th>\n",
       "      <td>19.412718</td>\n",
       "      <td>39</td>\n",
       "      <td>940.034381</td>\n",
       "      <td>39</td>\n",
       "    </tr>\n",
       "    <tr>\n",
       "      <th>17</th>\n",
       "      <td>19.412718</td>\n",
       "      <td>39</td>\n",
       "      <td>940.034381</td>\n",
       "      <td>39</td>\n",
       "    </tr>\n",
       "    <tr>\n",
       "      <th>18</th>\n",
       "      <td>19.412718</td>\n",
       "      <td>39</td>\n",
       "      <td>940.034381</td>\n",
       "      <td>39</td>\n",
       "    </tr>\n",
       "    <tr>\n",
       "      <th>19</th>\n",
       "      <td>19.412718</td>\n",
       "      <td>39</td>\n",
       "      <td>940.034381</td>\n",
       "      <td>39</td>\n",
       "    </tr>\n",
       "    <tr>\n",
       "      <th>20</th>\n",
       "      <td>18.710392</td>\n",
       "      <td>39</td>\n",
       "      <td>940.034381</td>\n",
       "      <td>39</td>\n",
       "    </tr>\n",
       "    <tr>\n",
       "      <th>21</th>\n",
       "      <td>18.710392</td>\n",
       "      <td>39</td>\n",
       "      <td>940.034381</td>\n",
       "      <td>39</td>\n",
       "    </tr>\n",
       "    <tr>\n",
       "      <th>22</th>\n",
       "      <td>18.710392</td>\n",
       "      <td>39</td>\n",
       "      <td>940.034381</td>\n",
       "      <td>39</td>\n",
       "    </tr>\n",
       "    <tr>\n",
       "      <th>23</th>\n",
       "      <td>19.437492</td>\n",
       "      <td>39</td>\n",
       "      <td>940.034381</td>\n",
       "      <td>39</td>\n",
       "    </tr>\n",
       "    <tr>\n",
       "      <th>24</th>\n",
       "      <td>19.437492</td>\n",
       "      <td>39</td>\n",
       "      <td>940.034381</td>\n",
       "      <td>39</td>\n",
       "    </tr>\n",
       "    <tr>\n",
       "      <th>25</th>\n",
       "      <td>19.437492</td>\n",
       "      <td>39</td>\n",
       "      <td>940.034381</td>\n",
       "      <td>39</td>\n",
       "    </tr>\n",
       "    <tr>\n",
       "      <th>26</th>\n",
       "      <td>20.392790</td>\n",
       "      <td>39</td>\n",
       "      <td>940.034381</td>\n",
       "      <td>39</td>\n",
       "    </tr>\n",
       "    <tr>\n",
       "      <th>27</th>\n",
       "      <td>20.392790</td>\n",
       "      <td>39</td>\n",
       "      <td>940.034381</td>\n",
       "      <td>39</td>\n",
       "    </tr>\n",
       "    <tr>\n",
       "      <th>28</th>\n",
       "      <td>20.392790</td>\n",
       "      <td>39</td>\n",
       "      <td>940.034381</td>\n",
       "      <td>39</td>\n",
       "    </tr>\n",
       "    <tr>\n",
       "      <th>29</th>\n",
       "      <td>20.593309</td>\n",
       "      <td>39</td>\n",
       "      <td>940.034381</td>\n",
       "      <td>39</td>\n",
       "    </tr>\n",
       "    <tr>\n",
       "      <th>...</th>\n",
       "      <td>...</td>\n",
       "      <td>...</td>\n",
       "      <td>...</td>\n",
       "      <td>...</td>\n",
       "    </tr>\n",
       "    <tr>\n",
       "      <th>12486</th>\n",
       "      <td>238.858444</td>\n",
       "      <td>27</td>\n",
       "      <td>20492.551214</td>\n",
       "      <td>27</td>\n",
       "    </tr>\n",
       "    <tr>\n",
       "      <th>12487</th>\n",
       "      <td>238.858444</td>\n",
       "      <td>27</td>\n",
       "      <td>20492.551214</td>\n",
       "      <td>27</td>\n",
       "    </tr>\n",
       "    <tr>\n",
       "      <th>12488</th>\n",
       "      <td>238.858444</td>\n",
       "      <td>27</td>\n",
       "      <td>20492.551214</td>\n",
       "      <td>27</td>\n",
       "    </tr>\n",
       "    <tr>\n",
       "      <th>12489</th>\n",
       "      <td>240.082230</td>\n",
       "      <td>27</td>\n",
       "      <td>20492.551214</td>\n",
       "      <td>27</td>\n",
       "    </tr>\n",
       "    <tr>\n",
       "      <th>12490</th>\n",
       "      <td>240.082230</td>\n",
       "      <td>27</td>\n",
       "      <td>20492.551214</td>\n",
       "      <td>27</td>\n",
       "    </tr>\n",
       "    <tr>\n",
       "      <th>12491</th>\n",
       "      <td>240.082230</td>\n",
       "      <td>27</td>\n",
       "      <td>20492.551214</td>\n",
       "      <td>27</td>\n",
       "    </tr>\n",
       "    <tr>\n",
       "      <th>12492</th>\n",
       "      <td>239.366837</td>\n",
       "      <td>27</td>\n",
       "      <td>20492.551214</td>\n",
       "      <td>27</td>\n",
       "    </tr>\n",
       "    <tr>\n",
       "      <th>12493</th>\n",
       "      <td>239.366837</td>\n",
       "      <td>27</td>\n",
       "      <td>20492.551214</td>\n",
       "      <td>27</td>\n",
       "    </tr>\n",
       "    <tr>\n",
       "      <th>12494</th>\n",
       "      <td>239.366837</td>\n",
       "      <td>27</td>\n",
       "      <td>20492.551214</td>\n",
       "      <td>27</td>\n",
       "    </tr>\n",
       "    <tr>\n",
       "      <th>12495</th>\n",
       "      <td>241.370850</td>\n",
       "      <td>27</td>\n",
       "      <td>20492.551214</td>\n",
       "      <td>27</td>\n",
       "    </tr>\n",
       "    <tr>\n",
       "      <th>12496</th>\n",
       "      <td>241.370850</td>\n",
       "      <td>27</td>\n",
       "      <td>20492.551214</td>\n",
       "      <td>27</td>\n",
       "    </tr>\n",
       "    <tr>\n",
       "      <th>12497</th>\n",
       "      <td>241.370850</td>\n",
       "      <td>27</td>\n",
       "      <td>20492.551214</td>\n",
       "      <td>27</td>\n",
       "    </tr>\n",
       "    <tr>\n",
       "      <th>12498</th>\n",
       "      <td>242.011887</td>\n",
       "      <td>27</td>\n",
       "      <td>20492.551214</td>\n",
       "      <td>27</td>\n",
       "    </tr>\n",
       "    <tr>\n",
       "      <th>12499</th>\n",
       "      <td>242.011887</td>\n",
       "      <td>27</td>\n",
       "      <td>20492.551214</td>\n",
       "      <td>27</td>\n",
       "    </tr>\n",
       "    <tr>\n",
       "      <th>12500</th>\n",
       "      <td>242.011887</td>\n",
       "      <td>27</td>\n",
       "      <td>20492.551214</td>\n",
       "      <td>27</td>\n",
       "    </tr>\n",
       "    <tr>\n",
       "      <th>12501</th>\n",
       "      <td>242.011887</td>\n",
       "      <td>27</td>\n",
       "      <td>20492.551214</td>\n",
       "      <td>27</td>\n",
       "    </tr>\n",
       "    <tr>\n",
       "      <th>12502</th>\n",
       "      <td>241.978394</td>\n",
       "      <td>27</td>\n",
       "      <td>20492.551214</td>\n",
       "      <td>27</td>\n",
       "    </tr>\n",
       "    <tr>\n",
       "      <th>12503</th>\n",
       "      <td>241.978394</td>\n",
       "      <td>27</td>\n",
       "      <td>20492.551214</td>\n",
       "      <td>27</td>\n",
       "    </tr>\n",
       "    <tr>\n",
       "      <th>12504</th>\n",
       "      <td>241.978394</td>\n",
       "      <td>27</td>\n",
       "      <td>20492.551214</td>\n",
       "      <td>27</td>\n",
       "    </tr>\n",
       "    <tr>\n",
       "      <th>12505</th>\n",
       "      <td>242.233078</td>\n",
       "      <td>27</td>\n",
       "      <td>20492.551214</td>\n",
       "      <td>27</td>\n",
       "    </tr>\n",
       "    <tr>\n",
       "      <th>12506</th>\n",
       "      <td>242.233078</td>\n",
       "      <td>27</td>\n",
       "      <td>20492.551214</td>\n",
       "      <td>27</td>\n",
       "    </tr>\n",
       "    <tr>\n",
       "      <th>12507</th>\n",
       "      <td>242.233078</td>\n",
       "      <td>27</td>\n",
       "      <td>20492.551214</td>\n",
       "      <td>27</td>\n",
       "    </tr>\n",
       "    <tr>\n",
       "      <th>12508</th>\n",
       "      <td>249.730545</td>\n",
       "      <td>27</td>\n",
       "      <td>20492.551214</td>\n",
       "      <td>27</td>\n",
       "    </tr>\n",
       "    <tr>\n",
       "      <th>12509</th>\n",
       "      <td>249.730545</td>\n",
       "      <td>27</td>\n",
       "      <td>20492.551214</td>\n",
       "      <td>27</td>\n",
       "    </tr>\n",
       "    <tr>\n",
       "      <th>12510</th>\n",
       "      <td>249.730545</td>\n",
       "      <td>27</td>\n",
       "      <td>20492.551214</td>\n",
       "      <td>27</td>\n",
       "    </tr>\n",
       "    <tr>\n",
       "      <th>12511</th>\n",
       "      <td>264.077118</td>\n",
       "      <td>27</td>\n",
       "      <td>20492.551214</td>\n",
       "      <td>27</td>\n",
       "    </tr>\n",
       "    <tr>\n",
       "      <th>12512</th>\n",
       "      <td>248.853363</td>\n",
       "      <td>27</td>\n",
       "      <td>20492.551214</td>\n",
       "      <td>27</td>\n",
       "    </tr>\n",
       "    <tr>\n",
       "      <th>12513</th>\n",
       "      <td>248.853363</td>\n",
       "      <td>27</td>\n",
       "      <td>20492.551214</td>\n",
       "      <td>27</td>\n",
       "    </tr>\n",
       "    <tr>\n",
       "      <th>12514</th>\n",
       "      <td>265.844482</td>\n",
       "      <td>27</td>\n",
       "      <td>20492.551214</td>\n",
       "      <td>27</td>\n",
       "    </tr>\n",
       "    <tr>\n",
       "      <th>12515</th>\n",
       "      <td>265.844482</td>\n",
       "      <td>27</td>\n",
       "      <td>20492.551214</td>\n",
       "      <td>27</td>\n",
       "    </tr>\n",
       "  </tbody>\n",
       "</table>\n",
       "<p>12516 rows × 4 columns</p>\n",
       "</div>"
      ],
      "text/plain": [
       "       RASTERVALU  PSRCEdgeID  Shape_Length  edgeID\n",
       "0       21.292835          39    940.034381      39\n",
       "1       21.292835          39    940.034381      39\n",
       "2       21.292835          39    940.034381      39\n",
       "3       21.632460          39    940.034381      39\n",
       "4       21.632460          39    940.034381      39\n",
       "5       21.632460          39    940.034381      39\n",
       "6       21.632460          39    940.034381      39\n",
       "7       22.684933          39    940.034381      39\n",
       "8       22.684933          39    940.034381      39\n",
       "9       22.684933          39    940.034381      39\n",
       "10      22.676037          39    940.034381      39\n",
       "11      22.676037          39    940.034381      39\n",
       "12      22.676037          39    940.034381      39\n",
       "13      22.034706          39    940.034381      39\n",
       "14      22.034706          39    940.034381      39\n",
       "15      20.538937          39    940.034381      39\n",
       "16      19.412718          39    940.034381      39\n",
       "17      19.412718          39    940.034381      39\n",
       "18      19.412718          39    940.034381      39\n",
       "19      19.412718          39    940.034381      39\n",
       "20      18.710392          39    940.034381      39\n",
       "21      18.710392          39    940.034381      39\n",
       "22      18.710392          39    940.034381      39\n",
       "23      19.437492          39    940.034381      39\n",
       "24      19.437492          39    940.034381      39\n",
       "25      19.437492          39    940.034381      39\n",
       "26      20.392790          39    940.034381      39\n",
       "27      20.392790          39    940.034381      39\n",
       "28      20.392790          39    940.034381      39\n",
       "29      20.593309          39    940.034381      39\n",
       "...           ...         ...           ...     ...\n",
       "12486  238.858444          27  20492.551214      27\n",
       "12487  238.858444          27  20492.551214      27\n",
       "12488  238.858444          27  20492.551214      27\n",
       "12489  240.082230          27  20492.551214      27\n",
       "12490  240.082230          27  20492.551214      27\n",
       "12491  240.082230          27  20492.551214      27\n",
       "12492  239.366837          27  20492.551214      27\n",
       "12493  239.366837          27  20492.551214      27\n",
       "12494  239.366837          27  20492.551214      27\n",
       "12495  241.370850          27  20492.551214      27\n",
       "12496  241.370850          27  20492.551214      27\n",
       "12497  241.370850          27  20492.551214      27\n",
       "12498  242.011887          27  20492.551214      27\n",
       "12499  242.011887          27  20492.551214      27\n",
       "12500  242.011887          27  20492.551214      27\n",
       "12501  242.011887          27  20492.551214      27\n",
       "12502  241.978394          27  20492.551214      27\n",
       "12503  241.978394          27  20492.551214      27\n",
       "12504  241.978394          27  20492.551214      27\n",
       "12505  242.233078          27  20492.551214      27\n",
       "12506  242.233078          27  20492.551214      27\n",
       "12507  242.233078          27  20492.551214      27\n",
       "12508  249.730545          27  20492.551214      27\n",
       "12509  249.730545          27  20492.551214      27\n",
       "12510  249.730545          27  20492.551214      27\n",
       "12511  264.077118          27  20492.551214      27\n",
       "12512  248.853363          27  20492.551214      27\n",
       "12513  248.853363          27  20492.551214      27\n",
       "12514  265.844482          27  20492.551214      27\n",
       "12515  265.844482          27  20492.551214      27\n",
       "\n",
       "[12516 rows x 4 columns]"
      ]
     },
     "execution_count": 26,
     "metadata": {},
     "output_type": "execute_result"
    }
   ],
   "source": [
    "df"
   ]
  },
  {
   "cell_type": "code",
   "execution_count": null,
   "metadata": {
    "collapsed": true
   },
   "outputs": [],
   "source": [
    "# NOTE:\n",
    "# When creating points, the method starts at the first vertex of an edge,\n",
    "# which is by convention the I-node for the digitized edge\n",
    "# We need the IJ slope as well as the JI slope, so we will perform 2 iterations over edges to calculate upslope"
   ]
  },
  {
   "cell_type": "code",
   "execution_count": 44,
   "metadata": {
    "collapsed": false
   },
   "outputs": [],
   "source": [
    "# Loop through all edges\n",
    "upslope_ij = {}\n",
    "upslope_ji = {}\n",
    "for edge in edges: # Replace [1] with edges when ready to loop over everything\n",
    "    edge_df = df.query(\"PSRCEdgeID == \" + str(edge))\n",
    "    # Extract the elevation data to numPy because it's faster to loop over\n",
    "    elev_data = edge_df['RASTERVALU'].values\n",
    "    # Loop through each point in each edge\n",
    "    upslope_ij[edge] = 0\n",
    "    upslope_ji[edge] = 0\n",
    "    for point in xrange(len(elev_data)-1):  # stop short of the list because we only want to compare the 2nd to last to last\n",
    "        elev_diff = elev_data[point+1] - elev_data[point]\n",
    "        if elev_diff > 0:\n",
    "            upslope_ij[edge] += elev_diff\n",
    "        elif elev_diff < 0:\n",
    "            upslope_ji[edge] += abs(elev_diff)      # since we know it will be \"negative\" for the JI direction when calculated\n",
    "                                                    # in references to the IJ direction"
   ]
  },
  {
   "cell_type": "code",
   "execution_count": 57,
   "metadata": {
    "collapsed": false
   },
   "outputs": [
    {
     "data": {
      "text/html": [
       "<div>\n",
       "<table border=\"1\" class=\"dataframe\">\n",
       "  <thead>\n",
       "    <tr style=\"text-align: right;\">\n",
       "      <th></th>\n",
       "      <th>1</th>\n",
       "      <th>2</th>\n",
       "      <th>3</th>\n",
       "      <th>5</th>\n",
       "      <th>7</th>\n",
       "      <th>8</th>\n",
       "      <th>20</th>\n",
       "      <th>26</th>\n",
       "      <th>27</th>\n",
       "      <th>29</th>\n",
       "      <th>...</th>\n",
       "      <th>159</th>\n",
       "      <th>160</th>\n",
       "      <th>161</th>\n",
       "      <th>163</th>\n",
       "      <th>164</th>\n",
       "      <th>165</th>\n",
       "      <th>169</th>\n",
       "      <th>170</th>\n",
       "      <th>171</th>\n",
       "      <th>172</th>\n",
       "    </tr>\n",
       "  </thead>\n",
       "  <tbody>\n",
       "    <tr>\n",
       "      <th>0</th>\n",
       "      <td>371.592758</td>\n",
       "      <td>45.506660</td>\n",
       "      <td>49.597279</td>\n",
       "      <td>490.041498</td>\n",
       "      <td>35.044041</td>\n",
       "      <td>92.659582</td>\n",
       "      <td>12.459839</td>\n",
       "      <td>76.259247</td>\n",
       "      <td>687.290070</td>\n",
       "      <td>188.374573</td>\n",
       "      <td>...</td>\n",
       "      <td>25.803696</td>\n",
       "      <td>762.00293</td>\n",
       "      <td>6.127695</td>\n",
       "      <td>50.204651</td>\n",
       "      <td>1.074886</td>\n",
       "      <td>329.423828</td>\n",
       "      <td>0.000000</td>\n",
       "      <td>47.423370</td>\n",
       "      <td>4.887360</td>\n",
       "      <td>182.904175</td>\n",
       "    </tr>\n",
       "    <tr>\n",
       "      <th>1</th>\n",
       "      <td>262.753494</td>\n",
       "      <td>40.233576</td>\n",
       "      <td>27.654609</td>\n",
       "      <td>486.875498</td>\n",
       "      <td>76.479980</td>\n",
       "      <td>155.491697</td>\n",
       "      <td>11.084167</td>\n",
       "      <td>87.205307</td>\n",
       "      <td>546.604004</td>\n",
       "      <td>261.661469</td>\n",
       "      <td>...</td>\n",
       "      <td>7.101471</td>\n",
       "      <td>423.12500</td>\n",
       "      <td>9.827912</td>\n",
       "      <td>53.829132</td>\n",
       "      <td>1.803417</td>\n",
       "      <td>187.498413</td>\n",
       "      <td>3.199051</td>\n",
       "      <td>0.284809</td>\n",
       "      <td>12.959885</td>\n",
       "      <td>177.150879</td>\n",
       "    </tr>\n",
       "  </tbody>\n",
       "</table>\n",
       "<p>2 rows × 79 columns</p>\n",
       "</div>"
      ],
      "text/plain": [
       "          1          2          3           5          7           8    \\\n",
       "0  371.592758  45.506660  49.597279  490.041498  35.044041   92.659582   \n",
       "1  262.753494  40.233576  27.654609  486.875498  76.479980  155.491697   \n",
       "\n",
       "         20         26          27          29      ...            159  \\\n",
       "0  12.459839  76.259247  687.290070  188.374573     ...      25.803696   \n",
       "1  11.084167  87.205307  546.604004  261.661469     ...       7.101471   \n",
       "\n",
       "         160       161        163       164         165       169        170  \\\n",
       "0  762.00293  6.127695  50.204651  1.074886  329.423828  0.000000  47.423370   \n",
       "1  423.12500  9.827912  53.829132  1.803417  187.498413  3.199051   0.284809   \n",
       "\n",
       "         171         172  \n",
       "0   4.887360  182.904175  \n",
       "1  12.959885  177.150879  \n",
       "\n",
       "[2 rows x 79 columns]"
      ]
     },
     "execution_count": 57,
     "metadata": {},
     "output_type": "execute_result"
    }
   ],
   "source": [
    "pd.DataFrame(data=[upslope_ij)"
   ]
  },
  {
   "cell_type": "code",
   "execution_count": 71,
   "metadata": {
    "collapsed": false
   },
   "outputs": [],
   "source": [
    "# Import dictionary to a series and attach upslope back on the original dataframe\n",
    "upslope_ij_s = pd.Series(upslope_ij, name='elev_gain_ij')\n",
    "upslope_ji_s = pd.Series(upslope_ji, name='elev_gain_ji')\n",
    "upslope_ij_s.index.name='edgeID'\n",
    "upslope_ij_s = upslope_ij_s.reset_index()\n",
    "upslope_ji_s.index.name='edgeID'\n",
    "upslope_ji_s = upslope_ji_s.reset_index()"
   ]
  },
  {
   "cell_type": "code",
   "execution_count": 72,
   "metadata": {
    "collapsed": false
   },
   "outputs": [],
   "source": [
    "newdf = upslope_ij_s.merge(upslope_ji_s)"
   ]
  },
  {
   "cell_type": "code",
   "execution_count": 73,
   "metadata": {
    "collapsed": false
   },
   "outputs": [],
   "source": [
    "# add in edge length\n",
    "newdf = newdf.merge(length)"
   ]
  },
  {
   "cell_type": "code",
   "execution_count": 74,
   "metadata": {
    "collapsed": false
   },
   "outputs": [],
   "source": [
    "# Calcualte the average upslope \n",
    "newdf['avg_upslope_ij'] = newdf['elev_gain_ij']/newdf['Shape_Length']\n",
    "newdf['avg_upslope_ji'] = newdf['elev_gain_ji']/newdf['Shape_Length']"
   ]
  },
  {
   "cell_type": "code",
   "execution_count": 77,
   "metadata": {
    "collapsed": false
   },
   "outputs": [
    {
     "data": {
      "text/html": [
       "<div>\n",
       "<table border=\"1\" class=\"dataframe\">\n",
       "  <thead>\n",
       "    <tr style=\"text-align: right;\">\n",
       "      <th></th>\n",
       "      <th>edgeID</th>\n",
       "      <th>elev_gain_ij</th>\n",
       "      <th>elev_gain_ji</th>\n",
       "      <th>Shape_Length</th>\n",
       "      <th>avg_upslope_ij</th>\n",
       "      <th>avg_upslope_ji</th>\n",
       "    </tr>\n",
       "  </thead>\n",
       "  <tbody>\n",
       "    <tr>\n",
       "      <th>0</th>\n",
       "      <td>1</td>\n",
       "      <td>371.592758</td>\n",
       "      <td>262.753494</td>\n",
       "      <td>4886.087587</td>\n",
       "      <td>0.076051</td>\n",
       "      <td>0.053776</td>\n",
       "    </tr>\n",
       "    <tr>\n",
       "      <th>1</th>\n",
       "      <td>2</td>\n",
       "      <td>45.506660</td>\n",
       "      <td>40.233576</td>\n",
       "      <td>2464.140052</td>\n",
       "      <td>0.018468</td>\n",
       "      <td>0.016328</td>\n",
       "    </tr>\n",
       "    <tr>\n",
       "      <th>2</th>\n",
       "      <td>3</td>\n",
       "      <td>49.597279</td>\n",
       "      <td>27.654609</td>\n",
       "      <td>1196.499466</td>\n",
       "      <td>0.041452</td>\n",
       "      <td>0.023113</td>\n",
       "    </tr>\n",
       "    <tr>\n",
       "      <th>3</th>\n",
       "      <td>5</td>\n",
       "      <td>490.041498</td>\n",
       "      <td>486.875498</td>\n",
       "      <td>12235.034954</td>\n",
       "      <td>0.040052</td>\n",
       "      <td>0.039794</td>\n",
       "    </tr>\n",
       "    <tr>\n",
       "      <th>4</th>\n",
       "      <td>7</td>\n",
       "      <td>35.044041</td>\n",
       "      <td>76.479980</td>\n",
       "      <td>1783.305434</td>\n",
       "      <td>0.019651</td>\n",
       "      <td>0.042887</td>\n",
       "    </tr>\n",
       "    <tr>\n",
       "      <th>5</th>\n",
       "      <td>8</td>\n",
       "      <td>92.659582</td>\n",
       "      <td>155.491697</td>\n",
       "      <td>4516.027224</td>\n",
       "      <td>0.020518</td>\n",
       "      <td>0.034431</td>\n",
       "    </tr>\n",
       "    <tr>\n",
       "      <th>6</th>\n",
       "      <td>20</td>\n",
       "      <td>12.459839</td>\n",
       "      <td>11.084167</td>\n",
       "      <td>627.880691</td>\n",
       "      <td>0.019844</td>\n",
       "      <td>0.017653</td>\n",
       "    </tr>\n",
       "    <tr>\n",
       "      <th>7</th>\n",
       "      <td>26</td>\n",
       "      <td>76.259247</td>\n",
       "      <td>87.205307</td>\n",
       "      <td>880.944283</td>\n",
       "      <td>0.086565</td>\n",
       "      <td>0.098991</td>\n",
       "    </tr>\n",
       "    <tr>\n",
       "      <th>8</th>\n",
       "      <td>27</td>\n",
       "      <td>687.290070</td>\n",
       "      <td>546.604004</td>\n",
       "      <td>20492.551214</td>\n",
       "      <td>0.033539</td>\n",
       "      <td>0.026673</td>\n",
       "    </tr>\n",
       "    <tr>\n",
       "      <th>9</th>\n",
       "      <td>29</td>\n",
       "      <td>188.374573</td>\n",
       "      <td>261.661469</td>\n",
       "      <td>4693.105188</td>\n",
       "      <td>0.040139</td>\n",
       "      <td>0.055754</td>\n",
       "    </tr>\n",
       "    <tr>\n",
       "      <th>10</th>\n",
       "      <td>33</td>\n",
       "      <td>140.389484</td>\n",
       "      <td>142.688858</td>\n",
       "      <td>7227.494598</td>\n",
       "      <td>0.019424</td>\n",
       "      <td>0.019743</td>\n",
       "    </tr>\n",
       "    <tr>\n",
       "      <th>11</th>\n",
       "      <td>35</td>\n",
       "      <td>14.964859</td>\n",
       "      <td>26.736509</td>\n",
       "      <td>423.726466</td>\n",
       "      <td>0.035317</td>\n",
       "      <td>0.063099</td>\n",
       "    </tr>\n",
       "    <tr>\n",
       "      <th>12</th>\n",
       "      <td>36</td>\n",
       "      <td>30.036739</td>\n",
       "      <td>41.055218</td>\n",
       "      <td>971.873921</td>\n",
       "      <td>0.030906</td>\n",
       "      <td>0.042243</td>\n",
       "    </tr>\n",
       "    <tr>\n",
       "      <th>13</th>\n",
       "      <td>38</td>\n",
       "      <td>35.726532</td>\n",
       "      <td>39.243469</td>\n",
       "      <td>2320.941624</td>\n",
       "      <td>0.015393</td>\n",
       "      <td>0.016908</td>\n",
       "    </tr>\n",
       "    <tr>\n",
       "      <th>14</th>\n",
       "      <td>39</td>\n",
       "      <td>14.810146</td>\n",
       "      <td>13.132719</td>\n",
       "      <td>940.034381</td>\n",
       "      <td>0.015755</td>\n",
       "      <td>0.013970</td>\n",
       "    </tr>\n",
       "    <tr>\n",
       "      <th>15</th>\n",
       "      <td>42</td>\n",
       "      <td>60.554382</td>\n",
       "      <td>70.921555</td>\n",
       "      <td>1665.514834</td>\n",
       "      <td>0.036358</td>\n",
       "      <td>0.042582</td>\n",
       "    </tr>\n",
       "    <tr>\n",
       "      <th>16</th>\n",
       "      <td>48</td>\n",
       "      <td>11.919739</td>\n",
       "      <td>5.312347</td>\n",
       "      <td>456.060830</td>\n",
       "      <td>0.026136</td>\n",
       "      <td>0.011648</td>\n",
       "    </tr>\n",
       "    <tr>\n",
       "      <th>17</th>\n",
       "      <td>49</td>\n",
       "      <td>0.161377</td>\n",
       "      <td>18.914734</td>\n",
       "      <td>422.895763</td>\n",
       "      <td>0.000382</td>\n",
       "      <td>0.044727</td>\n",
       "    </tr>\n",
       "    <tr>\n",
       "      <th>18</th>\n",
       "      <td>51</td>\n",
       "      <td>4.845612</td>\n",
       "      <td>6.226654</td>\n",
       "      <td>195.344312</td>\n",
       "      <td>0.024805</td>\n",
       "      <td>0.031875</td>\n",
       "    </tr>\n",
       "    <tr>\n",
       "      <th>19</th>\n",
       "      <td>52</td>\n",
       "      <td>0.000000</td>\n",
       "      <td>12.020844</td>\n",
       "      <td>45.898715</td>\n",
       "      <td>0.000000</td>\n",
       "      <td>0.261899</td>\n",
       "    </tr>\n",
       "    <tr>\n",
       "      <th>20</th>\n",
       "      <td>56</td>\n",
       "      <td>5.202728</td>\n",
       "      <td>26.374298</td>\n",
       "      <td>824.149503</td>\n",
       "      <td>0.006313</td>\n",
       "      <td>0.032002</td>\n",
       "    </tr>\n",
       "    <tr>\n",
       "      <th>21</th>\n",
       "      <td>59</td>\n",
       "      <td>38.154240</td>\n",
       "      <td>19.163151</td>\n",
       "      <td>1343.866622</td>\n",
       "      <td>0.028391</td>\n",
       "      <td>0.014260</td>\n",
       "    </tr>\n",
       "    <tr>\n",
       "      <th>22</th>\n",
       "      <td>60</td>\n",
       "      <td>99.177429</td>\n",
       "      <td>71.276062</td>\n",
       "      <td>3120.938135</td>\n",
       "      <td>0.031778</td>\n",
       "      <td>0.022838</td>\n",
       "    </tr>\n",
       "    <tr>\n",
       "      <th>23</th>\n",
       "      <td>63</td>\n",
       "      <td>23.234131</td>\n",
       "      <td>32.801086</td>\n",
       "      <td>2846.200719</td>\n",
       "      <td>0.008163</td>\n",
       "      <td>0.011525</td>\n",
       "    </tr>\n",
       "    <tr>\n",
       "      <th>24</th>\n",
       "      <td>65</td>\n",
       "      <td>0.000000</td>\n",
       "      <td>0.000000</td>\n",
       "      <td>21.219075</td>\n",
       "      <td>0.000000</td>\n",
       "      <td>0.000000</td>\n",
       "    </tr>\n",
       "    <tr>\n",
       "      <th>25</th>\n",
       "      <td>66</td>\n",
       "      <td>122.385995</td>\n",
       "      <td>100.153253</td>\n",
       "      <td>3350.450234</td>\n",
       "      <td>0.036528</td>\n",
       "      <td>0.029892</td>\n",
       "    </tr>\n",
       "    <tr>\n",
       "      <th>26</th>\n",
       "      <td>68</td>\n",
       "      <td>18.043729</td>\n",
       "      <td>18.924714</td>\n",
       "      <td>729.212621</td>\n",
       "      <td>0.024744</td>\n",
       "      <td>0.025952</td>\n",
       "    </tr>\n",
       "    <tr>\n",
       "      <th>27</th>\n",
       "      <td>69</td>\n",
       "      <td>4.384277</td>\n",
       "      <td>0.000000</td>\n",
       "      <td>110.558265</td>\n",
       "      <td>0.039656</td>\n",
       "      <td>0.000000</td>\n",
       "    </tr>\n",
       "    <tr>\n",
       "      <th>28</th>\n",
       "      <td>72</td>\n",
       "      <td>0.328003</td>\n",
       "      <td>0.656006</td>\n",
       "      <td>420.553112</td>\n",
       "      <td>0.000780</td>\n",
       "      <td>0.001560</td>\n",
       "    </tr>\n",
       "    <tr>\n",
       "      <th>29</th>\n",
       "      <td>75</td>\n",
       "      <td>23.442596</td>\n",
       "      <td>22.859314</td>\n",
       "      <td>764.846424</td>\n",
       "      <td>0.030650</td>\n",
       "      <td>0.029887</td>\n",
       "    </tr>\n",
       "    <tr>\n",
       "      <th>...</th>\n",
       "      <td>...</td>\n",
       "      <td>...</td>\n",
       "      <td>...</td>\n",
       "      <td>...</td>\n",
       "      <td>...</td>\n",
       "      <td>...</td>\n",
       "    </tr>\n",
       "    <tr>\n",
       "      <th>49</th>\n",
       "      <td>123</td>\n",
       "      <td>0.000000</td>\n",
       "      <td>9.639023</td>\n",
       "      <td>255.573667</td>\n",
       "      <td>0.000000</td>\n",
       "      <td>0.037715</td>\n",
       "    </tr>\n",
       "    <tr>\n",
       "      <th>50</th>\n",
       "      <td>127</td>\n",
       "      <td>88.592773</td>\n",
       "      <td>273.584717</td>\n",
       "      <td>564.876933</td>\n",
       "      <td>0.156836</td>\n",
       "      <td>0.484326</td>\n",
       "    </tr>\n",
       "    <tr>\n",
       "      <th>51</th>\n",
       "      <td>128</td>\n",
       "      <td>0.000000</td>\n",
       "      <td>8.577332</td>\n",
       "      <td>96.659159</td>\n",
       "      <td>0.000000</td>\n",
       "      <td>0.088738</td>\n",
       "    </tr>\n",
       "    <tr>\n",
       "      <th>52</th>\n",
       "      <td>129</td>\n",
       "      <td>3.462067</td>\n",
       "      <td>0.037598</td>\n",
       "      <td>210.673755</td>\n",
       "      <td>0.016433</td>\n",
       "      <td>0.000178</td>\n",
       "    </tr>\n",
       "    <tr>\n",
       "      <th>53</th>\n",
       "      <td>130</td>\n",
       "      <td>10.014740</td>\n",
       "      <td>9.690704</td>\n",
       "      <td>1289.720394</td>\n",
       "      <td>0.007765</td>\n",
       "      <td>0.007514</td>\n",
       "    </tr>\n",
       "    <tr>\n",
       "      <th>54</th>\n",
       "      <td>132</td>\n",
       "      <td>0.000000</td>\n",
       "      <td>3.476471</td>\n",
       "      <td>42.306224</td>\n",
       "      <td>0.000000</td>\n",
       "      <td>0.082174</td>\n",
       "    </tr>\n",
       "    <tr>\n",
       "      <th>55</th>\n",
       "      <td>134</td>\n",
       "      <td>0.000000</td>\n",
       "      <td>29.142994</td>\n",
       "      <td>426.381938</td>\n",
       "      <td>0.000000</td>\n",
       "      <td>0.068350</td>\n",
       "    </tr>\n",
       "    <tr>\n",
       "      <th>56</th>\n",
       "      <td>135</td>\n",
       "      <td>0.000000</td>\n",
       "      <td>45.719421</td>\n",
       "      <td>473.601858</td>\n",
       "      <td>0.000000</td>\n",
       "      <td>0.096536</td>\n",
       "    </tr>\n",
       "    <tr>\n",
       "      <th>57</th>\n",
       "      <td>136</td>\n",
       "      <td>0.812164</td>\n",
       "      <td>2.804535</td>\n",
       "      <td>79.497057</td>\n",
       "      <td>0.010216</td>\n",
       "      <td>0.035278</td>\n",
       "    </tr>\n",
       "    <tr>\n",
       "      <th>58</th>\n",
       "      <td>137</td>\n",
       "      <td>6.676178</td>\n",
       "      <td>0.794952</td>\n",
       "      <td>358.082482</td>\n",
       "      <td>0.018644</td>\n",
       "      <td>0.002220</td>\n",
       "    </tr>\n",
       "    <tr>\n",
       "      <th>59</th>\n",
       "      <td>140</td>\n",
       "      <td>1.873535</td>\n",
       "      <td>4.403442</td>\n",
       "      <td>337.447948</td>\n",
       "      <td>0.005552</td>\n",
       "      <td>0.013049</td>\n",
       "    </tr>\n",
       "    <tr>\n",
       "      <th>60</th>\n",
       "      <td>141</td>\n",
       "      <td>59.635925</td>\n",
       "      <td>10.627045</td>\n",
       "      <td>329.785723</td>\n",
       "      <td>0.180832</td>\n",
       "      <td>0.032224</td>\n",
       "    </tr>\n",
       "    <tr>\n",
       "      <th>61</th>\n",
       "      <td>142</td>\n",
       "      <td>103.485596</td>\n",
       "      <td>92.902588</td>\n",
       "      <td>673.918096</td>\n",
       "      <td>0.153558</td>\n",
       "      <td>0.137854</td>\n",
       "    </tr>\n",
       "    <tr>\n",
       "      <th>62</th>\n",
       "      <td>147</td>\n",
       "      <td>45.295929</td>\n",
       "      <td>3.044556</td>\n",
       "      <td>329.487179</td>\n",
       "      <td>0.137474</td>\n",
       "      <td>0.009240</td>\n",
       "    </tr>\n",
       "    <tr>\n",
       "      <th>63</th>\n",
       "      <td>148</td>\n",
       "      <td>20.445969</td>\n",
       "      <td>0.000000</td>\n",
       "      <td>194.166447</td>\n",
       "      <td>0.105301</td>\n",
       "      <td>0.000000</td>\n",
       "    </tr>\n",
       "    <tr>\n",
       "      <th>64</th>\n",
       "      <td>150</td>\n",
       "      <td>18.053467</td>\n",
       "      <td>54.424072</td>\n",
       "      <td>995.311175</td>\n",
       "      <td>0.018139</td>\n",
       "      <td>0.054680</td>\n",
       "    </tr>\n",
       "    <tr>\n",
       "      <th>65</th>\n",
       "      <td>151</td>\n",
       "      <td>2.154449</td>\n",
       "      <td>0.000000</td>\n",
       "      <td>36.565815</td>\n",
       "      <td>0.058920</td>\n",
       "      <td>0.000000</td>\n",
       "    </tr>\n",
       "    <tr>\n",
       "      <th>66</th>\n",
       "      <td>153</td>\n",
       "      <td>306.692047</td>\n",
       "      <td>447.289124</td>\n",
       "      <td>7509.468707</td>\n",
       "      <td>0.040841</td>\n",
       "      <td>0.059563</td>\n",
       "    </tr>\n",
       "    <tr>\n",
       "      <th>67</th>\n",
       "      <td>154</td>\n",
       "      <td>0.888275</td>\n",
       "      <td>0.000000</td>\n",
       "      <td>74.788398</td>\n",
       "      <td>0.011877</td>\n",
       "      <td>0.000000</td>\n",
       "    </tr>\n",
       "    <tr>\n",
       "      <th>68</th>\n",
       "      <td>158</td>\n",
       "      <td>0.000000</td>\n",
       "      <td>0.000000</td>\n",
       "      <td>28.490270</td>\n",
       "      <td>0.000000</td>\n",
       "      <td>0.000000</td>\n",
       "    </tr>\n",
       "    <tr>\n",
       "      <th>69</th>\n",
       "      <td>159</td>\n",
       "      <td>25.803696</td>\n",
       "      <td>7.101471</td>\n",
       "      <td>1054.096126</td>\n",
       "      <td>0.024479</td>\n",
       "      <td>0.006737</td>\n",
       "    </tr>\n",
       "    <tr>\n",
       "      <th>70</th>\n",
       "      <td>160</td>\n",
       "      <td>762.002930</td>\n",
       "      <td>423.125000</td>\n",
       "      <td>3943.197467</td>\n",
       "      <td>0.193245</td>\n",
       "      <td>0.107305</td>\n",
       "    </tr>\n",
       "    <tr>\n",
       "      <th>71</th>\n",
       "      <td>161</td>\n",
       "      <td>6.127695</td>\n",
       "      <td>9.827912</td>\n",
       "      <td>396.536395</td>\n",
       "      <td>0.015453</td>\n",
       "      <td>0.024784</td>\n",
       "    </tr>\n",
       "    <tr>\n",
       "      <th>72</th>\n",
       "      <td>163</td>\n",
       "      <td>50.204651</td>\n",
       "      <td>53.829132</td>\n",
       "      <td>722.138706</td>\n",
       "      <td>0.069522</td>\n",
       "      <td>0.074541</td>\n",
       "    </tr>\n",
       "    <tr>\n",
       "      <th>73</th>\n",
       "      <td>164</td>\n",
       "      <td>1.074886</td>\n",
       "      <td>1.803417</td>\n",
       "      <td>232.288964</td>\n",
       "      <td>0.004627</td>\n",
       "      <td>0.007764</td>\n",
       "    </tr>\n",
       "    <tr>\n",
       "      <th>74</th>\n",
       "      <td>165</td>\n",
       "      <td>329.423828</td>\n",
       "      <td>187.498413</td>\n",
       "      <td>7935.116286</td>\n",
       "      <td>0.041515</td>\n",
       "      <td>0.023629</td>\n",
       "    </tr>\n",
       "    <tr>\n",
       "      <th>75</th>\n",
       "      <td>169</td>\n",
       "      <td>0.000000</td>\n",
       "      <td>3.199051</td>\n",
       "      <td>57.664373</td>\n",
       "      <td>0.000000</td>\n",
       "      <td>0.055477</td>\n",
       "    </tr>\n",
       "    <tr>\n",
       "      <th>76</th>\n",
       "      <td>170</td>\n",
       "      <td>47.423370</td>\n",
       "      <td>0.284809</td>\n",
       "      <td>251.353499</td>\n",
       "      <td>0.188672</td>\n",
       "      <td>0.001133</td>\n",
       "    </tr>\n",
       "    <tr>\n",
       "      <th>77</th>\n",
       "      <td>171</td>\n",
       "      <td>4.887360</td>\n",
       "      <td>12.959885</td>\n",
       "      <td>440.736573</td>\n",
       "      <td>0.011089</td>\n",
       "      <td>0.029405</td>\n",
       "    </tr>\n",
       "    <tr>\n",
       "      <th>78</th>\n",
       "      <td>172</td>\n",
       "      <td>182.904175</td>\n",
       "      <td>177.150879</td>\n",
       "      <td>5960.000617</td>\n",
       "      <td>0.030689</td>\n",
       "      <td>0.029723</td>\n",
       "    </tr>\n",
       "  </tbody>\n",
       "</table>\n",
       "<p>79 rows × 6 columns</p>\n",
       "</div>"
      ],
      "text/plain": [
       "    edgeID  elev_gain_ij  elev_gain_ji  Shape_Length  avg_upslope_ij  \\\n",
       "0        1    371.592758    262.753494   4886.087587        0.076051   \n",
       "1        2     45.506660     40.233576   2464.140052        0.018468   \n",
       "2        3     49.597279     27.654609   1196.499466        0.041452   \n",
       "3        5    490.041498    486.875498  12235.034954        0.040052   \n",
       "4        7     35.044041     76.479980   1783.305434        0.019651   \n",
       "5        8     92.659582    155.491697   4516.027224        0.020518   \n",
       "6       20     12.459839     11.084167    627.880691        0.019844   \n",
       "7       26     76.259247     87.205307    880.944283        0.086565   \n",
       "8       27    687.290070    546.604004  20492.551214        0.033539   \n",
       "9       29    188.374573    261.661469   4693.105188        0.040139   \n",
       "10      33    140.389484    142.688858   7227.494598        0.019424   \n",
       "11      35     14.964859     26.736509    423.726466        0.035317   \n",
       "12      36     30.036739     41.055218    971.873921        0.030906   \n",
       "13      38     35.726532     39.243469   2320.941624        0.015393   \n",
       "14      39     14.810146     13.132719    940.034381        0.015755   \n",
       "15      42     60.554382     70.921555   1665.514834        0.036358   \n",
       "16      48     11.919739      5.312347    456.060830        0.026136   \n",
       "17      49      0.161377     18.914734    422.895763        0.000382   \n",
       "18      51      4.845612      6.226654    195.344312        0.024805   \n",
       "19      52      0.000000     12.020844     45.898715        0.000000   \n",
       "20      56      5.202728     26.374298    824.149503        0.006313   \n",
       "21      59     38.154240     19.163151   1343.866622        0.028391   \n",
       "22      60     99.177429     71.276062   3120.938135        0.031778   \n",
       "23      63     23.234131     32.801086   2846.200719        0.008163   \n",
       "24      65      0.000000      0.000000     21.219075        0.000000   \n",
       "25      66    122.385995    100.153253   3350.450234        0.036528   \n",
       "26      68     18.043729     18.924714    729.212621        0.024744   \n",
       "27      69      4.384277      0.000000    110.558265        0.039656   \n",
       "28      72      0.328003      0.656006    420.553112        0.000780   \n",
       "29      75     23.442596     22.859314    764.846424        0.030650   \n",
       "..     ...           ...           ...           ...             ...   \n",
       "49     123      0.000000      9.639023    255.573667        0.000000   \n",
       "50     127     88.592773    273.584717    564.876933        0.156836   \n",
       "51     128      0.000000      8.577332     96.659159        0.000000   \n",
       "52     129      3.462067      0.037598    210.673755        0.016433   \n",
       "53     130     10.014740      9.690704   1289.720394        0.007765   \n",
       "54     132      0.000000      3.476471     42.306224        0.000000   \n",
       "55     134      0.000000     29.142994    426.381938        0.000000   \n",
       "56     135      0.000000     45.719421    473.601858        0.000000   \n",
       "57     136      0.812164      2.804535     79.497057        0.010216   \n",
       "58     137      6.676178      0.794952    358.082482        0.018644   \n",
       "59     140      1.873535      4.403442    337.447948        0.005552   \n",
       "60     141     59.635925     10.627045    329.785723        0.180832   \n",
       "61     142    103.485596     92.902588    673.918096        0.153558   \n",
       "62     147     45.295929      3.044556    329.487179        0.137474   \n",
       "63     148     20.445969      0.000000    194.166447        0.105301   \n",
       "64     150     18.053467     54.424072    995.311175        0.018139   \n",
       "65     151      2.154449      0.000000     36.565815        0.058920   \n",
       "66     153    306.692047    447.289124   7509.468707        0.040841   \n",
       "67     154      0.888275      0.000000     74.788398        0.011877   \n",
       "68     158      0.000000      0.000000     28.490270        0.000000   \n",
       "69     159     25.803696      7.101471   1054.096126        0.024479   \n",
       "70     160    762.002930    423.125000   3943.197467        0.193245   \n",
       "71     161      6.127695      9.827912    396.536395        0.015453   \n",
       "72     163     50.204651     53.829132    722.138706        0.069522   \n",
       "73     164      1.074886      1.803417    232.288964        0.004627   \n",
       "74     165    329.423828    187.498413   7935.116286        0.041515   \n",
       "75     169      0.000000      3.199051     57.664373        0.000000   \n",
       "76     170     47.423370      0.284809    251.353499        0.188672   \n",
       "77     171      4.887360     12.959885    440.736573        0.011089   \n",
       "78     172    182.904175    177.150879   5960.000617        0.030689   \n",
       "\n",
       "    avg_upslope_ji  \n",
       "0         0.053776  \n",
       "1         0.016328  \n",
       "2         0.023113  \n",
       "3         0.039794  \n",
       "4         0.042887  \n",
       "5         0.034431  \n",
       "6         0.017653  \n",
       "7         0.098991  \n",
       "8         0.026673  \n",
       "9         0.055754  \n",
       "10        0.019743  \n",
       "11        0.063099  \n",
       "12        0.042243  \n",
       "13        0.016908  \n",
       "14        0.013970  \n",
       "15        0.042582  \n",
       "16        0.011648  \n",
       "17        0.044727  \n",
       "18        0.031875  \n",
       "19        0.261899  \n",
       "20        0.032002  \n",
       "21        0.014260  \n",
       "22        0.022838  \n",
       "23        0.011525  \n",
       "24        0.000000  \n",
       "25        0.029892  \n",
       "26        0.025952  \n",
       "27        0.000000  \n",
       "28        0.001560  \n",
       "29        0.029887  \n",
       "..             ...  \n",
       "49        0.037715  \n",
       "50        0.484326  \n",
       "51        0.088738  \n",
       "52        0.000178  \n",
       "53        0.007514  \n",
       "54        0.082174  \n",
       "55        0.068350  \n",
       "56        0.096536  \n",
       "57        0.035278  \n",
       "58        0.002220  \n",
       "59        0.013049  \n",
       "60        0.032224  \n",
       "61        0.137854  \n",
       "62        0.009240  \n",
       "63        0.000000  \n",
       "64        0.054680  \n",
       "65        0.000000  \n",
       "66        0.059563  \n",
       "67        0.000000  \n",
       "68        0.000000  \n",
       "69        0.006737  \n",
       "70        0.107305  \n",
       "71        0.024784  \n",
       "72        0.074541  \n",
       "73        0.007764  \n",
       "74        0.023629  \n",
       "75        0.055477  \n",
       "76        0.001133  \n",
       "77        0.029405  \n",
       "78        0.029723  \n",
       "\n",
       "[79 rows x 6 columns]"
      ]
     },
     "execution_count": 77,
     "metadata": {},
     "output_type": "execute_result"
    }
   ],
   "source": [
    "#newdf.to_csv('output_test1.csv')\n",
    "newdf"
   ]
  },
  {
   "cell_type": "code",
   "execution_count": 79,
   "metadata": {
    "collapsed": false
   },
   "outputs": [],
   "source": [
    "# Read in the final CSV\n",
    "df = pd.read_csv('slope_output.csv')"
   ]
  },
  {
   "cell_type": "code",
   "execution_count": 80,
   "metadata": {
    "collapsed": false
   },
   "outputs": [
    {
     "data": {
      "text/plain": [
       "229828"
      ]
     },
     "execution_count": 80,
     "metadata": {},
     "output_type": "execute_result"
    }
   ],
   "source": [
    "len(df)"
   ]
  },
  {
   "cell_type": "code",
   "execution_count": 81,
   "metadata": {
    "collapsed": false
   },
   "outputs": [
    {
     "data": {
      "text/plain": [
       "Index([u'Unnamed: 0', u'edgeID', u'elev_gain_ij', u'elev_gain_ji',\n",
       "       u'Shape_Length', u'avg_upslope_ij', u'avg_upslope_ji'],\n",
       "      dtype='object')"
      ]
     },
     "execution_count": 81,
     "metadata": {},
     "output_type": "execute_result"
    }
   ],
   "source": [
    "df.columns"
   ]
  },
  {
   "cell_type": "code",
   "execution_count": 89,
   "metadata": {
    "collapsed": false
   },
   "outputs": [
    {
     "data": {
      "text/plain": [
       "27.5354025801546"
      ]
     },
     "execution_count": 89,
     "metadata": {},
     "output_type": "execute_result"
    }
   ],
   "source": [
    "df['elev_gain_ij'].mean()"
   ]
  },
  {
   "cell_type": "code",
   "execution_count": 91,
   "metadata": {
    "collapsed": false
   },
   "outputs": [],
   "source": [
    "# Join the bike attributes data\n",
    "bike_attr = r'D:\\slope\\test.gdb\\tblBikeAttributes'"
   ]
  },
  {
   "cell_type": "code",
   "execution_count": 142,
   "metadata": {
    "collapsed": false
   },
   "outputs": [],
   "source": [
    "# Load in bike attributes\n",
    "# Note that we can't have null fields- need to update the gdb to ensure this\n",
    "bike_np = arcpy.da.TableToNumPyArray(bike_attr, ('PSRCEdgeID', 'IJBikeFacil', 'JIBikeFacil'))"
   ]
  },
  {
   "cell_type": "code",
   "execution_count": 133,
   "metadata": {
    "collapsed": false
   },
   "outputs": [],
   "source": [
    "# Laod numpy to pandas\n",
    "bike_df = pd.DataFrame(bike_np)"
   ]
  },
  {
   "cell_type": "code",
   "execution_count": 208,
   "metadata": {
    "collapsed": false
   },
   "outputs": [
    {
     "data": {
      "text/html": [
       "<div>\n",
       "<table border=\"1\" class=\"dataframe\">\n",
       "  <thead>\n",
       "    <tr style=\"text-align: right;\">\n",
       "      <th></th>\n",
       "      <th>PSRCEdgeID</th>\n",
       "      <th>IJBikeFacil</th>\n",
       "      <th>JIBikeFacil</th>\n",
       "    </tr>\n",
       "  </thead>\n",
       "  <tbody>\n",
       "    <tr>\n",
       "      <th>0</th>\n",
       "      <td>242615</td>\n",
       "      <td>0</td>\n",
       "      <td>0</td>\n",
       "    </tr>\n",
       "    <tr>\n",
       "      <th>1</th>\n",
       "      <td>242754</td>\n",
       "      <td>0</td>\n",
       "      <td>0</td>\n",
       "    </tr>\n",
       "    <tr>\n",
       "      <th>2</th>\n",
       "      <td>242816</td>\n",
       "      <td>0</td>\n",
       "      <td>0</td>\n",
       "    </tr>\n",
       "    <tr>\n",
       "      <th>3</th>\n",
       "      <td>242993</td>\n",
       "      <td>0</td>\n",
       "      <td>0</td>\n",
       "    </tr>\n",
       "    <tr>\n",
       "      <th>4</th>\n",
       "      <td>243120</td>\n",
       "      <td>0</td>\n",
       "      <td>0</td>\n",
       "    </tr>\n",
       "    <tr>\n",
       "      <th>5</th>\n",
       "      <td>243348</td>\n",
       "      <td>0</td>\n",
       "      <td>0</td>\n",
       "    </tr>\n",
       "    <tr>\n",
       "      <th>6</th>\n",
       "      <td>243441</td>\n",
       "      <td>0</td>\n",
       "      <td>0</td>\n",
       "    </tr>\n",
       "    <tr>\n",
       "      <th>7</th>\n",
       "      <td>243653</td>\n",
       "      <td>0</td>\n",
       "      <td>0</td>\n",
       "    </tr>\n",
       "    <tr>\n",
       "      <th>8</th>\n",
       "      <td>244252</td>\n",
       "      <td>0</td>\n",
       "      <td>0</td>\n",
       "    </tr>\n",
       "    <tr>\n",
       "      <th>9</th>\n",
       "      <td>244262</td>\n",
       "      <td>0</td>\n",
       "      <td>0</td>\n",
       "    </tr>\n",
       "    <tr>\n",
       "      <th>10</th>\n",
       "      <td>244291</td>\n",
       "      <td>0</td>\n",
       "      <td>0</td>\n",
       "    </tr>\n",
       "    <tr>\n",
       "      <th>11</th>\n",
       "      <td>244420</td>\n",
       "      <td>0</td>\n",
       "      <td>0</td>\n",
       "    </tr>\n",
       "    <tr>\n",
       "      <th>12</th>\n",
       "      <td>244481</td>\n",
       "      <td>0</td>\n",
       "      <td>0</td>\n",
       "    </tr>\n",
       "    <tr>\n",
       "      <th>13</th>\n",
       "      <td>244842</td>\n",
       "      <td>0</td>\n",
       "      <td>0</td>\n",
       "    </tr>\n",
       "    <tr>\n",
       "      <th>14</th>\n",
       "      <td>245486</td>\n",
       "      <td>0</td>\n",
       "      <td>0</td>\n",
       "    </tr>\n",
       "    <tr>\n",
       "      <th>15</th>\n",
       "      <td>245525</td>\n",
       "      <td>0</td>\n",
       "      <td>0</td>\n",
       "    </tr>\n",
       "    <tr>\n",
       "      <th>16</th>\n",
       "      <td>245651</td>\n",
       "      <td>0</td>\n",
       "      <td>0</td>\n",
       "    </tr>\n",
       "    <tr>\n",
       "      <th>17</th>\n",
       "      <td>245713</td>\n",
       "      <td>0</td>\n",
       "      <td>0</td>\n",
       "    </tr>\n",
       "    <tr>\n",
       "      <th>18</th>\n",
       "      <td>245904</td>\n",
       "      <td>0</td>\n",
       "      <td>0</td>\n",
       "    </tr>\n",
       "    <tr>\n",
       "      <th>19</th>\n",
       "      <td>246406</td>\n",
       "      <td>0</td>\n",
       "      <td>0</td>\n",
       "    </tr>\n",
       "    <tr>\n",
       "      <th>20</th>\n",
       "      <td>246708</td>\n",
       "      <td>0</td>\n",
       "      <td>0</td>\n",
       "    </tr>\n",
       "    <tr>\n",
       "      <th>21</th>\n",
       "      <td>246718</td>\n",
       "      <td>0</td>\n",
       "      <td>0</td>\n",
       "    </tr>\n",
       "    <tr>\n",
       "      <th>22</th>\n",
       "      <td>242107</td>\n",
       "      <td>0</td>\n",
       "      <td>0</td>\n",
       "    </tr>\n",
       "    <tr>\n",
       "      <th>23</th>\n",
       "      <td>242458</td>\n",
       "      <td>0</td>\n",
       "      <td>0</td>\n",
       "    </tr>\n",
       "    <tr>\n",
       "      <th>24</th>\n",
       "      <td>242647</td>\n",
       "      <td>0</td>\n",
       "      <td>0</td>\n",
       "    </tr>\n",
       "    <tr>\n",
       "      <th>25</th>\n",
       "      <td>243069</td>\n",
       "      <td>0</td>\n",
       "      <td>0</td>\n",
       "    </tr>\n",
       "    <tr>\n",
       "      <th>26</th>\n",
       "      <td>243096</td>\n",
       "      <td>0</td>\n",
       "      <td>0</td>\n",
       "    </tr>\n",
       "    <tr>\n",
       "      <th>27</th>\n",
       "      <td>243236</td>\n",
       "      <td>0</td>\n",
       "      <td>0</td>\n",
       "    </tr>\n",
       "    <tr>\n",
       "      <th>28</th>\n",
       "      <td>243252</td>\n",
       "      <td>0</td>\n",
       "      <td>0</td>\n",
       "    </tr>\n",
       "    <tr>\n",
       "      <th>29</th>\n",
       "      <td>243488</td>\n",
       "      <td>0</td>\n",
       "      <td>0</td>\n",
       "    </tr>\n",
       "    <tr>\n",
       "      <th>...</th>\n",
       "      <td>...</td>\n",
       "      <td>...</td>\n",
       "      <td>...</td>\n",
       "    </tr>\n",
       "    <tr>\n",
       "      <th>230293</th>\n",
       "      <td>215500</td>\n",
       "      <td>0</td>\n",
       "      <td>0</td>\n",
       "    </tr>\n",
       "    <tr>\n",
       "      <th>230294</th>\n",
       "      <td>218174</td>\n",
       "      <td>1</td>\n",
       "      <td>1</td>\n",
       "    </tr>\n",
       "    <tr>\n",
       "      <th>230295</th>\n",
       "      <td>11448</td>\n",
       "      <td>0</td>\n",
       "      <td>0</td>\n",
       "    </tr>\n",
       "    <tr>\n",
       "      <th>230296</th>\n",
       "      <td>15173</td>\n",
       "      <td>0</td>\n",
       "      <td>0</td>\n",
       "    </tr>\n",
       "    <tr>\n",
       "      <th>230297</th>\n",
       "      <td>22532</td>\n",
       "      <td>0</td>\n",
       "      <td>0</td>\n",
       "    </tr>\n",
       "    <tr>\n",
       "      <th>230298</th>\n",
       "      <td>88390</td>\n",
       "      <td>3</td>\n",
       "      <td>3</td>\n",
       "    </tr>\n",
       "    <tr>\n",
       "      <th>230299</th>\n",
       "      <td>154327</td>\n",
       "      <td>0</td>\n",
       "      <td>0</td>\n",
       "    </tr>\n",
       "    <tr>\n",
       "      <th>230300</th>\n",
       "      <td>171247</td>\n",
       "      <td>3</td>\n",
       "      <td>3</td>\n",
       "    </tr>\n",
       "    <tr>\n",
       "      <th>230301</th>\n",
       "      <td>215077</td>\n",
       "      <td>3</td>\n",
       "      <td>3</td>\n",
       "    </tr>\n",
       "    <tr>\n",
       "      <th>230302</th>\n",
       "      <td>1841</td>\n",
       "      <td>8</td>\n",
       "      <td>8</td>\n",
       "    </tr>\n",
       "    <tr>\n",
       "      <th>230303</th>\n",
       "      <td>1438</td>\n",
       "      <td>8</td>\n",
       "      <td>8</td>\n",
       "    </tr>\n",
       "    <tr>\n",
       "      <th>230304</th>\n",
       "      <td>13671</td>\n",
       "      <td>1</td>\n",
       "      <td>1</td>\n",
       "    </tr>\n",
       "    <tr>\n",
       "      <th>230305</th>\n",
       "      <td>14678</td>\n",
       "      <td>1</td>\n",
       "      <td>1</td>\n",
       "    </tr>\n",
       "    <tr>\n",
       "      <th>230306</th>\n",
       "      <td>21223</td>\n",
       "      <td>0</td>\n",
       "      <td>0</td>\n",
       "    </tr>\n",
       "    <tr>\n",
       "      <th>230307</th>\n",
       "      <td>71162</td>\n",
       "      <td>0</td>\n",
       "      <td>0</td>\n",
       "    </tr>\n",
       "    <tr>\n",
       "      <th>230308</th>\n",
       "      <td>85643</td>\n",
       "      <td>0</td>\n",
       "      <td>0</td>\n",
       "    </tr>\n",
       "    <tr>\n",
       "      <th>230309</th>\n",
       "      <td>121456</td>\n",
       "      <td>1</td>\n",
       "      <td>1</td>\n",
       "    </tr>\n",
       "    <tr>\n",
       "      <th>230310</th>\n",
       "      <td>185155</td>\n",
       "      <td>0</td>\n",
       "      <td>0</td>\n",
       "    </tr>\n",
       "    <tr>\n",
       "      <th>230311</th>\n",
       "      <td>210709</td>\n",
       "      <td>0</td>\n",
       "      <td>0</td>\n",
       "    </tr>\n",
       "    <tr>\n",
       "      <th>230312</th>\n",
       "      <td>209871</td>\n",
       "      <td>0</td>\n",
       "      <td>0</td>\n",
       "    </tr>\n",
       "    <tr>\n",
       "      <th>230313</th>\n",
       "      <td>2079</td>\n",
       "      <td>1</td>\n",
       "      <td>1</td>\n",
       "    </tr>\n",
       "    <tr>\n",
       "      <th>230314</th>\n",
       "      <td>247653</td>\n",
       "      <td>8</td>\n",
       "      <td>8</td>\n",
       "    </tr>\n",
       "    <tr>\n",
       "      <th>230315</th>\n",
       "      <td>216181</td>\n",
       "      <td>0</td>\n",
       "      <td>0</td>\n",
       "    </tr>\n",
       "    <tr>\n",
       "      <th>230316</th>\n",
       "      <td>48437</td>\n",
       "      <td>0</td>\n",
       "      <td>3</td>\n",
       "    </tr>\n",
       "    <tr>\n",
       "      <th>230317</th>\n",
       "      <td>204474</td>\n",
       "      <td>0</td>\n",
       "      <td>3</td>\n",
       "    </tr>\n",
       "    <tr>\n",
       "      <th>230318</th>\n",
       "      <td>172253</td>\n",
       "      <td>3</td>\n",
       "      <td>3</td>\n",
       "    </tr>\n",
       "    <tr>\n",
       "      <th>230319</th>\n",
       "      <td>225210</td>\n",
       "      <td>1</td>\n",
       "      <td>1</td>\n",
       "    </tr>\n",
       "    <tr>\n",
       "      <th>230320</th>\n",
       "      <td>214670</td>\n",
       "      <td>4</td>\n",
       "      <td>1</td>\n",
       "    </tr>\n",
       "    <tr>\n",
       "      <th>230321</th>\n",
       "      <td>213633</td>\n",
       "      <td>1</td>\n",
       "      <td>1</td>\n",
       "    </tr>\n",
       "    <tr>\n",
       "      <th>230322</th>\n",
       "      <td>217793</td>\n",
       "      <td>1</td>\n",
       "      <td>1</td>\n",
       "    </tr>\n",
       "  </tbody>\n",
       "</table>\n",
       "<p>230323 rows × 3 columns</p>\n",
       "</div>"
      ],
      "text/plain": [
       "        PSRCEdgeID  IJBikeFacil  JIBikeFacil\n",
       "0           242615            0            0\n",
       "1           242754            0            0\n",
       "2           242816            0            0\n",
       "3           242993            0            0\n",
       "4           243120            0            0\n",
       "5           243348            0            0\n",
       "6           243441            0            0\n",
       "7           243653            0            0\n",
       "8           244252            0            0\n",
       "9           244262            0            0\n",
       "10          244291            0            0\n",
       "11          244420            0            0\n",
       "12          244481            0            0\n",
       "13          244842            0            0\n",
       "14          245486            0            0\n",
       "15          245525            0            0\n",
       "16          245651            0            0\n",
       "17          245713            0            0\n",
       "18          245904            0            0\n",
       "19          246406            0            0\n",
       "20          246708            0            0\n",
       "21          246718            0            0\n",
       "22          242107            0            0\n",
       "23          242458            0            0\n",
       "24          242647            0            0\n",
       "25          243069            0            0\n",
       "26          243096            0            0\n",
       "27          243236            0            0\n",
       "28          243252            0            0\n",
       "29          243488            0            0\n",
       "...            ...          ...          ...\n",
       "230293      215500            0            0\n",
       "230294      218174            1            1\n",
       "230295       11448            0            0\n",
       "230296       15173            0            0\n",
       "230297       22532            0            0\n",
       "230298       88390            3            3\n",
       "230299      154327            0            0\n",
       "230300      171247            3            3\n",
       "230301      215077            3            3\n",
       "230302        1841            8            8\n",
       "230303        1438            8            8\n",
       "230304       13671            1            1\n",
       "230305       14678            1            1\n",
       "230306       21223            0            0\n",
       "230307       71162            0            0\n",
       "230308       85643            0            0\n",
       "230309      121456            1            1\n",
       "230310      185155            0            0\n",
       "230311      210709            0            0\n",
       "230312      209871            0            0\n",
       "230313        2079            1            1\n",
       "230314      247653            8            8\n",
       "230315      216181            0            0\n",
       "230316       48437            0            3\n",
       "230317      204474            0            3\n",
       "230318      172253            3            3\n",
       "230319      225210            1            1\n",
       "230320      214670            4            1\n",
       "230321      213633            1            1\n",
       "230322      217793            1            1\n",
       "\n",
       "[230323 rows x 3 columns]"
      ]
     },
     "execution_count": 208,
     "metadata": {},
     "output_type": "execute_result"
    }
   ],
   "source": [
    "bike_df"
   ]
  },
  {
   "cell_type": "code",
   "execution_count": 378,
   "metadata": {
    "collapsed": false
   },
   "outputs": [],
   "source": [
    "# Load in the slope edge data\n",
    "edge_df = pd.read_csv(r\"D:\\slope\\slope_output.csv\")"
   ]
  },
  {
   "cell_type": "code",
   "execution_count": 379,
   "metadata": {
    "collapsed": false
   },
   "outputs": [],
   "source": [
    "# Merge the bike data with the elevation data\n",
    "total_merge = edge_df.merge(bike_df)"
   ]
  },
  {
   "cell_type": "code",
   "execution_count": 383,
   "metadata": {
    "collapsed": false
   },
   "outputs": [],
   "source": [
    "# Filter out the inactive links for now\n",
    "# eventually we need to use a network that includes all of these links, but this is for testingy type \n",
    "total_merge = total_merge.query('ActiveLink == 1')\n",
    "\n",
    "# Also need to add in facility type 17 (P&R connectors and ignore those for now)\n",
    "total_merge = total_merge.query('FacilityTy <> 17')\n",
    "\n",
    "total_merge = total_merge.query('Fullname <> \"P&R walk link\"')"
   ]
  },
  {
   "cell_type": "code",
   "execution_count": 384,
   "metadata": {
    "collapsed": false
   },
   "outputs": [
    {
     "name": "stderr",
     "output_type": "stream",
     "text": [
      "c:\\Users\\Brice\\AppData\\Local\\Continuum\\Anaconda\\lib\\site-packages\\IPython\\kernel\\__main__.py:8: SettingWithCopyWarning: \n",
      "A value is trying to be set on a copy of a slice from a DataFrame.\n",
      "Try using .loc[row_indexer,col_indexer] = value instead\n",
      "\n",
      "See the the caveats in the documentation: http://pandas.pydata.org/pandas-docs/stable/indexing.html#indexing-view-versus-copy\n",
      "c:\\Users\\Brice\\AppData\\Local\\Continuum\\Anaconda\\lib\\site-packages\\IPython\\kernel\\__main__.py:11: SettingWithCopyWarning: \n",
      "A value is trying to be set on a copy of a slice from a DataFrame.\n",
      "Try using .loc[row_indexer,col_indexer] = value instead\n",
      "\n",
      "See the the caveats in the documentation: http://pandas.pydata.org/pandas-docs/stable/indexing.html#indexing-view-versus-copy\n"
     ]
    },
    {
     "data": {
      "text/plain": [
       "1025"
      ]
     },
     "execution_count": 384,
     "metadata": {},
     "output_type": "execute_result"
    }
   ],
   "source": [
    "# We need to break up the links into IJ and JI if the link is bi-directional\n",
    "\n",
    "# IF direction is +1, use the IJ fields\n",
    "\n",
    "oneway_ij_df = total_merge.query('Direction == 1')\n",
    "oneway_ij_df.columns\n",
    "# Set the bike facility attribute field equal to the IJ facility field\n",
    "oneway_ij_df['@bkfac'] = oneway_ij_df['IJBikeFacil']\n",
    "\n",
    "# Set the average upslope field equal to the IJ field\n",
    "oneway_ij_df['@upslp'] = oneway_ij_df['avg_upslope_ij']\n",
    "len(oneway_ij_df)"
   ]
  },
  {
   "cell_type": "code",
   "execution_count": 385,
   "metadata": {
    "collapsed": false
   },
   "outputs": [
    {
     "name": "stderr",
     "output_type": "stream",
     "text": [
      "c:\\Users\\Brice\\AppData\\Local\\Continuum\\Anaconda\\lib\\site-packages\\IPython\\kernel\\__main__.py:6: SettingWithCopyWarning: \n",
      "A value is trying to be set on a copy of a slice from a DataFrame.\n",
      "Try using .loc[row_indexer,col_indexer] = value instead\n",
      "\n",
      "See the the caveats in the documentation: http://pandas.pydata.org/pandas-docs/stable/indexing.html#indexing-view-versus-copy\n",
      "c:\\Users\\Brice\\AppData\\Local\\Continuum\\Anaconda\\lib\\site-packages\\IPython\\kernel\\__main__.py:9: SettingWithCopyWarning: \n",
      "A value is trying to be set on a copy of a slice from a DataFrame.\n",
      "Try using .loc[row_indexer,col_indexer] = value instead\n",
      "\n",
      "See the the caveats in the documentation: http://pandas.pydata.org/pandas-docs/stable/indexing.html#indexing-view-versus-copy\n"
     ]
    },
    {
     "data": {
      "text/plain": [
       "2"
      ]
     },
     "execution_count": 385,
     "metadata": {},
     "output_type": "execute_result"
    }
   ],
   "source": [
    "# If direction is -1, use the JI fields\n",
    "\n",
    "oneway_ji_df = total_merge.query('Direction == -1')\n",
    "oneway_ji_df.columns\n",
    "# Set the bike facility attribute field equal to the IJ facility field\n",
    "oneway_ji_df['@bkfac'] = oneway_ji_df['JIBikeFacil']\n",
    "\n",
    "# Set the average upslope field equal to the IJ field\n",
    "oneway_ji_df['@upslp'] = oneway_ji_df['avg_upslope_ji']\n",
    "len(oneway_ji_df)"
   ]
  },
  {
   "cell_type": "code",
   "execution_count": 386,
   "metadata": {
    "collapsed": true
   },
   "outputs": [],
   "source": [
    "# if direction is 0, use IJ field and create another row for the JI direction\n",
    "# and assign IJ to the original field, JI to the copy\n",
    "twoway_df_ij = total_merge.query('Direction == 0')"
   ]
  },
  {
   "cell_type": "code",
   "execution_count": 387,
   "metadata": {
    "collapsed": false
   },
   "outputs": [],
   "source": [
    "# For reverse direction, make a copy of the twoway_df, but flip the I and J node column names\n",
    "twoway_df_ji['NewINode'] = twoway_df_ij['NewJNode']    # Copy j values from this table\n",
    "twoway_df_ji['NewJNode'] = twoway_df_ij['NewINode']    # and copy i values from the j values in"
   ]
  },
  {
   "cell_type": "code",
   "execution_count": 388,
   "metadata": {
    "collapsed": false
   },
   "outputs": [
    {
     "name": "stderr",
     "output_type": "stream",
     "text": [
      "c:\\Users\\Brice\\AppData\\Local\\Continuum\\Anaconda\\lib\\site-packages\\IPython\\kernel\\__main__.py:2: SettingWithCopyWarning: \n",
      "A value is trying to be set on a copy of a slice from a DataFrame.\n",
      "Try using .loc[row_indexer,col_indexer] = value instead\n",
      "\n",
      "See the the caveats in the documentation: http://pandas.pydata.org/pandas-docs/stable/indexing.html#indexing-view-versus-copy\n",
      "  from IPython.kernel.zmq import kernelapp as app\n",
      "c:\\Users\\Brice\\AppData\\Local\\Continuum\\Anaconda\\lib\\site-packages\\IPython\\kernel\\__main__.py:3: SettingWithCopyWarning: \n",
      "A value is trying to be set on a copy of a slice from a DataFrame.\n",
      "Try using .loc[row_indexer,col_indexer] = value instead\n",
      "\n",
      "See the the caveats in the documentation: http://pandas.pydata.org/pandas-docs/stable/indexing.html#indexing-view-versus-copy\n",
      "  app.launch_new_instance()\n"
     ]
    }
   ],
   "source": [
    "# Add the attributes for each of these dataframes\n",
    "twoway_df_ij['@bkfac'] = twoway_df_ij['IJBikeFacil']\n",
    "twoway_df_ij['@upslp'] = twoway_df_ij['avg_upslope_ij']\n",
    "\n",
    "\n",
    "twoway_df_ji['@bkfac'] = twoway_df_ji['JIBikeFacil']\n",
    "twoway_df_ji['@upslp'] = twoway_df_ji['avg_upslope_ji']"
   ]
  },
  {
   "cell_type": "code",
   "execution_count": null,
   "metadata": {
    "collapsed": false
   },
   "outputs": [],
   "source": []
  },
  {
   "cell_type": "code",
   "execution_count": 389,
   "metadata": {
    "collapsed": false
   },
   "outputs": [],
   "source": [
    "# Combine all the dataframes\n",
    "combined_df = pd.concat([twoway_df_ij, twoway_df_ji, oneway_ij_df, oneway_ji_df])"
   ]
  },
  {
   "cell_type": "code",
   "execution_count": 390,
   "metadata": {
    "collapsed": false
   },
   "outputs": [
    {
     "data": {
      "text/plain": [
       "47635"
      ]
     },
     "execution_count": 390,
     "metadata": {},
     "output_type": "execute_result"
    }
   ],
   "source": [
    "len(twoway_df_ij) + len(twoway_df_ji) + len(oneway_ij_df) + len(oneway_ji_df)"
   ]
  },
  {
   "cell_type": "code",
   "execution_count": null,
   "metadata": {
    "collapsed": false
   },
   "outputs": [],
   "source": []
  },
  {
   "cell_type": "code",
   "execution_count": null,
   "metadata": {
    "collapsed": false
   },
   "outputs": [],
   "source": []
  },
  {
   "cell_type": "code",
   "execution_count": 391,
   "metadata": {
    "collapsed": false
   },
   "outputs": [],
   "source": [
    "# We need to do some clean up because there are some odd results due to edge creation\n",
    "# For instance, the really short weave links have high slopes because they are such short segments\n",
    "# These should be ignored and slope replaced with 0\n",
    "\n",
    "# All the links with an edgeID of 98 should be removed from this set\n",
    "combined_df_trimmed = combined_df[combined_df[\"edgeID\"] <> 98]"
   ]
  },
  {
   "cell_type": "code",
   "execution_count": 392,
   "metadata": {
    "collapsed": false
   },
   "outputs": [
    {
     "data": {
      "text/plain": [
       "47635"
      ]
     },
     "execution_count": 392,
     "metadata": {},
     "output_type": "execute_result"
    }
   ],
   "source": [
    "len(combined_df)"
   ]
  },
  {
   "cell_type": "code",
   "execution_count": 393,
   "metadata": {
    "collapsed": false
   },
   "outputs": [],
   "source": [
    "# Write results out to a space-delimited input for Emme\n",
    "emme_attr = combined_df_trimmed[['NewINode', 'NewJNode', '@bkfac', '@upslp']]\n",
    "emme_attr.columns = ['inode', 'jnode', '@bkfac', '@upslp']"
   ]
  },
  {
   "cell_type": "code",
   "execution_count": 394,
   "metadata": {
    "collapsed": false
   },
   "outputs": [],
   "source": [
    "# Remove nan rows\n",
    "emme_attr = emme_attr[pd.notnull(emme_attr['inode'])]\n",
    "emme_attr = emme_attr[pd.notnull(emme_attr['jnode'])]"
   ]
  },
  {
   "cell_type": "code",
   "execution_count": 395,
   "metadata": {
    "collapsed": false
   },
   "outputs": [],
   "source": [
    "# Node columns need to be integers\n",
    "emme_attr['inode'] = emme_attr['inode'].astype('int')\n",
    "emme_attr['jnode'] = emme_attr['jnode'].astype('int')"
   ]
  },
  {
   "cell_type": "code",
   "execution_count": 396,
   "metadata": {
    "collapsed": true
   },
   "outputs": [],
   "source": [
    "# Rename the Node columns\n",
    "\n",
    "emme_attr.to_csv('emme_attr.in', sep=' ', index=False)"
   ]
  },
  {
   "cell_type": "code",
   "execution_count": 404,
   "metadata": {
    "collapsed": false
   },
   "outputs": [
    {
     "data": {
      "text/html": [
       "<div>\n",
       "<table border=\"1\" class=\"dataframe\">\n",
       "  <thead>\n",
       "    <tr style=\"text-align: right;\">\n",
       "      <th></th>\n",
       "      <th>Unnamed: 0</th>\n",
       "      <th>edgeID</th>\n",
       "      <th>elev_gain_ij</th>\n",
       "      <th>elev_gain_ji</th>\n",
       "      <th>Shape_Length_x</th>\n",
       "      <th>avg_upslope_ij</th>\n",
       "      <th>avg_upslope_ji</th>\n",
       "      <th>PSRCEdgeID</th>\n",
       "      <th>NewINode</th>\n",
       "      <th>NewJNode</th>\n",
       "      <th>ActiveLink</th>\n",
       "      <th>FacilityTy</th>\n",
       "      <th>Fullname</th>\n",
       "      <th>Direction</th>\n",
       "      <th>Shape_Length_y</th>\n",
       "      <th>IJBikeFacil</th>\n",
       "      <th>JIBikeFacil</th>\n",
       "    </tr>\n",
       "  </thead>\n",
       "  <tbody>\n",
       "    <tr>\n",
       "      <th>6759</th>\n",
       "      <td>6759</td>\n",
       "      <td>44686</td>\n",
       "      <td>51.685486</td>\n",
       "      <td>0.000000</td>\n",
       "      <td>1383.880796</td>\n",
       "      <td>0.037348</td>\n",
       "      <td>0.000000</td>\n",
       "      <td>44686</td>\n",
       "      <td>86145</td>\n",
       "      <td>86906</td>\n",
       "      <td>1</td>\n",
       "      <td>6</td>\n",
       "      <td>244TH</td>\n",
       "      <td>0</td>\n",
       "      <td>1383.880796</td>\n",
       "      <td>2</td>\n",
       "      <td>2</td>\n",
       "    </tr>\n",
       "    <tr>\n",
       "      <th>7137</th>\n",
       "      <td>7137</td>\n",
       "      <td>48243</td>\n",
       "      <td>14.515994</td>\n",
       "      <td>12.693770</td>\n",
       "      <td>1754.458462</td>\n",
       "      <td>0.008274</td>\n",
       "      <td>0.007235</td>\n",
       "      <td>48243</td>\n",
       "      <td>91075</td>\n",
       "      <td>90464</td>\n",
       "      <td>1</td>\n",
       "      <td>6</td>\n",
       "      <td>ALKI</td>\n",
       "      <td>0</td>\n",
       "      <td>1754.458462</td>\n",
       "      <td>2</td>\n",
       "      <td>2</td>\n",
       "    </tr>\n",
       "    <tr>\n",
       "      <th>7167</th>\n",
       "      <td>7167</td>\n",
       "      <td>48536</td>\n",
       "      <td>1.082335</td>\n",
       "      <td>2.706211</td>\n",
       "      <td>707.972398</td>\n",
       "      <td>0.001529</td>\n",
       "      <td>0.003822</td>\n",
       "      <td>48536</td>\n",
       "      <td>91487</td>\n",
       "      <td>91309</td>\n",
       "      <td>1</td>\n",
       "      <td>6</td>\n",
       "      <td>ALKI</td>\n",
       "      <td>0</td>\n",
       "      <td>707.972398</td>\n",
       "      <td>2</td>\n",
       "      <td>2</td>\n",
       "    </tr>\n",
       "    <tr>\n",
       "      <th>7172</th>\n",
       "      <td>7172</td>\n",
       "      <td>48563</td>\n",
       "      <td>0.470341</td>\n",
       "      <td>2.292347</td>\n",
       "      <td>353.888365</td>\n",
       "      <td>0.001329</td>\n",
       "      <td>0.006478</td>\n",
       "      <td>48563</td>\n",
       "      <td>91309</td>\n",
       "      <td>91224</td>\n",
       "      <td>1</td>\n",
       "      <td>6</td>\n",
       "      <td>ALKI</td>\n",
       "      <td>0</td>\n",
       "      <td>353.888365</td>\n",
       "      <td>2</td>\n",
       "      <td>2</td>\n",
       "    </tr>\n",
       "    <tr>\n",
       "      <th>7173</th>\n",
       "      <td>7173</td>\n",
       "      <td>48564</td>\n",
       "      <td>0.985679</td>\n",
       "      <td>1.662665</td>\n",
       "      <td>383.532787</td>\n",
       "      <td>0.002570</td>\n",
       "      <td>0.004335</td>\n",
       "      <td>48564</td>\n",
       "      <td>91224</td>\n",
       "      <td>91075</td>\n",
       "      <td>1</td>\n",
       "      <td>6</td>\n",
       "      <td>ALKI</td>\n",
       "      <td>0</td>\n",
       "      <td>383.532787</td>\n",
       "      <td>2</td>\n",
       "      <td>2</td>\n",
       "    </tr>\n",
       "    <tr>\n",
       "      <th>16017</th>\n",
       "      <td>16017</td>\n",
       "      <td>200858</td>\n",
       "      <td>2.238853</td>\n",
       "      <td>0.543217</td>\n",
       "      <td>257.708942</td>\n",
       "      <td>0.008688</td>\n",
       "      <td>0.002108</td>\n",
       "      <td>200858</td>\n",
       "      <td>88056</td>\n",
       "      <td>87930</td>\n",
       "      <td>1</td>\n",
       "      <td>8</td>\n",
       "      <td>6TH</td>\n",
       "      <td>0</td>\n",
       "      <td>257.708942</td>\n",
       "      <td>2</td>\n",
       "      <td>2</td>\n",
       "    </tr>\n",
       "    <tr>\n",
       "      <th>18014</th>\n",
       "      <td>18014</td>\n",
       "      <td>204644</td>\n",
       "      <td>40.225244</td>\n",
       "      <td>40.571952</td>\n",
       "      <td>5610.263779</td>\n",
       "      <td>0.007170</td>\n",
       "      <td>0.007232</td>\n",
       "      <td>204644</td>\n",
       "      <td>87979</td>\n",
       "      <td>90464</td>\n",
       "      <td>1</td>\n",
       "      <td>6</td>\n",
       "      <td>ALKI</td>\n",
       "      <td>0</td>\n",
       "      <td>5610.263779</td>\n",
       "      <td>2</td>\n",
       "      <td>2</td>\n",
       "    </tr>\n",
       "  </tbody>\n",
       "</table>\n",
       "</div>"
      ],
      "text/plain": [
       "       Unnamed: 0  edgeID  elev_gain_ij  elev_gain_ji  Shape_Length_x  \\\n",
       "6759         6759   44686     51.685486      0.000000     1383.880796   \n",
       "7137         7137   48243     14.515994     12.693770     1754.458462   \n",
       "7167         7167   48536      1.082335      2.706211      707.972398   \n",
       "7172         7172   48563      0.470341      2.292347      353.888365   \n",
       "7173         7173   48564      0.985679      1.662665      383.532787   \n",
       "16017       16017  200858      2.238853      0.543217      257.708942   \n",
       "18014       18014  204644     40.225244     40.571952     5610.263779   \n",
       "\n",
       "       avg_upslope_ij  avg_upslope_ji  PSRCEdgeID  NewINode  NewJNode  \\\n",
       "6759         0.037348        0.000000       44686     86145     86906   \n",
       "7137         0.008274        0.007235       48243     91075     90464   \n",
       "7167         0.001529        0.003822       48536     91487     91309   \n",
       "7172         0.001329        0.006478       48563     91309     91224   \n",
       "7173         0.002570        0.004335       48564     91224     91075   \n",
       "16017        0.008688        0.002108      200858     88056     87930   \n",
       "18014        0.007170        0.007232      204644     87979     90464   \n",
       "\n",
       "       ActiveLink  FacilityTy Fullname  Direction  Shape_Length_y  \\\n",
       "6759            1           6    244TH          0     1383.880796   \n",
       "7137            1           6     ALKI          0     1754.458462   \n",
       "7167            1           6     ALKI          0      707.972398   \n",
       "7172            1           6     ALKI          0      353.888365   \n",
       "7173            1           6     ALKI          0      383.532787   \n",
       "16017           1           8      6TH          0      257.708942   \n",
       "18014           1           6     ALKI          0     5610.263779   \n",
       "\n",
       "       IJBikeFacil  JIBikeFacil  \n",
       "6759             2            2  \n",
       "7137             2            2  \n",
       "7167             2            2  \n",
       "7172             2            2  \n",
       "7173             2            2  \n",
       "16017            2            2  \n",
       "18014            2            2  "
      ]
     },
     "execution_count": 404,
     "metadata": {},
     "output_type": "execute_result"
    }
   ],
   "source": [
    "total_merge.query('IJBikeFacil == 2')"
   ]
  },
  {
   "cell_type": "code",
   "execution_count": 397,
   "metadata": {
    "collapsed": false
   },
   "outputs": [
    {
     "data": {
      "text/plain": [
       "15811    22.375619\n",
       "1113      2.825998\n",
       "25465     2.270261\n",
       "1076      2.224505\n",
       "1076      2.177039\n",
       "Name: @upslp, dtype: float64"
      ]
     },
     "execution_count": 397,
     "metadata": {},
     "output_type": "execute_result"
    }
   ],
   "source": [
    "emme_attr['@upslp'].nlargest(5)"
   ]
  },
  {
   "cell_type": "code",
   "execution_count": 377,
   "metadata": {
    "collapsed": false
   },
   "outputs": [
    {
     "data": {
      "text/html": [
       "<div>\n",
       "<table border=\"1\" class=\"dataframe\">\n",
       "  <thead>\n",
       "    <tr style=\"text-align: right;\">\n",
       "      <th></th>\n",
       "      <th>inode</th>\n",
       "      <th>jnode</th>\n",
       "      <th>@bkfac</th>\n",
       "      <th>@upslp</th>\n",
       "    </tr>\n",
       "  </thead>\n",
       "  <tbody>\n",
       "    <tr>\n",
       "      <th>1381</th>\n",
       "      <td>81733</td>\n",
       "      <td>81585</td>\n",
       "      <td>0</td>\n",
       "      <td>0.134287</td>\n",
       "    </tr>\n",
       "    <tr>\n",
       "      <th>1381</th>\n",
       "      <td>81585</td>\n",
       "      <td>81733</td>\n",
       "      <td>0</td>\n",
       "      <td>0.134604</td>\n",
       "    </tr>\n",
       "  </tbody>\n",
       "</table>\n",
       "</div>"
      ],
      "text/plain": [
       "      inode  jnode  @bkfac    @upslp\n",
       "1381  81733  81585       0  0.134287\n",
       "1381  81585  81733       0  0.134604"
      ]
     },
     "execution_count": 377,
     "metadata": {},
     "output_type": "execute_result"
    }
   ],
   "source": [
    "emme_attr.loc[1381]"
   ]
  },
  {
   "cell_type": "code",
   "execution_count": null,
   "metadata": {
    "collapsed": true
   },
   "outputs": [],
   "source": []
  },
  {
   "cell_type": "code",
   "execution_count": null,
   "metadata": {
    "collapsed": true
   },
   "outputs": [],
   "source": []
  }
 ],
 "metadata": {
  "kernelspec": {
   "display_name": "Python 2",
   "language": "python",
   "name": "python2"
  },
  "language_info": {
   "codemirror_mode": {
    "name": "ipython",
    "version": 2
   },
   "file_extension": ".py",
   "mimetype": "text/x-python",
   "name": "python",
   "nbconvert_exporter": "python",
   "pygments_lexer": "ipython2",
   "version": "2.7.10"
  }
 },
 "nbformat": 4,
 "nbformat_minor": 0
}
