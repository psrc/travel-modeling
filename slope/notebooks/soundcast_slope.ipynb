{
 "cells": [
  {
   "cell_type": "code",
   "execution_count": 7,
   "metadata": {
    "collapsed": false
   },
   "outputs": [],
   "source": [
    "import os\n",
    "import pandas as pd\n",
    "import archook\n",
    "\n",
    "# Use archook to import arcpy\n",
    "archook.get_arcpy()\n",
    "import arcpy\n",
    "from arcpy.sa import *"
   ]
  },
  {
   "cell_type": "markdown",
   "metadata": {},
   "source": [
    "# Uplope Calculations for Bike Assignment"
   ]
  },
  {
   "cell_type": "markdown",
   "metadata": {},
   "source": [
    "### Define Input Locations"
   ]
  },
  {
   "cell_type": "code",
   "execution_count": 11,
   "metadata": {
    "collapsed": false
   },
   "outputs": [],
   "source": [
    "# Emme network shapefile location\n",
    "emme_shapefile = r'R:\\SoundCast\\Inputs\\2014\\networks\\edges_0.shp'\n",
    "\n",
    "output_dir = r'R:\\Bike\\slope\\soundcast'\n",
    "\n",
    "# Create a geodatabase for working with data\n",
    "geodb = r'soundcast_slope.gdb'\n",
    "arcpy.env.workspace = os.path.join(output_dir, geodb)\n",
    "\n",
    "# name of Emme network shapefile, after exported to geodatabase\n",
    "in_fc = geodb + r'\\edges_0'\n",
    "\n",
    "# Elevation raster location\n",
    "in_raster = r'W:\\geodata\\raster\\dem30m'"
   ]
  },
  {
   "cell_type": "markdown",
   "metadata": {},
   "source": [
    "### Load and Process Data"
   ]
  },
  {
   "cell_type": "code",
   "execution_count": 5,
   "metadata": {
    "collapsed": false
   },
   "outputs": [
    {
     "data": {
      "text/plain": [
       "<Result 'R:\\\\Bike\\\\slope\\\\soundcast\\\\soundcast_slope.gdb'>"
      ]
     },
     "execution_count": 5,
     "metadata": {},
     "output_type": "execute_result"
    }
   ],
   "source": [
    "# Create new geodatabase\n",
    "arcpy.CreateFileGDB_management(output_dir, geodb)\n",
    "\n",
    "# Add soundcast network shapefile to feature class\n",
    "arcpy.FeatureClassToGeodatabase_conversion(emme_shapefile, os.path.join(output_dir,geodb))"
   ]
  },
  {
   "cell_type": "code",
   "execution_count": 76,
   "metadata": {
    "collapsed": false
   },
   "outputs": [
    {
     "data": {
      "text/plain": [
       "<Result 'R:\\\\Bike\\\\slope\\\\soundcast\\\\soundcast_slope.gdb\\\\edges_0'>"
      ]
     },
     "execution_count": 76,
     "metadata": {},
     "output_type": "execute_result"
    }
   ],
   "source": [
    "arcpy.env.workspace = os.path.join(output_dir,geodb)\n",
    "\n",
    "# Add field to the feature class, concatentating the inode and jnode for a unique ID\n",
    "arcpy.AddField_management('edges_0', 'ID', \"TEXT\")\n",
    "\n",
    "arcpy.CalculateField_management('edges_0', 'ID', \"str(!NewINode!)+'-'+str(!NewJNode!)\",'PYTHON_9.3')"
   ]
  },
  {
   "cell_type": "code",
   "execution_count": 91,
   "metadata": {
    "collapsed": false
   },
   "outputs": [],
   "source": [
    "# Find two-way links - we only need to split these links once\n",
    "emme_links = arcpy.da.FeatureClassToNumPyArray(os.path.join(output_dir,in_fc), ('ID','Shape_Length','NewINode','NewJNode'))\n",
    "df = pd.DataFrame(emme_links)"
   ]
  },
  {
   "cell_type": "code",
   "execution_count": 92,
   "metadata": {
    "collapsed": false
   },
   "outputs": [],
   "source": [
    "# Change geodatabase field names to match more generic Emme shapefile network output format\n",
    "\n",
    "# Convert shape_length to miles\n",
    "df['LENGTH'] = df['Shape_Length']/5280\n",
    "df.rename(columns={'NewINode': 'INODE', 'NewJNode': 'JNODE'}, inplace=True)\n",
    "df.drop('Shape_Length',axis=1,inplace=True)"
   ]
  },
  {
   "cell_type": "code",
   "execution_count": 39,
   "metadata": {
    "collapsed": false
   },
   "outputs": [
    {
     "data": {
      "text/plain": [
       "18449"
      ]
     },
     "execution_count": 39,
     "metadata": {},
     "output_type": "execute_result"
    }
   ],
   "source": [
    "# Compare this network versus existing slope attributes\n",
    "# Only process on the subset that don't have slope already attached\n",
    "old_attr = pd.read_csv(r'R:\\SoundCast\\Inputs\\2014\\bikes\\emme_attr.in',sep=' ')\n",
    "old_attr['ID'] = old_attr['inode'].astype('str')+'-'+old_attr['jnode'].astype('str')\n",
    "\n",
    "# List of link IDs from imported network not in current attr file\n",
    "len(df[-df['ID'].isin(old_attr['ID'].values)])"
   ]
  },
  {
   "cell_type": "code",
   "execution_count": null,
   "metadata": {
    "collapsed": false
   },
   "outputs": [],
   "source": []
  },
  {
   "cell_type": "code",
   "execution_count": 50,
   "metadata": {
    "collapsed": false
   },
   "outputs": [],
   "source": [
    "# loop through each link \n",
    "ij_links = []\n",
    "ji_links = []\n",
    "\n",
    "for rownum in xrange(len(df)):\n",
    "    inode = df.iloc[rownum].INODE\n",
    "    jnode = df.iloc[rownum].JNODE\n",
    "    ij_df = df[(df['INODE']==inode)&(df['JNODE']==jnode)]\n",
    "    if len(ij_df) == 1:\n",
    "        ij_id = ij_df.ID.values[0]\n",
    "    \n",
    "    ji_df = df[(df['INODE']==jnode)&(df['JNODE']==inode)]\n",
    "    if len(ji_df) == 1:\n",
    "        ji_id = ji_df.ID.values[0]\n",
    "    else:\n",
    "        # indicates a one-way link with no ji\n",
    "        # append to ij_links and skip to next\n",
    "        ij_links.append(ij_id)\n",
    "        continue\n",
    "    \n",
    "    if ji_id not in ij_links:\n",
    "        ij_links.append(ij_id)\n",
    "    else:\n",
    "        ji_links.append(ij_id)"
   ]
  },
  {
   "cell_type": "code",
   "execution_count": 51,
   "metadata": {
    "collapsed": false
   },
   "outputs": [],
   "source": [
    "ij_df = df[df['ID'].isin(ij_links)]\n",
    "ji_df = df[df['ID'].isin(ji_links)]"
   ]
  },
  {
   "cell_type": "code",
   "execution_count": null,
   "metadata": {
    "collapsed": false
   },
   "outputs": [],
   "source": []
  },
  {
   "cell_type": "code",
   "execution_count": 52,
   "metadata": {
    "collapsed": false
   },
   "outputs": [
    {
     "data": {
      "text/plain": [
       "True"
      ]
     },
     "execution_count": 52,
     "metadata": {},
     "output_type": "execute_result"
    }
   ],
   "source": [
    "len(ij_df)+len(ji_df)==len(df)"
   ]
  },
  {
   "cell_type": "markdown",
   "metadata": {},
   "source": [
    "- export results to feature class"
   ]
  },
  {
   "cell_type": "markdown",
   "metadata": {},
   "source": [
    "- split network lines into points\n",
    "- note: this takes 30-60 minutes"
   ]
  },
  {
   "cell_type": "markdown",
   "metadata": {},
   "source": [
    "- should only have to do this one time\n",
    "- subsequent buffering will compare the imported shapefile links to the result of the cold-start process and only work on the links that haven't been processed yet, appending them to the existing results"
   ]
  },
  {
   "cell_type": "code",
   "execution_count": 94,
   "metadata": {
    "collapsed": false
   },
   "outputs": [],
   "source": [
    "# Loop through each network link and split the line into points, saving them in points array\n",
    "points = []\n",
    "sr = arcpy.Describe(os.path.join(output_dir,in_fc)).spatialReference\n",
    "counter = 0\n",
    "id_field = 'ID'   \n",
    "\n",
    "# Set the step based on the line's length\n",
    "# How many times must the line be split\n",
    "# \n",
    "# Using 30 of fidelity - data is available every 30 meters so this may be unnecessary\n",
    "segment_len = 30\n",
    "\n",
    "# Create seperate array that holds tuple of link ID and point coordinates (in state plane coords)\n",
    "final_result = []\n",
    "count = 0\n",
    "with arcpy.da.SearchCursor(os.path.join(output_dir,in_fc),[\"SHAPE@\",id_field], spatial_reference=sr) as cursor:  \n",
    "    for row in cursor:\n",
    "        # Only process IJ links, because JI are exactly the same polyline shape\n",
    "        if row[1] in ij_links:\n",
    "            count += 1\n",
    "            split_count = int(row[0].length/segment_len)\n",
    "            big_output = []\n",
    "            for i in range(split_count):\n",
    "                point = row[0].positionAlongLine(i*segment_len)\n",
    "                points.append(point)\n",
    "                x = point.firstPoint.X\n",
    "                y = point.firstPoint.Y\n",
    "                point_list = []\n",
    "                point_list.append(x)\n",
    "                point_list.append(y)\n",
    "                output = (str(row[1]), (x, y))\n",
    "                final_result.append(output)"
   ]
  },
  {
   "cell_type": "markdown",
   "metadata": {},
   "source": [
    "- Export results to a feature class called link_components"
   ]
  },
  {
   "cell_type": "code",
   "execution_count": 95,
   "metadata": {
    "collapsed": false
   },
   "outputs": [
    {
     "data": {
      "text/plain": [
       "<Result 'R:\\\\Bike\\\\slope\\\\soundcast\\\\soundcast_slope.gdb\\\\link_components'>"
      ]
     },
     "execution_count": 95,
     "metadata": {},
     "output_type": "execute_result"
    }
   ],
   "source": [
    "point_out_new = r'link_components'\n",
    "# arcpy.CopyFeatures_management(points, r\"R:\\Bike\\slope\\bkr\\bkr_sample.gdb\" + point_out_new)\n",
    "# delete_fc = True\n",
    "# if delete_fc:\n",
    "#     arcpy.DeleteFeatures_management(r\"R:\\Bike\\slope\\bkr\\bkr_network.gdb\" + point_out_new)\n",
    "arcpy.CopyFeatures_management(points, os.path.join(output_dir,geodb,point_out_new))"
   ]
  },
  {
   "cell_type": "code",
   "execution_count": 96,
   "metadata": {
    "collapsed": false
   },
   "outputs": [
    {
     "data": {
      "text/plain": [
       "'R:\\\\Bike\\\\slope\\\\soundcast\\\\soundcast_slope.gdb\\\\link_components'"
      ]
     },
     "execution_count": 96,
     "metadata": {},
     "output_type": "execute_result"
    }
   ],
   "source": [
    "os.path.join(output_dir,geodb,point_out_new)"
   ]
  },
  {
   "cell_type": "markdown",
   "metadata": {},
   "source": [
    "- Intersect the points with the links to get the edge IDs"
   ]
  },
  {
   "cell_type": "code",
   "execution_count": 98,
   "metadata": {
    "collapsed": false
   },
   "outputs": [
    {
     "data": {
      "text/plain": [
       "<Result 'R:\\\\Bike\\\\slope\\\\soundcast\\\\soundcast_slope.gdb\\\\link_components_full'>"
      ]
     },
     "execution_count": 98,
     "metadata": {},
     "output_type": "execute_result"
    }
   ],
   "source": [
    "inFeatures = [\"link_components\", \"edges_0\"]\n",
    "intersectOutput = \"link_components_full\"\n",
    "clusterTolerance = 1.5    \n",
    "arcpy.Intersect_analysis(inFeatures, intersectOutput, \"\", clusterTolerance, \"point\")"
   ]
  },
  {
   "cell_type": "markdown",
   "metadata": {},
   "source": [
    "- Intersect with a raster to get elevation\n",
    "- import elevation raster from W:/geodata/raster/dem30m\n",
    "    - this is the raster of elevations at 30 m fidelity\n",
    "    - note that elevation values are in METERS"
   ]
  },
  {
   "cell_type": "code",
   "execution_count": 99,
   "metadata": {
    "collapsed": false
   },
   "outputs": [
    {
     "data": {
      "text/plain": [
       "<geoprocessing server result object at 0x173b08d0>"
      ]
     },
     "execution_count": 99,
     "metadata": {},
     "output_type": "execute_result"
    }
   ],
   "source": [
    "# Note that spatial analyst must be active for this portion\n",
    "arcpy.CheckOutExtension(\"Spatial\")\n",
    "# arcpy.env.workspace = r'R:\\Bike\\slope\\bkr\\bkr_network.gdb'\n",
    "\n",
    "in_point_features = r'link_components_full'\n",
    "out_point_features = r'link_components_elevation'\n",
    "ExtractValuesToPoints(in_point_features, in_raster, out_point_features)"
   ]
  },
  {
   "cell_type": "code",
   "execution_count": 102,
   "metadata": {
    "collapsed": false
   },
   "outputs": [],
   "source": [
    "# Read resulting intersection of points with elevation into numpy/pandas\n",
    "elevation_shp = arcpy.da.FeatureClassToNumPyArray(out_point_features, ('RASTERVALU','ID','NewINode','NewJNode'))\n",
    "df = pd.DataFrame(elevation_shp)"
   ]
  },
  {
   "cell_type": "code",
   "execution_count": 103,
   "metadata": {
    "collapsed": false
   },
   "outputs": [],
   "source": [
    "# List of links IDs\n",
    "link_list = df.groupby('ID').min().index"
   ]
  },
  {
   "cell_type": "code",
   "execution_count": 104,
   "metadata": {
    "collapsed": false
   },
   "outputs": [],
   "source": [
    "# Loop through all edges\n",
    "# Assume that all links are bi-directional and compute ij and ji direction slopes\n",
    "# if a line is truly one-way, we will discard the ji direction\n",
    "# since most are two-way it's worth it calculate for all links and merge results later\n",
    "upslope_ij = {}\n",
    "upslope_ji = {}\n",
    "for link in link_list: \n",
    "    link_df = df[df['ID'] == link]\n",
    "\n",
    "    # Extract the elevation data to numPy because it's faster to loop over\n",
    "    elev_data = link_df['RASTERVALU'].values\n",
    "\n",
    "    # Loop through each point in each edge\n",
    "    upslope_ij[link] = 0\n",
    "    upslope_ji[link] = 0\n",
    "    for point in xrange(len(elev_data)-1):  # stop short of the list because we only want to compare the 2nd to last to last\n",
    "        elev_diff = elev_data[point+1] - elev_data[point]\n",
    "        if elev_diff > 0:\n",
    "            upslope_ij[link] += elev_diff\n",
    "        elif elev_diff < 0:\n",
    "            upslope_ji[link] += abs(elev_diff)      # since we know it will be \"negative\" for the JI direction when calculated\n",
    "                                                    # in references to the IJ direction"
   ]
  },
  {
   "cell_type": "code",
   "execution_count": 106,
   "metadata": {
    "collapsed": false
   },
   "outputs": [],
   "source": [
    "# Import dictionary to a series and attach upslope back on the original dataframe\n",
    "upslope_ij_s = pd.Series(upslope_ij, name='elev_gain_ij')\n",
    "upslope_ji_s = pd.Series(upslope_ji, name='elev_gain_ji')\n",
    "upslope_ij_s.index.name='ID'\n",
    "upslope_ij_s = upslope_ij_s.reset_index()\n",
    "upslope_ji_s.index.name='ID'\n",
    "upslope_ji_s = upslope_ji_s.reset_index()\n",
    "\n",
    "# Attach ij-direction slope to IJ links\n",
    "slope_ij = pd.merge(ij_df,upslope_ij_s,on='ID')\n",
    "slope_ij.rename(columns={\"elev_gain_ij\": \"elev_gain\"}, inplace=True)\n",
    "\n",
    "# Attach ji-direction slope to JI links\n",
    "\n",
    "# fo JI links, flip the i and j values to get lookup of ji links\n",
    "upslope_ji_s['newID'] = upslope_ji_s.ID.apply(lambda row: row.split('-')[-1]+\"-\"+row.split('-')[0])\n",
    "slope_ji = pd.merge(ji_df,upslope_ji_s,left_on='ID',right_on='newID')\n",
    "slope_ji.rename(columns={\"elev_gain_ji\": \"elev_gain\"}, inplace=True)\n",
    "slope_ji['ID'] = slope_ji['newID']\n",
    "slope_ji.drop(['ID_x','ID_y','newID'],axis=1,inplace=True)\n",
    "\n",
    "# Append ji rows to ij to get a complete list of links\n",
    "slope_df = slope_ij.append(slope_ji)\n",
    "\n",
    "# Convert elevation into feet from meters\n",
    "slope_df['elev_gain'] = slope_df['elev_gain']*3.28084"
   ]
  },
  {
   "cell_type": "code",
   "execution_count": 107,
   "metadata": {
    "collapsed": false
   },
   "outputs": [],
   "source": [
    "# Calcualte the average upslope in feet/feet\n",
    "# Network distance measured in: miles, elevation in meters \n",
    "slope_df['avg_upslope'] = slope_df['elev_gain']/(slope_df['LENGTH']*5280)"
   ]
  },
  {
   "cell_type": "markdown",
   "metadata": {},
   "source": [
    "- reformat and export as emme_attr.in\n",
    "- for BKR, assume all bike facilities are 0 for now"
   ]
  },
  {
   "cell_type": "code",
   "execution_count": 109,
   "metadata": {
    "collapsed": false
   },
   "outputs": [],
   "source": [
    "emme_attr = slope_df\n",
    "emme_attr.rename(columns={'INODE':'inode','JNODE':'jnode','avg_upslope':'@upslp'},\n",
    "                inplace=True)\n",
    "\n",
    "emme_attr.drop(['LENGTH','elev_gain'], axis=1, inplace=True)\n",
    "\n",
    "# add bike facility of 0\n",
    "emme_attr['@bkfac'] = 0"
   ]
  },
  {
   "cell_type": "markdown",
   "metadata": {},
   "source": [
    "- some very short links are not processed\n",
    "- assume zero elevation change for these"
   ]
  },
  {
   "cell_type": "code",
   "execution_count": 113,
   "metadata": {
    "collapsed": true
   },
   "outputs": [],
   "source": [
    "# Get list of IDs from network not included in the final outpu\n",
    "df = pd.DataFrame(emme_links)"
   ]
  },
  {
   "cell_type": "code",
   "execution_count": 114,
   "metadata": {
    "collapsed": false
   },
   "outputs": [
    {
     "name": "stdout",
     "output_type": "stream",
     "text": [
      "34224\n",
      "34271\n"
     ]
    }
   ],
   "source": [
    "print len(emme_attr)\n",
    "print len(df)"
   ]
  },
  {
   "cell_type": "code",
   "execution_count": null,
   "metadata": {
    "collapsed": false
   },
   "outputs": [],
   "source": []
  },
  {
   "cell_type": "code",
   "execution_count": 119,
   "metadata": {
    "collapsed": false
   },
   "outputs": [],
   "source": [
    "missing_links = df[-df['ID'].isin(emme_attr['ID'].values)]\n",
    "missing_links = missing_links[['ID','NewINode','NewJNode']]\n",
    "missing_links.columns = [i.lower() for i in missing_links.columns] \n",
    "\n",
    "missing_links['@upslp'] = 0\n",
    "missing_links['@bkfac'] = 0\n",
    "\n",
    "emme_attr = emme_attr.append(missing_links)\n",
    "\n",
    "emme_attr.drop(['id','ID'], axis=1,inplace=True)\n",
    "emme_attr = emme_attr[['inode','jnode','@bkfac','@upslp']]"
   ]
  },
  {
   "cell_type": "code",
   "execution_count": 120,
   "metadata": {
    "collapsed": true
   },
   "outputs": [],
   "source": [
    "# Export emme transaction file\n",
    "emme_attr.to_csv(output_dir + r'\\emme_attr.in', sep=' ', index=False)\n",
    "\n",
    "# Export version for use in ArcMap\n",
    "emme_attr['id']=emme_attr['inode'].astype('str')+'-'+emme_attr['jnode'].astype('str')\n",
    "emme_attr.to_csv(output_dir + r'\\emme_attr.csv', sep=' ', index=False)"
   ]
  },
  {
   "cell_type": "code",
   "execution_count": 121,
   "metadata": {
    "collapsed": false
   },
   "outputs": [],
   "source": [
    "# Load the soundcast results for comparison\n",
    "df = pd.read_csv(r'R:\\SoundCast\\Inputs\\2014\\bikes\\emme_attr.in', sep=' ')"
   ]
  },
  {
   "cell_type": "code",
   "execution_count": 122,
   "metadata": {
    "collapsed": false
   },
   "outputs": [
    {
     "name": "stdout",
     "output_type": "stream",
     "text": [
      "22.3756189894\n",
      "0.0332534048304\n",
      "0.0192160023467\n"
     ]
    }
   ],
   "source": [
    "print df['@upslp'].max()\n",
    "print df['@upslp'].mean()\n",
    "print df['@upslp'].median()"
   ]
  },
  {
   "cell_type": "code",
   "execution_count": 123,
   "metadata": {
    "collapsed": false,
    "scrolled": true
   },
   "outputs": [
    {
     "name": "stdout",
     "output_type": "stream",
     "text": [
      "7.41235999936\n",
      "0.0256037075541\n",
      "0.0102209055315\n"
     ]
    }
   ],
   "source": [
    "print emme_attr['@upslp'].max()\n",
    "print emme_attr['@upslp'].mean()\n",
    "print emme_attr['@upslp'].median()"
   ]
  },
  {
   "cell_type": "code",
   "execution_count": 124,
   "metadata": {
    "collapsed": false
   },
   "outputs": [
    {
     "data": {
      "text/html": [
       "<div style=\"max-height:1000px;max-width:1500px;overflow:auto;\">\n",
       "<table border=\"1\" class=\"dataframe\">\n",
       "  <thead>\n",
       "    <tr style=\"text-align: right;\">\n",
       "      <th></th>\n",
       "      <th>inode</th>\n",
       "      <th>jnode</th>\n",
       "      <th>@bkfac</th>\n",
       "      <th>@upslp</th>\n",
       "      <th>id</th>\n",
       "    </tr>\n",
       "  </thead>\n",
       "  <tbody>\n",
       "    <tr>\n",
       "      <th>0    </th>\n",
       "      <td> 148702</td>\n",
       "      <td> 148696</td>\n",
       "      <td> 0</td>\n",
       "      <td> 0.000000</td>\n",
       "      <td> 148702.0-148696.0</td>\n",
       "    </tr>\n",
       "    <tr>\n",
       "      <th>1    </th>\n",
       "      <td>  69493</td>\n",
       "      <td>  69494</td>\n",
       "      <td> 0</td>\n",
       "      <td> 0.000000</td>\n",
       "      <td>   69493.0-69494.0</td>\n",
       "    </tr>\n",
       "    <tr>\n",
       "      <th>2    </th>\n",
       "      <td> 119584</td>\n",
       "      <td> 119589</td>\n",
       "      <td> 0</td>\n",
       "      <td> 0.003672</td>\n",
       "      <td> 119584.0-119589.0</td>\n",
       "    </tr>\n",
       "    <tr>\n",
       "      <th>3    </th>\n",
       "      <td> 119589</td>\n",
       "      <td> 119598</td>\n",
       "      <td> 0</td>\n",
       "      <td> 0.005043</td>\n",
       "      <td> 119589.0-119598.0</td>\n",
       "    </tr>\n",
       "    <tr>\n",
       "      <th>4    </th>\n",
       "      <td> 119598</td>\n",
       "      <td> 119606</td>\n",
       "      <td> 0</td>\n",
       "      <td> 0.015402</td>\n",
       "      <td> 119598.0-119606.0</td>\n",
       "    </tr>\n",
       "    <tr>\n",
       "      <th>5    </th>\n",
       "      <td> 153482</td>\n",
       "      <td> 153511</td>\n",
       "      <td> 0</td>\n",
       "      <td> 0.031945</td>\n",
       "      <td> 153482.0-153511.0</td>\n",
       "    </tr>\n",
       "    <tr>\n",
       "      <th>6    </th>\n",
       "      <td> 123525</td>\n",
       "      <td> 123529</td>\n",
       "      <td> 0</td>\n",
       "      <td> 0.046859</td>\n",
       "      <td> 123525.0-123529.0</td>\n",
       "    </tr>\n",
       "    <tr>\n",
       "      <th>7    </th>\n",
       "      <td>  71301</td>\n",
       "      <td>  71533</td>\n",
       "      <td> 0</td>\n",
       "      <td> 0.000000</td>\n",
       "      <td>   71301.0-71533.0</td>\n",
       "    </tr>\n",
       "    <tr>\n",
       "      <th>8    </th>\n",
       "      <td>  71533</td>\n",
       "      <td>  71639</td>\n",
       "      <td> 0</td>\n",
       "      <td> 0.000000</td>\n",
       "      <td>   71533.0-71639.0</td>\n",
       "    </tr>\n",
       "    <tr>\n",
       "      <th>9    </th>\n",
       "      <td>  68363</td>\n",
       "      <td>  68348</td>\n",
       "      <td> 0</td>\n",
       "      <td> 0.000000</td>\n",
       "      <td>   68363.0-68348.0</td>\n",
       "    </tr>\n",
       "    <tr>\n",
       "      <th>10   </th>\n",
       "      <td>  69901</td>\n",
       "      <td>  70066</td>\n",
       "      <td> 0</td>\n",
       "      <td> 0.000000</td>\n",
       "      <td>   69901.0-70066.0</td>\n",
       "    </tr>\n",
       "    <tr>\n",
       "      <th>11   </th>\n",
       "      <td>  70238</td>\n",
       "      <td>  70066</td>\n",
       "      <td> 0</td>\n",
       "      <td> 0.000000</td>\n",
       "      <td>   70238.0-70066.0</td>\n",
       "    </tr>\n",
       "    <tr>\n",
       "      <th>12   </th>\n",
       "      <td>  69824</td>\n",
       "      <td>  69863</td>\n",
       "      <td> 0</td>\n",
       "      <td> 0.000000</td>\n",
       "      <td>   69824.0-69863.0</td>\n",
       "    </tr>\n",
       "    <tr>\n",
       "      <th>13   </th>\n",
       "      <td> 105409</td>\n",
       "      <td> 105491</td>\n",
       "      <td> 0</td>\n",
       "      <td> 0.016840</td>\n",
       "      <td> 105409.0-105491.0</td>\n",
       "    </tr>\n",
       "    <tr>\n",
       "      <th>14   </th>\n",
       "      <td> 105620</td>\n",
       "      <td> 105417</td>\n",
       "      <td> 0</td>\n",
       "      <td> 0.020794</td>\n",
       "      <td> 105620.0-105417.0</td>\n",
       "    </tr>\n",
       "    <tr>\n",
       "      <th>15   </th>\n",
       "      <td>  26471</td>\n",
       "      <td>  26626</td>\n",
       "      <td> 0</td>\n",
       "      <td> 0.003280</td>\n",
       "      <td>   26471.0-26626.0</td>\n",
       "    </tr>\n",
       "    <tr>\n",
       "      <th>16   </th>\n",
       "      <td>  50415</td>\n",
       "      <td>  50421</td>\n",
       "      <td> 0</td>\n",
       "      <td> 0.001819</td>\n",
       "      <td>   50415.0-50421.0</td>\n",
       "    </tr>\n",
       "    <tr>\n",
       "      <th>17   </th>\n",
       "      <td>  71009</td>\n",
       "      <td>  67817</td>\n",
       "      <td> 0</td>\n",
       "      <td> 0.012878</td>\n",
       "      <td>   71009.0-67817.0</td>\n",
       "    </tr>\n",
       "    <tr>\n",
       "      <th>18   </th>\n",
       "      <td>  84203</td>\n",
       "      <td>  84185</td>\n",
       "      <td> 0</td>\n",
       "      <td> 0.000000</td>\n",
       "      <td>   84203.0-84185.0</td>\n",
       "    </tr>\n",
       "    <tr>\n",
       "      <th>19   </th>\n",
       "      <td>  62869</td>\n",
       "      <td>  62828</td>\n",
       "      <td> 0</td>\n",
       "      <td> 0.007992</td>\n",
       "      <td>   62869.0-62828.0</td>\n",
       "    </tr>\n",
       "    <tr>\n",
       "      <th>20   </th>\n",
       "      <td>  81408</td>\n",
       "      <td>  81520</td>\n",
       "      <td> 0</td>\n",
       "      <td> 0.030227</td>\n",
       "      <td>   81408.0-81520.0</td>\n",
       "    </tr>\n",
       "    <tr>\n",
       "      <th>21   </th>\n",
       "      <td>  58072</td>\n",
       "      <td>  57945</td>\n",
       "      <td> 0</td>\n",
       "      <td> 0.040899</td>\n",
       "      <td>   58072.0-57945.0</td>\n",
       "    </tr>\n",
       "    <tr>\n",
       "      <th>22   </th>\n",
       "      <td> 101780</td>\n",
       "      <td> 101776</td>\n",
       "      <td> 0</td>\n",
       "      <td> 0.000000</td>\n",
       "      <td> 101780.0-101776.0</td>\n",
       "    </tr>\n",
       "    <tr>\n",
       "      <th>23   </th>\n",
       "      <td>  63917</td>\n",
       "      <td>  64012</td>\n",
       "      <td> 0</td>\n",
       "      <td> 0.003266</td>\n",
       "      <td>   63917.0-64012.0</td>\n",
       "    </tr>\n",
       "    <tr>\n",
       "      <th>24   </th>\n",
       "      <td>  93845</td>\n",
       "      <td>  93758</td>\n",
       "      <td> 0</td>\n",
       "      <td> 0.014653</td>\n",
       "      <td>   93845.0-93758.0</td>\n",
       "    </tr>\n",
       "    <tr>\n",
       "      <th>25   </th>\n",
       "      <td> 132092</td>\n",
       "      <td> 132099</td>\n",
       "      <td> 0</td>\n",
       "      <td> 0.033289</td>\n",
       "      <td> 132092.0-132099.0</td>\n",
       "    </tr>\n",
       "    <tr>\n",
       "      <th>26   </th>\n",
       "      <td>  43109</td>\n",
       "      <td>  43122</td>\n",
       "      <td> 0</td>\n",
       "      <td> 0.000000</td>\n",
       "      <td>   43109.0-43122.0</td>\n",
       "    </tr>\n",
       "    <tr>\n",
       "      <th>27   </th>\n",
       "      <td> 116026</td>\n",
       "      <td> 116031</td>\n",
       "      <td> 0</td>\n",
       "      <td> 0.021288</td>\n",
       "      <td> 116026.0-116031.0</td>\n",
       "    </tr>\n",
       "    <tr>\n",
       "      <th>28   </th>\n",
       "      <td>  85929</td>\n",
       "      <td>  86077</td>\n",
       "      <td> 0</td>\n",
       "      <td> 0.073958</td>\n",
       "      <td>   85929.0-86077.0</td>\n",
       "    </tr>\n",
       "    <tr>\n",
       "      <th>29   </th>\n",
       "      <td>  86154</td>\n",
       "      <td>  86298</td>\n",
       "      <td> 0</td>\n",
       "      <td> 0.011797</td>\n",
       "      <td>   86154.0-86298.0</td>\n",
       "    </tr>\n",
       "    <tr>\n",
       "      <th>...</th>\n",
       "      <td>...</td>\n",
       "      <td>...</td>\n",
       "      <td>...</td>\n",
       "      <td>...</td>\n",
       "      <td>...</td>\n",
       "    </tr>\n",
       "    <tr>\n",
       "      <th>32568</th>\n",
       "      <td>    NaN</td>\n",
       "      <td>    NaN</td>\n",
       "      <td> 0</td>\n",
       "      <td> 0.000000</td>\n",
       "      <td>           nan-nan</td>\n",
       "    </tr>\n",
       "    <tr>\n",
       "      <th>32583</th>\n",
       "      <td>    NaN</td>\n",
       "      <td>    NaN</td>\n",
       "      <td> 0</td>\n",
       "      <td> 0.000000</td>\n",
       "      <td>           nan-nan</td>\n",
       "    </tr>\n",
       "    <tr>\n",
       "      <th>32606</th>\n",
       "      <td>    NaN</td>\n",
       "      <td>    NaN</td>\n",
       "      <td> 0</td>\n",
       "      <td> 0.000000</td>\n",
       "      <td>           nan-nan</td>\n",
       "    </tr>\n",
       "    <tr>\n",
       "      <th>32623</th>\n",
       "      <td>    NaN</td>\n",
       "      <td>    NaN</td>\n",
       "      <td> 0</td>\n",
       "      <td> 0.000000</td>\n",
       "      <td>           nan-nan</td>\n",
       "    </tr>\n",
       "    <tr>\n",
       "      <th>32627</th>\n",
       "      <td>    NaN</td>\n",
       "      <td>    NaN</td>\n",
       "      <td> 0</td>\n",
       "      <td> 0.000000</td>\n",
       "      <td>           nan-nan</td>\n",
       "    </tr>\n",
       "    <tr>\n",
       "      <th>32652</th>\n",
       "      <td>    NaN</td>\n",
       "      <td>    NaN</td>\n",
       "      <td> 0</td>\n",
       "      <td> 0.000000</td>\n",
       "      <td>           nan-nan</td>\n",
       "    </tr>\n",
       "    <tr>\n",
       "      <th>32677</th>\n",
       "      <td>    NaN</td>\n",
       "      <td>    NaN</td>\n",
       "      <td> 0</td>\n",
       "      <td> 0.000000</td>\n",
       "      <td>           nan-nan</td>\n",
       "    </tr>\n",
       "    <tr>\n",
       "      <th>32712</th>\n",
       "      <td>    NaN</td>\n",
       "      <td>    NaN</td>\n",
       "      <td> 0</td>\n",
       "      <td> 0.000000</td>\n",
       "      <td>           nan-nan</td>\n",
       "    </tr>\n",
       "    <tr>\n",
       "      <th>32715</th>\n",
       "      <td>    NaN</td>\n",
       "      <td>    NaN</td>\n",
       "      <td> 0</td>\n",
       "      <td> 0.000000</td>\n",
       "      <td>           nan-nan</td>\n",
       "    </tr>\n",
       "    <tr>\n",
       "      <th>32732</th>\n",
       "      <td>    NaN</td>\n",
       "      <td>    NaN</td>\n",
       "      <td> 0</td>\n",
       "      <td> 0.000000</td>\n",
       "      <td>           nan-nan</td>\n",
       "    </tr>\n",
       "    <tr>\n",
       "      <th>32734</th>\n",
       "      <td>    NaN</td>\n",
       "      <td>    NaN</td>\n",
       "      <td> 0</td>\n",
       "      <td> 0.000000</td>\n",
       "      <td>           nan-nan</td>\n",
       "    </tr>\n",
       "    <tr>\n",
       "      <th>32774</th>\n",
       "      <td>    NaN</td>\n",
       "      <td>    NaN</td>\n",
       "      <td> 0</td>\n",
       "      <td> 0.000000</td>\n",
       "      <td>           nan-nan</td>\n",
       "    </tr>\n",
       "    <tr>\n",
       "      <th>32781</th>\n",
       "      <td>    NaN</td>\n",
       "      <td>    NaN</td>\n",
       "      <td> 0</td>\n",
       "      <td> 0.000000</td>\n",
       "      <td>           nan-nan</td>\n",
       "    </tr>\n",
       "    <tr>\n",
       "      <th>32786</th>\n",
       "      <td>    NaN</td>\n",
       "      <td>    NaN</td>\n",
       "      <td> 0</td>\n",
       "      <td> 0.000000</td>\n",
       "      <td>           nan-nan</td>\n",
       "    </tr>\n",
       "    <tr>\n",
       "      <th>32802</th>\n",
       "      <td>    NaN</td>\n",
       "      <td>    NaN</td>\n",
       "      <td> 0</td>\n",
       "      <td> 0.000000</td>\n",
       "      <td>           nan-nan</td>\n",
       "    </tr>\n",
       "    <tr>\n",
       "      <th>32829</th>\n",
       "      <td>    NaN</td>\n",
       "      <td>    NaN</td>\n",
       "      <td> 0</td>\n",
       "      <td> 0.000000</td>\n",
       "      <td>           nan-nan</td>\n",
       "    </tr>\n",
       "    <tr>\n",
       "      <th>32847</th>\n",
       "      <td>    NaN</td>\n",
       "      <td>    NaN</td>\n",
       "      <td> 0</td>\n",
       "      <td> 0.000000</td>\n",
       "      <td>           nan-nan</td>\n",
       "    </tr>\n",
       "    <tr>\n",
       "      <th>32853</th>\n",
       "      <td>    NaN</td>\n",
       "      <td>    NaN</td>\n",
       "      <td> 0</td>\n",
       "      <td> 0.000000</td>\n",
       "      <td>           nan-nan</td>\n",
       "    </tr>\n",
       "    <tr>\n",
       "      <th>32899</th>\n",
       "      <td>    NaN</td>\n",
       "      <td>    NaN</td>\n",
       "      <td> 0</td>\n",
       "      <td> 0.000000</td>\n",
       "      <td>           nan-nan</td>\n",
       "    </tr>\n",
       "    <tr>\n",
       "      <th>32961</th>\n",
       "      <td>    NaN</td>\n",
       "      <td>    NaN</td>\n",
       "      <td> 0</td>\n",
       "      <td> 0.000000</td>\n",
       "      <td>           nan-nan</td>\n",
       "    </tr>\n",
       "    <tr>\n",
       "      <th>32972</th>\n",
       "      <td>    NaN</td>\n",
       "      <td>    NaN</td>\n",
       "      <td> 0</td>\n",
       "      <td> 0.000000</td>\n",
       "      <td>           nan-nan</td>\n",
       "    </tr>\n",
       "    <tr>\n",
       "      <th>32998</th>\n",
       "      <td>    NaN</td>\n",
       "      <td>    NaN</td>\n",
       "      <td> 0</td>\n",
       "      <td> 0.000000</td>\n",
       "      <td>           nan-nan</td>\n",
       "    </tr>\n",
       "    <tr>\n",
       "      <th>33031</th>\n",
       "      <td>    NaN</td>\n",
       "      <td>    NaN</td>\n",
       "      <td> 0</td>\n",
       "      <td> 0.000000</td>\n",
       "      <td>           nan-nan</td>\n",
       "    </tr>\n",
       "    <tr>\n",
       "      <th>33044</th>\n",
       "      <td>    NaN</td>\n",
       "      <td>    NaN</td>\n",
       "      <td> 0</td>\n",
       "      <td> 0.000000</td>\n",
       "      <td>           nan-nan</td>\n",
       "    </tr>\n",
       "    <tr>\n",
       "      <th>33078</th>\n",
       "      <td>    NaN</td>\n",
       "      <td>    NaN</td>\n",
       "      <td> 0</td>\n",
       "      <td> 0.000000</td>\n",
       "      <td>           nan-nan</td>\n",
       "    </tr>\n",
       "    <tr>\n",
       "      <th>33323</th>\n",
       "      <td>    NaN</td>\n",
       "      <td>    NaN</td>\n",
       "      <td> 0</td>\n",
       "      <td> 0.000000</td>\n",
       "      <td>           nan-nan</td>\n",
       "    </tr>\n",
       "    <tr>\n",
       "      <th>33349</th>\n",
       "      <td>    NaN</td>\n",
       "      <td>    NaN</td>\n",
       "      <td> 0</td>\n",
       "      <td> 0.000000</td>\n",
       "      <td>           nan-nan</td>\n",
       "    </tr>\n",
       "    <tr>\n",
       "      <th>33354</th>\n",
       "      <td>    NaN</td>\n",
       "      <td>    NaN</td>\n",
       "      <td> 0</td>\n",
       "      <td> 0.000000</td>\n",
       "      <td>           nan-nan</td>\n",
       "    </tr>\n",
       "    <tr>\n",
       "      <th>33362</th>\n",
       "      <td>    NaN</td>\n",
       "      <td>    NaN</td>\n",
       "      <td> 0</td>\n",
       "      <td> 0.000000</td>\n",
       "      <td>           nan-nan</td>\n",
       "    </tr>\n",
       "    <tr>\n",
       "      <th>33396</th>\n",
       "      <td>    NaN</td>\n",
       "      <td>    NaN</td>\n",
       "      <td> 0</td>\n",
       "      <td> 0.000000</td>\n",
       "      <td>           nan-nan</td>\n",
       "    </tr>\n",
       "  </tbody>\n",
       "</table>\n",
       "<p>34271 rows × 5 columns</p>\n",
       "</div>"
      ],
      "text/plain": [
       "        inode   jnode  @bkfac    @upslp                 id\n",
       "0      148702  148696       0  0.000000  148702.0-148696.0\n",
       "1       69493   69494       0  0.000000    69493.0-69494.0\n",
       "2      119584  119589       0  0.003672  119584.0-119589.0\n",
       "3      119589  119598       0  0.005043  119589.0-119598.0\n",
       "4      119598  119606       0  0.015402  119598.0-119606.0\n",
       "5      153482  153511       0  0.031945  153482.0-153511.0\n",
       "6      123525  123529       0  0.046859  123525.0-123529.0\n",
       "7       71301   71533       0  0.000000    71301.0-71533.0\n",
       "8       71533   71639       0  0.000000    71533.0-71639.0\n",
       "9       68363   68348       0  0.000000    68363.0-68348.0\n",
       "10      69901   70066       0  0.000000    69901.0-70066.0\n",
       "11      70238   70066       0  0.000000    70238.0-70066.0\n",
       "12      69824   69863       0  0.000000    69824.0-69863.0\n",
       "13     105409  105491       0  0.016840  105409.0-105491.0\n",
       "14     105620  105417       0  0.020794  105620.0-105417.0\n",
       "15      26471   26626       0  0.003280    26471.0-26626.0\n",
       "16      50415   50421       0  0.001819    50415.0-50421.0\n",
       "17      71009   67817       0  0.012878    71009.0-67817.0\n",
       "18      84203   84185       0  0.000000    84203.0-84185.0\n",
       "19      62869   62828       0  0.007992    62869.0-62828.0\n",
       "20      81408   81520       0  0.030227    81408.0-81520.0\n",
       "21      58072   57945       0  0.040899    58072.0-57945.0\n",
       "22     101780  101776       0  0.000000  101780.0-101776.0\n",
       "23      63917   64012       0  0.003266    63917.0-64012.0\n",
       "24      93845   93758       0  0.014653    93845.0-93758.0\n",
       "25     132092  132099       0  0.033289  132092.0-132099.0\n",
       "26      43109   43122       0  0.000000    43109.0-43122.0\n",
       "27     116026  116031       0  0.021288  116026.0-116031.0\n",
       "28      85929   86077       0  0.073958    85929.0-86077.0\n",
       "29      86154   86298       0  0.011797    86154.0-86298.0\n",
       "...       ...     ...     ...       ...                ...\n",
       "32568     NaN     NaN       0  0.000000            nan-nan\n",
       "32583     NaN     NaN       0  0.000000            nan-nan\n",
       "32606     NaN     NaN       0  0.000000            nan-nan\n",
       "32623     NaN     NaN       0  0.000000            nan-nan\n",
       "32627     NaN     NaN       0  0.000000            nan-nan\n",
       "32652     NaN     NaN       0  0.000000            nan-nan\n",
       "32677     NaN     NaN       0  0.000000            nan-nan\n",
       "32712     NaN     NaN       0  0.000000            nan-nan\n",
       "32715     NaN     NaN       0  0.000000            nan-nan\n",
       "32732     NaN     NaN       0  0.000000            nan-nan\n",
       "32734     NaN     NaN       0  0.000000            nan-nan\n",
       "32774     NaN     NaN       0  0.000000            nan-nan\n",
       "32781     NaN     NaN       0  0.000000            nan-nan\n",
       "32786     NaN     NaN       0  0.000000            nan-nan\n",
       "32802     NaN     NaN       0  0.000000            nan-nan\n",
       "32829     NaN     NaN       0  0.000000            nan-nan\n",
       "32847     NaN     NaN       0  0.000000            nan-nan\n",
       "32853     NaN     NaN       0  0.000000            nan-nan\n",
       "32899     NaN     NaN       0  0.000000            nan-nan\n",
       "32961     NaN     NaN       0  0.000000            nan-nan\n",
       "32972     NaN     NaN       0  0.000000            nan-nan\n",
       "32998     NaN     NaN       0  0.000000            nan-nan\n",
       "33031     NaN     NaN       0  0.000000            nan-nan\n",
       "33044     NaN     NaN       0  0.000000            nan-nan\n",
       "33078     NaN     NaN       0  0.000000            nan-nan\n",
       "33323     NaN     NaN       0  0.000000            nan-nan\n",
       "33349     NaN     NaN       0  0.000000            nan-nan\n",
       "33354     NaN     NaN       0  0.000000            nan-nan\n",
       "33362     NaN     NaN       0  0.000000            nan-nan\n",
       "33396     NaN     NaN       0  0.000000            nan-nan\n",
       "\n",
       "[34271 rows x 5 columns]"
      ]
     },
     "execution_count": 124,
     "metadata": {},
     "output_type": "execute_result"
    }
   ],
   "source": [
    "emme_attr"
   ]
  },
  {
   "cell_type": "code",
   "execution_count": null,
   "metadata": {
    "collapsed": true
   },
   "outputs": [],
   "source": []
  }
 ],
 "metadata": {
  "kernelspec": {
   "display_name": "Python 2",
   "language": "python",
   "name": "python2"
  },
  "language_info": {
   "codemirror_mode": {
    "name": "ipython",
    "version": 2
   },
   "file_extension": ".py",
   "mimetype": "text/x-python",
   "name": "python",
   "nbconvert_exporter": "python",
   "pygments_lexer": "ipython2",
   "version": "2.7.9"
  }
 },
 "nbformat": 4,
 "nbformat_minor": 0
}
