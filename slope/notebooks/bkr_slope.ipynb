{
 "cells": [
  {
   "cell_type": "code",
   "execution_count": 1,
   "metadata": {
    "collapsed": false
   },
   "outputs": [],
   "source": [
    "import pandas as pd\n",
    "import archook\n",
    "\n",
    "# Use archook to import arcpy\n",
    "archook.get_arcpy()\n",
    "import arcpy\n",
    "from arcpy.sa import *"
   ]
  },
  {
   "cell_type": "markdown",
   "metadata": {},
   "source": [
    "# Automating Slope Calcs"
   ]
  },
  {
   "cell_type": "markdown",
   "metadata": {},
   "source": [
    "- export network shapefile from emme using API\n",
    "    - make sure we can set a coordinate system here (projected state plane washington)\n",
    "- add shapefile to a geodatabase"
   ]
  },
  {
   "cell_type": "markdown",
   "metadata": {},
   "source": [
    "### Define Input Locations"
   ]
  },
  {
   "cell_type": "code",
   "execution_count": 89,
   "metadata": {
    "collapsed": false
   },
   "outputs": [],
   "source": [
    "# Primary geodatabase for inputs and outputs\n",
    "geodb = r'R:\\Bike\\slope\\bkr\\bkr_network.gdb'\n",
    "arcpy.env.workspace = geodb\n",
    "\n",
    "# Emme network shapefile, exported to a geodatabase\n",
    "in_fc = geodb + r'\\links'\n",
    "\n",
    "# Elevation raster location\n",
    "in_raster = r'W:\\geodata\\raster\\dem30m'\n",
    "\n",
    "# Output dir for final results in csv format\n",
    "output_dir = r'R:\\Bike'"
   ]
  },
  {
   "cell_type": "markdown",
   "metadata": {},
   "source": [
    "### Load and Process Data"
   ]
  },
  {
   "cell_type": "code",
   "execution_count": 3,
   "metadata": {
    "collapsed": false
   },
   "outputs": [],
   "source": [
    "# Find two-way links - we only need to split these links once\n",
    "emme_links = arcpy.da.FeatureClassToNumPyArray(in_fc, ('ID','LENGTH','MODES','INODE','JNODE'))\n",
    "df = pd.DataFrame(emme_links)"
   ]
  },
  {
   "cell_type": "code",
   "execution_count": 4,
   "metadata": {
    "collapsed": false
   },
   "outputs": [],
   "source": [
    "# loop through each link \n",
    "ij_links = []\n",
    "ji_links = []\n",
    "\n",
    "for rownum in xrange(len(df)):\n",
    "    inode = df.iloc[rownum].INODE\n",
    "    jnode = df.iloc[rownum].JNODE\n",
    "    ij_df = df[(df['INODE']==inode)&(df['JNODE']==jnode)]\n",
    "    if len(ij_df) == 1:\n",
    "        ij_id = ij_df.ID.values[0]\n",
    "    \n",
    "    ji_df = df[(df['INODE']==jnode)&(df['JNODE']==inode)]\n",
    "    if len(ji_df) == 1:\n",
    "        ji_id = ji_df.ID.values[0]\n",
    "    else:\n",
    "        # indicates a one-way link with no ji\n",
    "        # append to ij_links and skip to next\n",
    "        ij_links.append(ij_id)\n",
    "        continue\n",
    "    \n",
    "    if ji_id not in ij_links:\n",
    "        ij_links.append(ij_id)\n",
    "    else:\n",
    "        ji_links.append(ij_id)"
   ]
  },
  {
   "cell_type": "code",
   "execution_count": 5,
   "metadata": {
    "collapsed": false
   },
   "outputs": [],
   "source": [
    "ij_df = df[df['ID'].isin(ij_links)]\n",
    "ji_df = df[df['ID'].isin(ji_links)]"
   ]
  },
  {
   "cell_type": "code",
   "execution_count": 6,
   "metadata": {
    "collapsed": false
   },
   "outputs": [
    {
     "data": {
      "text/plain": [
       "True"
      ]
     },
     "execution_count": 6,
     "metadata": {},
     "output_type": "execute_result"
    }
   ],
   "source": [
    "len(ij_df)+len(ji_df)==len(df)"
   ]
  },
  {
   "cell_type": "markdown",
   "metadata": {},
   "source": [
    "- export results to feature class"
   ]
  },
  {
   "cell_type": "markdown",
   "metadata": {},
   "source": [
    "- split network lines into points\n",
    "- note: this takes 30-60 minutes"
   ]
  },
  {
   "cell_type": "markdown",
   "metadata": {},
   "source": [
    "- should only have to do this one time\n",
    "- subsequent buffering will compare the imported shapefile links to the result of the cold-start process and only work on the links that haven't been processed yet, appending them to the existing results"
   ]
  },
  {
   "cell_type": "code",
   "execution_count": 7,
   "metadata": {
    "collapsed": false
   },
   "outputs": [],
   "source": [
    "# Loop through each network link and split the line into points, saving them in points array\n",
    "points = []\n",
    "sr = arcpy.Describe(in_fc).spatialReference\n",
    "counter = 0\n",
    "\n",
    "# Set the step based on the line's length\n",
    "# How many times must the line be split\n",
    "# \n",
    "# Using 30 of fidelity - data is available every 30 meters so this may be unnecessary\n",
    "segment_len = 30\n",
    "\n",
    "# Create seperate array that holds tuple of link ID and point coordinates (in state plane coords)\n",
    "final_result = []\n",
    "count = 0\n",
    "with arcpy.da.SearchCursor(in_fc,[\"SHAPE@\",'ID'], spatial_reference=sr) as cursor:  \n",
    "    for row in cursor:\n",
    "        # Only process IJ links, because JI are exactly the same polyline shape\n",
    "        if row[1] in ij_links:\n",
    "            count += 1\n",
    "            split_count = int(row[0].length/segment_len)\n",
    "            big_output = []\n",
    "            for i in range(split_count):\n",
    "                point = row[0].positionAlongLine(i*segment_len)\n",
    "                points.append(point)\n",
    "                x = point.firstPoint.X\n",
    "                y = point.firstPoint.Y\n",
    "                point_list = []\n",
    "                point_list.append(x)\n",
    "                point_list.append(y)\n",
    "                output = (str(row[1]), (x, y))\n",
    "                final_result.append(output)"
   ]
  },
  {
   "cell_type": "markdown",
   "metadata": {},
   "source": [
    "- Export results to a feature class called link_components"
   ]
  },
  {
   "cell_type": "code",
   "execution_count": 12,
   "metadata": {
    "collapsed": false
   },
   "outputs": [
    {
     "data": {
      "text/plain": [
       "<Result 'R:\\\\Bike\\\\slope\\\\bkr\\\\bkr_network.gdb\\\\link_components'>"
      ]
     },
     "execution_count": 12,
     "metadata": {},
     "output_type": "execute_result"
    }
   ],
   "source": [
    "point_out_new = r'\\link_components'\n",
    "# arcpy.CopyFeatures_management(points, r\"R:\\Bike\\slope\\bkr\\bkr_sample.gdb\" + point_out_new)\n",
    "# delete_fc = True\n",
    "# if delete_fc:\n",
    "#     arcpy.DeleteFeatures_management(r\"R:\\Bike\\slope\\bkr\\bkr_network.gdb\" + point_out_new)\n",
    "arcpy.CopyFeatures_management(points, geodb + point_out_new) "
   ]
  },
  {
   "cell_type": "markdown",
   "metadata": {},
   "source": [
    "- Intersect the points with the links to get the edge IDs"
   ]
  },
  {
   "cell_type": "code",
   "execution_count": 13,
   "metadata": {
    "collapsed": false
   },
   "outputs": [
    {
     "data": {
      "text/plain": [
       "<Result 'R:\\\\Bike\\\\slope\\\\bkr\\\\bkr_network.gdb\\\\link_components_full'>"
      ]
     },
     "execution_count": 13,
     "metadata": {},
     "output_type": "execute_result"
    }
   ],
   "source": [
    "inFeatures = [\"link_components\", \"links\"]\n",
    "intersectOutput = \"link_components_full\"\n",
    "clusterTolerance = 1.5    \n",
    "arcpy.Intersect_analysis(inFeatures, intersectOutput, \"\", clusterTolerance, \"point\")"
   ]
  },
  {
   "cell_type": "markdown",
   "metadata": {},
   "source": [
    "- Intersect with a raster to get elevation\n",
    "- import elevation raster from W:/geodata/raster/dem30m\n",
    "    - this is the raster of elevations at 30 m fidelity\n",
    "    - note that elevation values are in METERS"
   ]
  },
  {
   "cell_type": "code",
   "execution_count": 14,
   "metadata": {
    "collapsed": false
   },
   "outputs": [
    {
     "data": {
      "text/plain": [
       "<geoprocessing server result object at 0x17748df0>"
      ]
     },
     "execution_count": 14,
     "metadata": {},
     "output_type": "execute_result"
    }
   ],
   "source": [
    "# Note that spatial analyst must be active for this portion\n",
    "arcpy.CheckOutExtension(\"Spatial\")\n",
    "# arcpy.env.workspace = r'R:\\Bike\\slope\\bkr\\bkr_network.gdb'\n",
    "\n",
    "in_point_features = r'link_components_full'\n",
    "out_point_features = r'link_components_elevation'\n",
    "ExtractValuesToPoints(in_point_features, in_raster, out_point_features)"
   ]
  },
  {
   "cell_type": "code",
   "execution_count": 15,
   "metadata": {
    "collapsed": true
   },
   "outputs": [],
   "source": [
    "# Read resulting intersection of points with elevation into numpy/pandas\n",
    "elevation_shp = arcpy.da.FeatureClassToNumPyArray(out_point_features, ('RASTERVALU','ID','LENGTH','MODES','INODE','JNODE'))\n",
    "df = pd.DataFrame(elevation_shp)"
   ]
  },
  {
   "cell_type": "code",
   "execution_count": 16,
   "metadata": {
    "collapsed": false
   },
   "outputs": [],
   "source": [
    "# List of links IDs\n",
    "link_list = df.groupby('ID').min().index"
   ]
  },
  {
   "cell_type": "code",
   "execution_count": 17,
   "metadata": {
    "collapsed": false
   },
   "outputs": [],
   "source": [
    "# Loop through all edges\n",
    "# Assume that all links are bi-directional and compute ij and ji direction slopes\n",
    "# if a line is truly one-way, we will discard the ji direction\n",
    "# since most are two-way it's worth it calculate for all links and merge results later\n",
    "upslope_ij = {}\n",
    "upslope_ji = {}\n",
    "for link in link_list: \n",
    "    link_df = df[df['ID'] == link]\n",
    "\n",
    "    # Extract the elevation data to numPy because it's faster to loop over\n",
    "    elev_data = link_df['RASTERVALU'].values\n",
    "\n",
    "    # Loop through each point in each edge\n",
    "    upslope_ij[link] = 0\n",
    "    upslope_ji[link] = 0\n",
    "    for point in xrange(len(elev_data)-1):  # stop short of the list because we only want to compare the 2nd to last to last\n",
    "        elev_diff = elev_data[point+1] - elev_data[point]\n",
    "        if elev_diff > 0:\n",
    "            upslope_ij[link] += elev_diff\n",
    "        elif elev_diff < 0:\n",
    "            upslope_ji[link] += abs(elev_diff)      # since we know it will be \"negative\" for the JI direction when calculated\n",
    "                                                    # in references to the IJ direction"
   ]
  },
  {
   "cell_type": "code",
   "execution_count": 133,
   "metadata": {
    "collapsed": false
   },
   "outputs": [],
   "source": [
    "# Import dictionary to a series and attach upslope back on the original dataframe\n",
    "upslope_ij_s = pd.Series(upslope_ij, name='elev_gain_ij')\n",
    "upslope_ji_s = pd.Series(upslope_ji, name='elev_gain_ji')\n",
    "upslope_ij_s.index.name='ID'\n",
    "upslope_ij_s = upslope_ij_s.reset_index()\n",
    "upslope_ji_s.index.name='ID'\n",
    "upslope_ji_s = upslope_ji_s.reset_index()\n",
    "\n",
    "# Attach ij-direction slope to IJ links\n",
    "slope_ij = pd.merge(ij_df,upslope_ij_s,on='ID')\n",
    "slope_ij.rename(columns={\"elev_gain_ij\": \"elev_gain\"}, inplace=True)\n",
    "\n",
    "# Attach ji-direction slope to JI links\n",
    "\n",
    "# fo JI links, flip the i and j values to get lookup of ji links\n",
    "upslope_ji_s['newID'] = upslope_ji_s.ID.apply(lambda row: row.split('-')[-1]+\"-\"+row.split('-')[0])\n",
    "slope_ji = pd.merge(ji_df,upslope_ji_s,left_on='ID',right_on='newID')\n",
    "slope_ji.rename(columns={\"elev_gain_ji\": \"elev_gain\"}, inplace=True)\n",
    "slope_ji['ID'] = slope_ji['newID']\n",
    "slope_ji.drop(['ID_x','ID_y','newID'],axis=1,inplace=True)\n",
    "\n",
    "# Append ji rows to ij to get a complete list of links\n",
    "slope_df = slope_ij.append(slope_ji)\n",
    "\n",
    "# Convert elevation into feet from meters\n",
    "slope_df['elev_gain'] = slope_df['elev_gain']*3.28084"
   ]
  },
  {
   "cell_type": "code",
   "execution_count": 134,
   "metadata": {
    "collapsed": false
   },
   "outputs": [],
   "source": [
    "# Calcualte the average upslope in feet/feet\n",
    "# Network distance measured in: miles, elevation in meters \n",
    "slope_df['avg_upslope'] = slope_df['elev_gain']/(slope_df['LENGTH']*5280)"
   ]
  },
  {
   "cell_type": "markdown",
   "metadata": {},
   "source": [
    "- reformat and export as emme_attr.in\n",
    "- for BKR, assume all bike facilities are 0 for now"
   ]
  },
  {
   "cell_type": "code",
   "execution_count": 135,
   "metadata": {
    "collapsed": false
   },
   "outputs": [],
   "source": [
    "emme_attr = slope_df\n",
    "emme_attr.rename(columns={'INODE':'inode','JNODE':'jnode','avg_upslope':'@upslp'},\n",
    "                inplace=True)\n",
    "\n",
    "emme_attr.drop(['LENGTH','MODES','elev_gain'], axis=1, inplace=True)\n",
    "\n",
    "# add bike facility of 0\n",
    "emme_attr['@bkfac'] = 0"
   ]
  },
  {
   "cell_type": "markdown",
   "metadata": {},
   "source": [
    "- some very short links are not processed\n",
    "- assume zero elevation change for these"
   ]
  },
  {
   "cell_type": "code",
   "execution_count": 136,
   "metadata": {
    "collapsed": false
   },
   "outputs": [
    {
     "name": "stdout",
     "output_type": "stream",
     "text": [
      "55656\n",
      "55680\n"
     ]
    }
   ],
   "source": [
    "print len(emme_attr)\n",
    "print len(df)"
   ]
  },
  {
   "cell_type": "code",
   "execution_count": 137,
   "metadata": {
    "collapsed": false
   },
   "outputs": [
    {
     "data": {
      "text/plain": [
       "Index([u'ID', u'inode', u'jnode', u'@upslp', u'@bkfac'], dtype='object')"
      ]
     },
     "execution_count": 137,
     "metadata": {},
     "output_type": "execute_result"
    }
   ],
   "source": [
    "emme_attr.columns"
   ]
  },
  {
   "cell_type": "code",
   "execution_count": 138,
   "metadata": {
    "collapsed": false
   },
   "outputs": [],
   "source": [
    "# Get list of IDs from network not included in the final outpu\n",
    "df = pd.DataFrame(emme_links)\n",
    "\n",
    "missing_links = df[-df['ID'].isin(emme_attr['ID'].values)]\n",
    "missing_links = missing_links[['ID','INODE','JNODE']]\n",
    "missing_links.columns = [i.lower() for i in missing_links.columns] \n",
    "\n",
    "missing_links['@upslp'] = 0\n",
    "missing_links['@bkfac'] = 0\n",
    "\n",
    "emme_attr = emme_attr.append(missing_links)\n",
    "\n",
    "emme_attr.drop(['id','ID'], axis=1,inplace=True)\n",
    "emme_attr = emme_attr[['inode','jnode','@bkfac','@upslp']]"
   ]
  },
  {
   "cell_type": "code",
   "execution_count": 139,
   "metadata": {
    "collapsed": true
   },
   "outputs": [],
   "source": [
    "# Export emme transaction file\n",
    "emme_attr.to_csv(output_dir + r'\\emme_attr.in', sep=' ', index=False)\n",
    "\n",
    "# Export version for use in ArcMap\n",
    "emme_attr['id']=emme_attr['inode'].astype('str')+'-'+emme_attr['jnode'].astype('str')\n",
    "emme_attr.to_csv(output_dir + r'\\emme_attr.csv', sep=' ', index=False)"
   ]
  },
  {
   "cell_type": "code",
   "execution_count": 92,
   "metadata": {
    "collapsed": false
   },
   "outputs": [],
   "source": [
    "# Load the soundcast results for comparison\n",
    "df = pd.read_csv(r'R:\\SoundCast\\Inputs\\2014\\bikes\\emme_attr.in', sep=' ')"
   ]
  },
  {
   "cell_type": "code",
   "execution_count": 93,
   "metadata": {
    "collapsed": false
   },
   "outputs": [
    {
     "name": "stdout",
     "output_type": "stream",
     "text": [
      "22.3756189894\n",
      "0.0332534048304\n",
      "0.0192160023467\n"
     ]
    }
   ],
   "source": [
    "print df['@upslp'].max()\n",
    "print df['@upslp'].mean()\n",
    "print df['@upslp'].median()"
   ]
  },
  {
   "cell_type": "code",
   "execution_count": 94,
   "metadata": {
    "collapsed": false,
    "scrolled": true
   },
   "outputs": [
    {
     "name": "stdout",
     "output_type": "stream",
     "text": [
      "0.602730004647\n",
      "0.019069533838\n",
      "0.00806973547912\n"
     ]
    }
   ],
   "source": [
    "print emme_attr['@upslp'].max()\n",
    "print emme_attr['@upslp'].mean()\n",
    "print emme_attr['@upslp'].median()"
   ]
  },
  {
   "cell_type": "code",
   "execution_count": 98,
   "metadata": {
    "collapsed": false
   },
   "outputs": [
    {
     "data": {
      "text/html": [
       "<div style=\"max-height:1000px;max-width:1500px;overflow:auto;\">\n",
       "<table border=\"1\" class=\"dataframe\">\n",
       "  <thead>\n",
       "    <tr style=\"text-align: right;\">\n",
       "      <th></th>\n",
       "      <th>@bkfac</th>\n",
       "      <th>@upslp</th>\n",
       "      <th>id</th>\n",
       "      <th>inode</th>\n",
       "      <th>jnode</th>\n",
       "    </tr>\n",
       "  </thead>\n",
       "  <tbody>\n",
       "    <tr>\n",
       "      <th>0    </th>\n",
       "      <td> 0</td>\n",
       "      <td> 0.009448</td>\n",
       "      <td>        1-6091</td>\n",
       "      <td>      1</td>\n",
       "      <td>   6091</td>\n",
       "    </tr>\n",
       "    <tr>\n",
       "      <th>1    </th>\n",
       "      <td> 0</td>\n",
       "      <td> 0.029421</td>\n",
       "      <td>        1-6564</td>\n",
       "      <td>      1</td>\n",
       "      <td>   6564</td>\n",
       "    </tr>\n",
       "    <tr>\n",
       "      <th>2    </th>\n",
       "      <td> 0</td>\n",
       "      <td> 0.036629</td>\n",
       "      <td>        2-1820</td>\n",
       "      <td>      2</td>\n",
       "      <td>   1820</td>\n",
       "    </tr>\n",
       "    <tr>\n",
       "      <th>3    </th>\n",
       "      <td> 0</td>\n",
       "      <td> 0.012877</td>\n",
       "      <td>        2-6096</td>\n",
       "      <td>      2</td>\n",
       "      <td>   6096</td>\n",
       "    </tr>\n",
       "    <tr>\n",
       "      <th>4    </th>\n",
       "      <td> 0</td>\n",
       "      <td> 0.000000</td>\n",
       "      <td>        3-1822</td>\n",
       "      <td>      3</td>\n",
       "      <td>   1822</td>\n",
       "    </tr>\n",
       "    <tr>\n",
       "      <th>5    </th>\n",
       "      <td> 0</td>\n",
       "      <td> 0.000000</td>\n",
       "      <td>        4-6094</td>\n",
       "      <td>      4</td>\n",
       "      <td>   6094</td>\n",
       "    </tr>\n",
       "    <tr>\n",
       "      <th>6    </th>\n",
       "      <td> 0</td>\n",
       "      <td> 0.005839</td>\n",
       "      <td>        4-6100</td>\n",
       "      <td>      4</td>\n",
       "      <td>   6100</td>\n",
       "    </tr>\n",
       "    <tr>\n",
       "      <th>7    </th>\n",
       "      <td> 0</td>\n",
       "      <td> 0.001875</td>\n",
       "      <td>        5-6099</td>\n",
       "      <td>      5</td>\n",
       "      <td>   6099</td>\n",
       "    </tr>\n",
       "    <tr>\n",
       "      <th>8    </th>\n",
       "      <td> 0</td>\n",
       "      <td> 0.004731</td>\n",
       "      <td>        5-6105</td>\n",
       "      <td>      5</td>\n",
       "      <td>   6105</td>\n",
       "    </tr>\n",
       "    <tr>\n",
       "      <th>9    </th>\n",
       "      <td> 0</td>\n",
       "      <td> 0.052178</td>\n",
       "      <td>        5-6107</td>\n",
       "      <td>      5</td>\n",
       "      <td>   6107</td>\n",
       "    </tr>\n",
       "    <tr>\n",
       "      <th>10   </th>\n",
       "      <td> 0</td>\n",
       "      <td> 0.006780</td>\n",
       "      <td>        5-6902</td>\n",
       "      <td>      5</td>\n",
       "      <td>   6902</td>\n",
       "    </tr>\n",
       "    <tr>\n",
       "      <th>11   </th>\n",
       "      <td> 0</td>\n",
       "      <td> 0.023536</td>\n",
       "      <td>        6-6103</td>\n",
       "      <td>      6</td>\n",
       "      <td>   6103</td>\n",
       "    </tr>\n",
       "    <tr>\n",
       "      <th>12   </th>\n",
       "      <td> 0</td>\n",
       "      <td> 0.011593</td>\n",
       "      <td>        6-6107</td>\n",
       "      <td>      6</td>\n",
       "      <td>   6107</td>\n",
       "    </tr>\n",
       "    <tr>\n",
       "      <th>13   </th>\n",
       "      <td> 0</td>\n",
       "      <td> 0.001001</td>\n",
       "      <td>        6-6109</td>\n",
       "      <td>      6</td>\n",
       "      <td>   6109</td>\n",
       "    </tr>\n",
       "    <tr>\n",
       "      <th>14   </th>\n",
       "      <td> 0</td>\n",
       "      <td> 0.008953</td>\n",
       "      <td>        6-6115</td>\n",
       "      <td>      6</td>\n",
       "      <td>   6115</td>\n",
       "    </tr>\n",
       "    <tr>\n",
       "      <th>15   </th>\n",
       "      <td> 0</td>\n",
       "      <td> 0.001019</td>\n",
       "      <td>        7-6104</td>\n",
       "      <td>      7</td>\n",
       "      <td>   6104</td>\n",
       "    </tr>\n",
       "    <tr>\n",
       "      <th>16   </th>\n",
       "      <td> 0</td>\n",
       "      <td> 0.012506</td>\n",
       "      <td>        7-6109</td>\n",
       "      <td>      7</td>\n",
       "      <td>   6109</td>\n",
       "    </tr>\n",
       "    <tr>\n",
       "      <th>17   </th>\n",
       "      <td> 0</td>\n",
       "      <td> 0.000000</td>\n",
       "      <td>        7-6114</td>\n",
       "      <td>      7</td>\n",
       "      <td>   6114</td>\n",
       "    </tr>\n",
       "    <tr>\n",
       "      <th>18   </th>\n",
       "      <td> 0</td>\n",
       "      <td> 0.048971</td>\n",
       "      <td>        8-6111</td>\n",
       "      <td>      8</td>\n",
       "      <td>   6111</td>\n",
       "    </tr>\n",
       "    <tr>\n",
       "      <th>19   </th>\n",
       "      <td> 0</td>\n",
       "      <td> 0.006559</td>\n",
       "      <td>        8-6113</td>\n",
       "      <td>      8</td>\n",
       "      <td>   6113</td>\n",
       "    </tr>\n",
       "    <tr>\n",
       "      <th>20   </th>\n",
       "      <td> 0</td>\n",
       "      <td> 0.000000</td>\n",
       "      <td>        9-6112</td>\n",
       "      <td>      9</td>\n",
       "      <td>   6112</td>\n",
       "    </tr>\n",
       "    <tr>\n",
       "      <th>21   </th>\n",
       "      <td> 0</td>\n",
       "      <td> 0.023980</td>\n",
       "      <td>        9-6113</td>\n",
       "      <td>      9</td>\n",
       "      <td>   6113</td>\n",
       "    </tr>\n",
       "    <tr>\n",
       "      <th>22   </th>\n",
       "      <td> 0</td>\n",
       "      <td> 0.015738</td>\n",
       "      <td>        9-6118</td>\n",
       "      <td>      9</td>\n",
       "      <td>   6118</td>\n",
       "    </tr>\n",
       "    <tr>\n",
       "      <th>23   </th>\n",
       "      <td> 0</td>\n",
       "      <td> 0.007072</td>\n",
       "      <td>       10-6110</td>\n",
       "      <td>     10</td>\n",
       "      <td>   6110</td>\n",
       "    </tr>\n",
       "    <tr>\n",
       "      <th>24   </th>\n",
       "      <td> 0</td>\n",
       "      <td> 0.011588</td>\n",
       "      <td>       10-6112</td>\n",
       "      <td>     10</td>\n",
       "      <td>   6112</td>\n",
       "    </tr>\n",
       "    <tr>\n",
       "      <th>25   </th>\n",
       "      <td> 0</td>\n",
       "      <td> 0.010981</td>\n",
       "      <td>       10-6114</td>\n",
       "      <td>     10</td>\n",
       "      <td>   6114</td>\n",
       "    </tr>\n",
       "    <tr>\n",
       "      <th>26   </th>\n",
       "      <td> 0</td>\n",
       "      <td> 0.017880</td>\n",
       "      <td>       10-6119</td>\n",
       "      <td>     10</td>\n",
       "      <td>   6119</td>\n",
       "    </tr>\n",
       "    <tr>\n",
       "      <th>27   </th>\n",
       "      <td> 0</td>\n",
       "      <td> 0.015557</td>\n",
       "      <td>       11-5987</td>\n",
       "      <td>     11</td>\n",
       "      <td>   5987</td>\n",
       "    </tr>\n",
       "    <tr>\n",
       "      <th>28   </th>\n",
       "      <td> 0</td>\n",
       "      <td> 0.010163</td>\n",
       "      <td>       11-6124</td>\n",
       "      <td>     11</td>\n",
       "      <td>   6124</td>\n",
       "    </tr>\n",
       "    <tr>\n",
       "      <th>29   </th>\n",
       "      <td> 0</td>\n",
       "      <td> 0.012671</td>\n",
       "      <td>       11-6129</td>\n",
       "      <td>     11</td>\n",
       "      <td>   6129</td>\n",
       "    </tr>\n",
       "    <tr>\n",
       "      <th>...</th>\n",
       "      <td>...</td>\n",
       "      <td>...</td>\n",
       "      <td>...</td>\n",
       "      <td>...</td>\n",
       "      <td>...</td>\n",
       "    </tr>\n",
       "    <tr>\n",
       "      <th>25657</th>\n",
       "      <td> 0</td>\n",
       "      <td> 0.000000</td>\n",
       "      <td> 210943-124712</td>\n",
       "      <td> 210943</td>\n",
       "      <td> 124712</td>\n",
       "    </tr>\n",
       "    <tr>\n",
       "      <th>25658</th>\n",
       "      <td> 0</td>\n",
       "      <td> 0.000000</td>\n",
       "      <td> 210944-124142</td>\n",
       "      <td> 210944</td>\n",
       "      <td> 124142</td>\n",
       "    </tr>\n",
       "    <tr>\n",
       "      <th>25659</th>\n",
       "      <td> 0</td>\n",
       "      <td> 0.000000</td>\n",
       "      <td> 210945-194800</td>\n",
       "      <td> 210945</td>\n",
       "      <td> 194800</td>\n",
       "    </tr>\n",
       "    <tr>\n",
       "      <th>25660</th>\n",
       "      <td> 0</td>\n",
       "      <td> 0.000000</td>\n",
       "      <td> 210946-127650</td>\n",
       "      <td> 210946</td>\n",
       "      <td> 127650</td>\n",
       "    </tr>\n",
       "    <tr>\n",
       "      <th>25661</th>\n",
       "      <td> 0</td>\n",
       "      <td> 0.000000</td>\n",
       "      <td>  210947-74018</td>\n",
       "      <td> 210947</td>\n",
       "      <td>  74018</td>\n",
       "    </tr>\n",
       "    <tr>\n",
       "      <th>25662</th>\n",
       "      <td> 0</td>\n",
       "      <td> 0.000000</td>\n",
       "      <td>  210950-31588</td>\n",
       "      <td> 210950</td>\n",
       "      <td>  31588</td>\n",
       "    </tr>\n",
       "    <tr>\n",
       "      <th>17146</th>\n",
       "      <td> 0</td>\n",
       "      <td> 0.000000</td>\n",
       "      <td>  39401-195686</td>\n",
       "      <td>  39401</td>\n",
       "      <td> 195686</td>\n",
       "    </tr>\n",
       "    <tr>\n",
       "      <th>25051</th>\n",
       "      <td> 0</td>\n",
       "      <td> 0.000000</td>\n",
       "      <td>  83842-209795</td>\n",
       "      <td>  83842</td>\n",
       "      <td> 209795</td>\n",
       "    </tr>\n",
       "    <tr>\n",
       "      <th>36160</th>\n",
       "      <td> 0</td>\n",
       "      <td> 0.000000</td>\n",
       "      <td> 121925-196243</td>\n",
       "      <td> 121925</td>\n",
       "      <td> 196243</td>\n",
       "    </tr>\n",
       "    <tr>\n",
       "      <th>37728</th>\n",
       "      <td> 0</td>\n",
       "      <td> 0.000000</td>\n",
       "      <td> 126470-126471</td>\n",
       "      <td> 126470</td>\n",
       "      <td> 126471</td>\n",
       "    </tr>\n",
       "    <tr>\n",
       "      <th>37730</th>\n",
       "      <td> 0</td>\n",
       "      <td> 0.000000</td>\n",
       "      <td> 126471-126470</td>\n",
       "      <td> 126471</td>\n",
       "      <td> 126470</td>\n",
       "    </tr>\n",
       "    <tr>\n",
       "      <th>38637</th>\n",
       "      <td> 0</td>\n",
       "      <td> 0.000000</td>\n",
       "      <td> 130340-210544</td>\n",
       "      <td> 130340</td>\n",
       "      <td> 210544</td>\n",
       "    </tr>\n",
       "    <tr>\n",
       "      <th>42318</th>\n",
       "      <td> 0</td>\n",
       "      <td> 0.000000</td>\n",
       "      <td> 149341-149356</td>\n",
       "      <td> 149341</td>\n",
       "      <td> 149356</td>\n",
       "    </tr>\n",
       "    <tr>\n",
       "      <th>42326</th>\n",
       "      <td> 0</td>\n",
       "      <td> 0.000000</td>\n",
       "      <td> 149356-149341</td>\n",
       "      <td> 149356</td>\n",
       "      <td> 149341</td>\n",
       "    </tr>\n",
       "    <tr>\n",
       "      <th>42445</th>\n",
       "      <td> 0</td>\n",
       "      <td> 0.000000</td>\n",
       "      <td> 149883-149893</td>\n",
       "      <td> 149883</td>\n",
       "      <td> 149893</td>\n",
       "    </tr>\n",
       "    <tr>\n",
       "      <th>42447</th>\n",
       "      <td> 0</td>\n",
       "      <td> 0.000000</td>\n",
       "      <td> 149893-149883</td>\n",
       "      <td> 149893</td>\n",
       "      <td> 149883</td>\n",
       "    </tr>\n",
       "    <tr>\n",
       "      <th>52194</th>\n",
       "      <td> 0</td>\n",
       "      <td> 0.000000</td>\n",
       "      <td> 194684-210195</td>\n",
       "      <td> 194684</td>\n",
       "      <td> 210195</td>\n",
       "    </tr>\n",
       "    <tr>\n",
       "      <th>52241</th>\n",
       "      <td> 0</td>\n",
       "      <td> 0.000000</td>\n",
       "      <td> 194812-209696</td>\n",
       "      <td> 194812</td>\n",
       "      <td> 209696</td>\n",
       "    </tr>\n",
       "    <tr>\n",
       "      <th>52549</th>\n",
       "      <td> 0</td>\n",
       "      <td> 0.000000</td>\n",
       "      <td>  195686-39401</td>\n",
       "      <td> 195686</td>\n",
       "      <td>  39401</td>\n",
       "    </tr>\n",
       "    <tr>\n",
       "      <th>52701</th>\n",
       "      <td> 0</td>\n",
       "      <td> 0.000000</td>\n",
       "      <td> 196139-210524</td>\n",
       "      <td> 196139</td>\n",
       "      <td> 210524</td>\n",
       "    </tr>\n",
       "    <tr>\n",
       "      <th>52723</th>\n",
       "      <td> 0</td>\n",
       "      <td> 0.000000</td>\n",
       "      <td> 196243-121925</td>\n",
       "      <td> 196243</td>\n",
       "      <td> 121925</td>\n",
       "    </tr>\n",
       "    <tr>\n",
       "      <th>53795</th>\n",
       "      <td> 0</td>\n",
       "      <td> 0.000000</td>\n",
       "      <td> 209110-210616</td>\n",
       "      <td> 209110</td>\n",
       "      <td> 210616</td>\n",
       "    </tr>\n",
       "    <tr>\n",
       "      <th>53942</th>\n",
       "      <td> 0</td>\n",
       "      <td> 0.000000</td>\n",
       "      <td> 209614-209615</td>\n",
       "      <td> 209614</td>\n",
       "      <td> 209615</td>\n",
       "    </tr>\n",
       "    <tr>\n",
       "      <th>53943</th>\n",
       "      <td> 0</td>\n",
       "      <td> 0.000000</td>\n",
       "      <td> 209615-209614</td>\n",
       "      <td> 209615</td>\n",
       "      <td> 209614</td>\n",
       "    </tr>\n",
       "    <tr>\n",
       "      <th>53979</th>\n",
       "      <td> 0</td>\n",
       "      <td> 0.000000</td>\n",
       "      <td> 209696-194812</td>\n",
       "      <td> 209696</td>\n",
       "      <td> 194812</td>\n",
       "    </tr>\n",
       "    <tr>\n",
       "      <th>54112</th>\n",
       "      <td> 0</td>\n",
       "      <td> 0.000000</td>\n",
       "      <td>  209795-83842</td>\n",
       "      <td> 209795</td>\n",
       "      <td>  83842</td>\n",
       "    </tr>\n",
       "    <tr>\n",
       "      <th>54621</th>\n",
       "      <td> 0</td>\n",
       "      <td> 0.000000</td>\n",
       "      <td> 210195-194684</td>\n",
       "      <td> 210195</td>\n",
       "      <td> 194684</td>\n",
       "    </tr>\n",
       "    <tr>\n",
       "      <th>55120</th>\n",
       "      <td> 0</td>\n",
       "      <td> 0.000000</td>\n",
       "      <td> 210524-196139</td>\n",
       "      <td> 210524</td>\n",
       "      <td> 196139</td>\n",
       "    </tr>\n",
       "    <tr>\n",
       "      <th>55146</th>\n",
       "      <td> 0</td>\n",
       "      <td> 0.000000</td>\n",
       "      <td> 210544-130340</td>\n",
       "      <td> 210544</td>\n",
       "      <td> 130340</td>\n",
       "    </tr>\n",
       "    <tr>\n",
       "      <th>55207</th>\n",
       "      <td> 0</td>\n",
       "      <td> 0.000000</td>\n",
       "      <td> 210616-209110</td>\n",
       "      <td> 210616</td>\n",
       "      <td> 209110</td>\n",
       "    </tr>\n",
       "  </tbody>\n",
       "</table>\n",
       "<p>55680 rows × 5 columns</p>\n",
       "</div>"
      ],
      "text/plain": [
       "       @bkfac    @upslp             id   inode   jnode\n",
       "0           0  0.009448         1-6091       1    6091\n",
       "1           0  0.029421         1-6564       1    6564\n",
       "2           0  0.036629         2-1820       2    1820\n",
       "3           0  0.012877         2-6096       2    6096\n",
       "4           0  0.000000         3-1822       3    1822\n",
       "5           0  0.000000         4-6094       4    6094\n",
       "6           0  0.005839         4-6100       4    6100\n",
       "7           0  0.001875         5-6099       5    6099\n",
       "8           0  0.004731         5-6105       5    6105\n",
       "9           0  0.052178         5-6107       5    6107\n",
       "10          0  0.006780         5-6902       5    6902\n",
       "11          0  0.023536         6-6103       6    6103\n",
       "12          0  0.011593         6-6107       6    6107\n",
       "13          0  0.001001         6-6109       6    6109\n",
       "14          0  0.008953         6-6115       6    6115\n",
       "15          0  0.001019         7-6104       7    6104\n",
       "16          0  0.012506         7-6109       7    6109\n",
       "17          0  0.000000         7-6114       7    6114\n",
       "18          0  0.048971         8-6111       8    6111\n",
       "19          0  0.006559         8-6113       8    6113\n",
       "20          0  0.000000         9-6112       9    6112\n",
       "21          0  0.023980         9-6113       9    6113\n",
       "22          0  0.015738         9-6118       9    6118\n",
       "23          0  0.007072        10-6110      10    6110\n",
       "24          0  0.011588        10-6112      10    6112\n",
       "25          0  0.010981        10-6114      10    6114\n",
       "26          0  0.017880        10-6119      10    6119\n",
       "27          0  0.015557        11-5987      11    5987\n",
       "28          0  0.010163        11-6124      11    6124\n",
       "29          0  0.012671        11-6129      11    6129\n",
       "...       ...       ...            ...     ...     ...\n",
       "25657       0  0.000000  210943-124712  210943  124712\n",
       "25658       0  0.000000  210944-124142  210944  124142\n",
       "25659       0  0.000000  210945-194800  210945  194800\n",
       "25660       0  0.000000  210946-127650  210946  127650\n",
       "25661       0  0.000000   210947-74018  210947   74018\n",
       "25662       0  0.000000   210950-31588  210950   31588\n",
       "17146       0  0.000000   39401-195686   39401  195686\n",
       "25051       0  0.000000   83842-209795   83842  209795\n",
       "36160       0  0.000000  121925-196243  121925  196243\n",
       "37728       0  0.000000  126470-126471  126470  126471\n",
       "37730       0  0.000000  126471-126470  126471  126470\n",
       "38637       0  0.000000  130340-210544  130340  210544\n",
       "42318       0  0.000000  149341-149356  149341  149356\n",
       "42326       0  0.000000  149356-149341  149356  149341\n",
       "42445       0  0.000000  149883-149893  149883  149893\n",
       "42447       0  0.000000  149893-149883  149893  149883\n",
       "52194       0  0.000000  194684-210195  194684  210195\n",
       "52241       0  0.000000  194812-209696  194812  209696\n",
       "52549       0  0.000000   195686-39401  195686   39401\n",
       "52701       0  0.000000  196139-210524  196139  210524\n",
       "52723       0  0.000000  196243-121925  196243  121925\n",
       "53795       0  0.000000  209110-210616  209110  210616\n",
       "53942       0  0.000000  209614-209615  209614  209615\n",
       "53943       0  0.000000  209615-209614  209615  209614\n",
       "53979       0  0.000000  209696-194812  209696  194812\n",
       "54112       0  0.000000   209795-83842  209795   83842\n",
       "54621       0  0.000000  210195-194684  210195  194684\n",
       "55120       0  0.000000  210524-196139  210524  196139\n",
       "55146       0  0.000000  210544-130340  210544  130340\n",
       "55207       0  0.000000  210616-209110  210616  209110\n",
       "\n",
       "[55680 rows x 5 columns]"
      ]
     },
     "execution_count": 98,
     "metadata": {},
     "output_type": "execute_result"
    }
   ],
   "source": [
    "emme_attr"
   ]
  },
  {
   "cell_type": "code",
   "execution_count": null,
   "metadata": {
    "collapsed": true
   },
   "outputs": [],
   "source": []
  }
 ],
 "metadata": {
  "kernelspec": {
   "display_name": "Python 2",
   "language": "python",
   "name": "python2"
  },
  "language_info": {
   "codemirror_mode": {
    "name": "ipython",
    "version": 2
   },
   "file_extension": ".py",
   "mimetype": "text/x-python",
   "name": "python",
   "nbconvert_exporter": "python",
   "pygments_lexer": "ipython2",
   "version": "2.7.9"
  }
 },
 "nbformat": 4,
 "nbformat_minor": 0
}
