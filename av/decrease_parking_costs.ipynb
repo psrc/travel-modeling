{
 "cells": [
  {
   "cell_type": "code",
   "execution_count": 9,
   "metadata": {
    "collapsed": true
   },
   "outputs": [],
   "source": [
    "import pandas as pd"
   ]
  },
  {
   "cell_type": "code",
   "execution_count": 10,
   "metadata": {
    "collapsed": false
   },
   "outputs": [],
   "source": [
    "input_parcels = r'R:\\SoundCast\\Inputs\\lodes\\2040_plan_update_av\\landuse\\parcels_urbansim.txt'\n",
    "parcels = pd.read_csv(input_parcels, sep = ' ')"
   ]
  },
  {
   "cell_type": "code",
   "execution_count": 11,
   "metadata": {
    "collapsed": false
   },
   "outputs": [
    {
     "data": {
      "text/plain": [
       "Index([u'aparks', u'empedu_p', u'empfoo_p', u'empgov_p', u'empind_p',\n",
       "       u'empmed_p', u'empofc_p', u'empoth_p', u'empret_p', u'emprsc_p',\n",
       "       u'empsvc_p', u'emptot_p', u'hh_p', u'lutype_p', u'nparks', u'parcelid',\n",
       "       u'parkdy_p', u'parkhr_p', u'ppricdyp', u'pprichrp', u'sqft_p',\n",
       "       u'stugrd_p', u'stuhgh_p', u'stuuni_p', u'taz_p', u'xcoord_p',\n",
       "       u'ycoord_p'],\n",
       "      dtype='object')"
      ]
     },
     "execution_count": 11,
     "metadata": {},
     "output_type": "execute_result"
    }
   ],
   "source": [
    "parcels.columns"
   ]
  },
  {
   "cell_type": "code",
   "execution_count": 12,
   "metadata": {
    "collapsed": true
   },
   "outputs": [],
   "source": [
    "parcels['pprichrp']= parcels['pprichrp']*.5\n",
    "parcels['ppricdyp']= parcels['ppricdyp']*.5\n",
    "\n",
    "output_parcels = r'R:\\SoundCast\\Inputs\\lodes\\2040_plan_update_av\\landuse\\parcels_urbansim_mod.txt'"
   ]
  }
 ],
 "metadata": {
  "anaconda-cloud": {},
  "kernelspec": {
   "display_name": "Python [conda env:Anaconda2]",
   "language": "python",
   "name": "conda-env-Anaconda2-py"
  },
  "language_info": {
   "codemirror_mode": {
    "name": "ipython",
    "version": 2
   },
   "file_extension": ".py",
   "mimetype": "text/x-python",
   "name": "python",
   "nbconvert_exporter": "python",
   "pygments_lexer": "ipython2",
   "version": "2.7.12"
  }
 },
 "nbformat": 4,
 "nbformat_minor": 1
}
