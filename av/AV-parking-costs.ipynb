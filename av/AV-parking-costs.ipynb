{
 "cells": [
  {
   "cell_type": "code",
   "execution_count": 1,
   "metadata": {
    "collapsed": true
   },
   "outputs": [],
   "source": [
    "import pandas as pd"
   ]
  },
  {
   "cell_type": "code",
   "execution_count": 37,
   "metadata": {
    "collapsed": true
   },
   "outputs": [],
   "source": [
    "# need to change 2014 inputs directly on parcels\n",
    "# future runs can have changes on at the ensemble level instead\n",
    "\n",
    "df = pd.read_csv(r'R:\\SoundCast\\Inputs\\esd\\just_friends\\2014_av\\landuse\\parcels_urbansim.txt', delim_whitespace=True)"
   ]
  },
  {
   "cell_type": "code",
   "execution_count": 33,
   "metadata": {},
   "outputs": [],
   "source": [
    "df[['ppricdyp','pprichrp']] = df[['ppricdyp','pprichrp']]*0.5"
   ]
  },
  {
   "cell_type": "code",
   "execution_count": 35,
   "metadata": {
    "collapsed": true
   },
   "outputs": [],
   "source": [
    "# Write to file\n",
    "df.to_csv(r'R:\\SoundCast\\Inputs\\esd\\just_friends\\2014_av\\landuse\\parcels_urbansim.txt', index=False, sep=' ')"
   ]
  },
  {
   "cell_type": "code",
   "execution_count": null,
   "metadata": {
    "collapsed": true
   },
   "outputs": [],
   "source": [
    "# compare rates"
   ]
  },
  {
   "cell_type": "code",
   "execution_count": 23,
   "metadata": {
    "collapsed": true
   },
   "outputs": [],
   "source": [
    "df = pd.read_csv(r'R:\\SoundCast\\Inputs\\esd\\just_friends\\2014\\landuse\\parcels_urbansim.txt', delim_whitespace=True)"
   ]
  },
  {
   "cell_type": "code",
   "execution_count": 38,
   "metadata": {},
   "outputs": [
    {
     "data": {
      "text/plain": [
       "0.3144931748756451"
      ]
     },
     "execution_count": 38,
     "metadata": {},
     "output_type": "execute_result"
    }
   ],
   "source": [
    "df['ppricdyp'].mean()"
   ]
  },
  {
   "cell_type": "code",
   "execution_count": 15,
   "metadata": {},
   "outputs": [
    {
     "data": {
      "text/plain": [
       "Index([u'aparks', u'empedu_p', u'empfoo_p', u'empgov_p', u'empind_p',\n",
       "       u'empmed_p', u'empofc_p', u'empoth_p', u'empret_p', u'emprsc_p',\n",
       "       u'empsvc_p', u'emptot_p', u'hh_p', u'lutype_p', u'nparks', u'parcelid',\n",
       "       u'parkdy_p', u'parkhr_p', u'ppricdyp', u'pprichrp', u'sqft_p',\n",
       "       u'stugrd_p', u'stuhgh_p', u'stuuni_p', u'taz_p', u'xcoord_p',\n",
       "       u'ycoord_p'],\n",
       "      dtype='object')"
      ]
     },
     "execution_count": 15,
     "metadata": {},
     "output_type": "execute_result"
    }
   ],
   "source": [
    "# Load the ensemble rates "
   ]
  },
  {
   "cell_type": "code",
   "execution_count": null,
   "metadata": {
    "collapsed": true
   },
   "outputs": [],
   "source": []
  }
 ],
 "metadata": {
  "kernelspec": {
   "display_name": "Python 2",
   "language": "python",
   "name": "python2"
  },
  "language_info": {
   "codemirror_mode": {
    "name": "ipython",
    "version": 2
   },
   "file_extension": ".py",
   "mimetype": "text/x-python",
   "name": "python",
   "nbconvert_exporter": "python",
   "pygments_lexer": "ipython2",
   "version": "2.7.14"
  }
 },
 "nbformat": 4,
 "nbformat_minor": 2
}
