{
 "cells": [
  {
   "cell_type": "code",
   "execution_count": 1,
   "metadata": {
    "collapsed": true
   },
   "outputs": [],
   "source": [
    "# Update capacities for freeway and major arterials\n",
    "# Increase by 30%"
   ]
  },
  {
   "cell_type": "code",
   "execution_count": 1,
   "metadata": {
    "collapsed": true
   },
   "outputs": [],
   "source": [
    "import pandas as pd\n",
    "import numpy as np"
   ]
  },
  {
   "cell_type": "code",
   "execution_count": 89,
   "metadata": {},
   "outputs": [
    {
     "name": "stdout",
     "output_type": "stream",
     "text": [
      "am\n",
      "100270\n",
      "md\n",
      "100094\n",
      "pm\n",
      "100285\n",
      "ev\n",
      "100052\n",
      "ni\n",
      "99274\n"
     ]
    }
   ],
   "source": [
    "\n",
    "for tod in ['am','md','pm','ev','ni']:\n",
    "    filedir = r'R:\\SoundCast\\Inputs\\2040_plan_update\\networks\\roadway\\\\'+tod+'_roadway.in'\n",
    "    df = pd.read_csv(filedir, sep='abcdefghij', skiprows=0)   # nonsensical sep to get as single column\n",
    "    df.columns = ['column']\n",
    "    print tod\n",
    "    print len(df)\n",
    "\n",
    "    startrow = df[df['column'] == 't links init'].index[0]+3 # to +3 start with the next\n",
    "    endrow = df[df['column'] == 'c add P&R nodes'].index[0]+1\n",
    "    nrows = endrow-startrow\n",
    "\n",
    "    # Re-read data but only include link data\n",
    "    df = pd.read_csv(filedir, delim_whitespace=True, skiprows=startrow, \n",
    "                      skipinitialspace=True, nrows=nrows, header=None)\n",
    "    df.columns = ['a','i','j','length','modes','linktype','lanes','vdf','capacity','speed-limit','facility_type']\n",
    "\n",
    "    # Select the freeways and urban arterials and modify capacity by 30%\n",
    "    df.ix[df['facility_type'].isin([1,2,3,4]),'capacity'] = df.ix[df['facility_type'].isin([1,2,3,4]),'capacity']*1.3\n",
    "\n",
    "    # Export back into Emme format\n",
    "    # Load original file as single column\n",
    "    _df = pd.read_csv(filedir, sep='abcdefj', skiprows=0, header=None)\n",
    "\n",
    "    # Convert modified df to a single row of data\n",
    "\n",
    "    # convert multiple columns to single string\n",
    "    df['single_col'] = df[df.columns[:]].apply(lambda x: ' '.join(x.dropna().astype(str)),axis=1)\n",
    "\n",
    "    #\n",
    "    top_matter = _df.iloc[0:startrow-1]\n",
    "    end_matter = _df.iloc[endrow-1:]\n",
    "\n",
    "    middle_matter = df[['single_col']]\n",
    "    middle_matter.columns = [0]\n",
    "\n",
    "    df_emme = top_matter.append(middle_matter)\n",
    "    df_emme = df_emme.append(end_matter)\n",
    "\n",
    "    fileout = r'R:\\SoundCast\\Inputs\\2040_av_capacity_increase\\networks\\roadway\\\\'+tod+'_roadway.in'\n",
    "    df_emme.to_csv(fileout, header=False, index=False)"
   ]
  },
  {
   "cell_type": "code",
   "execution_count": 59,
   "metadata": {
    "collapsed": true
   },
   "outputs": [],
   "source": []
  },
  {
   "cell_type": "code",
   "execution_count": 60,
   "metadata": {
    "collapsed": true
   },
   "outputs": [],
   "source": []
  },
  {
   "cell_type": "code",
   "execution_count": 85,
   "metadata": {
    "collapsed": true
   },
   "outputs": [],
   "source": []
  },
  {
   "cell_type": "code",
   "execution_count": null,
   "metadata": {},
   "outputs": [],
   "source": []
  },
  {
   "cell_type": "code",
   "execution_count": 86,
   "metadata": {},
   "outputs": [],
   "source": []
  },
  {
   "cell_type": "code",
   "execution_count": null,
   "metadata": {
    "collapsed": true
   },
   "outputs": [],
   "source": [
    "len"
   ]
  }
 ],
 "metadata": {
  "kernelspec": {
   "display_name": "Python 2",
   "language": "python",
   "name": "python2"
  },
  "language_info": {
   "codemirror_mode": {
    "name": "ipython",
    "version": 2
   },
   "file_extension": ".py",
   "mimetype": "text/x-python",
   "name": "python",
   "nbconvert_exporter": "python",
   "pygments_lexer": "ipython2",
   "version": "2.7.14"
  }
 },
 "nbformat": 4,
 "nbformat_minor": 2
}
