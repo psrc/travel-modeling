{
 "cells": [
  {
   "cell_type": "code",
   "execution_count": 13,
   "metadata": {},
   "outputs": [
    {
     "data": {
      "text/plain": [
       "[u'Household', u'Person']"
      ]
     },
     "execution_count": 13,
     "metadata": {},
     "output_type": "execute_result"
    }
   ],
   "source": [
    "# Calculate students enrollments per parcel\n",
    "# from plan data"
   ]
  },
  {
   "cell_type": "markdown",
   "metadata": {},
   "source": [
    "# 2014 ESD"
   ]
  },
  {
   "cell_type": "code",
   "execution_count": 52,
   "metadata": {},
   "outputs": [],
   "source": [
    "# Student enrollments\n",
    "df14 = pd.read_csv(r'R:\\SoundCast\\Inputs\\2014_esd\\landuse\\parcels_urbansim.txt',\n",
    "                delim_whitespace=True)"
   ]
  },
  {
   "cell_type": "code",
   "execution_count": 53,
   "metadata": {},
   "outputs": [],
   "source": [
    "# List of parcels \n",
    "stugrd = df14[df14['stugrd_p'] > 0][['stugrd_p','parcelid']]    # Grade school students\n",
    "stuhgh = df14[df14['stuhgh_p'] > 0][['stuhgh_p','parcelid']]    # High school students\n",
    "stuuni_p = df14[df14['stuuni_p'] > 0][['stuuni_p','parcelid']]    # University/college students\n"
   ]
  },
  {
   "cell_type": "code",
   "execution_count": 54,
   "metadata": {},
   "outputs": [],
   "source": [
    "df = pd.merge(stugrd,stuhgh, on='parcelid', how='outer')\n",
    "df = pd.merge(df,stuuni_p, on='parcelid', how='outer')\n",
    "df = df.fillna(0)"
   ]
  },
  {
   "cell_type": "code",
   "execution_count": 55,
   "metadata": {},
   "outputs": [],
   "source": [
    "# Why are there zones that have the same number of grade school students as high school students?\n",
    "# df14[(df14['stugrd_p'] == df14['stuhgh_p']) & df14['stugrd_p'] > 0][['stugrd_p','stuhgh_p']]"
   ]
  },
  {
   "cell_type": "code",
   "execution_count": 56,
   "metadata": {},
   "outputs": [],
   "source": [
    "df[['parcelid','stugrd_p','stuhgh_p','stuuni_p']].to_csv(r'R:\\SoundCast\\Inputs\\2014_esd\\landuse\\enrollment.csv',\n",
    "                                                        index=False)"
   ]
  },
  {
   "cell_type": "markdown",
   "metadata": {},
   "source": [
    "# 2025"
   ]
  },
  {
   "cell_type": "code",
   "execution_count": 46,
   "metadata": {
    "collapsed": true
   },
   "outputs": [],
   "source": [
    "df25 = pd.read_csv(r'R:\\SoundCast\\Inputs\\2025\\landuse\\parcels_urbansim.txt',\n",
    "                delim_whitespace=True)"
   ]
  },
  {
   "cell_type": "code",
   "execution_count": 47,
   "metadata": {
    "collapsed": true
   },
   "outputs": [],
   "source": [
    "# List of parcels \n",
    "stugrd = df25[df25['stugrd_p'] > 0][['stugrd_p','parcelid']]    # Grade school students\n",
    "stuhgh = df25[df25['stuhgh_p'] > 0][['stuhgh_p','parcelid']]    # High school students\n",
    "stuuni_p = df25[df25['stuuni_p'] > 0][['stuuni_p','parcelid']]    # University/college students\n",
    "\n",
    "df = pd.merge(stugrd,stuhgh, on='parcelid', how='outer')\n",
    "df = pd.merge(df,stuuni_p, on='parcelid', how='outer')\n",
    "df = df.fillna(0)\n",
    "\n",
    "df[['parcelid','stugrd_p','stuhgh_p','stuuni_p']].to_csv(r'R:\\SoundCast\\Inputs\\2025\\landuse\\enrollment.csv',\n",
    "                                                        index=False)"
   ]
  },
  {
   "cell_type": "markdown",
   "metadata": {},
   "source": [
    "# 2040 Plan"
   ]
  },
  {
   "cell_type": "code",
   "execution_count": 50,
   "metadata": {
    "collapsed": true
   },
   "outputs": [],
   "source": [
    "df40 = pd.read_csv(r'R:\\SoundCast\\Inputs\\2040_plan_update\\landuse\\parcels_urbansim.txt',\n",
    "                delim_whitespace=True)"
   ]
  },
  {
   "cell_type": "code",
   "execution_count": 51,
   "metadata": {
    "collapsed": true
   },
   "outputs": [],
   "source": [
    "# List of parcels \n",
    "stugrd = df40[df40['stugrd_p'] > 0][['stugrd_p','parcelid']]    # Grade school students\n",
    "stuhgh = df40[df40['stuhgh_p'] > 0][['stuhgh_p','parcelid']]    # High school students\n",
    "stuuni_p = df40[df40['stuuni_p'] > 0][['stuuni_p','parcelid']]    # University/college students\n",
    "\n",
    "df = pd.merge(stugrd,stuhgh, on='parcelid', how='outer')\n",
    "df = pd.merge(df,stuuni_p, on='parcelid', how='outer')\n",
    "df = df.fillna(0)\n",
    "\n",
    "df[['parcelid','stugrd_p','stuhgh_p','stuuni_p']].to_csv(r'R:\\SoundCast\\Inputs\\2040_plan_update\\landuse\\enrollment.csv',\n",
    "                                                        index=False)"
   ]
  },
  {
   "cell_type": "code",
   "execution_count": null,
   "metadata": {
    "collapsed": true
   },
   "outputs": [],
   "source": []
  }
 ],
 "metadata": {
  "kernelspec": {
   "display_name": "Python 2",
   "language": "python",
   "name": "python2"
  },
  "language_info": {
   "codemirror_mode": {
    "name": "ipython",
    "version": 2
   },
   "file_extension": ".py",
   "mimetype": "text/x-python",
   "name": "python",
   "nbconvert_exporter": "python",
   "pygments_lexer": "ipython2",
   "version": "2.7.14"
  }
 },
 "nbformat": 4,
 "nbformat_minor": 2
}
