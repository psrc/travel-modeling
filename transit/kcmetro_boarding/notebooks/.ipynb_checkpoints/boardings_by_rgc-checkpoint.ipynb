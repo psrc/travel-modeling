{
 "cells": [
  {
   "cell_type": "code",
   "execution_count": 1,
   "metadata": {
    "collapsed": false
   },
   "outputs": [],
   "source": [
    "import pandas as pd\n",
    "% matplotlib inline"
   ]
  },
  {
   "cell_type": "code",
   "execution_count": 2,
   "metadata": {
    "collapsed": false
   },
   "outputs": [],
   "source": [
    "# Load model stop-level boardings from network_summary_detailed\n",
    "model =  pd.read_excel(r'U:\\Stefan\\Soundcast_feb_twg\\outputs\\network_summary_detailed.xlsx',\n",
    "                                sheetname='Transfers by Stop')"
   ]
  },
  {
   "cell_type": "code",
   "execution_count": 3,
   "metadata": {
    "collapsed": false
   },
   "outputs": [],
   "source": [
    "# observed king county boardings\n",
    "# See R:\\2014_Base_Year\\ValidationData\\Transit\\KC Metro\n",
    "obs = pd.read_csv('../data/observed_spring14.csv')"
   ]
  },
  {
   "cell_type": "code",
   "execution_count": 32,
   "metadata": {
    "collapsed": false
   },
   "outputs": [],
   "source": [
    "# model = pd.read_csv('../data/stop_boardings.csv')\n",
    "\n",
    "# Results need TAZ geography joined to them\n",
    "# Load GIS intersected results for joining\n",
    "# model_taz_lookup = pd.read_csv('../data/nodes_taz_intersect.csv')\n",
    "# model_rgc_lookup = pd.read_csv(r'c:/users/brice/transit/2014_network_rgc.csv')\n",
    "model_rgc_lookup = pd.read_csv(r'../data/2014_network_rgc.csv')\n",
    "\n",
    "# model_taz_lookup = pd.read_csv('c:/users/brice/transit/2040_network_taz.csv')\n",
    "# obs_taz_lookup = pd.read_csv(r'../data/observed_taz_intersect.csv')\n",
    "# obs_rgc_lookup = pd.read_csv(r'c:/users/brice/transit/kc_metro_stop_rgc.csv')\n",
    "obs_rgc_lookup = pd.read_csv(r'../data/kc_metro_stop_rgc.csv')"
   ]
  },
  {
   "cell_type": "code",
   "execution_count": 33,
   "metadata": {
    "collapsed": false
   },
   "outputs": [],
   "source": [
    "model['ons'] = model['total_boardings']\n",
    "model['offs'] = model['final_alightings']\n",
    "model['node_id'] = model['inode']"
   ]
  },
  {
   "cell_type": "code",
   "execution_count": 39,
   "metadata": {
    "collapsed": false
   },
   "outputs": [],
   "source": [
    "# Join model geography to results files\n",
    "df = pd.merge(model,model_rgc_lookup,left_on='node_id',right_on='Scen_Node')"
   ]
  },
  {
   "cell_type": "code",
   "execution_count": 42,
   "metadata": {
    "collapsed": false
   },
   "outputs": [],
   "source": [
    "# Group by TAZ/RGC totals\n",
    "model_taz = df.groupby('NAME').sum()[['ons','offs']]\n",
    "model_taz.reset_index(inplace=True)"
   ]
  },
  {
   "cell_type": "code",
   "execution_count": 44,
   "metadata": {
    "collapsed": false
   },
   "outputs": [],
   "source": [
    "# process observed data\n",
    "obs_df = pd.merge(obs,obs_rgc_lookup,left_on='Zone#',right_on='BUSSTOP_ID')\n",
    "\n",
    "obs_taz = obs_df.groupby('NAME').sum()[['OffsObs','OnsObs']]\n",
    "obs_taz.reset_index(inplace=True)"
   ]
  },
  {
   "cell_type": "code",
   "execution_count": 45,
   "metadata": {
    "collapsed": false
   },
   "outputs": [],
   "source": [
    "df = pd.merge(model_taz, obs_taz)"
   ]
  },
  {
   "cell_type": "code",
   "execution_count": 46,
   "metadata": {
    "collapsed": false
   },
   "outputs": [
    {
     "data": {
      "text/html": [
       "<div>\n",
       "<table border=\"1\" class=\"dataframe\">\n",
       "  <thead>\n",
       "    <tr style=\"text-align: right;\">\n",
       "      <th></th>\n",
       "      <th>NAME</th>\n",
       "      <th>ons</th>\n",
       "      <th>offs</th>\n",
       "      <th>OffsObs</th>\n",
       "      <th>OnsObs</th>\n",
       "    </tr>\n",
       "  </thead>\n",
       "  <tbody>\n",
       "    <tr>\n",
       "      <th>0</th>\n",
       "      <td>Auburn</td>\n",
       "      <td>3899.511914</td>\n",
       "      <td>1808.127764</td>\n",
       "      <td>1261.19</td>\n",
       "      <td>1304.93</td>\n",
       "    </tr>\n",
       "    <tr>\n",
       "      <th>1</th>\n",
       "      <td>Bellevue</td>\n",
       "      <td>14370.723325</td>\n",
       "      <td>9687.158639</td>\n",
       "      <td>9267.37</td>\n",
       "      <td>8989.96</td>\n",
       "    </tr>\n",
       "    <tr>\n",
       "      <th>2</th>\n",
       "      <td>Burien</td>\n",
       "      <td>4424.401297</td>\n",
       "      <td>2622.362085</td>\n",
       "      <td>4127.16</td>\n",
       "      <td>3504.49</td>\n",
       "    </tr>\n",
       "    <tr>\n",
       "      <th>3</th>\n",
       "      <td>Federal Way</td>\n",
       "      <td>5382.964594</td>\n",
       "      <td>1410.814729</td>\n",
       "      <td>3093.17</td>\n",
       "      <td>2985.68</td>\n",
       "    </tr>\n",
       "    <tr>\n",
       "      <th>4</th>\n",
       "      <td>Issaquah</td>\n",
       "      <td>2398.245721</td>\n",
       "      <td>1363.644085</td>\n",
       "      <td>1507.87</td>\n",
       "      <td>1578.13</td>\n",
       "    </tr>\n",
       "  </tbody>\n",
       "</table>\n",
       "</div>"
      ],
      "text/plain": [
       "          NAME           ons         offs  OffsObs   OnsObs\n",
       "0       Auburn   3899.511914  1808.127764  1261.19  1304.93\n",
       "1     Bellevue  14370.723325  9687.158639  9267.37  8989.96\n",
       "2       Burien   4424.401297  2622.362085  4127.16  3504.49\n",
       "3  Federal Way   5382.964594  1410.814729  3093.17  2985.68\n",
       "4     Issaquah   2398.245721  1363.644085  1507.87  1578.13"
      ]
     },
     "execution_count": 46,
     "metadata": {},
     "output_type": "execute_result"
    }
   ],
   "source": [
    "df.head()"
   ]
  },
  {
   "cell_type": "code",
   "execution_count": 27,
   "metadata": {
    "collapsed": false
   },
   "outputs": [
    {
     "data": {
      "text/plain": [
       "<matplotlib.axes._subplots.AxesSubplot at 0xbc502e8>"
      ]
     },
     "execution_count": 27,
     "metadata": {},
     "output_type": "execute_result"
    },
    {
     "data": {
      "image/png": "[encoded data removed]",
      "text/plain": [
       "<matplotlib.figure.Figure at 0xa8140f0>"
      ]
     },
     "metadata": {},
     "output_type": "display_data"
    }
   ],
   "source": [
    "df.plot(kind='scatter', x='ons', y='OnsObs')"
   ]
  },
  {
   "cell_type": "code",
   "execution_count": null,
   "metadata": {
    "collapsed": true
   },
   "outputs": [],
   "source": []
  }
 ],
 "metadata": {
  "kernelspec": {
   "display_name": "Python 2",
   "language": "python",
   "name": "python2"
  },
  "language_info": {
   "codemirror_mode": {
    "name": "ipython",
    "version": 2
   },
   "file_extension": ".py",
   "mimetype": "text/x-python",
   "name": "python",
   "nbconvert_exporter": "python",
   "pygments_lexer": "ipython2",
   "version": "2.7.9"
  }
 },
 "nbformat": 4,
 "nbformat_minor": 0
}
