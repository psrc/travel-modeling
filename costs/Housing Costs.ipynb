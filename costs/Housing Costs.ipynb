{
 "cells": [
  {
   "cell_type": "code",
   "execution_count": 6,
   "metadata": {
    "collapsed": true
   },
   "outputs": [],
   "source": [
    "import pandas as pd\n",
    "import geopandas as gpd\n",
    "from shapely.geometry import Point, LineString, Polygon"
   ]
  },
  {
   "cell_type": "code",
   "execution_count": null,
   "metadata": {
    "collapsed": true
   },
   "outputs": [],
   "source": [
    "# Add block-group level housing costs from H+T to 2014 parcel file"
   ]
  },
  {
   "cell_type": "code",
   "execution_count": 3,
   "metadata": {},
   "outputs": [],
   "source": [
    "df = pd.read_csv(r'R:\\SoundCast\\Inputs\\2014_esd\\landuse\\parcels_urbansim.txt',\n",
    "                delim_whitespace=True)"
   ]
  },
  {
   "cell_type": "code",
   "execution_count": 14,
   "metadata": {
    "collapsed": true
   },
   "outputs": [],
   "source": [
    "# Load parcel geography as geoseries\n",
    "geog = df.apply(lambda x: Point((float(x.xcoord_p), float(x.ycoord_p))), axis=1)\n",
    "geog = gpd.GeoSeries(geog)\n",
    "geog.crs = {'init': 'epsg:2285'}  # WA State Plane (north)\n",
    "df['lat_lon_geog'] =  geog\n",
    "df['geometry'] = geog.to_crs(epsg='2285') # Replace default geometry field with the projected epsg=2285 projection to match shapefiles\n",
    "df.crs = {'init': 'epsg:2285'}"
   ]
  },
  {
   "cell_type": "code",
   "execution_count": 9,
   "metadata": {},
   "outputs": [],
   "source": []
  },
  {
   "cell_type": "code",
   "execution_count": 20,
   "metadata": {},
   "outputs": [],
   "source": [
    "def spatial_join(gdf1, gdf2, keep_field, rename_field, crs):\n",
    "    \"\"\"Spatial join two geodataframes, left intersect with base on gdf1\"\"\"\n",
    "    df = gpd.sjoin(gdf1, gdf2[['geometry',keep_field]], how=\"left\", op='intersects')\n",
    "    df = df.rename(columns={keep_field: rename_field})\n",
    "    df.crs = crs\n",
    "    \n",
    "    return df"
   ]
  },
  {
   "cell_type": "code",
   "execution_count": 21,
   "metadata": {},
   "outputs": [],
   "source": [
    "# Join parcels to block groups\n",
    "block_group = gpd.GeoDataFrame.from_file(r'R:\\Brice\\blockgrp2010.shp')\n",
    "block_group.crs = {'init' :'epsg:2285'} # WA State Plane (north)\n",
    "\n",
    "_df = spatial_join(gdf1=df, gdf2=block_group, keep_field='GEOID10', rename_field='final_bg', crs=df.crs)\n",
    "\n",
    "# Attach data from block group level\n",
    "costs = pd.read_csv(r'C:\\Users\\Brice\\travel-modeling\\costs\\htaindex_data_blkgrps_53.csv')\n",
    "\n",
    "_df['final_bg'] = _df['final_bg'].astype('float64')\n",
    "new_parcels = pd.merge(_df,costs,how='left',left_on='final_bg',right_on='blkgrp')\n",
    "\n",
    "new_parcels.to_csv(r'R:\\SoundCastDocuments\\metrics\\housing_transport_costs\\parcel_housing_costs_2014_lodes.csv',\n",
    "                  index=False)"
   ]
  }
 ],
 "metadata": {
  "kernelspec": {
   "display_name": "Python 2",
   "language": "python",
   "name": "python2"
  },
  "language_info": {
   "codemirror_mode": {
    "name": "ipython",
    "version": 2
   },
   "file_extension": ".py",
   "mimetype": "text/x-python",
   "name": "python",
   "nbconvert_exporter": "python",
   "pygments_lexer": "ipython2",
   "version": "2.7.14"
  }
 },
 "nbformat": 4,
 "nbformat_minor": 2
}
