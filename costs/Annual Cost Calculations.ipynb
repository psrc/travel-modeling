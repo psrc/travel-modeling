{
 "cells": [
  {
   "cell_type": "code",
   "execution_count": 43,
   "metadata": {
    "collapsed": true
   },
   "outputs": [],
   "source": [
    "import pandas as pd\n",
    "import numpy as np\n",
    "%matplotlib inline "
   ]
  },
  {
   "cell_type": "code",
   "execution_count": 44,
   "metadata": {
    "collapsed": false
   },
   "outputs": [],
   "source": [
    "# 2014 \n",
    "df = pd.read_csv(r'I:\\T2040\\soundcast_2014\\outputs\\daysim\\_trip.tsv', sep='\\t')\n",
    "hh = pd.read_csv(r'I:\\T2040\\soundcast_2014\\outputs\\daysim\\_household.tsv', sep='\\t')\n",
    "parcels = pd.read_csv(r'I:\\T2040\\soundcast_2014\\inputs\\accessibility\\parcels_urbansim.txt', sep = ' ')"
   ]
  },
  {
   "cell_type": "code",
   "execution_count": 45,
   "metadata": {
    "collapsed": true
   },
   "outputs": [],
   "source": [
    "\n",
    "# AAA Calculations availavble for small, medium, large Sedans (and average of these), SUV, Minivan\n",
    "\n",
    "# Analysis of survey could be used to allocate vehicle type distributions?\n",
    "\n",
    "# http://publicaffairsresources.aaa.biz/wp-content/uploads/2016/03/2016-YDC-Brochure.pdf\n",
    "# results are averages for sedans\n",
    "\n",
    "# Annualalize costs as 262\n",
    "annual_factor = 262\n",
    "\n",
    "# Costs by miles\n",
    "# Operating costs total (gas + maintenance + tries)\n",
    "depreciation_per_mile = 3759.0/15000    # depreciation by mile\n",
    "\n",
    "# Annual costs\n",
    "insurance = 1222    #(full-coverage insurance, license, registration, taxes, depreciation @ 15,000 miles per year), finance charge\n",
    "taxes = 687    # license, registration, taxes\n",
    "finance = 683    # load financing\n",
    "\n",
    "annual_fixed_costs = insurance+taxes+finance"
   ]
  },
  {
   "cell_type": "code",
   "execution_count": 46,
   "metadata": {
    "collapsed": true
   },
   "outputs": [],
   "source": [
    "#to calculate activity durations for parking cost:\n",
    "day_minutes = 1440\n",
    "minutes_hr = 60.0\n",
    "cents_dollar = 100"
   ]
  },
  {
   "cell_type": "code",
   "execution_count": 47,
   "metadata": {
    "collapsed": true
   },
   "outputs": [],
   "source": [
    "# get total travel cost (based on vmt)\n",
    "# includes \n",
    "hh_mile_costs = df.groupby('hhno').sum()[['travcost']]\n",
    "hh_mile_costs = hh_mile_costs.reset_index()\n",
    "\n",
    "hh = pd.merge(hh, hh_mile_costs, on='hhno', how='left')\n",
    "\n",
    "# Some households have 0 travel cost\n",
    "hh['travcost'] = hh['travcost'].fillna(0)"
   ]
  },
  {
   "cell_type": "code",
   "execution_count": 48,
   "metadata": {
    "collapsed": true
   },
   "outputs": [],
   "source": [
    "# Total vehicle miles traveled per household to calculate depreciation\n",
    "driver_trips = df[df['dorp'] == 1]"
   ]
  },
  {
   "cell_type": "code",
   "execution_count": 49,
   "metadata": {
    "collapsed": true
   },
   "outputs": [],
   "source": [
    "hh_travdist = df.groupby('hhno').sum()[['travdist']]\n",
    "hh_travdist = hh_travdist.reset_index()"
   ]
  },
  {
   "cell_type": "code",
   "execution_count": 50,
   "metadata": {
    "collapsed": true
   },
   "outputs": [],
   "source": [
    "hh = pd.merge(hh, hh_travdist, on='hhno', how='left')"
   ]
  },
  {
   "cell_type": "code",
   "execution_count": 51,
   "metadata": {
    "collapsed": false
   },
   "outputs": [
    {
     "name": "stderr",
     "output_type": "stream",
     "text": [
      "C:\\Program Files\\Anaconda2\\lib\\site-packages\\ipykernel\\__main__.py:2: SettingWithCopyWarning: \n",
      "A value is trying to be set on a copy of a slice from a DataFrame.\n",
      "Try using .loc[row_indexer,col_indexer] = value instead\n",
      "\n",
      "See the caveats in the documentation: http://pandas.pydata.org/pandas-docs/stable/indexing.html#indexing-view-versus-copy\n",
      "  from ipykernel import kernelapp as app\n",
      "C:\\Program Files\\Anaconda2\\lib\\site-packages\\ipykernel\\__main__.py:3: SettingWithCopyWarning: \n",
      "A value is trying to be set on a copy of a slice from a DataFrame.\n",
      "Try using .loc[row_indexer,col_indexer] = value instead\n",
      "\n",
      "See the caveats in the documentation: http://pandas.pydata.org/pandas-docs/stable/indexing.html#indexing-view-versus-copy\n",
      "  app.launch_new_instance()\n",
      "C:\\Program Files\\Anaconda2\\lib\\site-packages\\ipykernel\\__main__.py:4: SettingWithCopyWarning: \n",
      "A value is trying to be set on a copy of a slice from a DataFrame.\n",
      "Try using .loc[row_indexer,col_indexer] = value instead\n",
      "\n",
      "See the caveats in the documentation: http://pandas.pydata.org/pandas-docs/stable/indexing.html#indexing-view-versus-copy\n"
     ]
    }
   ],
   "source": [
    "# annual operating costs\n",
    "driver_trips['operating_cost_drivers'] = driver_trips['travcost']*annual_factor\n",
    "driver_trips['travdist'] = driver_trips['travdist'].fillna(0)\n",
    "driver_trips['depreciation'] = driver_trips['travdist']*depreciation_per_mile*annual_factor\n",
    "\n",
    "#calculating parking costs based on activity duration\n",
    "driver_trips = pd.merge(driver_trips, parcels[['PARCELID','PPRICHRP']], left_on='dpcl', right_on = 'PARCELID')\n",
    "# if a trip spans midnight you need to adjust across the day - like this:\n",
    "driver_trips['duration'] = np.where(driver_trips['endacttm']<driver_trips['arrtm'], day_minutes-driver_trips['arrtm'] +driver_trips['endacttm'], driver_trips['endacttm']-driver_trips['arrtm'])/minutes_hr\n",
    "driver_trips['parking_cost'] = (driver_trips['duration']*driver_trips['PPRICHRP']*annual_factor)/cents_dollar\n",
    "\n",
    "driver_trips_hh = driver_trips.groupby('hhno').sum()[['operating_cost_drivers','depreciation', 'parking_cost']].reset_index()\n",
    "hh = pd.merge(hh, driver_trips_hh, on = 'hhno')"
   ]
  },
  {
   "cell_type": "code",
   "execution_count": 52,
   "metadata": {
    "collapsed": false
   },
   "outputs": [],
   "source": [
    "# fixed costs as function of number of vehicles owned\n",
    "hh['veh_insurance'] = hh['hhvehs']*insurance\n",
    "hh['veh_taxes'] = hh['hhvehs']*taxes\n",
    "hh['veh_finance'] = hh['hhvehs']*finance\n",
    "\n",
    "hh['annual_auto_costs'] = hh['operating_cost_drivers']+hh['depreciation']+hh['veh_insurance']+hh['veh_taxes']+hh['veh_finance']+hh['parking_cost']\n",
    "hh['annual_auto_costs']=hh['annual_auto_costs'].fillna(0)\n",
    "# Need to add per mile depreciation costs"
   ]
  },
  {
   "cell_type": "code",
   "execution_count": 53,
   "metadata": {
    "collapsed": true
   },
   "outputs": [],
   "source": [
    "# Calculate transit cost\n",
    "transit_trips = df[df['mode'] == 6]\n",
    "\n",
    "hh_travdist_transit_cost = transit_trips.groupby('hhno').sum()[['travcost']]\n",
    "hh_travdist_transit_cost['transit_cost'] = hh_travdist_transit_cost['travcost']\n",
    "hh_travdist_transit_cost = hh_travdist_transit_cost.reset_index()\n",
    "hh_travdist_transit_cost['annual_transit_cost'] = hh_travdist_transit_cost['transit_cost']*annual_factor"
   ]
  },
  {
   "cell_type": "code",
   "execution_count": 54,
   "metadata": {
    "collapsed": true
   },
   "outputs": [],
   "source": [
    "hh = pd.merge(hh, hh_travdist_transit_cost[['hhno','annual_transit_cost']], on='hhno', how='left')\n",
    "hh['annual_transit_cost'] = hh['annual_transit_cost'].fillna(0)"
   ]
  },
  {
   "cell_type": "code",
   "execution_count": 55,
   "metadata": {
    "collapsed": true
   },
   "outputs": [],
   "source": [
    "hh['total_cost']= hh['annual_transit_cost']+hh['annual_auto_costs']\n",
    "hh = hh.loc[hh['hhincome']!=0]\n",
    "hh['percent_transport_cost'] = hh['total_cost']/hh['hhincome']\n",
    "hh['percent_transport_cost'] =hh['percent_transport_cost'].fillna(0)"
   ]
  },
  {
   "cell_type": "code",
   "execution_count": 59,
   "metadata": {
    "collapsed": false
   },
   "outputs": [
    {
     "name": "stdout",
     "output_type": "stream",
     "text": [
      "11466.6519134\n",
      "434.854080017\n",
      "2466.04274411\n",
      "1386.39227922\n",
      "2586.48255642\n",
      "3139.09778208\n",
      "75.4623453191\n",
      "0.138131255974\n"
     ]
    }
   ],
   "source": [
    "print hh['total_cost'].mean()\n",
    "print hh['parking_cost'].mean()\n",
    "print hh['veh_insurance'].mean()\n",
    "print hh['veh_taxes'].mean()\n",
    "print hh['operating_cost_drivers'].mean()\n",
    "print hh['depreciation'].mean()\n",
    "print hh['annual_transit_cost'].mean()\n",
    "print hh['percent_transport_cost'].median()"
   ]
  },
  {
   "cell_type": "code",
   "execution_count": null,
   "metadata": {
    "collapsed": true
   },
   "outputs": [],
   "source": []
  }
 ],
 "metadata": {
  "anaconda-cloud": {},
  "kernelspec": {
   "display_name": "Python [default]",
   "language": "python",
   "name": "python2"
  },
  "language_info": {
   "codemirror_mode": {
    "name": "ipython",
    "version": 2
   },
   "file_extension": ".py",
   "mimetype": "text/x-python",
   "name": "python",
   "nbconvert_exporter": "python",
   "pygments_lexer": "ipython2",
   "version": "2.7.12"
  }
 },
 "nbformat": 4,
 "nbformat_minor": 2
}
