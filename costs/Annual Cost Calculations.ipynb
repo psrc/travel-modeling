{
 "cells": [
  {
   "cell_type": "code",
   "execution_count": 1,
   "metadata": {
    "collapsed": false
   },
   "outputs": [],
   "source": [
    "import pandas as pd\n",
    "import numpy as np\n",
    "%matplotlib inline "
   ]
  },
  {
   "cell_type": "code",
   "execution_count": 2,
   "metadata": {
    "collapsed": false
   },
   "outputs": [],
   "source": [
    "# 2014 \n",
    "df = pd.read_csv(r'I:\\T2040\\soundcast_2014\\outputs\\daysim\\_trip.tsv', sep='\\t')\n",
    "hh = pd.read_csv(r'I:\\T2040\\soundcast_2014\\outputs\\daysim\\_household.tsv', sep='\\t')\n",
    "parcels = pd.read_csv(r'I:\\T2040\\soundcast_2014\\inputs\\accessibility\\parcels_urbansim.txt', sep = ' ')\n",
    "\n",
    "rgc_taz = pd.read_csv(r'I:\\T2040\\soundcast_2014\\scripts\\summarize\\inputs\\rgc_taz.csv')\n",
    "equity_taz = pd.read_csv(r'I:\\T2040\\soundcast_2014\\scripts\\summarize\\inputs\\special_needs_taz.csv')\n",
    "\n",
    "housing_cost_pcl= pd.read_csv(r'R:\\SoundCastDocuments\\metrics\\housing_transport_costs\\parcel_housing_costs_2014_lodes.csv')"
   ]
  },
  {
   "cell_type": "code",
   "execution_count": 3,
   "metadata": {
    "collapsed": true
   },
   "outputs": [],
   "source": [
    "# AAA Calculations availavble for small, medium, large Sedans (and average of these), SUV, Minivan\n",
    "\n",
    "# Analysis of survey could be used to allocate vehicle type distributions?\n",
    "\n",
    "# http://publicaffairsresources.aaa.biz/wp-content/uploads/2016/03/2016-YDC-Brochure.pdf\n",
    "# results are averages for sedans\n",
    "\n",
    "# Annualalize costs as 262\n",
    "annual_factor = 262\n",
    "\n",
    "# Costs by miles\n",
    "# Operating costs total (gas + maintenance + tires) using model estimates for this in the travcost field\n",
    "depreciation_per_mile = 3759.0/15000    # depreciation by mile\n",
    "\n",
    "# Annual costs\n",
    "insurance = 1222    #(full-coverage insurance, license, registration, taxes, depreciation @ 15,000 miles per year), finance charge\n",
    "taxes = 687    # license, registration, taxes\n",
    "finance = 683    # load financing\n",
    "\n",
    "annual_fixed_costs = insurance+taxes+finance"
   ]
  },
  {
   "cell_type": "code",
   "execution_count": 4,
   "metadata": {
    "collapsed": true
   },
   "outputs": [],
   "source": [
    "# to calculate activity durations for parking cost:\n",
    "day_minutes = 1440\n",
    "minutes_hr = 60.0\n",
    "cents_dollar = 100"
   ]
  },
  {
   "cell_type": "code",
   "execution_count": 5,
   "metadata": {
    "collapsed": false
   },
   "outputs": [
    {
     "name": "stderr",
     "output_type": "stream",
     "text": [
      "C:\\Program Files\\Anaconda2\\lib\\site-packages\\ipykernel\\__main__.py:20: SettingWithCopyWarning: \n",
      "A value is trying to be set on a copy of a slice from a DataFrame.\n",
      "Try using .loc[row_indexer,col_indexer] = value instead\n",
      "\n",
      "See the caveats in the documentation: http://pandas.pydata.org/pandas-docs/stable/indexing.html#indexing-view-versus-copy\n",
      "C:\\Program Files\\Anaconda2\\lib\\site-packages\\ipykernel\\__main__.py:21: SettingWithCopyWarning: \n",
      "A value is trying to be set on a copy of a slice from a DataFrame.\n",
      "Try using .loc[row_indexer,col_indexer] = value instead\n",
      "\n",
      "See the caveats in the documentation: http://pandas.pydata.org/pandas-docs/stable/indexing.html#indexing-view-versus-copy\n",
      "C:\\Program Files\\Anaconda2\\lib\\site-packages\\ipykernel\\__main__.py:22: SettingWithCopyWarning: \n",
      "A value is trying to be set on a copy of a slice from a DataFrame.\n",
      "Try using .loc[row_indexer,col_indexer] = value instead\n",
      "\n",
      "See the caveats in the documentation: http://pandas.pydata.org/pandas-docs/stable/indexing.html#indexing-view-versus-copy\n"
     ]
    },
    {
     "name": "stdout",
     "output_type": "stream",
     "text": [
      "11030.5148324\n",
      "2473.99768732\n",
      "1390.86449361\n",
      "2577.46964864\n",
      "3129.28900109\n",
      "76.1277002655\n",
      "442.390041972\n",
      "0.175471651091\n"
     ]
    }
   ],
   "source": [
    "# get total travel cost (based on vmt) for household records\n",
    "hh_mile_costs = df.groupby('hhno').sum()[['travcost']]\n",
    "hh_mile_costs = hh_mile_costs.reset_index()\n",
    "\n",
    "hh = pd.merge(hh, hh_mile_costs, on='hhno', how='left')\n",
    "\n",
    "# Some households have 0 travel cost\n",
    "hh['travcost'] = hh['travcost'].fillna(0)\n",
    "\n",
    "# Total vehicle miles traveled per household to calculate mile-based costs\n",
    "driver_trips = df[df['dorp'] == 1]\n",
    "\n",
    "# Get total travel distance \n",
    "hh_travdist = df.groupby('hhno').sum()[['travdist']]\n",
    "hh_travdist = hh_travdist.reset_index()\n",
    "\n",
    "hh = pd.merge(hh, hh_travdist, on='hhno', how='left')\n",
    "\n",
    "# annual operating costs\n",
    "driver_trips['operating_cost_drivers'] = driver_trips['travcost']*annual_factor\n",
    "driver_trips['travdist'] = driver_trips['travdist'].fillna(0)\n",
    "driver_trips['depreciation'] = driver_trips['travdist']*depreciation_per_mile*annual_factor\n",
    "\n",
    "#calculating parking costs based on activity duration\n",
    "# the results look weird - add in parking cost later\n",
    "driver_trips = pd.merge(driver_trips, parcels[['PARCELID','PPRICHRP']], left_on='dpcl', right_on = 'PARCELID')\n",
    "# if a trip spans midnight you need to adjust across the day - like this:\n",
    "driver_trips['duration'] = np.where(driver_trips['endacttm']<driver_trips['arrtm'], day_minutes-driver_trips['arrtm'] +driver_trips['endacttm'], driver_trips['endacttm']-driver_trips['arrtm'])/minutes_hr\n",
    "driver_trips['parking_cost'] = (driver_trips['duration']*driver_trips['PPRICHRP']*annual_factor)/cents_dollar\n",
    "\n",
    "\n",
    "\n",
    "driver_trips_hh = driver_trips.groupby('hhno').sum()[['operating_cost_drivers','depreciation','parking_cost']].reset_index()\n",
    "hh = pd.merge(hh, driver_trips_hh, on = 'hhno')\n",
    "\n",
    "# fixed costs as function of number of vehicles owned\n",
    "hh['veh_insurance'] = hh['hhvehs']*insurance\n",
    "hh['veh_taxes'] = hh['hhvehs']*taxes\n",
    "hh['veh_finance'] = hh['hhvehs']*finance\n",
    "\n",
    "hh['annual_auto_costs'] = hh['operating_cost_drivers']+hh['depreciation']+hh['veh_insurance']+hh['veh_taxes']+hh['veh_finance']\n",
    "hh['annual_auto_costs']=hh['annual_auto_costs'].fillna(0)\n",
    "# Need to add per mile depreciation costs\n",
    "\n",
    "# Calculate transit cost\n",
    "transit_trips = df[df['mode'] == 6]\n",
    "\n",
    "hh_travdist_transit_cost = transit_trips.groupby('hhno').sum()[['travcost']]\n",
    "hh_travdist_transit_cost['transit_cost'] = hh_travdist_transit_cost['travcost']\n",
    "hh_travdist_transit_cost = hh_travdist_transit_cost.reset_index()\n",
    "hh_travdist_transit_cost['annual_transit_cost'] = hh_travdist_transit_cost['transit_cost']*annual_factor\n",
    "\n",
    "hh = pd.merge(hh, hh_travdist_transit_cost[['hhno','annual_transit_cost']], on='hhno', how='left')\n",
    "hh['annual_transit_cost'] = hh['annual_transit_cost'].fillna(0)\n",
    "\n",
    "hh['total_cost']= hh['annual_transit_cost']+hh['annual_auto_costs']\n",
    "hh = hh.loc[hh['hhincome']>hh['total_cost']]\n",
    "hh['percent_transport_cost'] = hh['total_cost']/hh['hhincome']\n",
    "hh['percent_transport_cost'] =hh['percent_transport_cost'].fillna(0)\n",
    "\n",
    "print hh['total_cost'].mean()\n",
    "print hh['veh_insurance'].mean()\n",
    "print hh['veh_taxes'].mean()\n",
    "print hh['operating_cost_drivers'].mean()\n",
    "print hh['depreciation'].mean()\n",
    "print hh['annual_transit_cost'].mean()\n",
    "print hh['parking_cost'].mean()\n",
    "print hh['percent_transport_cost'].mean()"
   ]
  },
  {
   "cell_type": "code",
   "execution_count": 6,
   "metadata": {
    "collapsed": true
   },
   "outputs": [],
   "source": [
    "hh_cost_taz = hh.groupby('hhtaz').mean()\n",
    "hh_cost_taz.to_csv(r'R:\\SoundCastDocuments\\metrics\\housing_transport_costs\\hh_costs_taz.csv')"
   ]
  },
  {
   "cell_type": "code",
   "execution_count": 7,
   "metadata": {
    "collapsed": false
   },
   "outputs": [],
   "source": [
    "# get costs by center\n",
    "hh_cost_rgc = pd.merge(hh, rgc_taz, left_on= 'hhtaz', right_on = 'taz', how= 'left')\n",
    "hh_cost_rgc=hh_cost_rgc.fillna('All Not Center')\n",
    "hh_cost_rgc = pd.merge(hh_cost_rgc, housing_cost_pcl, left_on = 'hhparcel', right_on='parcelid')\n",
    "hh_cost_rgc = hh_cost_rgc.groupby('geog_name').mean()\n",
    "hh_cost_rgc['year'] = 'Now'\n",
    "\n",
    "#hh_cost_rgc.to_csv(r'R:\\SoundCastDocuments\\metrics\\housing_transport_costs\\hh_costs_taz.csv'\n",
    "\n",
    "hh_cost_equity = pd.merge(hh, equity_taz, left_on= 'hhtaz', right_on = 'TAZ', how= 'left')\n",
    "hh_cost_equity=hh_cost_equity.fillna('Not Majority Minority')\n",
    "hh_cost_equity = hh_cost_equity.groupby('Minority').mean()\n",
    "hh_cost_equity['year'] = 'Now'\n"
   ]
  },
  {
   "cell_type": "markdown",
   "metadata": {},
   "source": [
    "## Scenario comparisons"
   ]
  },
  {
   "cell_type": "code",
   "execution_count": 8,
   "metadata": {
    "collapsed": true
   },
   "outputs": [],
   "source": [
    "\n",
    "df_compare = pd.read_csv(r'I:\\T2040\\soundcast_2040_constrained\\outputs\\daysim\\_trip.tsv', sep='\\t')\n",
    "hh_compare = pd.read_csv(r'I:\\T2040\\soundcast_2040_constrained\\outputs\\daysim\\_household.tsv', sep='\\t')\n",
    "parcels_compare = pd.read_csv(r'I:\\T2040\\soundcast_2040_constrained\\inputs\\accessibility\\parcels_urbansim.txt', sep = ' ')\n",
    "\n"
   ]
  },
  {
   "cell_type": "code",
   "execution_count": 9,
   "metadata": {
    "collapsed": false
   },
   "outputs": [
    {
     "name": "stderr",
     "output_type": "stream",
     "text": [
      "C:\\Program Files\\Anaconda2\\lib\\site-packages\\ipykernel\\__main__.py:21: SettingWithCopyWarning: \n",
      "A value is trying to be set on a copy of a slice from a DataFrame.\n",
      "Try using .loc[row_indexer,col_indexer] = value instead\n",
      "\n",
      "See the caveats in the documentation: http://pandas.pydata.org/pandas-docs/stable/indexing.html#indexing-view-versus-copy\n",
      "C:\\Program Files\\Anaconda2\\lib\\site-packages\\ipykernel\\__main__.py:22: SettingWithCopyWarning: \n",
      "A value is trying to be set on a copy of a slice from a DataFrame.\n",
      "Try using .loc[row_indexer,col_indexer] = value instead\n",
      "\n",
      "See the caveats in the documentation: http://pandas.pydata.org/pandas-docs/stable/indexing.html#indexing-view-versus-copy\n",
      "C:\\Program Files\\Anaconda2\\lib\\site-packages\\ipykernel\\__main__.py:23: SettingWithCopyWarning: \n",
      "A value is trying to be set on a copy of a slice from a DataFrame.\n",
      "Try using .loc[row_indexer,col_indexer] = value instead\n",
      "\n",
      "See the caveats in the documentation: http://pandas.pydata.org/pandas-docs/stable/indexing.html#indexing-view-versus-copy\n"
     ]
    },
    {
     "name": "stdout",
     "output_type": "stream",
     "text": [
      "11179.6526341\n",
      "2406.57972401\n",
      "1352.96257806\n",
      "3362.26590762\n",
      "2654.4620296\n",
      "58.2973281076\n",
      "3885.76582244\n",
      "0.179280046403\n"
     ]
    }
   ],
   "source": [
    "\n",
    "# get total travel cost (based on vmt) for household records\n",
    "hh_compare_mile_costs = df_compare.groupby('hhno').sum()[['travcost']]\n",
    "hh_compare_mile_costs = hh_compare_mile_costs.reset_index()\n",
    "\n",
    "hh_compare = pd.merge(hh_compare, hh_compare_mile_costs, on='hhno', how='left')\n",
    "\n",
    "# Some households have 0 travel cost\n",
    "hh_compare['travcost'] = hh_compare['travcost'].fillna(0)\n",
    "\n",
    "# Total vehicle miles traveled per household to calculate mile-based costs\n",
    "driver_trips = df_compare[df_compare['dorp'] == 1]\n",
    "\n",
    "# Get total travel distance \n",
    "hh_compare_travdist = df_compare.groupby('hhno').sum()[['travdist']]\n",
    "hh_compare_travdist = hh_compare_travdist.reset_index()\n",
    "\n",
    "hh_compare = pd.merge(hh_compare, hh_compare_travdist, on='hhno', how='left')\n",
    "\n",
    "# annual operating costs\n",
    "driver_trips['operating_cost_drivers'] = driver_trips['travcost']*annual_factor\n",
    "driver_trips['travdist'] = driver_trips['travdist'].fillna(0)\n",
    "driver_trips['depreciation'] = driver_trips['travdist']*depreciation_per_mile*annual_factor\n",
    "\n",
    "#calculating parking costs based on activity duration\n",
    "# the results look weird - add in parking cost later\n",
    "driver_trips = pd.merge(driver_trips, parcels_compare[['PARCELID','PPRICHRP']], left_on='dpcl', right_on = 'PARCELID')\n",
    "# if a trip spans midnight you need to adjust across the day - like this:\n",
    "driver_trips['duration'] = np.where(driver_trips['endacttm']<driver_trips['arrtm'], day_minutes-driver_trips['arrtm'] +driver_trips['endacttm'], driver_trips['endacttm']-driver_trips['arrtm'])/minutes_hr\n",
    "driver_trips['parking_cost'] = (driver_trips['duration']*driver_trips['PPRICHRP']*annual_factor)/cents_dollar\n",
    "\n",
    "\n",
    "\n",
    "driver_trips_hh_compare = driver_trips.groupby('hhno').sum()[['operating_cost_drivers','depreciation','parking_cost']].reset_index()\n",
    "hh_compare = pd.merge(hh_compare, driver_trips_hh_compare, on = 'hhno')\n",
    "\n",
    "# fixed costs as function of number of vehicles owned\n",
    "hh_compare['veh_insurance'] = hh_compare['hhvehs']*insurance\n",
    "hh_compare['veh_taxes'] = hh_compare['hhvehs']*taxes\n",
    "hh_compare['veh_finance'] = hh_compare['hhvehs']*finance\n",
    "\n",
    "hh_compare['annual_auto_costs'] = hh_compare['operating_cost_drivers']+hh_compare['depreciation']+hh_compare['veh_insurance']+hh_compare['veh_taxes']+hh_compare['veh_finance']\n",
    "hh_compare['annual_auto_costs']=hh_compare['annual_auto_costs'].fillna(0)\n",
    "# Need to add per mile depreciation costs\n",
    "\n",
    "# Calculate transit cost\n",
    "transit_trips = df[df['mode'] == 6]\n",
    "\n",
    "hh_compare_travdist_transit_cost = transit_trips.groupby('hhno').sum()[['travcost']]\n",
    "hh_compare_travdist_transit_cost['transit_cost'] = hh_compare_travdist_transit_cost['travcost']\n",
    "hh_compare_travdist_transit_cost = hh_compare_travdist_transit_cost.reset_index()\n",
    "hh_compare_travdist_transit_cost['annual_transit_cost'] = hh_compare_travdist_transit_cost['transit_cost']*annual_factor\n",
    "\n",
    "hh_compare = pd.merge(hh_compare, hh_compare_travdist_transit_cost[['hhno','annual_transit_cost']], on='hhno', how='left')\n",
    "hh_compare['annual_transit_cost'] = hh_compare['annual_transit_cost'].fillna(0)\n",
    "\n",
    "hh_compare['total_cost']= hh_compare['annual_transit_cost']+hh_compare['annual_auto_costs']\n",
    "hh_compare = hh_compare.loc[hh_compare['hhincome']>hh_compare['total_cost']]\n",
    "hh_compare['percent_transport_cost'] = hh_compare['total_cost']/hh_compare['hhincome']\n",
    "hh_compare['percent_transport_cost'] =hh_compare['percent_transport_cost'].fillna(0)\n",
    "\n",
    "print hh_compare['total_cost'].mean()\n",
    "print hh_compare['veh_insurance'].mean()\n",
    "print hh_compare['veh_taxes'].mean()\n",
    "print hh_compare['operating_cost_drivers'].mean()\n",
    "print hh_compare['depreciation'].mean()\n",
    "print hh_compare['annual_transit_cost'].mean()\n",
    "print hh_compare['parking_cost'].mean()\n",
    "print hh_compare['percent_transport_cost'].mean()"
   ]
  },
  {
   "cell_type": "code",
   "execution_count": 11,
   "metadata": {
    "collapsed": false
   },
   "outputs": [],
   "source": [
    "hh_cost_compare_rgc = pd.merge(hh_compare, rgc_taz, left_on= 'hhtaz', right_on = 'taz', how= 'left')\n",
    "hh_cost_compare_rgc=hh_cost_compare_rgc.fillna('All Not Center')\n",
    "hh_cost_compare_rgc = pd.merge(hh_cost_compare_rgc, housing_cost_pcl, left_on = 'hhparcel', right_on='parcelid')\n",
    "hh_cost_compare_rgc = hh_cost_compare_rgc.groupby('geog_name').mean()\n",
    "hh_cost_compare_rgc['year'] = 'Plan 2040'"
   ]
  },
  {
   "cell_type": "code",
   "execution_count": 12,
   "metadata": {
    "collapsed": true
   },
   "outputs": [],
   "source": [
    "hh_cost_compare_equity = pd.merge(hh_compare, equity_taz, left_on= 'hhtaz', right_on = 'TAZ', how= 'left')\n",
    "hh_cost_compare_equity=hh_cost_compare_equity.fillna('Not Majority Minority')\n",
    "hh_cost_compare_equity = hh_cost_compare_equity.groupby('Minority').mean()\n",
    "hh_cost_compare_equity['year'] = 'Plan 2040'"
   ]
  },
  {
   "cell_type": "code",
   "execution_count": 14,
   "metadata": {
    "collapsed": false
   },
   "outputs": [],
   "source": [
    "# put the comparisons together\n",
    "hh_cost_rgc = hh_cost_rgc.append(hh_cost_compare_rgc)\n",
    "hh_cost_equity = hh_cost_equity.append(hh_cost_compare_equity)\n",
    "hh_cost_rgc['Annual Housing Costs'] = hh_cost_rgc['h_cost']*12"
   ]
  },
  {
   "cell_type": "code",
   "execution_count": null,
   "metadata": {
    "collapsed": false
   },
   "outputs": [],
   "source": [
    "hh_cost_rgc"
   ]
  },
  {
   "cell_type": "code",
   "execution_count": 15,
   "metadata": {
    "collapsed": false
   },
   "outputs": [],
   "source": [
    "hh_cost_rgc.to_csv(r'R:\\SoundCastDocuments\\metrics\\housing_transport_costs\\transport_costs_rgc.csv')\n",
    "hh_cost_equity.to_csv(r'R:\\SoundCastDocuments\\metrics\\housing_transport_costs\\transport_costs_equity.csv')"
   ]
  },
  {
   "cell_type": "code",
   "execution_count": null,
   "metadata": {
    "collapsed": true
   },
   "outputs": [],
   "source": []
  }
 ],
 "metadata": {
  "anaconda-cloud": {},
  "kernelspec": {
   "display_name": "Python [default]",
   "language": "python",
   "name": "python2"
  },
  "language_info": {
   "codemirror_mode": {
    "name": "ipython",
    "version": 2
   },
   "file_extension": ".py",
   "mimetype": "text/x-python",
   "name": "python",
   "nbconvert_exporter": "python",
   "pygments_lexer": "ipython2",
   "version": "2.7.12"
  }
 },
 "nbformat": 4,
 "nbformat_minor": 2
}
