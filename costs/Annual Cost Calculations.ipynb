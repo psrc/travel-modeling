{
 "cells": [
  {
   "cell_type": "code",
   "execution_count": 1,
   "metadata": {
    "collapsed": true
   },
   "outputs": [],
   "source": [
    "import pandas as pd\n",
    "import numpy as np\n",
    "from pyproj import Proj, transform\n",
    "%matplotlib inline "
   ]
  },
  {
   "cell_type": "code",
   "execution_count": 36,
   "metadata": {
    "collapsed": true
   },
   "outputs": [],
   "source": [
    "# 2014 \n",
    "df = pd.read_csv(r'L:\\T2040\\soundcast_2014\\outputs\\daysim\\_trip.tsv', sep='\\t')\n",
    "hh = pd.read_csv(r'L:\\T2040\\soundcast_2014\\outputs\\daysim\\_household.tsv', sep='\\t')\n",
    "parcels = pd.read_csv(r'L:\\T2040\\soundcast_2014\\inputs\\accessibility\\parcels_urbansim.txt', sep = ' ')\n",
    "zone_tract = pd.read_csv(r'R:\\SoundCastDocuments\\metrics\\housing_transport_costs\\tract_zone.csv')\n",
    "housing_cost_tract = pd.read_excel(r'R:\\SoundCastDocuments\\metrics\\housing_transport_costs\\MedianHousingCost_Tract.xlsx')\n",
    "tractids = pd.read_csv(r'R:\\SoundCastDocuments\\metrics\\housing_transport_costs\\tract2010_nowater.csv')"
   ]
  },
  {
   "cell_type": "code",
   "execution_count": 37,
   "metadata": {
    "collapsed": true
   },
   "outputs": [],
   "source": [
    "# AAA Calculations availavble for small, medium, large Sedans (and average of these), SUV, Minivan\n",
    "\n",
    "# Analysis of survey could be used to allocate vehicle type distributions?\n",
    "\n",
    "# http://publicaffairsresources.aaa.biz/wp-content/uploads/2016/03/2016-YDC-Brochure.pdf\n",
    "# results are averages for sedans\n",
    "\n",
    "# Annualalize costs as 262\n",
    "annual_factor = 262\n",
    "\n",
    "# Costs by miles\n",
    "# Operating costs total (gas + maintenance + tires) using model estimates for this in the travcost field\n",
    "depreciation_per_mile = 3759.0/15000    # depreciation by mile\n",
    "\n",
    "# Annual costs\n",
    "insurance = 1222    #(full-coverage insurance, license, registration, taxes, depreciation @ 15,000 miles per year), finance charge\n",
    "taxes = 687    # license, registration, taxes\n",
    "finance = 683    # load financing\n",
    "\n",
    "annual_fixed_costs = insurance+taxes+finance"
   ]
  },
  {
   "cell_type": "code",
   "execution_count": 38,
   "metadata": {
    "collapsed": true
   },
   "outputs": [],
   "source": [
    "# to calculate activity durations for parking cost:\n",
    "day_minutes = 1440\n",
    "minutes_hr = 60.0\n",
    "cents_dollar = 100"
   ]
  },
  {
   "cell_type": "code",
   "execution_count": 39,
   "metadata": {
    "collapsed": true
   },
   "outputs": [],
   "source": [
    "# get total travel cost (based on vmt) for household records\n",
    "hh_mile_costs = df.groupby('hhno').sum()[['travcost']]\n",
    "hh_mile_costs = hh_mile_costs.reset_index()\n",
    "\n",
    "hh = pd.merge(hh, hh_mile_costs, on='hhno', how='left')\n",
    "\n",
    "# Some households have 0 travel cost\n",
    "hh['travcost'] = hh['travcost'].fillna(0)"
   ]
  },
  {
   "cell_type": "code",
   "execution_count": 40,
   "metadata": {
    "collapsed": true
   },
   "outputs": [],
   "source": [
    "# Total vehicle miles traveled per household to calculate mile-based costs\n",
    "driver_trips = df[df['dorp'] == 1]"
   ]
  },
  {
   "cell_type": "code",
   "execution_count": 41,
   "metadata": {
    "collapsed": true
   },
   "outputs": [],
   "source": [
    "# Get total travel distance \n",
    "hh_travdist = df.groupby('hhno').sum()[['travdist']]\n",
    "hh_travdist = hh_travdist.reset_index()\n",
    "\n",
    "hh = pd.merge(hh, hh_travdist, on='hhno', how='left')"
   ]
  },
  {
   "cell_type": "code",
   "execution_count": 42,
   "metadata": {
    "collapsed": true
   },
   "outputs": [],
   "source": [
    "# annual operating costs\n",
    "driver_trips['operating_cost_drivers'] = driver_trips['travcost']*annual_factor\n",
    "driver_trips['travdist'] = driver_trips['travdist'].fillna(0)\n",
    "driver_trips['depreciation'] = driver_trips['travdist']*depreciation_per_mile*annual_factor\n",
    "\n",
    "#calculating parking costs based on activity duration\n",
    "# the results look weird - add in parking cost later\n",
    "#driver_trips = pd.merge(driver_trips, parcels[['PARCELID','PPRICHRP']], left_on='dpcl', right_on = 'PARCELID')\n",
    "# if a trip spans midnight you need to adjust across the day - like this:\n",
    "#driver_trips['duration'] = np.where(driver_trips['endacttm']<driver_trips['arrtm'], day_minutes-driver_trips['arrtm'] +driver_trips['endacttm'], driver_trips['endacttm']-driver_trips['arrtm'])/minutes_hr\n",
    "#driver_trips['parking_cost'] = (driver_trips['duration']*driver_trips['PPRICHRP']*annual_factor)/cents_dollar\n",
    "\n",
    "\n",
    "\n",
    "driver_trips_hh = driver_trips.groupby('hhno').sum()[['operating_cost_drivers','depreciation']].reset_index()\n",
    "hh = pd.merge(hh, driver_trips_hh, on = 'hhno')"
   ]
  },
  {
   "cell_type": "code",
   "execution_count": 43,
   "metadata": {
    "collapsed": true
   },
   "outputs": [],
   "source": [
    "# fixed costs as function of number of vehicles owned\n",
    "hh['veh_insurance'] = hh['hhvehs']*insurance\n",
    "hh['veh_taxes'] = hh['hhvehs']*taxes\n",
    "hh['veh_finance'] = hh['hhvehs']*finance\n",
    "\n",
    "hh['annual_auto_costs'] = hh['operating_cost_drivers']+hh['depreciation']+hh['veh_insurance']+hh['veh_taxes']+hh['veh_finance']\n",
    "hh['annual_auto_costs']=hh['annual_auto_costs'].fillna(0)\n",
    "# Need to add per mile depreciation costs"
   ]
  },
  {
   "cell_type": "code",
   "execution_count": 44,
   "metadata": {
    "collapsed": true
   },
   "outputs": [],
   "source": [
    "# Calculate transit cost\n",
    "transit_trips = df[df['mode'] == 6]\n",
    "\n",
    "hh_travdist_transit_cost = transit_trips.groupby('hhno').sum()[['travcost']]\n",
    "hh_travdist_transit_cost['transit_cost'] = hh_travdist_transit_cost['travcost']\n",
    "hh_travdist_transit_cost = hh_travdist_transit_cost.reset_index()\n",
    "hh_travdist_transit_cost['annual_transit_cost'] = hh_travdist_transit_cost['transit_cost']*annual_factor"
   ]
  },
  {
   "cell_type": "code",
   "execution_count": 45,
   "metadata": {
    "collapsed": true
   },
   "outputs": [],
   "source": [
    "hh = pd.merge(hh, hh_travdist_transit_cost[['hhno','annual_transit_cost']], on='hhno', how='left')\n",
    "hh['annual_transit_cost'] = hh['annual_transit_cost'].fillna(0)"
   ]
  },
  {
   "cell_type": "code",
   "execution_count": 46,
   "metadata": {
    "collapsed": true
   },
   "outputs": [],
   "source": [
    "hh['total_cost']= hh['annual_transit_cost']+hh['annual_auto_costs']\n",
    "hh = hh.loc[hh['hhincome']!=0]\n",
    "hh['percent_transport_cost'] = hh['total_cost']/hh['hhincome']\n",
    "hh['percent_transport_cost'] =hh['percent_transport_cost'].fillna(0)"
   ]
  },
  {
   "cell_type": "code",
   "execution_count": 47,
   "metadata": {},
   "outputs": [
    {
     "name": "stdout",
     "output_type": "stream",
     "text": [
      "11031.7978334\n",
      "2466.04274411\n",
      "1386.39227922\n",
      "2586.48255642\n",
      "3139.09778208\n",
      "75.4623453191\n",
      "0.133932544278\n"
     ]
    }
   ],
   "source": [
    "print hh['total_cost'].mean()\n",
    "print hh['veh_insurance'].mean()\n",
    "print hh['veh_taxes'].mean()\n",
    "print hh['operating_cost_drivers'].mean()\n",
    "print hh['depreciation'].mean()\n",
    "print hh['annual_transit_cost'].mean()\n",
    "print hh['percent_transport_cost'].median()"
   ]
  },
  {
   "cell_type": "code",
   "execution_count": 48,
   "metadata": {
    "collapsed": true
   },
   "outputs": [],
   "source": [
    "# hh_costs = hh[['hhtaz','total_cost', 'veh_insurance', 'veh_taxes', 'operating_cost_drivers', 'depreciation', 'annual_transit_cost', 'percent_transport_cost']]\n",
    "hh_costs = hh"
   ]
  },
  {
   "cell_type": "code",
   "execution_count": 49,
   "metadata": {},
   "outputs": [
    {
     "data": {
      "text/html": [
       "<div>\n",
       "<style>\n",
       "    .dataframe thead tr:only-child th {\n",
       "        text-align: right;\n",
       "    }\n",
       "\n",
       "    .dataframe thead th {\n",
       "        text-align: left;\n",
       "    }\n",
       "\n",
       "    .dataframe tbody tr th {\n",
       "        vertical-align: top;\n",
       "    }\n",
       "</style>\n",
       "<table border=\"1\" class=\"dataframe\">\n",
       "  <thead>\n",
       "    <tr style=\"text-align: right;\">\n",
       "      <th></th>\n",
       "      <th>Unnamed: 0</th>\n",
       "      <th>taz_p</th>\n",
       "      <th>GEOID</th>\n",
       "    </tr>\n",
       "  </thead>\n",
       "  <tbody>\n",
       "    <tr>\n",
       "      <th>0</th>\n",
       "      <td>0</td>\n",
       "      <td>1</td>\n",
       "      <td>53033000500</td>\n",
       "    </tr>\n",
       "    <tr>\n",
       "      <th>1</th>\n",
       "      <td>1</td>\n",
       "      <td>2</td>\n",
       "      <td>53033000402</td>\n",
       "    </tr>\n",
       "    <tr>\n",
       "      <th>2</th>\n",
       "      <td>2</td>\n",
       "      <td>3</td>\n",
       "      <td>53033000401</td>\n",
       "    </tr>\n",
       "    <tr>\n",
       "      <th>3</th>\n",
       "      <td>3</td>\n",
       "      <td>4</td>\n",
       "      <td>53033000401</td>\n",
       "    </tr>\n",
       "    <tr>\n",
       "      <th>4</th>\n",
       "      <td>4</td>\n",
       "      <td>5</td>\n",
       "      <td>53033000300</td>\n",
       "    </tr>\n",
       "  </tbody>\n",
       "</table>\n",
       "</div>"
      ],
      "text/plain": [
       "   Unnamed: 0  taz_p        GEOID\n",
       "0           0      1  53033000500\n",
       "1           1      2  53033000402\n",
       "2           2      3  53033000401\n",
       "3           3      4  53033000401\n",
       "4           4      5  53033000300"
      ]
     },
     "execution_count": 49,
     "metadata": {},
     "output_type": "execute_result"
    }
   ],
   "source": [
    "zone_tract.head()"
   ]
  },
  {
   "cell_type": "code",
   "execution_count": 50,
   "metadata": {},
   "outputs": [
    {
     "data": {
      "text/html": [
       "<div>\n",
       "<style>\n",
       "    .dataframe thead tr:only-child th {\n",
       "        text-align: right;\n",
       "    }\n",
       "\n",
       "    .dataframe thead th {\n",
       "        text-align: left;\n",
       "    }\n",
       "\n",
       "    .dataframe tbody tr th {\n",
       "        vertical-align: top;\n",
       "    }\n",
       "</style>\n",
       "<table border=\"1\" class=\"dataframe\">\n",
       "  <thead>\n",
       "    <tr style=\"text-align: right;\">\n",
       "      <th></th>\n",
       "      <th>STATEFP10</th>\n",
       "      <th>COUNTYFP10</th>\n",
       "      <th>TRACTCE10</th>\n",
       "      <th>GEOID10</th>\n",
       "      <th>NAME10</th>\n",
       "      <th>NAMELSAD10</th>\n",
       "      <th>MTFCC10</th>\n",
       "      <th>FUNCSTAT10</th>\n",
       "      <th>ALAND10</th>\n",
       "      <th>AWATER10</th>\n",
       "      <th>INTPTLAT10</th>\n",
       "      <th>INTPTLON10</th>\n",
       "      <th>NAME_VAL</th>\n",
       "      <th>sqmiles</th>\n",
       "      <th>acres</th>\n",
       "      <th>geoidstr</th>\n",
       "      <th>perc</th>\n",
       "      <th>perc_1</th>\n",
       "    </tr>\n",
       "  </thead>\n",
       "  <tbody>\n",
       "    <tr>\n",
       "      <th>0</th>\n",
       "      <td>53</td>\n",
       "      <td>33</td>\n",
       "      <td>22006</td>\n",
       "      <td>53033022006</td>\n",
       "      <td>220.06</td>\n",
       "      <td>Census Tract 220.06</td>\n",
       "      <td>G5020</td>\n",
       "      <td>S</td>\n",
       "      <td>1408907</td>\n",
       "      <td>0</td>\n",
       "      <td>47.704339</td>\n",
       "      <td>-122.199267</td>\n",
       "      <td>220.0</td>\n",
       "      <td>0.543948</td>\n",
       "      <td>348.126956</td>\n",
       "      <td>5.303302e+10</td>\n",
       "      <td>NaN</td>\n",
       "      <td>NaN</td>\n",
       "    </tr>\n",
       "    <tr>\n",
       "      <th>1</th>\n",
       "      <td>53</td>\n",
       "      <td>33</td>\n",
       "      <td>32320</td>\n",
       "      <td>53033032320</td>\n",
       "      <td>323.20</td>\n",
       "      <td>Census Tract 323.20</td>\n",
       "      <td>G5020</td>\n",
       "      <td>S</td>\n",
       "      <td>9554873</td>\n",
       "      <td>38494</td>\n",
       "      <td>47.756477</td>\n",
       "      <td>-122.124445</td>\n",
       "      <td>323.0</td>\n",
       "      <td>3.703739</td>\n",
       "      <td>2370.392801</td>\n",
       "      <td>5.303303e+10</td>\n",
       "      <td>NaN</td>\n",
       "      <td>NaN</td>\n",
       "    </tr>\n",
       "    <tr>\n",
       "      <th>2</th>\n",
       "      <td>53</td>\n",
       "      <td>33</td>\n",
       "      <td>31703</td>\n",
       "      <td>53033031703</td>\n",
       "      <td>317.03</td>\n",
       "      <td>Census Tract 317.03</td>\n",
       "      <td>G5020</td>\n",
       "      <td>S</td>\n",
       "      <td>7139218</td>\n",
       "      <td>643846</td>\n",
       "      <td>47.371689</td>\n",
       "      <td>-122.148431</td>\n",
       "      <td>317.0</td>\n",
       "      <td>3.005218</td>\n",
       "      <td>1923.339270</td>\n",
       "      <td>5.303303e+10</td>\n",
       "      <td>NaN</td>\n",
       "      <td>NaN</td>\n",
       "    </tr>\n",
       "    <tr>\n",
       "      <th>3</th>\n",
       "      <td>53</td>\n",
       "      <td>33</td>\n",
       "      <td>31206</td>\n",
       "      <td>53033031206</td>\n",
       "      <td>312.06</td>\n",
       "      <td>Census Tract 312.06</td>\n",
       "      <td>G5020</td>\n",
       "      <td>S</td>\n",
       "      <td>3668962</td>\n",
       "      <td>60430</td>\n",
       "      <td>47.313562</td>\n",
       "      <td>-122.183538</td>\n",
       "      <td>312.0</td>\n",
       "      <td>1.440042</td>\n",
       "      <td>921.626793</td>\n",
       "      <td>5.303303e+10</td>\n",
       "      <td>NaN</td>\n",
       "      <td>NaN</td>\n",
       "    </tr>\n",
       "    <tr>\n",
       "      <th>4</th>\n",
       "      <td>53</td>\n",
       "      <td>33</td>\n",
       "      <td>32102</td>\n",
       "      <td>53033032102</td>\n",
       "      <td>321.02</td>\n",
       "      <td>Census Tract 321.02</td>\n",
       "      <td>G5020</td>\n",
       "      <td>S</td>\n",
       "      <td>79040166</td>\n",
       "      <td>84391</td>\n",
       "      <td>47.485151</td>\n",
       "      <td>-121.965784</td>\n",
       "      <td>321.0</td>\n",
       "      <td>30.550272</td>\n",
       "      <td>19552.174321</td>\n",
       "      <td>5.303303e+10</td>\n",
       "      <td>NaN</td>\n",
       "      <td>NaN</td>\n",
       "    </tr>\n",
       "  </tbody>\n",
       "</table>\n",
       "</div>"
      ],
      "text/plain": [
       "   STATEFP10  COUNTYFP10  TRACTCE10      GEOID10  NAME10           NAMELSAD10  \\\n",
       "0         53          33      22006  53033022006  220.06  Census Tract 220.06   \n",
       "1         53          33      32320  53033032320  323.20  Census Tract 323.20   \n",
       "2         53          33      31703  53033031703  317.03  Census Tract 317.03   \n",
       "3         53          33      31206  53033031206  312.06  Census Tract 312.06   \n",
       "4         53          33      32102  53033032102  321.02  Census Tract 321.02   \n",
       "\n",
       "  MTFCC10 FUNCSTAT10   ALAND10  AWATER10  INTPTLAT10  INTPTLON10  NAME_VAL  \\\n",
       "0   G5020          S   1408907         0   47.704339 -122.199267     220.0   \n",
       "1   G5020          S   9554873     38494   47.756477 -122.124445     323.0   \n",
       "2   G5020          S   7139218    643846   47.371689 -122.148431     317.0   \n",
       "3   G5020          S   3668962     60430   47.313562 -122.183538     312.0   \n",
       "4   G5020          S  79040166     84391   47.485151 -121.965784     321.0   \n",
       "\n",
       "     sqmiles         acres      geoidstr  perc  perc_1  \n",
       "0   0.543948    348.126956  5.303302e+10   NaN     NaN  \n",
       "1   3.703739   2370.392801  5.303303e+10   NaN     NaN  \n",
       "2   3.005218   1923.339270  5.303303e+10   NaN     NaN  \n",
       "3   1.440042    921.626793  5.303303e+10   NaN     NaN  \n",
       "4  30.550272  19552.174321  5.303303e+10   NaN     NaN  "
      ]
     },
     "execution_count": 50,
     "metadata": {},
     "output_type": "execute_result"
    }
   ],
   "source": [
    "tractids.head()"
   ]
  },
  {
   "cell_type": "code",
   "execution_count": 51,
   "metadata": {
    "collapsed": true
   },
   "outputs": [],
   "source": [
    "# now join to the housing costs, but first we need to get the housing costs disaggregate to zones\n",
    "zone_tractid = pd.merge(zone_tract,tractids, left_on= 'GEOID', right_on = 'GEOID10')\n",
    "housing_cost_zone = pd.merge(housing_cost_tract, zone_tractid, left_on = 'Namelsad10', right_on = 'NAMELSAD10')"
   ]
  },
  {
   "cell_type": "code",
   "execution_count": 52,
   "metadata": {
    "collapsed": true
   },
   "outputs": [],
   "source": [
    "hh_costs = pd.merge(hh_costs, housing_cost_zone, left_on = 'hhtaz', right_on = 'taz_p')"
   ]
  },
  {
   "cell_type": "code",
   "execution_count": 63,
   "metadata": {},
   "outputs": [],
   "source": [
    "hh_costs.to_csv(r'R:\\SoundCastDocuments\\metrics\\housing_transport_costs\\hh.csv')"
   ]
  },
  {
   "cell_type": "code",
   "execution_count": 53,
   "metadata": {
    "collapsed": true
   },
   "outputs": [],
   "source": [
    "hh_cost_taz = hh_costs.groupby('hhtaz').median()"
   ]
  },
  {
   "cell_type": "code",
   "execution_count": 54,
   "metadata": {
    "collapsed": true
   },
   "outputs": [],
   "source": [
    "hh_cost_taz['annual_median_housing_cost'] = hh_cost_taz['Median Monthly Housing Cost']*12"
   ]
  },
  {
   "cell_type": "code",
   "execution_count": 55,
   "metadata": {
    "collapsed": true
   },
   "outputs": [],
   "source": [
    "hh_cost_taz['housing_transport_cost'] = hh_cost_taz['annual_median_housing_cost']+hh_cost_taz['total_cost']"
   ]
  },
  {
   "cell_type": "code",
   "execution_count": 61,
   "metadata": {},
   "outputs": [],
   "source": [
    "hh_cost_taz.to_csv(r'R:\\SoundCastDocuments\\metrics\\housing_transport_costs\\hh_costs.csv')"
   ]
  },
  {
   "cell_type": "code",
   "execution_count": 62,
   "metadata": {},
   "outputs": [],
   "source": [
    "# hh.groupby('geog_name').mean()[['total_cost', 'veh_insurance', 'veh_taxes', 'operating_cost_drivers', 'depreciation', 'annual_transit_cost', 'percent_transport_cost']]"
   ]
  },
  {
   "cell_type": "code",
   "execution_count": 56,
   "metadata": {},
   "outputs": [],
   "source": []
  },
  {
   "cell_type": "markdown",
   "metadata": {},
   "source": [
    "## Identify households near transit\n"
   ]
  },
  {
   "cell_type": "code",
   "execution_count": 64,
   "metadata": {},
   "outputs": [
    {
     "ename": "ImportError",
     "evalue": "No module named cyaccess",
     "output_type": "error",
     "traceback": [
      "\u001b[1;31m---------------------------------------------------------------------------\u001b[0m",
      "\u001b[1;31mImportError\u001b[0m                               Traceback (most recent call last)",
      "\u001b[1;32m<ipython-input-64-9a585502170b>\u001b[0m in \u001b[0;36m<module>\u001b[1;34m()\u001b[0m\n\u001b[1;32m----> 1\u001b[1;33m \u001b[1;32mimport\u001b[0m \u001b[0mpandana\u001b[0m\u001b[1;33m\u001b[0m\u001b[0m\n\u001b[0m",
      "\u001b[1;32mC:\\udst\\pandana\\pandana\\__init__.py\u001b[0m in \u001b[0;36m<module>\u001b[1;34m()\u001b[0m\n\u001b[1;32m----> 1\u001b[1;33m \u001b[1;32mfrom\u001b[0m \u001b[1;33m.\u001b[0m\u001b[0mnetwork\u001b[0m \u001b[1;32mimport\u001b[0m \u001b[0mNetwork\u001b[0m\u001b[1;33m\u001b[0m\u001b[0m\n\u001b[0m\u001b[0;32m      2\u001b[0m \u001b[1;33m\u001b[0m\u001b[0m\n\u001b[0;32m      3\u001b[0m \u001b[0mversion\u001b[0m \u001b[1;33m=\u001b[0m \u001b[0m__version__\u001b[0m \u001b[1;33m=\u001b[0m \u001b[1;34m'0.4.0'\u001b[0m\u001b[1;33m\u001b[0m\u001b[0m\n",
      "\u001b[1;32mC:\\udst\\pandana\\pandana\\network.py\u001b[0m in \u001b[0;36m<module>\u001b[1;34m()\u001b[0m\n\u001b[0;32m      9\u001b[0m \u001b[1;32mfrom\u001b[0m \u001b[0msklearn\u001b[0m\u001b[1;33m.\u001b[0m\u001b[0mneighbors\u001b[0m \u001b[1;32mimport\u001b[0m \u001b[0mKDTree\u001b[0m\u001b[1;33m\u001b[0m\u001b[0m\n\u001b[0;32m     10\u001b[0m \u001b[1;33m\u001b[0m\u001b[0m\n\u001b[1;32m---> 11\u001b[1;33m \u001b[1;32mfrom\u001b[0m \u001b[1;33m.\u001b[0m\u001b[0mcyaccess\u001b[0m \u001b[1;32mimport\u001b[0m \u001b[0mcyaccess\u001b[0m\u001b[1;33m\u001b[0m\u001b[0m\n\u001b[0m\u001b[0;32m     12\u001b[0m \u001b[1;32mfrom\u001b[0m \u001b[1;33m.\u001b[0m\u001b[0mloaders\u001b[0m \u001b[1;32mimport\u001b[0m \u001b[0mpandash5\u001b[0m \u001b[1;32mas\u001b[0m \u001b[0mph5\u001b[0m\u001b[1;33m\u001b[0m\u001b[0m\n\u001b[0;32m     13\u001b[0m \u001b[1;33m\u001b[0m\u001b[0m\n",
      "\u001b[1;31mImportError\u001b[0m: No module named cyaccess"
     ]
    }
   ],
   "source": [
    "import pandana"
   ]
  },
  {
   "cell_type": "markdown",
   "metadata": {},
   "source": [
    "## Scenario comparisons"
   ]
  },
  {
   "cell_type": "markdown",
   "metadata": {},
   "source": [
    "## Add geography to parcel"
   ]
  },
  {
   "cell_type": "code",
   "execution_count": 22,
   "metadata": {
    "collapsed": true
   },
   "outputs": [],
   "source": [
    "# Import parcels data to convert to xy coordinates\n",
    "parcel = pd.read_csv(r'L:\\T2040\\soundcast_2014\\inputs\\accessibility\\parcels_urbansim.txt',\n",
    "                    delim_whitespace=True)"
   ]
  },
  {
   "cell_type": "code",
   "execution_count": 52,
   "metadata": {
    "collapsed": true
   },
   "outputs": [],
   "source": [
    "# Convert state plane to lat long (WGS 84)\n",
    "prj_wgs = Proj(init='epsg:4326', preserve_units=True)\n",
    "ESPG = \"+init=EPSG:2926\"\n",
    "prj_sp = Proj(ESPG)\n",
    "conversion = 0.3048006096012192    # Feet to meters\n",
    "\n",
    "# Need to convert feet to meters:\n",
    "longitude = parcel['XCOORD_P'].values*conversion\n",
    "latitude = parcel['YCOORD_P'].values*conversion\n",
    "x, y = transform(prj_sp, prj_wgs, longitude, latitude)\n",
    "\n",
    "parcel['lat'] = y\n",
    "parcel['lon'] = x"
   ]
  },
  {
   "cell_type": "code",
   "execution_count": 53,
   "metadata": {
    "collapsed": true
   },
   "outputs": [],
   "source": [
    "# Export parcel data with new coordinates\n",
    "parcel.to_csv(r'R:\\SoundCastDocuments\\metrics\\housing_transport_costs\\parcels_urbansim_14.csv',\n",
    "              index=False)"
   ]
  },
  {
   "cell_type": "code",
   "execution_count": 60,
   "metadata": {},
   "outputs": [
    {
     "data": {
      "text/plain": [
       "96523.672657008487"
      ]
     },
     "execution_count": 60,
     "metadata": {},
     "output_type": "execute_result"
    }
   ],
   "source": [
    "hh.groupby('hhparcel').mean()['annual_auto_costs'].max()"
   ]
  },
  {
   "cell_type": "code",
   "execution_count": 64,
   "metadata": {},
   "outputs": [
    {
     "data": {
      "text/html": [
       "<div>\n",
       "<style>\n",
       "    .dataframe thead tr:only-child th {\n",
       "        text-align: right;\n",
       "    }\n",
       "\n",
       "    .dataframe thead th {\n",
       "        text-align: left;\n",
       "    }\n",
       "\n",
       "    .dataframe tbody tr th {\n",
       "        vertical-align: top;\n",
       "    }\n",
       "</style>\n",
       "<table border=\"1\" class=\"dataframe\">\n",
       "  <thead>\n",
       "    <tr style=\"text-align: right;\">\n",
       "      <th></th>\n",
       "      <th>hhno</th>\n",
       "      <th>fraction_with_jobs_outside</th>\n",
       "      <th>hhsize</th>\n",
       "      <th>hhvehs</th>\n",
       "      <th>hhwkrs</th>\n",
       "      <th>hhftw</th>\n",
       "      <th>hhptw</th>\n",
       "      <th>hhret</th>\n",
       "      <th>hhoad</th>\n",
       "      <th>hhuni</th>\n",
       "      <th>...</th>\n",
       "      <th>travdist</th>\n",
       "      <th>operating_cost_drivers</th>\n",
       "      <th>depreciation</th>\n",
       "      <th>veh_insurance</th>\n",
       "      <th>veh_taxes</th>\n",
       "      <th>veh_finance</th>\n",
       "      <th>annual_auto_costs</th>\n",
       "      <th>annual_transit_cost</th>\n",
       "      <th>total_cost</th>\n",
       "      <th>percent_transport_cost</th>\n",
       "    </tr>\n",
       "  </thead>\n",
       "  <tbody>\n",
       "    <tr>\n",
       "      <th>439884</th>\n",
       "      <td>537184</td>\n",
       "      <td>0.000</td>\n",
       "      <td>16</td>\n",
       "      <td>4</td>\n",
       "      <td>-1</td>\n",
       "      <td>2</td>\n",
       "      <td>2</td>\n",
       "      <td>4</td>\n",
       "      <td>2</td>\n",
       "      <td>0</td>\n",
       "      <td>...</td>\n",
       "      <td>824.696404</td>\n",
       "      <td>60991.677185</td>\n",
       "      <td>25163.995472</td>\n",
       "      <td>4888</td>\n",
       "      <td>2748</td>\n",
       "      <td>2732</td>\n",
       "      <td>96523.672657</td>\n",
       "      <td>0.0</td>\n",
       "      <td>96523.672657</td>\n",
       "      <td>0.495430</td>\n",
       "    </tr>\n",
       "    <tr>\n",
       "      <th>440487</th>\n",
       "      <td>537335</td>\n",
       "      <td>0.000</td>\n",
       "      <td>6</td>\n",
       "      <td>4</td>\n",
       "      <td>-1</td>\n",
       "      <td>1</td>\n",
       "      <td>0</td>\n",
       "      <td>3</td>\n",
       "      <td>1</td>\n",
       "      <td>0</td>\n",
       "      <td>...</td>\n",
       "      <td>459.374397</td>\n",
       "      <td>58843.421311</td>\n",
       "      <td>23345.471623</td>\n",
       "      <td>4888</td>\n",
       "      <td>2748</td>\n",
       "      <td>2732</td>\n",
       "      <td>92556.892934</td>\n",
       "      <td>0.0</td>\n",
       "      <td>92556.892934</td>\n",
       "      <td>0.631870</td>\n",
       "    </tr>\n",
       "    <tr>\n",
       "      <th>848428</th>\n",
       "      <td>992155</td>\n",
       "      <td>0.088</td>\n",
       "      <td>5</td>\n",
       "      <td>4</td>\n",
       "      <td>-1</td>\n",
       "      <td>1</td>\n",
       "      <td>2</td>\n",
       "      <td>0</td>\n",
       "      <td>1</td>\n",
       "      <td>0</td>\n",
       "      <td>...</td>\n",
       "      <td>763.280000</td>\n",
       "      <td>37885.200000</td>\n",
       "      <td>47470.155600</td>\n",
       "      <td>4888</td>\n",
       "      <td>2748</td>\n",
       "      <td>2732</td>\n",
       "      <td>95723.355600</td>\n",
       "      <td>0.0</td>\n",
       "      <td>95723.355600</td>\n",
       "      <td>1.101205</td>\n",
       "    </tr>\n",
       "  </tbody>\n",
       "</table>\n",
       "<p>3 rows × 32 columns</p>\n",
       "</div>"
      ],
      "text/plain": [
       "          hhno  fraction_with_jobs_outside  hhsize  hhvehs  hhwkrs  hhftw  \\\n",
       "439884  537184                       0.000      16       4      -1      2   \n",
       "440487  537335                       0.000       6       4      -1      1   \n",
       "848428  992155                       0.088       5       4      -1      1   \n",
       "\n",
       "        hhptw  hhret  hhoad  hhuni           ...              travdist  \\\n",
       "439884      2      4      2      0           ...            824.696404   \n",
       "440487      0      3      1      0           ...            459.374397   \n",
       "848428      2      0      1      0           ...            763.280000   \n",
       "\n",
       "        operating_cost_drivers  depreciation  veh_insurance  veh_taxes  \\\n",
       "439884            60991.677185  25163.995472           4888       2748   \n",
       "440487            58843.421311  23345.471623           4888       2748   \n",
       "848428            37885.200000  47470.155600           4888       2748   \n",
       "\n",
       "        veh_finance  annual_auto_costs  annual_transit_cost    total_cost  \\\n",
       "439884         2732       96523.672657                  0.0  96523.672657   \n",
       "440487         2732       92556.892934                  0.0  92556.892934   \n",
       "848428         2732       95723.355600                  0.0  95723.355600   \n",
       "\n",
       "        percent_transport_cost  \n",
       "439884                0.495430  \n",
       "440487                0.631870  \n",
       "848428                1.101205  \n",
       "\n",
       "[3 rows x 32 columns]"
      ]
     },
     "execution_count": 64,
     "metadata": {},
     "output_type": "execute_result"
    }
   ],
   "source": [
    "hh[hh['annual_auto_costs'] > 90000]"
   ]
  },
  {
   "cell_type": "code",
   "execution_count": null,
   "metadata": {
    "collapsed": true
   },
   "outputs": [],
   "source": []
  }
 ],
 "metadata": {
  "anaconda-cloud": {},
  "kernelspec": {
   "display_name": "Python 2",
   "language": "python",
   "name": "python2"
  },
  "language_info": {
   "codemirror_mode": {
    "name": "ipython",
    "version": 2
   },
   "file_extension": ".py",
   "mimetype": "text/x-python",
   "name": "python",
   "nbconvert_exporter": "python",
   "pygments_lexer": "ipython2",
   "version": "2.7.14"
  }
 },
 "nbformat": 4,
 "nbformat_minor": 2
}
