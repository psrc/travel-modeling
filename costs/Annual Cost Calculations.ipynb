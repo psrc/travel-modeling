{
 "cells": [
  {
   "cell_type": "code",
   "execution_count": 1,
   "metadata": {
    "collapsed": true
   },
   "outputs": [],
   "source": [
    "import pandas as pd\n",
    "import numpy as np\n",
    "%matplotlib inline "
   ]
  },
  {
   "cell_type": "code",
   "execution_count": 2,
   "metadata": {
    "collapsed": false
   },
   "outputs": [],
   "source": [
    "# 2014 \n",
    "df = pd.read_csv(r'I:\\T2040\\soundcast_2014\\outputs\\daysim\\_trip.tsv', sep='\\t')\n",
    "hh = pd.read_csv(r'I:\\T2040\\soundcast_2014\\outputs\\daysim\\_household.tsv', sep='\\t')\n",
    "parcels = pd.read_csv(r'I:\\T2040\\soundcast_2014\\inputs\\accessibility\\parcels_urbansim.txt', sep = ' ')\n",
    "zone_tract = pd.read_csv(r'C:\\Users\\SChildress\\Documents\\Census Data\\tract_zone.csv')\n",
    "housing_cost_tract = pd.read_excel(r'C:\\Users\\SChildress\\Documents\\Census Data\\MedianHousingCost_Tract.xlsx')\n",
    "tractids = pd.read_csv(r'C:\\Users\\SChildress\\Documents\\Census Data\\tract2010_nowater.csv')"
   ]
  },
  {
   "cell_type": "code",
   "execution_count": 3,
   "metadata": {
    "collapsed": true
   },
   "outputs": [],
   "source": [
    "\n",
    "# AAA Calculations availavble for small, medium, large Sedans (and average of these), SUV, Minivan\n",
    "\n",
    "# Analysis of survey could be used to allocate vehicle type distributions?\n",
    "\n",
    "# http://publicaffairsresources.aaa.biz/wp-content/uploads/2016/03/2016-YDC-Brochure.pdf\n",
    "# results are averages for sedans\n",
    "\n",
    "# Annualalize costs as 262\n",
    "annual_factor = 262\n",
    "\n",
    "# Costs by miles\n",
    "# Operating costs total (gas + maintenance + tries)\n",
    "depreciation_per_mile = 3759.0/15000    # depreciation by mile\n",
    "\n",
    "# Annual costs\n",
    "insurance = 1222    #(full-coverage insurance, license, registration, taxes, depreciation @ 15,000 miles per year), finance charge\n",
    "taxes = 687    # license, registration, taxes\n",
    "finance = 683    # load financing\n",
    "\n",
    "annual_fixed_costs = insurance+taxes+finance"
   ]
  },
  {
   "cell_type": "code",
   "execution_count": 4,
   "metadata": {
    "collapsed": true
   },
   "outputs": [],
   "source": [
    "#to calculate activity durations for parking cost:\n",
    "day_minutes = 1440\n",
    "minutes_hr = 60.0\n",
    "cents_dollar = 100"
   ]
  },
  {
   "cell_type": "code",
   "execution_count": 5,
   "metadata": {
    "collapsed": true
   },
   "outputs": [],
   "source": [
    "# get total travel cost (based on vmt)\n",
    "# includes \n",
    "hh_mile_costs = df.groupby('hhno').sum()[['travcost']]\n",
    "hh_mile_costs = hh_mile_costs.reset_index()\n",
    "\n",
    "hh = pd.merge(hh, hh_mile_costs, on='hhno', how='left')\n",
    "\n",
    "# Some households have 0 travel cost\n",
    "hh['travcost'] = hh['travcost'].fillna(0)"
   ]
  },
  {
   "cell_type": "code",
   "execution_count": 6,
   "metadata": {
    "collapsed": true
   },
   "outputs": [],
   "source": [
    "# Total vehicle miles traveled per household to calculate depreciation\n",
    "driver_trips = df[df['dorp'] == 1]"
   ]
  },
  {
   "cell_type": "code",
   "execution_count": 7,
   "metadata": {
    "collapsed": true
   },
   "outputs": [],
   "source": [
    "hh_travdist = df.groupby('hhno').sum()[['travdist']]\n",
    "hh_travdist = hh_travdist.reset_index()"
   ]
  },
  {
   "cell_type": "code",
   "execution_count": 8,
   "metadata": {
    "collapsed": true
   },
   "outputs": [],
   "source": [
    "hh = pd.merge(hh, hh_travdist, on='hhno', how='left')"
   ]
  },
  {
   "cell_type": "code",
   "execution_count": 9,
   "metadata": {
    "collapsed": false
   },
   "outputs": [
    {
     "name": "stderr",
     "output_type": "stream",
     "text": [
      "C:\\Program Files\\Anaconda2\\lib\\site-packages\\ipykernel\\__main__.py:2: SettingWithCopyWarning: \n",
      "A value is trying to be set on a copy of a slice from a DataFrame.\n",
      "Try using .loc[row_indexer,col_indexer] = value instead\n",
      "\n",
      "See the caveats in the documentation: http://pandas.pydata.org/pandas-docs/stable/indexing.html#indexing-view-versus-copy\n",
      "  from ipykernel import kernelapp as app\n",
      "C:\\Program Files\\Anaconda2\\lib\\site-packages\\ipykernel\\__main__.py:3: SettingWithCopyWarning: \n",
      "A value is trying to be set on a copy of a slice from a DataFrame.\n",
      "Try using .loc[row_indexer,col_indexer] = value instead\n",
      "\n",
      "See the caveats in the documentation: http://pandas.pydata.org/pandas-docs/stable/indexing.html#indexing-view-versus-copy\n",
      "  app.launch_new_instance()\n",
      "C:\\Program Files\\Anaconda2\\lib\\site-packages\\ipykernel\\__main__.py:4: SettingWithCopyWarning: \n",
      "A value is trying to be set on a copy of a slice from a DataFrame.\n",
      "Try using .loc[row_indexer,col_indexer] = value instead\n",
      "\n",
      "See the caveats in the documentation: http://pandas.pydata.org/pandas-docs/stable/indexing.html#indexing-view-versus-copy\n"
     ]
    }
   ],
   "source": [
    "# annual operating costs\n",
    "driver_trips['operating_cost_drivers'] = driver_trips['travcost']*annual_factor\n",
    "driver_trips['travdist'] = driver_trips['travdist'].fillna(0)\n",
    "driver_trips['depreciation'] = driver_trips['travdist']*depreciation_per_mile*annual_factor\n",
    "\n",
    "#calculating parking costs based on activity duration\n",
    "# the results look weird - add in parking cost later\n",
    "#driver_trips = pd.merge(driver_trips, parcels[['PARCELID','PPRICHRP']], left_on='dpcl', right_on = 'PARCELID')\n",
    "# if a trip spans midnight you need to adjust across the day - like this:\n",
    "#driver_trips['duration'] = np.where(driver_trips['endacttm']<driver_trips['arrtm'], day_minutes-driver_trips['arrtm'] +driver_trips['endacttm'], driver_trips['endacttm']-driver_trips['arrtm'])/minutes_hr\n",
    "#driver_trips['parking_cost'] = (driver_trips['duration']*driver_trips['PPRICHRP']*annual_factor)/cents_dollar\n",
    "\n",
    "\n",
    "\n",
    "driver_trips_hh = driver_trips.groupby('hhno').sum()[['operating_cost_drivers','depreciation']].reset_index()\n",
    "hh = pd.merge(hh, driver_trips_hh, on = 'hhno')"
   ]
  },
  {
   "cell_type": "code",
   "execution_count": 10,
   "metadata": {
    "collapsed": false
   },
   "outputs": [],
   "source": [
    "# fixed costs as function of number of vehicles owned\n",
    "hh['veh_insurance'] = hh['hhvehs']*insurance\n",
    "hh['veh_taxes'] = hh['hhvehs']*taxes\n",
    "hh['veh_finance'] = hh['hhvehs']*finance\n",
    "\n",
    "hh['annual_auto_costs'] = hh['operating_cost_drivers']+hh['depreciation']+hh['veh_insurance']+hh['veh_taxes']+hh['veh_finance']\n",
    "hh['annual_auto_costs']=hh['annual_auto_costs'].fillna(0)\n",
    "# Need to add per mile depreciation costs"
   ]
  },
  {
   "cell_type": "code",
   "execution_count": 11,
   "metadata": {
    "collapsed": true
   },
   "outputs": [],
   "source": [
    "# Calculate transit cost\n",
    "transit_trips = df[df['mode'] == 6]\n",
    "\n",
    "hh_travdist_transit_cost = transit_trips.groupby('hhno').sum()[['travcost']]\n",
    "hh_travdist_transit_cost['transit_cost'] = hh_travdist_transit_cost['travcost']\n",
    "hh_travdist_transit_cost = hh_travdist_transit_cost.reset_index()\n",
    "hh_travdist_transit_cost['annual_transit_cost'] = hh_travdist_transit_cost['transit_cost']*annual_factor"
   ]
  },
  {
   "cell_type": "code",
   "execution_count": 12,
   "metadata": {
    "collapsed": true
   },
   "outputs": [],
   "source": [
    "hh = pd.merge(hh, hh_travdist_transit_cost[['hhno','annual_transit_cost']], on='hhno', how='left')\n",
    "hh['annual_transit_cost'] = hh['annual_transit_cost'].fillna(0)"
   ]
  },
  {
   "cell_type": "code",
   "execution_count": 13,
   "metadata": {
    "collapsed": true
   },
   "outputs": [],
   "source": [
    "hh['total_cost']= hh['annual_transit_cost']+hh['annual_auto_costs']\n",
    "hh = hh.loc[hh['hhincome']!=0]\n",
    "hh['percent_transport_cost'] = hh['total_cost']/hh['hhincome']\n",
    "hh['percent_transport_cost'] =hh['percent_transport_cost'].fillna(0)"
   ]
  },
  {
   "cell_type": "code",
   "execution_count": 14,
   "metadata": {
    "collapsed": false
   },
   "outputs": [
    {
     "name": "stdout",
     "output_type": "stream",
     "text": [
      "11031.7978334\n",
      "2466.04274411\n",
      "1386.39227922\n",
      "2586.48255642\n",
      "3139.09778208\n",
      "75.4623453191\n",
      "0.133932544278\n"
     ]
    }
   ],
   "source": [
    "print hh['total_cost'].mean()\n",
    "print hh['veh_insurance'].mean()\n",
    "print hh['veh_taxes'].mean()\n",
    "print hh['operating_cost_drivers'].mean()\n",
    "print hh['depreciation'].mean()\n",
    "print hh['annual_transit_cost'].mean()\n",
    "print hh['percent_transport_cost'].median()"
   ]
  },
  {
   "cell_type": "code",
   "execution_count": 15,
   "metadata": {
    "collapsed": false
   },
   "outputs": [],
   "source": [
    "hh_costs = hh[['hhtaz','total_cost', 'veh_insurance', 'veh_taxes', 'operating_cost_drivers', 'depreciation', 'annual_transit_cost', 'percent_transport_cost']]"
   ]
  },
  {
   "cell_type": "code",
   "execution_count": 18,
   "metadata": {
    "collapsed": false
   },
   "outputs": [
    {
     "data": {
      "text/html": [
       "<div>\n",
       "<table border=\"1\" class=\"dataframe\">\n",
       "  <thead>\n",
       "    <tr style=\"text-align: right;\">\n",
       "      <th></th>\n",
       "      <th>Unnamed: 0</th>\n",
       "      <th>taz_p</th>\n",
       "      <th>GEOID</th>\n",
       "    </tr>\n",
       "  </thead>\n",
       "  <tbody>\n",
       "    <tr>\n",
       "      <th>0</th>\n",
       "      <td>0</td>\n",
       "      <td>1</td>\n",
       "      <td>53033000500</td>\n",
       "    </tr>\n",
       "    <tr>\n",
       "      <th>1</th>\n",
       "      <td>1</td>\n",
       "      <td>2</td>\n",
       "      <td>53033000402</td>\n",
       "    </tr>\n",
       "    <tr>\n",
       "      <th>2</th>\n",
       "      <td>2</td>\n",
       "      <td>3</td>\n",
       "      <td>53033000401</td>\n",
       "    </tr>\n",
       "    <tr>\n",
       "      <th>3</th>\n",
       "      <td>3</td>\n",
       "      <td>4</td>\n",
       "      <td>53033000401</td>\n",
       "    </tr>\n",
       "    <tr>\n",
       "      <th>4</th>\n",
       "      <td>4</td>\n",
       "      <td>5</td>\n",
       "      <td>53033000300</td>\n",
       "    </tr>\n",
       "  </tbody>\n",
       "</table>\n",
       "</div>"
      ],
      "text/plain": [
       "   Unnamed: 0  taz_p        GEOID\n",
       "0           0      1  53033000500\n",
       "1           1      2  53033000402\n",
       "2           2      3  53033000401\n",
       "3           3      4  53033000401\n",
       "4           4      5  53033000300"
      ]
     },
     "execution_count": 18,
     "metadata": {},
     "output_type": "execute_result"
    }
   ],
   "source": [
    "zone_tract.head()"
   ]
  },
  {
   "cell_type": "code",
   "execution_count": 20,
   "metadata": {
    "collapsed": false
   },
   "outputs": [
    {
     "data": {
      "text/html": [
       "<div>\n",
       "<table border=\"1\" class=\"dataframe\">\n",
       "  <thead>\n",
       "    <tr style=\"text-align: right;\">\n",
       "      <th></th>\n",
       "      <th>﻿STATEFP10</th>\n",
       "      <th>COUNTYFP10</th>\n",
       "      <th>TRACTCE10</th>\n",
       "      <th>GEOID10</th>\n",
       "      <th>NAME10</th>\n",
       "      <th>NAMELSAD10</th>\n",
       "      <th>MTFCC10</th>\n",
       "      <th>FUNCSTAT10</th>\n",
       "      <th>ALAND10</th>\n",
       "      <th>AWATER10</th>\n",
       "      <th>INTPTLAT10</th>\n",
       "      <th>INTPTLON10</th>\n",
       "      <th>NAME_VAL</th>\n",
       "      <th>sqmiles</th>\n",
       "      <th>acres</th>\n",
       "      <th>geoidstr</th>\n",
       "      <th>perc</th>\n",
       "      <th>perc_1</th>\n",
       "    </tr>\n",
       "  </thead>\n",
       "  <tbody>\n",
       "    <tr>\n",
       "      <th>0</th>\n",
       "      <td>53</td>\n",
       "      <td>33</td>\n",
       "      <td>22006</td>\n",
       "      <td>53033022006</td>\n",
       "      <td>220.06</td>\n",
       "      <td>Census Tract 220.06</td>\n",
       "      <td>G5020</td>\n",
       "      <td>S</td>\n",
       "      <td>1408907</td>\n",
       "      <td>0</td>\n",
       "      <td>47.704339</td>\n",
       "      <td>-122.199267</td>\n",
       "      <td>220.0</td>\n",
       "      <td>0.543948</td>\n",
       "      <td>348.126956</td>\n",
       "      <td>5.303302e+10</td>\n",
       "      <td>NaN</td>\n",
       "      <td>NaN</td>\n",
       "    </tr>\n",
       "    <tr>\n",
       "      <th>1</th>\n",
       "      <td>53</td>\n",
       "      <td>33</td>\n",
       "      <td>32320</td>\n",
       "      <td>53033032320</td>\n",
       "      <td>323.20</td>\n",
       "      <td>Census Tract 323.20</td>\n",
       "      <td>G5020</td>\n",
       "      <td>S</td>\n",
       "      <td>9554873</td>\n",
       "      <td>38494</td>\n",
       "      <td>47.756477</td>\n",
       "      <td>-122.124445</td>\n",
       "      <td>323.0</td>\n",
       "      <td>3.703739</td>\n",
       "      <td>2370.392801</td>\n",
       "      <td>5.303303e+10</td>\n",
       "      <td>NaN</td>\n",
       "      <td>NaN</td>\n",
       "    </tr>\n",
       "    <tr>\n",
       "      <th>2</th>\n",
       "      <td>53</td>\n",
       "      <td>33</td>\n",
       "      <td>31703</td>\n",
       "      <td>53033031703</td>\n",
       "      <td>317.03</td>\n",
       "      <td>Census Tract 317.03</td>\n",
       "      <td>G5020</td>\n",
       "      <td>S</td>\n",
       "      <td>7139218</td>\n",
       "      <td>643846</td>\n",
       "      <td>47.371689</td>\n",
       "      <td>-122.148431</td>\n",
       "      <td>317.0</td>\n",
       "      <td>3.005218</td>\n",
       "      <td>1923.339270</td>\n",
       "      <td>5.303303e+10</td>\n",
       "      <td>NaN</td>\n",
       "      <td>NaN</td>\n",
       "    </tr>\n",
       "    <tr>\n",
       "      <th>3</th>\n",
       "      <td>53</td>\n",
       "      <td>33</td>\n",
       "      <td>31206</td>\n",
       "      <td>53033031206</td>\n",
       "      <td>312.06</td>\n",
       "      <td>Census Tract 312.06</td>\n",
       "      <td>G5020</td>\n",
       "      <td>S</td>\n",
       "      <td>3668962</td>\n",
       "      <td>60430</td>\n",
       "      <td>47.313562</td>\n",
       "      <td>-122.183538</td>\n",
       "      <td>312.0</td>\n",
       "      <td>1.440042</td>\n",
       "      <td>921.626793</td>\n",
       "      <td>5.303303e+10</td>\n",
       "      <td>NaN</td>\n",
       "      <td>NaN</td>\n",
       "    </tr>\n",
       "    <tr>\n",
       "      <th>4</th>\n",
       "      <td>53</td>\n",
       "      <td>33</td>\n",
       "      <td>32102</td>\n",
       "      <td>53033032102</td>\n",
       "      <td>321.02</td>\n",
       "      <td>Census Tract 321.02</td>\n",
       "      <td>G5020</td>\n",
       "      <td>S</td>\n",
       "      <td>79040166</td>\n",
       "      <td>84391</td>\n",
       "      <td>47.485151</td>\n",
       "      <td>-121.965784</td>\n",
       "      <td>321.0</td>\n",
       "      <td>30.550272</td>\n",
       "      <td>19552.174321</td>\n",
       "      <td>5.303303e+10</td>\n",
       "      <td>NaN</td>\n",
       "      <td>NaN</td>\n",
       "    </tr>\n",
       "  </tbody>\n",
       "</table>\n",
       "</div>"
      ],
      "text/plain": [
       "   ﻿STATEFP10  COUNTYFP10  TRACTCE10      GEOID10  NAME10  \\\n",
       "0          53          33      22006  53033022006  220.06   \n",
       "1          53          33      32320  53033032320  323.20   \n",
       "2          53          33      31703  53033031703  317.03   \n",
       "3          53          33      31206  53033031206  312.06   \n",
       "4          53          33      32102  53033032102  321.02   \n",
       "\n",
       "            NAMELSAD10 MTFCC10 FUNCSTAT10   ALAND10  AWATER10  INTPTLAT10  \\\n",
       "0  Census Tract 220.06   G5020          S   1408907         0   47.704339   \n",
       "1  Census Tract 323.20   G5020          S   9554873     38494   47.756477   \n",
       "2  Census Tract 317.03   G5020          S   7139218    643846   47.371689   \n",
       "3  Census Tract 312.06   G5020          S   3668962     60430   47.313562   \n",
       "4  Census Tract 321.02   G5020          S  79040166     84391   47.485151   \n",
       "\n",
       "   INTPTLON10  NAME_VAL    sqmiles         acres      geoidstr  perc  perc_1  \n",
       "0 -122.199267     220.0   0.543948    348.126956  5.303302e+10   NaN     NaN  \n",
       "1 -122.124445     323.0   3.703739   2370.392801  5.303303e+10   NaN     NaN  \n",
       "2 -122.148431     317.0   3.005218   1923.339270  5.303303e+10   NaN     NaN  \n",
       "3 -122.183538     312.0   1.440042    921.626793  5.303303e+10   NaN     NaN  \n",
       "4 -121.965784     321.0  30.550272  19552.174321  5.303303e+10   NaN     NaN  "
      ]
     },
     "execution_count": 20,
     "metadata": {},
     "output_type": "execute_result"
    }
   ],
   "source": [
    "tractids.head()"
   ]
  },
  {
   "cell_type": "code",
   "execution_count": 24,
   "metadata": {
    "collapsed": false
   },
   "outputs": [],
   "source": [
    "# now join to the housing costs, but first we need to get the housing costs disaggregate to zones\n",
    "zone_tractid = pd.merge(zone_tract,tractids, left_on= 'GEOID', right_on = 'GEOID10')\n",
    "housing_cost_zone = pd.merge(housing_cost_tract, zone_tractid, left_on = 'Namelsad10', right_on = 'NAMELSAD10')"
   ]
  },
  {
   "cell_type": "code",
   "execution_count": 27,
   "metadata": {
    "collapsed": false
   },
   "outputs": [],
   "source": [
    "hh_costs = pd.merge(hh_costs, housing_cost_zone, left_on = 'hhtaz', right_on = 'taz_p')"
   ]
  },
  {
   "cell_type": "code",
   "execution_count": 28,
   "metadata": {
    "collapsed": true
   },
   "outputs": [],
   "source": [
    "hh_cost_taz = hh_costs.groupby('hhtaz').median()"
   ]
  },
  {
   "cell_type": "code",
   "execution_count": 31,
   "metadata": {
    "collapsed": false
   },
   "outputs": [],
   "source": [
    "hh_cost_taz['annual_median_housing_cost'] = hh_cost_taz['Median Monthly Housing Cost']*12"
   ]
  },
  {
   "cell_type": "code",
   "execution_count": 32,
   "metadata": {
    "collapsed": true
   },
   "outputs": [],
   "source": [
    "hh_cost_taz['housing_transport_cost'] = hh_cost_taz['annual_median_housing_cost']+hh_cost_taz['total_cost']"
   ]
  },
  {
   "cell_type": "code",
   "execution_count": 34,
   "metadata": {
    "collapsed": false
   },
   "outputs": [],
   "source": [
    "hh_cost_taz.to_csv(r'C:\\Users\\SChildress\\Documents\\travel-modeling\\costs\\hh_costs.csv')"
   ]
  },
  {
   "cell_type": "code",
   "execution_count": null,
   "metadata": {
    "collapsed": true
   },
   "outputs": [],
   "source": []
  }
 ],
 "metadata": {
  "anaconda-cloud": {},
  "kernelspec": {
   "display_name": "Python [default]",
   "language": "python",
   "name": "python2"
  },
  "language_info": {
   "codemirror_mode": {
    "name": "ipython",
    "version": 2
   },
   "file_extension": ".py",
   "mimetype": "text/x-python",
   "name": "python",
   "nbconvert_exporter": "python",
   "pygments_lexer": "ipython2",
   "version": "2.7.12"
  }
 },
 "nbformat": 4,
 "nbformat_minor": 2
}
