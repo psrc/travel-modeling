{
 "cells": [
  {
   "cell_type": "code",
   "execution_count": 1,
   "metadata": {
    "collapsed": true
   },
   "outputs": [],
   "source": [
    "import pandas as pd"
   ]
  },
  {
   "cell_type": "code",
   "execution_count": 35,
   "metadata": {
    "collapsed": true
   },
   "outputs": [],
   "source": [
    "# 2014 \n",
    "df = pd.read_csv(r'L:\\T2040\\soundcast_2014\\outputs\\daysim\\_trip.tsv', sep='\\t')\n",
    "hh = pd.read_csv(r'L:\\T2040\\soundcast_2014\\outputs\\daysim\\_household.tsv', sep='\\t')"
   ]
  },
  {
   "cell_type": "code",
   "execution_count": 36,
   "metadata": {
    "collapsed": true
   },
   "outputs": [],
   "source": [
    "# AAA Calculations availavble for small, medium, large Sedans (and average of these), SUV, Minivan\n",
    "\n",
    "# Analysis of survey could be used to allocate vehicle type distributions?\n",
    "\n",
    "# http://publicaffairsresources.aaa.biz/wp-content/uploads/2016/03/2016-YDC-Brochure.pdf\n",
    "# results are averages for sedans\n",
    "\n",
    "# Costs by miles\n",
    "# Operating costs total (gas + maintenance + tries)\n",
    "depreciation_per_mile = 3759.0/15000    # depreciation by mile\n",
    "\n",
    "# Annual costs\n",
    "insurance = 1222    #(full-coverage insurance, license, registration, taxes, depreciation @ 15,000 miles per year), finance charge\n",
    "taxes = 687    # license, registration, taxes\n",
    "finance = 683    # load financing\n",
    "\n",
    "annual_fixed_costs = insurance+taxes+finance"
   ]
  },
  {
   "cell_type": "code",
   "execution_count": 37,
   "metadata": {},
   "outputs": [],
   "source": [
    "# get total travel cost (based on vmt)\n",
    "# includes \n",
    "# Does NOT include parking\n",
    "hh_mile_costs = df.groupby('hhno').sum()[['travcost']]\n",
    "hh_mile_costs = hh_mile_costs.reset_index()\n",
    "\n",
    "hh = pd.merge(hh, hh_mile_costs, on='hhno', how='left')\n",
    "\n",
    "# Some households have 0 travel cost\n",
    "hh['travcost'] = hh['travcost'].fillna(0)"
   ]
  },
  {
   "cell_type": "code",
   "execution_count": 38,
   "metadata": {
    "collapsed": true
   },
   "outputs": [],
   "source": [
    "# Total vehicle miles traveled per household to calculate depreciation\n",
    "driver_trips = df[df['dorp'] == 1]"
   ]
  },
  {
   "cell_type": "code",
   "execution_count": 39,
   "metadata": {
    "collapsed": true
   },
   "outputs": [],
   "source": [
    "hh_travdist = df.groupby('hhno').sum()[['travdist']]\n",
    "hh_travdist = hh_travdist.reset_index()"
   ]
  },
  {
   "cell_type": "code",
   "execution_count": 40,
   "metadata": {
    "collapsed": true
   },
   "outputs": [],
   "source": [
    "hh = pd.merge(hh, hh_travdist, on='hhno', how='left')"
   ]
  },
  {
   "cell_type": "code",
   "execution_count": 41,
   "metadata": {
    "collapsed": true
   },
   "outputs": [],
   "source": [
    "# hh['annual_vehicle_costs'] = hh\n",
    "\n",
    "# Weekday travel\n",
    "\n",
    "# Annualalize costs as 262\n",
    "annual_factor = 262\n",
    "\n",
    "# annual operating costs\n",
    "hh['operating_cost_drivers'] = hh['travcost']*annual_factor\n",
    "hh['depreciation'] = hh['travdist']*depreciation_per_mile*annual_factor\n",
    "\n",
    "# fixed costs as function of number of vehicles owned\n",
    "hh['veh_insurance'] = hh['hhvehs']*insurance\n",
    "hh['veh_taxes'] = hh['hhvehs']*taxes\n",
    "hh['veh_finance'] = hh['hhvehs']*finance\n",
    "\n",
    "hh['annual_auto_costs'] = hh['operating_cost_drivers']+hh['depreciation']+hh['veh_insurance']+hh['veh_taxes']+hh['veh_finance']\n",
    "# Need to add per mile depreciation costs"
   ]
  },
  {
   "cell_type": "code",
   "execution_count": 42,
   "metadata": {},
   "outputs": [],
   "source": [
    "# Calculate transit cost\n",
    "transit_trips = df[df['mode'] == 6]\n",
    "\n",
    "hh_travdist_transit_cost = transit_trips.groupby('hhno').sum()[['travcost']]\n",
    "hh_travdist_transit_cost['transit_cost'] = hh_travdist_transit_cost['travcost']\n",
    "hh_travdist_transit_cost = hh_travdist_transit_cost.reset_index()\n",
    "hh_travdist_transit_cost['annual_transit_cost'] = hh_travdist_transit_cost['transit_cost']*annual_factor"
   ]
  },
  {
   "cell_type": "code",
   "execution_count": 43,
   "metadata": {},
   "outputs": [],
   "source": [
    "hh = pd.merge(hh, hh_travdist_transit_cost[['hhno','annual_transit_cost']], on='hhno', how='left')"
   ]
  },
  {
   "cell_type": "code",
   "execution_count": 45,
   "metadata": {},
   "outputs": [],
   "source": [
    "hh['annual_transit_cost'] = hh['annual_transit_cost'].fillna(0)"
   ]
  },
  {
   "cell_type": "code",
   "execution_count": null,
   "metadata": {
    "collapsed": true
   },
   "outputs": [],
   "source": [
    "# Parking Costs?"
   ]
  },
  {
   "cell_type": "code",
   "execution_count": 46,
   "metadata": {
    "collapsed": true
   },
   "outputs": [],
   "source": [
    "hh.to_csv(r'hh.csv',index=False)"
   ]
  },
  {
   "cell_type": "code",
   "execution_count": 128,
   "metadata": {
    "collapsed": true
   },
   "outputs": [],
   "source": [
    "# Add GPS coordinates to parcel file\n",
    "parcel = pd.read_csv(r'L:\\T2040\\soundcast_2014\\inputs\\accessibility\\parcels_urbansim.txt', delim_whitespace=True)"
   ]
  },
  {
   "cell_type": "code",
   "execution_count": null,
   "metadata": {
    "collapsed": true
   },
   "outputs": [],
   "source": []
  }
 ],
 "metadata": {
  "kernelspec": {
   "display_name": "Python 2",
   "language": "python",
   "name": "python2"
  },
  "language_info": {
   "codemirror_mode": {
    "name": "ipython",
    "version": 2
   },
   "file_extension": ".py",
   "mimetype": "text/x-python",
   "name": "python",
   "nbconvert_exporter": "python",
   "pygments_lexer": "ipython2",
   "version": "2.7.14"
  }
 },
 "nbformat": 4,
 "nbformat_minor": 2
}
