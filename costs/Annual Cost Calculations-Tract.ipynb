{
 "cells": [
  {
   "cell_type": "code",
   "execution_count": 3,
   "metadata": {
    "collapsed": false
   },
   "outputs": [],
   "source": [
    "import pandas as pd\n",
    "import numpy as np\n",
    "%matplotlib inline "
   ]
  },
  {
   "cell_type": "code",
   "execution_count": 4,
   "metadata": {
    "collapsed": false
   },
   "outputs": [],
   "source": [
    "# 2014 \n",
    "df = pd.read_csv(r'I:\\T2040\\soundcast_2014\\outputs\\daysim\\_trip.tsv', sep='\\t')\n",
    "hh = pd.read_csv(r'I:\\T2040\\soundcast_2014\\outputs\\daysim\\_household.tsv', sep='\\t')\n",
    "parcels = pd.read_csv(r'I:\\T2040\\soundcast_2014\\inputs\\accessibility\\parcels_urbansim.txt', sep = ' ')\n",
    "parcel_housing = pd.read_csv(r'R:\\SoundCastDocuments\\metrics\\housing_transport_costs\\parcel_housing_costs_2014_lodes_tracts.csv') "
   ]
  },
  {
   "cell_type": "code",
   "execution_count": 5,
   "metadata": {
    "collapsed": true
   },
   "outputs": [],
   "source": [
    "# AAA Calculations availavble for small, medium, large Sedans (and average of these), SUV, Minivan\n",
    "\n",
    "# Analysis of survey could be used to allocate vehicle type distributions?\n",
    "\n",
    "# http://publicaffairsresources.aaa.biz/wp-content/uploads/2016/03/2016-YDC-Brochure.pdf\n",
    "# results are averages for sedans\n",
    "\n",
    "# Annualalize costs as 262\n",
    "annual_factor = 262\n",
    "\n",
    "# Costs by miles\n",
    "# Operating costs total (gas + maintenance + tires) using model estimates for this in the travcost field\n",
    "depreciation_per_mile = 3759.0/15000    # depreciation by mile\n",
    "\n",
    "# Annual costs\n",
    "insurance = 1222    #(full-coverage insurance, license, registration, taxes, depreciation @ 15,000 miles per year), finance charge\n",
    "taxes = 687    # license, registration, taxes\n",
    "finance = 683    # load financing\n",
    "\n",
    "annual_fixed_costs = insurance+taxes+finance"
   ]
  },
  {
   "cell_type": "code",
   "execution_count": 6,
   "metadata": {
    "collapsed": true
   },
   "outputs": [],
   "source": [
    "# to calculate activity durations for parking cost:\n",
    "day_minutes = 1440\n",
    "minutes_hr = 60.0\n",
    "cents_dollar = 100"
   ]
  },
  {
   "cell_type": "code",
   "execution_count": 7,
   "metadata": {
    "collapsed": false
   },
   "outputs": [
    {
     "name": "stderr",
     "output_type": "stream",
     "text": [
      "C:\\Program Files\\Anaconda2\\lib\\site-packages\\ipykernel\\__main__.py:20: SettingWithCopyWarning: \n",
      "A value is trying to be set on a copy of a slice from a DataFrame.\n",
      "Try using .loc[row_indexer,col_indexer] = value instead\n",
      "\n",
      "See the caveats in the documentation: http://pandas.pydata.org/pandas-docs/stable/indexing.html#indexing-view-versus-copy\n",
      "C:\\Program Files\\Anaconda2\\lib\\site-packages\\ipykernel\\__main__.py:21: SettingWithCopyWarning: \n",
      "A value is trying to be set on a copy of a slice from a DataFrame.\n",
      "Try using .loc[row_indexer,col_indexer] = value instead\n",
      "\n",
      "See the caveats in the documentation: http://pandas.pydata.org/pandas-docs/stable/indexing.html#indexing-view-versus-copy\n",
      "C:\\Program Files\\Anaconda2\\lib\\site-packages\\ipykernel\\__main__.py:22: SettingWithCopyWarning: \n",
      "A value is trying to be set on a copy of a slice from a DataFrame.\n",
      "Try using .loc[row_indexer,col_indexer] = value instead\n",
      "\n",
      "See the caveats in the documentation: http://pandas.pydata.org/pandas-docs/stable/indexing.html#indexing-view-versus-copy\n"
     ]
    },
    {
     "name": "stdout",
     "output_type": "stream",
     "text": [
      "11030.5148324\n",
      "2473.99768732\n",
      "1390.86449361\n",
      "2577.46964864\n",
      "3129.28900109\n",
      "76.1277002655\n",
      "442.390041972\n",
      "0.175471651091\n"
     ]
    }
   ],
   "source": [
    "# get total travel cost (based on vmt) for household records\n",
    "hh_mile_costs = df.groupby('hhno').sum()[['travcost']]\n",
    "hh_mile_costs = hh_mile_costs.reset_index()\n",
    "\n",
    "hh = pd.merge(hh, hh_mile_costs, on='hhno', how='left')\n",
    "\n",
    "# Some households have 0 travel cost\n",
    "hh['travcost'] = hh['travcost'].fillna(0)\n",
    "\n",
    "# Total vehicle miles traveled per household to calculate mile-based costs\n",
    "driver_trips = df[df['dorp'] == 1]\n",
    "\n",
    "# Get total travel distance \n",
    "hh_travdist = df.groupby('hhno').sum()[['travdist']]\n",
    "hh_travdist = hh_travdist.reset_index()\n",
    "\n",
    "hh = pd.merge(hh, hh_travdist, on='hhno', how='left')\n",
    "\n",
    "# annual operating costs\n",
    "driver_trips['operating_cost_drivers'] = driver_trips['travcost']*annual_factor\n",
    "driver_trips['travdist'] = driver_trips['travdist'].fillna(0)\n",
    "driver_trips['depreciation'] = driver_trips['travdist']*depreciation_per_mile*annual_factor\n",
    "\n",
    "#calculating parking costs based on activity duration\n",
    "# the results look weird - add in parking cost later\n",
    "driver_trips = pd.merge(driver_trips, parcels[['PARCELID','PPRICHRP']], left_on='dpcl', right_on = 'PARCELID')\n",
    "# if a trip spans midnight you need to adjust across the day - like this:\n",
    "driver_trips['duration'] = np.where(driver_trips['endacttm']<driver_trips['arrtm'], day_minutes-driver_trips['arrtm'] +driver_trips['endacttm'], driver_trips['endacttm']-driver_trips['arrtm'])/minutes_hr\n",
    "driver_trips['parking_cost'] = (driver_trips['duration']*driver_trips['PPRICHRP']*annual_factor)/cents_dollar\n",
    "\n",
    "\n",
    "\n",
    "driver_trips_hh = driver_trips.groupby('hhno').sum()[['operating_cost_drivers','depreciation','parking_cost']].reset_index()\n",
    "hh = pd.merge(hh, driver_trips_hh, on = 'hhno')\n",
    "\n",
    "# fixed costs as function of number of vehicles owned\n",
    "hh['veh_insurance'] = hh['hhvehs']*insurance\n",
    "hh['veh_taxes'] = hh['hhvehs']*taxes\n",
    "hh['veh_finance'] = hh['hhvehs']*finance\n",
    "\n",
    "hh['annual_auto_costs'] = hh['operating_cost_drivers']+hh['depreciation']+hh['veh_insurance']+hh['veh_taxes']+hh['veh_finance']\n",
    "hh['annual_auto_costs']=hh['annual_auto_costs'].fillna(0)\n",
    "# Need to add per mile depreciation costs\n",
    "\n",
    "# Calculate transit cost\n",
    "transit_trips = df[df['mode'] == 6]\n",
    "\n",
    "hh_travdist_transit_cost = transit_trips.groupby('hhno').sum()[['travcost']]\n",
    "hh_travdist_transit_cost['transit_cost'] = hh_travdist_transit_cost['travcost']\n",
    "hh_travdist_transit_cost = hh_travdist_transit_cost.reset_index()\n",
    "hh_travdist_transit_cost['annual_transit_cost'] = hh_travdist_transit_cost['transit_cost']*annual_factor\n",
    "\n",
    "hh = pd.merge(hh, hh_travdist_transit_cost[['hhno','annual_transit_cost']], on='hhno', how='left')\n",
    "hh['annual_transit_cost'] = hh['annual_transit_cost'].fillna(0)\n",
    "\n",
    "hh['total_cost']= hh['annual_transit_cost']+hh['annual_auto_costs']\n",
    "hh = hh.loc[hh['hhincome']>hh['total_cost']]\n",
    "hh['percent_transport_cost'] = hh['total_cost']/hh['hhincome']\n",
    "hh['percent_transport_cost'] =hh['percent_transport_cost'].fillna(0)\n",
    "\n",
    "print hh['total_cost'].mean()\n",
    "print hh['veh_insurance'].mean()\n",
    "print hh['veh_taxes'].mean()\n",
    "print hh['operating_cost_drivers'].mean()\n",
    "print hh['depreciation'].mean()\n",
    "print hh['annual_transit_cost'].mean()\n",
    "print hh['parking_cost'].mean()\n",
    "print hh['percent_transport_cost'].mean()"
   ]
  },
  {
   "cell_type": "code",
   "execution_count": 8,
   "metadata": {
    "collapsed": false
   },
   "outputs": [],
   "source": [
    "#zone_tractid = pd.merge(zone_tract,tractids, left_on= 'GEOID', right_on = 'GEOID10')\n",
    "#hh_tract = pd.merge(hh,zone_tractid, left_on = 'hhtaz', right_on= 'taz_p').groupby('GEOID10').mean()"
   ]
  },
  {
   "cell_type": "code",
   "execution_count": 9,
   "metadata": {
    "collapsed": false
   },
   "outputs": [],
   "source": [
    "#hh_tract.to_csv(r'R:\\SoundCastDocuments\\metrics\\housing_transport_costs\\hh_costs_tract.csv')"
   ]
  },
  {
   "cell_type": "code",
   "execution_count": 10,
   "metadata": {
    "collapsed": false
   },
   "outputs": [
    {
     "data": {
      "text/plain": [
       "Index([u'aparks', u'empedu_p', u'empfoo_p', u'empgov_p', u'empind_p',\n",
       "       u'empmed_p', u'empofc_p', u'empoth_p', u'empret_p', u'emprsc_p',\n",
       "       u'empsvc_p', u'emptot_p', u'hh_p', u'lutype_p', u'nparks', u'parcelid',\n",
       "       u'parkdy_p', u'parkhr_p', u'ppricdyp', u'pprichrp', u'sqft_p',\n",
       "       u'stugrd_p', u'stuhgh_p', u'stuuni_p', u'taz_p', u'xcoord_p',\n",
       "       u'ycoord_p', u'lat_lon_geog', u'geometry', u'index_right', u'final_bg',\n",
       "       u'blkgrp', u'blkgrps', u'population', u'households', u'land_acres',\n",
       "       u'ht_ami', u'ht_80ami', u'ht_nmi', u'h_ami', u'h_80ami', u'h_nmi',\n",
       "       u't_ami', u't_80ami', u't_nmi', u'co2_per_hh_local',\n",
       "       u'co2_per_acre_local', u'autos_per_hh_ami', u'autos_per_hh_80ami',\n",
       "       u'autos_per_hh_nmi', u'vmt_per_hh_ami', u'vmt_per_hh_80ami',\n",
       "       u'vmt_per_hh_nmi', u'pct_transit_commuters_ami',\n",
       "       u'pct_transit_commuters_80ami', u'pct_transit_commuters_nmi',\n",
       "       u't_cost_ami', u't_cost_80ami', u't_cost_nmi',\n",
       "       u'auto_ownership_cost_ami', u'auto_ownership_cost_80ami',\n",
       "       u'auto_ownership_cost_nmi', u'vmt_cost_ami', u'vmt_cost_80ami',\n",
       "       u'vmt_cost_nmi', u'transit_cost_ami', u'transit_cost_80ami',\n",
       "       u'transit_cost_nmi', u'transit_trips_ami', u'transit_trips_80ami',\n",
       "       u'transit_trips_nmi', u'compact_ndx', u'emp_ovrll_ndx', u'res_density',\n",
       "       u'gross_hh_density', u'hh_gravity', u'frac_sfd', u'emp_gravity',\n",
       "       u'emp_ndx', u'block_size', u'intersection_density',\n",
       "       u'avg_block_perimeter_meters', u'h_cost', u'median_smoc',\n",
       "       u'median_gross_rent', u'pct_owner_occupied_hu',\n",
       "       u'pct_renter_occupied_hu'],\n",
       "      dtype='object')"
      ]
     },
     "execution_count": 10,
     "metadata": {},
     "output_type": "execute_result"
    }
   ],
   "source": [
    "parcel_housing.columns"
   ]
  },
  {
   "cell_type": "code",
   "execution_count": 11,
   "metadata": {
    "collapsed": true
   },
   "outputs": [],
   "source": [
    "hh_tracts = pd.merge(hh, parcel_housing, left_on = 'hhparcel', right_on = 'parcelid')"
   ]
  },
  {
   "cell_type": "code",
   "execution_count": 17,
   "metadata": {
    "collapsed": false
   },
   "outputs": [],
   "source": [
    "hh_tracts.head().to_clipboard()"
   ]
  },
  {
   "cell_type": "code",
   "execution_count": 18,
   "metadata": {
    "collapsed": false
   },
   "outputs": [],
   "source": [
    "hh_averages = hh_tracts.groupby('final_bg').mean()"
   ]
  },
  {
   "cell_type": "code",
   "execution_count": 20,
   "metadata": {
    "collapsed": false
   },
   "outputs": [],
   "source": [
    "hh_averages.to_csv(r'R:\\SoundCastDocuments\\metrics\\housing_transport_costs\\transport_cost_by_tract2.csv')"
   ]
  },
  {
   "cell_type": "code",
   "execution_count": null,
   "metadata": {
    "collapsed": true
   },
   "outputs": [],
   "source": []
  }
 ],
 "metadata": {
  "anaconda-cloud": {},
  "kernelspec": {
   "display_name": "Python [default]",
   "language": "python",
   "name": "python2"
  },
  "language_info": {
   "codemirror_mode": {
    "name": "ipython",
    "version": 2
   },
   "file_extension": ".py",
   "mimetype": "text/x-python",
   "name": "python",
   "nbconvert_exporter": "python",
   "pygments_lexer": "ipython2",
   "version": "2.7.12"
  }
 },
 "nbformat": 4,
 "nbformat_minor": 2
}
