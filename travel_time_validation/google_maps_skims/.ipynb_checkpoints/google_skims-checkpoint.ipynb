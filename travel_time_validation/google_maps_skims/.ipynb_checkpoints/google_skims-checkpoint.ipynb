{
 "cells": [
  {
   "cell_type": "code",
   "execution_count": 3,
   "metadata": {
    "collapsed": false
   },
   "outputs": [],
   "source": [
    "import urllib2, json\n",
    "import pandas as pd\n",
    "import numpy as np\n",
    "import datetime, time\n",
    "from SECRET_KEY import secret_key"
   ]
  },
  {
   "cell_type": "code",
   "execution_count": 18,
   "metadata": {
    "collapsed": false
   },
   "outputs": [],
   "source": [
    "# Load TAZ records with x and y coordinates attached\n",
    "taz = pd.read_csv(r'R:\\Brice\\googlemaps\\taz_xy\\taz_xy.txt')\n",
    "\n",
    "# Create a Google-formatted coordinates field\n",
    "taz['g_coord'] = taz['y_gps'].astype('str') + ',' + taz['x_gps'].astype('str')\n",
    "\n",
    "\n",
    "\n",
    "# set standard departure time for tomorrow at 8 AM\n",
    "dep_hr = 8\n",
    "dep_time = datetime.datetime.now()\n",
    "dep_time = dep_time.replace(hour=dep_hr,day=dep_time.day+1)\n",
    "dep_time = str(int(time.mktime(dep_time.timetuple())))\n",
    "\n",
    "# Skims can be auto, transit, bike, or walk\n",
    "mode = 'auto'\n",
    "\n",
    "# Create empty skims to be filled with results\n",
    "skims = {'auto_8_dist': np.zeros([4000,4000]),\n",
    "    'auto_8_time_ff': np.zeros([4000,4000]),\n",
    "    'auto_8_time_congested': np.zeros([4000,4000])}\n",
    "\n",
    "# list of TAZ IDs to find data for, max size of 25 per request\n",
    "# taz_list = [range(1,25)]\n",
    "# taz_list = [xrange(i,i+25) for i in range(1,4000,25)]\n",
    "# taz_lists = [xrange(i,i+25) for i in range(1,200,25)]\n",
    "taz_lists = [xrange(i,i+25) for i in range(50,200,25)]"
   ]
  },
  {
   "cell_type": "code",
   "execution_count": 25,
   "metadata": {
    "collapsed": false
   },
   "outputs": [
    {
     "name": "stdout",
     "output_type": "stream",
     "text": [
      "50\n"
     ]
    }
   ],
   "source": [
    "otaz = taz_lists[0][0]\n",
    "# print otaz\n",
    "    \n",
    "results = {}\n",
    "urlfeed = \"\"\n",
    "print otaz\n",
    "origin = taz[taz['ID'] == otaz]['g_coord'].values[0]\n",
    "# get list of different destinations\n",
    "destination = ''\n",
    "dtaz_list = []\n",
    "for dtaz in taz_list:\n",
    "    if otaz != dtaz:    # skip intrazonal trips where otaz==dtaz\n",
    "        destination += taz[taz['ID'] == dtaz]['g_coord'].values[0] + '|'\n",
    "        dtaz_list.append(dtaz)\n",
    "    # remove trailing |\n",
    "destination = destination[:-1]\n",
    "\n",
    "urlfeed += \"https://maps.googleapis.com/maps/api/distancematrix/json?origins=\"+origin+\"&destinations=\"+destination+ \\\n",
    "        \"&mode=\"+mode+\"&departure_time=\"+dep_time+\"&key=\"+secret_key+\"&units=imperial\"\n",
    "\n",
    "# Fetch url and store\n",
    "results[otaz] = json.loads(urllib2.urlopen(urlfeed).read())\n",
    "results[otaz]['dtaz_list'] = taz_list"
   ]
  },
  {
   "cell_type": "code",
   "execution_count": 7,
   "metadata": {
    "collapsed": false
   },
   "outputs": [
    {
     "name": "stdout",
     "output_type": "stream",
     "text": [
      "300\n",
      "301\n",
      "302\n"
     ]
    }
   ],
   "source": [
    "for taz_list in taz_lists:\n",
    "\n",
    "    # Look up \n",
    "    for otaz in taz_list:\n",
    "        results = {}\n",
    "        urlfeed = \"\"\n",
    "        print otaz\n",
    "        origin = taz[taz['ID'] == otaz]['g_coord'].values[0]\n",
    "        # get list of different destinations\n",
    "        destination = ''\n",
    "        dtaz_list = []\n",
    "        for dtaz in taz_list:\n",
    "            if otaz != dtaz:    # skip intrazonal trips where otaz==dtaz\n",
    "                destination += taz[taz['ID'] == dtaz]['g_coord'].values[0] + '|'\n",
    "                dtaz_list.append(dtaz)\n",
    "            # remove trailing |\n",
    "        destination = destination[:-1]\n",
    "\n",
    "        urlfeed += \"https://maps.googleapis.com/maps/api/distancematrix/json?origins=\"+origin+\"&destinations=\"+destination+ \\\n",
    "                \"&mode=\"+mode+\"&departure_time=\"+dep_time+\"&key=\"+secret_key+\"&units=imperial\"\n",
    "\n",
    "        # Fetch url and store\n",
    "        results[otaz] = json.loads(urllib2.urlopen(urlfeed).read())\n",
    "        results[otaz]['dtaz_list'] = taz_list\n",
    "\n",
    "\n",
    "        # loop through each origin\n",
    "        for otaz, data in results.iteritems():\n",
    "            # loop through each destination\n",
    "            try:\n",
    "                for i in xrange(len(results[otaz]['rows'][0]['elements'])):\n",
    "                    dtaz = dtaz_list[i]\n",
    "                    dist = results[otaz]['rows'][0]['elements'][i]['distance']['value']\n",
    "                    time_ff = results[otaz]['rows'][0]['elements'][i]['duration']['value']    # free flow skim\n",
    "                    time_cong = results[otaz]['rows'][0]['elements'][i]['duration_in_traffic']['value']    # congested\n",
    "\n",
    "                    skims['auto_8_dist'][otaz-1][dtaz-1] = dist*0.000621371    # convert meters to miles\n",
    "                    skims['auto_8_time_ff'][otaz-1][dtaz-1] = time_ff/60    # convert seconds to minutes\n",
    "                    skims['auto_8_time_congested'][otaz-1][dtaz-1] = time_cong/60    # convert seconds to minutes\n",
    "            except:\n",
    "                print 'no values returned'"
   ]
  },
  {
   "cell_type": "code",
   "execution_count": 13,
   "metadata": {
    "collapsed": false
   },
   "outputs": [],
   "source": [
    "taz_lists = [xrange(i,i+25) for i in range(1,100,25)]"
   ]
  },
  {
   "cell_type": "code",
   "execution_count": 14,
   "metadata": {
    "collapsed": false
   },
   "outputs": [
    {
     "data": {
      "text/plain": [
       "[xrange(1, 26), xrange(26, 51), xrange(51, 76), xrange(76, 101)]"
      ]
     },
     "execution_count": 14,
     "metadata": {},
     "output_type": "execute_result"
    }
   ],
   "source": [
    "taz_lists"
   ]
  },
  {
   "cell_type": "code",
   "execution_count": 17,
   "metadata": {
    "collapsed": false
   },
   "outputs": [
    {
     "data": {
      "text/plain": [
       "50"
      ]
     },
     "execution_count": 17,
     "metadata": {},
     "output_type": "execute_result"
    }
   ],
   "source": [
    "taz_lists[1][-1]"
   ]
  },
  {
   "cell_type": "code",
   "execution_count": null,
   "metadata": {
    "collapsed": true
   },
   "outputs": [],
   "source": []
  }
 ],
 "metadata": {
  "kernelspec": {
   "display_name": "Python 2",
   "language": "python",
   "name": "python2"
  },
  "language_info": {
   "codemirror_mode": {
    "name": "ipython",
    "version": 2
   },
   "file_extension": ".py",
   "mimetype": "text/x-python",
   "name": "python",
   "nbconvert_exporter": "python",
   "pygments_lexer": "ipython2",
   "version": "2.7.9"
  }
 },
 "nbformat": 4,
 "nbformat_minor": 0
}
