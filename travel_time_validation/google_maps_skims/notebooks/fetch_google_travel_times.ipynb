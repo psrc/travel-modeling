{
 "cells": [
  {
   "cell_type": "markdown",
   "metadata": {},
   "source": [
    "# Fetch Google travel times"
   ]
  },
  {
   "cell_type": "code",
   "execution_count": 1,
   "metadata": {
    "collapsed": true
   },
   "outputs": [],
   "source": [
    "import urllib2, json\n",
    "import pandas as pd\n",
    "import numpy as np\n",
    "import datetime, time\n",
    "from SECRET_KEY import secret_key"
   ]
  },
  {
   "cell_type": "code",
   "execution_count": 2,
   "metadata": {
    "collapsed": true
   },
   "outputs": [],
   "source": [
    "# Load TAZ records with x and y coordinates attached\n",
    "taz = pd.read_csv(r'..\\data\\taz_xy.txt')\n",
    "\n",
    "meter_mile_conversion = 0.000621371"
   ]
  },
  {
   "cell_type": "markdown",
   "metadata": {},
   "source": [
    "- define extraction time (for future travel time predictions)\n",
    "- set skim as auto"
   ]
  },
  {
   "cell_type": "code",
   "execution_count": 3,
   "metadata": {
    "collapsed": true
   },
   "outputs": [],
   "source": [
    "# Create a Google-formatted coordinates field\n",
    "taz['g_coord'] = taz['y_gps'].astype('str') + ',' + taz['x_gps'].astype('str')"
   ]
  },
  {
   "cell_type": "markdown",
   "metadata": {},
   "source": [
    "# Look up series of travel times for a single origin"
   ]
  },
  {
   "cell_type": "code",
   "execution_count": 38,
   "metadata": {
    "collapsed": true
   },
   "outputs": [],
   "source": [
    "def fetch_times(otaz_list, dtaz_list, dep_time, traffic_model='best_guess'):\n",
    "    results = {}\n",
    "    # Look up \n",
    "    for otaz in otaz_list:\n",
    "        print 'fetching times from zone: ' + str(otaz)\n",
    "\n",
    "        urlfeed = \"\"\n",
    "\n",
    "        origin = taz[taz['ID'] == otaz]['g_coord'].values[0]\n",
    "        # get list of different destinations\n",
    "        destination = ''\n",
    "\n",
    "        for dtaz in dtaz_list:\n",
    "            if otaz != dtaz:    # skip intrazonal trips where otaz==dtaz\n",
    "                destination += taz[taz['ID'] == dtaz]['g_coord'].values[0] + '|'\n",
    "    #             dtaz_list.append(dtaz)\n",
    "            # remove trailing |\n",
    "        destination = destination[:-1]\n",
    "\n",
    "        urlfeed += \"https://maps.googleapis.com/maps/api/distancematrix/json?origins=\"+origin+\"&destinations=\"+destination+ \\\n",
    "                \"&departure_time=\"+dep_time+'&traffic_model='+traffic_model+\"&key=\"+secret_key+\"&units=imperial\"\n",
    "\n",
    "        # Fetch url and store\n",
    "        results[otaz] = json.loads(urllib2.urlopen(urlfeed).read())\n",
    "        results['traffic_model']=traffic_model\n",
    "        \n",
    "    return results"
   ]
  },
  {
   "cell_type": "code",
   "execution_count": 30,
   "metadata": {},
   "outputs": [],
   "source": [
    "# am_results['model'] = "
   ]
  },
  {
   "cell_type": "code",
   "execution_count": 57,
   "metadata": {
    "collapsed": true
   },
   "outputs": [],
   "source": [
    "def clean_results(results):\n",
    "    \"\"\"\n",
    "    Convert from json to pandas dataframe\n",
    "    \"\"\"\n",
    "    results_list = []\n",
    "    for origin in otaz_list:\n",
    "        i = 0\n",
    "        for dest in results[origin]['destination_addresses']:\n",
    "            results_dict = {}\n",
    "            results_dict['origin'] = results[origin]['origin_addresses'][0]\n",
    "            results_dict['destination'] = dest\n",
    "            results_dict['distance'] = results[origin]['rows'][0]['elements'][i]['distance']['text']\n",
    "            results_dict['time_ff'] = results[origin]['rows'][0]['elements'][i]['duration']['value']/60.0\n",
    "            results_dict['time_congested'] = results[origin]['rows'][0]['elements'][i]['duration_in_traffic']['value']/60.0\n",
    "            i+=1\n",
    "            results_list.append(results_dict)\n",
    "    \n",
    "    return pd.DataFrame(results_list)"
   ]
  },
  {
   "cell_type": "code",
   "execution_count": 95,
   "metadata": {},
   "outputs": [
    {
     "name": "stdout",
     "output_type": "stream",
     "text": [
      "fetching times from zone: 532\n",
      "fetching times from zone: 1552\n",
      "fetching times from zone: 2570\n",
      "fetching times from zone: 2286\n",
      "fetching times from zone: 3108\n"
     ]
    }
   ],
   "source": [
    "otaz_list = [532,1552,2570,2286,3108]\n",
    "dtaz_list = otaz_list\n",
    "\n",
    "# set standard departure time for tomorrow at 8 AM\n",
    "dep_hr = 8\n",
    "dep_time = datetime.datetime.now()\n",
    "\n",
    "# October 18, current year\n",
    "dep_time = dep_time.replace(hour=dep_hr,day=18,month=10)\n",
    "dep_time = str(int(time.mktime(dep_time.timetuple())))\n",
    "\n",
    "# Best Guess\n",
    "am_results = fetch_times(otaz_list, dtaz_list, dep_time, traffic_model='best_guess')\n",
    "df_am_best = clean_results(am_results)\n",
    "df_am_best['model'] = am_results['traffic_model']"
   ]
  },
  {
   "cell_type": "code",
   "execution_count": null,
   "metadata": {
    "collapsed": true
   },
   "outputs": [],
   "source": [
    "# Pessimistic\n",
    "am_results_slow = fetch_times(otaz_list, dtaz_list, dep_time, traffic_model='pessimistic')\n",
    "df_am_slow = clean_results(am_results_slow)\n",
    "df_am_slow['model'] = am_results_slow['traffic_model']"
   ]
  },
  {
   "cell_type": "code",
   "execution_count": null,
   "metadata": {
    "collapsed": true
   },
   "outputs": [],
   "source": [
    "# Optimistic\n",
    "am_results_fast = fetch_times(otaz_list, dtaz_list, dep_time, traffic_model='optimistic')\n",
    "df_am_fast = clean_results(am_results_fast)\n",
    "df_am_fast['model'] = am_results_fast['traffic_model']"
   ]
  },
  {
   "cell_type": "code",
   "execution_count": 99,
   "metadata": {},
   "outputs": [],
   "source": [
    "df_am = df_am_best.append(df_am_slow)\n",
    "df_am = df_am.append(df_am_fast)\n",
    "df_am = pd.pivot_table(df_am, index=['origin','destination'],columns='model',values='time_congested').reset_index()"
   ]
  },
  {
   "cell_type": "code",
   "execution_count": 86,
   "metadata": {},
   "outputs": [
    {
     "name": "stdout",
     "output_type": "stream",
     "text": [
      "fetching times from zone: 532\n",
      "fetching times from zone: 1552\n",
      "fetching times from zone: 2570\n",
      "fetching times from zone: 2286\n",
      "fetching times from zone: 3108\n"
     ]
    }
   ],
   "source": [
    "# PM Peak period\n",
    "dep_hr = 17\n",
    "dep_time = datetime.datetime.now()\n",
    "\n",
    "# October 18, current year\n",
    "dep_time = dep_time.replace(hour=dep_hr,day=18,month=10)\n",
    "dep_time = str(int(time.mktime(dep_time.timetuple())))\n",
    "\n",
    "# Best Guess\n",
    "pm_results = fetch_times(otaz_list, dtaz_list, dep_time, traffic_model='best_guess')\n",
    "df_pm_best = clean_results(pm_results)\n",
    "df_pm_best['model'] = am_results['traffic_model']"
   ]
  },
  {
   "cell_type": "code",
   "execution_count": 87,
   "metadata": {},
   "outputs": [
    {
     "name": "stdout",
     "output_type": "stream",
     "text": [
      "fetching times from zone: 532\n",
      "fetching times from zone: 1552\n",
      "fetching times from zone: 2570\n",
      "fetching times from zone: 2286\n",
      "fetching times from zone: 3108\n"
     ]
    }
   ],
   "source": [
    "# Pessimistic\n",
    "pm_results_slow = fetch_times(otaz_list, dtaz_list, dep_time, traffic_model='pessimistic')\n",
    "df_pm_slow = clean_results(pm_results_slow)\n",
    "df_pm_slow['model'] = pm_results_slow['traffic_model']"
   ]
  },
  {
   "cell_type": "code",
   "execution_count": 88,
   "metadata": {},
   "outputs": [
    {
     "name": "stdout",
     "output_type": "stream",
     "text": [
      "fetching times from zone: 532\n",
      "fetching times from zone: 1552\n",
      "fetching times from zone: 2570\n",
      "fetching times from zone: 2286\n",
      "fetching times from zone: 3108\n"
     ]
    }
   ],
   "source": [
    "# Optimistic\n",
    "pm_results_fast = fetch_times(otaz_list, dtaz_list, dep_time, traffic_model='optimistic')\n",
    "df_pm_fast = clean_results(pm_results_fast)\n",
    "df_pm_fast['model'] = pm_results_fast['traffic_model']"
   ]
  },
  {
   "cell_type": "code",
   "execution_count": 97,
   "metadata": {},
   "outputs": [],
   "source": [
    "df_pm = df_pm_best.append(df_pm_slow)\n",
    "df_pm = df_pm.append(df_pm_fast)\n",
    "df_pm = pd.pivot_table(df_pm, index=['origin','destination'],columns='model',values='time_congested').reset_index()"
   ]
  },
  {
   "cell_type": "code",
   "execution_count": 101,
   "metadata": {
    "collapsed": true
   },
   "outputs": [],
   "source": [
    "df_am['time'] = 'am'\n",
    "df_pm['time'] = 'pm'\n",
    "df = df_am.append(df_pm)\n",
    "df['date'] = '10/18/2017'"
   ]
  },
  {
   "cell_type": "code",
   "execution_count": 102,
   "metadata": {
    "collapsed": true
   },
   "outputs": [],
   "source": [
    "df['d_city'] = df['destination'].apply(lambda row: row.split(',')[1].strip())\n",
    "df['o_city'] = df['origin'].apply(lambda row: row.split(',')[1].strip())"
   ]
  },
  {
   "cell_type": "code",
   "execution_count": 103,
   "metadata": {
    "collapsed": true
   },
   "outputs": [],
   "source": [
    "# Look up TAZ\n",
    "taz_city = {'Seattle':532,\n",
    "           'Bellevue':1552,\n",
    "           'Lynnwood':2570,\n",
    "           'Everett':2286,\n",
    "           'Tacoma':3108}\n",
    "\n",
    "df['dtaz'] = df['d_city'].apply(lambda row: taz_city[row])\n",
    "df['otaz'] = df['o_city'].apply(lambda row: taz_city[row])"
   ]
  },
  {
   "cell_type": "code",
   "execution_count": 105,
   "metadata": {
    "collapsed": true
   },
   "outputs": [],
   "source": [
    "df.to_csv(r'C:\\Users\\Brice\\soundcast\\scripts\\summarize\\inputs\\network_summary\\od_travel_times.csv',index=False)"
   ]
  },
  {
   "cell_type": "code",
   "execution_count": null,
   "metadata": {
    "collapsed": true
   },
   "outputs": [],
   "source": []
  }
 ],
 "metadata": {
  "kernelspec": {
   "display_name": "Python 2",
   "language": "python",
   "name": "python2"
  },
  "language_info": {
   "codemirror_mode": {
    "name": "ipython",
    "version": 2
   },
   "file_extension": ".py",
   "mimetype": "text/x-python",
   "name": "python",
   "nbconvert_exporter": "python",
   "pygments_lexer": "ipython2",
   "version": "2.7.13"
  }
 },
 "nbformat": 4,
 "nbformat_minor": 1
}
