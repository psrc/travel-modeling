{
 "cells": [
  {
   "cell_type": "markdown",
   "metadata": {},
   "source": [
    "# Fetch Google travel times"
   ]
  },
  {
   "cell_type": "code",
   "execution_count": 1,
   "metadata": {
    "collapsed": false
   },
   "outputs": [],
   "source": [
    "import urllib2, json\n",
    "import pandas as pd\n",
    "import numpy as np\n",
    "import datetime, time\n",
    "from SECRET_KEY import secret_key"
   ]
  },
  {
   "cell_type": "code",
   "execution_count": 2,
   "metadata": {
    "collapsed": true
   },
   "outputs": [],
   "source": [
    "# Load TAZ records with x and y coordinates attached\n",
    "taz = pd.read_csv(r'..\\data\\taz_xy.txt')\n",
    "\n",
    "meter_mile_conversion = 0.000621371"
   ]
  },
  {
   "cell_type": "markdown",
   "metadata": {},
   "source": [
    "- define extraction time (for future travel time predictions)\n",
    "- set skim as auto"
   ]
  },
  {
   "cell_type": "code",
   "execution_count": 3,
   "metadata": {
    "collapsed": false
   },
   "outputs": [],
   "source": [
    "# Create a Google-formatted coordinates field\n",
    "taz['g_coord'] = taz['y_gps'].astype('str') + ',' + taz['x_gps'].astype('str')\n",
    "\n",
    "\n",
    "\n",
    "# set standard departure time for tomorrow at 8 AM\n",
    "dep_hr = 8\n",
    "dep_time = datetime.datetime.now()\n",
    "\n",
    "# This only works if its in the middle of the month\n",
    "# dep_time = dep_time.replace(hour=dep_hr,day=dep_time.day+1)\n",
    "# dep_time = str(int(time.mktime(dep_time.timetuple())))\n",
    "\n",
    "dep_time = dep_time.replace(hour=dep_hr,day=1,month=10)\n",
    "dep_time = str(int(time.mktime(dep_time.timetuple())))\n",
    "\n",
    "# Skims can be auto, transit, bike, or walk\n",
    "mode = 'auto'"
   ]
  },
  {
   "cell_type": "markdown",
   "metadata": {},
   "source": [
    "# Look up series of travel times for a single origin"
   ]
  },
  {
   "cell_type": "code",
   "execution_count": 22,
   "metadata": {
    "collapsed": false
   },
   "outputs": [],
   "source": [
    "otaz_list = [500,450]\n",
    "dtaz_list = [550,600,650,750,850,950,1000]"
   ]
  },
  {
   "cell_type": "code",
   "execution_count": 108,
   "metadata": {
    "collapsed": false
   },
   "outputs": [
    {
     "name": "stdout",
     "output_type": "stream",
     "text": [
      "fetching times from zone: 500\n",
      "fetching times from zone: 450\n"
     ]
    }
   ],
   "source": [
    "results = {}\n",
    "# Look up \n",
    "for otaz in otaz_list:\n",
    "    print 'fetching times from zone: ' + str(otaz)\n",
    "    \n",
    "    urlfeed = \"\"\n",
    "\n",
    "    origin = taz[taz['ID'] == otaz]['g_coord'].values[0]\n",
    "    # get list of different destinations\n",
    "    destination = ''\n",
    "\n",
    "    for dtaz in dtaz_list:\n",
    "        if otaz != dtaz:    # skip intrazonal trips where otaz==dtaz\n",
    "            destination += taz[taz['ID'] == dtaz]['g_coord'].values[0] + '|'\n",
    "#             dtaz_list.append(dtaz)\n",
    "        # remove trailing |\n",
    "    destination = destination[:-1]\n",
    "\n",
    "    urlfeed += \"https://maps.googleapis.com/maps/api/distancematrix/json?origins=\"+origin+\"&destinations=\"+destination+ \\\n",
    "            \"&mode=\"+mode+\"&departure_time=\"+dep_time+\"&key=\"+secret_key+\"&units=imperial\"\n",
    "\n",
    "    # Fetch url and store\n",
    "    results[otaz] = json.loads(urllib2.urlopen(urlfeed).read())"
   ]
  },
  {
   "cell_type": "code",
   "execution_count": 119,
   "metadata": {
    "collapsed": false
   },
   "outputs": [],
   "source": [
    "# Parse the results\n",
    "results_dict = {}\n",
    "results_dfs = {}\n",
    "df = pd.DataFrame()\n",
    "for otaz, data in results.iteritems():\n",
    "\n",
    "    results_dict[otaz] = {}\n",
    "    \n",
    "    # loop through each destination\n",
    "    i = 0\n",
    "    for dtaz in dtaz_list:\n",
    "\n",
    "        results_dict[otaz][dtaz] = {}\n",
    "        results_dict[otaz][dtaz]['dtaz'] = dtaz_list[i]\n",
    "        results_dict[otaz][dtaz]['dist'] = results[otaz]['rows'][0]['elements'][i]['distance']['value']*0.000621371    # convert meters to miles\n",
    "        results_dict[otaz][dtaz]['time_ff'] = results[otaz]['rows'][0]['elements'][i]['duration']['value']/60.0    # convert seconds to minutes\n",
    "        results_dict[otaz][dtaz]['time_cong'] = results[otaz]['rows'][0]['elements'][i]['duration_in_traffic']['value']/60.0    # congested\n",
    "        \n",
    "        i+=1\n",
    "        \n",
    "    tempdf = pd.DataFrame(results_dict[otaz]).T\n",
    "    tempdf['otaz'] = otaz\n",
    "    tempdf['dtaz'] = tempdf.index\n",
    "    tempdf = tempdf.reset_index(drop=True)\n",
    "    \n",
    "    df = pd.concat([df,tempdf])"
   ]
  },
  {
   "cell_type": "code",
   "execution_count": 121,
   "metadata": {
    "collapsed": false
   },
   "outputs": [
    {
     "data": {
      "text/html": [
       "<div style=\"max-height:1000px;max-width:1500px;overflow:auto;\">\n",
       "<table border=\"1\" class=\"dataframe\">\n",
       "  <thead>\n",
       "    <tr style=\"text-align: right;\">\n",
       "      <th></th>\n",
       "      <th>dist</th>\n",
       "      <th>dtaz</th>\n",
       "      <th>time_cong</th>\n",
       "      <th>time_ff</th>\n",
       "      <th>otaz</th>\n",
       "    </tr>\n",
       "  </thead>\n",
       "  <tbody>\n",
       "    <tr>\n",
       "      <th>0</th>\n",
       "      <td>  1.724305</td>\n",
       "      <td>  550</td>\n",
       "      <td>  9.300000</td>\n",
       "      <td> 10.483333</td>\n",
       "      <td> 450</td>\n",
       "    </tr>\n",
       "    <tr>\n",
       "      <th>1</th>\n",
       "      <td>  2.742732</td>\n",
       "      <td>  600</td>\n",
       "      <td> 13.883333</td>\n",
       "      <td> 15.766667</td>\n",
       "      <td> 450</td>\n",
       "    </tr>\n",
       "    <tr>\n",
       "      <th>2</th>\n",
       "      <td>  2.915473</td>\n",
       "      <td>  650</td>\n",
       "      <td>  8.400000</td>\n",
       "      <td>  9.183333</td>\n",
       "      <td> 450</td>\n",
       "    </tr>\n",
       "    <tr>\n",
       "      <th>3</th>\n",
       "      <td>  7.029570</td>\n",
       "      <td>  750</td>\n",
       "      <td> 13.033333</td>\n",
       "      <td> 13.733333</td>\n",
       "      <td> 450</td>\n",
       "    </tr>\n",
       "    <tr>\n",
       "      <th>4</th>\n",
       "      <td> 10.974655</td>\n",
       "      <td>  850</td>\n",
       "      <td> 18.316667</td>\n",
       "      <td> 19.333333</td>\n",
       "      <td> 450</td>\n",
       "    </tr>\n",
       "    <tr>\n",
       "      <th>5</th>\n",
       "      <td> 12.610103</td>\n",
       "      <td>  950</td>\n",
       "      <td> 16.983333</td>\n",
       "      <td> 17.600000</td>\n",
       "      <td> 450</td>\n",
       "    </tr>\n",
       "    <tr>\n",
       "      <th>6</th>\n",
       "      <td> 13.514819</td>\n",
       "      <td> 1000</td>\n",
       "      <td> 20.766667</td>\n",
       "      <td> 21.516667</td>\n",
       "      <td> 450</td>\n",
       "    </tr>\n",
       "    <tr>\n",
       "      <th>0</th>\n",
       "      <td>  0.937649</td>\n",
       "      <td>  550</td>\n",
       "      <td>  6.366667</td>\n",
       "      <td>  7.233333</td>\n",
       "      <td> 500</td>\n",
       "    </tr>\n",
       "    <tr>\n",
       "      <th>1</th>\n",
       "      <td>  1.802597</td>\n",
       "      <td>  600</td>\n",
       "      <td> 10.200000</td>\n",
       "      <td> 11.250000</td>\n",
       "      <td> 500</td>\n",
       "    </tr>\n",
       "    <tr>\n",
       "      <th>2</th>\n",
       "      <td>  2.372394</td>\n",
       "      <td>  650</td>\n",
       "      <td>  7.316667</td>\n",
       "      <td>  8.133333</td>\n",
       "      <td> 500</td>\n",
       "    </tr>\n",
       "    <tr>\n",
       "      <th>3</th>\n",
       "      <td>  6.616358</td>\n",
       "      <td>  750</td>\n",
       "      <td> 14.366667</td>\n",
       "      <td> 15.533333</td>\n",
       "      <td> 500</td>\n",
       "    </tr>\n",
       "    <tr>\n",
       "      <th>4</th>\n",
       "      <td>  9.954985</td>\n",
       "      <td>  850</td>\n",
       "      <td> 17.350000</td>\n",
       "      <td> 18.583333</td>\n",
       "      <td> 500</td>\n",
       "    </tr>\n",
       "    <tr>\n",
       "      <th>5</th>\n",
       "      <td> 13.108443</td>\n",
       "      <td>  950</td>\n",
       "      <td> 17.766667</td>\n",
       "      <td> 18.966667</td>\n",
       "      <td> 500</td>\n",
       "    </tr>\n",
       "    <tr>\n",
       "      <th>6</th>\n",
       "      <td> 13.101608</td>\n",
       "      <td> 1000</td>\n",
       "      <td> 22.083333</td>\n",
       "      <td> 23.316667</td>\n",
       "      <td> 500</td>\n",
       "    </tr>\n",
       "  </tbody>\n",
       "</table>\n",
       "</div>"
      ],
      "text/plain": [
       "        dist  dtaz  time_cong    time_ff  otaz\n",
       "0   1.724305   550   9.300000  10.483333   450\n",
       "1   2.742732   600  13.883333  15.766667   450\n",
       "2   2.915473   650   8.400000   9.183333   450\n",
       "3   7.029570   750  13.033333  13.733333   450\n",
       "4  10.974655   850  18.316667  19.333333   450\n",
       "5  12.610103   950  16.983333  17.600000   450\n",
       "6  13.514819  1000  20.766667  21.516667   450\n",
       "0   0.937649   550   6.366667   7.233333   500\n",
       "1   1.802597   600  10.200000  11.250000   500\n",
       "2   2.372394   650   7.316667   8.133333   500\n",
       "3   6.616358   750  14.366667  15.533333   500\n",
       "4   9.954985   850  17.350000  18.583333   500\n",
       "5  13.108443   950  17.766667  18.966667   500\n",
       "6  13.101608  1000  22.083333  23.316667   500"
      ]
     },
     "execution_count": 121,
     "metadata": {},
     "output_type": "execute_result"
    }
   ],
   "source": [
    "df"
   ]
  },
  {
   "cell_type": "code",
   "execution_count": null,
   "metadata": {
    "collapsed": true
   },
   "outputs": [],
   "source": []
  }
 ],
 "metadata": {
  "kernelspec": {
   "display_name": "Python 2",
   "language": "python",
   "name": "python2"
  },
  "language_info": {
   "codemirror_mode": {
    "name": "ipython",
    "version": 2
   },
   "file_extension": ".py",
   "mimetype": "text/x-python",
   "name": "python",
   "nbconvert_exporter": "python",
   "pygments_lexer": "ipython2",
   "version": "2.7.9"
  }
 },
 "nbformat": 4,
 "nbformat_minor": 0
}
