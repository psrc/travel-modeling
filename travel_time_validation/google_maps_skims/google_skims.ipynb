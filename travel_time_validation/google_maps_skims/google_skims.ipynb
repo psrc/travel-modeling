{
 "cells": [
  {
   "cell_type": "code",
   "execution_count": 3,
   "metadata": {
    "collapsed": false
   },
   "outputs": [],
   "source": [
    "import urllib2, json\n",
    "import pandas as pd\n",
    "import numpy as np\n",
    "import datetime, time\n",
    "from SECRET_KEY import secret_key"
   ]
  },
  {
   "cell_type": "code",
   "execution_count": 18,
   "metadata": {
    "collapsed": false
   },
   "outputs": [],
   "source": [
    "# Load TAZ records with x and y coordinates attached\n",
    "taz = pd.read_csv(r'R:\\Brice\\googlemaps\\taz_xy\\taz_xy.txt')\n",
    "\n",
    "# Create a Google-formatted coordinates field\n",
    "taz['g_coord'] = taz['y_gps'].astype('str') + ',' + taz['x_gps'].astype('str')\n",
    "\n",
    "\n",
    "\n",
    "# set standard departure time for tomorrow at 8 AM\n",
    "dep_hr = 8\n",
    "dep_time = datetime.datetime.now()\n",
    "dep_time = dep_time.replace(hour=dep_hr,day=dep_time.day+1)\n",
    "dep_time = str(int(time.mktime(dep_time.timetuple())))\n",
    "\n",
    "# Skims can be auto, transit, bike, or walk\n",
    "mode = 'auto'\n",
    "\n",
    "# Create empty skims to be filled with results\n",
    "skims = {'auto_8_dist': np.zeros([4000,4000]),\n",
    "    'auto_8_time_ff': np.zeros([4000,4000]),\n",
    "    'auto_8_time_congested': np.zeros([4000,4000])}\n",
    "\n",
    "# list of TAZ IDs to find data for, max size of 25 per request\n",
    "# taz_list = [range(1,25)]\n",
    "# taz_list = [xrange(i,i+25) for i in range(1,4000,25)]\n",
    "# taz_lists = [xrange(i,i+25) for i in range(1,200,25)]\n",
    "taz_lists = [xrange(i,i+25) for i in range(50,200,25)]"
   ]
  },
  {
   "cell_type": "code",
   "execution_count": 26,
   "metadata": {
    "collapsed": false
   },
   "outputs": [
    {
     "name": "stdout",
     "output_type": "stream",
     "text": [
      "50\n"
     ]
    }
   ],
   "source": [
    "otaz = taz_lists[0][0]\n",
    "# print otaz\n",
    "    \n",
    "results = {}\n",
    "urlfeed = \"\"\n",
    "print otaz\n",
    "origin = taz[taz['ID'] == otaz]['g_coord'].values[0]\n",
    "# get list of different destinations\n",
    "destination = ''\n",
    "dtaz_list = []\n",
    "for dtaz in taz_list:\n",
    "    if otaz != dtaz:    # skip intrazonal trips where otaz==dtaz\n",
    "        destination += taz[taz['ID'] == dtaz]['g_coord'].values[0] + '|'\n",
    "        dtaz_list.append(dtaz)\n",
    "    # remove trailing |\n",
    "destination = destination[:-1]\n",
    "\n",
    "urlfeed += \"https://maps.googleapis.com/maps/api/distancematrix/json?origins=\"+origin+\"&destinations=\"+destination+ \\\n",
    "        \"&mode=\"+mode+\"&departure_time=\"+dep_time+\"&key=\"+secret_key+\"&units=imperial\"\n",
    "\n",
    "# Fetch url and store\n",
    "results[otaz] = json.loads(urllib2.urlopen(urlfeed).read())\n",
    "results[otaz]['dtaz_list'] = taz_list"
   ]
  },
  {
   "cell_type": "code",
   "execution_count": 27,
   "metadata": {
    "collapsed": false
   },
   "outputs": [
    {
     "data": {
      "text/plain": [
       "{50: {u'destination_addresses': [],\n",
       "  'dtaz_list': xrange(300, 303),\n",
       "  u'error_message': u'You have exceeded your daily request quota for this API.',\n",
       "  u'origin_addresses': [],\n",
       "  u'rows': [],\n",
       "  u'status': u'OVER_QUERY_LIMIT'}}"
      ]
     },
     "execution_count": 27,
     "metadata": {},
     "output_type": "execute_result"
    }
   ],
   "source": [
    "results"
   ]
  },
  {
   "cell_type": "code",
   "execution_count": 7,
   "metadata": {
    "collapsed": false
   },
   "outputs": [
    {
     "name": "stdout",
     "output_type": "stream",
     "text": [
      "300\n",
      "301\n",
      "302\n"
     ]
    }
   ],
   "source": [
    "for taz_list in taz_lists:\n",
    "\n",
    "    # Look up \n",
    "    for otaz in taz_list:\n",
    "        results = {}\n",
    "        urlfeed = \"\"\n",
    "        print otaz\n",
    "        origin = taz[taz['ID'] == otaz]['g_coord'].values[0]\n",
    "        # get list of different destinations\n",
    "        destination = ''\n",
    "        dtaz_list = []\n",
    "        for dtaz in taz_list:\n",
    "            if otaz != dtaz:    # skip intrazonal trips where otaz==dtaz\n",
    "                destination += taz[taz['ID'] == dtaz]['g_coord'].values[0] + '|'\n",
    "                dtaz_list.append(dtaz)\n",
    "            # remove trailing |\n",
    "        destination = destination[:-1]\n",
    "\n",
    "        urlfeed += \"https://maps.googleapis.com/maps/api/distancematrix/json?origins=\"+origin+\"&destinations=\"+destination+ \\\n",
    "                \"&mode=\"+mode+\"&departure_time=\"+dep_time+\"&key=\"+secret_key+\"&units=imperial\"\n",
    "\n",
    "        # Fetch url and store\n",
    "        results[otaz] = json.loads(urllib2.urlopen(urlfeed).read())\n",
    "        results[otaz]['dtaz_list'] = taz_list\n",
    "\n",
    "\n",
    "        # loop through each origin\n",
    "        for otaz, data in results.iteritems():\n",
    "            # loop through each destination\n",
    "            try:\n",
    "                for i in xrange(len(results[otaz]['rows'][0]['elements'])):\n",
    "                    dtaz = dtaz_list[i]\n",
    "                    dist = results[otaz]['rows'][0]['elements'][i]['distance']['value']\n",
    "                    time_ff = results[otaz]['rows'][0]['elements'][i]['duration']['value']    # free flow skim\n",
    "                    time_cong = results[otaz]['rows'][0]['elements'][i]['duration_in_traffic']['value']    # congested\n",
    "\n",
    "                    skims['auto_8_dist'][otaz-1][dtaz-1] = dist*0.000621371    # convert meters to miles\n",
    "                    skims['auto_8_time_ff'][otaz-1][dtaz-1] = time_ff/60    # convert seconds to minutes\n",
    "                    skims['auto_8_time_congested'][otaz-1][dtaz-1] = time_cong/60    # convert seconds to minutes\n",
    "            except:\n",
    "                print 'no values returned'"
   ]
  },
  {
   "cell_type": "code",
   "execution_count": 13,
   "metadata": {
    "collapsed": false
   },
   "outputs": [],
   "source": [
    "taz_lists = [xrange(i,i+25) for i in range(1,100,25)]"
   ]
  },
  {
   "cell_type": "code",
   "execution_count": 14,
   "metadata": {
    "collapsed": false
   },
   "outputs": [
    {
     "data": {
      "text/plain": [
       "[xrange(1, 26), xrange(26, 51), xrange(51, 76), xrange(76, 101)]"
      ]
     },
     "execution_count": 14,
     "metadata": {},
     "output_type": "execute_result"
    }
   ],
   "source": [
    "taz_lists"
   ]
  },
  {
   "cell_type": "code",
   "execution_count": 17,
   "metadata": {
    "collapsed": false
   },
   "outputs": [
    {
     "data": {
      "text/plain": [
       "50"
      ]
     },
     "execution_count": 17,
     "metadata": {},
     "output_type": "execute_result"
    }
   ],
   "source": [
    "taz_lists[1][-1]"
   ]
  },
  {
   "cell_type": "code",
   "execution_count": 28,
   "metadata": {
    "collapsed": true
   },
   "outputs": [],
   "source": [
    "#### Where are the largest trips occuring?\n",
    "\n",
    "import h5py"
   ]
  },
  {
   "cell_type": "code",
   "execution_count": 35,
   "metadata": {
    "collapsed": true
   },
   "outputs": [],
   "source": [
    "daysim = h5py.File(r'R:\\SoundCast\\releases\\TransportationFutures2010\\outputs\\daysim_outputs.h5')"
   ]
  },
  {
   "cell_type": "code",
   "execution_count": 38,
   "metadata": {
    "collapsed": false
   },
   "outputs": [],
   "source": [
    "trip = pd.DataFrame()\n",
    "for field in daysim['Trip'].keys():\n",
    "    trip[field] = daysim['Trip'][field][:]"
   ]
  },
  {
   "cell_type": "code",
   "execution_count": 44,
   "metadata": {
    "collapsed": false
   },
   "outputs": [],
   "source": [
    "df = pd.DataFrame(trip.groupby(['otaz','dtaz']).count()['day'])"
   ]
  },
  {
   "cell_type": "code",
   "execution_count": 55,
   "metadata": {
    "collapsed": false
   },
   "outputs": [
    {
     "data": {
      "text/html": [
       "<div style=\"max-height:1000px;max-width:1500px;overflow:auto;\">\n",
       "<table border=\"1\" class=\"dataframe\">\n",
       "  <thead>\n",
       "    <tr style=\"text-align: right;\">\n",
       "      <th></th>\n",
       "      <th></th>\n",
       "      <th>day</th>\n",
       "    </tr>\n",
       "    <tr>\n",
       "      <th>otaz</th>\n",
       "      <th>dtaz</th>\n",
       "      <th></th>\n",
       "    </tr>\n",
       "  </thead>\n",
       "  <tbody>\n",
       "    <tr>\n",
       "      <th rowspan=\"30\" valign=\"top\">1   </th>\n",
       "      <th>1   </th>\n",
       "      <td> 67</td>\n",
       "    </tr>\n",
       "    <tr>\n",
       "      <th>2   </th>\n",
       "      <td> 95</td>\n",
       "    </tr>\n",
       "    <tr>\n",
       "      <th>3   </th>\n",
       "      <td> 54</td>\n",
       "    </tr>\n",
       "    <tr>\n",
       "      <th>4   </th>\n",
       "      <td> 82</td>\n",
       "    </tr>\n",
       "    <tr>\n",
       "      <th>5   </th>\n",
       "      <td> 25</td>\n",
       "    </tr>\n",
       "    <tr>\n",
       "      <th>6   </th>\n",
       "      <td> 16</td>\n",
       "    </tr>\n",
       "    <tr>\n",
       "      <th>7   </th>\n",
       "      <td> 23</td>\n",
       "    </tr>\n",
       "    <tr>\n",
       "      <th>8   </th>\n",
       "      <td> 23</td>\n",
       "    </tr>\n",
       "    <tr>\n",
       "      <th>9   </th>\n",
       "      <td> 10</td>\n",
       "    </tr>\n",
       "    <tr>\n",
       "      <th>10  </th>\n",
       "      <td>  3</td>\n",
       "    </tr>\n",
       "    <tr>\n",
       "      <th>11  </th>\n",
       "      <td> 13</td>\n",
       "    </tr>\n",
       "    <tr>\n",
       "      <th>12  </th>\n",
       "      <td>  6</td>\n",
       "    </tr>\n",
       "    <tr>\n",
       "      <th>13  </th>\n",
       "      <td> 14</td>\n",
       "    </tr>\n",
       "    <tr>\n",
       "      <th>14  </th>\n",
       "      <td> 10</td>\n",
       "    </tr>\n",
       "    <tr>\n",
       "      <th>15  </th>\n",
       "      <td>  9</td>\n",
       "    </tr>\n",
       "    <tr>\n",
       "      <th>16  </th>\n",
       "      <td> 10</td>\n",
       "    </tr>\n",
       "    <tr>\n",
       "      <th>17  </th>\n",
       "      <td>  8</td>\n",
       "    </tr>\n",
       "    <tr>\n",
       "      <th>18  </th>\n",
       "      <td>  3</td>\n",
       "    </tr>\n",
       "    <tr>\n",
       "      <th>19  </th>\n",
       "      <td>  5</td>\n",
       "    </tr>\n",
       "    <tr>\n",
       "      <th>20  </th>\n",
       "      <td> 15</td>\n",
       "    </tr>\n",
       "    <tr>\n",
       "      <th>21  </th>\n",
       "      <td>  5</td>\n",
       "    </tr>\n",
       "    <tr>\n",
       "      <th>22  </th>\n",
       "      <td>  5</td>\n",
       "    </tr>\n",
       "    <tr>\n",
       "      <th>23  </th>\n",
       "      <td>  7</td>\n",
       "    </tr>\n",
       "    <tr>\n",
       "      <th>24  </th>\n",
       "      <td> 12</td>\n",
       "    </tr>\n",
       "    <tr>\n",
       "      <th>25  </th>\n",
       "      <td> 13</td>\n",
       "    </tr>\n",
       "    <tr>\n",
       "      <th>26  </th>\n",
       "      <td> 23</td>\n",
       "    </tr>\n",
       "    <tr>\n",
       "      <th>27  </th>\n",
       "      <td> 21</td>\n",
       "    </tr>\n",
       "    <tr>\n",
       "      <th>28  </th>\n",
       "      <td>  8</td>\n",
       "    </tr>\n",
       "    <tr>\n",
       "      <th>29  </th>\n",
       "      <td> 32</td>\n",
       "    </tr>\n",
       "    <tr>\n",
       "      <th>30  </th>\n",
       "      <td> 12</td>\n",
       "    </tr>\n",
       "    <tr>\n",
       "      <th>...</th>\n",
       "      <th>...</th>\n",
       "      <td>...</td>\n",
       "    </tr>\n",
       "    <tr>\n",
       "      <th rowspan=\"30\" valign=\"top\">3906</th>\n",
       "      <th>2573</th>\n",
       "      <td>  1</td>\n",
       "    </tr>\n",
       "    <tr>\n",
       "      <th>2579</th>\n",
       "      <td>  1</td>\n",
       "    </tr>\n",
       "    <tr>\n",
       "      <th>2587</th>\n",
       "      <td>  1</td>\n",
       "    </tr>\n",
       "    <tr>\n",
       "      <th>2589</th>\n",
       "      <td>  1</td>\n",
       "    </tr>\n",
       "    <tr>\n",
       "      <th>2590</th>\n",
       "      <td>  1</td>\n",
       "    </tr>\n",
       "    <tr>\n",
       "      <th>2593</th>\n",
       "      <td>  2</td>\n",
       "    </tr>\n",
       "    <tr>\n",
       "      <th>2600</th>\n",
       "      <td>  1</td>\n",
       "    </tr>\n",
       "    <tr>\n",
       "      <th>2605</th>\n",
       "      <td>  2</td>\n",
       "    </tr>\n",
       "    <tr>\n",
       "      <th>2609</th>\n",
       "      <td>  1</td>\n",
       "    </tr>\n",
       "    <tr>\n",
       "      <th>2612</th>\n",
       "      <td>  2</td>\n",
       "    </tr>\n",
       "    <tr>\n",
       "      <th>2617</th>\n",
       "      <td>  1</td>\n",
       "    </tr>\n",
       "    <tr>\n",
       "      <th>2619</th>\n",
       "      <td>  1</td>\n",
       "    </tr>\n",
       "    <tr>\n",
       "      <th>2622</th>\n",
       "      <td>  1</td>\n",
       "    </tr>\n",
       "    <tr>\n",
       "      <th>2624</th>\n",
       "      <td>  1</td>\n",
       "    </tr>\n",
       "    <tr>\n",
       "      <th>2625</th>\n",
       "      <td>  1</td>\n",
       "    </tr>\n",
       "    <tr>\n",
       "      <th>2626</th>\n",
       "      <td>  1</td>\n",
       "    </tr>\n",
       "    <tr>\n",
       "      <th>2629</th>\n",
       "      <td>  1</td>\n",
       "    </tr>\n",
       "    <tr>\n",
       "      <th>2642</th>\n",
       "      <td>  2</td>\n",
       "    </tr>\n",
       "    <tr>\n",
       "      <th>2643</th>\n",
       "      <td>  2</td>\n",
       "    </tr>\n",
       "    <tr>\n",
       "      <th>2649</th>\n",
       "      <td>  1</td>\n",
       "    </tr>\n",
       "    <tr>\n",
       "      <th>2651</th>\n",
       "      <td>  1</td>\n",
       "    </tr>\n",
       "    <tr>\n",
       "      <th>2653</th>\n",
       "      <td>  2</td>\n",
       "    </tr>\n",
       "    <tr>\n",
       "      <th>2657</th>\n",
       "      <td>  1</td>\n",
       "    </tr>\n",
       "    <tr>\n",
       "      <th>2659</th>\n",
       "      <td>  1</td>\n",
       "    </tr>\n",
       "    <tr>\n",
       "      <th>2662</th>\n",
       "      <td>  4</td>\n",
       "    </tr>\n",
       "    <tr>\n",
       "      <th>2663</th>\n",
       "      <td>  5</td>\n",
       "    </tr>\n",
       "    <tr>\n",
       "      <th>2664</th>\n",
       "      <td>  1</td>\n",
       "    </tr>\n",
       "    <tr>\n",
       "      <th>2665</th>\n",
       "      <td>  3</td>\n",
       "    </tr>\n",
       "    <tr>\n",
       "      <th>2666</th>\n",
       "      <td>  1</td>\n",
       "    </tr>\n",
       "    <tr>\n",
       "      <th>2667</th>\n",
       "      <td>  2</td>\n",
       "    </tr>\n",
       "  </tbody>\n",
       "</table>\n",
       "<p>2591904 rows × 1 columns</p>\n",
       "</div>"
      ],
      "text/plain": [
       "           day\n",
       "otaz dtaz     \n",
       "1    1      67\n",
       "     2      95\n",
       "     3      54\n",
       "     4      82\n",
       "     5      25\n",
       "     6      16\n",
       "     7      23\n",
       "     8      23\n",
       "     9      10\n",
       "     10      3\n",
       "     11     13\n",
       "     12      6\n",
       "     13     14\n",
       "     14     10\n",
       "     15      9\n",
       "     16     10\n",
       "     17      8\n",
       "     18      3\n",
       "     19      5\n",
       "     20     15\n",
       "     21      5\n",
       "     22      5\n",
       "     23      7\n",
       "     24     12\n",
       "     25     13\n",
       "     26     23\n",
       "     27     21\n",
       "     28      8\n",
       "     29     32\n",
       "     30     12\n",
       "...        ...\n",
       "3906 2573    1\n",
       "     2579    1\n",
       "     2587    1\n",
       "     2589    1\n",
       "     2590    1\n",
       "     2593    2\n",
       "     2600    1\n",
       "     2605    2\n",
       "     2609    1\n",
       "     2612    2\n",
       "     2617    1\n",
       "     2619    1\n",
       "     2622    1\n",
       "     2624    1\n",
       "     2625    1\n",
       "     2626    1\n",
       "     2629    1\n",
       "     2642    2\n",
       "     2643    2\n",
       "     2649    1\n",
       "     2651    1\n",
       "     2653    2\n",
       "     2657    1\n",
       "     2659    1\n",
       "     2662    4\n",
       "     2663    5\n",
       "     2664    1\n",
       "     2665    3\n",
       "     2666    1\n",
       "     2667    2\n",
       "\n",
       "[2591904 rows x 1 columns]"
      ]
     },
     "execution_count": 55,
     "metadata": {},
     "output_type": "execute_result"
    }
   ],
   "source": []
  },
  {
   "cell_type": "code",
   "execution_count": 53,
   "metadata": {
    "collapsed": false
   },
   "outputs": [
    {
     "data": {
      "text/plain": [
       "15397776"
      ]
     },
     "execution_count": 53,
     "metadata": {},
     "output_type": "execute_result"
    }
   ],
   "source": [
    "len(trip)"
   ]
  },
  {
   "cell_type": "code",
   "execution_count": null,
   "metadata": {
    "collapsed": true
   },
   "outputs": [],
   "source": []
  }
 ],
 "metadata": {
  "kernelspec": {
   "display_name": "Python 2",
   "language": "python",
   "name": "python2"
  },
  "language_info": {
   "codemirror_mode": {
    "name": "ipython",
    "version": 2
   },
   "file_extension": ".py",
   "mimetype": "text/x-python",
   "name": "python",
   "nbconvert_exporter": "python",
   "pygments_lexer": "ipython2",
   "version": "2.7.9"
  }
 },
 "nbformat": 4,
 "nbformat_minor": 0
}
